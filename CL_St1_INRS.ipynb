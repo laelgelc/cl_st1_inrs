{
 "cells": [
  {
   "cell_type": "markdown",
   "id": "810d9f10-ec19-4b09-8f90-e983e460b319",
   "metadata": {},
   "source": [
    "<center>\n",
    "<img src=\"https://laelgelcpublic.s3.sa-east-1.amazonaws.com/lael_50_years_narrow_white.png.no_years.400px_96dpi.png\" width=\"300\" alt=\"LAEL 50 years logo\">\n",
    "<h3>APPLIED LINGUISTICS GRADUATE PROGRAMME (LAEL)</h3>\n",
    "</center>\n",
    "<hr>"
   ]
  },
  {
   "cell_type": "markdown",
   "id": "888c2c96-2fc3-4a1a-995b-c388036a2a15",
   "metadata": {},
   "source": [
    "# Corpus Linguistics - Study 1 - INRS"
   ]
  },
  {
   "cell_type": "markdown",
   "id": "7a9c2af7-9fc1-4f51-a4f5-2ed915b93039",
   "metadata": {},
   "source": [
    "## Importing the required libraries"
   ]
  },
  {
   "cell_type": "code",
   "execution_count": 1,
   "id": "e6689499-d19d-4b0c-befd-f88926b7105d",
   "metadata": {},
   "outputs": [],
   "source": [
    "import requests\n",
    "from bs4 import BeautifulSoup\n",
    "import re\n",
    "import pandas as pd"
   ]
  },
  {
   "cell_type": "markdown",
   "id": "55c6f018-cd90-44bf-904b-b4e4a4402031",
   "metadata": {},
   "source": [
    "## Capturing the debate transcript urls"
   ]
  },
  {
   "cell_type": "code",
   "execution_count": 2,
   "id": "a710e042-7817-41d8-ae30-07ace114cff0",
   "metadata": {},
   "outputs": [
    {
     "name": "stdout",
     "output_type": "stream",
     "text": [
      "Home: /\n",
      "About CPD: /about-cpd/\n",
      "Debate History: /debate-history/\n",
      "News: /news/\n",
      "DebateWatch: /debatewatch/\n",
      "Voter Education: /voter-education/\n",
      "International: /international/\n",
      "Media: /media/\n",
      "Debate Videos: /voter-education/debate-videos/\n",
      "Debate Transcripts: /voter-education/debate-transcripts/\n",
      "October 07, 2020 Vice Presidential Debate Transcript: /voter-education/debate-transcripts/vice-presidential-debate-at-the-university-of-utah-in-salt-lake-city-utah/\n",
      "October 22, 2020 Debate Transcript: /voter-education/debate-transcripts/october-22-2020-debate-transcript/\n",
      "September 29, 2020 Debate Transcript: /voter-education/debate-transcripts/september-29-2020-debate-transcript/\n",
      "October 19, 2016 Debate Transcript: /voter-education/debate-transcripts/october-19-2016-debate-transcript/\n",
      "October 9, 2016 Debate Transcript: /voter-education/debate-transcripts/october-9-2016-debate-transcript/\n",
      "October 4, 2016 Debate Transcript: /voter-education/debate-transcripts/october-4-2016-debate-transcript/\n",
      "September 26, 2016 Debate Transcript: /voter-education/debate-transcripts/september-26-2016-debate-transcript/\n",
      "October 22, 2012 Debate Transcript: /voter-education/debate-transcripts/october-22-2012-the-third-obama-romney-presidential-debate/\n",
      "October 16, 2012 Debate Transcript: /voter-education/debate-transcripts/october-16-2012-the-second-obama-romney-presidential-debate/\n",
      "October 11, 2012 Debate Transcript: /voter-education/debate-transcripts/october-11-2012-the-biden-romney-vice-presidential-debate/\n",
      "October 3, 2012 Debate Transcript: /voter-education/debate-transcripts/october-3-2012-debate-transcript/\n",
      "September 26, 2008 Debate Transcript: /voter-education/debate-transcripts/2008-debate-transcript/\n",
      "October 2, 2008 Debate Transcript: /voter-education/debate-transcripts/2008-debate-transcript-2/\n",
      "October 7, 2008 Debate Transcript: /voter-education/debate-transcripts/october-7-2008-debate-transcrip/\n",
      "October 15, 2008 Debate Transcript: /voter-education/debate-transcripts/october-15-2008-debate-transcript/\n",
      "October 13, 2004 Debate Transcript: /voter-education/debate-transcripts/october-13-2004-debate-transcript/\n",
      "October 8, 2004 Debate Transcript: /voter-education/debate-transcripts/october-8-2004-debate-transcript/\n",
      "October 5, 2004 Transcript: /voter-education/debate-transcripts/october-5-2004-transcript/\n",
      "September 30, 2004 Debate Transcript: /voter-education/debate-transcripts/september-30-2004-debate-transcript/\n",
      "October 17, 2000 Debate Transcript: /voter-education/debate-transcripts/october-17-2000-debate-transcript/\n",
      "October 11, 2000 Debate Transcript: /voter-education/debate-transcripts/october-11-2000-debate-transcript/\n",
      "October 5, 2000 Debate Transcript: /voter-education/debate-transcripts/october-5-2000-debate-transcript/\n",
      "October 3, 2000 Transcript: /voter-education/debate-transcripts/october-3-2000-transcript/\n",
      "October 16, 1996 Debate Transcript: /voter-education/debate-transcripts/october-16-1996-debate-transcript/\n",
      "October 9, 1996 Debate Transcript: /voter-education/debate-transcripts/october-9-1996-debate-transcript/\n",
      "October 6, 1996 Debate Transcript: /voter-education/debate-transcripts/october-6-1996-debate-transcript/\n",
      "October 19, 1992 Debate Transcript: /voter-education/debate-transcripts/october-19-1992-debate-transcript/\n",
      "October 15, 1992 First Half Debate Transcript: /voter-education/debate-transcripts/october-15-1992-first-half-debate-transcript/\n",
      "October 15, 1992 Second Half Debate Transcript: /voter-education/debate-transcripts/october-15-1992-second-half-debate-transcript/\n",
      "October 13, 1992 Debate Transcript: /voter-education/debate-transcripts/october-13-1992-debate-transcript/\n",
      "October 11, 1992 First Half Debate Transcript: /voter-education/debate-transcripts/october-11-1992-first-half-debate-transcript/\n",
      "October 11, 1992 Second Half Debate Transcript: /voter-education/debate-transcripts/october-11-1992-second-half-debate-transcript/\n",
      "October 13, 1988 Debate Transcript: /voter-education/debate-transcripts/october-13-1988-debate-transcript/\n",
      "October 5, 1988 Debate Transcripts: /voter-education/debate-transcripts/october-5-1988-debate-transcripts/\n",
      "September 25, 1988 Debate Transcript: /voter-education/debate-transcripts/september-25-1988-debate-transcript/\n",
      "October 21, 1984 Debate Transcript: /voter-education/debate-transcripts/october-21-1984-debate-transcript/\n",
      "October 11, 1984 Debate Transcript: /voter-education/debate-transcripts/october-11-1984-debate-transcript/\n",
      "October 7, 1984 Debate Transcript: /voter-education/debate-transcripts/october-7-1984-debate-transcript/\n",
      "October 28, 1980 Debate Transcript: /voter-education/debate-transcripts/october-28-1980-debate-transcript/\n",
      "September 21, 1980 Debate Transcript: /voter-education/debate-transcripts/september-21-1980-debate-transcript/\n",
      "October 22, 1976 Debate Transcript: /voter-education/debate-transcripts/october-22-1976-debate-transcript/\n",
      "October 6, 1976 Debate Transcript: /voter-education/debate-transcripts/october-6-1976-debate-transcript/\n",
      "September 23, 1976 Debate Transcript: /voter-education/debate-transcripts/september-23-1976-debate-transcript/\n",
      "October 21, 1960 Debate Transcript: /voter-education/debate-transcripts/october-21-1960-debate-transcript/\n",
      "October 13, 1960 Debate Transcript: /voter-education/debate-transcripts/october-13-1960-debate-transcript/\n",
      "October 7, 1960 Debate Transcript: /voter-education/debate-transcripts/october-7-1960-debate-transcript/\n",
      "September 26, 1960 Debate Transcript: /voter-education/debate-transcripts/september-26-1960-debate-transcript/\n",
      "Debate Transcript Translations: /voter-education/debate-transcripts/2000-debate-transcripts-translations/\n",
      "Citizen Resources: /voter-education/citizen-resources/\n",
      "State Boards of Election: /voter-education/state-boards-of-election/\n",
      "September 29, 2020: Presidential Debate: https://www.debates.org/voter-education/debate-transcripts/september-29-2020-debate-transcript/\n",
      "October 07, 2020: Vice Presidential Debate: http://debates.org/voter-education/debate-transcripts/vice-presidential-debate-at-the-university-of-utah-in-salt-lake-city-utah/\n",
      "October 22, 2020: Presidential Debate: https://www.debates.org/voter-education/debate-transcripts/october-22-2020-debate-transcript/\n",
      "September 26, 2016: The First Clinton-Trump Presidential Debate: /voter-education/debate-transcripts/september-26-2016-debate-transcript/\n",
      "October 4, 2016: The Kain-Pence Vice Presidential Debate: /voter-education/debate-transcripts/october-4-2016-debate-transcript/\n",
      "October 9, 2016: The Second Clinton-Trump Presidential Debate: /voter-education/debate-transcripts/october-9-2016-debate-transcript/\n",
      "October 19, 2016: The Third Clinton-Trump Presidential Debate: /voter-education/debate-transcripts/october-19-2016-debate-transcript/\n",
      "October 3, 2012: The First Obama-Romney Presidential Debate: /voter-education/debate-transcripts/october-3-2012-debate-transcript/\n",
      "October 11, 2012: The Biden-Ryan Vice Presidential Debate: /voter-education/debate-transcripts/october-11-2012-the-biden-romney-vice-presidential-debate/\n",
      "October 16, 2012: The Second Obama-Romney Presidential Debate: /voter-education/debate-transcripts/october-16-2012-the-second-obama-romney-presidential-debate/\n",
      "October 22, 2012: The Third Obama-Romney Presidential Debate: /voter-education/debate-transcripts/october-22-2012-the-third-obama-romney-presidential-debate/\n",
      "September 26, 2008: The First McCain-Obama Presidential Debate: /voter-education/debate-transcripts/2008-debate-transcript/\n",
      "October 2, 2008: The Biden-Palin Vice Presidential Debate: /voter-education/debate-transcripts/2008-debate-transcript-2/\n",
      "October 7, 2008: The Second McCain-Obama Presidential Debate: /voter-education/debate-transcripts/october-7-2008-debate-transcrip/\n",
      "October 15, 2008: The Third McCain-Obama Presidential Debate: /voter-education/debate-transcripts/october-15-2008-debate-transcript/\n",
      "October 13, 2004: The Third Bush-Kerry Presidential Debate: /voter-education/debate-transcripts/october-13-2004-debate-transcript/\n",
      "October 8, 2004: The Second Bush-Kerry Presidential Debate: /voter-education/debate-transcripts/october-8-2004-debate-transcript/\n",
      "October 5, 2004: The Cheney-Edwards Vice Presidential Debate: /voter-education/debate-transcripts/october-5-2004-transcript/\n",
      "September 30, 2004: The First Bush-Kerry Presidential Debate: /voter-education/debate-transcripts/september-30-2004-debate-transcript/\n",
      "October 3, 2000: The First Gore-Bush Presidential Debate: /voter-education/debate-transcripts/october-3-2000-transcript/\n",
      "October 5, 2000: The Lieberman-Cheney Vice Presidential Debate: /voter-education/debate-transcripts/october-5-2000-debate-transcript/\n",
      "October 11, 2000: The Second Gore-Bush Presidential Debate: /voter-education/debate-transcripts/october-11-2000-debate-transcript/\n",
      "October 17, 2000: The Third Gore-Bush Presidential Debate: /voter-education/debate-transcripts/october-17-2000-debate-transcript/\n",
      "The 2000 Debate Transcripts: Transcripts of the debates translated into six languages: /voter-education/debate-transcripts/2000-debate-transcripts-translations/\n",
      "October 6, 1996: The First Clinton-Dole Presidential Debate: /voter-education/debate-transcripts/october-6-1996-debate-transcript/\n",
      "October 9, 1996: The Gore-Kemp Vice Presidential Debate: /voter-education/debate-transcripts/october-9-1996-debate-transcript/\n",
      "October 16, 1996: The Second Clinton-Dole Presidential Debate: /voter-education/debate-transcripts/october-16-1996-debate-transcript/\n",
      "First half of Debate: /voter-education/debate-transcripts/october-11-1992-first-half-debate-transcript/\n",
      "Second half of Debate: /voter-education/debate-transcripts/october-11-1992-second-half-debate-transcript/\n",
      "October 13, 1992: The Gore-Quayle-Stockdale Vice Presidential Debate: /voter-education/debate-transcripts/october-13-1992-debate-transcript/\n",
      "First half of Debate: /voter-education/debate-transcripts/october-15-1992-first-half-debate-transcript/\n",
      "Second half of Debate: /voter-education/debate-transcripts/october-15-1992-second-half-debate-transcript/\n",
      "October 19, 1992: The Third Clinton-Bush-Perot Presidential Debate: /voter-education/debate-transcripts/october-19-1992-debate-transcript/\n",
      "September 25, 1988: The First Bush-Dukakis Presidential Debate: /voter-education/debate-transcripts/september-25-1988-debate-transcript/\n",
      "October 5, 1988: The Bentsen-Quayle Vice Presidential Debate: /voter-education/debate-transcripts/october-5-1988-debate-transcripts/\n",
      "October 13, 1988: The Second Bush-Dukakis Presidential Debate: /voter-education/debate-transcripts/october-13-1988-debate-transcript/\n",
      "October 7, 1984: The First Reagan-Mondale Presidential Debate: /voter-education/debate-transcripts/october-7-1984-debate-transcript/\n",
      "October 11, 1984: The Bush-Ferraro Vice Presidential Debate: /voter-education/debate-transcripts/october-11-1984-debate-transcript/\n",
      "October 21, 1984: The Second Reagan-Mondale Presidential Debate: /voter-education/debate-transcripts/october-21-1984-debate-transcript/\n",
      "September 21, 1980: The Anderson-Reagan Presidential Debate: /voter-education/debate-transcripts/september-21-1980-debate-transcript/\n",
      "October 28, 1980: The Carter-Reagan Presidential Debate: /voter-education/debate-transcripts/october-28-1980-debate-transcript/\n",
      "September 23, 1976: The First Carter-Ford Presidential Debate: /voter-education/debate-transcripts/september-23-1976-debate-transcript/\n",
      "October 6, 1976: The Second Carter-Ford Presidential Debate: /voter-education/debate-transcripts/october-6-1976-debate-transcript/\n",
      "October 22, 1976: The Third Carter-Ford Presidential Debate: /voter-education/debate-transcripts/october-22-1976-debate-transcript/\n",
      "September 26, 1960: The First Kennedy-Nixon Presidential Debate: /voter-education/debate-transcripts/september-26-1960-debate-transcript/\n",
      "October 7, 1960: The Second Kennedy-Nixon Presidential Debate: /voter-education/debate-transcripts/october-7-1960-debate-transcript/\n",
      "October 13, 1960: The Third Kennedy-Nixon Presidential Debate: /voter-education/debate-transcripts/october-13-1960-debate-transcript/\n",
      "October 21, 1960: The Fourth Kennedy-Nixon Presidential Debate: /voter-education/debate-transcripts/october-21-1960-debate-transcript/\n",
      "Home: /\n",
      "About CPD: /about-cpd/\n",
      "Debate History: /debate-history/\n",
      "News: /news/\n",
      "Voter Education: /voter-education/\n",
      "International: /international/\n",
      "Media: /media/\n"
     ]
    }
   ],
   "source": [
    "url = 'https://www.debates.org/voter-education/debate-transcripts/'\n",
    "response = requests.get(url)\n",
    "\n",
    "if response.status_code == 200:\n",
    "    page_content = response.content\n",
    "    # Step 2: Parse HTML content\n",
    "    soup = BeautifulSoup(page_content, 'lxml')\n",
    "\n",
    "    # Find all anchor tags within the blockquote\n",
    "    for anchor in soup.find_all('a'):\n",
    "        print(f\"{anchor.text}: {anchor.get('href')}\")  # Print text content and href attribute\n",
    "\n",
    "else:\n",
    "    print(f'Failed to retrieve the page. Status code: {response.status_code}')"
   ]
  },
  {
   "cell_type": "markdown",
   "id": "90ba4016-90d3-4765-a438-7acbdc920713",
   "metadata": {},
   "source": [
    "### Defining input variables"
   ]
  },
  {
   "cell_type": "code",
   "execution_count": 3,
   "id": "f4d1d470-238b-4301-8f04-7dce704f00bb",
   "metadata": {},
   "outputs": [],
   "source": [
    "# Debate Transcripts\n",
    "debate_1 = 'September 29, 2020 Debate Transcript'\n",
    "debate_url_1 = 'https://www.debates.org/voter-education/debate-transcripts/september-29-2020-debate-transcript/'\n",
    "\n",
    "debate_2 = 'October 07, 2020 Vice Presidential Debate Transcript'\n",
    "debate_url_2 = 'https://www.debates.org/voter-education/debate-transcripts/vice-presidential-debate-at-the-university-of-utah-in-salt-lake-city-utah/'\n",
    "\n",
    "debate_3 = 'October 22, 2020 Debate Transcript'\n",
    "debate_url_3 = 'https://www.debates.org/voter-education/debate-transcripts/october-22-2020-debate-transcript/'\n",
    "\n",
    "debate_4 = 'September 26, 2016 Debate Transcript'\n",
    "debate_url_4 = 'https://www.debates.org/voter-education/debate-transcripts/september-26-2016-debate-transcript/'\n",
    "\n",
    "debate_5 = 'October 4, 2016 Debate Transcript'\n",
    "debate_url_5 = 'https://www.debates.org/voter-education/debate-transcripts/october-4-2016-debate-transcript/'\n",
    "\n",
    "debate_6 = 'October 9, 2016 Debate Transcript'\n",
    "debate_url_6 = 'https://www.debates.org/voter-education/debate-transcripts/october-9-2016-debate-transcript/'\n",
    "\n",
    "debate_7 = 'October 19, 2016 Debate Transcript'\n",
    "debate_url_7 = 'https://www.debates.org/voter-education/debate-transcripts/october-19-2016-debate-transcript/'\n",
    "\n",
    "debate_8 = 'October 3, 2012 Debate Transcript'\n",
    "debate_url_8 = 'https://www.debates.org/voter-education/debate-transcripts/october-3-2012-debate-transcript/'\n",
    "\n",
    "debate_9 = 'October 11, 2012 Debate Transcript'\n",
    "debate_url_9 = 'https://www.debates.org/voter-education/debate-transcripts/october-11-2012-the-biden-romney-vice-presidential-debate/'\n",
    "\n",
    "debate_10 = 'October 16, 2012 Debate Transcript'\n",
    "debate_url_10 = 'https://www.debates.org/voter-education/debate-transcripts/october-16-2012-the-second-obama-romney-presidential-debate/'\n",
    "\n",
    "debate_11 = 'October 22, 2012 Debate Transcript'\n",
    "debate_url_11 = 'https://www.debates.org/voter-education/debate-transcripts/october-22-2012-the-third-obama-romney-presidential-debate/'\n",
    "\n",
    "debate_12 = 'September 26, 2008 Debate Transcript'\n",
    "debate_url_12 = 'https://www.debates.org/voter-education/debate-transcripts/2008-debate-transcript/'\n",
    "\n",
    "debate_13 = 'October 2, 2008 Debate Transcript'\n",
    "debate_url_13 = 'https://www.debates.org/voter-education/debate-transcripts/2008-debate-transcript-2/'\n",
    "\n",
    "debate_14 = 'October 7, 2008 Debate Transcript'\n",
    "debate_url_14 = 'https://www.debates.org/voter-education/debate-transcripts/october-7-2008-debate-transcrip/'\n",
    "\n",
    "debate_15 = 'October 15, 2008 Debate Transcript'\n",
    "debate_url_15 = 'https://www.debates.org/voter-education/debate-transcripts/october-15-2008-debate-transcript/'\n",
    "\n",
    "debate_16 = 'October 13, 2004 Debate Transcript'\n",
    "debate_url_16 = 'https://www.debates.org/voter-education/debate-transcripts/october-13-2004-debate-transcript/'\n",
    "\n",
    "debate_17 = 'October 8, 2004 Debate Transcript'\n",
    "debate_url_17 = 'https://www.debates.org/voter-education/debate-transcripts/october-8-2004-debate-transcript/'\n",
    "\n",
    "debate_18 = 'October 5, 2004 Transcript'\n",
    "debate_url_18 = 'https://www.debates.org/voter-education/debate-transcripts/october-5-2004-transcript/'\n",
    "\n",
    "debate_19 = 'September 30, 2004 Debate Transcript'\n",
    "debate_url_19 = 'https://www.debates.org/voter-education/debate-transcripts/september-30-2004-debate-transcript/'\n",
    "\n",
    "debate_20 = 'October 3, 2000 Transcript'\n",
    "debate_url_20 = 'https://www.debates.org/voter-education/debate-transcripts/october-3-2000-transcript/'\n",
    "\n",
    "debate_21 = 'October 5, 2000 Debate Transcript'\n",
    "debate_url_21 = 'https://www.debates.org/voter-education/debate-transcripts/october-5-2000-debate-transcript/'\n",
    "\n",
    "debate_22 = 'October 11, 2000 Debate Transcript'\n",
    "debate_url_22 = 'https://www.debates.org/voter-education/debate-transcripts/october-11-2000-debate-transcript/'\n",
    "\n",
    "debate_23 = 'October 17, 2000 Debate Transcript'\n",
    "debate_url_23 = 'https://www.debates.org/voter-education/debate-transcripts/october-17-2000-debate-transcript/'\n",
    "\n",
    "debate_24 = 'October 6, 1996 Debate Transcript'\n",
    "debate_url_24 = 'https://www.debates.org/voter-education/debate-transcripts/october-6-1996-debate-transcript/'\n",
    "\n",
    "debate_25 = 'October 9, 1996 Debate Transcript'\n",
    "debate_url_25 = 'https://www.debates.org/voter-education/debate-transcripts/october-9-1996-debate-transcript/'\n",
    "\n",
    "debate_26 = 'October 16, 1996 Debate Transcript'\n",
    "debate_url_26 = 'https://www.debates.org/voter-education/debate-transcripts/october-16-1996-debate-transcript/'\n",
    "\n",
    "debate_27 = 'October 11, 1992 First Half Debate Transcript'\n",
    "debate_url_27 = 'https://www.debates.org/voter-education/debate-transcripts/october-11-1992-first-half-debate-transcript/'\n",
    "\n",
    "debate_28 = 'October 11, 1992 Second Half Debate Transcript'\n",
    "debate_url_28 = 'https://www.debates.org/voter-education/debate-transcripts/october-11-1992-second-half-debate-transcript/'\n",
    "\n",
    "debate_29 = 'October 13, 1992 Debate Transcript'\n",
    "debate_url_29 = 'https://www.debates.org/voter-education/debate-transcripts/october-13-1992-debate-transcript/'\n",
    "\n",
    "debate_30 = 'October 15, 1992 First Half Debate Transcript'\n",
    "debate_url_30 = 'https://www.debates.org/voter-education/debate-transcripts/october-15-1992-first-half-debate-transcript/'\n",
    "\n",
    "debate_31 = 'October 15, 1992 Second Half Debate Transcript'\n",
    "debate_url_31 = 'https://www.debates.org/voter-education/debate-transcripts/october-15-1992-second-half-debate-transcript/'\n",
    "\n",
    "debate_32 = 'October 19, 1992 Debate Transcript'\n",
    "debate_url_32 = 'https://www.debates.org/voter-education/debate-transcripts/october-19-1992-debate-transcript/'\n",
    "\n",
    "debate_33 = 'September 25, 1988 Debate Transcript'\n",
    "debate_url_33 = 'https://www.debates.org/voter-education/debate-transcripts/september-25-1988-debate-transcript/'\n",
    "\n",
    "debate_34 = 'October 5, 1988 Debate Transcripts'\n",
    "debate_url_34 = 'https://www.debates.org/voter-education/debate-transcripts/october-5-1988-debate-transcripts/'\n",
    "\n",
    "debate_35 = 'October 13, 1988 Debate Transcript'\n",
    "debate_url_35 = 'https://www.debates.org/voter-education/debate-transcripts/october-13-1988-debate-transcript/'\n",
    "\n",
    "debate_36 = 'October 7, 1984 Debate Transcript'\n",
    "debate_url_36 = 'https://www.debates.org/voter-education/debate-transcripts/october-7-1984-debate-transcript/'\n",
    "\n",
    "debate_37 = 'October 11, 1984 Debate Transcript'\n",
    "debate_url_37 = 'https://www.debates.org/voter-education/debate-transcripts/october-11-1984-debate-transcript/'\n",
    "\n",
    "debate_38 = 'October 21, 1984 Debate Transcript'\n",
    "debate_url_38 = 'https://www.debates.org/voter-education/debate-transcripts/october-21-1984-debate-transcript/'\n",
    "\n",
    "debate_39 = 'September 21, 1980 Debate Transcript'\n",
    "debate_url_39 = 'https://www.debates.org/voter-education/debate-transcripts/september-21-1980-debate-transcript/'\n",
    "\n",
    "debate_40 = 'October 28, 1980 Debate Transcript'\n",
    "debate_url_40 = 'https://www.debates.org/voter-education/debate-transcripts/october-28-1980-debate-transcript/'\n",
    "\n",
    "debate_41 = 'September 23, 1976 Debate Transcript'\n",
    "debate_url_41 = 'https://www.debates.org/voter-education/debate-transcripts/september-23-1976-debate-transcript/'\n",
    "\n",
    "debate_42 = 'October 6, 1976 Debate Transcript'\n",
    "debate_url_42 = 'https://www.debates.org/voter-education/debate-transcripts/october-6-1976-debate-transcript/'\n",
    "\n",
    "debate_43 = 'October 22, 1976 Debate Transcript'\n",
    "debate_url_43 = 'https://www.debates.org/voter-education/debate-transcripts/october-22-1976-debate-transcript/'\n",
    "\n",
    "debate_44 = 'September 26, 1960 Debate Transcript'\n",
    "debate_url_44 = 'https://www.debates.org/voter-education/debate-transcripts/september-26-1960-debate-transcript/'\n",
    "\n",
    "debate_45 = 'October 7, 1960 Debate Transcript'\n",
    "debate_url_45 = 'https://www.debates.org/voter-education/debate-transcripts/october-7-1960-debate-transcript/'\n",
    "\n",
    "debate_46 = 'October 13, 1960 Debate Transcript'\n",
    "debate_url_46 = 'https://www.debates.org/voter-education/debate-transcripts/october-13-1960-debate-transcript/'\n",
    "\n",
    "debate_47 = 'October 21, 1960 Debate Transcript'\n",
    "debate_url_47 = 'https://www.debates.org/voter-education/debate-transcripts/october-21-1960-debate-transcript/'"
   ]
  },
  {
   "cell_type": "markdown",
   "id": "9a79a002-c182-4021-9b77-99ad470582af",
   "metadata": {},
   "source": [
    "## Debate 1"
   ]
  },
  {
   "cell_type": "markdown",
   "id": "c0d1ee95-44d8-4613-8e6e-efb4ca802da7",
   "metadata": {},
   "source": [
    "### Importing the text into a dataframe"
   ]
  },
  {
   "cell_type": "code",
   "execution_count": 4,
   "id": "8e8bbe9d-22e5-4f0e-a669-45135fed38e6",
   "metadata": {},
   "outputs": [],
   "source": [
    "debate_title = debate_1\n",
    "url = debate_url_1\n",
    "response = requests.get(url)\n",
    "\n",
    "if response.status_code == 200:\n",
    "    page_content = response.content\n",
    "    # Step 2: Parse HTML content\n",
    "    soup = BeautifulSoup(page_content, 'lxml')\n",
    "\n",
    "    # Extract relevant tags (e.g., <h1>, <p>, etc.) and store them in a list\n",
    "    rows = []\n",
    "    for tag in soup.find_all(['h1', 'p']):\n",
    "        rows.append(tag.text.strip())  # Remove leading/trailing spaces\n",
    "    \n",
    "    # Create a DataFrame from the list of rows\n",
    "    df = pd.DataFrame(rows, columns=['Text'])\n",
    "\n",
    "else:\n",
    "    print(f'Failed to retrieve the page. Status code: {response.status_code}')"
   ]
  },
  {
   "cell_type": "code",
   "execution_count": 5,
   "id": "7daecd7e-0a0f-499e-a0bd-7f5397478d3b",
   "metadata": {},
   "outputs": [
    {
     "data": {
      "text/html": [
       "<div>\n",
       "<style scoped>\n",
       "    .dataframe tbody tr th:only-of-type {\n",
       "        vertical-align: middle;\n",
       "    }\n",
       "\n",
       "    .dataframe tbody tr th {\n",
       "        vertical-align: top;\n",
       "    }\n",
       "\n",
       "    .dataframe thead th {\n",
       "        text-align: right;\n",
       "    }\n",
       "</style>\n",
       "<table border=\"1\" class=\"dataframe\">\n",
       "  <thead>\n",
       "    <tr style=\"text-align: right;\">\n",
       "      <th></th>\n",
       "      <th>Text</th>\n",
       "    </tr>\n",
       "  </thead>\n",
       "  <tbody>\n",
       "    <tr>\n",
       "      <th>0</th>\n",
       "      <td>September 29, 2020 Debate Transcript</td>\n",
       "    </tr>\n",
       "    <tr>\n",
       "      <th>1</th>\n",
       "      <td>Presidential Debate at Case Western Reserve Un...</td>\n",
       "    </tr>\n",
       "    <tr>\n",
       "      <th>2</th>\n",
       "      <td>September 29, 2020</td>\n",
       "    </tr>\n",
       "    <tr>\n",
       "      <th>3</th>\n",
       "      <td>PARTICIPANTS:\\nFormer Vice President Joe Biden...</td>\n",
       "    </tr>\n",
       "    <tr>\n",
       "      <th>4</th>\n",
       "      <td>MODERATOR:\\nChris Wallace (Fox News)</td>\n",
       "    </tr>\n",
       "    <tr>\n",
       "      <th>...</th>\n",
       "      <td>...</td>\n",
       "    </tr>\n",
       "    <tr>\n",
       "      <th>874</th>\n",
       "      <td>TRUMP: I want to see an honest ballot count.</td>\n",
       "    </tr>\n",
       "    <tr>\n",
       "      <th>875</th>\n",
       "      <td>WALLACE: We’re going to leave it there. . .</td>\n",
       "    </tr>\n",
       "    <tr>\n",
       "      <th>876</th>\n",
       "      <td>TRUMP: And I think he does too. . .</td>\n",
       "    </tr>\n",
       "    <tr>\n",
       "      <th>877</th>\n",
       "      <td>WALLACE: … to be continued in more debates as ...</td>\n",
       "    </tr>\n",
       "    <tr>\n",
       "      <th>878</th>\n",
       "      <td>© COPYRIGHT 2020 THE COMMISSION ON PRESIDENTIA...</td>\n",
       "    </tr>\n",
       "  </tbody>\n",
       "</table>\n",
       "<p>879 rows × 1 columns</p>\n",
       "</div>"
      ],
      "text/plain": [
       "                                                  Text\n",
       "0                 September 29, 2020 Debate Transcript\n",
       "1    Presidential Debate at Case Western Reserve Un...\n",
       "2                                   September 29, 2020\n",
       "3    PARTICIPANTS:\\nFormer Vice President Joe Biden...\n",
       "4                 MODERATOR:\\nChris Wallace (Fox News)\n",
       "..                                                 ...\n",
       "874       TRUMP: I want to see an honest ballot count.\n",
       "875        WALLACE: We’re going to leave it there. . .\n",
       "876                TRUMP: And I think he does too. . .\n",
       "877  WALLACE: … to be continued in more debates as ...\n",
       "878  © COPYRIGHT 2020 THE COMMISSION ON PRESIDENTIA...\n",
       "\n",
       "[879 rows x 1 columns]"
      ]
     },
     "execution_count": 5,
     "metadata": {},
     "output_type": "execute_result"
    }
   ],
   "source": [
    "df"
   ]
  },
  {
   "cell_type": "code",
   "execution_count": 6,
   "id": "84d16ec4-8016-4e24-8ab7-301727062fc1",
   "metadata": {},
   "outputs": [
    {
     "data": {
      "text/html": [
       "<div>\n",
       "<style scoped>\n",
       "    .dataframe tbody tr th:only-of-type {\n",
       "        vertical-align: middle;\n",
       "    }\n",
       "\n",
       "    .dataframe tbody tr th {\n",
       "        vertical-align: top;\n",
       "    }\n",
       "\n",
       "    .dataframe thead th {\n",
       "        text-align: right;\n",
       "    }\n",
       "</style>\n",
       "<table border=\"1\" class=\"dataframe\">\n",
       "  <thead>\n",
       "    <tr style=\"text-align: right;\">\n",
       "      <th></th>\n",
       "      <th>Text</th>\n",
       "    </tr>\n",
       "  </thead>\n",
       "  <tbody>\n",
       "    <tr>\n",
       "      <th>0</th>\n",
       "      <td>September 29, 2020 Debate Transcript</td>\n",
       "    </tr>\n",
       "    <tr>\n",
       "      <th>1</th>\n",
       "      <td>Presidential Debate at Case Western Reserve Un...</td>\n",
       "    </tr>\n",
       "    <tr>\n",
       "      <th>2</th>\n",
       "      <td>September 29, 2020</td>\n",
       "    </tr>\n",
       "    <tr>\n",
       "      <th>3</th>\n",
       "      <td>PARTICIPANTS:\\nFormer Vice President Joe Biden...</td>\n",
       "    </tr>\n",
       "    <tr>\n",
       "      <th>4</th>\n",
       "      <td>MODERATOR:\\nChris Wallace (Fox News)</td>\n",
       "    </tr>\n",
       "    <tr>\n",
       "      <th>5</th>\n",
       "      <td>WALLACE: Good evening from the Health Educatio...</td>\n",
       "    </tr>\n",
       "    <tr>\n",
       "      <th>6</th>\n",
       "      <td>This debate is being conducted under health an...</td>\n",
       "    </tr>\n",
       "    <tr>\n",
       "      <th>7</th>\n",
       "      <td>BIDEN: How you doing, man?</td>\n",
       "    </tr>\n",
       "    <tr>\n",
       "      <th>8</th>\n",
       "      <td>TRUMP: How are you doing?</td>\n",
       "    </tr>\n",
       "    <tr>\n",
       "      <th>9</th>\n",
       "      <td>BIDEN: I’m well.</td>\n",
       "    </tr>\n",
       "  </tbody>\n",
       "</table>\n",
       "</div>"
      ],
      "text/plain": [
       "                                                Text\n",
       "0               September 29, 2020 Debate Transcript\n",
       "1  Presidential Debate at Case Western Reserve Un...\n",
       "2                                 September 29, 2020\n",
       "3  PARTICIPANTS:\\nFormer Vice President Joe Biden...\n",
       "4               MODERATOR:\\nChris Wallace (Fox News)\n",
       "5  WALLACE: Good evening from the Health Educatio...\n",
       "6  This debate is being conducted under health an...\n",
       "7                         BIDEN: How you doing, man?\n",
       "8                          TRUMP: How are you doing?\n",
       "9                                   BIDEN: I’m well."
      ]
     },
     "execution_count": 6,
     "metadata": {},
     "output_type": "execute_result"
    }
   ],
   "source": [
    "df.head(10)"
   ]
  },
  {
   "cell_type": "markdown",
   "id": "873f029a-a7e9-4b18-bf80-6fc2f4b73ca4",
   "metadata": {},
   "source": [
    "### Creating the column `Title`"
   ]
  },
  {
   "cell_type": "code",
   "execution_count": 7,
   "id": "fe75879c-f933-4ef5-9b6b-f4ced359e723",
   "metadata": {},
   "outputs": [],
   "source": [
    "title = df.at[0, 'Text']\n",
    "df['Title'] = title"
   ]
  },
  {
   "cell_type": "markdown",
   "id": "ff27619e-c5e1-4e4e-8786-9ab6db49210a",
   "metadata": {},
   "source": [
    "### Creating the column `Debate`"
   ]
  },
  {
   "cell_type": "code",
   "execution_count": 8,
   "id": "bb225558-7a9b-41d4-9e0a-9bde77dd63c5",
   "metadata": {},
   "outputs": [],
   "source": [
    "debate = df.at[1, 'Text']\n",
    "df['Debate'] = debate"
   ]
  },
  {
   "cell_type": "markdown",
   "id": "e184eb1b-fd41-4b39-abc5-6f78ec436ed5",
   "metadata": {},
   "source": [
    "### Creating the column `Date`"
   ]
  },
  {
   "cell_type": "code",
   "execution_count": 9,
   "id": "f0148426-8e5e-48ca-905c-0a19539ee89d",
   "metadata": {},
   "outputs": [],
   "source": [
    "date = df.at[2, 'Text']\n",
    "df['Date'] = date"
   ]
  },
  {
   "cell_type": "markdown",
   "id": "f13d918f-d7e2-40a3-8b63-b12b09c6db09",
   "metadata": {},
   "source": [
    "### Creating the column `Participants`"
   ]
  },
  {
   "cell_type": "code",
   "execution_count": 10,
   "id": "cf9ca38f-cc60-4b3a-b3c5-59b80f45230b",
   "metadata": {},
   "outputs": [],
   "source": [
    "participants = df.at[3, 'Text']\n",
    "participants = re.sub(r'^\\w+:\\n', '', participants)\n",
    "participants = re.sub(r'\\n', ' ', participants)\n",
    "df['Participants'] = participants"
   ]
  },
  {
   "cell_type": "markdown",
   "id": "43732af7-a477-46f8-a27e-405fea0fe7c3",
   "metadata": {},
   "source": [
    "### Creating the column `Moderators`"
   ]
  },
  {
   "cell_type": "code",
   "execution_count": 11,
   "id": "56eedc7d-625c-40d0-a0fd-4d50b32abe25",
   "metadata": {},
   "outputs": [],
   "source": [
    "moderators = df.at[4, 'Text']\n",
    "moderators = re.sub(r'^\\w+:\\n', '', moderators)\n",
    "df['Moderators'] = moderators"
   ]
  },
  {
   "cell_type": "markdown",
   "id": "6fed9cd4-ec7f-46c5-bee8-19c5584602dd",
   "metadata": {},
   "source": [
    "### Dropping the `COPYRIGHT` row"
   ]
  },
  {
   "cell_type": "code",
   "execution_count": 12,
   "id": "e0b3a69e-7a8b-4b8a-bf61-8c749d007383",
   "metadata": {},
   "outputs": [
    {
     "data": {
      "text/plain": [
       "'© COPYRIGHT 2020 THE COMMISSION ON PRESIDENTIAL DEBATES. ALL RIGHTS RESERVED.'"
      ]
     },
     "execution_count": 12,
     "metadata": {},
     "output_type": "execute_result"
    }
   ],
   "source": [
    "last_row = 878\n",
    "df.loc[last_row, 'Text']"
   ]
  },
  {
   "cell_type": "code",
   "execution_count": 13,
   "id": "55c706b6-7073-4e95-8325-d4ba48a4e666",
   "metadata": {},
   "outputs": [],
   "source": [
    "df = df[~df['Text'].str.contains(df.loc[last_row, 'Text'])]"
   ]
  },
  {
   "cell_type": "code",
   "execution_count": 14,
   "id": "4dc85702-cdaf-437b-af69-cfbef05b1173",
   "metadata": {},
   "outputs": [
    {
     "data": {
      "text/html": [
       "<div>\n",
       "<style scoped>\n",
       "    .dataframe tbody tr th:only-of-type {\n",
       "        vertical-align: middle;\n",
       "    }\n",
       "\n",
       "    .dataframe tbody tr th {\n",
       "        vertical-align: top;\n",
       "    }\n",
       "\n",
       "    .dataframe thead th {\n",
       "        text-align: right;\n",
       "    }\n",
       "</style>\n",
       "<table border=\"1\" class=\"dataframe\">\n",
       "  <thead>\n",
       "    <tr style=\"text-align: right;\">\n",
       "      <th></th>\n",
       "      <th>Text</th>\n",
       "      <th>Title</th>\n",
       "      <th>Debate</th>\n",
       "      <th>Date</th>\n",
       "      <th>Participants</th>\n",
       "      <th>Moderators</th>\n",
       "    </tr>\n",
       "  </thead>\n",
       "  <tbody>\n",
       "    <tr>\n",
       "      <th>0</th>\n",
       "      <td>September 29, 2020 Debate Transcript</td>\n",
       "      <td>September 29, 2020 Debate Transcript</td>\n",
       "      <td>Presidential Debate at Case Western Reserve Un...</td>\n",
       "      <td>September 29, 2020</td>\n",
       "      <td>Former Vice President Joe Biden (D) and Presid...</td>\n",
       "      <td>Chris Wallace (Fox News)</td>\n",
       "    </tr>\n",
       "    <tr>\n",
       "      <th>1</th>\n",
       "      <td>Presidential Debate at Case Western Reserve Un...</td>\n",
       "      <td>September 29, 2020 Debate Transcript</td>\n",
       "      <td>Presidential Debate at Case Western Reserve Un...</td>\n",
       "      <td>September 29, 2020</td>\n",
       "      <td>Former Vice President Joe Biden (D) and Presid...</td>\n",
       "      <td>Chris Wallace (Fox News)</td>\n",
       "    </tr>\n",
       "    <tr>\n",
       "      <th>2</th>\n",
       "      <td>September 29, 2020</td>\n",
       "      <td>September 29, 2020 Debate Transcript</td>\n",
       "      <td>Presidential Debate at Case Western Reserve Un...</td>\n",
       "      <td>September 29, 2020</td>\n",
       "      <td>Former Vice President Joe Biden (D) and Presid...</td>\n",
       "      <td>Chris Wallace (Fox News)</td>\n",
       "    </tr>\n",
       "    <tr>\n",
       "      <th>3</th>\n",
       "      <td>PARTICIPANTS:\\nFormer Vice President Joe Biden...</td>\n",
       "      <td>September 29, 2020 Debate Transcript</td>\n",
       "      <td>Presidential Debate at Case Western Reserve Un...</td>\n",
       "      <td>September 29, 2020</td>\n",
       "      <td>Former Vice President Joe Biden (D) and Presid...</td>\n",
       "      <td>Chris Wallace (Fox News)</td>\n",
       "    </tr>\n",
       "    <tr>\n",
       "      <th>4</th>\n",
       "      <td>MODERATOR:\\nChris Wallace (Fox News)</td>\n",
       "      <td>September 29, 2020 Debate Transcript</td>\n",
       "      <td>Presidential Debate at Case Western Reserve Un...</td>\n",
       "      <td>September 29, 2020</td>\n",
       "      <td>Former Vice President Joe Biden (D) and Presid...</td>\n",
       "      <td>Chris Wallace (Fox News)</td>\n",
       "    </tr>\n",
       "    <tr>\n",
       "      <th>...</th>\n",
       "      <td>...</td>\n",
       "      <td>...</td>\n",
       "      <td>...</td>\n",
       "      <td>...</td>\n",
       "      <td>...</td>\n",
       "      <td>...</td>\n",
       "    </tr>\n",
       "    <tr>\n",
       "      <th>873</th>\n",
       "      <td>WALLACE: Gentlemen, just say that’s the end of...</td>\n",
       "      <td>September 29, 2020 Debate Transcript</td>\n",
       "      <td>Presidential Debate at Case Western Reserve Un...</td>\n",
       "      <td>September 29, 2020</td>\n",
       "      <td>Former Vice President Joe Biden (D) and Presid...</td>\n",
       "      <td>Chris Wallace (Fox News)</td>\n",
       "    </tr>\n",
       "    <tr>\n",
       "      <th>874</th>\n",
       "      <td>TRUMP: I want to see an honest ballot count.</td>\n",
       "      <td>September 29, 2020 Debate Transcript</td>\n",
       "      <td>Presidential Debate at Case Western Reserve Un...</td>\n",
       "      <td>September 29, 2020</td>\n",
       "      <td>Former Vice President Joe Biden (D) and Presid...</td>\n",
       "      <td>Chris Wallace (Fox News)</td>\n",
       "    </tr>\n",
       "    <tr>\n",
       "      <th>875</th>\n",
       "      <td>WALLACE: We’re going to leave it there. . .</td>\n",
       "      <td>September 29, 2020 Debate Transcript</td>\n",
       "      <td>Presidential Debate at Case Western Reserve Un...</td>\n",
       "      <td>September 29, 2020</td>\n",
       "      <td>Former Vice President Joe Biden (D) and Presid...</td>\n",
       "      <td>Chris Wallace (Fox News)</td>\n",
       "    </tr>\n",
       "    <tr>\n",
       "      <th>876</th>\n",
       "      <td>TRUMP: And I think he does too. . .</td>\n",
       "      <td>September 29, 2020 Debate Transcript</td>\n",
       "      <td>Presidential Debate at Case Western Reserve Un...</td>\n",
       "      <td>September 29, 2020</td>\n",
       "      <td>Former Vice President Joe Biden (D) and Presid...</td>\n",
       "      <td>Chris Wallace (Fox News)</td>\n",
       "    </tr>\n",
       "    <tr>\n",
       "      <th>877</th>\n",
       "      <td>WALLACE: … to be continued in more debates as ...</td>\n",
       "      <td>September 29, 2020 Debate Transcript</td>\n",
       "      <td>Presidential Debate at Case Western Reserve Un...</td>\n",
       "      <td>September 29, 2020</td>\n",
       "      <td>Former Vice President Joe Biden (D) and Presid...</td>\n",
       "      <td>Chris Wallace (Fox News)</td>\n",
       "    </tr>\n",
       "  </tbody>\n",
       "</table>\n",
       "<p>878 rows × 6 columns</p>\n",
       "</div>"
      ],
      "text/plain": [
       "                                                  Text  \\\n",
       "0                 September 29, 2020 Debate Transcript   \n",
       "1    Presidential Debate at Case Western Reserve Un...   \n",
       "2                                   September 29, 2020   \n",
       "3    PARTICIPANTS:\\nFormer Vice President Joe Biden...   \n",
       "4                 MODERATOR:\\nChris Wallace (Fox News)   \n",
       "..                                                 ...   \n",
       "873  WALLACE: Gentlemen, just say that’s the end of...   \n",
       "874       TRUMP: I want to see an honest ballot count.   \n",
       "875        WALLACE: We’re going to leave it there. . .   \n",
       "876                TRUMP: And I think he does too. . .   \n",
       "877  WALLACE: … to be continued in more debates as ...   \n",
       "\n",
       "                                    Title  \\\n",
       "0    September 29, 2020 Debate Transcript   \n",
       "1    September 29, 2020 Debate Transcript   \n",
       "2    September 29, 2020 Debate Transcript   \n",
       "3    September 29, 2020 Debate Transcript   \n",
       "4    September 29, 2020 Debate Transcript   \n",
       "..                                    ...   \n",
       "873  September 29, 2020 Debate Transcript   \n",
       "874  September 29, 2020 Debate Transcript   \n",
       "875  September 29, 2020 Debate Transcript   \n",
       "876  September 29, 2020 Debate Transcript   \n",
       "877  September 29, 2020 Debate Transcript   \n",
       "\n",
       "                                                Debate                Date  \\\n",
       "0    Presidential Debate at Case Western Reserve Un...  September 29, 2020   \n",
       "1    Presidential Debate at Case Western Reserve Un...  September 29, 2020   \n",
       "2    Presidential Debate at Case Western Reserve Un...  September 29, 2020   \n",
       "3    Presidential Debate at Case Western Reserve Un...  September 29, 2020   \n",
       "4    Presidential Debate at Case Western Reserve Un...  September 29, 2020   \n",
       "..                                                 ...                 ...   \n",
       "873  Presidential Debate at Case Western Reserve Un...  September 29, 2020   \n",
       "874  Presidential Debate at Case Western Reserve Un...  September 29, 2020   \n",
       "875  Presidential Debate at Case Western Reserve Un...  September 29, 2020   \n",
       "876  Presidential Debate at Case Western Reserve Un...  September 29, 2020   \n",
       "877  Presidential Debate at Case Western Reserve Un...  September 29, 2020   \n",
       "\n",
       "                                          Participants  \\\n",
       "0    Former Vice President Joe Biden (D) and Presid...   \n",
       "1    Former Vice President Joe Biden (D) and Presid...   \n",
       "2    Former Vice President Joe Biden (D) and Presid...   \n",
       "3    Former Vice President Joe Biden (D) and Presid...   \n",
       "4    Former Vice President Joe Biden (D) and Presid...   \n",
       "..                                                 ...   \n",
       "873  Former Vice President Joe Biden (D) and Presid...   \n",
       "874  Former Vice President Joe Biden (D) and Presid...   \n",
       "875  Former Vice President Joe Biden (D) and Presid...   \n",
       "876  Former Vice President Joe Biden (D) and Presid...   \n",
       "877  Former Vice President Joe Biden (D) and Presid...   \n",
       "\n",
       "                   Moderators  \n",
       "0    Chris Wallace (Fox News)  \n",
       "1    Chris Wallace (Fox News)  \n",
       "2    Chris Wallace (Fox News)  \n",
       "3    Chris Wallace (Fox News)  \n",
       "4    Chris Wallace (Fox News)  \n",
       "..                        ...  \n",
       "873  Chris Wallace (Fox News)  \n",
       "874  Chris Wallace (Fox News)  \n",
       "875  Chris Wallace (Fox News)  \n",
       "876  Chris Wallace (Fox News)  \n",
       "877  Chris Wallace (Fox News)  \n",
       "\n",
       "[878 rows x 6 columns]"
      ]
     },
     "execution_count": 14,
     "metadata": {},
     "output_type": "execute_result"
    }
   ],
   "source": [
    "df"
   ]
  },
  {
   "cell_type": "markdown",
   "id": "6a7432a0-c0ae-4505-9e40-8e10e648fa49",
   "metadata": {},
   "source": [
    "### Dropping the rows that were used to create the columns"
   ]
  },
  {
   "cell_type": "code",
   "execution_count": 15,
   "id": "66feed5b-ec3f-4d2e-bada-975ff69f1ddc",
   "metadata": {},
   "outputs": [],
   "source": [
    "df = df.loc[5:]\n",
    "df = df.reset_index(drop=True)"
   ]
  },
  {
   "cell_type": "code",
   "execution_count": 16,
   "id": "d02139a0-018f-46e6-a6bd-030afe683c2b",
   "metadata": {},
   "outputs": [
    {
     "data": {
      "text/html": [
       "<div>\n",
       "<style scoped>\n",
       "    .dataframe tbody tr th:only-of-type {\n",
       "        vertical-align: middle;\n",
       "    }\n",
       "\n",
       "    .dataframe tbody tr th {\n",
       "        vertical-align: top;\n",
       "    }\n",
       "\n",
       "    .dataframe thead th {\n",
       "        text-align: right;\n",
       "    }\n",
       "</style>\n",
       "<table border=\"1\" class=\"dataframe\">\n",
       "  <thead>\n",
       "    <tr style=\"text-align: right;\">\n",
       "      <th></th>\n",
       "      <th>Text</th>\n",
       "      <th>Title</th>\n",
       "      <th>Debate</th>\n",
       "      <th>Date</th>\n",
       "      <th>Participants</th>\n",
       "      <th>Moderators</th>\n",
       "    </tr>\n",
       "  </thead>\n",
       "  <tbody>\n",
       "    <tr>\n",
       "      <th>0</th>\n",
       "      <td>WALLACE: Good evening from the Health Educatio...</td>\n",
       "      <td>September 29, 2020 Debate Transcript</td>\n",
       "      <td>Presidential Debate at Case Western Reserve Un...</td>\n",
       "      <td>September 29, 2020</td>\n",
       "      <td>Former Vice President Joe Biden (D) and Presid...</td>\n",
       "      <td>Chris Wallace (Fox News)</td>\n",
       "    </tr>\n",
       "  </tbody>\n",
       "</table>\n",
       "</div>"
      ],
      "text/plain": [
       "                                                Text  \\\n",
       "0  WALLACE: Good evening from the Health Educatio...   \n",
       "\n",
       "                                  Title  \\\n",
       "0  September 29, 2020 Debate Transcript   \n",
       "\n",
       "                                              Debate                Date  \\\n",
       "0  Presidential Debate at Case Western Reserve Un...  September 29, 2020   \n",
       "\n",
       "                                        Participants                Moderators  \n",
       "0  Former Vice President Joe Biden (D) and Presid...  Chris Wallace (Fox News)  "
      ]
     },
     "execution_count": 16,
     "metadata": {},
     "output_type": "execute_result"
    }
   ],
   "source": [
    "df.head(1)"
   ]
  },
  {
   "cell_type": "markdown",
   "id": "4d68e288-3bb5-440f-aa3d-9ecf03d0e877",
   "metadata": {},
   "source": [
    "### Dropping the rows that start with a few selected expressions in the column 'Text'"
   ]
  },
  {
   "cell_type": "code",
   "execution_count": 17,
   "id": "0bdc1ba9-1016-4800-9625-9ea3f7e149c6",
   "metadata": {},
   "outputs": [
    {
     "data": {
      "text/plain": [
       "Text\n",
       "False    873\n",
       "Name: count, dtype: int64"
      ]
     },
     "execution_count": 17,
     "metadata": {},
     "output_type": "execute_result"
    }
   ],
   "source": [
    "# List of expressions whose rows in the column 'Text' should be dropped\n",
    "expressions_to_drop = ['(APPLAUSE)', '(LAUGHTER)', '(CROSSTALK)']\n",
    "\n",
    "# Creating a boolean mask for rows starting with the specified expressions\n",
    "mask = df['Text'].str.startswith(tuple(expressions_to_drop))\n",
    "\n",
    "# Counting the number of rows for each expression\n",
    "counts = mask.value_counts()\n",
    "\n",
    "# Display the counts\n",
    "counts"
   ]
  },
  {
   "cell_type": "code",
   "execution_count": 18,
   "id": "0ff2cc7c-f7e6-4b85-8fe0-b3555d690f6a",
   "metadata": {},
   "outputs": [],
   "source": [
    "# Dropping the rows that start with those expressions in the column 'Text'\n",
    "df = df[~mask]\n",
    "df = df.reset_index(drop=True)"
   ]
  },
  {
   "cell_type": "markdown",
   "id": "0bff832b-0ff0-4e6e-b191-4b10ae8badca",
   "metadata": {},
   "source": [
    "### Creating the column `Speaker`"
   ]
  },
  {
   "cell_type": "code",
   "execution_count": 19,
   "id": "d3d3d024-e30b-4f1d-aec5-deb3e4e4aa4c",
   "metadata": {},
   "outputs": [
    {
     "data": {
      "text/plain": [
       "'WALLACE:\\xa0Good evening from the Health Education Campus of Case Western Reserve University and the Cleveland Clinic. I’m Chris Wallace of Fox News and I welcome you to the first of the 2020 presidential debates between President Donald J. Trump and former Vice President Joe Biden. This debate is sponsored by the Commission on Presidential Debates. The Commission has designed the format, six roughly 15-minute segments with two-minute answers from each candidate to the first question, then open discussion for the rest of each segment. Both campaigns have agreed to these rules. For the record, I decided the topics and the questions in each topic. I can assure you none of the questions has been shared with the Commission or the two candidates.'"
      ]
     },
     "execution_count": 19,
     "metadata": {},
     "output_type": "execute_result"
    }
   ],
   "source": [
    "df.loc[0, 'Text']"
   ]
  },
  {
   "cell_type": "code",
   "execution_count": 20,
   "id": "41694893-2770-44c5-859e-280e143e67c3",
   "metadata": {},
   "outputs": [],
   "source": [
    "df.at[0, 'Speaker'] = 1 # Adding column 'Speaker' by initialising it with a numeric value in order to avoid DtypeWarning\n",
    "df = df.astype('object') # Converting the column to the desired data type\n",
    "\n",
    "for index, row in df.iterrows():\n",
    "    match = re.match(r'^(\\w+):\\xa0', row['Text'])\n",
    "    if match:\n",
    "        speaker = match.group(1)\n",
    "        df.at[index, 'Speaker'] = speaker\n",
    "        text_without_speaker = row['Text'][len(match.group(0)):]\n",
    "        df.at[index, 'Text'] = text_without_speaker\n",
    "    else:\n",
    "        # Handle the case when no match is found (optional)\n",
    "        #df.at[index, 'Speaker'] = ''  # Set a default value\n",
    "        pass"
   ]
  },
  {
   "cell_type": "code",
   "execution_count": 21,
   "id": "7143f8ae-b9a7-4876-807c-72632ce16d07",
   "metadata": {},
   "outputs": [
    {
     "data": {
      "text/html": [
       "<div>\n",
       "<style scoped>\n",
       "    .dataframe tbody tr th:only-of-type {\n",
       "        vertical-align: middle;\n",
       "    }\n",
       "\n",
       "    .dataframe tbody tr th {\n",
       "        vertical-align: top;\n",
       "    }\n",
       "\n",
       "    .dataframe thead th {\n",
       "        text-align: right;\n",
       "    }\n",
       "</style>\n",
       "<table border=\"1\" class=\"dataframe\">\n",
       "  <thead>\n",
       "    <tr style=\"text-align: right;\">\n",
       "      <th></th>\n",
       "      <th>Text</th>\n",
       "      <th>Title</th>\n",
       "      <th>Debate</th>\n",
       "      <th>Date</th>\n",
       "      <th>Participants</th>\n",
       "      <th>Moderators</th>\n",
       "      <th>Speaker</th>\n",
       "    </tr>\n",
       "  </thead>\n",
       "  <tbody>\n",
       "    <tr>\n",
       "      <th>0</th>\n",
       "      <td>Good evening from the Health Education Campus ...</td>\n",
       "      <td>September 29, 2020 Debate Transcript</td>\n",
       "      <td>Presidential Debate at Case Western Reserve Un...</td>\n",
       "      <td>September 29, 2020</td>\n",
       "      <td>Former Vice President Joe Biden (D) and Presid...</td>\n",
       "      <td>Chris Wallace (Fox News)</td>\n",
       "      <td>WALLACE</td>\n",
       "    </tr>\n",
       "    <tr>\n",
       "      <th>1</th>\n",
       "      <td>This debate is being conducted under health an...</td>\n",
       "      <td>September 29, 2020 Debate Transcript</td>\n",
       "      <td>Presidential Debate at Case Western Reserve Un...</td>\n",
       "      <td>September 29, 2020</td>\n",
       "      <td>Former Vice President Joe Biden (D) and Presid...</td>\n",
       "      <td>Chris Wallace (Fox News)</td>\n",
       "      <td>NaN</td>\n",
       "    </tr>\n",
       "    <tr>\n",
       "      <th>2</th>\n",
       "      <td>How you doing, man?</td>\n",
       "      <td>September 29, 2020 Debate Transcript</td>\n",
       "      <td>Presidential Debate at Case Western Reserve Un...</td>\n",
       "      <td>September 29, 2020</td>\n",
       "      <td>Former Vice President Joe Biden (D) and Presid...</td>\n",
       "      <td>Chris Wallace (Fox News)</td>\n",
       "      <td>BIDEN</td>\n",
       "    </tr>\n",
       "    <tr>\n",
       "      <th>3</th>\n",
       "      <td>How are you doing?</td>\n",
       "      <td>September 29, 2020 Debate Transcript</td>\n",
       "      <td>Presidential Debate at Case Western Reserve Un...</td>\n",
       "      <td>September 29, 2020</td>\n",
       "      <td>Former Vice President Joe Biden (D) and Presid...</td>\n",
       "      <td>Chris Wallace (Fox News)</td>\n",
       "      <td>TRUMP</td>\n",
       "    </tr>\n",
       "    <tr>\n",
       "      <th>4</th>\n",
       "      <td>I’m well.</td>\n",
       "      <td>September 29, 2020 Debate Transcript</td>\n",
       "      <td>Presidential Debate at Case Western Reserve Un...</td>\n",
       "      <td>September 29, 2020</td>\n",
       "      <td>Former Vice President Joe Biden (D) and Presid...</td>\n",
       "      <td>Chris Wallace (Fox News)</td>\n",
       "      <td>BIDEN</td>\n",
       "    </tr>\n",
       "    <tr>\n",
       "      <th>...</th>\n",
       "      <td>...</td>\n",
       "      <td>...</td>\n",
       "      <td>...</td>\n",
       "      <td>...</td>\n",
       "      <td>...</td>\n",
       "      <td>...</td>\n",
       "      <td>...</td>\n",
       "    </tr>\n",
       "    <tr>\n",
       "      <th>868</th>\n",
       "      <td>Gentlemen, just say that’s the end of it [cros...</td>\n",
       "      <td>September 29, 2020 Debate Transcript</td>\n",
       "      <td>Presidential Debate at Case Western Reserve Un...</td>\n",
       "      <td>September 29, 2020</td>\n",
       "      <td>Former Vice President Joe Biden (D) and Presid...</td>\n",
       "      <td>Chris Wallace (Fox News)</td>\n",
       "      <td>WALLACE</td>\n",
       "    </tr>\n",
       "    <tr>\n",
       "      <th>869</th>\n",
       "      <td>I want to see an honest ballot count.</td>\n",
       "      <td>September 29, 2020 Debate Transcript</td>\n",
       "      <td>Presidential Debate at Case Western Reserve Un...</td>\n",
       "      <td>September 29, 2020</td>\n",
       "      <td>Former Vice President Joe Biden (D) and Presid...</td>\n",
       "      <td>Chris Wallace (Fox News)</td>\n",
       "      <td>TRUMP</td>\n",
       "    </tr>\n",
       "    <tr>\n",
       "      <th>870</th>\n",
       "      <td>We’re going to leave it there. . .</td>\n",
       "      <td>September 29, 2020 Debate Transcript</td>\n",
       "      <td>Presidential Debate at Case Western Reserve Un...</td>\n",
       "      <td>September 29, 2020</td>\n",
       "      <td>Former Vice President Joe Biden (D) and Presid...</td>\n",
       "      <td>Chris Wallace (Fox News)</td>\n",
       "      <td>WALLACE</td>\n",
       "    </tr>\n",
       "    <tr>\n",
       "      <th>871</th>\n",
       "      <td>And I think he does too. . .</td>\n",
       "      <td>September 29, 2020 Debate Transcript</td>\n",
       "      <td>Presidential Debate at Case Western Reserve Un...</td>\n",
       "      <td>September 29, 2020</td>\n",
       "      <td>Former Vice President Joe Biden (D) and Presid...</td>\n",
       "      <td>Chris Wallace (Fox News)</td>\n",
       "      <td>TRUMP</td>\n",
       "    </tr>\n",
       "    <tr>\n",
       "      <th>872</th>\n",
       "      <td>… to be continued in more debates as we go on....</td>\n",
       "      <td>September 29, 2020 Debate Transcript</td>\n",
       "      <td>Presidential Debate at Case Western Reserve Un...</td>\n",
       "      <td>September 29, 2020</td>\n",
       "      <td>Former Vice President Joe Biden (D) and Presid...</td>\n",
       "      <td>Chris Wallace (Fox News)</td>\n",
       "      <td>WALLACE</td>\n",
       "    </tr>\n",
       "  </tbody>\n",
       "</table>\n",
       "<p>873 rows × 7 columns</p>\n",
       "</div>"
      ],
      "text/plain": [
       "                                                  Text  \\\n",
       "0    Good evening from the Health Education Campus ...   \n",
       "1    This debate is being conducted under health an...   \n",
       "2                                  How you doing, man?   \n",
       "3                                   How are you doing?   \n",
       "4                                            I’m well.   \n",
       "..                                                 ...   \n",
       "868  Gentlemen, just say that’s the end of it [cros...   \n",
       "869              I want to see an honest ballot count.   \n",
       "870                 We’re going to leave it there. . .   \n",
       "871                       And I think he does too. . .   \n",
       "872  … to be continued in more debates as we go on....   \n",
       "\n",
       "                                    Title  \\\n",
       "0    September 29, 2020 Debate Transcript   \n",
       "1    September 29, 2020 Debate Transcript   \n",
       "2    September 29, 2020 Debate Transcript   \n",
       "3    September 29, 2020 Debate Transcript   \n",
       "4    September 29, 2020 Debate Transcript   \n",
       "..                                    ...   \n",
       "868  September 29, 2020 Debate Transcript   \n",
       "869  September 29, 2020 Debate Transcript   \n",
       "870  September 29, 2020 Debate Transcript   \n",
       "871  September 29, 2020 Debate Transcript   \n",
       "872  September 29, 2020 Debate Transcript   \n",
       "\n",
       "                                                Debate                Date  \\\n",
       "0    Presidential Debate at Case Western Reserve Un...  September 29, 2020   \n",
       "1    Presidential Debate at Case Western Reserve Un...  September 29, 2020   \n",
       "2    Presidential Debate at Case Western Reserve Un...  September 29, 2020   \n",
       "3    Presidential Debate at Case Western Reserve Un...  September 29, 2020   \n",
       "4    Presidential Debate at Case Western Reserve Un...  September 29, 2020   \n",
       "..                                                 ...                 ...   \n",
       "868  Presidential Debate at Case Western Reserve Un...  September 29, 2020   \n",
       "869  Presidential Debate at Case Western Reserve Un...  September 29, 2020   \n",
       "870  Presidential Debate at Case Western Reserve Un...  September 29, 2020   \n",
       "871  Presidential Debate at Case Western Reserve Un...  September 29, 2020   \n",
       "872  Presidential Debate at Case Western Reserve Un...  September 29, 2020   \n",
       "\n",
       "                                          Participants  \\\n",
       "0    Former Vice President Joe Biden (D) and Presid...   \n",
       "1    Former Vice President Joe Biden (D) and Presid...   \n",
       "2    Former Vice President Joe Biden (D) and Presid...   \n",
       "3    Former Vice President Joe Biden (D) and Presid...   \n",
       "4    Former Vice President Joe Biden (D) and Presid...   \n",
       "..                                                 ...   \n",
       "868  Former Vice President Joe Biden (D) and Presid...   \n",
       "869  Former Vice President Joe Biden (D) and Presid...   \n",
       "870  Former Vice President Joe Biden (D) and Presid...   \n",
       "871  Former Vice President Joe Biden (D) and Presid...   \n",
       "872  Former Vice President Joe Biden (D) and Presid...   \n",
       "\n",
       "                   Moderators  Speaker  \n",
       "0    Chris Wallace (Fox News)  WALLACE  \n",
       "1    Chris Wallace (Fox News)      NaN  \n",
       "2    Chris Wallace (Fox News)    BIDEN  \n",
       "3    Chris Wallace (Fox News)    TRUMP  \n",
       "4    Chris Wallace (Fox News)    BIDEN  \n",
       "..                        ...      ...  \n",
       "868  Chris Wallace (Fox News)  WALLACE  \n",
       "869  Chris Wallace (Fox News)    TRUMP  \n",
       "870  Chris Wallace (Fox News)  WALLACE  \n",
       "871  Chris Wallace (Fox News)    TRUMP  \n",
       "872  Chris Wallace (Fox News)  WALLACE  \n",
       "\n",
       "[873 rows x 7 columns]"
      ]
     },
     "execution_count": 21,
     "metadata": {},
     "output_type": "execute_result"
    }
   ],
   "source": [
    "df"
   ]
  },
  {
   "cell_type": "markdown",
   "id": "c70dc620-6919-426b-b320-a2ed70e89e51",
   "metadata": {},
   "source": [
    "### Checking how many rows in column `Speaker` are empty (they are paragraphs of the speaker that is speaking - the latest previous speaker)"
   ]
  },
  {
   "cell_type": "code",
   "execution_count": 22,
   "id": "e56ebe50-0ef4-4784-910d-eab0a8c26b6e",
   "metadata": {},
   "outputs": [
    {
     "name": "stdout",
     "output_type": "stream",
     "text": [
      "18\n"
     ]
    }
   ],
   "source": [
    "print(df['Speaker'].isnull().sum())"
   ]
  },
  {
   "cell_type": "markdown",
   "id": "645e2754-fc04-4032-aa61-3d352be01686",
   "metadata": {},
   "source": [
    "### Replacing missing (NaN or empty) values with the last non-empty value in the column (assigning them to the speaker that is speaking)"
   ]
  },
  {
   "cell_type": "code",
   "execution_count": 23,
   "id": "98f285a9-55c7-42b6-bcc0-31397573fd6e",
   "metadata": {},
   "outputs": [],
   "source": [
    "df['Speaker'].ffill(inplace=True)"
   ]
  },
  {
   "cell_type": "markdown",
   "id": "108df5f6-c88c-4db4-a4e2-84012895d12a",
   "metadata": {},
   "source": [
    "### Double checking"
   ]
  },
  {
   "cell_type": "code",
   "execution_count": 24,
   "id": "09635ea2-e059-4c73-a934-e175cc0765b8",
   "metadata": {},
   "outputs": [
    {
     "name": "stdout",
     "output_type": "stream",
     "text": [
      "0\n"
     ]
    }
   ],
   "source": [
    "print(df['Speaker'].isnull().sum())"
   ]
  },
  {
   "cell_type": "code",
   "execution_count": 25,
   "id": "1dc164de-25bb-4fab-a9db-6fab96be3b6f",
   "metadata": {},
   "outputs": [
    {
     "data": {
      "text/html": [
       "<div>\n",
       "<style scoped>\n",
       "    .dataframe tbody tr th:only-of-type {\n",
       "        vertical-align: middle;\n",
       "    }\n",
       "\n",
       "    .dataframe tbody tr th {\n",
       "        vertical-align: top;\n",
       "    }\n",
       "\n",
       "    .dataframe thead th {\n",
       "        text-align: right;\n",
       "    }\n",
       "</style>\n",
       "<table border=\"1\" class=\"dataframe\">\n",
       "  <thead>\n",
       "    <tr style=\"text-align: right;\">\n",
       "      <th></th>\n",
       "      <th>Text</th>\n",
       "      <th>Title</th>\n",
       "      <th>Debate</th>\n",
       "      <th>Date</th>\n",
       "      <th>Participants</th>\n",
       "      <th>Moderators</th>\n",
       "      <th>Speaker</th>\n",
       "    </tr>\n",
       "  </thead>\n",
       "  <tbody>\n",
       "    <tr>\n",
       "      <th>0</th>\n",
       "      <td>Good evening from the Health Education Campus ...</td>\n",
       "      <td>September 29, 2020 Debate Transcript</td>\n",
       "      <td>Presidential Debate at Case Western Reserve Un...</td>\n",
       "      <td>September 29, 2020</td>\n",
       "      <td>Former Vice President Joe Biden (D) and Presid...</td>\n",
       "      <td>Chris Wallace (Fox News)</td>\n",
       "      <td>WALLACE</td>\n",
       "    </tr>\n",
       "    <tr>\n",
       "      <th>1</th>\n",
       "      <td>This debate is being conducted under health an...</td>\n",
       "      <td>September 29, 2020 Debate Transcript</td>\n",
       "      <td>Presidential Debate at Case Western Reserve Un...</td>\n",
       "      <td>September 29, 2020</td>\n",
       "      <td>Former Vice President Joe Biden (D) and Presid...</td>\n",
       "      <td>Chris Wallace (Fox News)</td>\n",
       "      <td>WALLACE</td>\n",
       "    </tr>\n",
       "    <tr>\n",
       "      <th>2</th>\n",
       "      <td>How you doing, man?</td>\n",
       "      <td>September 29, 2020 Debate Transcript</td>\n",
       "      <td>Presidential Debate at Case Western Reserve Un...</td>\n",
       "      <td>September 29, 2020</td>\n",
       "      <td>Former Vice President Joe Biden (D) and Presid...</td>\n",
       "      <td>Chris Wallace (Fox News)</td>\n",
       "      <td>BIDEN</td>\n",
       "    </tr>\n",
       "    <tr>\n",
       "      <th>3</th>\n",
       "      <td>How are you doing?</td>\n",
       "      <td>September 29, 2020 Debate Transcript</td>\n",
       "      <td>Presidential Debate at Case Western Reserve Un...</td>\n",
       "      <td>September 29, 2020</td>\n",
       "      <td>Former Vice President Joe Biden (D) and Presid...</td>\n",
       "      <td>Chris Wallace (Fox News)</td>\n",
       "      <td>TRUMP</td>\n",
       "    </tr>\n",
       "    <tr>\n",
       "      <th>4</th>\n",
       "      <td>I’m well.</td>\n",
       "      <td>September 29, 2020 Debate Transcript</td>\n",
       "      <td>Presidential Debate at Case Western Reserve Un...</td>\n",
       "      <td>September 29, 2020</td>\n",
       "      <td>Former Vice President Joe Biden (D) and Presid...</td>\n",
       "      <td>Chris Wallace (Fox News)</td>\n",
       "      <td>BIDEN</td>\n",
       "    </tr>\n",
       "    <tr>\n",
       "      <th>...</th>\n",
       "      <td>...</td>\n",
       "      <td>...</td>\n",
       "      <td>...</td>\n",
       "      <td>...</td>\n",
       "      <td>...</td>\n",
       "      <td>...</td>\n",
       "      <td>...</td>\n",
       "    </tr>\n",
       "    <tr>\n",
       "      <th>868</th>\n",
       "      <td>Gentlemen, just say that’s the end of it [cros...</td>\n",
       "      <td>September 29, 2020 Debate Transcript</td>\n",
       "      <td>Presidential Debate at Case Western Reserve Un...</td>\n",
       "      <td>September 29, 2020</td>\n",
       "      <td>Former Vice President Joe Biden (D) and Presid...</td>\n",
       "      <td>Chris Wallace (Fox News)</td>\n",
       "      <td>WALLACE</td>\n",
       "    </tr>\n",
       "    <tr>\n",
       "      <th>869</th>\n",
       "      <td>I want to see an honest ballot count.</td>\n",
       "      <td>September 29, 2020 Debate Transcript</td>\n",
       "      <td>Presidential Debate at Case Western Reserve Un...</td>\n",
       "      <td>September 29, 2020</td>\n",
       "      <td>Former Vice President Joe Biden (D) and Presid...</td>\n",
       "      <td>Chris Wallace (Fox News)</td>\n",
       "      <td>TRUMP</td>\n",
       "    </tr>\n",
       "    <tr>\n",
       "      <th>870</th>\n",
       "      <td>We’re going to leave it there. . .</td>\n",
       "      <td>September 29, 2020 Debate Transcript</td>\n",
       "      <td>Presidential Debate at Case Western Reserve Un...</td>\n",
       "      <td>September 29, 2020</td>\n",
       "      <td>Former Vice President Joe Biden (D) and Presid...</td>\n",
       "      <td>Chris Wallace (Fox News)</td>\n",
       "      <td>WALLACE</td>\n",
       "    </tr>\n",
       "    <tr>\n",
       "      <th>871</th>\n",
       "      <td>And I think he does too. . .</td>\n",
       "      <td>September 29, 2020 Debate Transcript</td>\n",
       "      <td>Presidential Debate at Case Western Reserve Un...</td>\n",
       "      <td>September 29, 2020</td>\n",
       "      <td>Former Vice President Joe Biden (D) and Presid...</td>\n",
       "      <td>Chris Wallace (Fox News)</td>\n",
       "      <td>TRUMP</td>\n",
       "    </tr>\n",
       "    <tr>\n",
       "      <th>872</th>\n",
       "      <td>… to be continued in more debates as we go on....</td>\n",
       "      <td>September 29, 2020 Debate Transcript</td>\n",
       "      <td>Presidential Debate at Case Western Reserve Un...</td>\n",
       "      <td>September 29, 2020</td>\n",
       "      <td>Former Vice President Joe Biden (D) and Presid...</td>\n",
       "      <td>Chris Wallace (Fox News)</td>\n",
       "      <td>WALLACE</td>\n",
       "    </tr>\n",
       "  </tbody>\n",
       "</table>\n",
       "<p>873 rows × 7 columns</p>\n",
       "</div>"
      ],
      "text/plain": [
       "                                                  Text  \\\n",
       "0    Good evening from the Health Education Campus ...   \n",
       "1    This debate is being conducted under health an...   \n",
       "2                                  How you doing, man?   \n",
       "3                                   How are you doing?   \n",
       "4                                            I’m well.   \n",
       "..                                                 ...   \n",
       "868  Gentlemen, just say that’s the end of it [cros...   \n",
       "869              I want to see an honest ballot count.   \n",
       "870                 We’re going to leave it there. . .   \n",
       "871                       And I think he does too. . .   \n",
       "872  … to be continued in more debates as we go on....   \n",
       "\n",
       "                                    Title  \\\n",
       "0    September 29, 2020 Debate Transcript   \n",
       "1    September 29, 2020 Debate Transcript   \n",
       "2    September 29, 2020 Debate Transcript   \n",
       "3    September 29, 2020 Debate Transcript   \n",
       "4    September 29, 2020 Debate Transcript   \n",
       "..                                    ...   \n",
       "868  September 29, 2020 Debate Transcript   \n",
       "869  September 29, 2020 Debate Transcript   \n",
       "870  September 29, 2020 Debate Transcript   \n",
       "871  September 29, 2020 Debate Transcript   \n",
       "872  September 29, 2020 Debate Transcript   \n",
       "\n",
       "                                                Debate                Date  \\\n",
       "0    Presidential Debate at Case Western Reserve Un...  September 29, 2020   \n",
       "1    Presidential Debate at Case Western Reserve Un...  September 29, 2020   \n",
       "2    Presidential Debate at Case Western Reserve Un...  September 29, 2020   \n",
       "3    Presidential Debate at Case Western Reserve Un...  September 29, 2020   \n",
       "4    Presidential Debate at Case Western Reserve Un...  September 29, 2020   \n",
       "..                                                 ...                 ...   \n",
       "868  Presidential Debate at Case Western Reserve Un...  September 29, 2020   \n",
       "869  Presidential Debate at Case Western Reserve Un...  September 29, 2020   \n",
       "870  Presidential Debate at Case Western Reserve Un...  September 29, 2020   \n",
       "871  Presidential Debate at Case Western Reserve Un...  September 29, 2020   \n",
       "872  Presidential Debate at Case Western Reserve Un...  September 29, 2020   \n",
       "\n",
       "                                          Participants  \\\n",
       "0    Former Vice President Joe Biden (D) and Presid...   \n",
       "1    Former Vice President Joe Biden (D) and Presid...   \n",
       "2    Former Vice President Joe Biden (D) and Presid...   \n",
       "3    Former Vice President Joe Biden (D) and Presid...   \n",
       "4    Former Vice President Joe Biden (D) and Presid...   \n",
       "..                                                 ...   \n",
       "868  Former Vice President Joe Biden (D) and Presid...   \n",
       "869  Former Vice President Joe Biden (D) and Presid...   \n",
       "870  Former Vice President Joe Biden (D) and Presid...   \n",
       "871  Former Vice President Joe Biden (D) and Presid...   \n",
       "872  Former Vice President Joe Biden (D) and Presid...   \n",
       "\n",
       "                   Moderators  Speaker  \n",
       "0    Chris Wallace (Fox News)  WALLACE  \n",
       "1    Chris Wallace (Fox News)  WALLACE  \n",
       "2    Chris Wallace (Fox News)    BIDEN  \n",
       "3    Chris Wallace (Fox News)    TRUMP  \n",
       "4    Chris Wallace (Fox News)    BIDEN  \n",
       "..                        ...      ...  \n",
       "868  Chris Wallace (Fox News)  WALLACE  \n",
       "869  Chris Wallace (Fox News)    TRUMP  \n",
       "870  Chris Wallace (Fox News)  WALLACE  \n",
       "871  Chris Wallace (Fox News)    TRUMP  \n",
       "872  Chris Wallace (Fox News)  WALLACE  \n",
       "\n",
       "[873 rows x 7 columns]"
      ]
     },
     "execution_count": 25,
     "metadata": {},
     "output_type": "execute_result"
    }
   ],
   "source": [
    "df"
   ]
  },
  {
   "cell_type": "markdown",
   "id": "e7a7dda3-7857-49f1-96fc-9aa837ded790",
   "metadata": {},
   "source": [
    "### Number of turns"
   ]
  },
  {
   "cell_type": "code",
   "execution_count": 26,
   "id": "8fc27476-c1f4-4b85-86a5-b6d4a03534bc",
   "metadata": {},
   "outputs": [
    {
     "name": "stdout",
     "output_type": "stream",
     "text": [
      "Number of turns: 873\n"
     ]
    }
   ],
   "source": [
    "print('Number of turns:', df.shape[0])"
   ]
  },
  {
   "cell_type": "markdown",
   "id": "9b891d0f-5ea9-4d25-b5de-9af6ef9ec37f",
   "metadata": {},
   "source": [
    "#### Listing the number of turns"
   ]
  },
  {
   "cell_type": "code",
   "execution_count": 27,
   "id": "70d59fba-be5e-4f34-ac85-a542b702a1d4",
   "metadata": {},
   "outputs": [],
   "source": [
    "# Initialising the lists\n",
    "debate_list = []\n",
    "turn_list = []"
   ]
  },
  {
   "cell_type": "code",
   "execution_count": 28,
   "id": "d1f44184-dc56-4e2a-8977-8bc11dd226a8",
   "metadata": {},
   "outputs": [],
   "source": [
    "debate_list.append(title)\n",
    "turn_list.append(df.shape[0])"
   ]
  },
  {
   "cell_type": "markdown",
   "id": "4567fa35-8618-4d20-a522-5358d553a83f",
   "metadata": {},
   "source": [
    "### Exporting to a file"
   ]
  },
  {
   "cell_type": "markdown",
   "id": "3d668551-f93a-4cd7-afc6-38ee549aa059",
   "metadata": {},
   "source": [
    "#### JSONL format"
   ]
  },
  {
   "cell_type": "code",
   "execution_count": 29,
   "id": "7e2917f3-f7e5-40d1-ac61-0593f82ef7a1",
   "metadata": {},
   "outputs": [],
   "source": [
    "df[['Title', 'Debate', 'Date', 'Participants', 'Moderators', 'Speaker', 'Text']].to_json(f'{debate_title}.jsonl', orient='records', lines=True)"
   ]
  },
  {
   "cell_type": "markdown",
   "id": "03827b99-7ba7-4ccb-9962-72240350e515",
   "metadata": {},
   "source": [
    "#### TSV format"
   ]
  },
  {
   "cell_type": "code",
   "execution_count": 30,
   "id": "82186002-cd28-459c-a8f0-2e9513c54bd8",
   "metadata": {},
   "outputs": [],
   "source": [
    "df[['Title', 'Debate', 'Date', 'Participants', 'Moderators', 'Speaker', 'Text']].to_csv(f'{debate_title}.tsv', sep='\\t', index=False, encoding='utf-8', lineterminator='\\n')"
   ]
  },
  {
   "cell_type": "markdown",
   "id": "93889cc4-269f-44c3-bf0e-4715b2777876",
   "metadata": {},
   "source": [
    "## Debate 2"
   ]
  },
  {
   "cell_type": "code",
   "execution_count": 31,
   "id": "1acbee25-f2a2-46e6-a453-eab3c51ff302",
   "metadata": {},
   "outputs": [],
   "source": [
    "debate_title = debate_2\n",
    "url = debate_url_2\n",
    "response = requests.get(url)\n",
    "\n",
    "if response.status_code == 200:\n",
    "    page_content = response.content\n",
    "    # Step 2: Parse HTML content\n",
    "    soup = BeautifulSoup(page_content, 'lxml')\n",
    "\n",
    "    # Extract relevant tags (e.g., <h1>, <p>, etc.) and store them in a list\n",
    "    rows = []\n",
    "    for tag in soup.find_all(['h1', 'p']):\n",
    "        rows.append(tag.text.strip())  # Remove leading/trailing spaces\n",
    "    \n",
    "    # Create a DataFrame from the list of rows\n",
    "    df = pd.DataFrame(rows, columns=['Text'])\n",
    "\n",
    "else:\n",
    "    print(f'Failed to retrieve the page. Status code: {response.status_code}')"
   ]
  },
  {
   "cell_type": "code",
   "execution_count": 32,
   "id": "8aab4cb0-fbc1-4431-bbdc-2897aef58dfe",
   "metadata": {},
   "outputs": [
    {
     "data": {
      "text/html": [
       "<div>\n",
       "<style scoped>\n",
       "    .dataframe tbody tr th:only-of-type {\n",
       "        vertical-align: middle;\n",
       "    }\n",
       "\n",
       "    .dataframe tbody tr th {\n",
       "        vertical-align: top;\n",
       "    }\n",
       "\n",
       "    .dataframe thead th {\n",
       "        text-align: right;\n",
       "    }\n",
       "</style>\n",
       "<table border=\"1\" class=\"dataframe\">\n",
       "  <thead>\n",
       "    <tr style=\"text-align: right;\">\n",
       "      <th></th>\n",
       "      <th>Text</th>\n",
       "    </tr>\n",
       "  </thead>\n",
       "  <tbody>\n",
       "    <tr>\n",
       "      <th>0</th>\n",
       "      <td>October 07, 2020 Vice Presidential Debate Tran...</td>\n",
       "    </tr>\n",
       "    <tr>\n",
       "      <th>1</th>\n",
       "      <td>Vice Presidential Debate at the University of ...</td>\n",
       "    </tr>\n",
       "    <tr>\n",
       "      <th>2</th>\n",
       "      <td>October 07, 2020</td>\n",
       "    </tr>\n",
       "    <tr>\n",
       "      <th>3</th>\n",
       "      <td>PARTICIPANTS:\\nSenator Kamala Harris (D-CA) an...</td>\n",
       "    </tr>\n",
       "    <tr>\n",
       "      <th>4</th>\n",
       "      <td>MODERATOR:\\nSusan Page (USA Today)</td>\n",
       "    </tr>\n",
       "    <tr>\n",
       "      <th>...</th>\n",
       "      <td>...</td>\n",
       "    </tr>\n",
       "    <tr>\n",
       "      <th>246</th>\n",
       "      <td>PAGE: Thank you, Vice President. Senator Harri...</td>\n",
       "    </tr>\n",
       "    <tr>\n",
       "      <th>247</th>\n",
       "      <td>HARRIS: First of all, I love hearing from our ...</td>\n",
       "    </tr>\n",
       "    <tr>\n",
       "      <th>248</th>\n",
       "      <td>And that you know that brings me to Joe. Joe B...</td>\n",
       "    </tr>\n",
       "    <tr>\n",
       "      <th>249</th>\n",
       "      <td>PAGE: Thank you, Senator Harris, thank you, Vi...</td>\n",
       "    </tr>\n",
       "    <tr>\n",
       "      <th>250</th>\n",
       "      <td>© COPYRIGHT 2020 THE COMMISSION ON PRESIDENTIA...</td>\n",
       "    </tr>\n",
       "  </tbody>\n",
       "</table>\n",
       "<p>251 rows × 1 columns</p>\n",
       "</div>"
      ],
      "text/plain": [
       "                                                  Text\n",
       "0    October 07, 2020 Vice Presidential Debate Tran...\n",
       "1    Vice Presidential Debate at the University of ...\n",
       "2                                     October 07, 2020\n",
       "3    PARTICIPANTS:\\nSenator Kamala Harris (D-CA) an...\n",
       "4                   MODERATOR:\\nSusan Page (USA Today)\n",
       "..                                                 ...\n",
       "246  PAGE: Thank you, Vice President. Senator Harri...\n",
       "247  HARRIS: First of all, I love hearing from our ...\n",
       "248  And that you know that brings me to Joe. Joe B...\n",
       "249  PAGE: Thank you, Senator Harris, thank you, Vi...\n",
       "250  © COPYRIGHT 2020 THE COMMISSION ON PRESIDENTIA...\n",
       "\n",
       "[251 rows x 1 columns]"
      ]
     },
     "execution_count": 32,
     "metadata": {},
     "output_type": "execute_result"
    }
   ],
   "source": [
    "df"
   ]
  },
  {
   "cell_type": "code",
   "execution_count": 33,
   "id": "831853e2-5ce8-4000-91ff-a6ebdf23945f",
   "metadata": {},
   "outputs": [
    {
     "data": {
      "text/html": [
       "<div>\n",
       "<style scoped>\n",
       "    .dataframe tbody tr th:only-of-type {\n",
       "        vertical-align: middle;\n",
       "    }\n",
       "\n",
       "    .dataframe tbody tr th {\n",
       "        vertical-align: top;\n",
       "    }\n",
       "\n",
       "    .dataframe thead th {\n",
       "        text-align: right;\n",
       "    }\n",
       "</style>\n",
       "<table border=\"1\" class=\"dataframe\">\n",
       "  <thead>\n",
       "    <tr style=\"text-align: right;\">\n",
       "      <th></th>\n",
       "      <th>Text</th>\n",
       "    </tr>\n",
       "  </thead>\n",
       "  <tbody>\n",
       "    <tr>\n",
       "      <th>0</th>\n",
       "      <td>October 07, 2020 Vice Presidential Debate Tran...</td>\n",
       "    </tr>\n",
       "    <tr>\n",
       "      <th>1</th>\n",
       "      <td>Vice Presidential Debate at the University of ...</td>\n",
       "    </tr>\n",
       "    <tr>\n",
       "      <th>2</th>\n",
       "      <td>October 07, 2020</td>\n",
       "    </tr>\n",
       "    <tr>\n",
       "      <th>3</th>\n",
       "      <td>PARTICIPANTS:\\nSenator Kamala Harris (D-CA) an...</td>\n",
       "    </tr>\n",
       "    <tr>\n",
       "      <th>4</th>\n",
       "      <td>MODERATOR:\\nSusan Page (USA Today)</td>\n",
       "    </tr>\n",
       "    <tr>\n",
       "      <th>5</th>\n",
       "      <td>PAGE: Good evening. From the University of Uta...</td>\n",
       "    </tr>\n",
       "    <tr>\n",
       "      <th>6</th>\n",
       "      <td>PENCE: Thank you.</td>\n",
       "    </tr>\n",
       "    <tr>\n",
       "      <th>7</th>\n",
       "      <td>PAGE: Senator Harris and Vice President Pence ...</td>\n",
       "    </tr>\n",
       "    <tr>\n",
       "      <th>8</th>\n",
       "      <td>HARRIS: Thank you Susan. Well, the American pe...</td>\n",
       "    </tr>\n",
       "    <tr>\n",
       "      <th>9</th>\n",
       "      <td>PAGE: Thank you- Thank you, Senator Harris. Th...</td>\n",
       "    </tr>\n",
       "  </tbody>\n",
       "</table>\n",
       "</div>"
      ],
      "text/plain": [
       "                                                Text\n",
       "0  October 07, 2020 Vice Presidential Debate Tran...\n",
       "1  Vice Presidential Debate at the University of ...\n",
       "2                                   October 07, 2020\n",
       "3  PARTICIPANTS:\\nSenator Kamala Harris (D-CA) an...\n",
       "4                 MODERATOR:\\nSusan Page (USA Today)\n",
       "5  PAGE: Good evening. From the University of Uta...\n",
       "6                                  PENCE: Thank you.\n",
       "7  PAGE: Senator Harris and Vice President Pence ...\n",
       "8  HARRIS: Thank you Susan. Well, the American pe...\n",
       "9  PAGE: Thank you- Thank you, Senator Harris. Th..."
      ]
     },
     "execution_count": 33,
     "metadata": {},
     "output_type": "execute_result"
    }
   ],
   "source": [
    "df.head(10)"
   ]
  },
  {
   "cell_type": "code",
   "execution_count": 34,
   "id": "d7cd21fd-5a3b-41fd-8b2d-ff23f4a22152",
   "metadata": {},
   "outputs": [],
   "source": [
    "title = df.at[0, 'Text']\n",
    "df['Title'] = title\n",
    "\n",
    "debate = df.at[1, 'Text']\n",
    "df['Debate'] = debate\n",
    "\n",
    "date = df.at[2, 'Text']\n",
    "df['Date'] = date\n",
    "\n",
    "participants = df.at[3, 'Text']\n",
    "participants = re.sub(r'^\\w+:\\n', '', participants)\n",
    "participants = re.sub(r'\\n', ' ', participants)\n",
    "df['Participants'] = participants\n",
    "\n",
    "moderators = df.at[4, 'Text']\n",
    "moderators = re.sub(r'^\\w+:\\n', '', moderators)\n",
    "df['Moderators'] = moderators"
   ]
  },
  {
   "cell_type": "code",
   "execution_count": 35,
   "id": "e6e9e414-152b-4869-9122-4767f8b4dba3",
   "metadata": {},
   "outputs": [
    {
     "data": {
      "text/plain": [
       "'© COPYRIGHT 2020 THE COMMISSION ON PRESIDENTIAL DEBATES. ALL RIGHTS RESERVED.'"
      ]
     },
     "execution_count": 35,
     "metadata": {},
     "output_type": "execute_result"
    }
   ],
   "source": [
    "last_row = 250\n",
    "df.loc[last_row, 'Text']"
   ]
  },
  {
   "cell_type": "code",
   "execution_count": 36,
   "id": "8196b928-dae6-49cb-9d60-9bc55d372f46",
   "metadata": {},
   "outputs": [],
   "source": [
    "df = df[~df['Text'].str.contains(df.loc[last_row, 'Text'])]"
   ]
  },
  {
   "cell_type": "code",
   "execution_count": 37,
   "id": "6364733b-4575-460b-b767-b1740e404473",
   "metadata": {},
   "outputs": [],
   "source": [
    "df = df.loc[5:]\n",
    "df = df.reset_index(drop=True)"
   ]
  },
  {
   "cell_type": "code",
   "execution_count": 38,
   "id": "6e3443a1-b020-4ef7-a80b-31924fa02711",
   "metadata": {},
   "outputs": [
    {
     "data": {
      "text/plain": [
       "Text\n",
       "False    245\n",
       "Name: count, dtype: int64"
      ]
     },
     "execution_count": 38,
     "metadata": {},
     "output_type": "execute_result"
    }
   ],
   "source": [
    "# List of expressions whose rows in column 'Text' should be dropped\n",
    "expressions_to_drop = ['(APPLAUSE)', '(LAUGHTER)', '(CROSSTALK)']\n",
    "\n",
    "# Creating a boolean mask for rows starting with the specified expressions\n",
    "mask = df['Text'].str.startswith(tuple(expressions_to_drop))\n",
    "\n",
    "# Counting the number of rows for each expression\n",
    "counts = mask.value_counts()\n",
    "\n",
    "# Display the counts\n",
    "counts"
   ]
  },
  {
   "cell_type": "code",
   "execution_count": 39,
   "id": "eab197cd-935f-49f8-92dc-2fff95229ef2",
   "metadata": {},
   "outputs": [],
   "source": [
    "# Dropping the rows that start with those expressions in column 'Text'\n",
    "df = df[~mask]\n",
    "df = df.reset_index(drop=True)"
   ]
  },
  {
   "cell_type": "code",
   "execution_count": 40,
   "id": "6bfea278-aeec-451e-a0e7-43064768f764",
   "metadata": {},
   "outputs": [
    {
     "data": {
      "text/html": [
       "<div>\n",
       "<style scoped>\n",
       "    .dataframe tbody tr th:only-of-type {\n",
       "        vertical-align: middle;\n",
       "    }\n",
       "\n",
       "    .dataframe tbody tr th {\n",
       "        vertical-align: top;\n",
       "    }\n",
       "\n",
       "    .dataframe thead th {\n",
       "        text-align: right;\n",
       "    }\n",
       "</style>\n",
       "<table border=\"1\" class=\"dataframe\">\n",
       "  <thead>\n",
       "    <tr style=\"text-align: right;\">\n",
       "      <th></th>\n",
       "      <th>Text</th>\n",
       "      <th>Title</th>\n",
       "      <th>Debate</th>\n",
       "      <th>Date</th>\n",
       "      <th>Participants</th>\n",
       "      <th>Moderators</th>\n",
       "    </tr>\n",
       "  </thead>\n",
       "  <tbody>\n",
       "    <tr>\n",
       "      <th>0</th>\n",
       "      <td>PAGE: Good evening. From the University of Uta...</td>\n",
       "      <td>October 07, 2020 Vice Presidential Debate Tran...</td>\n",
       "      <td>Vice Presidential Debate at the University of ...</td>\n",
       "      <td>October 07, 2020</td>\n",
       "      <td>Senator Kamala Harris (D-CA) and Vice Presiden...</td>\n",
       "      <td>Susan Page (USA Today)</td>\n",
       "    </tr>\n",
       "  </tbody>\n",
       "</table>\n",
       "</div>"
      ],
      "text/plain": [
       "                                                Text  \\\n",
       "0  PAGE: Good evening. From the University of Uta...   \n",
       "\n",
       "                                               Title  \\\n",
       "0  October 07, 2020 Vice Presidential Debate Tran...   \n",
       "\n",
       "                                              Debate              Date  \\\n",
       "0  Vice Presidential Debate at the University of ...  October 07, 2020   \n",
       "\n",
       "                                        Participants              Moderators  \n",
       "0  Senator Kamala Harris (D-CA) and Vice Presiden...  Susan Page (USA Today)  "
      ]
     },
     "execution_count": 40,
     "metadata": {},
     "output_type": "execute_result"
    }
   ],
   "source": [
    "df.head(1)"
   ]
  },
  {
   "cell_type": "code",
   "execution_count": 41,
   "id": "a719b0e9-2f1c-429a-a3de-8959e601eca4",
   "metadata": {},
   "outputs": [
    {
     "data": {
      "text/plain": [
       "'PAGE:\\xa0Good evening. From the University of Utah in Salt Lake City, welcome to the first, and only, vice presidential debate of 2020, sponsored by the nonpartisan Commission on Presidential Debates. I’m Susan Page of USA TODAY. It is my honor to moderate this debate, an important part of our democracy. In Kingsbury Hall tonight we have a small and socially distant audience and we’ve taken extra precautions during this pandemic. Among other things, everyone in the audience is required to wear a face mask and the candidates will be seated 12 feet apart. The audience is enthusiastic about their candidates, but they’ve agreed to express that enthusiasm, only twice. At the end of the debate and now when I introduce the candidates. Please welcome California Senator Kamala Harris and Vice President Mike Pence.'"
      ]
     },
     "execution_count": 41,
     "metadata": {},
     "output_type": "execute_result"
    }
   ],
   "source": [
    "df.loc[0, 'Text']"
   ]
  },
  {
   "cell_type": "code",
   "execution_count": 42,
   "id": "960b6212-000d-4a23-a489-6b6263ae53df",
   "metadata": {},
   "outputs": [
    {
     "name": "stdout",
     "output_type": "stream",
     "text": [
      "Number of turns: 245\n"
     ]
    }
   ],
   "source": [
    "df.at[0, 'Speaker'] = 1 # Adding column 'Speaker' by initialising it with a numeric value in order to avoid DtypeWarning\n",
    "df = df.astype('object') # Converting the column to the desired data type\n",
    "\n",
    "for index, row in df.iterrows():\n",
    "    match = re.match(r'^(\\w+):\\xa0', row['Text'])\n",
    "    if match:\n",
    "        speaker = match.group(1)\n",
    "        df.at[index, 'Speaker'] = speaker\n",
    "        text_without_speaker = row['Text'][len(match.group(0)):]\n",
    "        df.at[index, 'Text'] = text_without_speaker\n",
    "    else:\n",
    "        # Handle the case when no match is found (optional)\n",
    "        #df.at[index, 'Speaker'] = ''  # Set a default value\n",
    "        pass\n",
    "\n",
    "df['Speaker'].ffill(inplace=True)\n",
    "\n",
    "print('Number of turns:', df.shape[0])\n",
    "\n",
    "debate_list.append(title)\n",
    "turn_list.append(df.shape[0])\n",
    "\n",
    "df[['Title', 'Debate', 'Date', 'Participants', 'Moderators', 'Speaker', 'Text']].to_json(f'{debate_title}.jsonl', orient='records', lines=True)\n",
    "\n",
    "df[['Title', 'Debate', 'Date', 'Participants', 'Moderators', 'Speaker', 'Text']].to_csv(f'{debate_title}.tsv', sep='\\t', index=False, encoding='utf-8', lineterminator='\\n')"
   ]
  },
  {
   "cell_type": "markdown",
   "id": "8140659a-6990-492a-907e-49f0a29b19bf",
   "metadata": {},
   "source": [
    "## Debate 3"
   ]
  },
  {
   "cell_type": "code",
   "execution_count": 43,
   "id": "525a6a1f-4a17-4001-94ca-d9937d9943c5",
   "metadata": {},
   "outputs": [],
   "source": [
    "debate_title = debate_3\n",
    "url = debate_url_3\n",
    "response = requests.get(url)\n",
    "\n",
    "if response.status_code == 200:\n",
    "    page_content = response.content\n",
    "    # Step 2: Parse HTML content\n",
    "    soup = BeautifulSoup(page_content, 'lxml')\n",
    "\n",
    "    # Extract relevant tags (e.g., <h1>, <p>, etc.) and store them in a list\n",
    "    rows = []\n",
    "    for tag in soup.find_all(['h1', 'p']):\n",
    "        rows.append(tag.text.strip())  # Remove leading/trailing spaces\n",
    "    \n",
    "    # Create a DataFrame from the list of rows\n",
    "    df = pd.DataFrame(rows, columns=['Text'])\n",
    "\n",
    "else:\n",
    "    print(f'Failed to retrieve the page. Status code: {response.status_code}')"
   ]
  },
  {
   "cell_type": "code",
   "execution_count": 44,
   "id": "ef18e027-1d3a-44f7-a52f-1cdab73b5245",
   "metadata": {},
   "outputs": [
    {
     "data": {
      "text/html": [
       "<div>\n",
       "<style scoped>\n",
       "    .dataframe tbody tr th:only-of-type {\n",
       "        vertical-align: middle;\n",
       "    }\n",
       "\n",
       "    .dataframe tbody tr th {\n",
       "        vertical-align: top;\n",
       "    }\n",
       "\n",
       "    .dataframe thead th {\n",
       "        text-align: right;\n",
       "    }\n",
       "</style>\n",
       "<table border=\"1\" class=\"dataframe\">\n",
       "  <thead>\n",
       "    <tr style=\"text-align: right;\">\n",
       "      <th></th>\n",
       "      <th>Text</th>\n",
       "    </tr>\n",
       "  </thead>\n",
       "  <tbody>\n",
       "    <tr>\n",
       "      <th>0</th>\n",
       "      <td>Presidential Debate at Belmont University in N...</td>\n",
       "    </tr>\n",
       "    <tr>\n",
       "      <th>1</th>\n",
       "      <td>October 22, 2020</td>\n",
       "    </tr>\n",
       "    <tr>\n",
       "      <th>2</th>\n",
       "      <td>PARTICIPANTS:\\nFormer Vice President Joe Biden...</td>\n",
       "    </tr>\n",
       "    <tr>\n",
       "      <th>3</th>\n",
       "      <td>MODERATOR:\\nKristen Welker (NBC News)</td>\n",
       "    </tr>\n",
       "    <tr>\n",
       "      <th>4</th>\n",
       "      <td>WELKER: Good evening from Belmont University i...</td>\n",
       "    </tr>\n",
       "    <tr>\n",
       "      <th>...</th>\n",
       "      <td>...</td>\n",
       "    </tr>\n",
       "    <tr>\n",
       "      <th>354</th>\n",
       "      <td>TRUMP: We have to make our country totally suc...</td>\n",
       "    </tr>\n",
       "    <tr>\n",
       "      <th>355</th>\n",
       "      <td>WELKER: Alright. Vice President Biden, same qu...</td>\n",
       "    </tr>\n",
       "    <tr>\n",
       "      <th>356</th>\n",
       "      <td>BIDEN: I will say, I’m an American president. ...</td>\n",
       "    </tr>\n",
       "    <tr>\n",
       "      <th>357</th>\n",
       "      <td>WELKER: Alright. I want to thank you both for ...</td>\n",
       "    </tr>\n",
       "    <tr>\n",
       "      <th>358</th>\n",
       "      <td>© COPYRIGHT 2020 THE COMMISSION ON PRESIDENTIA...</td>\n",
       "    </tr>\n",
       "  </tbody>\n",
       "</table>\n",
       "<p>359 rows × 1 columns</p>\n",
       "</div>"
      ],
      "text/plain": [
       "                                                  Text\n",
       "0    Presidential Debate at Belmont University in N...\n",
       "1                                     October 22, 2020\n",
       "2    PARTICIPANTS:\\nFormer Vice President Joe Biden...\n",
       "3                MODERATOR:\\nKristen Welker (NBC News)\n",
       "4    WELKER: Good evening from Belmont University i...\n",
       "..                                                 ...\n",
       "354  TRUMP: We have to make our country totally suc...\n",
       "355  WELKER: Alright. Vice President Biden, same qu...\n",
       "356  BIDEN: I will say, I’m an American president. ...\n",
       "357  WELKER: Alright. I want to thank you both for ...\n",
       "358  © COPYRIGHT 2020 THE COMMISSION ON PRESIDENTIA...\n",
       "\n",
       "[359 rows x 1 columns]"
      ]
     },
     "execution_count": 44,
     "metadata": {},
     "output_type": "execute_result"
    }
   ],
   "source": [
    "df"
   ]
  },
  {
   "cell_type": "code",
   "execution_count": 45,
   "id": "1d36b3bb-ccc5-4121-9d49-384455695eae",
   "metadata": {},
   "outputs": [
    {
     "data": {
      "text/html": [
       "<div>\n",
       "<style scoped>\n",
       "    .dataframe tbody tr th:only-of-type {\n",
       "        vertical-align: middle;\n",
       "    }\n",
       "\n",
       "    .dataframe tbody tr th {\n",
       "        vertical-align: top;\n",
       "    }\n",
       "\n",
       "    .dataframe thead th {\n",
       "        text-align: right;\n",
       "    }\n",
       "</style>\n",
       "<table border=\"1\" class=\"dataframe\">\n",
       "  <thead>\n",
       "    <tr style=\"text-align: right;\">\n",
       "      <th></th>\n",
       "      <th>Text</th>\n",
       "    </tr>\n",
       "  </thead>\n",
       "  <tbody>\n",
       "    <tr>\n",
       "      <th>0</th>\n",
       "      <td>Presidential Debate at Belmont University in N...</td>\n",
       "    </tr>\n",
       "    <tr>\n",
       "      <th>1</th>\n",
       "      <td>October 22, 2020</td>\n",
       "    </tr>\n",
       "    <tr>\n",
       "      <th>2</th>\n",
       "      <td>PARTICIPANTS:\\nFormer Vice President Joe Biden...</td>\n",
       "    </tr>\n",
       "    <tr>\n",
       "      <th>3</th>\n",
       "      <td>MODERATOR:\\nKristen Welker (NBC News)</td>\n",
       "    </tr>\n",
       "    <tr>\n",
       "      <th>4</th>\n",
       "      <td>WELKER: Good evening from Belmont University i...</td>\n",
       "    </tr>\n",
       "    <tr>\n",
       "      <th>5</th>\n",
       "      <td>And I do want to say a very good evening to bo...</td>\n",
       "    </tr>\n",
       "    <tr>\n",
       "      <th>6</th>\n",
       "      <td>And we will begin with the fight against the c...</td>\n",
       "    </tr>\n",
       "    <tr>\n",
       "      <th>7</th>\n",
       "      <td>TRUMP: So, as you know, 2.2 million people, mo...</td>\n",
       "    </tr>\n",
       "    <tr>\n",
       "      <th>8</th>\n",
       "      <td>WELKER: OK, former Vice President Biden, to yo...</td>\n",
       "    </tr>\n",
       "    <tr>\n",
       "      <th>9</th>\n",
       "      <td>BIDEN: 220,000 Americans dead. If you hear not...</td>\n",
       "    </tr>\n",
       "  </tbody>\n",
       "</table>\n",
       "</div>"
      ],
      "text/plain": [
       "                                                Text\n",
       "0  Presidential Debate at Belmont University in N...\n",
       "1                                   October 22, 2020\n",
       "2  PARTICIPANTS:\\nFormer Vice President Joe Biden...\n",
       "3              MODERATOR:\\nKristen Welker (NBC News)\n",
       "4  WELKER: Good evening from Belmont University i...\n",
       "5  And I do want to say a very good evening to bo...\n",
       "6  And we will begin with the fight against the c...\n",
       "7  TRUMP: So, as you know, 2.2 million people, mo...\n",
       "8  WELKER: OK, former Vice President Biden, to yo...\n",
       "9  BIDEN: 220,000 Americans dead. If you hear not..."
      ]
     },
     "execution_count": 45,
     "metadata": {},
     "output_type": "execute_result"
    }
   ],
   "source": [
    "df.head(10)"
   ]
  },
  {
   "cell_type": "code",
   "execution_count": 46,
   "id": "a888d828-c172-4a6a-af79-009fd2f3c1c6",
   "metadata": {},
   "outputs": [],
   "source": [
    "title = df.at[0, 'Text']\n",
    "df['Title'] = title\n",
    "\n",
    "debate = title\n",
    "df['Debate'] = debate\n",
    "\n",
    "date = df.at[1, 'Text']\n",
    "df['Date'] = date\n",
    "\n",
    "participants = df.at[2, 'Text']\n",
    "participants = re.sub(r'^\\w+:\\n', '', participants)\n",
    "participants = re.sub(r'\\n', ' ', participants)\n",
    "df['Participants'] = participants\n",
    "\n",
    "moderators = df.at[3, 'Text']\n",
    "moderators = re.sub(r'^\\w+:\\n', '', moderators)\n",
    "df['Moderators'] = moderators"
   ]
  },
  {
   "cell_type": "code",
   "execution_count": 47,
   "id": "5c2f77ca-1697-474a-b890-926e66c6ee8c",
   "metadata": {},
   "outputs": [
    {
     "data": {
      "text/plain": [
       "'© COPYRIGHT 2020 THE COMMISSION ON PRESIDENTIAL DEBATES. ALL RIGHTS RESERVED.'"
      ]
     },
     "execution_count": 47,
     "metadata": {},
     "output_type": "execute_result"
    }
   ],
   "source": [
    "last_row = 358\n",
    "df.loc[last_row, 'Text']"
   ]
  },
  {
   "cell_type": "code",
   "execution_count": 48,
   "id": "98be2343-96a2-4ac0-97fb-137424875e6c",
   "metadata": {},
   "outputs": [],
   "source": [
    "df = df[~df['Text'].str.contains(df.loc[last_row, 'Text'])]"
   ]
  },
  {
   "cell_type": "code",
   "execution_count": 49,
   "id": "541947a3-7a4a-4b29-9055-a7268d9633da",
   "metadata": {},
   "outputs": [],
   "source": [
    "df = df.loc[4:]\n",
    "df = df.reset_index(drop=True)"
   ]
  },
  {
   "cell_type": "code",
   "execution_count": 50,
   "id": "e81fc4b0-7d13-4395-9947-a845f2a669e7",
   "metadata": {},
   "outputs": [
    {
     "data": {
      "text/plain": [
       "Text\n",
       "False    354\n",
       "Name: count, dtype: int64"
      ]
     },
     "execution_count": 50,
     "metadata": {},
     "output_type": "execute_result"
    }
   ],
   "source": [
    "# List of expressions whose rows in column 'Text' should be dropped\n",
    "expressions_to_drop = ['(APPLAUSE)', '(LAUGHTER)', '(CROSSTALK)']\n",
    "\n",
    "# Creating a boolean mask for rows starting with the specified expressions\n",
    "mask = df['Text'].str.startswith(tuple(expressions_to_drop))\n",
    "\n",
    "# Counting the number of rows for each expression\n",
    "counts = mask.value_counts()\n",
    "\n",
    "# Display the counts\n",
    "counts"
   ]
  },
  {
   "cell_type": "code",
   "execution_count": 51,
   "id": "22ce80d1-9a94-4f26-a88b-9fbc305d42bf",
   "metadata": {},
   "outputs": [],
   "source": [
    "# Dropping the rows that start with those expressions in column 'Text'\n",
    "df = df[~mask]\n",
    "df = df.reset_index(drop=True)"
   ]
  },
  {
   "cell_type": "code",
   "execution_count": 52,
   "id": "b0f8b18b-ff62-4e68-91b4-69bf58770b92",
   "metadata": {},
   "outputs": [
    {
     "data": {
      "text/html": [
       "<div>\n",
       "<style scoped>\n",
       "    .dataframe tbody tr th:only-of-type {\n",
       "        vertical-align: middle;\n",
       "    }\n",
       "\n",
       "    .dataframe tbody tr th {\n",
       "        vertical-align: top;\n",
       "    }\n",
       "\n",
       "    .dataframe thead th {\n",
       "        text-align: right;\n",
       "    }\n",
       "</style>\n",
       "<table border=\"1\" class=\"dataframe\">\n",
       "  <thead>\n",
       "    <tr style=\"text-align: right;\">\n",
       "      <th></th>\n",
       "      <th>Text</th>\n",
       "      <th>Title</th>\n",
       "      <th>Debate</th>\n",
       "      <th>Date</th>\n",
       "      <th>Participants</th>\n",
       "      <th>Moderators</th>\n",
       "    </tr>\n",
       "  </thead>\n",
       "  <tbody>\n",
       "    <tr>\n",
       "      <th>0</th>\n",
       "      <td>WELKER: Good evening from Belmont University i...</td>\n",
       "      <td>Presidential Debate at Belmont University in N...</td>\n",
       "      <td>Presidential Debate at Belmont University in N...</td>\n",
       "      <td>October 22, 2020</td>\n",
       "      <td>Former Vice President Joe Biden (D) and Presid...</td>\n",
       "      <td>Kristen Welker (NBC News)</td>\n",
       "    </tr>\n",
       "  </tbody>\n",
       "</table>\n",
       "</div>"
      ],
      "text/plain": [
       "                                                Text  \\\n",
       "0  WELKER: Good evening from Belmont University i...   \n",
       "\n",
       "                                               Title  \\\n",
       "0  Presidential Debate at Belmont University in N...   \n",
       "\n",
       "                                              Debate              Date  \\\n",
       "0  Presidential Debate at Belmont University in N...  October 22, 2020   \n",
       "\n",
       "                                        Participants  \\\n",
       "0  Former Vice President Joe Biden (D) and Presid...   \n",
       "\n",
       "                  Moderators  \n",
       "0  Kristen Welker (NBC News)  "
      ]
     },
     "execution_count": 52,
     "metadata": {},
     "output_type": "execute_result"
    }
   ],
   "source": [
    "df.head(1)"
   ]
  },
  {
   "cell_type": "code",
   "execution_count": 53,
   "id": "3586a60e-eb4a-4f54-a23b-a61df82c76fa",
   "metadata": {},
   "outputs": [
    {
     "data": {
      "text/plain": [
       "'WELKER:\\xa0Good evening from Belmont University in Nashville, Tennessee. I’m Kristen Welker of NBC News and I welcome you to the final 2020 presidential debate between President Donald J. Trump and former Vice President Joe Biden. Tonight’s debate is sponsored by The Commission on Presidential Debates. It is conducted under health and safety protocols designed by the commission’s health security advisor. The audience here in the hall has promised to remain silent. No cheers, boos or other interruptions except right now, as we welcome to the stage former Vice President Joe Biden and President Donald J. Trump.'"
      ]
     },
     "execution_count": 53,
     "metadata": {},
     "output_type": "execute_result"
    }
   ],
   "source": [
    "df.loc[0, 'Text']"
   ]
  },
  {
   "cell_type": "code",
   "execution_count": 54,
   "id": "d382ffcf-309c-436a-88e4-ed9af10d044a",
   "metadata": {},
   "outputs": [
    {
     "name": "stdout",
     "output_type": "stream",
     "text": [
      "Number of turns: 354\n"
     ]
    }
   ],
   "source": [
    "df.at[0, 'Speaker'] = 1 # Adding column 'Speaker' by initialising it with a numeric value in order to avoid DtypeWarning\n",
    "df = df.astype('object') # Converting the column to the desired data type\n",
    "\n",
    "for index, row in df.iterrows():\n",
    "    match = re.match(r'^(\\w+):\\xa0', row['Text'])\n",
    "    if match:\n",
    "        speaker = match.group(1)\n",
    "        df.at[index, 'Speaker'] = speaker\n",
    "        text_without_speaker = row['Text'][len(match.group(0)):]\n",
    "        df.at[index, 'Text'] = text_without_speaker\n",
    "    else:\n",
    "        # Handle the case when no match is found (optional)\n",
    "        #df.at[index, 'Speaker'] = ''  # Set a default value\n",
    "        pass\n",
    "\n",
    "df['Speaker'].ffill(inplace=True)\n",
    "\n",
    "print('Number of turns:', df.shape[0])\n",
    "\n",
    "debate_list.append(title)\n",
    "turn_list.append(df.shape[0])\n",
    "\n",
    "df[['Title', 'Debate', 'Date', 'Participants', 'Moderators', 'Speaker', 'Text']].to_json(f'{debate_title}.jsonl', orient='records', lines=True)\n",
    "\n",
    "df[['Title', 'Debate', 'Date', 'Participants', 'Moderators', 'Speaker', 'Text']].to_csv(f'{debate_title}.tsv', sep='\\t', index=False, encoding='utf-8', lineterminator='\\n')"
   ]
  },
  {
   "cell_type": "markdown",
   "id": "f1e86cba-b9fb-4021-a885-677d42293c08",
   "metadata": {},
   "source": [
    "## Debate 4"
   ]
  },
  {
   "cell_type": "code",
   "execution_count": 55,
   "id": "832a0fee-380c-409e-b0b9-7ecbb222bd3f",
   "metadata": {},
   "outputs": [],
   "source": [
    "debate_title = debate_4\n",
    "url = debate_url_4\n",
    "response = requests.get(url)\n",
    "\n",
    "if response.status_code == 200:\n",
    "    page_content = response.content\n",
    "    # Step 2: Parse HTML content\n",
    "    soup = BeautifulSoup(page_content, 'lxml')\n",
    "\n",
    "    # Extract relevant tags (e.g., <h1>, <p>, etc.) and store them in a list\n",
    "    rows = []\n",
    "    for tag in soup.find_all(['h1', 'p']):\n",
    "        rows.append(tag.text.strip())  # Remove leading/trailing spaces\n",
    "    \n",
    "    # Create a DataFrame from the list of rows\n",
    "    df = pd.DataFrame(rows, columns=['Text'])\n",
    "\n",
    "else:\n",
    "    print(f'Failed to retrieve the page. Status code: {response.status_code}')"
   ]
  },
  {
   "cell_type": "code",
   "execution_count": 56,
   "id": "0c5827d8-0eab-45e0-bd03-c235ee317dfc",
   "metadata": {},
   "outputs": [
    {
     "data": {
      "text/html": [
       "<div>\n",
       "<style scoped>\n",
       "    .dataframe tbody tr th:only-of-type {\n",
       "        vertical-align: middle;\n",
       "    }\n",
       "\n",
       "    .dataframe tbody tr th {\n",
       "        vertical-align: top;\n",
       "    }\n",
       "\n",
       "    .dataframe thead th {\n",
       "        text-align: right;\n",
       "    }\n",
       "</style>\n",
       "<table border=\"1\" class=\"dataframe\">\n",
       "  <thead>\n",
       "    <tr style=\"text-align: right;\">\n",
       "      <th></th>\n",
       "      <th>Text</th>\n",
       "    </tr>\n",
       "  </thead>\n",
       "  <tbody>\n",
       "    <tr>\n",
       "      <th>0</th>\n",
       "      <td>September 26, 2016 Debate Transcript</td>\n",
       "    </tr>\n",
       "    <tr>\n",
       "      <th>1</th>\n",
       "      <td>Presidential Debate at Hofstra University in H...</td>\n",
       "    </tr>\n",
       "    <tr>\n",
       "      <th>2</th>\n",
       "      <td>September 26, 2016</td>\n",
       "    </tr>\n",
       "    <tr>\n",
       "      <th>3</th>\n",
       "      <td>PARTICIPANTS:</td>\n",
       "    </tr>\n",
       "    <tr>\n",
       "      <th>4</th>\n",
       "      <td>Former Secretary of State Hillary Clinton (D) and</td>\n",
       "    </tr>\n",
       "    <tr>\n",
       "      <th>...</th>\n",
       "      <td>...</td>\n",
       "    </tr>\n",
       "    <tr>\n",
       "      <th>527</th>\n",
       "      <td>TRUMP: Look, here’s the story. I want to make ...</td>\n",
       "    </tr>\n",
       "    <tr>\n",
       "      <th>528</th>\n",
       "      <td>HOLT: All right. Well, that is going to do it ...</td>\n",
       "    </tr>\n",
       "    <tr>\n",
       "      <th>529</th>\n",
       "      <td>The next presidential debates are scheduled fo...</td>\n",
       "    </tr>\n",
       "    <tr>\n",
       "      <th>530</th>\n",
       "      <td>A reminder. The vice presidential debate is sc...</td>\n",
       "    </tr>\n",
       "    <tr>\n",
       "      <th>531</th>\n",
       "      <td>© COPYRIGHT 2020 THE COMMISSION ON PRESIDENTIA...</td>\n",
       "    </tr>\n",
       "  </tbody>\n",
       "</table>\n",
       "<p>532 rows × 1 columns</p>\n",
       "</div>"
      ],
      "text/plain": [
       "                                                  Text\n",
       "0                 September 26, 2016 Debate Transcript\n",
       "1    Presidential Debate at Hofstra University in H...\n",
       "2                                   September 26, 2016\n",
       "3                                        PARTICIPANTS:\n",
       "4    Former Secretary of State Hillary Clinton (D) and\n",
       "..                                                 ...\n",
       "527  TRUMP: Look, here’s the story. I want to make ...\n",
       "528  HOLT: All right. Well, that is going to do it ...\n",
       "529  The next presidential debates are scheduled fo...\n",
       "530  A reminder. The vice presidential debate is sc...\n",
       "531  © COPYRIGHT 2020 THE COMMISSION ON PRESIDENTIA...\n",
       "\n",
       "[532 rows x 1 columns]"
      ]
     },
     "execution_count": 56,
     "metadata": {},
     "output_type": "execute_result"
    }
   ],
   "source": [
    "df"
   ]
  },
  {
   "cell_type": "code",
   "execution_count": 57,
   "id": "3401608d-85a6-493c-9a3a-436746a90969",
   "metadata": {},
   "outputs": [
    {
     "data": {
      "text/html": [
       "<div>\n",
       "<style scoped>\n",
       "    .dataframe tbody tr th:only-of-type {\n",
       "        vertical-align: middle;\n",
       "    }\n",
       "\n",
       "    .dataframe tbody tr th {\n",
       "        vertical-align: top;\n",
       "    }\n",
       "\n",
       "    .dataframe thead th {\n",
       "        text-align: right;\n",
       "    }\n",
       "</style>\n",
       "<table border=\"1\" class=\"dataframe\">\n",
       "  <thead>\n",
       "    <tr style=\"text-align: right;\">\n",
       "      <th></th>\n",
       "      <th>Text</th>\n",
       "    </tr>\n",
       "  </thead>\n",
       "  <tbody>\n",
       "    <tr>\n",
       "      <th>0</th>\n",
       "      <td>September 26, 2016 Debate Transcript</td>\n",
       "    </tr>\n",
       "    <tr>\n",
       "      <th>1</th>\n",
       "      <td>Presidential Debate at Hofstra University in H...</td>\n",
       "    </tr>\n",
       "    <tr>\n",
       "      <th>2</th>\n",
       "      <td>September 26, 2016</td>\n",
       "    </tr>\n",
       "    <tr>\n",
       "      <th>3</th>\n",
       "      <td>PARTICIPANTS:</td>\n",
       "    </tr>\n",
       "    <tr>\n",
       "      <th>4</th>\n",
       "      <td>Former Secretary of State Hillary Clinton (D) and</td>\n",
       "    </tr>\n",
       "    <tr>\n",
       "      <th>5</th>\n",
       "      <td>Businessman Donald Trump (R)</td>\n",
       "    </tr>\n",
       "    <tr>\n",
       "      <th>6</th>\n",
       "      <td>MODERATOR:</td>\n",
       "    </tr>\n",
       "    <tr>\n",
       "      <th>7</th>\n",
       "      <td>Lester Holt (NBC News)</td>\n",
       "    </tr>\n",
       "    <tr>\n",
       "      <th>8</th>\n",
       "      <td>HOLT: Good evening from Hofstra University in ...</td>\n",
       "    </tr>\n",
       "    <tr>\n",
       "      <th>9</th>\n",
       "      <td>The participants tonight are Donald Trump and ...</td>\n",
       "    </tr>\n",
       "  </tbody>\n",
       "</table>\n",
       "</div>"
      ],
      "text/plain": [
       "                                                Text\n",
       "0               September 26, 2016 Debate Transcript\n",
       "1  Presidential Debate at Hofstra University in H...\n",
       "2                                 September 26, 2016\n",
       "3                                      PARTICIPANTS:\n",
       "4  Former Secretary of State Hillary Clinton (D) and\n",
       "5                       Businessman Donald Trump (R)\n",
       "6                                         MODERATOR:\n",
       "7                             Lester Holt (NBC News)\n",
       "8  HOLT: Good evening from Hofstra University in ...\n",
       "9  The participants tonight are Donald Trump and ..."
      ]
     },
     "execution_count": 57,
     "metadata": {},
     "output_type": "execute_result"
    }
   ],
   "source": [
    "df.head(10)"
   ]
  },
  {
   "cell_type": "code",
   "execution_count": 58,
   "id": "cbd09287-5c89-4e8d-9b73-63f84bd9cc16",
   "metadata": {},
   "outputs": [],
   "source": [
    "title = df.at[0, 'Text']\n",
    "df['Title'] = title\n",
    "\n",
    "debate = df.at[1, 'Text']\n",
    "df['Debate'] = debate\n",
    "\n",
    "date = df.at[2, 'Text']\n",
    "df['Date'] = date\n",
    "\n",
    "participants = df.at[4, 'Text'] + ' ' + df.at[5, 'Text']\n",
    "#participants = re.sub(r'^\\w+:\\n', '', participants)\n",
    "#participants = re.sub(r'\\n', ' ', participants)\n",
    "df['Participants'] = participants\n",
    "\n",
    "moderators = df.at[7, 'Text']\n",
    "#moderators = re.sub(r'^\\w+:\\n', '', moderators)\n",
    "df['Moderators'] = moderators"
   ]
  },
  {
   "cell_type": "code",
   "execution_count": 59,
   "id": "c4ca877e-45cf-4561-ba3b-70b2f317191d",
   "metadata": {},
   "outputs": [
    {
     "data": {
      "text/plain": [
       "'© COPYRIGHT 2020 THE COMMISSION ON PRESIDENTIAL DEBATES. ALL RIGHTS RESERVED.'"
      ]
     },
     "execution_count": 59,
     "metadata": {},
     "output_type": "execute_result"
    }
   ],
   "source": [
    "last_row = 531\n",
    "df.loc[last_row, 'Text']"
   ]
  },
  {
   "cell_type": "code",
   "execution_count": 60,
   "id": "246fe940-e11a-44ec-b51d-8e3ba006ca73",
   "metadata": {},
   "outputs": [],
   "source": [
    "df = df[~df['Text'].str.contains(df.loc[last_row, 'Text'])]"
   ]
  },
  {
   "cell_type": "code",
   "execution_count": 61,
   "id": "fd557c8b-0077-415d-bcc9-e8cdee2c42b2",
   "metadata": {},
   "outputs": [],
   "source": [
    "df = df.loc[8:]\n",
    "df = df.reset_index(drop=True)"
   ]
  },
  {
   "cell_type": "code",
   "execution_count": 62,
   "id": "d0b1128b-c43b-4c97-87cf-331ab985ae4a",
   "metadata": {},
   "outputs": [
    {
     "data": {
      "text/plain": [
       "Text\n",
       "False    523\n",
       "Name: count, dtype: int64"
      ]
     },
     "execution_count": 62,
     "metadata": {},
     "output_type": "execute_result"
    }
   ],
   "source": [
    "# List of expressions whose rows in column 'Text' should be dropped\n",
    "expressions_to_drop = ['(APPLAUSE)', '(LAUGHTER)', '(CROSSTALK)']\n",
    "\n",
    "# Creating a boolean mask for rows starting with the specified expressions\n",
    "mask = df['Text'].str.startswith(tuple(expressions_to_drop))\n",
    "\n",
    "# Counting the number of rows for each expression\n",
    "counts = mask.value_counts()\n",
    "\n",
    "# Display the counts\n",
    "counts"
   ]
  },
  {
   "cell_type": "code",
   "execution_count": 63,
   "id": "b8ec6763-a5ff-4be7-8d8e-2dc4f6e404d6",
   "metadata": {},
   "outputs": [],
   "source": [
    "# Dropping the rows that start with those expressions in column 'Text'\n",
    "df = df[~mask]\n",
    "df = df.reset_index(drop=True)"
   ]
  },
  {
   "cell_type": "code",
   "execution_count": 64,
   "id": "476a3e32-b798-4869-938e-745e40a8747c",
   "metadata": {},
   "outputs": [
    {
     "data": {
      "text/html": [
       "<div>\n",
       "<style scoped>\n",
       "    .dataframe tbody tr th:only-of-type {\n",
       "        vertical-align: middle;\n",
       "    }\n",
       "\n",
       "    .dataframe tbody tr th {\n",
       "        vertical-align: top;\n",
       "    }\n",
       "\n",
       "    .dataframe thead th {\n",
       "        text-align: right;\n",
       "    }\n",
       "</style>\n",
       "<table border=\"1\" class=\"dataframe\">\n",
       "  <thead>\n",
       "    <tr style=\"text-align: right;\">\n",
       "      <th></th>\n",
       "      <th>Text</th>\n",
       "      <th>Title</th>\n",
       "      <th>Debate</th>\n",
       "      <th>Date</th>\n",
       "      <th>Participants</th>\n",
       "      <th>Moderators</th>\n",
       "    </tr>\n",
       "  </thead>\n",
       "  <tbody>\n",
       "    <tr>\n",
       "      <th>0</th>\n",
       "      <td>HOLT: Good evening from Hofstra University in ...</td>\n",
       "      <td>September 26, 2016 Debate Transcript</td>\n",
       "      <td>Presidential Debate at Hofstra University in H...</td>\n",
       "      <td>September 26, 2016</td>\n",
       "      <td>Former Secretary of State Hillary Clinton (D) ...</td>\n",
       "      <td>Lester Holt (NBC News)</td>\n",
       "    </tr>\n",
       "  </tbody>\n",
       "</table>\n",
       "</div>"
      ],
      "text/plain": [
       "                                                Text  \\\n",
       "0  HOLT: Good evening from Hofstra University in ...   \n",
       "\n",
       "                                  Title  \\\n",
       "0  September 26, 2016 Debate Transcript   \n",
       "\n",
       "                                              Debate                Date  \\\n",
       "0  Presidential Debate at Hofstra University in H...  September 26, 2016   \n",
       "\n",
       "                                        Participants              Moderators  \n",
       "0  Former Secretary of State Hillary Clinton (D) ...  Lester Holt (NBC News)  "
      ]
     },
     "execution_count": 64,
     "metadata": {},
     "output_type": "execute_result"
    }
   ],
   "source": [
    "df.head(1)"
   ]
  },
  {
   "cell_type": "code",
   "execution_count": 65,
   "id": "f76c0a3c-2b3c-4553-91cc-8837e0becd37",
   "metadata": {},
   "outputs": [
    {
     "data": {
      "text/plain": [
       "'HOLT: Good evening from Hofstra University in Hempstead, New York. I’m Lester Holt, anchor of “NBC Nightly News.” I want to welcome you to the first presidential debate.'"
      ]
     },
     "execution_count": 65,
     "metadata": {},
     "output_type": "execute_result"
    }
   ],
   "source": [
    "df.loc[0, 'Text']"
   ]
  },
  {
   "cell_type": "code",
   "execution_count": 66,
   "id": "127401e6-fa33-4b4e-bd83-ec8644c38e7c",
   "metadata": {},
   "outputs": [
    {
     "name": "stdout",
     "output_type": "stream",
     "text": [
      "Number of turns: 523\n"
     ]
    }
   ],
   "source": [
    "df.at[0, 'Speaker'] = 1 # Adding column 'Speaker' by initialising it with a numeric value in order to avoid DtypeWarning\n",
    "df = df.astype('object') # Converting the column to the desired data type\n",
    "\n",
    "for index, row in df.iterrows():\n",
    "    match = re.match(r'^(\\w+): ', row['Text'])\n",
    "    if match:\n",
    "        speaker = match.group(1)\n",
    "        df.at[index, 'Speaker'] = speaker\n",
    "        text_without_speaker = row['Text'][len(match.group(0)):]\n",
    "        df.at[index, 'Text'] = text_without_speaker\n",
    "    else:\n",
    "        # Handle the case when no match is found (optional)\n",
    "        #df.at[index, 'Speaker'] = ''  # Set a default value\n",
    "        pass\n",
    "\n",
    "df['Speaker'].ffill(inplace=True)\n",
    "\n",
    "print('Number of turns:', df.shape[0])\n",
    "\n",
    "debate_list.append(title)\n",
    "turn_list.append(df.shape[0])\n",
    "\n",
    "df[['Title', 'Debate', 'Date', 'Participants', 'Moderators', 'Speaker', 'Text']].to_json(f'{debate_title}.jsonl', orient='records', lines=True)\n",
    "\n",
    "df[['Title', 'Debate', 'Date', 'Participants', 'Moderators', 'Speaker', 'Text']].to_csv(f'{debate_title}.tsv', sep='\\t', index=False, encoding='utf-8', lineterminator='\\n')"
   ]
  },
  {
   "cell_type": "markdown",
   "id": "fa966e81-00b9-4c23-b14c-d1b1553f54fd",
   "metadata": {},
   "source": [
    "## Debate 5"
   ]
  },
  {
   "cell_type": "code",
   "execution_count": 67,
   "id": "db9428ca-5b66-443f-9611-167f5b546839",
   "metadata": {},
   "outputs": [],
   "source": [
    "debate_title = debate_5\n",
    "url = debate_url_5\n",
    "response = requests.get(url)\n",
    "\n",
    "if response.status_code == 200:\n",
    "    page_content = response.content\n",
    "    # Step 2: Parse HTML content\n",
    "    soup = BeautifulSoup(page_content, 'lxml')\n",
    "\n",
    "    # Extract relevant tags (e.g., <h1>, <p>, etc.) and store them in a list\n",
    "    rows = []\n",
    "    for tag in soup.find_all(['h1', 'p']):\n",
    "        rows.append(tag.text.strip())  # Remove leading/trailing spaces\n",
    "    \n",
    "    # Create a DataFrame from the list of rows\n",
    "    df = pd.DataFrame(rows, columns=['Text'])\n",
    "\n",
    "else:\n",
    "    print(f'Failed to retrieve the page. Status code: {response.status_code}')"
   ]
  },
  {
   "cell_type": "code",
   "execution_count": 68,
   "id": "cf55176d-9d98-4237-b263-4b1ccfb5c44d",
   "metadata": {},
   "outputs": [
    {
     "data": {
      "text/html": [
       "<div>\n",
       "<style scoped>\n",
       "    .dataframe tbody tr th:only-of-type {\n",
       "        vertical-align: middle;\n",
       "    }\n",
       "\n",
       "    .dataframe tbody tr th {\n",
       "        vertical-align: top;\n",
       "    }\n",
       "\n",
       "    .dataframe thead th {\n",
       "        text-align: right;\n",
       "    }\n",
       "</style>\n",
       "<table border=\"1\" class=\"dataframe\">\n",
       "  <thead>\n",
       "    <tr style=\"text-align: right;\">\n",
       "      <th></th>\n",
       "      <th>Text</th>\n",
       "    </tr>\n",
       "  </thead>\n",
       "  <tbody>\n",
       "    <tr>\n",
       "      <th>0</th>\n",
       "      <td>October 4, 2016 Debate Transcript</td>\n",
       "    </tr>\n",
       "    <tr>\n",
       "      <th>1</th>\n",
       "      <td>Vice Presidential Debate at Longwood Universit...</td>\n",
       "    </tr>\n",
       "    <tr>\n",
       "      <th>2</th>\n",
       "      <td>October 4, 2016</td>\n",
       "    </tr>\n",
       "    <tr>\n",
       "      <th>3</th>\n",
       "      <td>PARTICIPANTS:</td>\n",
       "    </tr>\n",
       "    <tr>\n",
       "      <th>4</th>\n",
       "      <td>Senator Tim Kaine (D-VA) and</td>\n",
       "    </tr>\n",
       "    <tr>\n",
       "      <th>...</th>\n",
       "      <td>...</td>\n",
       "    </tr>\n",
       "    <tr>\n",
       "      <th>661</th>\n",
       "      <td>When you hear him say he wants to make America...</td>\n",
       "    </tr>\n",
       "    <tr>\n",
       "      <th>662</th>\n",
       "      <td>QUIJANO: All right, gentlemen, thank you so much.</td>\n",
       "    </tr>\n",
       "    <tr>\n",
       "      <th>663</th>\n",
       "      <td>This concludes the vice presidential debate. M...</td>\n",
       "    </tr>\n",
       "    <tr>\n",
       "      <th>664</th>\n",
       "      <td>From Farmville, Virginia, I’m Elaine Quijano o...</td>\n",
       "    </tr>\n",
       "    <tr>\n",
       "      <th>665</th>\n",
       "      <td>© COPYRIGHT 2020 THE COMMISSION ON PRESIDENTIA...</td>\n",
       "    </tr>\n",
       "  </tbody>\n",
       "</table>\n",
       "<p>666 rows × 1 columns</p>\n",
       "</div>"
      ],
      "text/plain": [
       "                                                  Text\n",
       "0                    October 4, 2016 Debate Transcript\n",
       "1    Vice Presidential Debate at Longwood Universit...\n",
       "2                                      October 4, 2016\n",
       "3                                        PARTICIPANTS:\n",
       "4                         Senator Tim Kaine (D-VA) and\n",
       "..                                                 ...\n",
       "661  When you hear him say he wants to make America...\n",
       "662  QUIJANO: All right, gentlemen, thank you so much.\n",
       "663  This concludes the vice presidential debate. M...\n",
       "664  From Farmville, Virginia, I’m Elaine Quijano o...\n",
       "665  © COPYRIGHT 2020 THE COMMISSION ON PRESIDENTIA...\n",
       "\n",
       "[666 rows x 1 columns]"
      ]
     },
     "execution_count": 68,
     "metadata": {},
     "output_type": "execute_result"
    }
   ],
   "source": [
    "df"
   ]
  },
  {
   "cell_type": "code",
   "execution_count": 69,
   "id": "a8b8a976-3839-4ac4-901d-6102ca8a71b4",
   "metadata": {},
   "outputs": [
    {
     "data": {
      "text/html": [
       "<div>\n",
       "<style scoped>\n",
       "    .dataframe tbody tr th:only-of-type {\n",
       "        vertical-align: middle;\n",
       "    }\n",
       "\n",
       "    .dataframe tbody tr th {\n",
       "        vertical-align: top;\n",
       "    }\n",
       "\n",
       "    .dataframe thead th {\n",
       "        text-align: right;\n",
       "    }\n",
       "</style>\n",
       "<table border=\"1\" class=\"dataframe\">\n",
       "  <thead>\n",
       "    <tr style=\"text-align: right;\">\n",
       "      <th></th>\n",
       "      <th>Text</th>\n",
       "    </tr>\n",
       "  </thead>\n",
       "  <tbody>\n",
       "    <tr>\n",
       "      <th>0</th>\n",
       "      <td>October 4, 2016 Debate Transcript</td>\n",
       "    </tr>\n",
       "    <tr>\n",
       "      <th>1</th>\n",
       "      <td>Vice Presidential Debate at Longwood Universit...</td>\n",
       "    </tr>\n",
       "    <tr>\n",
       "      <th>2</th>\n",
       "      <td>October 4, 2016</td>\n",
       "    </tr>\n",
       "    <tr>\n",
       "      <th>3</th>\n",
       "      <td>PARTICIPANTS:</td>\n",
       "    </tr>\n",
       "    <tr>\n",
       "      <th>4</th>\n",
       "      <td>Senator Tim Kaine (D-VA) and</td>\n",
       "    </tr>\n",
       "    <tr>\n",
       "      <th>5</th>\n",
       "      <td>Governor Mike Pence (R-IN)</td>\n",
       "    </tr>\n",
       "    <tr>\n",
       "      <th>6</th>\n",
       "      <td>MODERATOR:</td>\n",
       "    </tr>\n",
       "    <tr>\n",
       "      <th>7</th>\n",
       "      <td>Elaine Quijano (CBS News)</td>\n",
       "    </tr>\n",
       "    <tr>\n",
       "      <th>8</th>\n",
       "      <td>QUIJANO: Good evening. From Longwood Universit...</td>\n",
       "    </tr>\n",
       "    <tr>\n",
       "      <th>9</th>\n",
       "      <td>I’m Elaine Quijano, anchor at CBSN, and corres...</td>\n",
       "    </tr>\n",
       "  </tbody>\n",
       "</table>\n",
       "</div>"
      ],
      "text/plain": [
       "                                                Text\n",
       "0                  October 4, 2016 Debate Transcript\n",
       "1  Vice Presidential Debate at Longwood Universit...\n",
       "2                                    October 4, 2016\n",
       "3                                      PARTICIPANTS:\n",
       "4                       Senator Tim Kaine (D-VA) and\n",
       "5                         Governor Mike Pence (R-IN)\n",
       "6                                         MODERATOR:\n",
       "7                          Elaine Quijano (CBS News)\n",
       "8  QUIJANO: Good evening. From Longwood Universit...\n",
       "9  I’m Elaine Quijano, anchor at CBSN, and corres..."
      ]
     },
     "execution_count": 69,
     "metadata": {},
     "output_type": "execute_result"
    }
   ],
   "source": [
    "df.head(10)"
   ]
  },
  {
   "cell_type": "code",
   "execution_count": 70,
   "id": "8ce52ae0-eebc-4155-9634-d76c3696fa2f",
   "metadata": {},
   "outputs": [],
   "source": [
    "title = df.at[0, 'Text']\n",
    "df['Title'] = title\n",
    "\n",
    "debate = df.at[1, 'Text']\n",
    "df['Debate'] = debate\n",
    "\n",
    "date = df.at[2, 'Text']\n",
    "df['Date'] = date\n",
    "\n",
    "participants = df.at[4, 'Text'] + ' ' + df.at[5, 'Text']\n",
    "#participants = re.sub(r'^\\w+:\\n', '', participants)\n",
    "#participants = re.sub(r'\\n', ' ', participants)\n",
    "df['Participants'] = participants\n",
    "\n",
    "moderators = df.at[7, 'Text']\n",
    "#moderators = re.sub(r'^\\w+:\\n', '', moderators)\n",
    "df['Moderators'] = moderators"
   ]
  },
  {
   "cell_type": "code",
   "execution_count": 71,
   "id": "45eb8414-5a34-4554-a28a-0e7f6d35278c",
   "metadata": {},
   "outputs": [
    {
     "data": {
      "text/plain": [
       "'© COPYRIGHT 2020 THE COMMISSION ON PRESIDENTIAL DEBATES. ALL RIGHTS RESERVED.'"
      ]
     },
     "execution_count": 71,
     "metadata": {},
     "output_type": "execute_result"
    }
   ],
   "source": [
    "last_row = 665\n",
    "df.loc[last_row, 'Text']"
   ]
  },
  {
   "cell_type": "code",
   "execution_count": 72,
   "id": "44c61626-41d5-4b1a-98eb-29cc9256816b",
   "metadata": {},
   "outputs": [],
   "source": [
    "df = df[~df['Text'].str.contains(df.loc[last_row, 'Text'])]"
   ]
  },
  {
   "cell_type": "code",
   "execution_count": 73,
   "id": "c30098ad-cb2c-474d-966b-1ee09f345b3e",
   "metadata": {},
   "outputs": [],
   "source": [
    "df = df.loc[8:]\n",
    "df = df.reset_index(drop=True)"
   ]
  },
  {
   "cell_type": "code",
   "execution_count": 74,
   "id": "90f5957d-3f27-4bb0-97bf-2dde89f0c30e",
   "metadata": {},
   "outputs": [
    {
     "data": {
      "text/plain": [
       "Text\n",
       "False    657\n",
       "Name: count, dtype: int64"
      ]
     },
     "execution_count": 74,
     "metadata": {},
     "output_type": "execute_result"
    }
   ],
   "source": [
    "# List of expressions whose rows in column 'Text' should be dropped\n",
    "expressions_to_drop = ['(APPLAUSE)', '(LAUGHTER)', '(CROSSTALK)']\n",
    "\n",
    "# Creating a boolean mask for rows starting with the specified expressions\n",
    "mask = df['Text'].str.startswith(tuple(expressions_to_drop))\n",
    "\n",
    "# Counting the number of rows for each expression\n",
    "counts = mask.value_counts()\n",
    "\n",
    "# Display the counts\n",
    "counts"
   ]
  },
  {
   "cell_type": "code",
   "execution_count": 75,
   "id": "6fcfd2e7-c96d-4365-8eba-9efb96cb1d03",
   "metadata": {},
   "outputs": [],
   "source": [
    "# Dropping the rows that start with those expressions in column 'Text'\n",
    "df = df[~mask]\n",
    "df = df.reset_index(drop=True)"
   ]
  },
  {
   "cell_type": "code",
   "execution_count": 76,
   "id": "1b1ac792-f255-4fe6-abee-53cf12e1907d",
   "metadata": {},
   "outputs": [
    {
     "data": {
      "text/html": [
       "<div>\n",
       "<style scoped>\n",
       "    .dataframe tbody tr th:only-of-type {\n",
       "        vertical-align: middle;\n",
       "    }\n",
       "\n",
       "    .dataframe tbody tr th {\n",
       "        vertical-align: top;\n",
       "    }\n",
       "\n",
       "    .dataframe thead th {\n",
       "        text-align: right;\n",
       "    }\n",
       "</style>\n",
       "<table border=\"1\" class=\"dataframe\">\n",
       "  <thead>\n",
       "    <tr style=\"text-align: right;\">\n",
       "      <th></th>\n",
       "      <th>Text</th>\n",
       "      <th>Title</th>\n",
       "      <th>Debate</th>\n",
       "      <th>Date</th>\n",
       "      <th>Participants</th>\n",
       "      <th>Moderators</th>\n",
       "    </tr>\n",
       "  </thead>\n",
       "  <tbody>\n",
       "    <tr>\n",
       "      <th>0</th>\n",
       "      <td>QUIJANO: Good evening. From Longwood Universit...</td>\n",
       "      <td>October 4, 2016 Debate Transcript</td>\n",
       "      <td>Vice Presidential Debate at Longwood Universit...</td>\n",
       "      <td>October 4, 2016</td>\n",
       "      <td>Senator Tim Kaine (D-VA) and Governor Mike Pen...</td>\n",
       "      <td>Elaine Quijano (CBS News)</td>\n",
       "    </tr>\n",
       "  </tbody>\n",
       "</table>\n",
       "</div>"
      ],
      "text/plain": [
       "                                                Text  \\\n",
       "0  QUIJANO: Good evening. From Longwood Universit...   \n",
       "\n",
       "                               Title  \\\n",
       "0  October 4, 2016 Debate Transcript   \n",
       "\n",
       "                                              Debate             Date  \\\n",
       "0  Vice Presidential Debate at Longwood Universit...  October 4, 2016   \n",
       "\n",
       "                                        Participants  \\\n",
       "0  Senator Tim Kaine (D-VA) and Governor Mike Pen...   \n",
       "\n",
       "                  Moderators  \n",
       "0  Elaine Quijano (CBS News)  "
      ]
     },
     "execution_count": 76,
     "metadata": {},
     "output_type": "execute_result"
    }
   ],
   "source": [
    "df.head(1)"
   ]
  },
  {
   "cell_type": "code",
   "execution_count": 77,
   "id": "7dc05347-28f0-4be7-be9c-28a31526916a",
   "metadata": {},
   "outputs": [
    {
     "data": {
      "text/plain": [
       "'QUIJANO: Good evening. From Longwood University in Farmville, Virginia, and welcome to the first, and only, vice presidential debate of 2016, sponsored by the Commission on Presidential Debates.'"
      ]
     },
     "execution_count": 77,
     "metadata": {},
     "output_type": "execute_result"
    }
   ],
   "source": [
    "df.loc[0, 'Text']"
   ]
  },
  {
   "cell_type": "code",
   "execution_count": 78,
   "id": "e89dc440-a2a3-425f-b425-e41e1b1d02c9",
   "metadata": {},
   "outputs": [
    {
     "name": "stdout",
     "output_type": "stream",
     "text": [
      "Number of turns: 657\n"
     ]
    }
   ],
   "source": [
    "df.at[0, 'Speaker'] = 1 # Adding column 'Speaker' by initialising it with a numeric value in order to avoid DtypeWarning\n",
    "df = df.astype('object') # Converting the column to the desired data type\n",
    "\n",
    "for index, row in df.iterrows():\n",
    "    match = re.match(r'^(\\w+): ', row['Text'])\n",
    "    if match:\n",
    "        speaker = match.group(1)\n",
    "        df.at[index, 'Speaker'] = speaker\n",
    "        text_without_speaker = row['Text'][len(match.group(0)):]\n",
    "        df.at[index, 'Text'] = text_without_speaker\n",
    "    else:\n",
    "        # Handle the case when no match is found (optional)\n",
    "        #df.at[index, 'Speaker'] = ''  # Set a default value\n",
    "        pass\n",
    "\n",
    "df['Speaker'].ffill(inplace=True)\n",
    "\n",
    "print('Number of turns:', df.shape[0])\n",
    "\n",
    "debate_list.append(title)\n",
    "turn_list.append(df.shape[0])\n",
    "\n",
    "df[['Title', 'Debate', 'Date', 'Participants', 'Moderators', 'Speaker', 'Text']].to_json(f'{debate_title}.jsonl', orient='records', lines=True)\n",
    "\n",
    "df[['Title', 'Debate', 'Date', 'Participants', 'Moderators', 'Speaker', 'Text']].to_csv(f'{debate_title}.tsv', sep='\\t', index=False, encoding='utf-8', lineterminator='\\n')"
   ]
  },
  {
   "cell_type": "markdown",
   "id": "c0002372-5cbf-45d1-9589-5162bd1a8b59",
   "metadata": {},
   "source": [
    "## Debate 6"
   ]
  },
  {
   "cell_type": "code",
   "execution_count": 79,
   "id": "0d2d3df8-36df-45a3-837a-39e63a44b67f",
   "metadata": {},
   "outputs": [],
   "source": [
    "debate_title = debate_6\n",
    "url = debate_url_6\n",
    "response = requests.get(url)\n",
    "\n",
    "if response.status_code == 200:\n",
    "    page_content = response.content\n",
    "    # Step 2: Parse HTML content\n",
    "    soup = BeautifulSoup(page_content, 'lxml')\n",
    "\n",
    "    # Extract relevant tags (e.g., <h1>, <p>, etc.) and store them in a list\n",
    "    rows = []\n",
    "    for tag in soup.find_all(['h1', 'p']):\n",
    "        rows.append(tag.text.strip())  # Remove leading/trailing spaces\n",
    "    \n",
    "    # Create a DataFrame from the list of rows\n",
    "    df = pd.DataFrame(rows, columns=['Text'])\n",
    "\n",
    "else:\n",
    "    print(f'Failed to retrieve the page. Status code: {response.status_code}')"
   ]
  },
  {
   "cell_type": "code",
   "execution_count": 80,
   "id": "b3b41993-6cbd-4fad-8dbf-832b1be6c44f",
   "metadata": {},
   "outputs": [
    {
     "data": {
      "text/html": [
       "<div>\n",
       "<style scoped>\n",
       "    .dataframe tbody tr th:only-of-type {\n",
       "        vertical-align: middle;\n",
       "    }\n",
       "\n",
       "    .dataframe tbody tr th {\n",
       "        vertical-align: top;\n",
       "    }\n",
       "\n",
       "    .dataframe thead th {\n",
       "        text-align: right;\n",
       "    }\n",
       "</style>\n",
       "<table border=\"1\" class=\"dataframe\">\n",
       "  <thead>\n",
       "    <tr style=\"text-align: right;\">\n",
       "      <th></th>\n",
       "      <th>Text</th>\n",
       "    </tr>\n",
       "  </thead>\n",
       "  <tbody>\n",
       "    <tr>\n",
       "      <th>0</th>\n",
       "      <td>October 9, 2016 Debate Transcript</td>\n",
       "    </tr>\n",
       "    <tr>\n",
       "      <th>1</th>\n",
       "      <td>Presidential Debate at Washington University i...</td>\n",
       "    </tr>\n",
       "    <tr>\n",
       "      <th>2</th>\n",
       "      <td>October 9, 2016</td>\n",
       "    </tr>\n",
       "    <tr>\n",
       "      <th>3</th>\n",
       "      <td>PARTICIPANTS:</td>\n",
       "    </tr>\n",
       "    <tr>\n",
       "      <th>4</th>\n",
       "      <td>Former Secretary of State Hillary Clinton (D) and</td>\n",
       "    </tr>\n",
       "    <tr>\n",
       "      <th>...</th>\n",
       "      <td>...</td>\n",
       "    </tr>\n",
       "    <tr>\n",
       "      <th>457</th>\n",
       "      <td>RADDATZ: Thanks to both of you.</td>\n",
       "    </tr>\n",
       "    <tr>\n",
       "      <th>458</th>\n",
       "      <td>COOPER: We want to thank both the candidates. ...</td>\n",
       "    </tr>\n",
       "    <tr>\n",
       "      <th>459</th>\n",
       "      <td>RADDATZ: Please tune in on October 19th for th...</td>\n",
       "    </tr>\n",
       "    <tr>\n",
       "      <th>460</th>\n",
       "      <td></td>\n",
       "    </tr>\n",
       "    <tr>\n",
       "      <th>461</th>\n",
       "      <td>© COPYRIGHT 2020 THE COMMISSION ON PRESIDENTIA...</td>\n",
       "    </tr>\n",
       "  </tbody>\n",
       "</table>\n",
       "<p>462 rows × 1 columns</p>\n",
       "</div>"
      ],
      "text/plain": [
       "                                                  Text\n",
       "0                    October 9, 2016 Debate Transcript\n",
       "1    Presidential Debate at Washington University i...\n",
       "2                                      October 9, 2016\n",
       "3                                        PARTICIPANTS:\n",
       "4    Former Secretary of State Hillary Clinton (D) and\n",
       "..                                                 ...\n",
       "457                    RADDATZ: Thanks to both of you.\n",
       "458  COOPER: We want to thank both the candidates. ...\n",
       "459  RADDATZ: Please tune in on October 19th for th...\n",
       "460                                                   \n",
       "461  © COPYRIGHT 2020 THE COMMISSION ON PRESIDENTIA...\n",
       "\n",
       "[462 rows x 1 columns]"
      ]
     },
     "execution_count": 80,
     "metadata": {},
     "output_type": "execute_result"
    }
   ],
   "source": [
    "df"
   ]
  },
  {
   "cell_type": "code",
   "execution_count": 81,
   "id": "540f45cd-476d-48cb-93ef-3ba502fb1285",
   "metadata": {},
   "outputs": [],
   "source": [
    "df.drop(460, inplace=True)\n",
    "df = df.reset_index(drop=True)"
   ]
  },
  {
   "cell_type": "code",
   "execution_count": 82,
   "id": "513c8a52-d008-4700-a031-df843b534023",
   "metadata": {},
   "outputs": [
    {
     "data": {
      "text/html": [
       "<div>\n",
       "<style scoped>\n",
       "    .dataframe tbody tr th:only-of-type {\n",
       "        vertical-align: middle;\n",
       "    }\n",
       "\n",
       "    .dataframe tbody tr th {\n",
       "        vertical-align: top;\n",
       "    }\n",
       "\n",
       "    .dataframe thead th {\n",
       "        text-align: right;\n",
       "    }\n",
       "</style>\n",
       "<table border=\"1\" class=\"dataframe\">\n",
       "  <thead>\n",
       "    <tr style=\"text-align: right;\">\n",
       "      <th></th>\n",
       "      <th>Text</th>\n",
       "    </tr>\n",
       "  </thead>\n",
       "  <tbody>\n",
       "    <tr>\n",
       "      <th>0</th>\n",
       "      <td>October 9, 2016 Debate Transcript</td>\n",
       "    </tr>\n",
       "    <tr>\n",
       "      <th>1</th>\n",
       "      <td>Presidential Debate at Washington University i...</td>\n",
       "    </tr>\n",
       "    <tr>\n",
       "      <th>2</th>\n",
       "      <td>October 9, 2016</td>\n",
       "    </tr>\n",
       "    <tr>\n",
       "      <th>3</th>\n",
       "      <td>PARTICIPANTS:</td>\n",
       "    </tr>\n",
       "    <tr>\n",
       "      <th>4</th>\n",
       "      <td>Former Secretary of State Hillary Clinton (D) and</td>\n",
       "    </tr>\n",
       "    <tr>\n",
       "      <th>...</th>\n",
       "      <td>...</td>\n",
       "    </tr>\n",
       "    <tr>\n",
       "      <th>456</th>\n",
       "      <td>I will say this about Hillary. She doesn’t qui...</td>\n",
       "    </tr>\n",
       "    <tr>\n",
       "      <th>457</th>\n",
       "      <td>RADDATZ: Thanks to both of you.</td>\n",
       "    </tr>\n",
       "    <tr>\n",
       "      <th>458</th>\n",
       "      <td>COOPER: We want to thank both the candidates. ...</td>\n",
       "    </tr>\n",
       "    <tr>\n",
       "      <th>459</th>\n",
       "      <td>RADDATZ: Please tune in on October 19th for th...</td>\n",
       "    </tr>\n",
       "    <tr>\n",
       "      <th>460</th>\n",
       "      <td>© COPYRIGHT 2020 THE COMMISSION ON PRESIDENTIA...</td>\n",
       "    </tr>\n",
       "  </tbody>\n",
       "</table>\n",
       "<p>461 rows × 1 columns</p>\n",
       "</div>"
      ],
      "text/plain": [
       "                                                  Text\n",
       "0                    October 9, 2016 Debate Transcript\n",
       "1    Presidential Debate at Washington University i...\n",
       "2                                      October 9, 2016\n",
       "3                                        PARTICIPANTS:\n",
       "4    Former Secretary of State Hillary Clinton (D) and\n",
       "..                                                 ...\n",
       "456  I will say this about Hillary. She doesn’t qui...\n",
       "457                    RADDATZ: Thanks to both of you.\n",
       "458  COOPER: We want to thank both the candidates. ...\n",
       "459  RADDATZ: Please tune in on October 19th for th...\n",
       "460  © COPYRIGHT 2020 THE COMMISSION ON PRESIDENTIA...\n",
       "\n",
       "[461 rows x 1 columns]"
      ]
     },
     "execution_count": 82,
     "metadata": {},
     "output_type": "execute_result"
    }
   ],
   "source": [
    "df"
   ]
  },
  {
   "cell_type": "code",
   "execution_count": 83,
   "id": "1ce93239-73a8-41bf-bd73-ea082e273d54",
   "metadata": {},
   "outputs": [
    {
     "data": {
      "text/html": [
       "<div>\n",
       "<style scoped>\n",
       "    .dataframe tbody tr th:only-of-type {\n",
       "        vertical-align: middle;\n",
       "    }\n",
       "\n",
       "    .dataframe tbody tr th {\n",
       "        vertical-align: top;\n",
       "    }\n",
       "\n",
       "    .dataframe thead th {\n",
       "        text-align: right;\n",
       "    }\n",
       "</style>\n",
       "<table border=\"1\" class=\"dataframe\">\n",
       "  <thead>\n",
       "    <tr style=\"text-align: right;\">\n",
       "      <th></th>\n",
       "      <th>Text</th>\n",
       "    </tr>\n",
       "  </thead>\n",
       "  <tbody>\n",
       "    <tr>\n",
       "      <th>0</th>\n",
       "      <td>October 9, 2016 Debate Transcript</td>\n",
       "    </tr>\n",
       "    <tr>\n",
       "      <th>1</th>\n",
       "      <td>Presidential Debate at Washington University i...</td>\n",
       "    </tr>\n",
       "    <tr>\n",
       "      <th>2</th>\n",
       "      <td>October 9, 2016</td>\n",
       "    </tr>\n",
       "    <tr>\n",
       "      <th>3</th>\n",
       "      <td>PARTICIPANTS:</td>\n",
       "    </tr>\n",
       "    <tr>\n",
       "      <th>4</th>\n",
       "      <td>Former Secretary of State Hillary Clinton (D) and</td>\n",
       "    </tr>\n",
       "    <tr>\n",
       "      <th>5</th>\n",
       "      <td>Businessman Donald Trump (R)</td>\n",
       "    </tr>\n",
       "    <tr>\n",
       "      <th>6</th>\n",
       "      <td>MODERATORS:</td>\n",
       "    </tr>\n",
       "    <tr>\n",
       "      <th>7</th>\n",
       "      <td>Anderson Cooper (CNN) and</td>\n",
       "    </tr>\n",
       "    <tr>\n",
       "      <th>8</th>\n",
       "      <td>Martha Raddatz (ABC News)</td>\n",
       "    </tr>\n",
       "    <tr>\n",
       "      <th>9</th>\n",
       "      <td>RADDATZ: Good evening. I’m Martha Raddatz from...</td>\n",
       "    </tr>\n",
       "  </tbody>\n",
       "</table>\n",
       "</div>"
      ],
      "text/plain": [
       "                                                Text\n",
       "0                  October 9, 2016 Debate Transcript\n",
       "1  Presidential Debate at Washington University i...\n",
       "2                                    October 9, 2016\n",
       "3                                      PARTICIPANTS:\n",
       "4  Former Secretary of State Hillary Clinton (D) and\n",
       "5                       Businessman Donald Trump (R)\n",
       "6                                        MODERATORS:\n",
       "7                          Anderson Cooper (CNN) and\n",
       "8                          Martha Raddatz (ABC News)\n",
       "9  RADDATZ: Good evening. I’m Martha Raddatz from..."
      ]
     },
     "execution_count": 83,
     "metadata": {},
     "output_type": "execute_result"
    }
   ],
   "source": [
    "df.head(10)"
   ]
  },
  {
   "cell_type": "code",
   "execution_count": 84,
   "id": "bfc57e07-a7fb-4610-abbb-c9508643572c",
   "metadata": {},
   "outputs": [],
   "source": [
    "title = df.at[0, 'Text']\n",
    "df['Title'] = title\n",
    "\n",
    "debate = df.at[1, 'Text']\n",
    "df['Debate'] = debate\n",
    "\n",
    "date = df.at[2, 'Text']\n",
    "df['Date'] = date\n",
    "\n",
    "participants = df.at[4, 'Text'] + ' ' + df.at[5, 'Text']\n",
    "#participants = re.sub(r'^\\w+:\\n', '', participants)\n",
    "#participants = re.sub(r'\\n', ' ', participants)\n",
    "df['Participants'] = participants\n",
    "\n",
    "moderators = df.at[7, 'Text'] + ' ' + df.at[8, 'Text']\n",
    "#moderators = re.sub(r'^\\w+:\\n', '', moderators)\n",
    "df['Moderators'] = moderators"
   ]
  },
  {
   "cell_type": "code",
   "execution_count": 85,
   "id": "1d49a97c-ce05-4b8e-b4c9-c11034e880f8",
   "metadata": {},
   "outputs": [
    {
     "data": {
      "text/plain": [
       "'© COPYRIGHT 2020 THE COMMISSION ON PRESIDENTIAL DEBATES. ALL RIGHTS RESERVED.'"
      ]
     },
     "execution_count": 85,
     "metadata": {},
     "output_type": "execute_result"
    }
   ],
   "source": [
    "last_row = 460\n",
    "df.loc[last_row, 'Text']"
   ]
  },
  {
   "cell_type": "code",
   "execution_count": 86,
   "id": "2583548a-32a7-4e6d-9ed3-adffb31a87e4",
   "metadata": {},
   "outputs": [],
   "source": [
    "df = df[~df['Text'].str.contains(df.loc[last_row, 'Text'])]"
   ]
  },
  {
   "cell_type": "code",
   "execution_count": 87,
   "id": "64cbd0b7-8f09-491d-8f5a-23ec577076d5",
   "metadata": {},
   "outputs": [],
   "source": [
    "df = df.loc[9:]\n",
    "df = df.reset_index(drop=True)"
   ]
  },
  {
   "cell_type": "code",
   "execution_count": 88,
   "id": "75398f96-07d0-407f-83d6-a84fb4fcffad",
   "metadata": {},
   "outputs": [
    {
     "data": {
      "text/plain": [
       "Text\n",
       "False    451\n",
       "Name: count, dtype: int64"
      ]
     },
     "execution_count": 88,
     "metadata": {},
     "output_type": "execute_result"
    }
   ],
   "source": [
    "# List of expressions whose rows in column 'Text' should be dropped\n",
    "expressions_to_drop = ['(APPLAUSE)', '(LAUGHTER)', '(CROSSTALK)']\n",
    "\n",
    "# Creating a boolean mask for rows starting with the specified expressions\n",
    "mask = df['Text'].str.startswith(tuple(expressions_to_drop))\n",
    "\n",
    "# Counting the number of rows for each expression\n",
    "counts = mask.value_counts()\n",
    "\n",
    "# Display the counts\n",
    "counts"
   ]
  },
  {
   "cell_type": "code",
   "execution_count": 89,
   "id": "dc2ee1ab-e51a-4bf6-89f4-656ded3f628a",
   "metadata": {},
   "outputs": [],
   "source": [
    "# Dropping the rows that start with those expressions in column 'Text'\n",
    "df = df[~mask]\n",
    "df = df.reset_index(drop=True)"
   ]
  },
  {
   "cell_type": "code",
   "execution_count": 90,
   "id": "328c8306-ca5e-4deb-be97-9ab90276c9a7",
   "metadata": {},
   "outputs": [
    {
     "data": {
      "text/html": [
       "<div>\n",
       "<style scoped>\n",
       "    .dataframe tbody tr th:only-of-type {\n",
       "        vertical-align: middle;\n",
       "    }\n",
       "\n",
       "    .dataframe tbody tr th {\n",
       "        vertical-align: top;\n",
       "    }\n",
       "\n",
       "    .dataframe thead th {\n",
       "        text-align: right;\n",
       "    }\n",
       "</style>\n",
       "<table border=\"1\" class=\"dataframe\">\n",
       "  <thead>\n",
       "    <tr style=\"text-align: right;\">\n",
       "      <th></th>\n",
       "      <th>Text</th>\n",
       "      <th>Title</th>\n",
       "      <th>Debate</th>\n",
       "      <th>Date</th>\n",
       "      <th>Participants</th>\n",
       "      <th>Moderators</th>\n",
       "    </tr>\n",
       "  </thead>\n",
       "  <tbody>\n",
       "    <tr>\n",
       "      <th>0</th>\n",
       "      <td>RADDATZ: Good evening. I’m Martha Raddatz from...</td>\n",
       "      <td>October 9, 2016 Debate Transcript</td>\n",
       "      <td>Presidential Debate at Washington University i...</td>\n",
       "      <td>October 9, 2016</td>\n",
       "      <td>Former Secretary of State Hillary Clinton (D) ...</td>\n",
       "      <td>Anderson Cooper (CNN) and Martha Raddatz (ABC ...</td>\n",
       "    </tr>\n",
       "  </tbody>\n",
       "</table>\n",
       "</div>"
      ],
      "text/plain": [
       "                                                Text  \\\n",
       "0  RADDATZ: Good evening. I’m Martha Raddatz from...   \n",
       "\n",
       "                               Title  \\\n",
       "0  October 9, 2016 Debate Transcript   \n",
       "\n",
       "                                              Debate             Date  \\\n",
       "0  Presidential Debate at Washington University i...  October 9, 2016   \n",
       "\n",
       "                                        Participants  \\\n",
       "0  Former Secretary of State Hillary Clinton (D) ...   \n",
       "\n",
       "                                          Moderators  \n",
       "0  Anderson Cooper (CNN) and Martha Raddatz (ABC ...  "
      ]
     },
     "execution_count": 90,
     "metadata": {},
     "output_type": "execute_result"
    }
   ],
   "source": [
    "df.head(1)"
   ]
  },
  {
   "cell_type": "code",
   "execution_count": 91,
   "id": "0aad5878-ed43-4707-afa2-2c7cc6be22ff",
   "metadata": {},
   "outputs": [
    {
     "data": {
      "text/plain": [
       "'RADDATZ: Good evening. I’m Martha Raddatz from ABC News.'"
      ]
     },
     "execution_count": 91,
     "metadata": {},
     "output_type": "execute_result"
    }
   ],
   "source": [
    "df.loc[0, 'Text']"
   ]
  },
  {
   "cell_type": "code",
   "execution_count": 92,
   "id": "09acab6a-71f7-43ae-a2ea-a59cee717d70",
   "metadata": {},
   "outputs": [
    {
     "name": "stdout",
     "output_type": "stream",
     "text": [
      "Number of turns: 451\n"
     ]
    }
   ],
   "source": [
    "df.at[0, 'Speaker'] = 1 # Adding column 'Speaker' by initialising it with a numeric value in order to avoid DtypeWarning\n",
    "df = df.astype('object') # Converting the column to the desired data type\n",
    "\n",
    "for index, row in df.iterrows():\n",
    "    match = re.match(r'^(\\w+): ', row['Text'])\n",
    "    if match:\n",
    "        speaker = match.group(1)\n",
    "        df.at[index, 'Speaker'] = speaker\n",
    "        text_without_speaker = row['Text'][len(match.group(0)):]\n",
    "        df.at[index, 'Text'] = text_without_speaker\n",
    "    else:\n",
    "        # Handle the case when no match is found (optional)\n",
    "        #df.at[index, 'Speaker'] = ''  # Set a default value\n",
    "        pass\n",
    "\n",
    "df['Speaker'].ffill(inplace=True)\n",
    "\n",
    "print('Number of turns:', df.shape[0])\n",
    "\n",
    "debate_list.append(title)\n",
    "turn_list.append(df.shape[0])\n",
    "\n",
    "df[['Title', 'Debate', 'Date', 'Participants', 'Moderators', 'Speaker', 'Text']].to_json(f'{debate_title}.jsonl', orient='records', lines=True)\n",
    "\n",
    "df[['Title', 'Debate', 'Date', 'Participants', 'Moderators', 'Speaker', 'Text']].to_csv(f'{debate_title}.tsv', sep='\\t', index=False, encoding='utf-8', lineterminator='\\n')"
   ]
  },
  {
   "cell_type": "markdown",
   "id": "d1c7a48c-9001-444e-8fe4-1d624f6a76cb",
   "metadata": {},
   "source": [
    "## Debate 7"
   ]
  },
  {
   "cell_type": "code",
   "execution_count": 93,
   "id": "9ba6bade-a420-435e-94bf-dd843fc9d11b",
   "metadata": {},
   "outputs": [],
   "source": [
    "debate_title = debate_7\n",
    "url = debate_url_7\n",
    "response = requests.get(url)\n",
    "\n",
    "if response.status_code == 200:\n",
    "    page_content = response.content\n",
    "    # Step 2: Parse HTML content\n",
    "    soup = BeautifulSoup(page_content, 'lxml')\n",
    "\n",
    "    # Extract relevant tags (e.g., <h1>, <p>, etc.) and store them in a list\n",
    "    rows = []\n",
    "    for tag in soup.find_all(['h1', 'p']):\n",
    "        rows.append(tag.text.strip())  # Remove leading/trailing spaces\n",
    "    \n",
    "    # Create a DataFrame from the list of rows\n",
    "    df = pd.DataFrame(rows, columns=['Text'])\n",
    "\n",
    "else:\n",
    "    print(f'Failed to retrieve the page. Status code: {response.status_code}')"
   ]
  },
  {
   "cell_type": "code",
   "execution_count": 94,
   "id": "5a7a4fad-1147-44c6-8528-0a2045da8c14",
   "metadata": {},
   "outputs": [
    {
     "data": {
      "text/html": [
       "<div>\n",
       "<style scoped>\n",
       "    .dataframe tbody tr th:only-of-type {\n",
       "        vertical-align: middle;\n",
       "    }\n",
       "\n",
       "    .dataframe tbody tr th {\n",
       "        vertical-align: top;\n",
       "    }\n",
       "\n",
       "    .dataframe thead th {\n",
       "        text-align: right;\n",
       "    }\n",
       "</style>\n",
       "<table border=\"1\" class=\"dataframe\">\n",
       "  <thead>\n",
       "    <tr style=\"text-align: right;\">\n",
       "      <th></th>\n",
       "      <th>Text</th>\n",
       "    </tr>\n",
       "  </thead>\n",
       "  <tbody>\n",
       "    <tr>\n",
       "      <th>0</th>\n",
       "      <td>October 19, 2016 Debate Transcript</td>\n",
       "    </tr>\n",
       "    <tr>\n",
       "      <th>1</th>\n",
       "      <td>Presidential Debate at the University of Nevad...</td>\n",
       "    </tr>\n",
       "    <tr>\n",
       "      <th>2</th>\n",
       "      <td>October 19, 2016</td>\n",
       "    </tr>\n",
       "    <tr>\n",
       "      <th>3</th>\n",
       "      <td>PARTICIPANTS:</td>\n",
       "    </tr>\n",
       "    <tr>\n",
       "      <th>4</th>\n",
       "      <td>Former Secretary of State Hillary Clinton (D) and</td>\n",
       "    </tr>\n",
       "    <tr>\n",
       "      <th>...</th>\n",
       "      <td>...</td>\n",
       "    </tr>\n",
       "    <tr>\n",
       "      <th>518</th>\n",
       "      <td>Secretary Clinton—hold on just a moment, folks...</td>\n",
       "    </tr>\n",
       "    <tr>\n",
       "      <th>519</th>\n",
       "      <td>That brings to an end this year’s debates spon...</td>\n",
       "    </tr>\n",
       "    <tr>\n",
       "      <th>520</th>\n",
       "      <td>While millions have already voted, Election Da...</td>\n",
       "    </tr>\n",
       "    <tr>\n",
       "      <th>521</th>\n",
       "      <td></td>\n",
       "    </tr>\n",
       "    <tr>\n",
       "      <th>522</th>\n",
       "      <td>© COPYRIGHT 2020 THE COMMISSION ON PRESIDENTIA...</td>\n",
       "    </tr>\n",
       "  </tbody>\n",
       "</table>\n",
       "<p>523 rows × 1 columns</p>\n",
       "</div>"
      ],
      "text/plain": [
       "                                                  Text\n",
       "0                   October 19, 2016 Debate Transcript\n",
       "1    Presidential Debate at the University of Nevad...\n",
       "2                                     October 19, 2016\n",
       "3                                        PARTICIPANTS:\n",
       "4    Former Secretary of State Hillary Clinton (D) and\n",
       "..                                                 ...\n",
       "518  Secretary Clinton—hold on just a moment, folks...\n",
       "519  That brings to an end this year’s debates spon...\n",
       "520  While millions have already voted, Election Da...\n",
       "521                                                   \n",
       "522  © COPYRIGHT 2020 THE COMMISSION ON PRESIDENTIA...\n",
       "\n",
       "[523 rows x 1 columns]"
      ]
     },
     "execution_count": 94,
     "metadata": {},
     "output_type": "execute_result"
    }
   ],
   "source": [
    "df"
   ]
  },
  {
   "cell_type": "code",
   "execution_count": 95,
   "id": "9571375f-2522-4673-bad5-999c6fb6f079",
   "metadata": {},
   "outputs": [],
   "source": [
    "df.drop(521, inplace=True)\n",
    "df = df.reset_index(drop=True)"
   ]
  },
  {
   "cell_type": "code",
   "execution_count": 96,
   "id": "1fefdcab-beed-4962-93c9-cab7752d36d6",
   "metadata": {},
   "outputs": [
    {
     "data": {
      "text/html": [
       "<div>\n",
       "<style scoped>\n",
       "    .dataframe tbody tr th:only-of-type {\n",
       "        vertical-align: middle;\n",
       "    }\n",
       "\n",
       "    .dataframe tbody tr th {\n",
       "        vertical-align: top;\n",
       "    }\n",
       "\n",
       "    .dataframe thead th {\n",
       "        text-align: right;\n",
       "    }\n",
       "</style>\n",
       "<table border=\"1\" class=\"dataframe\">\n",
       "  <thead>\n",
       "    <tr style=\"text-align: right;\">\n",
       "      <th></th>\n",
       "      <th>Text</th>\n",
       "    </tr>\n",
       "  </thead>\n",
       "  <tbody>\n",
       "    <tr>\n",
       "      <th>0</th>\n",
       "      <td>October 19, 2016 Debate Transcript</td>\n",
       "    </tr>\n",
       "    <tr>\n",
       "      <th>1</th>\n",
       "      <td>Presidential Debate at the University of Nevad...</td>\n",
       "    </tr>\n",
       "    <tr>\n",
       "      <th>2</th>\n",
       "      <td>October 19, 2016</td>\n",
       "    </tr>\n",
       "    <tr>\n",
       "      <th>3</th>\n",
       "      <td>PARTICIPANTS:</td>\n",
       "    </tr>\n",
       "    <tr>\n",
       "      <th>4</th>\n",
       "      <td>Former Secretary of State Hillary Clinton (D) and</td>\n",
       "    </tr>\n",
       "    <tr>\n",
       "      <th>...</th>\n",
       "      <td>...</td>\n",
       "    </tr>\n",
       "    <tr>\n",
       "      <th>517</th>\n",
       "      <td>WALLACE: Thank you both. [applause]</td>\n",
       "    </tr>\n",
       "    <tr>\n",
       "      <th>518</th>\n",
       "      <td>Secretary Clinton—hold on just a moment, folks...</td>\n",
       "    </tr>\n",
       "    <tr>\n",
       "      <th>519</th>\n",
       "      <td>That brings to an end this year’s debates spon...</td>\n",
       "    </tr>\n",
       "    <tr>\n",
       "      <th>520</th>\n",
       "      <td>While millions have already voted, Election Da...</td>\n",
       "    </tr>\n",
       "    <tr>\n",
       "      <th>521</th>\n",
       "      <td>© COPYRIGHT 2020 THE COMMISSION ON PRESIDENTIA...</td>\n",
       "    </tr>\n",
       "  </tbody>\n",
       "</table>\n",
       "<p>522 rows × 1 columns</p>\n",
       "</div>"
      ],
      "text/plain": [
       "                                                  Text\n",
       "0                   October 19, 2016 Debate Transcript\n",
       "1    Presidential Debate at the University of Nevad...\n",
       "2                                     October 19, 2016\n",
       "3                                        PARTICIPANTS:\n",
       "4    Former Secretary of State Hillary Clinton (D) and\n",
       "..                                                 ...\n",
       "517                WALLACE: Thank you both. [applause]\n",
       "518  Secretary Clinton—hold on just a moment, folks...\n",
       "519  That brings to an end this year’s debates spon...\n",
       "520  While millions have already voted, Election Da...\n",
       "521  © COPYRIGHT 2020 THE COMMISSION ON PRESIDENTIA...\n",
       "\n",
       "[522 rows x 1 columns]"
      ]
     },
     "execution_count": 96,
     "metadata": {},
     "output_type": "execute_result"
    }
   ],
   "source": [
    "df"
   ]
  },
  {
   "cell_type": "code",
   "execution_count": 97,
   "id": "7bca0d56-6851-405e-9b22-3d03ff8d5aa9",
   "metadata": {},
   "outputs": [
    {
     "data": {
      "text/html": [
       "<div>\n",
       "<style scoped>\n",
       "    .dataframe tbody tr th:only-of-type {\n",
       "        vertical-align: middle;\n",
       "    }\n",
       "\n",
       "    .dataframe tbody tr th {\n",
       "        vertical-align: top;\n",
       "    }\n",
       "\n",
       "    .dataframe thead th {\n",
       "        text-align: right;\n",
       "    }\n",
       "</style>\n",
       "<table border=\"1\" class=\"dataframe\">\n",
       "  <thead>\n",
       "    <tr style=\"text-align: right;\">\n",
       "      <th></th>\n",
       "      <th>Text</th>\n",
       "    </tr>\n",
       "  </thead>\n",
       "  <tbody>\n",
       "    <tr>\n",
       "      <th>0</th>\n",
       "      <td>October 19, 2016 Debate Transcript</td>\n",
       "    </tr>\n",
       "    <tr>\n",
       "      <th>1</th>\n",
       "      <td>Presidential Debate at the University of Nevad...</td>\n",
       "    </tr>\n",
       "    <tr>\n",
       "      <th>2</th>\n",
       "      <td>October 19, 2016</td>\n",
       "    </tr>\n",
       "    <tr>\n",
       "      <th>3</th>\n",
       "      <td>PARTICIPANTS:</td>\n",
       "    </tr>\n",
       "    <tr>\n",
       "      <th>4</th>\n",
       "      <td>Former Secretary of State Hillary Clinton (D) and</td>\n",
       "    </tr>\n",
       "    <tr>\n",
       "      <th>5</th>\n",
       "      <td>Businessman Donald Trump (R)</td>\n",
       "    </tr>\n",
       "    <tr>\n",
       "      <th>6</th>\n",
       "      <td>MODERATOR:</td>\n",
       "    </tr>\n",
       "    <tr>\n",
       "      <th>7</th>\n",
       "      <td>Chris Wallace (Fox News)</td>\n",
       "    </tr>\n",
       "    <tr>\n",
       "      <th>8</th>\n",
       "      <td>WALLACE: Good evening from the Thomas and Mack...</td>\n",
       "    </tr>\n",
       "    <tr>\n",
       "      <th>9</th>\n",
       "      <td>This debate is sponsored by the Commission on ...</td>\n",
       "    </tr>\n",
       "  </tbody>\n",
       "</table>\n",
       "</div>"
      ],
      "text/plain": [
       "                                                Text\n",
       "0                 October 19, 2016 Debate Transcript\n",
       "1  Presidential Debate at the University of Nevad...\n",
       "2                                   October 19, 2016\n",
       "3                                      PARTICIPANTS:\n",
       "4  Former Secretary of State Hillary Clinton (D) and\n",
       "5                       Businessman Donald Trump (R)\n",
       "6                                         MODERATOR:\n",
       "7                           Chris Wallace (Fox News)\n",
       "8  WALLACE: Good evening from the Thomas and Mack...\n",
       "9  This debate is sponsored by the Commission on ..."
      ]
     },
     "execution_count": 97,
     "metadata": {},
     "output_type": "execute_result"
    }
   ],
   "source": [
    "df.head(10)"
   ]
  },
  {
   "cell_type": "code",
   "execution_count": 98,
   "id": "db980860-5175-4c24-a8bf-7eef1f5aebfb",
   "metadata": {},
   "outputs": [],
   "source": [
    "title = df.at[0, 'Text']\n",
    "df['Title'] = title\n",
    "\n",
    "debate = df.at[1, 'Text']\n",
    "df['Debate'] = debate\n",
    "\n",
    "date = df.at[2, 'Text']\n",
    "df['Date'] = date\n",
    "\n",
    "participants = df.at[4, 'Text'] + ' ' + df.at[5, 'Text']\n",
    "#participants = re.sub(r'^\\w+:\\n', '', participants)\n",
    "#participants = re.sub(r'\\n', ' ', participants)\n",
    "df['Participants'] = participants\n",
    "\n",
    "moderators = df.at[7, 'Text']\n",
    "#moderators = re.sub(r'^\\w+:\\n', '', moderators)\n",
    "df['Moderators'] = moderators"
   ]
  },
  {
   "cell_type": "code",
   "execution_count": 99,
   "id": "d065f280-9628-4f62-807c-478284df6c4d",
   "metadata": {},
   "outputs": [
    {
     "data": {
      "text/plain": [
       "'© COPYRIGHT 2020 THE COMMISSION ON PRESIDENTIAL DEBATES. ALL RIGHTS RESERVED.'"
      ]
     },
     "execution_count": 99,
     "metadata": {},
     "output_type": "execute_result"
    }
   ],
   "source": [
    "last_row = 521\n",
    "df.loc[last_row, 'Text']"
   ]
  },
  {
   "cell_type": "code",
   "execution_count": 100,
   "id": "f1ac7a01-bad6-42eb-b173-49e52a393308",
   "metadata": {},
   "outputs": [],
   "source": [
    "df = df[~df['Text'].str.contains(df.loc[last_row, 'Text'])]"
   ]
  },
  {
   "cell_type": "code",
   "execution_count": 101,
   "id": "84648e40-da9a-4b3e-bbee-ff1487b4229a",
   "metadata": {},
   "outputs": [],
   "source": [
    "df = df.loc[8:]\n",
    "df = df.reset_index(drop=True)"
   ]
  },
  {
   "cell_type": "code",
   "execution_count": 102,
   "id": "e84389b5-0036-4b3a-be6b-cde0c2ebfef9",
   "metadata": {},
   "outputs": [
    {
     "data": {
      "text/plain": [
       "Text\n",
       "False    513\n",
       "Name: count, dtype: int64"
      ]
     },
     "execution_count": 102,
     "metadata": {},
     "output_type": "execute_result"
    }
   ],
   "source": [
    "# List of expressions whose rows in column 'Text' should be dropped\n",
    "expressions_to_drop = ['(APPLAUSE)', '(LAUGHTER)', '(CROSSTALK)']\n",
    "\n",
    "# Creating a boolean mask for rows starting with the specified expressions\n",
    "mask = df['Text'].str.startswith(tuple(expressions_to_drop))\n",
    "\n",
    "# Counting the number of rows for each expression\n",
    "counts = mask.value_counts()\n",
    "\n",
    "# Display the counts\n",
    "counts"
   ]
  },
  {
   "cell_type": "code",
   "execution_count": 103,
   "id": "f1564a41-b362-42f1-8234-397522ae9b6e",
   "metadata": {},
   "outputs": [],
   "source": [
    "# Dropping the rows that start with those expressions in column 'Text'\n",
    "df = df[~mask]\n",
    "df = df.reset_index(drop=True)"
   ]
  },
  {
   "cell_type": "code",
   "execution_count": 104,
   "id": "c2fe7d65-d739-4f7d-9d8d-fdd1c85992a5",
   "metadata": {},
   "outputs": [
    {
     "data": {
      "text/html": [
       "<div>\n",
       "<style scoped>\n",
       "    .dataframe tbody tr th:only-of-type {\n",
       "        vertical-align: middle;\n",
       "    }\n",
       "\n",
       "    .dataframe tbody tr th {\n",
       "        vertical-align: top;\n",
       "    }\n",
       "\n",
       "    .dataframe thead th {\n",
       "        text-align: right;\n",
       "    }\n",
       "</style>\n",
       "<table border=\"1\" class=\"dataframe\">\n",
       "  <thead>\n",
       "    <tr style=\"text-align: right;\">\n",
       "      <th></th>\n",
       "      <th>Text</th>\n",
       "      <th>Title</th>\n",
       "      <th>Debate</th>\n",
       "      <th>Date</th>\n",
       "      <th>Participants</th>\n",
       "      <th>Moderators</th>\n",
       "    </tr>\n",
       "  </thead>\n",
       "  <tbody>\n",
       "    <tr>\n",
       "      <th>0</th>\n",
       "      <td>WALLACE: Good evening from the Thomas and Mack...</td>\n",
       "      <td>October 19, 2016 Debate Transcript</td>\n",
       "      <td>Presidential Debate at the University of Nevad...</td>\n",
       "      <td>October 19, 2016</td>\n",
       "      <td>Former Secretary of State Hillary Clinton (D) ...</td>\n",
       "      <td>Chris Wallace (Fox News)</td>\n",
       "    </tr>\n",
       "  </tbody>\n",
       "</table>\n",
       "</div>"
      ],
      "text/plain": [
       "                                                Text  \\\n",
       "0  WALLACE: Good evening from the Thomas and Mack...   \n",
       "\n",
       "                                Title  \\\n",
       "0  October 19, 2016 Debate Transcript   \n",
       "\n",
       "                                              Debate              Date  \\\n",
       "0  Presidential Debate at the University of Nevad...  October 19, 2016   \n",
       "\n",
       "                                        Participants                Moderators  \n",
       "0  Former Secretary of State Hillary Clinton (D) ...  Chris Wallace (Fox News)  "
      ]
     },
     "execution_count": 104,
     "metadata": {},
     "output_type": "execute_result"
    }
   ],
   "source": [
    "df.head(1)"
   ]
  },
  {
   "cell_type": "code",
   "execution_count": 105,
   "id": "6deb8d91-a52c-47ad-9a73-4532d71012e4",
   "metadata": {},
   "outputs": [
    {
     "data": {
      "text/plain": [
       "'WALLACE: Good evening from the Thomas and Mack Center at the University of Nevada, Las Vegas. I’m Chris Wallace of Fox News, and I welcome you to the third and final of the 2016 presidential debates between Secretary of State Hillary Clinton and Donald J. Trump.'"
      ]
     },
     "execution_count": 105,
     "metadata": {},
     "output_type": "execute_result"
    }
   ],
   "source": [
    "df.loc[0, 'Text']"
   ]
  },
  {
   "cell_type": "code",
   "execution_count": 106,
   "id": "0c601581-b202-4841-9080-2f9c1d677d4b",
   "metadata": {},
   "outputs": [
    {
     "name": "stdout",
     "output_type": "stream",
     "text": [
      "Number of turns: 513\n"
     ]
    }
   ],
   "source": [
    "df.at[0, 'Speaker'] = 1 # Adding column 'Speaker' by initialising it with a numeric value in order to avoid DtypeWarning\n",
    "df = df.astype('object') # Converting the column to the desired data type\n",
    "\n",
    "for index, row in df.iterrows():\n",
    "    match = re.match(r'^(\\w+): ', row['Text'])\n",
    "    if match:\n",
    "        speaker = match.group(1)\n",
    "        df.at[index, 'Speaker'] = speaker\n",
    "        text_without_speaker = row['Text'][len(match.group(0)):]\n",
    "        df.at[index, 'Text'] = text_without_speaker\n",
    "    else:\n",
    "        # Handle the case when no match is found (optional)\n",
    "        #df.at[index, 'Speaker'] = ''  # Set a default value\n",
    "        pass\n",
    "\n",
    "df['Speaker'].ffill(inplace=True)\n",
    "\n",
    "print('Number of turns:', df.shape[0])\n",
    "\n",
    "debate_list.append(title)\n",
    "turn_list.append(df.shape[0])\n",
    "\n",
    "df[['Title', 'Debate', 'Date', 'Participants', 'Moderators', 'Speaker', 'Text']].to_json(f'{debate_title}.jsonl', orient='records', lines=True)\n",
    "\n",
    "df[['Title', 'Debate', 'Date', 'Participants', 'Moderators', 'Speaker', 'Text']].to_csv(f'{debate_title}.tsv', sep='\\t', index=False, encoding='utf-8', lineterminator='\\n')"
   ]
  },
  {
   "cell_type": "markdown",
   "id": "8df7fe23-93e1-4453-ba71-9aaa7146496e",
   "metadata": {},
   "source": [
    "## Debate 8"
   ]
  },
  {
   "cell_type": "code",
   "execution_count": 107,
   "id": "7d8f3003-5f56-4309-a77c-34d2d12c6bae",
   "metadata": {},
   "outputs": [],
   "source": [
    "debate_title = debate_8\n",
    "url = debate_url_8\n",
    "response = requests.get(url)\n",
    "\n",
    "if response.status_code == 200:\n",
    "    page_content = response.content\n",
    "    # Step 2: Parse HTML content\n",
    "    soup = BeautifulSoup(page_content, 'lxml')\n",
    "\n",
    "    # Extract relevant tags (e.g., <h1>, <p>, etc.) and store them in a list\n",
    "    rows = []\n",
    "    for tag in soup.find_all(['h1', 'p']):\n",
    "        rows.append(tag.text.strip())  # Remove leading/trailing spaces\n",
    "    \n",
    "    # Create a DataFrame from the list of rows\n",
    "    df = pd.DataFrame(rows, columns=['Text'])\n",
    "\n",
    "else:\n",
    "    print(f'Failed to retrieve the page. Status code: {response.status_code}')"
   ]
  },
  {
   "cell_type": "code",
   "execution_count": 108,
   "id": "4c078069-fea1-46f9-8e7e-91e4fd11537d",
   "metadata": {},
   "outputs": [
    {
     "data": {
      "text/html": [
       "<div>\n",
       "<style scoped>\n",
       "    .dataframe tbody tr th:only-of-type {\n",
       "        vertical-align: middle;\n",
       "    }\n",
       "\n",
       "    .dataframe tbody tr th {\n",
       "        vertical-align: top;\n",
       "    }\n",
       "\n",
       "    .dataframe thead th {\n",
       "        text-align: right;\n",
       "    }\n",
       "</style>\n",
       "<table border=\"1\" class=\"dataframe\">\n",
       "  <thead>\n",
       "    <tr style=\"text-align: right;\">\n",
       "      <th></th>\n",
       "      <th>Text</th>\n",
       "    </tr>\n",
       "  </thead>\n",
       "  <tbody>\n",
       "    <tr>\n",
       "      <th>0</th>\n",
       "      <td>October 3, 2012 Debate Transcript</td>\n",
       "    </tr>\n",
       "    <tr>\n",
       "      <th>1</th>\n",
       "      <td>PRESIDENT BARACK OBAMA AND FORMER GOV. MITT RO...</td>\n",
       "    </tr>\n",
       "    <tr>\n",
       "      <th>2</th>\n",
       "      <td>OCTOBER 3, 2012</td>\n",
       "    </tr>\n",
       "    <tr>\n",
       "      <th>3</th>\n",
       "      <td>SPEAKERS: FORMER GOV. MITT ROMNEY, R-MASS.</td>\n",
       "    </tr>\n",
       "    <tr>\n",
       "      <th>4</th>\n",
       "      <td>PRESIDENT BARACK OBAMA</td>\n",
       "    </tr>\n",
       "    <tr>\n",
       "      <th>...</th>\n",
       "      <td>...</td>\n",
       "    </tr>\n",
       "    <tr>\n",
       "      <th>474</th>\n",
       "      <td>LEHRER: Thank you, Governor.</td>\n",
       "    </tr>\n",
       "    <tr>\n",
       "      <th>475</th>\n",
       "      <td>Thank you, Mr. President.</td>\n",
       "    </tr>\n",
       "    <tr>\n",
       "      <th>476</th>\n",
       "      <td>The next debate will be the vice presidential ...</td>\n",
       "    </tr>\n",
       "    <tr>\n",
       "      <th>477</th>\n",
       "      <td>Â</td>\n",
       "    </tr>\n",
       "    <tr>\n",
       "      <th>478</th>\n",
       "      <td>© COPYRIGHT 2020 THE COMMISSION ON PRESIDENTIA...</td>\n",
       "    </tr>\n",
       "  </tbody>\n",
       "</table>\n",
       "<p>479 rows × 1 columns</p>\n",
       "</div>"
      ],
      "text/plain": [
       "                                                  Text\n",
       "0                    October 3, 2012 Debate Transcript\n",
       "1    PRESIDENT BARACK OBAMA AND FORMER GOV. MITT RO...\n",
       "2                                      OCTOBER 3, 2012\n",
       "3           SPEAKERS: FORMER GOV. MITT ROMNEY, R-MASS.\n",
       "4                               PRESIDENT BARACK OBAMA\n",
       "..                                                 ...\n",
       "474                       LEHRER: Thank you, Governor.\n",
       "475                          Thank you, Mr. President.\n",
       "476  The next debate will be the vice presidential ...\n",
       "477                                                  Â\n",
       "478  © COPYRIGHT 2020 THE COMMISSION ON PRESIDENTIA...\n",
       "\n",
       "[479 rows x 1 columns]"
      ]
     },
     "execution_count": 108,
     "metadata": {},
     "output_type": "execute_result"
    }
   ],
   "source": [
    "df"
   ]
  },
  {
   "cell_type": "code",
   "execution_count": 109,
   "id": "e094dec3-5a1d-472e-a5de-efed57e00c89",
   "metadata": {},
   "outputs": [],
   "source": [
    "df.drop(477, inplace=True)\n",
    "df = df.reset_index(drop=True)"
   ]
  },
  {
   "cell_type": "code",
   "execution_count": 110,
   "id": "2aebcc60-d849-4635-a16b-d5e8be827973",
   "metadata": {},
   "outputs": [
    {
     "data": {
      "text/html": [
       "<div>\n",
       "<style scoped>\n",
       "    .dataframe tbody tr th:only-of-type {\n",
       "        vertical-align: middle;\n",
       "    }\n",
       "\n",
       "    .dataframe tbody tr th {\n",
       "        vertical-align: top;\n",
       "    }\n",
       "\n",
       "    .dataframe thead th {\n",
       "        text-align: right;\n",
       "    }\n",
       "</style>\n",
       "<table border=\"1\" class=\"dataframe\">\n",
       "  <thead>\n",
       "    <tr style=\"text-align: right;\">\n",
       "      <th></th>\n",
       "      <th>Text</th>\n",
       "    </tr>\n",
       "  </thead>\n",
       "  <tbody>\n",
       "    <tr>\n",
       "      <th>0</th>\n",
       "      <td>October 3, 2012 Debate Transcript</td>\n",
       "    </tr>\n",
       "    <tr>\n",
       "      <th>1</th>\n",
       "      <td>PRESIDENT BARACK OBAMA AND FORMER GOV. MITT RO...</td>\n",
       "    </tr>\n",
       "    <tr>\n",
       "      <th>2</th>\n",
       "      <td>OCTOBER 3, 2012</td>\n",
       "    </tr>\n",
       "    <tr>\n",
       "      <th>3</th>\n",
       "      <td>SPEAKERS: FORMER GOV. MITT ROMNEY, R-MASS.</td>\n",
       "    </tr>\n",
       "    <tr>\n",
       "      <th>4</th>\n",
       "      <td>PRESIDENT BARACK OBAMA</td>\n",
       "    </tr>\n",
       "    <tr>\n",
       "      <th>...</th>\n",
       "      <td>...</td>\n",
       "    </tr>\n",
       "    <tr>\n",
       "      <th>473</th>\n",
       "      <td>Thank you, Jim.</td>\n",
       "    </tr>\n",
       "    <tr>\n",
       "      <th>474</th>\n",
       "      <td>LEHRER: Thank you, Governor.</td>\n",
       "    </tr>\n",
       "    <tr>\n",
       "      <th>475</th>\n",
       "      <td>Thank you, Mr. President.</td>\n",
       "    </tr>\n",
       "    <tr>\n",
       "      <th>476</th>\n",
       "      <td>The next debate will be the vice presidential ...</td>\n",
       "    </tr>\n",
       "    <tr>\n",
       "      <th>477</th>\n",
       "      <td>© COPYRIGHT 2020 THE COMMISSION ON PRESIDENTIA...</td>\n",
       "    </tr>\n",
       "  </tbody>\n",
       "</table>\n",
       "<p>478 rows × 1 columns</p>\n",
       "</div>"
      ],
      "text/plain": [
       "                                                  Text\n",
       "0                    October 3, 2012 Debate Transcript\n",
       "1    PRESIDENT BARACK OBAMA AND FORMER GOV. MITT RO...\n",
       "2                                      OCTOBER 3, 2012\n",
       "3           SPEAKERS: FORMER GOV. MITT ROMNEY, R-MASS.\n",
       "4                               PRESIDENT BARACK OBAMA\n",
       "..                                                 ...\n",
       "473                                    Thank you, Jim.\n",
       "474                       LEHRER: Thank you, Governor.\n",
       "475                          Thank you, Mr. President.\n",
       "476  The next debate will be the vice presidential ...\n",
       "477  © COPYRIGHT 2020 THE COMMISSION ON PRESIDENTIA...\n",
       "\n",
       "[478 rows x 1 columns]"
      ]
     },
     "execution_count": 110,
     "metadata": {},
     "output_type": "execute_result"
    }
   ],
   "source": [
    "df"
   ]
  },
  {
   "cell_type": "code",
   "execution_count": 111,
   "id": "d073b97f-47e3-4a43-997e-3d370fbda8d5",
   "metadata": {},
   "outputs": [
    {
     "data": {
      "text/html": [
       "<div>\n",
       "<style scoped>\n",
       "    .dataframe tbody tr th:only-of-type {\n",
       "        vertical-align: middle;\n",
       "    }\n",
       "\n",
       "    .dataframe tbody tr th {\n",
       "        vertical-align: top;\n",
       "    }\n",
       "\n",
       "    .dataframe thead th {\n",
       "        text-align: right;\n",
       "    }\n",
       "</style>\n",
       "<table border=\"1\" class=\"dataframe\">\n",
       "  <thead>\n",
       "    <tr style=\"text-align: right;\">\n",
       "      <th></th>\n",
       "      <th>Text</th>\n",
       "    </tr>\n",
       "  </thead>\n",
       "  <tbody>\n",
       "    <tr>\n",
       "      <th>0</th>\n",
       "      <td>October 3, 2012 Debate Transcript</td>\n",
       "    </tr>\n",
       "    <tr>\n",
       "      <th>1</th>\n",
       "      <td>PRESIDENT BARACK OBAMA AND FORMER GOV. MITT RO...</td>\n",
       "    </tr>\n",
       "    <tr>\n",
       "      <th>2</th>\n",
       "      <td>OCTOBER 3, 2012</td>\n",
       "    </tr>\n",
       "    <tr>\n",
       "      <th>3</th>\n",
       "      <td>SPEAKERS: FORMER GOV. MITT ROMNEY, R-MASS.</td>\n",
       "    </tr>\n",
       "    <tr>\n",
       "      <th>4</th>\n",
       "      <td>PRESIDENT BARACK OBAMA</td>\n",
       "    </tr>\n",
       "    <tr>\n",
       "      <th>5</th>\n",
       "      <td>JIM LEHRER, MODERATOR</td>\n",
       "    </tr>\n",
       "    <tr>\n",
       "      <th>6</th>\n",
       "      <td>LEHRER: Good evening from the Magness Arena at...</td>\n",
       "    </tr>\n",
       "    <tr>\n",
       "      <th>7</th>\n",
       "      <td>LEHRER: This debate and the next three — two p...</td>\n",
       "    </tr>\n",
       "    <tr>\n",
       "      <th>8</th>\n",
       "      <td>Thousands of people offered suggestions on seg...</td>\n",
       "    </tr>\n",
       "    <tr>\n",
       "      <th>9</th>\n",
       "      <td>The segments as I announced in advance will be...</td>\n",
       "    </tr>\n",
       "  </tbody>\n",
       "</table>\n",
       "</div>"
      ],
      "text/plain": [
       "                                                Text\n",
       "0                  October 3, 2012 Debate Transcript\n",
       "1  PRESIDENT BARACK OBAMA AND FORMER GOV. MITT RO...\n",
       "2                                    OCTOBER 3, 2012\n",
       "3         SPEAKERS: FORMER GOV. MITT ROMNEY, R-MASS.\n",
       "4                             PRESIDENT BARACK OBAMA\n",
       "5                              JIM LEHRER, MODERATOR\n",
       "6  LEHRER: Good evening from the Magness Arena at...\n",
       "7  LEHRER: This debate and the next three — two p...\n",
       "8  Thousands of people offered suggestions on seg...\n",
       "9  The segments as I announced in advance will be..."
      ]
     },
     "execution_count": 111,
     "metadata": {},
     "output_type": "execute_result"
    }
   ],
   "source": [
    "df.head(10)"
   ]
  },
  {
   "cell_type": "code",
   "execution_count": 112,
   "id": "cbfa267f-215d-491f-9516-3468f0ee5cdd",
   "metadata": {},
   "outputs": [],
   "source": [
    "title = df.at[0, 'Text']\n",
    "df['Title'] = title\n",
    "\n",
    "debate = df.at[1, 'Text']\n",
    "df['Debate'] = debate\n",
    "\n",
    "date = df.at[2, 'Text']\n",
    "df['Date'] = date\n",
    "\n",
    "participants = df.at[3, 'Text']\n",
    "participants = re.sub(r'^\\w+: ', '', participants)\n",
    "participants = participants + ' ' + df.at[4, 'Text']\n",
    "df['Participants'] = participants\n",
    "\n",
    "moderators = df.at[5, 'Text']\n",
    "moderators = re.sub(r', \\w+$', '', moderators)\n",
    "df['Moderators'] = moderators"
   ]
  },
  {
   "cell_type": "code",
   "execution_count": 113,
   "id": "63145593-c792-4be4-bd6d-494318e8a997",
   "metadata": {},
   "outputs": [
    {
     "data": {
      "text/plain": [
       "'© COPYRIGHT 2020 THE COMMISSION ON PRESIDENTIAL DEBATES. ALL RIGHTS RESERVED.'"
      ]
     },
     "execution_count": 113,
     "metadata": {},
     "output_type": "execute_result"
    }
   ],
   "source": [
    "last_row = 477\n",
    "df.loc[last_row, 'Text']"
   ]
  },
  {
   "cell_type": "code",
   "execution_count": 114,
   "id": "b5de3983-d9b2-44e6-8302-1b8d7ebe3eba",
   "metadata": {},
   "outputs": [],
   "source": [
    "df = df[~df['Text'].str.contains(df.loc[last_row, 'Text'])]"
   ]
  },
  {
   "cell_type": "code",
   "execution_count": 115,
   "id": "c5348dbb-62ab-4956-8881-631422d908f5",
   "metadata": {},
   "outputs": [],
   "source": [
    "df = df.loc[6:]\n",
    "df = df.reset_index(drop=True)"
   ]
  },
  {
   "cell_type": "code",
   "execution_count": 116,
   "id": "1d4c8af8-4347-48a1-a40c-061df971516c",
   "metadata": {},
   "outputs": [
    {
     "data": {
      "text/plain": [
       "Text\n",
       "False    441\n",
       "True      30\n",
       "Name: count, dtype: int64"
      ]
     },
     "execution_count": 116,
     "metadata": {},
     "output_type": "execute_result"
    }
   ],
   "source": [
    "# List of expressions whose rows in column 'Text' should be dropped\n",
    "expressions_to_drop = ['(APPLAUSE)', '(LAUGHTER)', '(CROSSTALK)']\n",
    "\n",
    "# Creating a boolean mask for rows starting with the specified expressions\n",
    "mask = df['Text'].str.startswith(tuple(expressions_to_drop))\n",
    "\n",
    "# Counting the number of rows for each expression\n",
    "counts = mask.value_counts()\n",
    "\n",
    "# Display the counts\n",
    "counts"
   ]
  },
  {
   "cell_type": "code",
   "execution_count": 117,
   "id": "f65a925e-dcbe-425c-a390-957e343b1506",
   "metadata": {},
   "outputs": [],
   "source": [
    "# Dropping the rows that start with those expressions in column 'Text'\n",
    "df = df[~mask]\n",
    "df = df.reset_index(drop=True)"
   ]
  },
  {
   "cell_type": "code",
   "execution_count": 118,
   "id": "6663637d-4035-4bfa-bcdb-13a325369b89",
   "metadata": {},
   "outputs": [
    {
     "data": {
      "text/html": [
       "<div>\n",
       "<style scoped>\n",
       "    .dataframe tbody tr th:only-of-type {\n",
       "        vertical-align: middle;\n",
       "    }\n",
       "\n",
       "    .dataframe tbody tr th {\n",
       "        vertical-align: top;\n",
       "    }\n",
       "\n",
       "    .dataframe thead th {\n",
       "        text-align: right;\n",
       "    }\n",
       "</style>\n",
       "<table border=\"1\" class=\"dataframe\">\n",
       "  <thead>\n",
       "    <tr style=\"text-align: right;\">\n",
       "      <th></th>\n",
       "      <th>Text</th>\n",
       "      <th>Title</th>\n",
       "      <th>Debate</th>\n",
       "      <th>Date</th>\n",
       "      <th>Participants</th>\n",
       "      <th>Moderators</th>\n",
       "    </tr>\n",
       "  </thead>\n",
       "  <tbody>\n",
       "    <tr>\n",
       "      <th>0</th>\n",
       "      <td>LEHRER: Good evening from the Magness Arena at...</td>\n",
       "      <td>October 3, 2012 Debate Transcript</td>\n",
       "      <td>PRESIDENT BARACK OBAMA AND FORMER GOV. MITT RO...</td>\n",
       "      <td>OCTOBER 3, 2012</td>\n",
       "      <td>FORMER GOV. MITT ROMNEY, R-MASS. PRESIDENT BAR...</td>\n",
       "      <td>JIM LEHRER</td>\n",
       "    </tr>\n",
       "  </tbody>\n",
       "</table>\n",
       "</div>"
      ],
      "text/plain": [
       "                                                Text  \\\n",
       "0  LEHRER: Good evening from the Magness Arena at...   \n",
       "\n",
       "                               Title  \\\n",
       "0  October 3, 2012 Debate Transcript   \n",
       "\n",
       "                                              Debate             Date  \\\n",
       "0  PRESIDENT BARACK OBAMA AND FORMER GOV. MITT RO...  OCTOBER 3, 2012   \n",
       "\n",
       "                                        Participants  Moderators  \n",
       "0  FORMER GOV. MITT ROMNEY, R-MASS. PRESIDENT BAR...  JIM LEHRER  "
      ]
     },
     "execution_count": 118,
     "metadata": {},
     "output_type": "execute_result"
    }
   ],
   "source": [
    "df.head(1)"
   ]
  },
  {
   "cell_type": "code",
   "execution_count": 119,
   "id": "0816d516-7fac-4fc9-9393-52d9ec6cc109",
   "metadata": {},
   "outputs": [
    {
     "data": {
      "text/plain": [
       "'LEHRER: Good evening from the Magness Arena at the University of Denver in Denver, Colorado. I’m Jim Lehrer of the “PBS NewsHour,” and I welcome you to the first of the 2012 presidential debates between President Barack Obama, the Democratic nominee, and former Massachusetts Governor Mitt Romney, the Republican nominee.'"
      ]
     },
     "execution_count": 119,
     "metadata": {},
     "output_type": "execute_result"
    }
   ],
   "source": [
    "df.loc[0, 'Text']"
   ]
  },
  {
   "cell_type": "code",
   "execution_count": 120,
   "id": "1fb792f8-ecd5-4fd5-9a5a-6747fb6c2069",
   "metadata": {},
   "outputs": [
    {
     "name": "stdout",
     "output_type": "stream",
     "text": [
      "Number of turns: 441\n"
     ]
    }
   ],
   "source": [
    "df.at[0, 'Speaker'] = 1 # Adding column 'Speaker' by initialising it with a numeric value in order to avoid DtypeWarning\n",
    "df = df.astype('object') # Converting the column to the desired data type\n",
    "\n",
    "for index, row in df.iterrows():\n",
    "    match = re.match(r'^(\\w+): ', row['Text'])\n",
    "    if match:\n",
    "        speaker = match.group(1)\n",
    "        df.at[index, 'Speaker'] = speaker\n",
    "        text_without_speaker = row['Text'][len(match.group(0)):]\n",
    "        df.at[index, 'Text'] = text_without_speaker\n",
    "    else:\n",
    "        # Handle the case when no match is found (optional)\n",
    "        #df.at[index, 'Speaker'] = ''  # Set a default value\n",
    "        pass\n",
    "\n",
    "df['Speaker'].ffill(inplace=True)\n",
    "\n",
    "print('Number of turns:', df.shape[0])\n",
    "\n",
    "debate_list.append(title)\n",
    "turn_list.append(df.shape[0])\n",
    "\n",
    "df[['Title', 'Debate', 'Date', 'Participants', 'Moderators', 'Speaker', 'Text']].to_json(f'{debate_title}.jsonl', orient='records', lines=True)\n",
    "\n",
    "df[['Title', 'Debate', 'Date', 'Participants', 'Moderators', 'Speaker', 'Text']].to_csv(f'{debate_title}.tsv', sep='\\t', index=False, encoding='utf-8', lineterminator='\\n')"
   ]
  },
  {
   "cell_type": "markdown",
   "id": "6abddc74-8acd-4474-a20f-c4bdcc4d7e14",
   "metadata": {},
   "source": [
    "## Debate 9"
   ]
  },
  {
   "cell_type": "code",
   "execution_count": 121,
   "id": "1b15e3f6-e367-4f96-94a2-26a862aafe86",
   "metadata": {},
   "outputs": [],
   "source": [
    "debate_title = debate_9\n",
    "url = debate_url_9\n",
    "response = requests.get(url)\n",
    "\n",
    "if response.status_code == 200:\n",
    "    page_content = response.content\n",
    "    # Step 2: Parse HTML content\n",
    "    soup = BeautifulSoup(page_content, 'lxml')\n",
    "\n",
    "    # Extract relevant tags (e.g., <h1>, <p>, etc.) and store them in a list\n",
    "    rows = []\n",
    "    for tag in soup.find_all(['h1', 'p']):\n",
    "        rows.append(tag.text.strip())  # Remove leading/trailing spaces\n",
    "    \n",
    "    # Create a DataFrame from the list of rows\n",
    "    df = pd.DataFrame(rows, columns=['Text'])\n",
    "\n",
    "else:\n",
    "    print(f'Failed to retrieve the page. Status code: {response.status_code}')"
   ]
  },
  {
   "cell_type": "code",
   "execution_count": 122,
   "id": "8e7094a1-f072-4f66-a85a-26124a5ed7f8",
   "metadata": {},
   "outputs": [
    {
     "data": {
      "text/html": [
       "<div>\n",
       "<style scoped>\n",
       "    .dataframe tbody tr th:only-of-type {\n",
       "        vertical-align: middle;\n",
       "    }\n",
       "\n",
       "    .dataframe tbody tr th {\n",
       "        vertical-align: top;\n",
       "    }\n",
       "\n",
       "    .dataframe thead th {\n",
       "        text-align: right;\n",
       "    }\n",
       "</style>\n",
       "<table border=\"1\" class=\"dataframe\">\n",
       "  <thead>\n",
       "    <tr style=\"text-align: right;\">\n",
       "      <th></th>\n",
       "      <th>Text</th>\n",
       "    </tr>\n",
       "  </thead>\n",
       "  <tbody>\n",
       "    <tr>\n",
       "      <th>0</th>\n",
       "      <td>October 11, 2012 Debate Transcript</td>\n",
       "    </tr>\n",
       "    <tr>\n",
       "      <th>1</th>\n",
       "      <td>REP. PAUL D. RYAN, R-WIS., VICE PRESIDENTIAL C...</td>\n",
       "    </tr>\n",
       "    <tr>\n",
       "      <th>2</th>\n",
       "      <td>OCTOBER 11, 2012</td>\n",
       "    </tr>\n",
       "    <tr>\n",
       "      <th>3</th>\n",
       "      <td>SPEAKERS: VICE PRESIDENT JOSEPH R. BIDEN JR.</td>\n",
       "    </tr>\n",
       "    <tr>\n",
       "      <th>4</th>\n",
       "      <td>REP. PAUL D. RYAN, R-WIS.</td>\n",
       "    </tr>\n",
       "    <tr>\n",
       "      <th>...</th>\n",
       "      <td>...</td>\n",
       "    </tr>\n",
       "    <tr>\n",
       "      <th>670</th>\n",
       "      <td>RADDATZ: And thank you both again. Thank you v...</td>\n",
       "    </tr>\n",
       "    <tr>\n",
       "      <th>671</th>\n",
       "      <td>BIDEN: Thank you.</td>\n",
       "    </tr>\n",
       "    <tr>\n",
       "      <th>672</th>\n",
       "      <td>RADDATZ: This concludes the vice presidential ...</td>\n",
       "    </tr>\n",
       "    <tr>\n",
       "      <th>673</th>\n",
       "      <td></td>\n",
       "    </tr>\n",
       "    <tr>\n",
       "      <th>674</th>\n",
       "      <td>© COPYRIGHT 2020 THE COMMISSION ON PRESIDENTIA...</td>\n",
       "    </tr>\n",
       "  </tbody>\n",
       "</table>\n",
       "<p>675 rows × 1 columns</p>\n",
       "</div>"
      ],
      "text/plain": [
       "                                                  Text\n",
       "0                   October 11, 2012 Debate Transcript\n",
       "1    REP. PAUL D. RYAN, R-WIS., VICE PRESIDENTIAL C...\n",
       "2                                     OCTOBER 11, 2012\n",
       "3         SPEAKERS: VICE PRESIDENT JOSEPH R. BIDEN JR.\n",
       "4                            REP. PAUL D. RYAN, R-WIS.\n",
       "..                                                 ...\n",
       "670  RADDATZ: And thank you both again. Thank you v...\n",
       "671                                  BIDEN: Thank you.\n",
       "672  RADDATZ: This concludes the vice presidential ...\n",
       "673                                                   \n",
       "674  © COPYRIGHT 2020 THE COMMISSION ON PRESIDENTIA...\n",
       "\n",
       "[675 rows x 1 columns]"
      ]
     },
     "execution_count": 122,
     "metadata": {},
     "output_type": "execute_result"
    }
   ],
   "source": [
    "df"
   ]
  },
  {
   "cell_type": "code",
   "execution_count": 123,
   "id": "dc0e2a77-668b-4f21-853b-4fad1ab1edd8",
   "metadata": {},
   "outputs": [],
   "source": [
    "df.drop(673, inplace=True)\n",
    "df = df.reset_index(drop=True)"
   ]
  },
  {
   "cell_type": "code",
   "execution_count": 124,
   "id": "e04504d3-498d-4da5-9d65-a38a610120a8",
   "metadata": {},
   "outputs": [
    {
     "data": {
      "text/html": [
       "<div>\n",
       "<style scoped>\n",
       "    .dataframe tbody tr th:only-of-type {\n",
       "        vertical-align: middle;\n",
       "    }\n",
       "\n",
       "    .dataframe tbody tr th {\n",
       "        vertical-align: top;\n",
       "    }\n",
       "\n",
       "    .dataframe thead th {\n",
       "        text-align: right;\n",
       "    }\n",
       "</style>\n",
       "<table border=\"1\" class=\"dataframe\">\n",
       "  <thead>\n",
       "    <tr style=\"text-align: right;\">\n",
       "      <th></th>\n",
       "      <th>Text</th>\n",
       "    </tr>\n",
       "  </thead>\n",
       "  <tbody>\n",
       "    <tr>\n",
       "      <th>0</th>\n",
       "      <td>October 11, 2012 Debate Transcript</td>\n",
       "    </tr>\n",
       "    <tr>\n",
       "      <th>1</th>\n",
       "      <td>REP. PAUL D. RYAN, R-WIS., VICE PRESIDENTIAL C...</td>\n",
       "    </tr>\n",
       "    <tr>\n",
       "      <th>2</th>\n",
       "      <td>OCTOBER 11, 2012</td>\n",
       "    </tr>\n",
       "    <tr>\n",
       "      <th>3</th>\n",
       "      <td>SPEAKERS: VICE PRESIDENT JOSEPH R. BIDEN JR.</td>\n",
       "    </tr>\n",
       "    <tr>\n",
       "      <th>4</th>\n",
       "      <td>REP. PAUL D. RYAN, R-WIS.</td>\n",
       "    </tr>\n",
       "    <tr>\n",
       "      <th>...</th>\n",
       "      <td>...</td>\n",
       "    </tr>\n",
       "    <tr>\n",
       "      <th>669</th>\n",
       "      <td>The choice is clear, and the choice rests with...</td>\n",
       "    </tr>\n",
       "    <tr>\n",
       "      <th>670</th>\n",
       "      <td>RADDATZ: And thank you both again. Thank you v...</td>\n",
       "    </tr>\n",
       "    <tr>\n",
       "      <th>671</th>\n",
       "      <td>BIDEN: Thank you.</td>\n",
       "    </tr>\n",
       "    <tr>\n",
       "      <th>672</th>\n",
       "      <td>RADDATZ: This concludes the vice presidential ...</td>\n",
       "    </tr>\n",
       "    <tr>\n",
       "      <th>673</th>\n",
       "      <td>© COPYRIGHT 2020 THE COMMISSION ON PRESIDENTIA...</td>\n",
       "    </tr>\n",
       "  </tbody>\n",
       "</table>\n",
       "<p>674 rows × 1 columns</p>\n",
       "</div>"
      ],
      "text/plain": [
       "                                                  Text\n",
       "0                   October 11, 2012 Debate Transcript\n",
       "1    REP. PAUL D. RYAN, R-WIS., VICE PRESIDENTIAL C...\n",
       "2                                     OCTOBER 11, 2012\n",
       "3         SPEAKERS: VICE PRESIDENT JOSEPH R. BIDEN JR.\n",
       "4                            REP. PAUL D. RYAN, R-WIS.\n",
       "..                                                 ...\n",
       "669  The choice is clear, and the choice rests with...\n",
       "670  RADDATZ: And thank you both again. Thank you v...\n",
       "671                                  BIDEN: Thank you.\n",
       "672  RADDATZ: This concludes the vice presidential ...\n",
       "673  © COPYRIGHT 2020 THE COMMISSION ON PRESIDENTIA...\n",
       "\n",
       "[674 rows x 1 columns]"
      ]
     },
     "execution_count": 124,
     "metadata": {},
     "output_type": "execute_result"
    }
   ],
   "source": [
    "df"
   ]
  },
  {
   "cell_type": "code",
   "execution_count": 125,
   "id": "690db684-b569-459c-aab9-fd37ffe8c1fb",
   "metadata": {},
   "outputs": [
    {
     "data": {
      "text/html": [
       "<div>\n",
       "<style scoped>\n",
       "    .dataframe tbody tr th:only-of-type {\n",
       "        vertical-align: middle;\n",
       "    }\n",
       "\n",
       "    .dataframe tbody tr th {\n",
       "        vertical-align: top;\n",
       "    }\n",
       "\n",
       "    .dataframe thead th {\n",
       "        text-align: right;\n",
       "    }\n",
       "</style>\n",
       "<table border=\"1\" class=\"dataframe\">\n",
       "  <thead>\n",
       "    <tr style=\"text-align: right;\">\n",
       "      <th></th>\n",
       "      <th>Text</th>\n",
       "    </tr>\n",
       "  </thead>\n",
       "  <tbody>\n",
       "    <tr>\n",
       "      <th>0</th>\n",
       "      <td>October 11, 2012 Debate Transcript</td>\n",
       "    </tr>\n",
       "    <tr>\n",
       "      <th>1</th>\n",
       "      <td>REP. PAUL D. RYAN, R-WIS., VICE PRESIDENTIAL C...</td>\n",
       "    </tr>\n",
       "    <tr>\n",
       "      <th>2</th>\n",
       "      <td>OCTOBER 11, 2012</td>\n",
       "    </tr>\n",
       "    <tr>\n",
       "      <th>3</th>\n",
       "      <td>SPEAKERS: VICE PRESIDENT JOSEPH R. BIDEN JR.</td>\n",
       "    </tr>\n",
       "    <tr>\n",
       "      <th>4</th>\n",
       "      <td>REP. PAUL D. RYAN, R-WIS.</td>\n",
       "    </tr>\n",
       "    <tr>\n",
       "      <th>5</th>\n",
       "      <td>MARTHA RADDATZ, MODERATOR[*]RADDATZ: Good even...</td>\n",
       "    </tr>\n",
       "    <tr>\n",
       "      <th>6</th>\n",
       "      <td>Tonight’s debate is divided between domestic a...</td>\n",
       "    </tr>\n",
       "    <tr>\n",
       "      <th>7</th>\n",
       "      <td>By coin toss, it has been determined that Vice...</td>\n",
       "    </tr>\n",
       "    <tr>\n",
       "      <th>8</th>\n",
       "      <td>(APPLAUSE)</td>\n",
       "    </tr>\n",
       "    <tr>\n",
       "      <th>9</th>\n",
       "      <td>OK, you got your little wave to the families i...</td>\n",
       "    </tr>\n",
       "  </tbody>\n",
       "</table>\n",
       "</div>"
      ],
      "text/plain": [
       "                                                Text\n",
       "0                 October 11, 2012 Debate Transcript\n",
       "1  REP. PAUL D. RYAN, R-WIS., VICE PRESIDENTIAL C...\n",
       "2                                   OCTOBER 11, 2012\n",
       "3       SPEAKERS: VICE PRESIDENT JOSEPH R. BIDEN JR.\n",
       "4                          REP. PAUL D. RYAN, R-WIS.\n",
       "5  MARTHA RADDATZ, MODERATOR[*]RADDATZ: Good even...\n",
       "6  Tonight’s debate is divided between domestic a...\n",
       "7  By coin toss, it has been determined that Vice...\n",
       "8                                         (APPLAUSE)\n",
       "9  OK, you got your little wave to the families i..."
      ]
     },
     "execution_count": 125,
     "metadata": {},
     "output_type": "execute_result"
    }
   ],
   "source": [
    "df.head(10)"
   ]
  },
  {
   "cell_type": "code",
   "execution_count": 126,
   "id": "01ffba3e-ddbc-4550-a1fb-b5742fc3e9a6",
   "metadata": {},
   "outputs": [],
   "source": [
    "title = df.at[0, 'Text']\n",
    "df['Title'] = title\n",
    "\n",
    "debate = df.at[1, 'Text']\n",
    "df['Debate'] = debate\n",
    "\n",
    "date = df.at[2, 'Text']\n",
    "df['Date'] = date\n",
    "\n",
    "participants = df.at[3, 'Text']\n",
    "participants = re.sub(r'^\\w+: ', '', participants)\n",
    "participants = participants + ' ' + df.at[4, 'Text']\n",
    "df['Participants'] = participants\n",
    "\n",
    "moderators = df.at[5, 'Text']\n",
    "moderators = re.match(r'^(\\w+ \\w+)', moderators).group(1)\n",
    "df['Moderators'] = moderators"
   ]
  },
  {
   "cell_type": "code",
   "execution_count": 127,
   "id": "58c5cc76-4506-49a9-94ee-7e1ab44ce811",
   "metadata": {},
   "outputs": [
    {
     "data": {
      "text/plain": [
       "'© COPYRIGHT 2020 THE COMMISSION ON PRESIDENTIAL DEBATES. ALL RIGHTS RESERVED.'"
      ]
     },
     "execution_count": 127,
     "metadata": {},
     "output_type": "execute_result"
    }
   ],
   "source": [
    "last_row = 673\n",
    "df.loc[last_row, 'Text']"
   ]
  },
  {
   "cell_type": "code",
   "execution_count": 128,
   "id": "224feb3e-8fd6-4281-8e62-0fa3bc1bd964",
   "metadata": {},
   "outputs": [],
   "source": [
    "df = df[~df['Text'].str.contains(df.loc[last_row, 'Text'])]"
   ]
  },
  {
   "cell_type": "code",
   "execution_count": 129,
   "id": "d849f641-06b9-4713-a015-7f8d233f9aa1",
   "metadata": {},
   "outputs": [
    {
     "data": {
      "text/html": [
       "<div>\n",
       "<style scoped>\n",
       "    .dataframe tbody tr th:only-of-type {\n",
       "        vertical-align: middle;\n",
       "    }\n",
       "\n",
       "    .dataframe tbody tr th {\n",
       "        vertical-align: top;\n",
       "    }\n",
       "\n",
       "    .dataframe thead th {\n",
       "        text-align: right;\n",
       "    }\n",
       "</style>\n",
       "<table border=\"1\" class=\"dataframe\">\n",
       "  <thead>\n",
       "    <tr style=\"text-align: right;\">\n",
       "      <th></th>\n",
       "      <th>Text</th>\n",
       "      <th>Title</th>\n",
       "      <th>Debate</th>\n",
       "      <th>Date</th>\n",
       "      <th>Participants</th>\n",
       "      <th>Moderators</th>\n",
       "    </tr>\n",
       "  </thead>\n",
       "  <tbody>\n",
       "    <tr>\n",
       "      <th>0</th>\n",
       "      <td>October 11, 2012 Debate Transcript</td>\n",
       "      <td>October 11, 2012 Debate Transcript</td>\n",
       "      <td>REP. PAUL D. RYAN, R-WIS., VICE PRESIDENTIAL C...</td>\n",
       "      <td>OCTOBER 11, 2012</td>\n",
       "      <td>VICE PRESIDENT JOSEPH R. BIDEN JR. REP. PAUL D...</td>\n",
       "      <td>MARTHA RADDATZ</td>\n",
       "    </tr>\n",
       "    <tr>\n",
       "      <th>1</th>\n",
       "      <td>REP. PAUL D. RYAN, R-WIS., VICE PRESIDENTIAL C...</td>\n",
       "      <td>October 11, 2012 Debate Transcript</td>\n",
       "      <td>REP. PAUL D. RYAN, R-WIS., VICE PRESIDENTIAL C...</td>\n",
       "      <td>OCTOBER 11, 2012</td>\n",
       "      <td>VICE PRESIDENT JOSEPH R. BIDEN JR. REP. PAUL D...</td>\n",
       "      <td>MARTHA RADDATZ</td>\n",
       "    </tr>\n",
       "    <tr>\n",
       "      <th>2</th>\n",
       "      <td>OCTOBER 11, 2012</td>\n",
       "      <td>October 11, 2012 Debate Transcript</td>\n",
       "      <td>REP. PAUL D. RYAN, R-WIS., VICE PRESIDENTIAL C...</td>\n",
       "      <td>OCTOBER 11, 2012</td>\n",
       "      <td>VICE PRESIDENT JOSEPH R. BIDEN JR. REP. PAUL D...</td>\n",
       "      <td>MARTHA RADDATZ</td>\n",
       "    </tr>\n",
       "    <tr>\n",
       "      <th>3</th>\n",
       "      <td>SPEAKERS: VICE PRESIDENT JOSEPH R. BIDEN JR.</td>\n",
       "      <td>October 11, 2012 Debate Transcript</td>\n",
       "      <td>REP. PAUL D. RYAN, R-WIS., VICE PRESIDENTIAL C...</td>\n",
       "      <td>OCTOBER 11, 2012</td>\n",
       "      <td>VICE PRESIDENT JOSEPH R. BIDEN JR. REP. PAUL D...</td>\n",
       "      <td>MARTHA RADDATZ</td>\n",
       "    </tr>\n",
       "    <tr>\n",
       "      <th>4</th>\n",
       "      <td>REP. PAUL D. RYAN, R-WIS.</td>\n",
       "      <td>October 11, 2012 Debate Transcript</td>\n",
       "      <td>REP. PAUL D. RYAN, R-WIS., VICE PRESIDENTIAL C...</td>\n",
       "      <td>OCTOBER 11, 2012</td>\n",
       "      <td>VICE PRESIDENT JOSEPH R. BIDEN JR. REP. PAUL D...</td>\n",
       "      <td>MARTHA RADDATZ</td>\n",
       "    </tr>\n",
       "    <tr>\n",
       "      <th>5</th>\n",
       "      <td>MARTHA RADDATZ, MODERATOR[*]RADDATZ: Good even...</td>\n",
       "      <td>October 11, 2012 Debate Transcript</td>\n",
       "      <td>REP. PAUL D. RYAN, R-WIS., VICE PRESIDENTIAL C...</td>\n",
       "      <td>OCTOBER 11, 2012</td>\n",
       "      <td>VICE PRESIDENT JOSEPH R. BIDEN JR. REP. PAUL D...</td>\n",
       "      <td>MARTHA RADDATZ</td>\n",
       "    </tr>\n",
       "    <tr>\n",
       "      <th>6</th>\n",
       "      <td>Tonight’s debate is divided between domestic a...</td>\n",
       "      <td>October 11, 2012 Debate Transcript</td>\n",
       "      <td>REP. PAUL D. RYAN, R-WIS., VICE PRESIDENTIAL C...</td>\n",
       "      <td>OCTOBER 11, 2012</td>\n",
       "      <td>VICE PRESIDENT JOSEPH R. BIDEN JR. REP. PAUL D...</td>\n",
       "      <td>MARTHA RADDATZ</td>\n",
       "    </tr>\n",
       "    <tr>\n",
       "      <th>7</th>\n",
       "      <td>By coin toss, it has been determined that Vice...</td>\n",
       "      <td>October 11, 2012 Debate Transcript</td>\n",
       "      <td>REP. PAUL D. RYAN, R-WIS., VICE PRESIDENTIAL C...</td>\n",
       "      <td>OCTOBER 11, 2012</td>\n",
       "      <td>VICE PRESIDENT JOSEPH R. BIDEN JR. REP. PAUL D...</td>\n",
       "      <td>MARTHA RADDATZ</td>\n",
       "    </tr>\n",
       "    <tr>\n",
       "      <th>8</th>\n",
       "      <td>(APPLAUSE)</td>\n",
       "      <td>October 11, 2012 Debate Transcript</td>\n",
       "      <td>REP. PAUL D. RYAN, R-WIS., VICE PRESIDENTIAL C...</td>\n",
       "      <td>OCTOBER 11, 2012</td>\n",
       "      <td>VICE PRESIDENT JOSEPH R. BIDEN JR. REP. PAUL D...</td>\n",
       "      <td>MARTHA RADDATZ</td>\n",
       "    </tr>\n",
       "    <tr>\n",
       "      <th>9</th>\n",
       "      <td>OK, you got your little wave to the families i...</td>\n",
       "      <td>October 11, 2012 Debate Transcript</td>\n",
       "      <td>REP. PAUL D. RYAN, R-WIS., VICE PRESIDENTIAL C...</td>\n",
       "      <td>OCTOBER 11, 2012</td>\n",
       "      <td>VICE PRESIDENT JOSEPH R. BIDEN JR. REP. PAUL D...</td>\n",
       "      <td>MARTHA RADDATZ</td>\n",
       "    </tr>\n",
       "  </tbody>\n",
       "</table>\n",
       "</div>"
      ],
      "text/plain": [
       "                                                Text  \\\n",
       "0                 October 11, 2012 Debate Transcript   \n",
       "1  REP. PAUL D. RYAN, R-WIS., VICE PRESIDENTIAL C...   \n",
       "2                                   OCTOBER 11, 2012   \n",
       "3       SPEAKERS: VICE PRESIDENT JOSEPH R. BIDEN JR.   \n",
       "4                          REP. PAUL D. RYAN, R-WIS.   \n",
       "5  MARTHA RADDATZ, MODERATOR[*]RADDATZ: Good even...   \n",
       "6  Tonight’s debate is divided between domestic a...   \n",
       "7  By coin toss, it has been determined that Vice...   \n",
       "8                                         (APPLAUSE)   \n",
       "9  OK, you got your little wave to the families i...   \n",
       "\n",
       "                                Title  \\\n",
       "0  October 11, 2012 Debate Transcript   \n",
       "1  October 11, 2012 Debate Transcript   \n",
       "2  October 11, 2012 Debate Transcript   \n",
       "3  October 11, 2012 Debate Transcript   \n",
       "4  October 11, 2012 Debate Transcript   \n",
       "5  October 11, 2012 Debate Transcript   \n",
       "6  October 11, 2012 Debate Transcript   \n",
       "7  October 11, 2012 Debate Transcript   \n",
       "8  October 11, 2012 Debate Transcript   \n",
       "9  October 11, 2012 Debate Transcript   \n",
       "\n",
       "                                              Debate              Date  \\\n",
       "0  REP. PAUL D. RYAN, R-WIS., VICE PRESIDENTIAL C...  OCTOBER 11, 2012   \n",
       "1  REP. PAUL D. RYAN, R-WIS., VICE PRESIDENTIAL C...  OCTOBER 11, 2012   \n",
       "2  REP. PAUL D. RYAN, R-WIS., VICE PRESIDENTIAL C...  OCTOBER 11, 2012   \n",
       "3  REP. PAUL D. RYAN, R-WIS., VICE PRESIDENTIAL C...  OCTOBER 11, 2012   \n",
       "4  REP. PAUL D. RYAN, R-WIS., VICE PRESIDENTIAL C...  OCTOBER 11, 2012   \n",
       "5  REP. PAUL D. RYAN, R-WIS., VICE PRESIDENTIAL C...  OCTOBER 11, 2012   \n",
       "6  REP. PAUL D. RYAN, R-WIS., VICE PRESIDENTIAL C...  OCTOBER 11, 2012   \n",
       "7  REP. PAUL D. RYAN, R-WIS., VICE PRESIDENTIAL C...  OCTOBER 11, 2012   \n",
       "8  REP. PAUL D. RYAN, R-WIS., VICE PRESIDENTIAL C...  OCTOBER 11, 2012   \n",
       "9  REP. PAUL D. RYAN, R-WIS., VICE PRESIDENTIAL C...  OCTOBER 11, 2012   \n",
       "\n",
       "                                        Participants      Moderators  \n",
       "0  VICE PRESIDENT JOSEPH R. BIDEN JR. REP. PAUL D...  MARTHA RADDATZ  \n",
       "1  VICE PRESIDENT JOSEPH R. BIDEN JR. REP. PAUL D...  MARTHA RADDATZ  \n",
       "2  VICE PRESIDENT JOSEPH R. BIDEN JR. REP. PAUL D...  MARTHA RADDATZ  \n",
       "3  VICE PRESIDENT JOSEPH R. BIDEN JR. REP. PAUL D...  MARTHA RADDATZ  \n",
       "4  VICE PRESIDENT JOSEPH R. BIDEN JR. REP. PAUL D...  MARTHA RADDATZ  \n",
       "5  VICE PRESIDENT JOSEPH R. BIDEN JR. REP. PAUL D...  MARTHA RADDATZ  \n",
       "6  VICE PRESIDENT JOSEPH R. BIDEN JR. REP. PAUL D...  MARTHA RADDATZ  \n",
       "7  VICE PRESIDENT JOSEPH R. BIDEN JR. REP. PAUL D...  MARTHA RADDATZ  \n",
       "8  VICE PRESIDENT JOSEPH R. BIDEN JR. REP. PAUL D...  MARTHA RADDATZ  \n",
       "9  VICE PRESIDENT JOSEPH R. BIDEN JR. REP. PAUL D...  MARTHA RADDATZ  "
      ]
     },
     "execution_count": 129,
     "metadata": {},
     "output_type": "execute_result"
    }
   ],
   "source": [
    "df.head(10)"
   ]
  },
  {
   "cell_type": "code",
   "execution_count": 130,
   "id": "2857a22e-d25e-4aa4-8673-34db13d6ccd0",
   "metadata": {},
   "outputs": [],
   "source": [
    "df.loc[5, 'Text'] = re.sub(r'^\\w+ \\w+, \\w+\\[\\*\\]', '', df.loc[5, 'Text'])"
   ]
  },
  {
   "cell_type": "code",
   "execution_count": 131,
   "id": "389b5b25-4914-4713-93c2-2ed1343e0513",
   "metadata": {},
   "outputs": [
    {
     "data": {
      "text/html": [
       "<div>\n",
       "<style scoped>\n",
       "    .dataframe tbody tr th:only-of-type {\n",
       "        vertical-align: middle;\n",
       "    }\n",
       "\n",
       "    .dataframe tbody tr th {\n",
       "        vertical-align: top;\n",
       "    }\n",
       "\n",
       "    .dataframe thead th {\n",
       "        text-align: right;\n",
       "    }\n",
       "</style>\n",
       "<table border=\"1\" class=\"dataframe\">\n",
       "  <thead>\n",
       "    <tr style=\"text-align: right;\">\n",
       "      <th></th>\n",
       "      <th>Text</th>\n",
       "      <th>Title</th>\n",
       "      <th>Debate</th>\n",
       "      <th>Date</th>\n",
       "      <th>Participants</th>\n",
       "      <th>Moderators</th>\n",
       "    </tr>\n",
       "  </thead>\n",
       "  <tbody>\n",
       "    <tr>\n",
       "      <th>0</th>\n",
       "      <td>October 11, 2012 Debate Transcript</td>\n",
       "      <td>October 11, 2012 Debate Transcript</td>\n",
       "      <td>REP. PAUL D. RYAN, R-WIS., VICE PRESIDENTIAL C...</td>\n",
       "      <td>OCTOBER 11, 2012</td>\n",
       "      <td>VICE PRESIDENT JOSEPH R. BIDEN JR. REP. PAUL D...</td>\n",
       "      <td>MARTHA RADDATZ</td>\n",
       "    </tr>\n",
       "    <tr>\n",
       "      <th>1</th>\n",
       "      <td>REP. PAUL D. RYAN, R-WIS., VICE PRESIDENTIAL C...</td>\n",
       "      <td>October 11, 2012 Debate Transcript</td>\n",
       "      <td>REP. PAUL D. RYAN, R-WIS., VICE PRESIDENTIAL C...</td>\n",
       "      <td>OCTOBER 11, 2012</td>\n",
       "      <td>VICE PRESIDENT JOSEPH R. BIDEN JR. REP. PAUL D...</td>\n",
       "      <td>MARTHA RADDATZ</td>\n",
       "    </tr>\n",
       "    <tr>\n",
       "      <th>2</th>\n",
       "      <td>OCTOBER 11, 2012</td>\n",
       "      <td>October 11, 2012 Debate Transcript</td>\n",
       "      <td>REP. PAUL D. RYAN, R-WIS., VICE PRESIDENTIAL C...</td>\n",
       "      <td>OCTOBER 11, 2012</td>\n",
       "      <td>VICE PRESIDENT JOSEPH R. BIDEN JR. REP. PAUL D...</td>\n",
       "      <td>MARTHA RADDATZ</td>\n",
       "    </tr>\n",
       "    <tr>\n",
       "      <th>3</th>\n",
       "      <td>SPEAKERS: VICE PRESIDENT JOSEPH R. BIDEN JR.</td>\n",
       "      <td>October 11, 2012 Debate Transcript</td>\n",
       "      <td>REP. PAUL D. RYAN, R-WIS., VICE PRESIDENTIAL C...</td>\n",
       "      <td>OCTOBER 11, 2012</td>\n",
       "      <td>VICE PRESIDENT JOSEPH R. BIDEN JR. REP. PAUL D...</td>\n",
       "      <td>MARTHA RADDATZ</td>\n",
       "    </tr>\n",
       "    <tr>\n",
       "      <th>4</th>\n",
       "      <td>REP. PAUL D. RYAN, R-WIS.</td>\n",
       "      <td>October 11, 2012 Debate Transcript</td>\n",
       "      <td>REP. PAUL D. RYAN, R-WIS., VICE PRESIDENTIAL C...</td>\n",
       "      <td>OCTOBER 11, 2012</td>\n",
       "      <td>VICE PRESIDENT JOSEPH R. BIDEN JR. REP. PAUL D...</td>\n",
       "      <td>MARTHA RADDATZ</td>\n",
       "    </tr>\n",
       "    <tr>\n",
       "      <th>5</th>\n",
       "      <td>RADDATZ: Good evening, and welcome to the firs...</td>\n",
       "      <td>October 11, 2012 Debate Transcript</td>\n",
       "      <td>REP. PAUL D. RYAN, R-WIS., VICE PRESIDENTIAL C...</td>\n",
       "      <td>OCTOBER 11, 2012</td>\n",
       "      <td>VICE PRESIDENT JOSEPH R. BIDEN JR. REP. PAUL D...</td>\n",
       "      <td>MARTHA RADDATZ</td>\n",
       "    </tr>\n",
       "    <tr>\n",
       "      <th>6</th>\n",
       "      <td>Tonight’s debate is divided between domestic a...</td>\n",
       "      <td>October 11, 2012 Debate Transcript</td>\n",
       "      <td>REP. PAUL D. RYAN, R-WIS., VICE PRESIDENTIAL C...</td>\n",
       "      <td>OCTOBER 11, 2012</td>\n",
       "      <td>VICE PRESIDENT JOSEPH R. BIDEN JR. REP. PAUL D...</td>\n",
       "      <td>MARTHA RADDATZ</td>\n",
       "    </tr>\n",
       "    <tr>\n",
       "      <th>7</th>\n",
       "      <td>By coin toss, it has been determined that Vice...</td>\n",
       "      <td>October 11, 2012 Debate Transcript</td>\n",
       "      <td>REP. PAUL D. RYAN, R-WIS., VICE PRESIDENTIAL C...</td>\n",
       "      <td>OCTOBER 11, 2012</td>\n",
       "      <td>VICE PRESIDENT JOSEPH R. BIDEN JR. REP. PAUL D...</td>\n",
       "      <td>MARTHA RADDATZ</td>\n",
       "    </tr>\n",
       "    <tr>\n",
       "      <th>8</th>\n",
       "      <td>(APPLAUSE)</td>\n",
       "      <td>October 11, 2012 Debate Transcript</td>\n",
       "      <td>REP. PAUL D. RYAN, R-WIS., VICE PRESIDENTIAL C...</td>\n",
       "      <td>OCTOBER 11, 2012</td>\n",
       "      <td>VICE PRESIDENT JOSEPH R. BIDEN JR. REP. PAUL D...</td>\n",
       "      <td>MARTHA RADDATZ</td>\n",
       "    </tr>\n",
       "    <tr>\n",
       "      <th>9</th>\n",
       "      <td>OK, you got your little wave to the families i...</td>\n",
       "      <td>October 11, 2012 Debate Transcript</td>\n",
       "      <td>REP. PAUL D. RYAN, R-WIS., VICE PRESIDENTIAL C...</td>\n",
       "      <td>OCTOBER 11, 2012</td>\n",
       "      <td>VICE PRESIDENT JOSEPH R. BIDEN JR. REP. PAUL D...</td>\n",
       "      <td>MARTHA RADDATZ</td>\n",
       "    </tr>\n",
       "  </tbody>\n",
       "</table>\n",
       "</div>"
      ],
      "text/plain": [
       "                                                Text  \\\n",
       "0                 October 11, 2012 Debate Transcript   \n",
       "1  REP. PAUL D. RYAN, R-WIS., VICE PRESIDENTIAL C...   \n",
       "2                                   OCTOBER 11, 2012   \n",
       "3       SPEAKERS: VICE PRESIDENT JOSEPH R. BIDEN JR.   \n",
       "4                          REP. PAUL D. RYAN, R-WIS.   \n",
       "5  RADDATZ: Good evening, and welcome to the firs...   \n",
       "6  Tonight’s debate is divided between domestic a...   \n",
       "7  By coin toss, it has been determined that Vice...   \n",
       "8                                         (APPLAUSE)   \n",
       "9  OK, you got your little wave to the families i...   \n",
       "\n",
       "                                Title  \\\n",
       "0  October 11, 2012 Debate Transcript   \n",
       "1  October 11, 2012 Debate Transcript   \n",
       "2  October 11, 2012 Debate Transcript   \n",
       "3  October 11, 2012 Debate Transcript   \n",
       "4  October 11, 2012 Debate Transcript   \n",
       "5  October 11, 2012 Debate Transcript   \n",
       "6  October 11, 2012 Debate Transcript   \n",
       "7  October 11, 2012 Debate Transcript   \n",
       "8  October 11, 2012 Debate Transcript   \n",
       "9  October 11, 2012 Debate Transcript   \n",
       "\n",
       "                                              Debate              Date  \\\n",
       "0  REP. PAUL D. RYAN, R-WIS., VICE PRESIDENTIAL C...  OCTOBER 11, 2012   \n",
       "1  REP. PAUL D. RYAN, R-WIS., VICE PRESIDENTIAL C...  OCTOBER 11, 2012   \n",
       "2  REP. PAUL D. RYAN, R-WIS., VICE PRESIDENTIAL C...  OCTOBER 11, 2012   \n",
       "3  REP. PAUL D. RYAN, R-WIS., VICE PRESIDENTIAL C...  OCTOBER 11, 2012   \n",
       "4  REP. PAUL D. RYAN, R-WIS., VICE PRESIDENTIAL C...  OCTOBER 11, 2012   \n",
       "5  REP. PAUL D. RYAN, R-WIS., VICE PRESIDENTIAL C...  OCTOBER 11, 2012   \n",
       "6  REP. PAUL D. RYAN, R-WIS., VICE PRESIDENTIAL C...  OCTOBER 11, 2012   \n",
       "7  REP. PAUL D. RYAN, R-WIS., VICE PRESIDENTIAL C...  OCTOBER 11, 2012   \n",
       "8  REP. PAUL D. RYAN, R-WIS., VICE PRESIDENTIAL C...  OCTOBER 11, 2012   \n",
       "9  REP. PAUL D. RYAN, R-WIS., VICE PRESIDENTIAL C...  OCTOBER 11, 2012   \n",
       "\n",
       "                                        Participants      Moderators  \n",
       "0  VICE PRESIDENT JOSEPH R. BIDEN JR. REP. PAUL D...  MARTHA RADDATZ  \n",
       "1  VICE PRESIDENT JOSEPH R. BIDEN JR. REP. PAUL D...  MARTHA RADDATZ  \n",
       "2  VICE PRESIDENT JOSEPH R. BIDEN JR. REP. PAUL D...  MARTHA RADDATZ  \n",
       "3  VICE PRESIDENT JOSEPH R. BIDEN JR. REP. PAUL D...  MARTHA RADDATZ  \n",
       "4  VICE PRESIDENT JOSEPH R. BIDEN JR. REP. PAUL D...  MARTHA RADDATZ  \n",
       "5  VICE PRESIDENT JOSEPH R. BIDEN JR. REP. PAUL D...  MARTHA RADDATZ  \n",
       "6  VICE PRESIDENT JOSEPH R. BIDEN JR. REP. PAUL D...  MARTHA RADDATZ  \n",
       "7  VICE PRESIDENT JOSEPH R. BIDEN JR. REP. PAUL D...  MARTHA RADDATZ  \n",
       "8  VICE PRESIDENT JOSEPH R. BIDEN JR. REP. PAUL D...  MARTHA RADDATZ  \n",
       "9  VICE PRESIDENT JOSEPH R. BIDEN JR. REP. PAUL D...  MARTHA RADDATZ  "
      ]
     },
     "execution_count": 131,
     "metadata": {},
     "output_type": "execute_result"
    }
   ],
   "source": [
    "df.head(10)"
   ]
  },
  {
   "cell_type": "code",
   "execution_count": 132,
   "id": "ba289309-ce2c-489d-9e5d-f28e06d9c689",
   "metadata": {},
   "outputs": [],
   "source": [
    "df = df.loc[5:]\n",
    "df = df.reset_index(drop=True)"
   ]
  },
  {
   "cell_type": "code",
   "execution_count": 133,
   "id": "f21b81f0-7295-4758-b21a-c7d9689d2f9d",
   "metadata": {},
   "outputs": [
    {
     "data": {
      "text/plain": [
       "Text\n",
       "False    610\n",
       "True      58\n",
       "Name: count, dtype: int64"
      ]
     },
     "execution_count": 133,
     "metadata": {},
     "output_type": "execute_result"
    }
   ],
   "source": [
    "# List of expressions whose rows in column 'Text' should be dropped\n",
    "expressions_to_drop = ['(APPLAUSE)', '(LAUGHTER)', '(CROSSTALK)']\n",
    "\n",
    "# Creating a boolean mask for rows starting with the specified expressions\n",
    "mask = df['Text'].str.startswith(tuple(expressions_to_drop))\n",
    "\n",
    "# Counting the number of rows for each expression\n",
    "counts = mask.value_counts()\n",
    "\n",
    "# Display the counts\n",
    "counts"
   ]
  },
  {
   "cell_type": "code",
   "execution_count": 134,
   "id": "a800f265-98bf-42fc-97eb-0b6b35b89570",
   "metadata": {},
   "outputs": [],
   "source": [
    "# Dropping the rows that start with those expressions in column 'Text'\n",
    "df = df[~mask]\n",
    "df = df.reset_index(drop=True)"
   ]
  },
  {
   "cell_type": "code",
   "execution_count": 135,
   "id": "90ef598f-5457-4672-8ded-6e3dd204709d",
   "metadata": {},
   "outputs": [
    {
     "data": {
      "text/html": [
       "<div>\n",
       "<style scoped>\n",
       "    .dataframe tbody tr th:only-of-type {\n",
       "        vertical-align: middle;\n",
       "    }\n",
       "\n",
       "    .dataframe tbody tr th {\n",
       "        vertical-align: top;\n",
       "    }\n",
       "\n",
       "    .dataframe thead th {\n",
       "        text-align: right;\n",
       "    }\n",
       "</style>\n",
       "<table border=\"1\" class=\"dataframe\">\n",
       "  <thead>\n",
       "    <tr style=\"text-align: right;\">\n",
       "      <th></th>\n",
       "      <th>Text</th>\n",
       "      <th>Title</th>\n",
       "      <th>Debate</th>\n",
       "      <th>Date</th>\n",
       "      <th>Participants</th>\n",
       "      <th>Moderators</th>\n",
       "    </tr>\n",
       "  </thead>\n",
       "  <tbody>\n",
       "    <tr>\n",
       "      <th>0</th>\n",
       "      <td>RADDATZ: Good evening, and welcome to the firs...</td>\n",
       "      <td>October 11, 2012 Debate Transcript</td>\n",
       "      <td>REP. PAUL D. RYAN, R-WIS., VICE PRESIDENTIAL C...</td>\n",
       "      <td>OCTOBER 11, 2012</td>\n",
       "      <td>VICE PRESIDENT JOSEPH R. BIDEN JR. REP. PAUL D...</td>\n",
       "      <td>MARTHA RADDATZ</td>\n",
       "    </tr>\n",
       "  </tbody>\n",
       "</table>\n",
       "</div>"
      ],
      "text/plain": [
       "                                                Text  \\\n",
       "0  RADDATZ: Good evening, and welcome to the firs...   \n",
       "\n",
       "                                Title  \\\n",
       "0  October 11, 2012 Debate Transcript   \n",
       "\n",
       "                                              Debate              Date  \\\n",
       "0  REP. PAUL D. RYAN, R-WIS., VICE PRESIDENTIAL C...  OCTOBER 11, 2012   \n",
       "\n",
       "                                        Participants      Moderators  \n",
       "0  VICE PRESIDENT JOSEPH R. BIDEN JR. REP. PAUL D...  MARTHA RADDATZ  "
      ]
     },
     "execution_count": 135,
     "metadata": {},
     "output_type": "execute_result"
    }
   ],
   "source": [
    "df.head(1)"
   ]
  },
  {
   "cell_type": "code",
   "execution_count": 136,
   "id": "314c1b1b-62e3-44ff-9bf2-40f2ddd8ac31",
   "metadata": {},
   "outputs": [
    {
     "data": {
      "text/plain": [
       "'RADDATZ: Good evening, and welcome to the first and only vice presidential debate of 2012, sponsored by the Commission on Presidential Debates. I’m Martha Raddatz of ABC News, and I am honored to moderate this debate between two men who have dedicated much of their lives to public service.'"
      ]
     },
     "execution_count": 136,
     "metadata": {},
     "output_type": "execute_result"
    }
   ],
   "source": [
    "df.loc[0, 'Text']"
   ]
  },
  {
   "cell_type": "code",
   "execution_count": 137,
   "id": "b5f9698c-c4eb-4a50-b4d3-af203a0b0216",
   "metadata": {},
   "outputs": [
    {
     "name": "stdout",
     "output_type": "stream",
     "text": [
      "Number of turns: 610\n"
     ]
    }
   ],
   "source": [
    "df.at[0, 'Speaker'] = 1 # Adding column 'Speaker' by initialising it with a numeric value in order to avoid DtypeWarning\n",
    "df = df.astype('object') # Converting the column to the desired data type\n",
    "\n",
    "for index, row in df.iterrows():\n",
    "    match = re.match(r'^(\\w+): ', row['Text'])\n",
    "    if match:\n",
    "        speaker = match.group(1)\n",
    "        df.at[index, 'Speaker'] = speaker\n",
    "        text_without_speaker = row['Text'][len(match.group(0)):]\n",
    "        df.at[index, 'Text'] = text_without_speaker\n",
    "    else:\n",
    "        # Handle the case when no match is found (optional)\n",
    "        #df.at[index, 'Speaker'] = ''  # Set a default value\n",
    "        pass\n",
    "\n",
    "df['Speaker'].ffill(inplace=True)\n",
    "\n",
    "print('Number of turns:', df.shape[0])\n",
    "\n",
    "debate_list.append(title)\n",
    "turn_list.append(df.shape[0])\n",
    "\n",
    "df[['Title', 'Debate', 'Date', 'Participants', 'Moderators', 'Speaker', 'Text']].to_json(f'{debate_title}.jsonl', orient='records', lines=True)\n",
    "\n",
    "df[['Title', 'Debate', 'Date', 'Participants', 'Moderators', 'Speaker', 'Text']].to_csv(f'{debate_title}.tsv', sep='\\t', index=False, encoding='utf-8', lineterminator='\\n')"
   ]
  },
  {
   "cell_type": "markdown",
   "id": "781fdfc4-05fe-4693-aa54-953cccc774b1",
   "metadata": {},
   "source": [
    "## Debate 10"
   ]
  },
  {
   "cell_type": "code",
   "execution_count": 138,
   "id": "3e870c88-0862-4c6c-9022-df84530b3337",
   "metadata": {},
   "outputs": [],
   "source": [
    "debate_title = debate_10\n",
    "url = debate_url_10\n",
    "response = requests.get(url)\n",
    "\n",
    "if response.status_code == 200:\n",
    "    page_content = response.content\n",
    "    # Step 2: Parse HTML content\n",
    "    soup = BeautifulSoup(page_content, 'lxml')\n",
    "\n",
    "    # Extract relevant tags (e.g., <h1>, <p>, etc.) and store them in a list\n",
    "    rows = []\n",
    "    for tag in soup.find_all(['h1', 'p']):\n",
    "        rows.append(tag.text.strip())  # Remove leading/trailing spaces\n",
    "    \n",
    "    # Create a DataFrame from the list of rows\n",
    "    df = pd.DataFrame(rows, columns=['Text'])\n",
    "\n",
    "else:\n",
    "    print(f'Failed to retrieve the page. Status code: {response.status_code}')"
   ]
  },
  {
   "cell_type": "code",
   "execution_count": 139,
   "id": "3b8900d3-170d-4a60-a83e-b9026ebe748a",
   "metadata": {},
   "outputs": [
    {
     "data": {
      "text/html": [
       "<div>\n",
       "<style scoped>\n",
       "    .dataframe tbody tr th:only-of-type {\n",
       "        vertical-align: middle;\n",
       "    }\n",
       "\n",
       "    .dataframe tbody tr th {\n",
       "        vertical-align: top;\n",
       "    }\n",
       "\n",
       "    .dataframe thead th {\n",
       "        text-align: right;\n",
       "    }\n",
       "</style>\n",
       "<table border=\"1\" class=\"dataframe\">\n",
       "  <thead>\n",
       "    <tr style=\"text-align: right;\">\n",
       "      <th></th>\n",
       "      <th>Text</th>\n",
       "    </tr>\n",
       "  </thead>\n",
       "  <tbody>\n",
       "    <tr>\n",
       "      <th>0</th>\n",
       "      <td>October 16, 2012 Debate Transcript</td>\n",
       "    </tr>\n",
       "    <tr>\n",
       "      <th>1</th>\n",
       "      <td>PRESIDENT BARACK OBAMA AND FORMER GOV. MITT RO...</td>\n",
       "    </tr>\n",
       "    <tr>\n",
       "      <th>2</th>\n",
       "      <td>OCTOBER 16, 2012</td>\n",
       "    </tr>\n",
       "    <tr>\n",
       "      <th>3</th>\n",
       "      <td>SPEAKERS: FORMER GOV. MITT ROMNEY, R-MASS.</td>\n",
       "    </tr>\n",
       "    <tr>\n",
       "      <th>4</th>\n",
       "      <td>PRESIDENT BARACK OBAMA</td>\n",
       "    </tr>\n",
       "    <tr>\n",
       "      <th>...</th>\n",
       "      <td>...</td>\n",
       "    </tr>\n",
       "    <tr>\n",
       "      <th>540</th>\n",
       "      <td>CROWLEY: President Obama, Governor Romney, tha...</td>\n",
       "    </tr>\n",
       "    <tr>\n",
       "      <th>541</th>\n",
       "      <td>On that note we have come to an end of this to...</td>\n",
       "    </tr>\n",
       "    <tr>\n",
       "      <th>542</th>\n",
       "      <td>The next and final debate takes place Monday n...</td>\n",
       "    </tr>\n",
       "    <tr>\n",
       "      <th>543</th>\n",
       "      <td>Good night.</td>\n",
       "    </tr>\n",
       "    <tr>\n",
       "      <th>544</th>\n",
       "      <td>© COPYRIGHT 2020 THE COMMISSION ON PRESIDENTIA...</td>\n",
       "    </tr>\n",
       "  </tbody>\n",
       "</table>\n",
       "<p>545 rows × 1 columns</p>\n",
       "</div>"
      ],
      "text/plain": [
       "                                                  Text\n",
       "0                   October 16, 2012 Debate Transcript\n",
       "1    PRESIDENT BARACK OBAMA AND FORMER GOV. MITT RO...\n",
       "2                                     OCTOBER 16, 2012\n",
       "3           SPEAKERS: FORMER GOV. MITT ROMNEY, R-MASS.\n",
       "4                               PRESIDENT BARACK OBAMA\n",
       "..                                                 ...\n",
       "540  CROWLEY: President Obama, Governor Romney, tha...\n",
       "541  On that note we have come to an end of this to...\n",
       "542  The next and final debate takes place Monday n...\n",
       "543                                        Good night.\n",
       "544  © COPYRIGHT 2020 THE COMMISSION ON PRESIDENTIA...\n",
       "\n",
       "[545 rows x 1 columns]"
      ]
     },
     "execution_count": 139,
     "metadata": {},
     "output_type": "execute_result"
    }
   ],
   "source": [
    "df"
   ]
  },
  {
   "cell_type": "code",
   "execution_count": 140,
   "id": "08069615-7d34-4a6a-9b97-0a3d3cc9848d",
   "metadata": {},
   "outputs": [
    {
     "data": {
      "text/html": [
       "<div>\n",
       "<style scoped>\n",
       "    .dataframe tbody tr th:only-of-type {\n",
       "        vertical-align: middle;\n",
       "    }\n",
       "\n",
       "    .dataframe tbody tr th {\n",
       "        vertical-align: top;\n",
       "    }\n",
       "\n",
       "    .dataframe thead th {\n",
       "        text-align: right;\n",
       "    }\n",
       "</style>\n",
       "<table border=\"1\" class=\"dataframe\">\n",
       "  <thead>\n",
       "    <tr style=\"text-align: right;\">\n",
       "      <th></th>\n",
       "      <th>Text</th>\n",
       "    </tr>\n",
       "  </thead>\n",
       "  <tbody>\n",
       "    <tr>\n",
       "      <th>0</th>\n",
       "      <td>October 16, 2012 Debate Transcript</td>\n",
       "    </tr>\n",
       "    <tr>\n",
       "      <th>1</th>\n",
       "      <td>PRESIDENT BARACK OBAMA AND FORMER GOV. MITT RO...</td>\n",
       "    </tr>\n",
       "    <tr>\n",
       "      <th>2</th>\n",
       "      <td>OCTOBER 16, 2012</td>\n",
       "    </tr>\n",
       "    <tr>\n",
       "      <th>3</th>\n",
       "      <td>SPEAKERS: FORMER GOV. MITT ROMNEY, R-MASS.</td>\n",
       "    </tr>\n",
       "    <tr>\n",
       "      <th>4</th>\n",
       "      <td>PRESIDENT BARACK OBAMA</td>\n",
       "    </tr>\n",
       "    <tr>\n",
       "      <th>5</th>\n",
       "      <td>CANDY CROWLEY, MODERATOR</td>\n",
       "    </tr>\n",
       "    <tr>\n",
       "      <th>6</th>\n",
       "      <td>[*]CROWLEY: Good evening from Hofstra Universi...</td>\n",
       "    </tr>\n",
       "    <tr>\n",
       "      <th>7</th>\n",
       "      <td>CROWLEY: The Gallup organization chose 82 unco...</td>\n",
       "    </tr>\n",
       "    <tr>\n",
       "      <th>8</th>\n",
       "      <td>The questions are known to me and my team only...</td>\n",
       "    </tr>\n",
       "    <tr>\n",
       "      <th>9</th>\n",
       "      <td>CROWLEY: And because I am the optimistic sort,...</td>\n",
       "    </tr>\n",
       "  </tbody>\n",
       "</table>\n",
       "</div>"
      ],
      "text/plain": [
       "                                                Text\n",
       "0                 October 16, 2012 Debate Transcript\n",
       "1  PRESIDENT BARACK OBAMA AND FORMER GOV. MITT RO...\n",
       "2                                   OCTOBER 16, 2012\n",
       "3         SPEAKERS: FORMER GOV. MITT ROMNEY, R-MASS.\n",
       "4                             PRESIDENT BARACK OBAMA\n",
       "5                           CANDY CROWLEY, MODERATOR\n",
       "6  [*]CROWLEY: Good evening from Hofstra Universi...\n",
       "7  CROWLEY: The Gallup organization chose 82 unco...\n",
       "8  The questions are known to me and my team only...\n",
       "9  CROWLEY: And because I am the optimistic sort,..."
      ]
     },
     "execution_count": 140,
     "metadata": {},
     "output_type": "execute_result"
    }
   ],
   "source": [
    "df.head(10)"
   ]
  },
  {
   "cell_type": "code",
   "execution_count": 141,
   "id": "0cddd15f-2d74-4b97-99f0-44605a9d8ad1",
   "metadata": {},
   "outputs": [],
   "source": [
    "df.at[6, 'Text'] = re.sub(r'^\\[\\*\\]', '', df.at[6, 'Text'])"
   ]
  },
  {
   "cell_type": "code",
   "execution_count": 142,
   "id": "f71d8d64-7bb2-4b77-a8c7-c9d2758afd4a",
   "metadata": {},
   "outputs": [
    {
     "data": {
      "text/html": [
       "<div>\n",
       "<style scoped>\n",
       "    .dataframe tbody tr th:only-of-type {\n",
       "        vertical-align: middle;\n",
       "    }\n",
       "\n",
       "    .dataframe tbody tr th {\n",
       "        vertical-align: top;\n",
       "    }\n",
       "\n",
       "    .dataframe thead th {\n",
       "        text-align: right;\n",
       "    }\n",
       "</style>\n",
       "<table border=\"1\" class=\"dataframe\">\n",
       "  <thead>\n",
       "    <tr style=\"text-align: right;\">\n",
       "      <th></th>\n",
       "      <th>Text</th>\n",
       "    </tr>\n",
       "  </thead>\n",
       "  <tbody>\n",
       "    <tr>\n",
       "      <th>0</th>\n",
       "      <td>October 16, 2012 Debate Transcript</td>\n",
       "    </tr>\n",
       "    <tr>\n",
       "      <th>1</th>\n",
       "      <td>PRESIDENT BARACK OBAMA AND FORMER GOV. MITT RO...</td>\n",
       "    </tr>\n",
       "    <tr>\n",
       "      <th>2</th>\n",
       "      <td>OCTOBER 16, 2012</td>\n",
       "    </tr>\n",
       "    <tr>\n",
       "      <th>3</th>\n",
       "      <td>SPEAKERS: FORMER GOV. MITT ROMNEY, R-MASS.</td>\n",
       "    </tr>\n",
       "    <tr>\n",
       "      <th>4</th>\n",
       "      <td>PRESIDENT BARACK OBAMA</td>\n",
       "    </tr>\n",
       "    <tr>\n",
       "      <th>5</th>\n",
       "      <td>CANDY CROWLEY, MODERATOR</td>\n",
       "    </tr>\n",
       "    <tr>\n",
       "      <th>6</th>\n",
       "      <td>CROWLEY: Good evening from Hofstra University ...</td>\n",
       "    </tr>\n",
       "    <tr>\n",
       "      <th>7</th>\n",
       "      <td>CROWLEY: The Gallup organization chose 82 unco...</td>\n",
       "    </tr>\n",
       "    <tr>\n",
       "      <th>8</th>\n",
       "      <td>The questions are known to me and my team only...</td>\n",
       "    </tr>\n",
       "    <tr>\n",
       "      <th>9</th>\n",
       "      <td>CROWLEY: And because I am the optimistic sort,...</td>\n",
       "    </tr>\n",
       "  </tbody>\n",
       "</table>\n",
       "</div>"
      ],
      "text/plain": [
       "                                                Text\n",
       "0                 October 16, 2012 Debate Transcript\n",
       "1  PRESIDENT BARACK OBAMA AND FORMER GOV. MITT RO...\n",
       "2                                   OCTOBER 16, 2012\n",
       "3         SPEAKERS: FORMER GOV. MITT ROMNEY, R-MASS.\n",
       "4                             PRESIDENT BARACK OBAMA\n",
       "5                           CANDY CROWLEY, MODERATOR\n",
       "6  CROWLEY: Good evening from Hofstra University ...\n",
       "7  CROWLEY: The Gallup organization chose 82 unco...\n",
       "8  The questions are known to me and my team only...\n",
       "9  CROWLEY: And because I am the optimistic sort,..."
      ]
     },
     "execution_count": 142,
     "metadata": {},
     "output_type": "execute_result"
    }
   ],
   "source": [
    "df.head(10)"
   ]
  },
  {
   "cell_type": "code",
   "execution_count": 143,
   "id": "e2ce6fff-ec3a-437a-b513-48f408d9b4fc",
   "metadata": {},
   "outputs": [],
   "source": [
    "title = df.at[0, 'Text']\n",
    "df['Title'] = title\n",
    "\n",
    "debate = df.at[1, 'Text']\n",
    "df['Debate'] = debate\n",
    "\n",
    "date = df.at[2, 'Text']\n",
    "df['Date'] = date\n",
    "\n",
    "participants = df.at[3, 'Text']\n",
    "participants = re.sub(r'^\\w+: ', '', participants)\n",
    "participants = participants + ' ' + df.at[4, 'Text']\n",
    "df['Participants'] = participants\n",
    "\n",
    "moderators = df.at[5, 'Text']\n",
    "moderators = re.sub(r', \\w+$', '', moderators)\n",
    "df['Moderators'] = moderators"
   ]
  },
  {
   "cell_type": "code",
   "execution_count": 144,
   "id": "e776c703-60d5-45bb-b0ff-1fe112d14ed7",
   "metadata": {},
   "outputs": [
    {
     "data": {
      "text/plain": [
       "'© COPYRIGHT 2020 THE COMMISSION ON PRESIDENTIAL DEBATES. ALL RIGHTS RESERVED.'"
      ]
     },
     "execution_count": 144,
     "metadata": {},
     "output_type": "execute_result"
    }
   ],
   "source": [
    "last_row = 544\n",
    "df.loc[last_row, 'Text']"
   ]
  },
  {
   "cell_type": "code",
   "execution_count": 145,
   "id": "4ec92a93-97bf-446e-bcb3-0b68fc2f0026",
   "metadata": {},
   "outputs": [],
   "source": [
    "df = df[~df['Text'].str.contains(df.loc[last_row, 'Text'])]"
   ]
  },
  {
   "cell_type": "code",
   "execution_count": 146,
   "id": "4b02907b-cac4-493f-96ec-cc0409df67a8",
   "metadata": {},
   "outputs": [],
   "source": [
    "df = df.loc[6:]\n",
    "df = df.reset_index(drop=True)"
   ]
  },
  {
   "cell_type": "code",
   "execution_count": 147,
   "id": "57cefaea-d4ba-4254-924b-d710e97e97b6",
   "metadata": {},
   "outputs": [
    {
     "data": {
      "text/plain": [
       "Text\n",
       "False    515\n",
       "True      23\n",
       "Name: count, dtype: int64"
      ]
     },
     "execution_count": 147,
     "metadata": {},
     "output_type": "execute_result"
    }
   ],
   "source": [
    "# List of expressions whose rows in column 'Text' should be dropped\n",
    "expressions_to_drop = ['(APPLAUSE)', '(LAUGHTER)', '(CROSSTALK)']\n",
    "\n",
    "# Creating a boolean mask for rows starting with the specified expressions\n",
    "mask = df['Text'].str.startswith(tuple(expressions_to_drop))\n",
    "\n",
    "# Counting the number of rows for each expression\n",
    "counts = mask.value_counts()\n",
    "\n",
    "# Display the counts\n",
    "counts"
   ]
  },
  {
   "cell_type": "code",
   "execution_count": 148,
   "id": "f7fa461a-d5dc-4876-9698-d68835612c9f",
   "metadata": {},
   "outputs": [],
   "source": [
    "# Dropping the rows that start with those expressions in column 'Text'\n",
    "df = df[~mask]\n",
    "df = df.reset_index(drop=True)"
   ]
  },
  {
   "cell_type": "code",
   "execution_count": 149,
   "id": "3c9f4c53-5a4a-4eaf-bd2e-3b81973b26ec",
   "metadata": {},
   "outputs": [
    {
     "data": {
      "text/html": [
       "<div>\n",
       "<style scoped>\n",
       "    .dataframe tbody tr th:only-of-type {\n",
       "        vertical-align: middle;\n",
       "    }\n",
       "\n",
       "    .dataframe tbody tr th {\n",
       "        vertical-align: top;\n",
       "    }\n",
       "\n",
       "    .dataframe thead th {\n",
       "        text-align: right;\n",
       "    }\n",
       "</style>\n",
       "<table border=\"1\" class=\"dataframe\">\n",
       "  <thead>\n",
       "    <tr style=\"text-align: right;\">\n",
       "      <th></th>\n",
       "      <th>Text</th>\n",
       "      <th>Title</th>\n",
       "      <th>Debate</th>\n",
       "      <th>Date</th>\n",
       "      <th>Participants</th>\n",
       "      <th>Moderators</th>\n",
       "    </tr>\n",
       "  </thead>\n",
       "  <tbody>\n",
       "    <tr>\n",
       "      <th>0</th>\n",
       "      <td>CROWLEY: Good evening from Hofstra University ...</td>\n",
       "      <td>October 16, 2012 Debate Transcript</td>\n",
       "      <td>PRESIDENT BARACK OBAMA AND FORMER GOV. MITT RO...</td>\n",
       "      <td>OCTOBER 16, 2012</td>\n",
       "      <td>FORMER GOV. MITT ROMNEY, R-MASS. PRESIDENT BAR...</td>\n",
       "      <td>CANDY CROWLEY</td>\n",
       "    </tr>\n",
       "  </tbody>\n",
       "</table>\n",
       "</div>"
      ],
      "text/plain": [
       "                                                Text  \\\n",
       "0  CROWLEY: Good evening from Hofstra University ...   \n",
       "\n",
       "                                Title  \\\n",
       "0  October 16, 2012 Debate Transcript   \n",
       "\n",
       "                                              Debate              Date  \\\n",
       "0  PRESIDENT BARACK OBAMA AND FORMER GOV. MITT RO...  OCTOBER 16, 2012   \n",
       "\n",
       "                                        Participants     Moderators  \n",
       "0  FORMER GOV. MITT ROMNEY, R-MASS. PRESIDENT BAR...  CANDY CROWLEY  "
      ]
     },
     "execution_count": 149,
     "metadata": {},
     "output_type": "execute_result"
    }
   ],
   "source": [
    "df.head(1)"
   ]
  },
  {
   "cell_type": "code",
   "execution_count": 150,
   "id": "01eed238-dbfa-4527-9f4b-b608a1173ba4",
   "metadata": {},
   "outputs": [
    {
     "data": {
      "text/plain": [
       "'CROWLEY: Good evening from Hofstra University in Hempstead, New York. I’m Candy Crowley from CNN’s “State of the Union.” We are here for the second presidential debate, a town hall, sponsored by the Commission on Presidential Debates.'"
      ]
     },
     "execution_count": 150,
     "metadata": {},
     "output_type": "execute_result"
    }
   ],
   "source": [
    "df.loc[0, 'Text']"
   ]
  },
  {
   "cell_type": "code",
   "execution_count": 151,
   "id": "901dc851-5f96-4e17-a088-65b2ba4fe8f9",
   "metadata": {},
   "outputs": [
    {
     "name": "stdout",
     "output_type": "stream",
     "text": [
      "Number of turns: 515\n"
     ]
    }
   ],
   "source": [
    "df.at[0, 'Speaker'] = 1 # Adding column 'Speaker' by initialising it with a numeric value in order to avoid DtypeWarning\n",
    "df = df.astype('object') # Converting the column to the desired data type\n",
    "\n",
    "for index, row in df.iterrows():\n",
    "    match = re.match(r'^(\\w+): ', row['Text'])\n",
    "    if match:\n",
    "        speaker = match.group(1)\n",
    "        df.at[index, 'Speaker'] = speaker\n",
    "        text_without_speaker = row['Text'][len(match.group(0)):]\n",
    "        df.at[index, 'Text'] = text_without_speaker\n",
    "    else:\n",
    "        # Handle the case when no match is found (optional)\n",
    "        #df.at[index, 'Speaker'] = ''  # Set a default value\n",
    "        pass\n",
    "\n",
    "df['Speaker'].ffill(inplace=True)\n",
    "\n",
    "print('Number of turns:', df.shape[0])\n",
    "\n",
    "debate_list.append(title)\n",
    "turn_list.append(df.shape[0])\n",
    "\n",
    "df[['Title', 'Debate', 'Date', 'Participants', 'Moderators', 'Speaker', 'Text']].to_json(f'{debate_title}.jsonl', orient='records', lines=True)\n",
    "\n",
    "df[['Title', 'Debate', 'Date', 'Participants', 'Moderators', 'Speaker', 'Text']].to_csv(f'{debate_title}.tsv', sep='\\t', index=False, encoding='utf-8', lineterminator='\\n')"
   ]
  },
  {
   "cell_type": "markdown",
   "id": "2871765d-2923-469e-acd0-27dbbeee9cf4",
   "metadata": {},
   "source": [
    "## Debate 11"
   ]
  },
  {
   "cell_type": "code",
   "execution_count": 152,
   "id": "37792fee-3926-4620-afe3-dee56368edb2",
   "metadata": {},
   "outputs": [],
   "source": [
    "debate_title = debate_11\n",
    "url = debate_url_11\n",
    "response = requests.get(url)\n",
    "\n",
    "if response.status_code == 200:\n",
    "    page_content = response.content\n",
    "    # Step 2: Parse HTML content\n",
    "    soup = BeautifulSoup(page_content, 'lxml')\n",
    "\n",
    "    # Extract relevant tags (e.g., <h1>, <p>, etc.) and store them in a list\n",
    "    rows = []\n",
    "    for tag in soup.find_all(['h1', 'p']):\n",
    "        rows.append(tag.text.strip())  # Remove leading/trailing spaces\n",
    "    \n",
    "    # Create a DataFrame from the list of rows\n",
    "    df = pd.DataFrame(rows, columns=['Text'])\n",
    "\n",
    "else:\n",
    "    print(f'Failed to retrieve the page. Status code: {response.status_code}')"
   ]
  },
  {
   "cell_type": "code",
   "execution_count": 153,
   "id": "b1f337f4-5013-4abb-a626-f1f49e6531ad",
   "metadata": {},
   "outputs": [
    {
     "data": {
      "text/html": [
       "<div>\n",
       "<style scoped>\n",
       "    .dataframe tbody tr th:only-of-type {\n",
       "        vertical-align: middle;\n",
       "    }\n",
       "\n",
       "    .dataframe tbody tr th {\n",
       "        vertical-align: top;\n",
       "    }\n",
       "\n",
       "    .dataframe thead th {\n",
       "        text-align: right;\n",
       "    }\n",
       "</style>\n",
       "<table border=\"1\" class=\"dataframe\">\n",
       "  <thead>\n",
       "    <tr style=\"text-align: right;\">\n",
       "      <th></th>\n",
       "      <th>Text</th>\n",
       "    </tr>\n",
       "  </thead>\n",
       "  <tbody>\n",
       "    <tr>\n",
       "      <th>0</th>\n",
       "      <td>October 22, 2012 Debate Transcript</td>\n",
       "    </tr>\n",
       "    <tr>\n",
       "      <th>1</th>\n",
       "      <td>PRESIDENT BARACK OBAMA AND FORMER GOV. MITT RO...</td>\n",
       "    </tr>\n",
       "    <tr>\n",
       "      <th>2</th>\n",
       "      <td>OCTOBER 22, 2012</td>\n",
       "    </tr>\n",
       "    <tr>\n",
       "      <th>3</th>\n",
       "      <td>SPEAKERS: FORMER GOV. MITT ROMNEY, R-MASS.,</td>\n",
       "    </tr>\n",
       "    <tr>\n",
       "      <th>4</th>\n",
       "      <td>PRESIDENT BARACK OBAMA</td>\n",
       "    </tr>\n",
       "    <tr>\n",
       "      <th>...</th>\n",
       "      <td>...</td>\n",
       "    </tr>\n",
       "    <tr>\n",
       "      <th>489</th>\n",
       "      <td>We need strong leadership. I’d like to be that...</td>\n",
       "    </tr>\n",
       "    <tr>\n",
       "      <th>490</th>\n",
       "      <td>Thank you so much.</td>\n",
       "    </tr>\n",
       "    <tr>\n",
       "      <th>491</th>\n",
       "      <td>SCHIEFFER: Gentlemen, thank you both so much. ...</td>\n",
       "    </tr>\n",
       "    <tr>\n",
       "      <th>492</th>\n",
       "      <td>Good night.</td>\n",
       "    </tr>\n",
       "    <tr>\n",
       "      <th>493</th>\n",
       "      <td>© COPYRIGHT 2020 THE COMMISSION ON PRESIDENTIA...</td>\n",
       "    </tr>\n",
       "  </tbody>\n",
       "</table>\n",
       "<p>494 rows × 1 columns</p>\n",
       "</div>"
      ],
      "text/plain": [
       "                                                  Text\n",
       "0                   October 22, 2012 Debate Transcript\n",
       "1    PRESIDENT BARACK OBAMA AND FORMER GOV. MITT RO...\n",
       "2                                     OCTOBER 22, 2012\n",
       "3          SPEAKERS: FORMER GOV. MITT ROMNEY, R-MASS.,\n",
       "4                               PRESIDENT BARACK OBAMA\n",
       "..                                                 ...\n",
       "489  We need strong leadership. I’d like to be that...\n",
       "490                                 Thank you so much.\n",
       "491  SCHIEFFER: Gentlemen, thank you both so much. ...\n",
       "492                                        Good night.\n",
       "493  © COPYRIGHT 2020 THE COMMISSION ON PRESIDENTIA...\n",
       "\n",
       "[494 rows x 1 columns]"
      ]
     },
     "execution_count": 153,
     "metadata": {},
     "output_type": "execute_result"
    }
   ],
   "source": [
    "df"
   ]
  },
  {
   "cell_type": "code",
   "execution_count": 154,
   "id": "390fe33f-271a-4c04-aed5-0575cc959b0f",
   "metadata": {},
   "outputs": [
    {
     "data": {
      "text/html": [
       "<div>\n",
       "<style scoped>\n",
       "    .dataframe tbody tr th:only-of-type {\n",
       "        vertical-align: middle;\n",
       "    }\n",
       "\n",
       "    .dataframe tbody tr th {\n",
       "        vertical-align: top;\n",
       "    }\n",
       "\n",
       "    .dataframe thead th {\n",
       "        text-align: right;\n",
       "    }\n",
       "</style>\n",
       "<table border=\"1\" class=\"dataframe\">\n",
       "  <thead>\n",
       "    <tr style=\"text-align: right;\">\n",
       "      <th></th>\n",
       "      <th>Text</th>\n",
       "    </tr>\n",
       "  </thead>\n",
       "  <tbody>\n",
       "    <tr>\n",
       "      <th>0</th>\n",
       "      <td>October 22, 2012 Debate Transcript</td>\n",
       "    </tr>\n",
       "    <tr>\n",
       "      <th>1</th>\n",
       "      <td>PRESIDENT BARACK OBAMA AND FORMER GOV. MITT RO...</td>\n",
       "    </tr>\n",
       "    <tr>\n",
       "      <th>2</th>\n",
       "      <td>OCTOBER 22, 2012</td>\n",
       "    </tr>\n",
       "    <tr>\n",
       "      <th>3</th>\n",
       "      <td>SPEAKERS: FORMER GOV. MITT ROMNEY, R-MASS.,</td>\n",
       "    </tr>\n",
       "    <tr>\n",
       "      <th>4</th>\n",
       "      <td>PRESIDENT BARACK OBAMA</td>\n",
       "    </tr>\n",
       "    <tr>\n",
       "      <th>5</th>\n",
       "      <td>BOB SCHIEFFER, MODERATOR</td>\n",
       "    </tr>\n",
       "    <tr>\n",
       "      <th>6</th>\n",
       "      <td>[*]SCHIEFFER: Good evening from the campus of ...</td>\n",
       "    </tr>\n",
       "    <tr>\n",
       "      <th>7</th>\n",
       "      <td>This one’s on foreign policy. I’m Bob Schieffe...</td>\n",
       "    </tr>\n",
       "    <tr>\n",
       "      <th>8</th>\n",
       "      <td>SCHIEFFER: The audience has taken a vow of sil...</td>\n",
       "    </tr>\n",
       "    <tr>\n",
       "      <th>9</th>\n",
       "      <td>(APPLAUSE)</td>\n",
       "    </tr>\n",
       "  </tbody>\n",
       "</table>\n",
       "</div>"
      ],
      "text/plain": [
       "                                                Text\n",
       "0                 October 22, 2012 Debate Transcript\n",
       "1  PRESIDENT BARACK OBAMA AND FORMER GOV. MITT RO...\n",
       "2                                   OCTOBER 22, 2012\n",
       "3        SPEAKERS: FORMER GOV. MITT ROMNEY, R-MASS.,\n",
       "4                             PRESIDENT BARACK OBAMA\n",
       "5                           BOB SCHIEFFER, MODERATOR\n",
       "6  [*]SCHIEFFER: Good evening from the campus of ...\n",
       "7  This one’s on foreign policy. I’m Bob Schieffe...\n",
       "8  SCHIEFFER: The audience has taken a vow of sil...\n",
       "9                                         (APPLAUSE)"
      ]
     },
     "execution_count": 154,
     "metadata": {},
     "output_type": "execute_result"
    }
   ],
   "source": [
    "df.head(10)"
   ]
  },
  {
   "cell_type": "code",
   "execution_count": 155,
   "id": "9086ab64-4988-4230-b5b3-66f40e944826",
   "metadata": {},
   "outputs": [],
   "source": [
    "df.at[6, 'Text'] = re.sub(r'^\\[\\*\\]', '', df.at[6, 'Text'])"
   ]
  },
  {
   "cell_type": "code",
   "execution_count": 156,
   "id": "9477b458-637c-46f6-8ff7-ffd596ca8d91",
   "metadata": {},
   "outputs": [
    {
     "data": {
      "text/html": [
       "<div>\n",
       "<style scoped>\n",
       "    .dataframe tbody tr th:only-of-type {\n",
       "        vertical-align: middle;\n",
       "    }\n",
       "\n",
       "    .dataframe tbody tr th {\n",
       "        vertical-align: top;\n",
       "    }\n",
       "\n",
       "    .dataframe thead th {\n",
       "        text-align: right;\n",
       "    }\n",
       "</style>\n",
       "<table border=\"1\" class=\"dataframe\">\n",
       "  <thead>\n",
       "    <tr style=\"text-align: right;\">\n",
       "      <th></th>\n",
       "      <th>Text</th>\n",
       "    </tr>\n",
       "  </thead>\n",
       "  <tbody>\n",
       "    <tr>\n",
       "      <th>0</th>\n",
       "      <td>October 22, 2012 Debate Transcript</td>\n",
       "    </tr>\n",
       "    <tr>\n",
       "      <th>1</th>\n",
       "      <td>PRESIDENT BARACK OBAMA AND FORMER GOV. MITT RO...</td>\n",
       "    </tr>\n",
       "    <tr>\n",
       "      <th>2</th>\n",
       "      <td>OCTOBER 22, 2012</td>\n",
       "    </tr>\n",
       "    <tr>\n",
       "      <th>3</th>\n",
       "      <td>SPEAKERS: FORMER GOV. MITT ROMNEY, R-MASS.,</td>\n",
       "    </tr>\n",
       "    <tr>\n",
       "      <th>4</th>\n",
       "      <td>PRESIDENT BARACK OBAMA</td>\n",
       "    </tr>\n",
       "    <tr>\n",
       "      <th>5</th>\n",
       "      <td>BOB SCHIEFFER, MODERATOR</td>\n",
       "    </tr>\n",
       "    <tr>\n",
       "      <th>6</th>\n",
       "      <td>SCHIEFFER: Good evening from the campus of Lyn...</td>\n",
       "    </tr>\n",
       "    <tr>\n",
       "      <th>7</th>\n",
       "      <td>This one’s on foreign policy. I’m Bob Schieffe...</td>\n",
       "    </tr>\n",
       "    <tr>\n",
       "      <th>8</th>\n",
       "      <td>SCHIEFFER: The audience has taken a vow of sil...</td>\n",
       "    </tr>\n",
       "    <tr>\n",
       "      <th>9</th>\n",
       "      <td>(APPLAUSE)</td>\n",
       "    </tr>\n",
       "  </tbody>\n",
       "</table>\n",
       "</div>"
      ],
      "text/plain": [
       "                                                Text\n",
       "0                 October 22, 2012 Debate Transcript\n",
       "1  PRESIDENT BARACK OBAMA AND FORMER GOV. MITT RO...\n",
       "2                                   OCTOBER 22, 2012\n",
       "3        SPEAKERS: FORMER GOV. MITT ROMNEY, R-MASS.,\n",
       "4                             PRESIDENT BARACK OBAMA\n",
       "5                           BOB SCHIEFFER, MODERATOR\n",
       "6  SCHIEFFER: Good evening from the campus of Lyn...\n",
       "7  This one’s on foreign policy. I’m Bob Schieffe...\n",
       "8  SCHIEFFER: The audience has taken a vow of sil...\n",
       "9                                         (APPLAUSE)"
      ]
     },
     "execution_count": 156,
     "metadata": {},
     "output_type": "execute_result"
    }
   ],
   "source": [
    "df.head(10)"
   ]
  },
  {
   "cell_type": "code",
   "execution_count": 157,
   "id": "812cf3b3-109c-4d57-abe1-3e699a1f2698",
   "metadata": {},
   "outputs": [],
   "source": [
    "title = df.at[0, 'Text']\n",
    "df['Title'] = title\n",
    "\n",
    "debate = df.at[1, 'Text']\n",
    "df['Debate'] = debate\n",
    "\n",
    "date = df.at[2, 'Text']\n",
    "df['Date'] = date\n",
    "\n",
    "participants = df.at[3, 'Text']\n",
    "participants = re.sub(r'^\\w+: ', '', participants)\n",
    "participants = participants + ' ' + df.at[4, 'Text']\n",
    "df['Participants'] = participants\n",
    "\n",
    "moderators = df.at[5, 'Text']\n",
    "moderators = re.sub(r', \\w+$', '', moderators)\n",
    "df['Moderators'] = moderators"
   ]
  },
  {
   "cell_type": "code",
   "execution_count": 158,
   "id": "e4a8b3cf-1788-4838-9d99-b6e730303279",
   "metadata": {},
   "outputs": [
    {
     "data": {
      "text/plain": [
       "'© COPYRIGHT 2020 THE COMMISSION ON PRESIDENTIAL DEBATES. ALL RIGHTS RESERVED.'"
      ]
     },
     "execution_count": 158,
     "metadata": {},
     "output_type": "execute_result"
    }
   ],
   "source": [
    "last_row = 493\n",
    "df.loc[last_row, 'Text']"
   ]
  },
  {
   "cell_type": "code",
   "execution_count": 159,
   "id": "26faac82-8581-462a-bfa3-5b58d6d7998d",
   "metadata": {},
   "outputs": [],
   "source": [
    "df = df[~df['Text'].str.contains(df.loc[last_row, 'Text'])]"
   ]
  },
  {
   "cell_type": "code",
   "execution_count": 160,
   "id": "38663981-7d61-4f64-a0fd-5ce9e1b2538a",
   "metadata": {},
   "outputs": [],
   "source": [
    "df = df.loc[6:]\n",
    "df = df.reset_index(drop=True)"
   ]
  },
  {
   "cell_type": "code",
   "execution_count": 161,
   "id": "045e67c1-01d3-4fc9-8986-bca1f02f923d",
   "metadata": {},
   "outputs": [
    {
     "data": {
      "text/plain": [
       "Text\n",
       "False    436\n",
       "True      51\n",
       "Name: count, dtype: int64"
      ]
     },
     "execution_count": 161,
     "metadata": {},
     "output_type": "execute_result"
    }
   ],
   "source": [
    "# List of expressions whose rows in column 'Text' should be dropped\n",
    "expressions_to_drop = ['(APPLAUSE)', '(LAUGHTER)', '(CROSSTALK)']\n",
    "\n",
    "# Creating a boolean mask for rows starting with the specified expressions\n",
    "mask = df['Text'].str.startswith(tuple(expressions_to_drop))\n",
    "\n",
    "# Counting the number of rows for each expression\n",
    "counts = mask.value_counts()\n",
    "\n",
    "# Display the counts\n",
    "counts"
   ]
  },
  {
   "cell_type": "code",
   "execution_count": 162,
   "id": "0bb3b870-af00-467c-8796-8dc9a14b049c",
   "metadata": {},
   "outputs": [],
   "source": [
    "# Dropping the rows that start with those expressions in column 'Text'\n",
    "df = df[~mask]\n",
    "df = df.reset_index(drop=True)"
   ]
  },
  {
   "cell_type": "code",
   "execution_count": 163,
   "id": "b235f1b7-80ac-46c3-9ffa-fe0ba426e7bd",
   "metadata": {},
   "outputs": [
    {
     "data": {
      "text/html": [
       "<div>\n",
       "<style scoped>\n",
       "    .dataframe tbody tr th:only-of-type {\n",
       "        vertical-align: middle;\n",
       "    }\n",
       "\n",
       "    .dataframe tbody tr th {\n",
       "        vertical-align: top;\n",
       "    }\n",
       "\n",
       "    .dataframe thead th {\n",
       "        text-align: right;\n",
       "    }\n",
       "</style>\n",
       "<table border=\"1\" class=\"dataframe\">\n",
       "  <thead>\n",
       "    <tr style=\"text-align: right;\">\n",
       "      <th></th>\n",
       "      <th>Text</th>\n",
       "      <th>Title</th>\n",
       "      <th>Debate</th>\n",
       "      <th>Date</th>\n",
       "      <th>Participants</th>\n",
       "      <th>Moderators</th>\n",
       "    </tr>\n",
       "  </thead>\n",
       "  <tbody>\n",
       "    <tr>\n",
       "      <th>0</th>\n",
       "      <td>SCHIEFFER: Good evening from the campus of Lyn...</td>\n",
       "      <td>October 22, 2012 Debate Transcript</td>\n",
       "      <td>PRESIDENT BARACK OBAMA AND FORMER GOV. MITT RO...</td>\n",
       "      <td>OCTOBER 22, 2012</td>\n",
       "      <td>FORMER GOV. MITT ROMNEY, R-MASS., PRESIDENT BA...</td>\n",
       "      <td>BOB SCHIEFFER</td>\n",
       "    </tr>\n",
       "  </tbody>\n",
       "</table>\n",
       "</div>"
      ],
      "text/plain": [
       "                                                Text  \\\n",
       "0  SCHIEFFER: Good evening from the campus of Lyn...   \n",
       "\n",
       "                                Title  \\\n",
       "0  October 22, 2012 Debate Transcript   \n",
       "\n",
       "                                              Debate              Date  \\\n",
       "0  PRESIDENT BARACK OBAMA AND FORMER GOV. MITT RO...  OCTOBER 22, 2012   \n",
       "\n",
       "                                        Participants     Moderators  \n",
       "0  FORMER GOV. MITT ROMNEY, R-MASS., PRESIDENT BA...  BOB SCHIEFFER  "
      ]
     },
     "execution_count": 163,
     "metadata": {},
     "output_type": "execute_result"
    }
   ],
   "source": [
    "df.head(1)"
   ]
  },
  {
   "cell_type": "code",
   "execution_count": 164,
   "id": "1eb65255-9a3c-431b-a5a4-1496adde47e3",
   "metadata": {},
   "outputs": [
    {
     "data": {
      "text/plain": [
       "'SCHIEFFER: Good evening from the campus of Lynn University here in Boca Raton, Florida. This is the fourth and last debate of the 2012 campaign, brought to you by the Commission on Presidential Debates.'"
      ]
     },
     "execution_count": 164,
     "metadata": {},
     "output_type": "execute_result"
    }
   ],
   "source": [
    "df.loc[0, 'Text']"
   ]
  },
  {
   "cell_type": "code",
   "execution_count": 165,
   "id": "69c7915d-e179-4655-b8f3-2359889b5138",
   "metadata": {},
   "outputs": [
    {
     "name": "stdout",
     "output_type": "stream",
     "text": [
      "Number of turns: 436\n"
     ]
    }
   ],
   "source": [
    "df.at[0, 'Speaker'] = 1 # Adding column 'Speaker' by initialising it with a numeric value in order to avoid DtypeWarning\n",
    "df = df.astype('object') # Converting the column to the desired data type\n",
    "\n",
    "for index, row in df.iterrows():\n",
    "    match = re.match(r'^(\\w+): ', row['Text'])\n",
    "    if match:\n",
    "        speaker = match.group(1)\n",
    "        df.at[index, 'Speaker'] = speaker\n",
    "        text_without_speaker = row['Text'][len(match.group(0)):]\n",
    "        df.at[index, 'Text'] = text_without_speaker\n",
    "    else:\n",
    "        # Handle the case when no match is found (optional)\n",
    "        #df.at[index, 'Speaker'] = ''  # Set a default value\n",
    "        pass\n",
    "\n",
    "df['Speaker'].ffill(inplace=True)\n",
    "\n",
    "print('Number of turns:', df.shape[0])\n",
    "\n",
    "debate_list.append(title)\n",
    "turn_list.append(df.shape[0])\n",
    "\n",
    "df[['Title', 'Debate', 'Date', 'Participants', 'Moderators', 'Speaker', 'Text']].to_json(f'{debate_title}.jsonl', orient='records', lines=True)\n",
    "\n",
    "df[['Title', 'Debate', 'Date', 'Participants', 'Moderators', 'Speaker', 'Text']].to_csv(f'{debate_title}.tsv', sep='\\t', index=False, encoding='utf-8', lineterminator='\\n')"
   ]
  },
  {
   "cell_type": "markdown",
   "id": "66737f51-6051-4169-9b87-5620f9182c92",
   "metadata": {},
   "source": [
    "## Debate 12"
   ]
  },
  {
   "cell_type": "code",
   "execution_count": 166,
   "id": "d1b3dd4c-29c9-4f2b-89e0-f60f0d3cb36b",
   "metadata": {},
   "outputs": [],
   "source": [
    "debate_title = debate_12\n",
    "url = debate_url_12\n",
    "response = requests.get(url)\n",
    "\n",
    "if response.status_code == 200:\n",
    "    page_content = response.content\n",
    "    # Step 2: Parse HTML content\n",
    "    soup = BeautifulSoup(page_content, 'lxml')\n",
    "\n",
    "    # Extract relevant tags (e.g., <h1>, <p>, etc.) and store them in a list\n",
    "    rows = []\n",
    "    for tag in soup.find_all(['h1', 'p']):\n",
    "        rows.append(tag.text.strip())  # Remove leading/trailing spaces\n",
    "    \n",
    "    # Create a DataFrame from the list of rows\n",
    "    df = pd.DataFrame(rows, columns=['Text'])\n",
    "\n",
    "else:\n",
    "    print(f'Failed to retrieve the page. Status code: {response.status_code}')"
   ]
  },
  {
   "cell_type": "code",
   "execution_count": 167,
   "id": "8680cc49-aa2f-4970-ab78-eac152ce2f1d",
   "metadata": {},
   "outputs": [
    {
     "data": {
      "text/html": [
       "<div>\n",
       "<style scoped>\n",
       "    .dataframe tbody tr th:only-of-type {\n",
       "        vertical-align: middle;\n",
       "    }\n",
       "\n",
       "    .dataframe tbody tr th {\n",
       "        vertical-align: top;\n",
       "    }\n",
       "\n",
       "    .dataframe thead th {\n",
       "        text-align: right;\n",
       "    }\n",
       "</style>\n",
       "<table border=\"1\" class=\"dataframe\">\n",
       "  <thead>\n",
       "    <tr style=\"text-align: right;\">\n",
       "      <th></th>\n",
       "      <th>Text</th>\n",
       "    </tr>\n",
       "  </thead>\n",
       "  <tbody>\n",
       "    <tr>\n",
       "      <th>0</th>\n",
       "      <td>September 26, 2008 Debate Transcript</td>\n",
       "    </tr>\n",
       "    <tr>\n",
       "      <th>1</th>\n",
       "      <td>September 26, 2008</td>\n",
       "    </tr>\n",
       "    <tr>\n",
       "      <th>2</th>\n",
       "      <td>The First McCain-Obama Presidential Debate</td>\n",
       "    </tr>\n",
       "    <tr>\n",
       "      <th>3</th>\n",
       "      <td>FIRST PRESIDENTIAL CANDIDATES’ DEBATETHE UNIVE...</td>\n",
       "    </tr>\n",
       "    <tr>\n",
       "      <th>4</th>\n",
       "      <td>SPEAKERS:</td>\n",
       "    </tr>\n",
       "    <tr>\n",
       "      <th>...</th>\n",
       "      <td>...</td>\n",
       "    </tr>\n",
       "    <tr>\n",
       "      <th>1010</th>\n",
       "      <td>(APPLAUSE)</td>\n",
       "    </tr>\n",
       "    <tr>\n",
       "      <th>1011</th>\n",
       "      <td>END</td>\n",
       "    </tr>\n",
       "    <tr>\n",
       "      <th>1012</th>\n",
       "      <td>Transcription by: CQ Transcriptions/Morningside</td>\n",
       "    </tr>\n",
       "    <tr>\n",
       "      <th>1013</th>\n",
       "      <td>Â</td>\n",
       "    </tr>\n",
       "    <tr>\n",
       "      <th>1014</th>\n",
       "      <td>© COPYRIGHT 2020 THE COMMISSION ON PRESIDENTIA...</td>\n",
       "    </tr>\n",
       "  </tbody>\n",
       "</table>\n",
       "<p>1015 rows × 1 columns</p>\n",
       "</div>"
      ],
      "text/plain": [
       "                                                   Text\n",
       "0                  September 26, 2008 Debate Transcript\n",
       "1                                    September 26, 2008\n",
       "2            The First McCain-Obama Presidential Debate\n",
       "3     FIRST PRESIDENTIAL CANDIDATES’ DEBATETHE UNIVE...\n",
       "4                                             SPEAKERS:\n",
       "...                                                 ...\n",
       "1010                                         (APPLAUSE)\n",
       "1011                                                END\n",
       "1012    Transcription by: CQ Transcriptions/Morningside\n",
       "1013                                                  Â\n",
       "1014  © COPYRIGHT 2020 THE COMMISSION ON PRESIDENTIA...\n",
       "\n",
       "[1015 rows x 1 columns]"
      ]
     },
     "execution_count": 167,
     "metadata": {},
     "output_type": "execute_result"
    }
   ],
   "source": [
    "df"
   ]
  },
  {
   "cell_type": "code",
   "execution_count": 168,
   "id": "de1474d1-9357-497f-9e90-22a43f2586bf",
   "metadata": {},
   "outputs": [],
   "source": [
    "df.drop([1011, 1012, 1013], inplace=True)\n",
    "df = df.reset_index(drop=True)"
   ]
  },
  {
   "cell_type": "code",
   "execution_count": 169,
   "id": "38b51939-eea6-471f-bf4d-8d7168714ee4",
   "metadata": {},
   "outputs": [
    {
     "data": {
      "text/html": [
       "<div>\n",
       "<style scoped>\n",
       "    .dataframe tbody tr th:only-of-type {\n",
       "        vertical-align: middle;\n",
       "    }\n",
       "\n",
       "    .dataframe tbody tr th {\n",
       "        vertical-align: top;\n",
       "    }\n",
       "\n",
       "    .dataframe thead th {\n",
       "        text-align: right;\n",
       "    }\n",
       "</style>\n",
       "<table border=\"1\" class=\"dataframe\">\n",
       "  <thead>\n",
       "    <tr style=\"text-align: right;\">\n",
       "      <th></th>\n",
       "      <th>Text</th>\n",
       "    </tr>\n",
       "  </thead>\n",
       "  <tbody>\n",
       "    <tr>\n",
       "      <th>0</th>\n",
       "      <td>September 26, 2008 Debate Transcript</td>\n",
       "    </tr>\n",
       "    <tr>\n",
       "      <th>1</th>\n",
       "      <td>September 26, 2008</td>\n",
       "    </tr>\n",
       "    <tr>\n",
       "      <th>2</th>\n",
       "      <td>The First McCain-Obama Presidential Debate</td>\n",
       "    </tr>\n",
       "    <tr>\n",
       "      <th>3</th>\n",
       "      <td>FIRST PRESIDENTIAL CANDIDATES’ DEBATETHE UNIVE...</td>\n",
       "    </tr>\n",
       "    <tr>\n",
       "      <th>4</th>\n",
       "      <td>SPEAKERS:</td>\n",
       "    </tr>\n",
       "    <tr>\n",
       "      <th>...</th>\n",
       "      <td>...</td>\n",
       "    </tr>\n",
       "    <tr>\n",
       "      <th>1007</th>\n",
       "      <td>LEHRER: And that ends this debate tonight.</td>\n",
       "    </tr>\n",
       "    <tr>\n",
       "      <th>1008</th>\n",
       "      <td>On October 2nd, next Thursday, also at 9:00 p....</td>\n",
       "    </tr>\n",
       "    <tr>\n",
       "      <th>1009</th>\n",
       "      <td>For now, from Oxford, Mississippi, thank you, ...</td>\n",
       "    </tr>\n",
       "    <tr>\n",
       "      <th>1010</th>\n",
       "      <td>(APPLAUSE)</td>\n",
       "    </tr>\n",
       "    <tr>\n",
       "      <th>1011</th>\n",
       "      <td>© COPYRIGHT 2020 THE COMMISSION ON PRESIDENTIA...</td>\n",
       "    </tr>\n",
       "  </tbody>\n",
       "</table>\n",
       "<p>1012 rows × 1 columns</p>\n",
       "</div>"
      ],
      "text/plain": [
       "                                                   Text\n",
       "0                  September 26, 2008 Debate Transcript\n",
       "1                                    September 26, 2008\n",
       "2            The First McCain-Obama Presidential Debate\n",
       "3     FIRST PRESIDENTIAL CANDIDATES’ DEBATETHE UNIVE...\n",
       "4                                             SPEAKERS:\n",
       "...                                                 ...\n",
       "1007         LEHRER: And that ends this debate tonight.\n",
       "1008  On October 2nd, next Thursday, also at 9:00 p....\n",
       "1009  For now, from Oxford, Mississippi, thank you, ...\n",
       "1010                                         (APPLAUSE)\n",
       "1011  © COPYRIGHT 2020 THE COMMISSION ON PRESIDENTIA...\n",
       "\n",
       "[1012 rows x 1 columns]"
      ]
     },
     "execution_count": 169,
     "metadata": {},
     "output_type": "execute_result"
    }
   ],
   "source": [
    "df"
   ]
  },
  {
   "cell_type": "code",
   "execution_count": 170,
   "id": "505281ae-0a30-4b89-a5e5-c024f1b65d33",
   "metadata": {},
   "outputs": [
    {
     "data": {
      "text/html": [
       "<div>\n",
       "<style scoped>\n",
       "    .dataframe tbody tr th:only-of-type {\n",
       "        vertical-align: middle;\n",
       "    }\n",
       "\n",
       "    .dataframe tbody tr th {\n",
       "        vertical-align: top;\n",
       "    }\n",
       "\n",
       "    .dataframe thead th {\n",
       "        text-align: right;\n",
       "    }\n",
       "</style>\n",
       "<table border=\"1\" class=\"dataframe\">\n",
       "  <thead>\n",
       "    <tr style=\"text-align: right;\">\n",
       "      <th></th>\n",
       "      <th>Text</th>\n",
       "    </tr>\n",
       "  </thead>\n",
       "  <tbody>\n",
       "    <tr>\n",
       "      <th>0</th>\n",
       "      <td>September 26, 2008 Debate Transcript</td>\n",
       "    </tr>\n",
       "    <tr>\n",
       "      <th>1</th>\n",
       "      <td>September 26, 2008</td>\n",
       "    </tr>\n",
       "    <tr>\n",
       "      <th>2</th>\n",
       "      <td>The First McCain-Obama Presidential Debate</td>\n",
       "    </tr>\n",
       "    <tr>\n",
       "      <th>3</th>\n",
       "      <td>FIRST PRESIDENTIAL CANDIDATES’ DEBATETHE UNIVE...</td>\n",
       "    </tr>\n",
       "    <tr>\n",
       "      <th>4</th>\n",
       "      <td>SPEAKERS:</td>\n",
       "    </tr>\n",
       "    <tr>\n",
       "      <th>5</th>\n",
       "      <td>U.S. SENATOR JOHN MCCAIN (AZ)REPUBLICAN PRESID...</td>\n",
       "    </tr>\n",
       "    <tr>\n",
       "      <th>6</th>\n",
       "      <td>U. S. SENATOR BARACK OBAMA (IL)DEMOCRATIC PRES...</td>\n",
       "    </tr>\n",
       "    <tr>\n",
       "      <th>7</th>\n",
       "      <td>JIM LEHREREXECUTIVE EDITOR AND ANCHOR, THE NEW...</td>\n",
       "    </tr>\n",
       "    <tr>\n",
       "      <th>8</th>\n",
       "      <td>[*] LEHRER: Good evening from the Ford Center ...</td>\n",
       "    </tr>\n",
       "    <tr>\n",
       "      <th>9</th>\n",
       "      <td>The Commission on Presidential Debates is the ...</td>\n",
       "    </tr>\n",
       "  </tbody>\n",
       "</table>\n",
       "</div>"
      ],
      "text/plain": [
       "                                                Text\n",
       "0               September 26, 2008 Debate Transcript\n",
       "1                                 September 26, 2008\n",
       "2         The First McCain-Obama Presidential Debate\n",
       "3  FIRST PRESIDENTIAL CANDIDATES’ DEBATETHE UNIVE...\n",
       "4                                          SPEAKERS:\n",
       "5  U.S. SENATOR JOHN MCCAIN (AZ)REPUBLICAN PRESID...\n",
       "6  U. S. SENATOR BARACK OBAMA (IL)DEMOCRATIC PRES...\n",
       "7  JIM LEHREREXECUTIVE EDITOR AND ANCHOR, THE NEW...\n",
       "8  [*] LEHRER: Good evening from the Ford Center ...\n",
       "9  The Commission on Presidential Debates is the ..."
      ]
     },
     "execution_count": 170,
     "metadata": {},
     "output_type": "execute_result"
    }
   ],
   "source": [
    "df.head(10)"
   ]
  },
  {
   "cell_type": "code",
   "execution_count": 171,
   "id": "2048d4b0-acc5-4051-9f8a-ffedd974f160",
   "metadata": {},
   "outputs": [
    {
     "data": {
      "text/plain": [
       "'[*] LEHRER: Good evening from the Ford Center for the Performing Arts at the University of Mississippi in Oxford. I’m Jim Lehrer of the NewsHour on PBS, and I welcome you to the first of the 2008 presidential debates between the Republican nominee, Senator John McCain of Arizona, and the Democratic nominee, Senator Barack Obama of Illinois.'"
      ]
     },
     "execution_count": 171,
     "metadata": {},
     "output_type": "execute_result"
    }
   ],
   "source": [
    "df.loc[8, 'Text']"
   ]
  },
  {
   "cell_type": "code",
   "execution_count": 172,
   "id": "a6fc9f60-fbca-48b6-aa20-6df49c5dd810",
   "metadata": {},
   "outputs": [],
   "source": [
    "df.loc[8, 'Text'] = re.sub(r'^\\[\\*\\] ', '', df.loc[8, 'Text'])"
   ]
  },
  {
   "cell_type": "code",
   "execution_count": 173,
   "id": "23d2930a-cce4-46a2-9422-72142417bc51",
   "metadata": {},
   "outputs": [
    {
     "data": {
      "text/plain": [
       "'LEHRER: Good evening from the Ford Center for the Performing Arts at the University of Mississippi in Oxford. I’m Jim Lehrer of the NewsHour on PBS, and I welcome you to the first of the 2008 presidential debates between the Republican nominee, Senator John McCain of Arizona, and the Democratic nominee, Senator Barack Obama of Illinois.'"
      ]
     },
     "execution_count": 173,
     "metadata": {},
     "output_type": "execute_result"
    }
   ],
   "source": [
    "df.loc[8, 'Text']"
   ]
  },
  {
   "cell_type": "code",
   "execution_count": 174,
   "id": "23b95e15-5329-41ef-bca9-626e4bb70e67",
   "metadata": {},
   "outputs": [],
   "source": [
    "title = df.at[0, 'Text']\n",
    "df['Title'] = title\n",
    "\n",
    "debate = df.at[2, 'Text']\n",
    "df['Debate'] = debate\n",
    "\n",
    "date = df.at[1, 'Text']\n",
    "df['Date'] = date\n",
    "\n",
    "participants = df.at[5, 'Text'] + ' ' + df.at[6, 'Text']\n",
    "#participants = re.sub(r'^\\w+:\\n', '', participants)\n",
    "#participants = re.sub(r'\\n', ' ', participants)\n",
    "df['Participants'] = participants\n",
    "\n",
    "moderators = df.at[7, 'Text']\n",
    "moderators = re.match(r'^(\\w+ \\w{6})', moderators).group(1)\n",
    "df['Moderators'] = moderators"
   ]
  },
  {
   "cell_type": "code",
   "execution_count": 175,
   "id": "4bf1fffb-fa05-4c3c-97c6-56d8c1d502e7",
   "metadata": {},
   "outputs": [
    {
     "data": {
      "text/plain": [
       "'© COPYRIGHT 2020 THE COMMISSION ON PRESIDENTIAL DEBATES. ALL RIGHTS RESERVED.'"
      ]
     },
     "execution_count": 175,
     "metadata": {},
     "output_type": "execute_result"
    }
   ],
   "source": [
    "last_row = 1011\n",
    "df.loc[last_row, 'Text']"
   ]
  },
  {
   "cell_type": "code",
   "execution_count": 176,
   "id": "fbc9089b-6114-43a4-ab1e-b527758c9203",
   "metadata": {},
   "outputs": [],
   "source": [
    "df = df[~df['Text'].str.contains(df.loc[last_row, 'Text'])]"
   ]
  },
  {
   "cell_type": "code",
   "execution_count": 177,
   "id": "bb17938f-f20d-4d69-af7b-8e4d5d01c11d",
   "metadata": {},
   "outputs": [],
   "source": [
    "df = df.loc[8:]\n",
    "df = df.reset_index(drop=True)"
   ]
  },
  {
   "cell_type": "code",
   "execution_count": 178,
   "id": "94b3cab9-9f33-4dee-b524-7cb802d56a15",
   "metadata": {},
   "outputs": [
    {
     "data": {
      "text/plain": [
       "Text\n",
       "False    979\n",
       "True      24\n",
       "Name: count, dtype: int64"
      ]
     },
     "execution_count": 178,
     "metadata": {},
     "output_type": "execute_result"
    }
   ],
   "source": [
    "# List of expressions whose rows in column 'Text' should be dropped\n",
    "expressions_to_drop = ['(APPLAUSE)', '(LAUGHTER)', '(CROSSTALK)']\n",
    "\n",
    "# Creating a boolean mask for rows starting with the specified expressions\n",
    "mask = df['Text'].str.startswith(tuple(expressions_to_drop))\n",
    "\n",
    "# Counting the number of rows for each expression\n",
    "counts = mask.value_counts()\n",
    "\n",
    "# Display the counts\n",
    "counts"
   ]
  },
  {
   "cell_type": "code",
   "execution_count": 179,
   "id": "ffbb281d-0570-41d4-bc1b-948b42014e28",
   "metadata": {},
   "outputs": [],
   "source": [
    "# Dropping the rows that start with those expressions in column 'Text'\n",
    "df = df[~mask]\n",
    "df = df.reset_index(drop=True)"
   ]
  },
  {
   "cell_type": "code",
   "execution_count": 180,
   "id": "ae9f1352-01b2-4f3e-9528-fcbc18af2eb4",
   "metadata": {},
   "outputs": [
    {
     "data": {
      "text/html": [
       "<div>\n",
       "<style scoped>\n",
       "    .dataframe tbody tr th:only-of-type {\n",
       "        vertical-align: middle;\n",
       "    }\n",
       "\n",
       "    .dataframe tbody tr th {\n",
       "        vertical-align: top;\n",
       "    }\n",
       "\n",
       "    .dataframe thead th {\n",
       "        text-align: right;\n",
       "    }\n",
       "</style>\n",
       "<table border=\"1\" class=\"dataframe\">\n",
       "  <thead>\n",
       "    <tr style=\"text-align: right;\">\n",
       "      <th></th>\n",
       "      <th>Text</th>\n",
       "      <th>Title</th>\n",
       "      <th>Debate</th>\n",
       "      <th>Date</th>\n",
       "      <th>Participants</th>\n",
       "      <th>Moderators</th>\n",
       "    </tr>\n",
       "  </thead>\n",
       "  <tbody>\n",
       "    <tr>\n",
       "      <th>0</th>\n",
       "      <td>LEHRER: Good evening from the Ford Center for ...</td>\n",
       "      <td>September 26, 2008 Debate Transcript</td>\n",
       "      <td>The First McCain-Obama Presidential Debate</td>\n",
       "      <td>September 26, 2008</td>\n",
       "      <td>U.S. SENATOR JOHN MCCAIN (AZ)REPUBLICAN PRESID...</td>\n",
       "      <td>JIM LEHRER</td>\n",
       "    </tr>\n",
       "  </tbody>\n",
       "</table>\n",
       "</div>"
      ],
      "text/plain": [
       "                                                Text  \\\n",
       "0  LEHRER: Good evening from the Ford Center for ...   \n",
       "\n",
       "                                  Title  \\\n",
       "0  September 26, 2008 Debate Transcript   \n",
       "\n",
       "                                       Debate                Date  \\\n",
       "0  The First McCain-Obama Presidential Debate  September 26, 2008   \n",
       "\n",
       "                                        Participants  Moderators  \n",
       "0  U.S. SENATOR JOHN MCCAIN (AZ)REPUBLICAN PRESID...  JIM LEHRER  "
      ]
     },
     "execution_count": 180,
     "metadata": {},
     "output_type": "execute_result"
    }
   ],
   "source": [
    "df.head(1)"
   ]
  },
  {
   "cell_type": "code",
   "execution_count": 181,
   "id": "8fde1716-61a2-461b-9e8e-4dcf70e535e5",
   "metadata": {},
   "outputs": [
    {
     "data": {
      "text/plain": [
       "'LEHRER: Good evening from the Ford Center for the Performing Arts at the University of Mississippi in Oxford. I’m Jim Lehrer of the NewsHour on PBS, and I welcome you to the first of the 2008 presidential debates between the Republican nominee, Senator John McCain of Arizona, and the Democratic nominee, Senator Barack Obama of Illinois.'"
      ]
     },
     "execution_count": 181,
     "metadata": {},
     "output_type": "execute_result"
    }
   ],
   "source": [
    "df.loc[0, 'Text']"
   ]
  },
  {
   "cell_type": "code",
   "execution_count": 182,
   "id": "6c77383c-ca37-4706-9910-1d91dffce8fa",
   "metadata": {},
   "outputs": [
    {
     "name": "stdout",
     "output_type": "stream",
     "text": [
      "Number of turns: 979\n"
     ]
    }
   ],
   "source": [
    "df.at[0, 'Speaker'] = 1 # Adding column 'Speaker' by initialising it with a numeric value in order to avoid DtypeWarning\n",
    "df = df.astype('object') # Converting the column to the desired data type\n",
    "\n",
    "for index, row in df.iterrows():\n",
    "    match = re.match(r'^(\\w+): ', row['Text'])\n",
    "    if match:\n",
    "        speaker = match.group(1)\n",
    "        df.at[index, 'Speaker'] = speaker\n",
    "        text_without_speaker = row['Text'][len(match.group(0)):]\n",
    "        df.at[index, 'Text'] = text_without_speaker\n",
    "    else:\n",
    "        # Handle the case when no match is found (optional)\n",
    "        #df.at[index, 'Speaker'] = ''  # Set a default value\n",
    "        pass\n",
    "\n",
    "df['Speaker'].ffill(inplace=True)\n",
    "\n",
    "print('Number of turns:', df.shape[0])\n",
    "\n",
    "debate_list.append(title)\n",
    "turn_list.append(df.shape[0])\n",
    "\n",
    "df[['Title', 'Debate', 'Date', 'Participants', 'Moderators', 'Speaker', 'Text']].to_json(f'{debate_title}.jsonl', orient='records', lines=True)\n",
    "\n",
    "df[['Title', 'Debate', 'Date', 'Participants', 'Moderators', 'Speaker', 'Text']].to_csv(f'{debate_title}.tsv', sep='\\t', index=False, encoding='utf-8', lineterminator='\\n')"
   ]
  },
  {
   "cell_type": "markdown",
   "id": "7a38ba31-8cd3-4a41-a78c-58ce54bac047",
   "metadata": {},
   "source": [
    "## Debate 13"
   ]
  },
  {
   "cell_type": "code",
   "execution_count": 183,
   "id": "6786a948-f78b-425d-b541-9acefcf283c9",
   "metadata": {},
   "outputs": [],
   "source": [
    "debate_title = debate_13\n",
    "url = debate_url_13\n",
    "response = requests.get(url)\n",
    "\n",
    "if response.status_code == 200:\n",
    "    page_content = response.content\n",
    "    # Step 2: Parse HTML content\n",
    "    soup = BeautifulSoup(page_content, 'lxml')\n",
    "\n",
    "    # Extract relevant tags (e.g., <h1>, <p>, etc.) and store them in a list\n",
    "    rows = []\n",
    "    for tag in soup.find_all(['h1', 'p']):\n",
    "        rows.append(tag.text.strip())  # Remove leading/trailing spaces\n",
    "    \n",
    "    # Create a DataFrame from the list of rows\n",
    "    df = pd.DataFrame(rows, columns=['Text'])\n",
    "\n",
    "else:\n",
    "    print(f'Failed to retrieve the page. Status code: {response.status_code}')"
   ]
  },
  {
   "cell_type": "code",
   "execution_count": 184,
   "id": "d4adc4b4-fab3-4581-86fd-3f124ee48d29",
   "metadata": {},
   "outputs": [
    {
     "data": {
      "text/html": [
       "<div>\n",
       "<style scoped>\n",
       "    .dataframe tbody tr th:only-of-type {\n",
       "        vertical-align: middle;\n",
       "    }\n",
       "\n",
       "    .dataframe tbody tr th {\n",
       "        vertical-align: top;\n",
       "    }\n",
       "\n",
       "    .dataframe thead th {\n",
       "        text-align: right;\n",
       "    }\n",
       "</style>\n",
       "<table border=\"1\" class=\"dataframe\">\n",
       "  <thead>\n",
       "    <tr style=\"text-align: right;\">\n",
       "      <th></th>\n",
       "      <th>Text</th>\n",
       "    </tr>\n",
       "  </thead>\n",
       "  <tbody>\n",
       "    <tr>\n",
       "      <th>0</th>\n",
       "      <td>October 2, 2008 Debate Transcript</td>\n",
       "    </tr>\n",
       "    <tr>\n",
       "      <th>1</th>\n",
       "      <td>October 2, 2008</td>\n",
       "    </tr>\n",
       "    <tr>\n",
       "      <th>2</th>\n",
       "      <td>The Biden-Palin Vice Presidential Debate</td>\n",
       "    </tr>\n",
       "    <tr>\n",
       "      <th>3</th>\n",
       "      <td>GOV. PALIN AND SEN. BIDEN PARTICIPATE IN A VIC...</td>\n",
       "    </tr>\n",
       "    <tr>\n",
       "      <th>4</th>\n",
       "      <td>SPEAKERS:</td>\n",
       "    </tr>\n",
       "    <tr>\n",
       "      <th>...</th>\n",
       "      <td>...</td>\n",
       "    </tr>\n",
       "    <tr>\n",
       "      <th>414</th>\n",
       "      <td>IFILL: That ends tonight’s debate. We want to ...</td>\n",
       "    </tr>\n",
       "    <tr>\n",
       "      <th>415</th>\n",
       "      <td>There are two more debates to come. Next Tuesd...</td>\n",
       "    </tr>\n",
       "    <tr>\n",
       "      <th>416</th>\n",
       "      <td>Thank you, Governor Palin and Senator Biden. G...</td>\n",
       "    </tr>\n",
       "    <tr>\n",
       "      <th>417</th>\n",
       "      <td>END</td>\n",
       "    </tr>\n",
       "    <tr>\n",
       "      <th>418</th>\n",
       "      <td>© COPYRIGHT 2020 THE COMMISSION ON PRESIDENTIA...</td>\n",
       "    </tr>\n",
       "  </tbody>\n",
       "</table>\n",
       "<p>419 rows × 1 columns</p>\n",
       "</div>"
      ],
      "text/plain": [
       "                                                  Text\n",
       "0                    October 2, 2008 Debate Transcript\n",
       "1                                      October 2, 2008\n",
       "2             The Biden-Palin Vice Presidential Debate\n",
       "3    GOV. PALIN AND SEN. BIDEN PARTICIPATE IN A VIC...\n",
       "4                                            SPEAKERS:\n",
       "..                                                 ...\n",
       "414  IFILL: That ends tonight’s debate. We want to ...\n",
       "415  There are two more debates to come. Next Tuesd...\n",
       "416  Thank you, Governor Palin and Senator Biden. G...\n",
       "417                                                END\n",
       "418  © COPYRIGHT 2020 THE COMMISSION ON PRESIDENTIA...\n",
       "\n",
       "[419 rows x 1 columns]"
      ]
     },
     "execution_count": 184,
     "metadata": {},
     "output_type": "execute_result"
    }
   ],
   "source": [
    "df"
   ]
  },
  {
   "cell_type": "code",
   "execution_count": 185,
   "id": "332100f3-9c74-4466-85f4-4050da0a4639",
   "metadata": {},
   "outputs": [],
   "source": [
    "df.drop(417, inplace=True)\n",
    "df = df.reset_index(drop=True)"
   ]
  },
  {
   "cell_type": "code",
   "execution_count": 186,
   "id": "31168392-4d9d-4613-be72-876659af91be",
   "metadata": {},
   "outputs": [
    {
     "data": {
      "text/html": [
       "<div>\n",
       "<style scoped>\n",
       "    .dataframe tbody tr th:only-of-type {\n",
       "        vertical-align: middle;\n",
       "    }\n",
       "\n",
       "    .dataframe tbody tr th {\n",
       "        vertical-align: top;\n",
       "    }\n",
       "\n",
       "    .dataframe thead th {\n",
       "        text-align: right;\n",
       "    }\n",
       "</style>\n",
       "<table border=\"1\" class=\"dataframe\">\n",
       "  <thead>\n",
       "    <tr style=\"text-align: right;\">\n",
       "      <th></th>\n",
       "      <th>Text</th>\n",
       "    </tr>\n",
       "  </thead>\n",
       "  <tbody>\n",
       "    <tr>\n",
       "      <th>0</th>\n",
       "      <td>October 2, 2008 Debate Transcript</td>\n",
       "    </tr>\n",
       "    <tr>\n",
       "      <th>1</th>\n",
       "      <td>October 2, 2008</td>\n",
       "    </tr>\n",
       "    <tr>\n",
       "      <th>2</th>\n",
       "      <td>The Biden-Palin Vice Presidential Debate</td>\n",
       "    </tr>\n",
       "    <tr>\n",
       "      <th>3</th>\n",
       "      <td>GOV. PALIN AND SEN. BIDEN PARTICIPATE IN A VIC...</td>\n",
       "    </tr>\n",
       "    <tr>\n",
       "      <th>4</th>\n",
       "      <td>SPEAKERS:</td>\n",
       "    </tr>\n",
       "    <tr>\n",
       "      <th>...</th>\n",
       "      <td>...</td>\n",
       "    </tr>\n",
       "    <tr>\n",
       "      <th>413</th>\n",
       "      <td>May God bless all of you, and most of all, for...</td>\n",
       "    </tr>\n",
       "    <tr>\n",
       "      <th>414</th>\n",
       "      <td>IFILL: That ends tonight’s debate. We want to ...</td>\n",
       "    </tr>\n",
       "    <tr>\n",
       "      <th>415</th>\n",
       "      <td>There are two more debates to come. Next Tuesd...</td>\n",
       "    </tr>\n",
       "    <tr>\n",
       "      <th>416</th>\n",
       "      <td>Thank you, Governor Palin and Senator Biden. G...</td>\n",
       "    </tr>\n",
       "    <tr>\n",
       "      <th>417</th>\n",
       "      <td>© COPYRIGHT 2020 THE COMMISSION ON PRESIDENTIA...</td>\n",
       "    </tr>\n",
       "  </tbody>\n",
       "</table>\n",
       "<p>418 rows × 1 columns</p>\n",
       "</div>"
      ],
      "text/plain": [
       "                                                  Text\n",
       "0                    October 2, 2008 Debate Transcript\n",
       "1                                      October 2, 2008\n",
       "2             The Biden-Palin Vice Presidential Debate\n",
       "3    GOV. PALIN AND SEN. BIDEN PARTICIPATE IN A VIC...\n",
       "4                                            SPEAKERS:\n",
       "..                                                 ...\n",
       "413  May God bless all of you, and most of all, for...\n",
       "414  IFILL: That ends tonight’s debate. We want to ...\n",
       "415  There are two more debates to come. Next Tuesd...\n",
       "416  Thank you, Governor Palin and Senator Biden. G...\n",
       "417  © COPYRIGHT 2020 THE COMMISSION ON PRESIDENTIA...\n",
       "\n",
       "[418 rows x 1 columns]"
      ]
     },
     "execution_count": 186,
     "metadata": {},
     "output_type": "execute_result"
    }
   ],
   "source": [
    "df"
   ]
  },
  {
   "cell_type": "code",
   "execution_count": 187,
   "id": "4fc8c354-2cf0-45a6-aa96-d5156976e58c",
   "metadata": {},
   "outputs": [
    {
     "data": {
      "text/html": [
       "<div>\n",
       "<style scoped>\n",
       "    .dataframe tbody tr th:only-of-type {\n",
       "        vertical-align: middle;\n",
       "    }\n",
       "\n",
       "    .dataframe tbody tr th {\n",
       "        vertical-align: top;\n",
       "    }\n",
       "\n",
       "    .dataframe thead th {\n",
       "        text-align: right;\n",
       "    }\n",
       "</style>\n",
       "<table border=\"1\" class=\"dataframe\">\n",
       "  <thead>\n",
       "    <tr style=\"text-align: right;\">\n",
       "      <th></th>\n",
       "      <th>Text</th>\n",
       "    </tr>\n",
       "  </thead>\n",
       "  <tbody>\n",
       "    <tr>\n",
       "      <th>0</th>\n",
       "      <td>October 2, 2008 Debate Transcript</td>\n",
       "    </tr>\n",
       "    <tr>\n",
       "      <th>1</th>\n",
       "      <td>October 2, 2008</td>\n",
       "    </tr>\n",
       "    <tr>\n",
       "      <th>2</th>\n",
       "      <td>The Biden-Palin Vice Presidential Debate</td>\n",
       "    </tr>\n",
       "    <tr>\n",
       "      <th>3</th>\n",
       "      <td>GOV. PALIN AND SEN. BIDEN PARTICIPATE IN A VIC...</td>\n",
       "    </tr>\n",
       "    <tr>\n",
       "      <th>4</th>\n",
       "      <td>SPEAKERS:</td>\n",
       "    </tr>\n",
       "    <tr>\n",
       "      <th>5</th>\n",
       "      <td>SEN. JOSEPH R. BIDEN JR. (DE)\\nDEMOCRATIC VICE...</td>\n",
       "    </tr>\n",
       "    <tr>\n",
       "      <th>6</th>\n",
       "      <td>GOV. SARAH PALIN, (AK)\\nREPUBLICAN VICE PRESID...</td>\n",
       "    </tr>\n",
       "    <tr>\n",
       "      <th>7</th>\n",
       "      <td>GWEN IFILL, MODERATOR</td>\n",
       "    </tr>\n",
       "    <tr>\n",
       "      <th>8</th>\n",
       "      <td>[*] IFILL: Good evening from Washington Univer...</td>\n",
       "    </tr>\n",
       "    <tr>\n",
       "      <th>9</th>\n",
       "      <td>The Commission on Presidential Debates is the ...</td>\n",
       "    </tr>\n",
       "  </tbody>\n",
       "</table>\n",
       "</div>"
      ],
      "text/plain": [
       "                                                Text\n",
       "0                  October 2, 2008 Debate Transcript\n",
       "1                                    October 2, 2008\n",
       "2           The Biden-Palin Vice Presidential Debate\n",
       "3  GOV. PALIN AND SEN. BIDEN PARTICIPATE IN A VIC...\n",
       "4                                          SPEAKERS:\n",
       "5  SEN. JOSEPH R. BIDEN JR. (DE)\\nDEMOCRATIC VICE...\n",
       "6  GOV. SARAH PALIN, (AK)\\nREPUBLICAN VICE PRESID...\n",
       "7                              GWEN IFILL, MODERATOR\n",
       "8  [*] IFILL: Good evening from Washington Univer...\n",
       "9  The Commission on Presidential Debates is the ..."
      ]
     },
     "execution_count": 187,
     "metadata": {},
     "output_type": "execute_result"
    }
   ],
   "source": [
    "df.head(10)"
   ]
  },
  {
   "cell_type": "code",
   "execution_count": 188,
   "id": "c4e30897-b15a-43e1-aa7d-251ba4d64466",
   "metadata": {},
   "outputs": [],
   "source": [
    "df.loc[8, 'Text'] = re.sub(r'^\\[\\*\\] ', '', df.loc[8, 'Text'])"
   ]
  },
  {
   "cell_type": "code",
   "execution_count": 189,
   "id": "a5962901-9867-4109-b5d2-f8079a81fe90",
   "metadata": {},
   "outputs": [],
   "source": [
    "title = df.at[0, 'Text']\n",
    "df['Title'] = title\n",
    "\n",
    "debate = df.at[2, 'Text']\n",
    "df['Debate'] = debate\n",
    "\n",
    "date = df.at[1, 'Text']\n",
    "df['Date'] = date\n",
    "\n",
    "participants = df.at[5, 'Text'] + ' ' + df.at[6, 'Text']\n",
    "#participants = re.sub(r'^\\w+:\\n', '', participants)\n",
    "participants = re.sub(r'\\n', ' ', participants)\n",
    "df['Participants'] = participants\n",
    "\n",
    "moderators = df.at[7, 'Text']\n",
    "moderators = re.sub(r', \\w+$', '', moderators)\n",
    "#moderators = re.sub(r'^\\w+:\\n', '', moderators)\n",
    "df['Moderators'] = moderators"
   ]
  },
  {
   "cell_type": "code",
   "execution_count": 190,
   "id": "6de91e67-e84d-4a90-9b8a-1a3c389c8355",
   "metadata": {},
   "outputs": [
    {
     "data": {
      "text/plain": [
       "'© COPYRIGHT 2020 THE COMMISSION ON PRESIDENTIAL DEBATES. ALL RIGHTS RESERVED.'"
      ]
     },
     "execution_count": 190,
     "metadata": {},
     "output_type": "execute_result"
    }
   ],
   "source": [
    "last_row = 417\n",
    "df.loc[last_row, 'Text']"
   ]
  },
  {
   "cell_type": "code",
   "execution_count": 191,
   "id": "fb1f84a8-9094-4bec-b264-90afda0391eb",
   "metadata": {},
   "outputs": [],
   "source": [
    "df = df[~df['Text'].str.contains(df.loc[last_row, 'Text'])]"
   ]
  },
  {
   "cell_type": "code",
   "execution_count": 192,
   "id": "df1390c1-d752-4e1d-94e3-b9b4895f3a0e",
   "metadata": {},
   "outputs": [],
   "source": [
    "df = df.loc[8:]\n",
    "df = df.reset_index(drop=True)"
   ]
  },
  {
   "cell_type": "code",
   "execution_count": 193,
   "id": "bf12ef8c-89fa-4b02-b1ec-56d7f9664501",
   "metadata": {},
   "outputs": [
    {
     "data": {
      "text/plain": [
       "Text\n",
       "False    405\n",
       "True       4\n",
       "Name: count, dtype: int64"
      ]
     },
     "execution_count": 193,
     "metadata": {},
     "output_type": "execute_result"
    }
   ],
   "source": [
    "# List of expressions whose rows in column 'Text' should be dropped\n",
    "expressions_to_drop = ['(APPLAUSE)', '(LAUGHTER)', '(CROSSTALK)']\n",
    "\n",
    "# Creating a boolean mask for rows starting with the specified expressions\n",
    "mask = df['Text'].str.startswith(tuple(expressions_to_drop))\n",
    "\n",
    "# Counting the number of rows for each expression\n",
    "counts = mask.value_counts()\n",
    "\n",
    "# Display the counts\n",
    "counts"
   ]
  },
  {
   "cell_type": "code",
   "execution_count": 194,
   "id": "bdb74752-4591-495b-9e47-83f1f05ce81f",
   "metadata": {},
   "outputs": [],
   "source": [
    "# Dropping the rows that start with those expressions in column 'Text'\n",
    "df = df[~mask]\n",
    "df = df.reset_index(drop=True)"
   ]
  },
  {
   "cell_type": "code",
   "execution_count": 195,
   "id": "9f7283bf-3cf0-431d-8cfb-3d9696425bc4",
   "metadata": {},
   "outputs": [
    {
     "data": {
      "text/html": [
       "<div>\n",
       "<style scoped>\n",
       "    .dataframe tbody tr th:only-of-type {\n",
       "        vertical-align: middle;\n",
       "    }\n",
       "\n",
       "    .dataframe tbody tr th {\n",
       "        vertical-align: top;\n",
       "    }\n",
       "\n",
       "    .dataframe thead th {\n",
       "        text-align: right;\n",
       "    }\n",
       "</style>\n",
       "<table border=\"1\" class=\"dataframe\">\n",
       "  <thead>\n",
       "    <tr style=\"text-align: right;\">\n",
       "      <th></th>\n",
       "      <th>Text</th>\n",
       "      <th>Title</th>\n",
       "      <th>Debate</th>\n",
       "      <th>Date</th>\n",
       "      <th>Participants</th>\n",
       "      <th>Moderators</th>\n",
       "    </tr>\n",
       "  </thead>\n",
       "  <tbody>\n",
       "    <tr>\n",
       "      <th>0</th>\n",
       "      <td>IFILL: Good evening from Washington University...</td>\n",
       "      <td>October 2, 2008 Debate Transcript</td>\n",
       "      <td>The Biden-Palin Vice Presidential Debate</td>\n",
       "      <td>October 2, 2008</td>\n",
       "      <td>SEN. JOSEPH R. BIDEN JR. (DE) DEMOCRATIC VICE ...</td>\n",
       "      <td>GWEN IFILL</td>\n",
       "    </tr>\n",
       "  </tbody>\n",
       "</table>\n",
       "</div>"
      ],
      "text/plain": [
       "                                                Text  \\\n",
       "0  IFILL: Good evening from Washington University...   \n",
       "\n",
       "                               Title  \\\n",
       "0  October 2, 2008 Debate Transcript   \n",
       "\n",
       "                                     Debate             Date  \\\n",
       "0  The Biden-Palin Vice Presidential Debate  October 2, 2008   \n",
       "\n",
       "                                        Participants  Moderators  \n",
       "0  SEN. JOSEPH R. BIDEN JR. (DE) DEMOCRATIC VICE ...  GWEN IFILL  "
      ]
     },
     "execution_count": 195,
     "metadata": {},
     "output_type": "execute_result"
    }
   ],
   "source": [
    "df.head(1)"
   ]
  },
  {
   "cell_type": "code",
   "execution_count": 196,
   "id": "73adffa3-bc42-46b6-a22f-ddff7dd024ab",
   "metadata": {},
   "outputs": [
    {
     "data": {
      "text/plain": [
       "'IFILL: Good evening from Washington University in St. Louis, Missouri. I’m Gwen Ifill of “The NewsHour” and “Washington Week” on PBS. Welcome to the first and the only 2008 vice presidential debate between the Republican nominee, Governor Sarah Palin of Alaska, and the Democratic nominee, Joe Biden of Delaware.'"
      ]
     },
     "execution_count": 196,
     "metadata": {},
     "output_type": "execute_result"
    }
   ],
   "source": [
    "df.loc[0, 'Text']"
   ]
  },
  {
   "cell_type": "code",
   "execution_count": 197,
   "id": "7d9da13c-16d1-46ce-87ee-7eb32aacb4d7",
   "metadata": {},
   "outputs": [
    {
     "name": "stdout",
     "output_type": "stream",
     "text": [
      "Number of turns: 405\n"
     ]
    }
   ],
   "source": [
    "df.at[0, 'Speaker'] = 1 # Adding column 'Speaker' by initialising it with a numeric value in order to avoid DtypeWarning\n",
    "df = df.astype('object') # Converting the column to the desired data type\n",
    "\n",
    "for index, row in df.iterrows():\n",
    "    match = re.match(r'^(\\w+): ', row['Text'])\n",
    "    if match:\n",
    "        speaker = match.group(1)\n",
    "        df.at[index, 'Speaker'] = speaker\n",
    "        text_without_speaker = row['Text'][len(match.group(0)):]\n",
    "        df.at[index, 'Text'] = text_without_speaker\n",
    "    else:\n",
    "        # Handle the case when no match is found (optional)\n",
    "        #df.at[index, 'Speaker'] = ''  # Set a default value\n",
    "        pass\n",
    "\n",
    "df['Speaker'].ffill(inplace=True)\n",
    "\n",
    "print('Number of turns:', df.shape[0])\n",
    "\n",
    "debate_list.append(title)\n",
    "turn_list.append(df.shape[0])\n",
    "\n",
    "df[['Title', 'Debate', 'Date', 'Participants', 'Moderators', 'Speaker', 'Text']].to_json(f'{debate_title}.jsonl', orient='records', lines=True)\n",
    "\n",
    "df[['Title', 'Debate', 'Date', 'Participants', 'Moderators', 'Speaker', 'Text']].to_csv(f'{debate_title}.tsv', sep='\\t', index=False, encoding='utf-8', lineterminator='\\n')"
   ]
  },
  {
   "cell_type": "markdown",
   "id": "cb33261b-d38a-4ab1-989c-c7f8aaa43116",
   "metadata": {},
   "source": [
    "## Debate 14"
   ]
  },
  {
   "cell_type": "code",
   "execution_count": 198,
   "id": "57743947-cb38-4395-8fcf-39d89f60854e",
   "metadata": {},
   "outputs": [],
   "source": [
    "debate_title = debate_14\n",
    "url = debate_url_14\n",
    "response = requests.get(url)\n",
    "\n",
    "if response.status_code == 200:\n",
    "    page_content = response.content\n",
    "    # Step 2: Parse HTML content\n",
    "    soup = BeautifulSoup(page_content, 'lxml')\n",
    "\n",
    "    # Extract relevant tags (e.g., <h1>, <p>, etc.) and store them in a list\n",
    "    rows = []\n",
    "    for tag in soup.find_all(['h1', 'p']):\n",
    "        rows.append(tag.text.strip())  # Remove leading/trailing spaces\n",
    "    \n",
    "    # Create a DataFrame from the list of rows\n",
    "    df = pd.DataFrame(rows, columns=['Text'])\n",
    "\n",
    "else:\n",
    "    print(f'Failed to retrieve the page. Status code: {response.status_code}')"
   ]
  },
  {
   "cell_type": "code",
   "execution_count": 199,
   "id": "0e11cdc2-5f74-487f-83c8-8342e3503736",
   "metadata": {},
   "outputs": [
    {
     "data": {
      "text/html": [
       "<div>\n",
       "<style scoped>\n",
       "    .dataframe tbody tr th:only-of-type {\n",
       "        vertical-align: middle;\n",
       "    }\n",
       "\n",
       "    .dataframe tbody tr th {\n",
       "        vertical-align: top;\n",
       "    }\n",
       "\n",
       "    .dataframe thead th {\n",
       "        text-align: right;\n",
       "    }\n",
       "</style>\n",
       "<table border=\"1\" class=\"dataframe\">\n",
       "  <thead>\n",
       "    <tr style=\"text-align: right;\">\n",
       "      <th></th>\n",
       "      <th>Text</th>\n",
       "    </tr>\n",
       "  </thead>\n",
       "  <tbody>\n",
       "    <tr>\n",
       "      <th>0</th>\n",
       "      <td>October 7, 2008 Debate Transcript</td>\n",
       "    </tr>\n",
       "    <tr>\n",
       "      <th>1</th>\n",
       "      <td>October 7, 2008</td>\n",
       "    </tr>\n",
       "    <tr>\n",
       "      <th>2</th>\n",
       "      <td>The Second McCain-Obama Presidential Debate</td>\n",
       "    </tr>\n",
       "    <tr>\n",
       "      <th>3</th>\n",
       "      <td>SENS. MCCAIN AND OBAMA PARTICIPATE IN A PRESID...</td>\n",
       "    </tr>\n",
       "    <tr>\n",
       "      <th>4</th>\n",
       "      <td>SPEAKERS:</td>\n",
       "    </tr>\n",
       "    <tr>\n",
       "      <th>...</th>\n",
       "      <td>...</td>\n",
       "    </tr>\n",
       "    <tr>\n",
       "      <th>488</th>\n",
       "      <td>In addition to everything else, there is one m...</td>\n",
       "    </tr>\n",
       "    <tr>\n",
       "      <th>489</th>\n",
       "      <td>Thank you, Senator McCain. Thank you, Senator ...</td>\n",
       "    </tr>\n",
       "    <tr>\n",
       "      <th>490</th>\n",
       "      <td>END</td>\n",
       "    </tr>\n",
       "    <tr>\n",
       "      <th>491</th>\n",
       "      <td>Transcription by: CQ Transcriptions/Morningside</td>\n",
       "    </tr>\n",
       "    <tr>\n",
       "      <th>492</th>\n",
       "      <td>© COPYRIGHT 2020 THE COMMISSION ON PRESIDENTIA...</td>\n",
       "    </tr>\n",
       "  </tbody>\n",
       "</table>\n",
       "<p>493 rows × 1 columns</p>\n",
       "</div>"
      ],
      "text/plain": [
       "                                                  Text\n",
       "0                    October 7, 2008 Debate Transcript\n",
       "1                                      October 7, 2008\n",
       "2          The Second McCain-Obama Presidential Debate\n",
       "3    SENS. MCCAIN AND OBAMA PARTICIPATE IN A PRESID...\n",
       "4                                            SPEAKERS:\n",
       "..                                                 ...\n",
       "488  In addition to everything else, there is one m...\n",
       "489  Thank you, Senator McCain. Thank you, Senator ...\n",
       "490                                                END\n",
       "491    Transcription by: CQ Transcriptions/Morningside\n",
       "492  © COPYRIGHT 2020 THE COMMISSION ON PRESIDENTIA...\n",
       "\n",
       "[493 rows x 1 columns]"
      ]
     },
     "execution_count": 199,
     "metadata": {},
     "output_type": "execute_result"
    }
   ],
   "source": [
    "df"
   ]
  },
  {
   "cell_type": "code",
   "execution_count": 200,
   "id": "233bb04f-b188-4e55-94e1-d72ae87eeaa3",
   "metadata": {},
   "outputs": [],
   "source": [
    "df.drop([490, 491], inplace=True)\n",
    "df = df.reset_index(drop=True)"
   ]
  },
  {
   "cell_type": "code",
   "execution_count": 201,
   "id": "429b3a90-060a-4f00-929e-fe110013d300",
   "metadata": {},
   "outputs": [
    {
     "data": {
      "text/html": [
       "<div>\n",
       "<style scoped>\n",
       "    .dataframe tbody tr th:only-of-type {\n",
       "        vertical-align: middle;\n",
       "    }\n",
       "\n",
       "    .dataframe tbody tr th {\n",
       "        vertical-align: top;\n",
       "    }\n",
       "\n",
       "    .dataframe thead th {\n",
       "        text-align: right;\n",
       "    }\n",
       "</style>\n",
       "<table border=\"1\" class=\"dataframe\">\n",
       "  <thead>\n",
       "    <tr style=\"text-align: right;\">\n",
       "      <th></th>\n",
       "      <th>Text</th>\n",
       "    </tr>\n",
       "  </thead>\n",
       "  <tbody>\n",
       "    <tr>\n",
       "      <th>0</th>\n",
       "      <td>October 7, 2008 Debate Transcript</td>\n",
       "    </tr>\n",
       "    <tr>\n",
       "      <th>1</th>\n",
       "      <td>October 7, 2008</td>\n",
       "    </tr>\n",
       "    <tr>\n",
       "      <th>2</th>\n",
       "      <td>The Second McCain-Obama Presidential Debate</td>\n",
       "    </tr>\n",
       "    <tr>\n",
       "      <th>3</th>\n",
       "      <td>SENS. MCCAIN AND OBAMA PARTICIPATE IN A PRESID...</td>\n",
       "    </tr>\n",
       "    <tr>\n",
       "      <th>4</th>\n",
       "      <td>SPEAKERS:</td>\n",
       "    </tr>\n",
       "    <tr>\n",
       "      <th>...</th>\n",
       "      <td>...</td>\n",
       "    </tr>\n",
       "    <tr>\n",
       "      <th>486</th>\n",
       "      <td>That concludes tonight’s debate from here in N...</td>\n",
       "    </tr>\n",
       "    <tr>\n",
       "      <th>487</th>\n",
       "      <td>(APPLAUSE)</td>\n",
       "    </tr>\n",
       "    <tr>\n",
       "      <th>488</th>\n",
       "      <td>In addition to everything else, there is one m...</td>\n",
       "    </tr>\n",
       "    <tr>\n",
       "      <th>489</th>\n",
       "      <td>Thank you, Senator McCain. Thank you, Senator ...</td>\n",
       "    </tr>\n",
       "    <tr>\n",
       "      <th>490</th>\n",
       "      <td>© COPYRIGHT 2020 THE COMMISSION ON PRESIDENTIA...</td>\n",
       "    </tr>\n",
       "  </tbody>\n",
       "</table>\n",
       "<p>491 rows × 1 columns</p>\n",
       "</div>"
      ],
      "text/plain": [
       "                                                  Text\n",
       "0                    October 7, 2008 Debate Transcript\n",
       "1                                      October 7, 2008\n",
       "2          The Second McCain-Obama Presidential Debate\n",
       "3    SENS. MCCAIN AND OBAMA PARTICIPATE IN A PRESID...\n",
       "4                                            SPEAKERS:\n",
       "..                                                 ...\n",
       "486  That concludes tonight’s debate from here in N...\n",
       "487                                         (APPLAUSE)\n",
       "488  In addition to everything else, there is one m...\n",
       "489  Thank you, Senator McCain. Thank you, Senator ...\n",
       "490  © COPYRIGHT 2020 THE COMMISSION ON PRESIDENTIA...\n",
       "\n",
       "[491 rows x 1 columns]"
      ]
     },
     "execution_count": 201,
     "metadata": {},
     "output_type": "execute_result"
    }
   ],
   "source": [
    "df"
   ]
  },
  {
   "cell_type": "code",
   "execution_count": 202,
   "id": "7599fc2a-a269-402e-9f5e-73f96f7e4659",
   "metadata": {},
   "outputs": [
    {
     "data": {
      "text/html": [
       "<div>\n",
       "<style scoped>\n",
       "    .dataframe tbody tr th:only-of-type {\n",
       "        vertical-align: middle;\n",
       "    }\n",
       "\n",
       "    .dataframe tbody tr th {\n",
       "        vertical-align: top;\n",
       "    }\n",
       "\n",
       "    .dataframe thead th {\n",
       "        text-align: right;\n",
       "    }\n",
       "</style>\n",
       "<table border=\"1\" class=\"dataframe\">\n",
       "  <thead>\n",
       "    <tr style=\"text-align: right;\">\n",
       "      <th></th>\n",
       "      <th>Text</th>\n",
       "    </tr>\n",
       "  </thead>\n",
       "  <tbody>\n",
       "    <tr>\n",
       "      <th>0</th>\n",
       "      <td>October 7, 2008 Debate Transcript</td>\n",
       "    </tr>\n",
       "    <tr>\n",
       "      <th>1</th>\n",
       "      <td>October 7, 2008</td>\n",
       "    </tr>\n",
       "    <tr>\n",
       "      <th>2</th>\n",
       "      <td>The Second McCain-Obama Presidential Debate</td>\n",
       "    </tr>\n",
       "    <tr>\n",
       "      <th>3</th>\n",
       "      <td>SENS. MCCAIN AND OBAMA PARTICIPATE IN A PRESID...</td>\n",
       "    </tr>\n",
       "    <tr>\n",
       "      <th>4</th>\n",
       "      <td>SPEAKERS:</td>\n",
       "    </tr>\n",
       "    <tr>\n",
       "      <th>5</th>\n",
       "      <td>U.S. SENATOR JOHN MCCAIN (AZ)REPUBLICAN PRESID...</td>\n",
       "    </tr>\n",
       "    <tr>\n",
       "      <th>6</th>\n",
       "      <td>U. S. SENATOR BARACK OBAMA (IL)DEMOCRATIC PRES...</td>\n",
       "    </tr>\n",
       "    <tr>\n",
       "      <th>7</th>\n",
       "      <td>TOM BROKAW, MODERATOR</td>\n",
       "    </tr>\n",
       "    <tr>\n",
       "      <th>8</th>\n",
       "      <td>[*] BROKAW: Good evening from Belmont Universi...</td>\n",
       "    </tr>\n",
       "    <tr>\n",
       "      <th>9</th>\n",
       "      <td>Tonight’s debate is the only one with a town h...</td>\n",
       "    </tr>\n",
       "  </tbody>\n",
       "</table>\n",
       "</div>"
      ],
      "text/plain": [
       "                                                Text\n",
       "0                  October 7, 2008 Debate Transcript\n",
       "1                                    October 7, 2008\n",
       "2        The Second McCain-Obama Presidential Debate\n",
       "3  SENS. MCCAIN AND OBAMA PARTICIPATE IN A PRESID...\n",
       "4                                          SPEAKERS:\n",
       "5  U.S. SENATOR JOHN MCCAIN (AZ)REPUBLICAN PRESID...\n",
       "6  U. S. SENATOR BARACK OBAMA (IL)DEMOCRATIC PRES...\n",
       "7                              TOM BROKAW, MODERATOR\n",
       "8  [*] BROKAW: Good evening from Belmont Universi...\n",
       "9  Tonight’s debate is the only one with a town h..."
      ]
     },
     "execution_count": 202,
     "metadata": {},
     "output_type": "execute_result"
    }
   ],
   "source": [
    "df.head(10)"
   ]
  },
  {
   "cell_type": "code",
   "execution_count": 203,
   "id": "fa617c52-3dfe-46a8-93ed-23a3eb42da6f",
   "metadata": {},
   "outputs": [],
   "source": [
    "df.loc[8, 'Text'] = re.sub(r'^\\[\\*\\] ', '', df.loc[8, 'Text'])"
   ]
  },
  {
   "cell_type": "code",
   "execution_count": 204,
   "id": "00663de9-01b3-46a9-9f95-bb99b16ad81a",
   "metadata": {},
   "outputs": [],
   "source": [
    "title = df.at[0, 'Text']\n",
    "df['Title'] = title\n",
    "\n",
    "debate = df.at[2, 'Text']\n",
    "df['Debate'] = debate\n",
    "\n",
    "date = df.at[1, 'Text']\n",
    "df['Date'] = date\n",
    "\n",
    "participants = df.at[5, 'Text'] + ' ' + df.at[6, 'Text']\n",
    "#participants = re.sub(r'^\\w+:\\n', '', participants)\n",
    "#participants = re.sub(r'\\n', ' ', participants)\n",
    "df['Participants'] = participants\n",
    "\n",
    "moderators = df.at[7, 'Text']\n",
    "moderators = re.sub(r', \\w+$', '', moderators)\n",
    "#moderators = re.sub(r'^\\w+:\\n', '', moderators)\n",
    "df['Moderators'] = moderators"
   ]
  },
  {
   "cell_type": "code",
   "execution_count": 205,
   "id": "8ddff5f6-a5e6-4971-a585-efeb53a18f06",
   "metadata": {},
   "outputs": [
    {
     "data": {
      "text/plain": [
       "'© COPYRIGHT 2020 THE COMMISSION ON PRESIDENTIAL DEBATES. ALL RIGHTS RESERVED.'"
      ]
     },
     "execution_count": 205,
     "metadata": {},
     "output_type": "execute_result"
    }
   ],
   "source": [
    "last_row = 490\n",
    "df.loc[last_row, 'Text']"
   ]
  },
  {
   "cell_type": "code",
   "execution_count": 206,
   "id": "811912f9-f91a-411e-a93a-f7d5a913cf91",
   "metadata": {},
   "outputs": [],
   "source": [
    "df = df[~df['Text'].str.contains(df.loc[last_row, 'Text'])]"
   ]
  },
  {
   "cell_type": "code",
   "execution_count": 207,
   "id": "fdf31884-2133-4d5f-9e78-97a6f55cb99b",
   "metadata": {},
   "outputs": [],
   "source": [
    "df = df.loc[8:]\n",
    "df = df.reset_index(drop=True)"
   ]
  },
  {
   "cell_type": "code",
   "execution_count": 208,
   "id": "112b60b7-c7f9-42aa-a5f5-67e1295d593c",
   "metadata": {},
   "outputs": [
    {
     "data": {
      "text/plain": [
       "Text\n",
       "False    475\n",
       "True       7\n",
       "Name: count, dtype: int64"
      ]
     },
     "execution_count": 208,
     "metadata": {},
     "output_type": "execute_result"
    }
   ],
   "source": [
    "# List of expressions whose rows in column 'Text' should be dropped\n",
    "expressions_to_drop = ['(APPLAUSE)', '(LAUGHTER)', '(CROSSTALK)']\n",
    "\n",
    "# Creating a boolean mask for rows starting with the specified expressions\n",
    "mask = df['Text'].str.startswith(tuple(expressions_to_drop))\n",
    "\n",
    "# Counting the number of rows for each expression\n",
    "counts = mask.value_counts()\n",
    "\n",
    "# Display the counts\n",
    "counts"
   ]
  },
  {
   "cell_type": "code",
   "execution_count": 209,
   "id": "302094e9-77cf-4bdd-8566-1043ec506e38",
   "metadata": {},
   "outputs": [],
   "source": [
    "# Dropping the rows that start with those expressions in column 'Text'\n",
    "df = df[~mask]\n",
    "df = df.reset_index(drop=True)"
   ]
  },
  {
   "cell_type": "code",
   "execution_count": 210,
   "id": "07fe352b-fb02-49ed-820e-b799ca4b2c43",
   "metadata": {},
   "outputs": [
    {
     "data": {
      "text/html": [
       "<div>\n",
       "<style scoped>\n",
       "    .dataframe tbody tr th:only-of-type {\n",
       "        vertical-align: middle;\n",
       "    }\n",
       "\n",
       "    .dataframe tbody tr th {\n",
       "        vertical-align: top;\n",
       "    }\n",
       "\n",
       "    .dataframe thead th {\n",
       "        text-align: right;\n",
       "    }\n",
       "</style>\n",
       "<table border=\"1\" class=\"dataframe\">\n",
       "  <thead>\n",
       "    <tr style=\"text-align: right;\">\n",
       "      <th></th>\n",
       "      <th>Text</th>\n",
       "      <th>Title</th>\n",
       "      <th>Debate</th>\n",
       "      <th>Date</th>\n",
       "      <th>Participants</th>\n",
       "      <th>Moderators</th>\n",
       "    </tr>\n",
       "  </thead>\n",
       "  <tbody>\n",
       "    <tr>\n",
       "      <th>0</th>\n",
       "      <td>BROKAW: Good evening from Belmont University i...</td>\n",
       "      <td>October 7, 2008 Debate Transcript</td>\n",
       "      <td>The Second McCain-Obama Presidential Debate</td>\n",
       "      <td>October 7, 2008</td>\n",
       "      <td>U.S. SENATOR JOHN MCCAIN (AZ)REPUBLICAN PRESID...</td>\n",
       "      <td>TOM BROKAW</td>\n",
       "    </tr>\n",
       "  </tbody>\n",
       "</table>\n",
       "</div>"
      ],
      "text/plain": [
       "                                                Text  \\\n",
       "0  BROKAW: Good evening from Belmont University i...   \n",
       "\n",
       "                               Title  \\\n",
       "0  October 7, 2008 Debate Transcript   \n",
       "\n",
       "                                        Debate             Date  \\\n",
       "0  The Second McCain-Obama Presidential Debate  October 7, 2008   \n",
       "\n",
       "                                        Participants  Moderators  \n",
       "0  U.S. SENATOR JOHN MCCAIN (AZ)REPUBLICAN PRESID...  TOM BROKAW  "
      ]
     },
     "execution_count": 210,
     "metadata": {},
     "output_type": "execute_result"
    }
   ],
   "source": [
    "df.head(1)"
   ]
  },
  {
   "cell_type": "code",
   "execution_count": 211,
   "id": "83483c97-07d8-4eb9-948a-31e6e06b89bb",
   "metadata": {},
   "outputs": [
    {
     "data": {
      "text/plain": [
       "'BROKAW: Good evening from Belmont University in Nashville, Tennessee. I’m Tom Brokaw of NBC News. And welcome to this second presidential debate, sponsored by the Commission on Presidential Debates.'"
      ]
     },
     "execution_count": 211,
     "metadata": {},
     "output_type": "execute_result"
    }
   ],
   "source": [
    "df.loc[0, 'Text']"
   ]
  },
  {
   "cell_type": "code",
   "execution_count": 212,
   "id": "84d39cdf-4732-4b55-a100-5b0e97ece8b3",
   "metadata": {},
   "outputs": [
    {
     "name": "stdout",
     "output_type": "stream",
     "text": [
      "Number of turns: 475\n"
     ]
    }
   ],
   "source": [
    "df.at[0, 'Speaker'] = 1 # Adding column 'Speaker' by initialising it with a numeric value in order to avoid DtypeWarning\n",
    "df = df.astype('object') # Converting the column to the desired data type\n",
    "\n",
    "for index, row in df.iterrows():\n",
    "    match = re.match(r'^(\\w+): ', row['Text'])\n",
    "    if match:\n",
    "        speaker = match.group(1)\n",
    "        df.at[index, 'Speaker'] = speaker\n",
    "        text_without_speaker = row['Text'][len(match.group(0)):]\n",
    "        df.at[index, 'Text'] = text_without_speaker\n",
    "    else:\n",
    "        # Handle the case when no match is found (optional)\n",
    "        #df.at[index, 'Speaker'] = ''  # Set a default value\n",
    "        pass\n",
    "\n",
    "df['Speaker'].ffill(inplace=True)\n",
    "\n",
    "print('Number of turns:', df.shape[0])\n",
    "\n",
    "debate_list.append(title)\n",
    "turn_list.append(df.shape[0])\n",
    "\n",
    "df[['Title', 'Debate', 'Date', 'Participants', 'Moderators', 'Speaker', 'Text']].to_json(f'{debate_title}.jsonl', orient='records', lines=True)\n",
    "\n",
    "df[['Title', 'Debate', 'Date', 'Participants', 'Moderators', 'Speaker', 'Text']].to_csv(f'{debate_title}.tsv', sep='\\t', index=False, encoding='utf-8', lineterminator='\\n')"
   ]
  },
  {
   "cell_type": "markdown",
   "id": "53d9a50e-7736-443f-a14a-28f427ec1c13",
   "metadata": {},
   "source": [
    "## Debate 15"
   ]
  },
  {
   "cell_type": "code",
   "execution_count": 217,
   "id": "4f34711c-1da4-4622-91f7-759d7be5054d",
   "metadata": {},
   "outputs": [],
   "source": [
    "debate_title = debate_15\n",
    "url = debate_url_15\n",
    "response = requests.get(url)\n",
    "\n",
    "if response.status_code == 200:\n",
    "    page_content = response.content\n",
    "    # Step 2: Parse HTML content\n",
    "    soup = BeautifulSoup(page_content, 'lxml')\n",
    "\n",
    "    # Extract relevant tags (e.g., <h1>, <p>, etc.) and store them in a list\n",
    "    rows = []\n",
    "    for tag in soup.find_all(['h1', 'p']):\n",
    "        rows.append(tag.text.strip())  # Remove leading/trailing spaces\n",
    "    \n",
    "    # Create a DataFrame from the list of rows\n",
    "    df = pd.DataFrame(rows, columns=['Text'])\n",
    "\n",
    "else:\n",
    "    print(f'Failed to retrieve the page. Status code: {response.status_code}')"
   ]
  },
  {
   "cell_type": "code",
   "execution_count": 218,
   "id": "2251899b-e3b1-4be5-a7cd-893167b483c8",
   "metadata": {},
   "outputs": [
    {
     "data": {
      "text/html": [
       "<div>\n",
       "<style scoped>\n",
       "    .dataframe tbody tr th:only-of-type {\n",
       "        vertical-align: middle;\n",
       "    }\n",
       "\n",
       "    .dataframe tbody tr th {\n",
       "        vertical-align: top;\n",
       "    }\n",
       "\n",
       "    .dataframe thead th {\n",
       "        text-align: right;\n",
       "    }\n",
       "</style>\n",
       "<table border=\"1\" class=\"dataframe\">\n",
       "  <thead>\n",
       "    <tr style=\"text-align: right;\">\n",
       "      <th></th>\n",
       "      <th>Text</th>\n",
       "    </tr>\n",
       "  </thead>\n",
       "  <tbody>\n",
       "    <tr>\n",
       "      <th>0</th>\n",
       "      <td>October 15, 2008 Debate Transcript</td>\n",
       "    </tr>\n",
       "    <tr>\n",
       "      <th>1</th>\n",
       "      <td>October 15, 2008</td>\n",
       "    </tr>\n",
       "    <tr>\n",
       "      <th>2</th>\n",
       "      <td>The Third McCain-Obama Presidential Debate</td>\n",
       "    </tr>\n",
       "    <tr>\n",
       "      <th>3</th>\n",
       "      <td>SENS. MCCAIN AND OBAMA PARTICIPATE IN A PRESID...</td>\n",
       "    </tr>\n",
       "    <tr>\n",
       "      <th>4</th>\n",
       "      <td>SPEAKERS:</td>\n",
       "    </tr>\n",
       "    <tr>\n",
       "      <th>...</th>\n",
       "      <td>...</td>\n",
       "    </tr>\n",
       "    <tr>\n",
       "      <th>485</th>\n",
       "      <td>SCHIEFFER: Senator Obama, Senator McCain, than...</td>\n",
       "    </tr>\n",
       "    <tr>\n",
       "      <th>486</th>\n",
       "      <td>This concludes the final debate. I’m Bob Schie...</td>\n",
       "    </tr>\n",
       "    <tr>\n",
       "      <th>487</th>\n",
       "      <td>END</td>\n",
       "    </tr>\n",
       "    <tr>\n",
       "      <th>488</th>\n",
       "      <td>Transcription by: CQ Transcriptions/Morningside</td>\n",
       "    </tr>\n",
       "    <tr>\n",
       "      <th>489</th>\n",
       "      <td>© COPYRIGHT 2020 THE COMMISSION ON PRESIDENTIA...</td>\n",
       "    </tr>\n",
       "  </tbody>\n",
       "</table>\n",
       "<p>490 rows × 1 columns</p>\n",
       "</div>"
      ],
      "text/plain": [
       "                                                  Text\n",
       "0                   October 15, 2008 Debate Transcript\n",
       "1                                     October 15, 2008\n",
       "2           The Third McCain-Obama Presidential Debate\n",
       "3    SENS. MCCAIN AND OBAMA PARTICIPATE IN A PRESID...\n",
       "4                                            SPEAKERS:\n",
       "..                                                 ...\n",
       "485  SCHIEFFER: Senator Obama, Senator McCain, than...\n",
       "486  This concludes the final debate. I’m Bob Schie...\n",
       "487                                                END\n",
       "488    Transcription by: CQ Transcriptions/Morningside\n",
       "489  © COPYRIGHT 2020 THE COMMISSION ON PRESIDENTIA...\n",
       "\n",
       "[490 rows x 1 columns]"
      ]
     },
     "execution_count": 218,
     "metadata": {},
     "output_type": "execute_result"
    }
   ],
   "source": [
    "df"
   ]
  },
  {
   "cell_type": "code",
   "execution_count": 219,
   "id": "89e3fb1c-c63d-4964-a9b7-d5a0bfc16d17",
   "metadata": {},
   "outputs": [],
   "source": [
    "df.drop([487, 488], inplace=True)\n",
    "df = df.reset_index(drop=True)"
   ]
  },
  {
   "cell_type": "code",
   "execution_count": 221,
   "id": "891d0daf-bc74-4c0c-8b31-ef8926c164cb",
   "metadata": {},
   "outputs": [
    {
     "data": {
      "text/html": [
       "<div>\n",
       "<style scoped>\n",
       "    .dataframe tbody tr th:only-of-type {\n",
       "        vertical-align: middle;\n",
       "    }\n",
       "\n",
       "    .dataframe tbody tr th {\n",
       "        vertical-align: top;\n",
       "    }\n",
       "\n",
       "    .dataframe thead th {\n",
       "        text-align: right;\n",
       "    }\n",
       "</style>\n",
       "<table border=\"1\" class=\"dataframe\">\n",
       "  <thead>\n",
       "    <tr style=\"text-align: right;\">\n",
       "      <th></th>\n",
       "      <th>Text</th>\n",
       "    </tr>\n",
       "  </thead>\n",
       "  <tbody>\n",
       "    <tr>\n",
       "      <th>0</th>\n",
       "      <td>October 15, 2008 Debate Transcript</td>\n",
       "    </tr>\n",
       "    <tr>\n",
       "      <th>1</th>\n",
       "      <td>October 15, 2008</td>\n",
       "    </tr>\n",
       "    <tr>\n",
       "      <th>2</th>\n",
       "      <td>The Third McCain-Obama Presidential Debate</td>\n",
       "    </tr>\n",
       "    <tr>\n",
       "      <th>3</th>\n",
       "      <td>SENS. MCCAIN AND OBAMA PARTICIPATE IN A PRESID...</td>\n",
       "    </tr>\n",
       "    <tr>\n",
       "      <th>4</th>\n",
       "      <td>SPEAKERS:</td>\n",
       "    </tr>\n",
       "    <tr>\n",
       "      <th>...</th>\n",
       "      <td>...</td>\n",
       "    </tr>\n",
       "    <tr>\n",
       "      <th>483</th>\n",
       "      <td>I’m absolutely convinced we can do it. I would...</td>\n",
       "    </tr>\n",
       "    <tr>\n",
       "      <th>484</th>\n",
       "      <td>Thank you very much.</td>\n",
       "    </tr>\n",
       "    <tr>\n",
       "      <th>485</th>\n",
       "      <td>SCHIEFFER: Senator Obama, Senator McCain, than...</td>\n",
       "    </tr>\n",
       "    <tr>\n",
       "      <th>486</th>\n",
       "      <td>This concludes the final debate. I’m Bob Schie...</td>\n",
       "    </tr>\n",
       "    <tr>\n",
       "      <th>487</th>\n",
       "      <td>© COPYRIGHT 2020 THE COMMISSION ON PRESIDENTIA...</td>\n",
       "    </tr>\n",
       "  </tbody>\n",
       "</table>\n",
       "<p>488 rows × 1 columns</p>\n",
       "</div>"
      ],
      "text/plain": [
       "                                                  Text\n",
       "0                   October 15, 2008 Debate Transcript\n",
       "1                                     October 15, 2008\n",
       "2           The Third McCain-Obama Presidential Debate\n",
       "3    SENS. MCCAIN AND OBAMA PARTICIPATE IN A PRESID...\n",
       "4                                            SPEAKERS:\n",
       "..                                                 ...\n",
       "483  I’m absolutely convinced we can do it. I would...\n",
       "484                               Thank you very much.\n",
       "485  SCHIEFFER: Senator Obama, Senator McCain, than...\n",
       "486  This concludes the final debate. I’m Bob Schie...\n",
       "487  © COPYRIGHT 2020 THE COMMISSION ON PRESIDENTIA...\n",
       "\n",
       "[488 rows x 1 columns]"
      ]
     },
     "execution_count": 221,
     "metadata": {},
     "output_type": "execute_result"
    }
   ],
   "source": [
    "df"
   ]
  },
  {
   "cell_type": "code",
   "execution_count": 220,
   "id": "d5786d4f-0184-4c3a-82e9-9997b3776d4f",
   "metadata": {},
   "outputs": [
    {
     "data": {
      "text/html": [
       "<div>\n",
       "<style scoped>\n",
       "    .dataframe tbody tr th:only-of-type {\n",
       "        vertical-align: middle;\n",
       "    }\n",
       "\n",
       "    .dataframe tbody tr th {\n",
       "        vertical-align: top;\n",
       "    }\n",
       "\n",
       "    .dataframe thead th {\n",
       "        text-align: right;\n",
       "    }\n",
       "</style>\n",
       "<table border=\"1\" class=\"dataframe\">\n",
       "  <thead>\n",
       "    <tr style=\"text-align: right;\">\n",
       "      <th></th>\n",
       "      <th>Text</th>\n",
       "    </tr>\n",
       "  </thead>\n",
       "  <tbody>\n",
       "    <tr>\n",
       "      <th>0</th>\n",
       "      <td>October 15, 2008 Debate Transcript</td>\n",
       "    </tr>\n",
       "    <tr>\n",
       "      <th>1</th>\n",
       "      <td>October 15, 2008</td>\n",
       "    </tr>\n",
       "    <tr>\n",
       "      <th>2</th>\n",
       "      <td>The Third McCain-Obama Presidential Debate</td>\n",
       "    </tr>\n",
       "    <tr>\n",
       "      <th>3</th>\n",
       "      <td>SENS. MCCAIN AND OBAMA PARTICIPATE IN A PRESID...</td>\n",
       "    </tr>\n",
       "    <tr>\n",
       "      <th>4</th>\n",
       "      <td>SPEAKERS:</td>\n",
       "    </tr>\n",
       "    <tr>\n",
       "      <th>5</th>\n",
       "      <td>U.S. SENATOR JOHN MCCAIN (AZ)REPUBLICAN PRESID...</td>\n",
       "    </tr>\n",
       "    <tr>\n",
       "      <th>6</th>\n",
       "      <td>U. S. SENATOR BARACK OBAMA (IL)DEMOCRATIC PRES...</td>\n",
       "    </tr>\n",
       "    <tr>\n",
       "      <th>7</th>\n",
       "      <td>BOB SCHIEFFER, MODERATOR</td>\n",
       "    </tr>\n",
       "    <tr>\n",
       "      <th>8</th>\n",
       "      <td>[*] SCHIEFFER: Good evening. And welcome to th...</td>\n",
       "    </tr>\n",
       "    <tr>\n",
       "      <th>9</th>\n",
       "      <td>The rules tonight are simple. The subject is d...</td>\n",
       "    </tr>\n",
       "  </tbody>\n",
       "</table>\n",
       "</div>"
      ],
      "text/plain": [
       "                                                Text\n",
       "0                 October 15, 2008 Debate Transcript\n",
       "1                                   October 15, 2008\n",
       "2         The Third McCain-Obama Presidential Debate\n",
       "3  SENS. MCCAIN AND OBAMA PARTICIPATE IN A PRESID...\n",
       "4                                          SPEAKERS:\n",
       "5  U.S. SENATOR JOHN MCCAIN (AZ)REPUBLICAN PRESID...\n",
       "6  U. S. SENATOR BARACK OBAMA (IL)DEMOCRATIC PRES...\n",
       "7                           BOB SCHIEFFER, MODERATOR\n",
       "8  [*] SCHIEFFER: Good evening. And welcome to th...\n",
       "9  The rules tonight are simple. The subject is d..."
      ]
     },
     "execution_count": 220,
     "metadata": {},
     "output_type": "execute_result"
    }
   ],
   "source": [
    "df.head(10)"
   ]
  },
  {
   "cell_type": "code",
   "execution_count": 225,
   "id": "8aec2931-7523-4188-827f-67ae9f5a62df",
   "metadata": {},
   "outputs": [],
   "source": [
    "df.loc[8, 'Text'] = re.sub(r'^\\[\\*\\] ', '', df.loc[8, 'Text'])"
   ]
  },
  {
   "cell_type": "code",
   "execution_count": 222,
   "id": "c78abbc7-ef46-47ea-ba87-407ec2d238d0",
   "metadata": {},
   "outputs": [],
   "source": [
    "title = df.at[0, 'Text']\n",
    "df['Title'] = title\n",
    "\n",
    "debate = df.at[2, 'Text']\n",
    "df['Debate'] = debate\n",
    "\n",
    "date = df.at[1, 'Text']\n",
    "df['Date'] = date\n",
    "\n",
    "participants = df.at[5, 'Text'] + ' ' + df.at[6, 'Text']\n",
    "#participants = re.sub(r'^\\w+:\\n', '', participants)\n",
    "#participants = re.sub(r'\\n', ' ', participants)\n",
    "df['Participants'] = participants\n",
    "\n",
    "moderators = df.at[7, 'Text']\n",
    "moderators = re.sub(r', \\w+$', '', moderators)\n",
    "#moderators = re.sub(r'^\\w+:\\n', '', moderators)\n",
    "df['Moderators'] = moderators"
   ]
  },
  {
   "cell_type": "code",
   "execution_count": 223,
   "id": "6ace5a9f-d427-4232-a6db-19f137aa2009",
   "metadata": {},
   "outputs": [
    {
     "data": {
      "text/plain": [
       "'© COPYRIGHT 2020 THE COMMISSION ON PRESIDENTIAL DEBATES. ALL RIGHTS RESERVED.'"
      ]
     },
     "execution_count": 223,
     "metadata": {},
     "output_type": "execute_result"
    }
   ],
   "source": [
    "last_row = 487\n",
    "df.loc[last_row, 'Text']"
   ]
  },
  {
   "cell_type": "code",
   "execution_count": 224,
   "id": "fd005369-8eb3-4e92-9986-e0f776ed85d0",
   "metadata": {},
   "outputs": [],
   "source": [
    "df = df[~df['Text'].str.contains(df.loc[last_row, 'Text'])]"
   ]
  },
  {
   "cell_type": "code",
   "execution_count": 226,
   "id": "1c8334c6-f7cc-4bbe-a8d3-7be98441b9dc",
   "metadata": {},
   "outputs": [],
   "source": [
    "df = df.loc[8:]\n",
    "df = df.reset_index(drop=True)"
   ]
  },
  {
   "cell_type": "code",
   "execution_count": 227,
   "id": "3660abd5-8745-4e90-82a8-1266a9f93bd1",
   "metadata": {},
   "outputs": [
    {
     "data": {
      "text/plain": [
       "Text\n",
       "False    477\n",
       "True       2\n",
       "Name: count, dtype: int64"
      ]
     },
     "execution_count": 227,
     "metadata": {},
     "output_type": "execute_result"
    }
   ],
   "source": [
    "# List of expressions whose rows in column 'Text' should be dropped\n",
    "expressions_to_drop = ['(APPLAUSE)', '(LAUGHTER)', '(CROSSTALK)']\n",
    "\n",
    "# Creating a boolean mask for rows starting with the specified expressions\n",
    "mask = df['Text'].str.startswith(tuple(expressions_to_drop))\n",
    "\n",
    "# Counting the number of rows for each expression\n",
    "counts = mask.value_counts()\n",
    "\n",
    "# Display the counts\n",
    "counts"
   ]
  },
  {
   "cell_type": "code",
   "execution_count": 228,
   "id": "cc3acc67-de6a-4941-97b5-7a318e24cea2",
   "metadata": {},
   "outputs": [],
   "source": [
    "# Dropping the rows that start with those expressions in column 'Text'\n",
    "df = df[~mask]\n",
    "df = df.reset_index(drop=True)"
   ]
  },
  {
   "cell_type": "code",
   "execution_count": 229,
   "id": "91115274-cb63-4d96-8828-3d02d95c0f7e",
   "metadata": {},
   "outputs": [
    {
     "data": {
      "text/html": [
       "<div>\n",
       "<style scoped>\n",
       "    .dataframe tbody tr th:only-of-type {\n",
       "        vertical-align: middle;\n",
       "    }\n",
       "\n",
       "    .dataframe tbody tr th {\n",
       "        vertical-align: top;\n",
       "    }\n",
       "\n",
       "    .dataframe thead th {\n",
       "        text-align: right;\n",
       "    }\n",
       "</style>\n",
       "<table border=\"1\" class=\"dataframe\">\n",
       "  <thead>\n",
       "    <tr style=\"text-align: right;\">\n",
       "      <th></th>\n",
       "      <th>Text</th>\n",
       "      <th>Title</th>\n",
       "      <th>Debate</th>\n",
       "      <th>Date</th>\n",
       "      <th>Participants</th>\n",
       "      <th>Moderators</th>\n",
       "    </tr>\n",
       "  </thead>\n",
       "  <tbody>\n",
       "    <tr>\n",
       "      <th>0</th>\n",
       "      <td>SCHIEFFER: Good evening. And welcome to the th...</td>\n",
       "      <td>October 15, 2008 Debate Transcript</td>\n",
       "      <td>The Third McCain-Obama Presidential Debate</td>\n",
       "      <td>October 15, 2008</td>\n",
       "      <td>U.S. SENATOR JOHN MCCAIN (AZ)REPUBLICAN PRESID...</td>\n",
       "      <td>BOB SCHIEFFER</td>\n",
       "    </tr>\n",
       "  </tbody>\n",
       "</table>\n",
       "</div>"
      ],
      "text/plain": [
       "                                                Text  \\\n",
       "0  SCHIEFFER: Good evening. And welcome to the th...   \n",
       "\n",
       "                                Title  \\\n",
       "0  October 15, 2008 Debate Transcript   \n",
       "\n",
       "                                       Debate              Date  \\\n",
       "0  The Third McCain-Obama Presidential Debate  October 15, 2008   \n",
       "\n",
       "                                        Participants     Moderators  \n",
       "0  U.S. SENATOR JOHN MCCAIN (AZ)REPUBLICAN PRESID...  BOB SCHIEFFER  "
      ]
     },
     "execution_count": 229,
     "metadata": {},
     "output_type": "execute_result"
    }
   ],
   "source": [
    "df.head(1)"
   ]
  },
  {
   "cell_type": "code",
   "execution_count": 230,
   "id": "3532cd18-59c0-408f-993c-93839f4d240d",
   "metadata": {},
   "outputs": [
    {
     "data": {
      "text/plain": [
       "'SCHIEFFER: Good evening. And welcome to the third and last presidential debate of 2008, sponsored by the Commission on Presidential Debates. I’m Bob Schieffer of CBS News.'"
      ]
     },
     "execution_count": 230,
     "metadata": {},
     "output_type": "execute_result"
    }
   ],
   "source": [
    "df.loc[0, 'Text']"
   ]
  },
  {
   "cell_type": "code",
   "execution_count": 231,
   "id": "4c1aa7de-ddf8-4e68-8061-ee2b799dc00a",
   "metadata": {},
   "outputs": [
    {
     "name": "stdout",
     "output_type": "stream",
     "text": [
      "Number of turns: 477\n"
     ]
    }
   ],
   "source": [
    "df.at[0, 'Speaker'] = 1 # Adding column 'Speaker' by initialising it with a numeric value in order to avoid DtypeWarning\n",
    "df = df.astype('object') # Converting the column to the desired data type\n",
    "\n",
    "for index, row in df.iterrows():\n",
    "    match = re.match(r'^(\\w+): ', row['Text'])\n",
    "    if match:\n",
    "        speaker = match.group(1)\n",
    "        df.at[index, 'Speaker'] = speaker\n",
    "        text_without_speaker = row['Text'][len(match.group(0)):]\n",
    "        df.at[index, 'Text'] = text_without_speaker\n",
    "    else:\n",
    "        # Handle the case when no match is found (optional)\n",
    "        #df.at[index, 'Speaker'] = ''  # Set a default value\n",
    "        pass\n",
    "\n",
    "df['Speaker'].ffill(inplace=True)\n",
    "\n",
    "print('Number of turns:', df.shape[0])\n",
    "\n",
    "debate_list.append(title)\n",
    "turn_list.append(df.shape[0])\n",
    "\n",
    "df[['Title', 'Debate', 'Date', 'Participants', 'Moderators', 'Speaker', 'Text']].to_json(f'{debate_title}.jsonl', orient='records', lines=True)\n",
    "\n",
    "df[['Title', 'Debate', 'Date', 'Participants', 'Moderators', 'Speaker', 'Text']].to_csv(f'{debate_title}.tsv', sep='\\t', index=False, encoding='utf-8', lineterminator='\\n')"
   ]
  },
  {
   "cell_type": "markdown",
   "id": "97b054ef-3422-4cd0-bdc1-957eae66d7ce",
   "metadata": {},
   "source": [
    "## Debate 16"
   ]
  },
  {
   "cell_type": "code",
   "execution_count": 245,
   "id": "dc7ae5ae-3000-44ea-9036-6a6074608f47",
   "metadata": {},
   "outputs": [],
   "source": [
    "debate_title = debate_16\n",
    "url = debate_url_16\n",
    "response = requests.get(url)\n",
    "\n",
    "if response.status_code == 200:\n",
    "    page_content = response.content\n",
    "    # Step 2: Parse HTML content\n",
    "    soup = BeautifulSoup(page_content, 'lxml')\n",
    "\n",
    "    # Extract relevant tags (e.g., <h1>, <p>, etc.) and store them in a list\n",
    "    rows = []\n",
    "    for tag in soup.find_all(['h1', 'p']):\n",
    "        rows.append(tag.text.strip())  # Remove leading/trailing spaces\n",
    "    \n",
    "    # Create a DataFrame from the list of rows\n",
    "    df = pd.DataFrame(rows, columns=['Text'])\n",
    "\n",
    "else:\n",
    "    print(f'Failed to retrieve the page. Status code: {response.status_code}')"
   ]
  },
  {
   "cell_type": "code",
   "execution_count": 246,
   "id": "c47f3935-465a-4c32-baa4-d908054ba608",
   "metadata": {},
   "outputs": [
    {
     "data": {
      "text/html": [
       "<div>\n",
       "<style scoped>\n",
       "    .dataframe tbody tr th:only-of-type {\n",
       "        vertical-align: middle;\n",
       "    }\n",
       "\n",
       "    .dataframe tbody tr th {\n",
       "        vertical-align: top;\n",
       "    }\n",
       "\n",
       "    .dataframe thead th {\n",
       "        text-align: right;\n",
       "    }\n",
       "</style>\n",
       "<table border=\"1\" class=\"dataframe\">\n",
       "  <thead>\n",
       "    <tr style=\"text-align: right;\">\n",
       "      <th></th>\n",
       "      <th>Text</th>\n",
       "    </tr>\n",
       "  </thead>\n",
       "  <tbody>\n",
       "    <tr>\n",
       "      <th>0</th>\n",
       "      <td>October 13, 2004 Debate Transcript</td>\n",
       "    </tr>\n",
       "    <tr>\n",
       "      <th>1</th>\n",
       "      <td>October 13, 2004</td>\n",
       "    </tr>\n",
       "    <tr>\n",
       "      <th>2</th>\n",
       "      <td>The Third Bush-Kerry Presidential Debate</td>\n",
       "    </tr>\n",
       "    <tr>\n",
       "      <th>3</th>\n",
       "      <td>THIRD PRESIDENTIAL CANDIDATES’ DEBATEARIZONA S...</td>\n",
       "    </tr>\n",
       "    <tr>\n",
       "      <th>4</th>\n",
       "      <td>SPEAKERS:</td>\n",
       "    </tr>\n",
       "    <tr>\n",
       "      <th>...</th>\n",
       "      <td>...</td>\n",
       "    </tr>\n",
       "    <tr>\n",
       "      <th>536</th>\n",
       "      <td>I want to wish both of you the very best of lu...</td>\n",
       "    </tr>\n",
       "    <tr>\n",
       "      <th>537</th>\n",
       "      <td>That’s it for us from Arizona State University...</td>\n",
       "    </tr>\n",
       "    <tr>\n",
       "      <th>538</th>\n",
       "      <td>Goodnight, everyone.</td>\n",
       "    </tr>\n",
       "    <tr>\n",
       "      <th>539</th>\n",
       "      <td>(APPLAUSE)</td>\n",
       "    </tr>\n",
       "    <tr>\n",
       "      <th>540</th>\n",
       "      <td>© COPYRIGHT 2020 THE COMMISSION ON PRESIDENTIA...</td>\n",
       "    </tr>\n",
       "  </tbody>\n",
       "</table>\n",
       "<p>541 rows × 1 columns</p>\n",
       "</div>"
      ],
      "text/plain": [
       "                                                  Text\n",
       "0                   October 13, 2004 Debate Transcript\n",
       "1                                     October 13, 2004\n",
       "2             The Third Bush-Kerry Presidential Debate\n",
       "3    THIRD PRESIDENTIAL CANDIDATES’ DEBATEARIZONA S...\n",
       "4                                            SPEAKERS:\n",
       "..                                                 ...\n",
       "536  I want to wish both of you the very best of lu...\n",
       "537  That’s it for us from Arizona State University...\n",
       "538                               Goodnight, everyone.\n",
       "539                                         (APPLAUSE)\n",
       "540  © COPYRIGHT 2020 THE COMMISSION ON PRESIDENTIA...\n",
       "\n",
       "[541 rows x 1 columns]"
      ]
     },
     "execution_count": 246,
     "metadata": {},
     "output_type": "execute_result"
    }
   ],
   "source": [
    "df"
   ]
  },
  {
   "cell_type": "code",
   "execution_count": 247,
   "id": "04de09e9-4d1f-4221-a167-8b037ffdf7dd",
   "metadata": {},
   "outputs": [
    {
     "data": {
      "text/html": [
       "<div>\n",
       "<style scoped>\n",
       "    .dataframe tbody tr th:only-of-type {\n",
       "        vertical-align: middle;\n",
       "    }\n",
       "\n",
       "    .dataframe tbody tr th {\n",
       "        vertical-align: top;\n",
       "    }\n",
       "\n",
       "    .dataframe thead th {\n",
       "        text-align: right;\n",
       "    }\n",
       "</style>\n",
       "<table border=\"1\" class=\"dataframe\">\n",
       "  <thead>\n",
       "    <tr style=\"text-align: right;\">\n",
       "      <th></th>\n",
       "      <th>Text</th>\n",
       "    </tr>\n",
       "  </thead>\n",
       "  <tbody>\n",
       "    <tr>\n",
       "      <th>0</th>\n",
       "      <td>October 13, 2004 Debate Transcript</td>\n",
       "    </tr>\n",
       "    <tr>\n",
       "      <th>1</th>\n",
       "      <td>October 13, 2004</td>\n",
       "    </tr>\n",
       "    <tr>\n",
       "      <th>2</th>\n",
       "      <td>The Third Bush-Kerry Presidential Debate</td>\n",
       "    </tr>\n",
       "    <tr>\n",
       "      <th>3</th>\n",
       "      <td>THIRD PRESIDENTIAL CANDIDATES’ DEBATEARIZONA S...</td>\n",
       "    </tr>\n",
       "    <tr>\n",
       "      <th>4</th>\n",
       "      <td>SPEAKERS:</td>\n",
       "    </tr>\n",
       "    <tr>\n",
       "      <th>5</th>\n",
       "      <td>GEORGE W. BUSHPRESIDENT OF THE UNITED STATES</td>\n",
       "    </tr>\n",
       "    <tr>\n",
       "      <th>6</th>\n",
       "      <td>U. S. SENATOR JOHN F. KERRY (MA)DEMOCRATIC PRE...</td>\n",
       "    </tr>\n",
       "    <tr>\n",
       "      <th>7</th>\n",
       "      <td>BOB SCHIEFFERCBS ANCHOR</td>\n",
       "    </tr>\n",
       "    <tr>\n",
       "      <th>8</th>\n",
       "      <td>SCHIEFFER: Good evening from Arizona State Uni...</td>\n",
       "    </tr>\n",
       "    <tr>\n",
       "      <th>9</th>\n",
       "      <td>As Jim Lehrer told you before the first one, t...</td>\n",
       "    </tr>\n",
       "  </tbody>\n",
       "</table>\n",
       "</div>"
      ],
      "text/plain": [
       "                                                Text\n",
       "0                 October 13, 2004 Debate Transcript\n",
       "1                                   October 13, 2004\n",
       "2           The Third Bush-Kerry Presidential Debate\n",
       "3  THIRD PRESIDENTIAL CANDIDATES’ DEBATEARIZONA S...\n",
       "4                                          SPEAKERS:\n",
       "5       GEORGE W. BUSHPRESIDENT OF THE UNITED STATES\n",
       "6  U. S. SENATOR JOHN F. KERRY (MA)DEMOCRATIC PRE...\n",
       "7                            BOB SCHIEFFERCBS ANCHOR\n",
       "8  SCHIEFFER: Good evening from Arizona State Uni...\n",
       "9  As Jim Lehrer told you before the first one, t..."
      ]
     },
     "execution_count": 247,
     "metadata": {},
     "output_type": "execute_result"
    }
   ],
   "source": [
    "df.head(10)"
   ]
  },
  {
   "cell_type": "code",
   "execution_count": 248,
   "id": "ef8c34a9-9670-4e4c-a582-420d648d3f44",
   "metadata": {},
   "outputs": [],
   "source": [
    "title = df.at[0, 'Text']\n",
    "df['Title'] = title\n",
    "\n",
    "debate = df.at[2, 'Text']\n",
    "df['Debate'] = debate\n",
    "\n",
    "date = df.at[1, 'Text']\n",
    "df['Date'] = date\n",
    "\n",
    "participants = df.at[5, 'Text'] + ' ' + df.at[6, 'Text']\n",
    "#participants = re.sub(r'^\\w+:\\n', '', participants)\n",
    "#participants = re.sub(r'\\n', ' ', participants)\n",
    "df['Participants'] = participants\n",
    "\n",
    "moderators = df.at[7, 'Text']\n",
    "moderators = re.match(r'^(\\w+ \\w{9})', moderators).group(1)\n",
    "#moderators = re.sub(r'^\\w+:\\n', '', moderators)\n",
    "df['Moderators'] = moderators"
   ]
  },
  {
   "cell_type": "code",
   "execution_count": 249,
   "id": "f59ac2fd-77ce-4cd4-85f4-03cee3ae9c0f",
   "metadata": {},
   "outputs": [
    {
     "data": {
      "text/plain": [
       "'© COPYRIGHT 2020 THE COMMISSION ON PRESIDENTIAL DEBATES. ALL RIGHTS RESERVED.'"
      ]
     },
     "execution_count": 249,
     "metadata": {},
     "output_type": "execute_result"
    }
   ],
   "source": [
    "last_row = 540\n",
    "df.loc[last_row, 'Text']"
   ]
  },
  {
   "cell_type": "code",
   "execution_count": 250,
   "id": "5e1e6e7f-19ff-46ce-9817-92ead33b46bf",
   "metadata": {},
   "outputs": [],
   "source": [
    "df = df[~df['Text'].str.contains(df.loc[last_row, 'Text'])]"
   ]
  },
  {
   "cell_type": "code",
   "execution_count": 251,
   "id": "33e9292c-7f0a-42af-a765-7dfe2a0a2758",
   "metadata": {},
   "outputs": [],
   "source": [
    "df = df.loc[8:]\n",
    "df = df.reset_index(drop=True)"
   ]
  },
  {
   "cell_type": "code",
   "execution_count": 252,
   "id": "cd8dea35-d8cf-4c81-a720-aa72c155b09b",
   "metadata": {},
   "outputs": [
    {
     "data": {
      "text/plain": [
       "Text\n",
       "False    524\n",
       "True       8\n",
       "Name: count, dtype: int64"
      ]
     },
     "execution_count": 252,
     "metadata": {},
     "output_type": "execute_result"
    }
   ],
   "source": [
    "# List of expressions whose rows in column 'Text' should be dropped\n",
    "expressions_to_drop = ['(APPLAUSE)', '(LAUGHTER)', '(CROSSTALK)']\n",
    "\n",
    "# Creating a boolean mask for rows starting with the specified expressions\n",
    "mask = df['Text'].str.startswith(tuple(expressions_to_drop))\n",
    "\n",
    "# Counting the number of rows for each expression\n",
    "counts = mask.value_counts()\n",
    "\n",
    "# Display the counts\n",
    "counts"
   ]
  },
  {
   "cell_type": "code",
   "execution_count": 253,
   "id": "d1036f23-4af1-4bef-a065-cbc06c1bfe5e",
   "metadata": {},
   "outputs": [],
   "source": [
    "# Dropping the rows that start with those expressions in column 'Text'\n",
    "df = df[~mask]\n",
    "df = df.reset_index(drop=True)"
   ]
  },
  {
   "cell_type": "code",
   "execution_count": 254,
   "id": "089a3ad4-38e9-4330-8bb8-a1c580170161",
   "metadata": {},
   "outputs": [
    {
     "data": {
      "text/html": [
       "<div>\n",
       "<style scoped>\n",
       "    .dataframe tbody tr th:only-of-type {\n",
       "        vertical-align: middle;\n",
       "    }\n",
       "\n",
       "    .dataframe tbody tr th {\n",
       "        vertical-align: top;\n",
       "    }\n",
       "\n",
       "    .dataframe thead th {\n",
       "        text-align: right;\n",
       "    }\n",
       "</style>\n",
       "<table border=\"1\" class=\"dataframe\">\n",
       "  <thead>\n",
       "    <tr style=\"text-align: right;\">\n",
       "      <th></th>\n",
       "      <th>Text</th>\n",
       "      <th>Title</th>\n",
       "      <th>Debate</th>\n",
       "      <th>Date</th>\n",
       "      <th>Participants</th>\n",
       "      <th>Moderators</th>\n",
       "    </tr>\n",
       "  </thead>\n",
       "  <tbody>\n",
       "    <tr>\n",
       "      <th>0</th>\n",
       "      <td>SCHIEFFER: Good evening from Arizona State Uni...</td>\n",
       "      <td>October 13, 2004 Debate Transcript</td>\n",
       "      <td>The Third Bush-Kerry Presidential Debate</td>\n",
       "      <td>October 13, 2004</td>\n",
       "      <td>GEORGE W. BUSHPRESIDENT OF THE UNITED STATES U...</td>\n",
       "      <td>BOB SCHIEFFER</td>\n",
       "    </tr>\n",
       "  </tbody>\n",
       "</table>\n",
       "</div>"
      ],
      "text/plain": [
       "                                                Text  \\\n",
       "0  SCHIEFFER: Good evening from Arizona State Uni...   \n",
       "\n",
       "                                Title  \\\n",
       "0  October 13, 2004 Debate Transcript   \n",
       "\n",
       "                                     Debate              Date  \\\n",
       "0  The Third Bush-Kerry Presidential Debate  October 13, 2004   \n",
       "\n",
       "                                        Participants     Moderators  \n",
       "0  GEORGE W. BUSHPRESIDENT OF THE UNITED STATES U...  BOB SCHIEFFER  "
      ]
     },
     "execution_count": 254,
     "metadata": {},
     "output_type": "execute_result"
    }
   ],
   "source": [
    "df.head(1)"
   ]
  },
  {
   "cell_type": "code",
   "execution_count": 255,
   "id": "2e28f004-e70b-4605-b423-b91c2c8da1b6",
   "metadata": {},
   "outputs": [
    {
     "data": {
      "text/plain": [
       "'SCHIEFFER: Good evening from Arizona State University in Tempe, Arizona. I’m Bob Schieffer of CBS News. I want to welcome you to the third and last of the 2004 debates between President George Bush and Senator John Kerry.'"
      ]
     },
     "execution_count": 255,
     "metadata": {},
     "output_type": "execute_result"
    }
   ],
   "source": [
    "df.loc[0, 'Text']"
   ]
  },
  {
   "cell_type": "code",
   "execution_count": 256,
   "id": "9a496246-ce8d-44ed-b459-a0f87675a28a",
   "metadata": {},
   "outputs": [
    {
     "name": "stdout",
     "output_type": "stream",
     "text": [
      "Number of turns: 524\n"
     ]
    }
   ],
   "source": [
    "df.at[0, 'Speaker'] = 1 # Adding column 'Speaker' by initialising it with a numeric value in order to avoid DtypeWarning\n",
    "df = df.astype('object') # Converting the column to the desired data type\n",
    "\n",
    "for index, row in df.iterrows():\n",
    "    match = re.match(r'^(\\w+): ', row['Text'])\n",
    "    if match:\n",
    "        speaker = match.group(1)\n",
    "        df.at[index, 'Speaker'] = speaker\n",
    "        text_without_speaker = row['Text'][len(match.group(0)):]\n",
    "        df.at[index, 'Text'] = text_without_speaker\n",
    "    else:\n",
    "        # Handle the case when no match is found (optional)\n",
    "        #df.at[index, 'Speaker'] = ''  # Set a default value\n",
    "        pass\n",
    "\n",
    "df['Speaker'].ffill(inplace=True)\n",
    "\n",
    "print('Number of turns:', df.shape[0])\n",
    "\n",
    "debate_list.append(title)\n",
    "turn_list.append(df.shape[0])\n",
    "\n",
    "df[['Title', 'Debate', 'Date', 'Participants', 'Moderators', 'Speaker', 'Text']].to_json(f'{debate_title}.jsonl', orient='records', lines=True)\n",
    "\n",
    "df[['Title', 'Debate', 'Date', 'Participants', 'Moderators', 'Speaker', 'Text']].to_csv(f'{debate_title}.tsv', sep='\\t', index=False, encoding='utf-8', lineterminator='\\n')"
   ]
  },
  {
   "cell_type": "markdown",
   "id": "cbf06aaf-affd-494f-8bb5-a55e2e24f376",
   "metadata": {},
   "source": [
    "## Debate 17"
   ]
  },
  {
   "cell_type": "code",
   "execution_count": 257,
   "id": "aeb97ac9-ec91-4deb-9e78-818238f24586",
   "metadata": {},
   "outputs": [],
   "source": [
    "debate_title = debate_17\n",
    "url = debate_url_17\n",
    "response = requests.get(url)\n",
    "\n",
    "if response.status_code == 200:\n",
    "    page_content = response.content\n",
    "    # Step 2: Parse HTML content\n",
    "    soup = BeautifulSoup(page_content, 'lxml')\n",
    "\n",
    "    # Extract relevant tags (e.g., <h1>, <p>, etc.) and store them in a list\n",
    "    rows = []\n",
    "    for tag in soup.find_all(['h1', 'p']):\n",
    "        rows.append(tag.text.strip())  # Remove leading/trailing spaces\n",
    "    \n",
    "    # Create a DataFrame from the list of rows\n",
    "    df = pd.DataFrame(rows, columns=['Text'])\n",
    "\n",
    "else:\n",
    "    print(f'Failed to retrieve the page. Status code: {response.status_code}')"
   ]
  },
  {
   "cell_type": "code",
   "execution_count": 258,
   "id": "64594062-f733-4068-b595-d0442af99929",
   "metadata": {},
   "outputs": [
    {
     "data": {
      "text/html": [
       "<div>\n",
       "<style scoped>\n",
       "    .dataframe tbody tr th:only-of-type {\n",
       "        vertical-align: middle;\n",
       "    }\n",
       "\n",
       "    .dataframe tbody tr th {\n",
       "        vertical-align: top;\n",
       "    }\n",
       "\n",
       "    .dataframe thead th {\n",
       "        text-align: right;\n",
       "    }\n",
       "</style>\n",
       "<table border=\"1\" class=\"dataframe\">\n",
       "  <thead>\n",
       "    <tr style=\"text-align: right;\">\n",
       "      <th></th>\n",
       "      <th>Text</th>\n",
       "    </tr>\n",
       "  </thead>\n",
       "  <tbody>\n",
       "    <tr>\n",
       "      <th>0</th>\n",
       "      <td>October 8, 2004 Debate Transcript</td>\n",
       "    </tr>\n",
       "    <tr>\n",
       "      <th>1</th>\n",
       "      <td>October 8, 2004</td>\n",
       "    </tr>\n",
       "    <tr>\n",
       "      <th>2</th>\n",
       "      <td>The Second Bush-Kerry Presidential Debate</td>\n",
       "    </tr>\n",
       "    <tr>\n",
       "      <th>3</th>\n",
       "      <td>SECOND PRESIDENTIAL CANDIDATES’ DEBATEWASHINGT...</td>\n",
       "    </tr>\n",
       "    <tr>\n",
       "      <th>4</th>\n",
       "      <td>SPEAKERS:</td>\n",
       "    </tr>\n",
       "    <tr>\n",
       "      <th>...</th>\n",
       "      <td>...</td>\n",
       "    </tr>\n",
       "    <tr>\n",
       "      <th>679</th>\n",
       "      <td>Thank you also to everyone at Washington…</td>\n",
       "    </tr>\n",
       "    <tr>\n",
       "      <th>680</th>\n",
       "      <td>(APPLAUSE)</td>\n",
       "    </tr>\n",
       "    <tr>\n",
       "      <th>681</th>\n",
       "      <td>I want to thank everyone at Washington Univers...</td>\n",
       "    </tr>\n",
       "    <tr>\n",
       "      <th>682</th>\n",
       "      <td>I’m Charles Gibson from ABC News. From St. Lou...</td>\n",
       "    </tr>\n",
       "    <tr>\n",
       "      <th>683</th>\n",
       "      <td>© COPYRIGHT 2020 THE COMMISSION ON PRESIDENTIA...</td>\n",
       "    </tr>\n",
       "  </tbody>\n",
       "</table>\n",
       "<p>684 rows × 1 columns</p>\n",
       "</div>"
      ],
      "text/plain": [
       "                                                  Text\n",
       "0                    October 8, 2004 Debate Transcript\n",
       "1                                      October 8, 2004\n",
       "2            The Second Bush-Kerry Presidential Debate\n",
       "3    SECOND PRESIDENTIAL CANDIDATES’ DEBATEWASHINGT...\n",
       "4                                            SPEAKERS:\n",
       "..                                                 ...\n",
       "679          Thank you also to everyone at Washington…\n",
       "680                                         (APPLAUSE)\n",
       "681  I want to thank everyone at Washington Univers...\n",
       "682  I’m Charles Gibson from ABC News. From St. Lou...\n",
       "683  © COPYRIGHT 2020 THE COMMISSION ON PRESIDENTIA...\n",
       "\n",
       "[684 rows x 1 columns]"
      ]
     },
     "execution_count": 258,
     "metadata": {},
     "output_type": "execute_result"
    }
   ],
   "source": [
    "df"
   ]
  },
  {
   "cell_type": "code",
   "execution_count": 259,
   "id": "08ac0713-fd0c-4185-9df9-71cb3f2ddabe",
   "metadata": {},
   "outputs": [
    {
     "data": {
      "text/html": [
       "<div>\n",
       "<style scoped>\n",
       "    .dataframe tbody tr th:only-of-type {\n",
       "        vertical-align: middle;\n",
       "    }\n",
       "\n",
       "    .dataframe tbody tr th {\n",
       "        vertical-align: top;\n",
       "    }\n",
       "\n",
       "    .dataframe thead th {\n",
       "        text-align: right;\n",
       "    }\n",
       "</style>\n",
       "<table border=\"1\" class=\"dataframe\">\n",
       "  <thead>\n",
       "    <tr style=\"text-align: right;\">\n",
       "      <th></th>\n",
       "      <th>Text</th>\n",
       "    </tr>\n",
       "  </thead>\n",
       "  <tbody>\n",
       "    <tr>\n",
       "      <th>0</th>\n",
       "      <td>October 8, 2004 Debate Transcript</td>\n",
       "    </tr>\n",
       "    <tr>\n",
       "      <th>1</th>\n",
       "      <td>October 8, 2004</td>\n",
       "    </tr>\n",
       "    <tr>\n",
       "      <th>2</th>\n",
       "      <td>The Second Bush-Kerry Presidential Debate</td>\n",
       "    </tr>\n",
       "    <tr>\n",
       "      <th>3</th>\n",
       "      <td>SECOND PRESIDENTIAL CANDIDATES’ DEBATEWASHINGT...</td>\n",
       "    </tr>\n",
       "    <tr>\n",
       "      <th>4</th>\n",
       "      <td>SPEAKERS:</td>\n",
       "    </tr>\n",
       "    <tr>\n",
       "      <th>5</th>\n",
       "      <td>GEORGE W. BUSHPRESIDENT OF THE UNITED STATES</td>\n",
       "    </tr>\n",
       "    <tr>\n",
       "      <th>6</th>\n",
       "      <td>U.S. SENATOR JOHN F. KERRY (MA)DEMOCRATIC PRES...</td>\n",
       "    </tr>\n",
       "    <tr>\n",
       "      <th>7</th>\n",
       "      <td>CHARLES GIBSONABC ANCHOR</td>\n",
       "    </tr>\n",
       "    <tr>\n",
       "      <th>8</th>\n",
       "      <td>GIBSON: Good evening from the Field House at W...</td>\n",
       "    </tr>\n",
       "    <tr>\n",
       "      <th>9</th>\n",
       "      <td>I welcome you to the second of the 2004 presid...</td>\n",
       "    </tr>\n",
       "  </tbody>\n",
       "</table>\n",
       "</div>"
      ],
      "text/plain": [
       "                                                Text\n",
       "0                  October 8, 2004 Debate Transcript\n",
       "1                                    October 8, 2004\n",
       "2          The Second Bush-Kerry Presidential Debate\n",
       "3  SECOND PRESIDENTIAL CANDIDATES’ DEBATEWASHINGT...\n",
       "4                                          SPEAKERS:\n",
       "5       GEORGE W. BUSHPRESIDENT OF THE UNITED STATES\n",
       "6  U.S. SENATOR JOHN F. KERRY (MA)DEMOCRATIC PRES...\n",
       "7                           CHARLES GIBSONABC ANCHOR\n",
       "8  GIBSON: Good evening from the Field House at W...\n",
       "9  I welcome you to the second of the 2004 presid..."
      ]
     },
     "execution_count": 259,
     "metadata": {},
     "output_type": "execute_result"
    }
   ],
   "source": [
    "df.head(10)"
   ]
  },
  {
   "cell_type": "code",
   "execution_count": 260,
   "id": "5bd65219-b7df-4f2c-92b8-d4a8320b07ac",
   "metadata": {},
   "outputs": [],
   "source": [
    "title = df.at[0, 'Text']\n",
    "df['Title'] = title\n",
    "\n",
    "debate = df.at[2, 'Text']\n",
    "df['Debate'] = debate\n",
    "\n",
    "date = df.at[1, 'Text']\n",
    "df['Date'] = date\n",
    "\n",
    "participants = df.at[5, 'Text'] + ' ' + df.at[6, 'Text']\n",
    "#participants = re.sub(r'^\\w+:\\n', '', participants)\n",
    "#participants = re.sub(r'\\n', ' ', participants)\n",
    "df['Participants'] = participants\n",
    "\n",
    "moderators = df.at[7, 'Text']\n",
    "moderators = re.match(r'^(\\w+ \\w{6})', moderators).group(1)\n",
    "#moderators = re.sub(r'^\\w+:\\n', '', moderators)\n",
    "df['Moderators'] = moderators"
   ]
  },
  {
   "cell_type": "code",
   "execution_count": 261,
   "id": "7054319f-be3b-4159-bd2f-f8019e64addd",
   "metadata": {},
   "outputs": [
    {
     "data": {
      "text/plain": [
       "'© COPYRIGHT 2020 THE COMMISSION ON PRESIDENTIAL DEBATES. ALL RIGHTS RESERVED.'"
      ]
     },
     "execution_count": 261,
     "metadata": {},
     "output_type": "execute_result"
    }
   ],
   "source": [
    "last_row = 683\n",
    "df.loc[last_row, 'Text']"
   ]
  },
  {
   "cell_type": "code",
   "execution_count": 262,
   "id": "9836f86b-d428-4550-8ce5-f0bf24df3b74",
   "metadata": {},
   "outputs": [],
   "source": [
    "df = df[~df['Text'].str.contains(df.loc[last_row, 'Text'])]"
   ]
  },
  {
   "cell_type": "code",
   "execution_count": 263,
   "id": "b757664b-d989-4145-b01c-4d25bc39d874",
   "metadata": {},
   "outputs": [],
   "source": [
    "df = df.loc[8:]\n",
    "df = df.reset_index(drop=True)"
   ]
  },
  {
   "cell_type": "code",
   "execution_count": 264,
   "id": "2478ddad-ebf8-43b3-92ee-ce730942c99d",
   "metadata": {},
   "outputs": [
    {
     "data": {
      "text/plain": [
       "Text\n",
       "False    660\n",
       "True      15\n",
       "Name: count, dtype: int64"
      ]
     },
     "execution_count": 264,
     "metadata": {},
     "output_type": "execute_result"
    }
   ],
   "source": [
    "# List of expressions whose rows in column 'Text' should be dropped\n",
    "expressions_to_drop = ['(APPLAUSE)', '(LAUGHTER)', '(CROSSTALK)']\n",
    "\n",
    "# Creating a boolean mask for rows starting with the specified expressions\n",
    "mask = df['Text'].str.startswith(tuple(expressions_to_drop))\n",
    "\n",
    "# Counting the number of rows for each expression\n",
    "counts = mask.value_counts()\n",
    "\n",
    "# Display the counts\n",
    "counts"
   ]
  },
  {
   "cell_type": "code",
   "execution_count": 265,
   "id": "2fb8ac78-0304-4302-a933-22b65fa038c2",
   "metadata": {},
   "outputs": [],
   "source": [
    "# Dropping the rows that start with those expressions in column 'Text'\n",
    "df = df[~mask]\n",
    "df = df.reset_index(drop=True)"
   ]
  },
  {
   "cell_type": "code",
   "execution_count": 266,
   "id": "9edca2bd-a3b2-4c15-bce3-fdf3b1e5ced1",
   "metadata": {},
   "outputs": [
    {
     "data": {
      "text/html": [
       "<div>\n",
       "<style scoped>\n",
       "    .dataframe tbody tr th:only-of-type {\n",
       "        vertical-align: middle;\n",
       "    }\n",
       "\n",
       "    .dataframe tbody tr th {\n",
       "        vertical-align: top;\n",
       "    }\n",
       "\n",
       "    .dataframe thead th {\n",
       "        text-align: right;\n",
       "    }\n",
       "</style>\n",
       "<table border=\"1\" class=\"dataframe\">\n",
       "  <thead>\n",
       "    <tr style=\"text-align: right;\">\n",
       "      <th></th>\n",
       "      <th>Text</th>\n",
       "      <th>Title</th>\n",
       "      <th>Debate</th>\n",
       "      <th>Date</th>\n",
       "      <th>Participants</th>\n",
       "      <th>Moderators</th>\n",
       "    </tr>\n",
       "  </thead>\n",
       "  <tbody>\n",
       "    <tr>\n",
       "      <th>0</th>\n",
       "      <td>GIBSON: Good evening from the Field House at W...</td>\n",
       "      <td>October 8, 2004 Debate Transcript</td>\n",
       "      <td>The Second Bush-Kerry Presidential Debate</td>\n",
       "      <td>October 8, 2004</td>\n",
       "      <td>GEORGE W. BUSHPRESIDENT OF THE UNITED STATES U...</td>\n",
       "      <td>CHARLES GIBSON</td>\n",
       "    </tr>\n",
       "  </tbody>\n",
       "</table>\n",
       "</div>"
      ],
      "text/plain": [
       "                                                Text  \\\n",
       "0  GIBSON: Good evening from the Field House at W...   \n",
       "\n",
       "                               Title  \\\n",
       "0  October 8, 2004 Debate Transcript   \n",
       "\n",
       "                                      Debate             Date  \\\n",
       "0  The Second Bush-Kerry Presidential Debate  October 8, 2004   \n",
       "\n",
       "                                        Participants      Moderators  \n",
       "0  GEORGE W. BUSHPRESIDENT OF THE UNITED STATES U...  CHARLES GIBSON  "
      ]
     },
     "execution_count": 266,
     "metadata": {},
     "output_type": "execute_result"
    }
   ],
   "source": [
    "df.head(1)"
   ]
  },
  {
   "cell_type": "code",
   "execution_count": 267,
   "id": "7d4c6010-5627-4a8b-a6ab-762f29fda333",
   "metadata": {},
   "outputs": [
    {
     "data": {
      "text/plain": [
       "'GIBSON: Good evening from the Field House at Washington University in St. Louis. I’m Charles Gibson of ABC News and “Good Morning America.”'"
      ]
     },
     "execution_count": 267,
     "metadata": {},
     "output_type": "execute_result"
    }
   ],
   "source": [
    "df.loc[0, 'Text']"
   ]
  },
  {
   "cell_type": "code",
   "execution_count": 268,
   "id": "101aa43a-a8e0-472c-a8d8-5d6bf028c068",
   "metadata": {},
   "outputs": [
    {
     "name": "stdout",
     "output_type": "stream",
     "text": [
      "Number of turns: 660\n"
     ]
    }
   ],
   "source": [
    "df.at[0, 'Speaker'] = 1 # Adding column 'Speaker' by initialising it with a numeric value in order to avoid DtypeWarning\n",
    "df = df.astype('object') # Converting the column to the desired data type\n",
    "\n",
    "for index, row in df.iterrows():\n",
    "    match = re.match(r'^(\\w+): ', row['Text'])\n",
    "    if match:\n",
    "        speaker = match.group(1)\n",
    "        df.at[index, 'Speaker'] = speaker\n",
    "        text_without_speaker = row['Text'][len(match.group(0)):]\n",
    "        df.at[index, 'Text'] = text_without_speaker\n",
    "    else:\n",
    "        # Handle the case when no match is found (optional)\n",
    "        #df.at[index, 'Speaker'] = ''  # Set a default value\n",
    "        pass\n",
    "\n",
    "df['Speaker'].ffill(inplace=True)\n",
    "\n",
    "print('Number of turns:', df.shape[0])\n",
    "\n",
    "debate_list.append(title)\n",
    "turn_list.append(df.shape[0])\n",
    "\n",
    "df[['Title', 'Debate', 'Date', 'Participants', 'Moderators', 'Speaker', 'Text']].to_json(f'{debate_title}.jsonl', orient='records', lines=True)\n",
    "\n",
    "df[['Title', 'Debate', 'Date', 'Participants', 'Moderators', 'Speaker', 'Text']].to_csv(f'{debate_title}.tsv', sep='\\t', index=False, encoding='utf-8', lineterminator='\\n')"
   ]
  },
  {
   "cell_type": "markdown",
   "id": "94b26b70-be3c-4e14-9b99-845b98aaec88",
   "metadata": {},
   "source": [
    "## Debate 18"
   ]
  },
  {
   "cell_type": "code",
   "execution_count": 269,
   "id": "e7177544-8dae-4ae6-92af-3e4dafe534f5",
   "metadata": {},
   "outputs": [],
   "source": [
    "debate_title = debate_18\n",
    "url = debate_url_18\n",
    "response = requests.get(url)\n",
    "\n",
    "if response.status_code == 200:\n",
    "    page_content = response.content\n",
    "    # Step 2: Parse HTML content\n",
    "    soup = BeautifulSoup(page_content, 'lxml')\n",
    "\n",
    "    # Extract relevant tags (e.g., <h1>, <p>, etc.) and store them in a list\n",
    "    rows = []\n",
    "    for tag in soup.find_all(['h1', 'p']):\n",
    "        rows.append(tag.text.strip())  # Remove leading/trailing spaces\n",
    "    \n",
    "    # Create a DataFrame from the list of rows\n",
    "    df = pd.DataFrame(rows, columns=['Text'])\n",
    "\n",
    "else:\n",
    "    print(f'Failed to retrieve the page. Status code: {response.status_code}')"
   ]
  },
  {
   "cell_type": "code",
   "execution_count": 270,
   "id": "2a3b24e5-2b10-4fa2-bc50-35a2bd652b0e",
   "metadata": {},
   "outputs": [
    {
     "data": {
      "text/html": [
       "<div>\n",
       "<style scoped>\n",
       "    .dataframe tbody tr th:only-of-type {\n",
       "        vertical-align: middle;\n",
       "    }\n",
       "\n",
       "    .dataframe tbody tr th {\n",
       "        vertical-align: top;\n",
       "    }\n",
       "\n",
       "    .dataframe thead th {\n",
       "        text-align: right;\n",
       "    }\n",
       "</style>\n",
       "<table border=\"1\" class=\"dataframe\">\n",
       "  <thead>\n",
       "    <tr style=\"text-align: right;\">\n",
       "      <th></th>\n",
       "      <th>Text</th>\n",
       "    </tr>\n",
       "  </thead>\n",
       "  <tbody>\n",
       "    <tr>\n",
       "      <th>0</th>\n",
       "      <td>October 5, 2004 Transcript</td>\n",
       "    </tr>\n",
       "    <tr>\n",
       "      <th>1</th>\n",
       "      <td>October 5, 2004</td>\n",
       "    </tr>\n",
       "    <tr>\n",
       "      <th>2</th>\n",
       "      <td>The Cheney-Edwards Vice Presidential Debate</td>\n",
       "    </tr>\n",
       "    <tr>\n",
       "      <th>3</th>\n",
       "      <td>VICE PRESIDENTIAL CANDIDATES’ DEBATE AT CASE W...</td>\n",
       "    </tr>\n",
       "    <tr>\n",
       "      <th>4</th>\n",
       "      <td>SPEAKERS: RICHARD B. CHENEY, VICE PRESIDENT OF...</td>\n",
       "    </tr>\n",
       "    <tr>\n",
       "      <th>...</th>\n",
       "      <td>...</td>\n",
       "    </tr>\n",
       "    <tr>\n",
       "      <th>631</th>\n",
       "      <td>Then, on October 13th, from Arizona State Univ...</td>\n",
       "    </tr>\n",
       "    <tr>\n",
       "      <th>632</th>\n",
       "      <td>For now, thank you, Vice President Cheney, Sen...</td>\n",
       "    </tr>\n",
       "    <tr>\n",
       "      <th>633</th>\n",
       "      <td>From Cleveland, Ohio, I’m Gwen Ifill. Thank yo...</td>\n",
       "    </tr>\n",
       "    <tr>\n",
       "      <th>634</th>\n",
       "      <td>(APPLAUSE)</td>\n",
       "    </tr>\n",
       "    <tr>\n",
       "      <th>635</th>\n",
       "      <td>© COPYRIGHT 2020 THE COMMISSION ON PRESIDENTIA...</td>\n",
       "    </tr>\n",
       "  </tbody>\n",
       "</table>\n",
       "<p>636 rows × 1 columns</p>\n",
       "</div>"
      ],
      "text/plain": [
       "                                                  Text\n",
       "0                           October 5, 2004 Transcript\n",
       "1                                      October 5, 2004\n",
       "2          The Cheney-Edwards Vice Presidential Debate\n",
       "3    VICE PRESIDENTIAL CANDIDATES’ DEBATE AT CASE W...\n",
       "4    SPEAKERS: RICHARD B. CHENEY, VICE PRESIDENT OF...\n",
       "..                                                 ...\n",
       "631  Then, on October 13th, from Arizona State Univ...\n",
       "632  For now, thank you, Vice President Cheney, Sen...\n",
       "633  From Cleveland, Ohio, I’m Gwen Ifill. Thank yo...\n",
       "634                                         (APPLAUSE)\n",
       "635  © COPYRIGHT 2020 THE COMMISSION ON PRESIDENTIA...\n",
       "\n",
       "[636 rows x 1 columns]"
      ]
     },
     "execution_count": 270,
     "metadata": {},
     "output_type": "execute_result"
    }
   ],
   "source": [
    "df"
   ]
  },
  {
   "cell_type": "code",
   "execution_count": 271,
   "id": "b5c04b9e-626e-4fd8-8f85-4cfb4495f67c",
   "metadata": {},
   "outputs": [
    {
     "data": {
      "text/html": [
       "<div>\n",
       "<style scoped>\n",
       "    .dataframe tbody tr th:only-of-type {\n",
       "        vertical-align: middle;\n",
       "    }\n",
       "\n",
       "    .dataframe tbody tr th {\n",
       "        vertical-align: top;\n",
       "    }\n",
       "\n",
       "    .dataframe thead th {\n",
       "        text-align: right;\n",
       "    }\n",
       "</style>\n",
       "<table border=\"1\" class=\"dataframe\">\n",
       "  <thead>\n",
       "    <tr style=\"text-align: right;\">\n",
       "      <th></th>\n",
       "      <th>Text</th>\n",
       "    </tr>\n",
       "  </thead>\n",
       "  <tbody>\n",
       "    <tr>\n",
       "      <th>0</th>\n",
       "      <td>October 5, 2004 Transcript</td>\n",
       "    </tr>\n",
       "    <tr>\n",
       "      <th>1</th>\n",
       "      <td>October 5, 2004</td>\n",
       "    </tr>\n",
       "    <tr>\n",
       "      <th>2</th>\n",
       "      <td>The Cheney-Edwards Vice Presidential Debate</td>\n",
       "    </tr>\n",
       "    <tr>\n",
       "      <th>3</th>\n",
       "      <td>VICE PRESIDENTIAL CANDIDATES’ DEBATE AT CASE W...</td>\n",
       "    </tr>\n",
       "    <tr>\n",
       "      <th>4</th>\n",
       "      <td>SPEAKERS: RICHARD B. CHENEY, VICE PRESIDENT OF...</td>\n",
       "    </tr>\n",
       "    <tr>\n",
       "      <th>5</th>\n",
       "      <td>U.S. SENATOR JOHN EDWARDS (NC), DEMOCRATIC VIC...</td>\n",
       "    </tr>\n",
       "    <tr>\n",
       "      <th>6</th>\n",
       "      <td>GWEN IFILL, HOST, PBS’S “WASHINGTON WEEK”</td>\n",
       "    </tr>\n",
       "    <tr>\n",
       "      <th>7</th>\n",
       "      <td>IFILL: Good evening from Case Western Reserve ...</td>\n",
       "    </tr>\n",
       "    <tr>\n",
       "      <th>8</th>\n",
       "      <td>I’m Gwen Ifill of “The NewsHour” and “Washingt...</td>\n",
       "    </tr>\n",
       "    <tr>\n",
       "      <th>9</th>\n",
       "      <td>These debates are sponsored by the Commission ...</td>\n",
       "    </tr>\n",
       "  </tbody>\n",
       "</table>\n",
       "</div>"
      ],
      "text/plain": [
       "                                                Text\n",
       "0                         October 5, 2004 Transcript\n",
       "1                                    October 5, 2004\n",
       "2        The Cheney-Edwards Vice Presidential Debate\n",
       "3  VICE PRESIDENTIAL CANDIDATES’ DEBATE AT CASE W...\n",
       "4  SPEAKERS: RICHARD B. CHENEY, VICE PRESIDENT OF...\n",
       "5  U.S. SENATOR JOHN EDWARDS (NC), DEMOCRATIC VIC...\n",
       "6          GWEN IFILL, HOST, PBS’S “WASHINGTON WEEK”\n",
       "7  IFILL: Good evening from Case Western Reserve ...\n",
       "8  I’m Gwen Ifill of “The NewsHour” and “Washingt...\n",
       "9  These debates are sponsored by the Commission ..."
      ]
     },
     "execution_count": 271,
     "metadata": {},
     "output_type": "execute_result"
    }
   ],
   "source": [
    "df.head(10)"
   ]
  },
  {
   "cell_type": "code",
   "execution_count": 272,
   "id": "fc04b206-4f66-46d8-a85e-dfddb9074ebb",
   "metadata": {},
   "outputs": [],
   "source": [
    "title = df.at[0, 'Text']\n",
    "df['Title'] = title\n",
    "\n",
    "debate = df.at[2, 'Text']\n",
    "df['Debate'] = debate\n",
    "\n",
    "date = df.at[1, 'Text']\n",
    "df['Date'] = date\n",
    "\n",
    "participants = df.at[4, 'Text'] + ' ' + df.at[5, 'Text']\n",
    "participants = re.sub(r'^\\w+: ', '', participants)\n",
    "#participants = re.sub(r'\\n', ' ', participants)\n",
    "df['Participants'] = participants\n",
    "\n",
    "moderators = df.at[6, 'Text']\n",
    "moderators = re.match(r'^(\\w+ \\w+)', moderators).group(1)\n",
    "#moderators = re.sub(r'^\\w+:\\n', '', moderators)\n",
    "df['Moderators'] = moderators"
   ]
  },
  {
   "cell_type": "code",
   "execution_count": 273,
   "id": "91b38570-bb1e-4511-9778-06ed7c1babc8",
   "metadata": {},
   "outputs": [
    {
     "data": {
      "text/plain": [
       "'© COPYRIGHT 2020 THE COMMISSION ON PRESIDENTIAL DEBATES. ALL RIGHTS RESERVED.'"
      ]
     },
     "execution_count": 273,
     "metadata": {},
     "output_type": "execute_result"
    }
   ],
   "source": [
    "last_row = 635\n",
    "df.loc[last_row, 'Text']"
   ]
  },
  {
   "cell_type": "code",
   "execution_count": 274,
   "id": "f413a1f8-afc5-4cfc-ae01-d0867d02f139",
   "metadata": {},
   "outputs": [],
   "source": [
    "df = df[~df['Text'].str.contains(df.loc[last_row, 'Text'])]"
   ]
  },
  {
   "cell_type": "code",
   "execution_count": 275,
   "id": "3aab5034-3954-4a47-8600-bce254054ff6",
   "metadata": {},
   "outputs": [],
   "source": [
    "df = df.loc[7:]\n",
    "df = df.reset_index(drop=True)"
   ]
  },
  {
   "cell_type": "code",
   "execution_count": 276,
   "id": "550cbb1d-7653-4ebf-bbd4-f5ad48f0b993",
   "metadata": {},
   "outputs": [
    {
     "data": {
      "text/plain": [
       "Text\n",
       "False    623\n",
       "True       5\n",
       "Name: count, dtype: int64"
      ]
     },
     "execution_count": 276,
     "metadata": {},
     "output_type": "execute_result"
    }
   ],
   "source": [
    "# List of expressions whose rows in column 'Text' should be dropped\n",
    "expressions_to_drop = ['(APPLAUSE)', '(LAUGHTER)', '(CROSSTALK)']\n",
    "\n",
    "# Creating a boolean mask for rows starting with the specified expressions\n",
    "mask = df['Text'].str.startswith(tuple(expressions_to_drop))\n",
    "\n",
    "# Counting the number of rows for each expression\n",
    "counts = mask.value_counts()\n",
    "\n",
    "# Display the counts\n",
    "counts"
   ]
  },
  {
   "cell_type": "code",
   "execution_count": 277,
   "id": "ce3b2136-483d-4d31-ac28-ba77e0ff9731",
   "metadata": {},
   "outputs": [],
   "source": [
    "# Dropping the rows that start with those expressions in column 'Text'\n",
    "df = df[~mask]\n",
    "df = df.reset_index(drop=True)"
   ]
  },
  {
   "cell_type": "code",
   "execution_count": 278,
   "id": "c85c1616-de1d-4090-904d-520ff47349fa",
   "metadata": {},
   "outputs": [
    {
     "data": {
      "text/html": [
       "<div>\n",
       "<style scoped>\n",
       "    .dataframe tbody tr th:only-of-type {\n",
       "        vertical-align: middle;\n",
       "    }\n",
       "\n",
       "    .dataframe tbody tr th {\n",
       "        vertical-align: top;\n",
       "    }\n",
       "\n",
       "    .dataframe thead th {\n",
       "        text-align: right;\n",
       "    }\n",
       "</style>\n",
       "<table border=\"1\" class=\"dataframe\">\n",
       "  <thead>\n",
       "    <tr style=\"text-align: right;\">\n",
       "      <th></th>\n",
       "      <th>Text</th>\n",
       "      <th>Title</th>\n",
       "      <th>Debate</th>\n",
       "      <th>Date</th>\n",
       "      <th>Participants</th>\n",
       "      <th>Moderators</th>\n",
       "    </tr>\n",
       "  </thead>\n",
       "  <tbody>\n",
       "    <tr>\n",
       "      <th>0</th>\n",
       "      <td>IFILL: Good evening from Case Western Reserve ...</td>\n",
       "      <td>October 5, 2004 Transcript</td>\n",
       "      <td>The Cheney-Edwards Vice Presidential Debate</td>\n",
       "      <td>October 5, 2004</td>\n",
       "      <td>RICHARD B. CHENEY, VICE PRESIDENT OF THE UNITE...</td>\n",
       "      <td>GWEN IFILL</td>\n",
       "    </tr>\n",
       "  </tbody>\n",
       "</table>\n",
       "</div>"
      ],
      "text/plain": [
       "                                                Text  \\\n",
       "0  IFILL: Good evening from Case Western Reserve ...   \n",
       "\n",
       "                        Title                                       Debate  \\\n",
       "0  October 5, 2004 Transcript  The Cheney-Edwards Vice Presidential Debate   \n",
       "\n",
       "              Date                                       Participants  \\\n",
       "0  October 5, 2004  RICHARD B. CHENEY, VICE PRESIDENT OF THE UNITE...   \n",
       "\n",
       "   Moderators  \n",
       "0  GWEN IFILL  "
      ]
     },
     "execution_count": 278,
     "metadata": {},
     "output_type": "execute_result"
    }
   ],
   "source": [
    "df.head(1)"
   ]
  },
  {
   "cell_type": "code",
   "execution_count": 279,
   "id": "5cbc859e-5e21-43b9-a643-700340d95ff4",
   "metadata": {},
   "outputs": [
    {
     "data": {
      "text/plain": [
       "'IFILL: Good evening from Case Western Reserve University’s Veale Center here in Cleveland, Ohio.'"
      ]
     },
     "execution_count": 279,
     "metadata": {},
     "output_type": "execute_result"
    }
   ],
   "source": [
    "df.loc[0, 'Text']"
   ]
  },
  {
   "cell_type": "code",
   "execution_count": 280,
   "id": "7ccbd60b-1adf-49f6-bee8-c6792aaf741c",
   "metadata": {},
   "outputs": [
    {
     "name": "stdout",
     "output_type": "stream",
     "text": [
      "Number of turns: 623\n"
     ]
    }
   ],
   "source": [
    "df.at[0, 'Speaker'] = 1 # Adding column 'Speaker' by initialising it with a numeric value in order to avoid DtypeWarning\n",
    "df = df.astype('object') # Converting the column to the desired data type\n",
    "\n",
    "for index, row in df.iterrows():\n",
    "    match = re.match(r'^(\\w+): ', row['Text'])\n",
    "    if match:\n",
    "        speaker = match.group(1)\n",
    "        df.at[index, 'Speaker'] = speaker\n",
    "        text_without_speaker = row['Text'][len(match.group(0)):]\n",
    "        df.at[index, 'Text'] = text_without_speaker\n",
    "    else:\n",
    "        # Handle the case when no match is found (optional)\n",
    "        #df.at[index, 'Speaker'] = ''  # Set a default value\n",
    "        pass\n",
    "\n",
    "df['Speaker'].ffill(inplace=True)\n",
    "\n",
    "print('Number of turns:', df.shape[0])\n",
    "\n",
    "debate_list.append(title)\n",
    "turn_list.append(df.shape[0])\n",
    "\n",
    "df[['Title', 'Debate', 'Date', 'Participants', 'Moderators', 'Speaker', 'Text']].to_json(f'{debate_title}.jsonl', orient='records', lines=True)\n",
    "\n",
    "df[['Title', 'Debate', 'Date', 'Participants', 'Moderators', 'Speaker', 'Text']].to_csv(f'{debate_title}.tsv', sep='\\t', index=False, encoding='utf-8', lineterminator='\\n')"
   ]
  },
  {
   "cell_type": "markdown",
   "id": "01e33a7f-220c-48c1-9f08-3bb928d01b1d",
   "metadata": {},
   "source": [
    "## Debate 19"
   ]
  },
  {
   "cell_type": "code",
   "execution_count": 281,
   "id": "afb1edd0-9157-45aa-8b7c-528cbaf62595",
   "metadata": {},
   "outputs": [],
   "source": [
    "debate_title = debate_19\n",
    "url = debate_url_19\n",
    "response = requests.get(url)\n",
    "\n",
    "if response.status_code == 200:\n",
    "    page_content = response.content\n",
    "    # Step 2: Parse HTML content\n",
    "    soup = BeautifulSoup(page_content, 'lxml')\n",
    "\n",
    "    # Extract relevant tags (e.g., <h1>, <p>, etc.) and store them in a list\n",
    "    rows = []\n",
    "    for tag in soup.find_all(['h1', 'p']):\n",
    "        rows.append(tag.text.strip())  # Remove leading/trailing spaces\n",
    "    \n",
    "    # Create a DataFrame from the list of rows\n",
    "    df = pd.DataFrame(rows, columns=['Text'])\n",
    "\n",
    "else:\n",
    "    print(f'Failed to retrieve the page. Status code: {response.status_code}')"
   ]
  },
  {
   "cell_type": "code",
   "execution_count": 282,
   "id": "9f3d59ef-c693-4c80-afc5-e5c1a2023689",
   "metadata": {},
   "outputs": [
    {
     "data": {
      "text/html": [
       "<div>\n",
       "<style scoped>\n",
       "    .dataframe tbody tr th:only-of-type {\n",
       "        vertical-align: middle;\n",
       "    }\n",
       "\n",
       "    .dataframe tbody tr th {\n",
       "        vertical-align: top;\n",
       "    }\n",
       "\n",
       "    .dataframe thead th {\n",
       "        text-align: right;\n",
       "    }\n",
       "</style>\n",
       "<table border=\"1\" class=\"dataframe\">\n",
       "  <thead>\n",
       "    <tr style=\"text-align: right;\">\n",
       "      <th></th>\n",
       "      <th>Text</th>\n",
       "    </tr>\n",
       "  </thead>\n",
       "  <tbody>\n",
       "    <tr>\n",
       "      <th>0</th>\n",
       "      <td>September 30. 2004 Debate Transcript</td>\n",
       "    </tr>\n",
       "    <tr>\n",
       "      <th>1</th>\n",
       "      <td>September 30, 2004</td>\n",
       "    </tr>\n",
       "    <tr>\n",
       "      <th>2</th>\n",
       "      <td>The First Bush-Kerry Presidential Debate</td>\n",
       "    </tr>\n",
       "    <tr>\n",
       "      <th>3</th>\n",
       "      <td>PRESIDENTIAL CANDIDATES’ DEBATE, SPONSORED BY ...</td>\n",
       "    </tr>\n",
       "    <tr>\n",
       "      <th>4</th>\n",
       "      <td>SPEAKERS: GEORGE W. BUSH, PRESIDENT OF THE UNI...</td>\n",
       "    </tr>\n",
       "    <tr>\n",
       "      <th>...</th>\n",
       "      <td>...</td>\n",
       "    </tr>\n",
       "    <tr>\n",
       "      <th>525</th>\n",
       "      <td>Also, this coming Tuesday, at Case Western Res...</td>\n",
       "    </tr>\n",
       "    <tr>\n",
       "      <th>526</th>\n",
       "      <td>For now, thank you, Senator Kerry, President B...</td>\n",
       "    </tr>\n",
       "    <tr>\n",
       "      <th>527</th>\n",
       "      <td>From Coral Gables, Florida, I’m Jim Lehrer. Th...</td>\n",
       "    </tr>\n",
       "    <tr>\n",
       "      <th>528</th>\n",
       "      <td>(APPLAUSE)</td>\n",
       "    </tr>\n",
       "    <tr>\n",
       "      <th>529</th>\n",
       "      <td>© COPYRIGHT 2020 THE COMMISSION ON PRESIDENTIA...</td>\n",
       "    </tr>\n",
       "  </tbody>\n",
       "</table>\n",
       "<p>530 rows × 1 columns</p>\n",
       "</div>"
      ],
      "text/plain": [
       "                                                  Text\n",
       "0                 September 30. 2004 Debate Transcript\n",
       "1                                   September 30, 2004\n",
       "2             The First Bush-Kerry Presidential Debate\n",
       "3    PRESIDENTIAL CANDIDATES’ DEBATE, SPONSORED BY ...\n",
       "4    SPEAKERS: GEORGE W. BUSH, PRESIDENT OF THE UNI...\n",
       "..                                                 ...\n",
       "525  Also, this coming Tuesday, at Case Western Res...\n",
       "526  For now, thank you, Senator Kerry, President B...\n",
       "527  From Coral Gables, Florida, I’m Jim Lehrer. Th...\n",
       "528                                         (APPLAUSE)\n",
       "529  © COPYRIGHT 2020 THE COMMISSION ON PRESIDENTIA...\n",
       "\n",
       "[530 rows x 1 columns]"
      ]
     },
     "execution_count": 282,
     "metadata": {},
     "output_type": "execute_result"
    }
   ],
   "source": [
    "df"
   ]
  },
  {
   "cell_type": "code",
   "execution_count": 283,
   "id": "e843222c-1b07-47e5-a2f3-4f29cd773ca9",
   "metadata": {},
   "outputs": [
    {
     "data": {
      "text/html": [
       "<div>\n",
       "<style scoped>\n",
       "    .dataframe tbody tr th:only-of-type {\n",
       "        vertical-align: middle;\n",
       "    }\n",
       "\n",
       "    .dataframe tbody tr th {\n",
       "        vertical-align: top;\n",
       "    }\n",
       "\n",
       "    .dataframe thead th {\n",
       "        text-align: right;\n",
       "    }\n",
       "</style>\n",
       "<table border=\"1\" class=\"dataframe\">\n",
       "  <thead>\n",
       "    <tr style=\"text-align: right;\">\n",
       "      <th></th>\n",
       "      <th>Text</th>\n",
       "    </tr>\n",
       "  </thead>\n",
       "  <tbody>\n",
       "    <tr>\n",
       "      <th>0</th>\n",
       "      <td>September 30. 2004 Debate Transcript</td>\n",
       "    </tr>\n",
       "    <tr>\n",
       "      <th>1</th>\n",
       "      <td>September 30, 2004</td>\n",
       "    </tr>\n",
       "    <tr>\n",
       "      <th>2</th>\n",
       "      <td>The First Bush-Kerry Presidential Debate</td>\n",
       "    </tr>\n",
       "    <tr>\n",
       "      <th>3</th>\n",
       "      <td>PRESIDENTIAL CANDIDATES’ DEBATE, SPONSORED BY ...</td>\n",
       "    </tr>\n",
       "    <tr>\n",
       "      <th>4</th>\n",
       "      <td>SPEAKERS: GEORGE W. BUSH, PRESIDENT OF THE UNI...</td>\n",
       "    </tr>\n",
       "    <tr>\n",
       "      <th>5</th>\n",
       "      <td>U.S. SENATOR JOHN F. KERRY (MA), DEMOCRATIC PR...</td>\n",
       "    </tr>\n",
       "    <tr>\n",
       "      <th>6</th>\n",
       "      <td>JIM LEHRER, ANCHOR AND EXECUTIVE EDITOR, PBS’S...</td>\n",
       "    </tr>\n",
       "    <tr>\n",
       "      <th>7</th>\n",
       "      <td>LEHRER: Good evening from the University of Mi...</td>\n",
       "    </tr>\n",
       "    <tr>\n",
       "      <th>8</th>\n",
       "      <td>And I welcome you to the first of the 2004 pre...</td>\n",
       "    </tr>\n",
       "    <tr>\n",
       "      <th>9</th>\n",
       "      <td>These debates are sponsored by the Commission ...</td>\n",
       "    </tr>\n",
       "  </tbody>\n",
       "</table>\n",
       "</div>"
      ],
      "text/plain": [
       "                                                Text\n",
       "0               September 30. 2004 Debate Transcript\n",
       "1                                 September 30, 2004\n",
       "2           The First Bush-Kerry Presidential Debate\n",
       "3  PRESIDENTIAL CANDIDATES’ DEBATE, SPONSORED BY ...\n",
       "4  SPEAKERS: GEORGE W. BUSH, PRESIDENT OF THE UNI...\n",
       "5  U.S. SENATOR JOHN F. KERRY (MA), DEMOCRATIC PR...\n",
       "6  JIM LEHRER, ANCHOR AND EXECUTIVE EDITOR, PBS’S...\n",
       "7  LEHRER: Good evening from the University of Mi...\n",
       "8  And I welcome you to the first of the 2004 pre...\n",
       "9  These debates are sponsored by the Commission ..."
      ]
     },
     "execution_count": 283,
     "metadata": {},
     "output_type": "execute_result"
    }
   ],
   "source": [
    "df.head(10)"
   ]
  },
  {
   "cell_type": "code",
   "execution_count": 284,
   "id": "b2832a22-0c1e-41e7-baf2-7ced8cfdc296",
   "metadata": {},
   "outputs": [],
   "source": [
    "title = df.at[0, 'Text']\n",
    "df['Title'] = title\n",
    "\n",
    "debate = df.at[2, 'Text']\n",
    "df['Debate'] = debate\n",
    "\n",
    "date = df.at[1, 'Text']\n",
    "df['Date'] = date\n",
    "\n",
    "participants = df.at[4, 'Text'] + ' ' + df.at[5, 'Text']\n",
    "participants = re.sub(r'^\\w+: ', '', participants)\n",
    "#participants = re.sub(r'\\n', ' ', participants)\n",
    "df['Participants'] = participants\n",
    "\n",
    "moderators = df.at[6, 'Text']\n",
    "moderators = re.match(r'^(\\w+ \\w+)', moderators).group(1)\n",
    "#moderators = re.sub(r'^\\w+:\\n', '', moderators)\n",
    "df['Moderators'] = moderators"
   ]
  },
  {
   "cell_type": "code",
   "execution_count": 285,
   "id": "3982e9cb-9352-44da-9377-31baf0f411e5",
   "metadata": {},
   "outputs": [
    {
     "data": {
      "text/plain": [
       "'© COPYRIGHT 2020 THE COMMISSION ON PRESIDENTIAL DEBATES. ALL RIGHTS RESERVED.'"
      ]
     },
     "execution_count": 285,
     "metadata": {},
     "output_type": "execute_result"
    }
   ],
   "source": [
    "last_row = 529\n",
    "df.loc[last_row, 'Text']"
   ]
  },
  {
   "cell_type": "code",
   "execution_count": 286,
   "id": "f3823339-b0e1-47da-9920-001a73aac362",
   "metadata": {},
   "outputs": [],
   "source": [
    "df = df[~df['Text'].str.contains(df.loc[last_row, 'Text'])]"
   ]
  },
  {
   "cell_type": "code",
   "execution_count": 287,
   "id": "9a8d287d-c493-42f2-8f78-9425e7c63965",
   "metadata": {},
   "outputs": [],
   "source": [
    "df = df.loc[7:]\n",
    "df = df.reset_index(drop=True)"
   ]
  },
  {
   "cell_type": "code",
   "execution_count": 288,
   "id": "dbad0607-a5e5-4dd4-976f-97fc541d00bf",
   "metadata": {},
   "outputs": [
    {
     "data": {
      "text/plain": [
       "Text\n",
       "False    516\n",
       "True       6\n",
       "Name: count, dtype: int64"
      ]
     },
     "execution_count": 288,
     "metadata": {},
     "output_type": "execute_result"
    }
   ],
   "source": [
    "# List of expressions whose rows in column 'Text' should be dropped\n",
    "expressions_to_drop = ['(APPLAUSE)', '(LAUGHTER)', '(CROSSTALK)']\n",
    "\n",
    "# Creating a boolean mask for rows starting with the specified expressions\n",
    "mask = df['Text'].str.startswith(tuple(expressions_to_drop))\n",
    "\n",
    "# Counting the number of rows for each expression\n",
    "counts = mask.value_counts()\n",
    "\n",
    "# Display the counts\n",
    "counts"
   ]
  },
  {
   "cell_type": "code",
   "execution_count": 289,
   "id": "8d5e8dfd-b900-4b13-a9ff-aa711a1b07f1",
   "metadata": {},
   "outputs": [],
   "source": [
    "# Dropping the rows that start with those expressions in column 'Text'\n",
    "df = df[~mask]\n",
    "df = df.reset_index(drop=True)"
   ]
  },
  {
   "cell_type": "code",
   "execution_count": 290,
   "id": "2148068f-12f4-4f51-b140-e7e129c249e4",
   "metadata": {},
   "outputs": [
    {
     "data": {
      "text/html": [
       "<div>\n",
       "<style scoped>\n",
       "    .dataframe tbody tr th:only-of-type {\n",
       "        vertical-align: middle;\n",
       "    }\n",
       "\n",
       "    .dataframe tbody tr th {\n",
       "        vertical-align: top;\n",
       "    }\n",
       "\n",
       "    .dataframe thead th {\n",
       "        text-align: right;\n",
       "    }\n",
       "</style>\n",
       "<table border=\"1\" class=\"dataframe\">\n",
       "  <thead>\n",
       "    <tr style=\"text-align: right;\">\n",
       "      <th></th>\n",
       "      <th>Text</th>\n",
       "      <th>Title</th>\n",
       "      <th>Debate</th>\n",
       "      <th>Date</th>\n",
       "      <th>Participants</th>\n",
       "      <th>Moderators</th>\n",
       "    </tr>\n",
       "  </thead>\n",
       "  <tbody>\n",
       "    <tr>\n",
       "      <th>0</th>\n",
       "      <td>LEHRER: Good evening from the University of Mi...</td>\n",
       "      <td>September 30. 2004 Debate Transcript</td>\n",
       "      <td>The First Bush-Kerry Presidential Debate</td>\n",
       "      <td>September 30, 2004</td>\n",
       "      <td>GEORGE W. BUSH, PRESIDENT OF THE UNITED STATES...</td>\n",
       "      <td>JIM LEHRER</td>\n",
       "    </tr>\n",
       "  </tbody>\n",
       "</table>\n",
       "</div>"
      ],
      "text/plain": [
       "                                                Text  \\\n",
       "0  LEHRER: Good evening from the University of Mi...   \n",
       "\n",
       "                                  Title  \\\n",
       "0  September 30. 2004 Debate Transcript   \n",
       "\n",
       "                                     Debate                Date  \\\n",
       "0  The First Bush-Kerry Presidential Debate  September 30, 2004   \n",
       "\n",
       "                                        Participants  Moderators  \n",
       "0  GEORGE W. BUSH, PRESIDENT OF THE UNITED STATES...  JIM LEHRER  "
      ]
     },
     "execution_count": 290,
     "metadata": {},
     "output_type": "execute_result"
    }
   ],
   "source": [
    "df.head(1)"
   ]
  },
  {
   "cell_type": "code",
   "execution_count": 291,
   "id": "f18cf1ae-9bd6-4988-b5dc-75da83581f3b",
   "metadata": {},
   "outputs": [
    {
     "data": {
      "text/plain": [
       "'LEHRER: Good evening from the University of Miami Convocation Center in Coral Gables, Florida. I’m Jim Lehrer of “The NewsHour” on PBS.'"
      ]
     },
     "execution_count": 291,
     "metadata": {},
     "output_type": "execute_result"
    }
   ],
   "source": [
    "df.loc[0, 'Text']"
   ]
  },
  {
   "cell_type": "code",
   "execution_count": 292,
   "id": "a16febc3-55a0-4992-813c-e09a470ed135",
   "metadata": {},
   "outputs": [
    {
     "name": "stdout",
     "output_type": "stream",
     "text": [
      "Number of turns: 516\n"
     ]
    }
   ],
   "source": [
    "df.at[0, 'Speaker'] = 1 # Adding column 'Speaker' by initialising it with a numeric value in order to avoid DtypeWarning\n",
    "df = df.astype('object') # Converting the column to the desired data type\n",
    "\n",
    "for index, row in df.iterrows():\n",
    "    match = re.match(r'^(\\w+): ', row['Text'])\n",
    "    if match:\n",
    "        speaker = match.group(1)\n",
    "        df.at[index, 'Speaker'] = speaker\n",
    "        text_without_speaker = row['Text'][len(match.group(0)):]\n",
    "        df.at[index, 'Text'] = text_without_speaker\n",
    "    else:\n",
    "        # Handle the case when no match is found (optional)\n",
    "        #df.at[index, 'Speaker'] = ''  # Set a default value\n",
    "        pass\n",
    "\n",
    "df['Speaker'].ffill(inplace=True)\n",
    "\n",
    "print('Number of turns:', df.shape[0])\n",
    "\n",
    "debate_list.append(title)\n",
    "turn_list.append(df.shape[0])\n",
    "\n",
    "df[['Title', 'Debate', 'Date', 'Participants', 'Moderators', 'Speaker', 'Text']].to_json(f'{debate_title}.jsonl', orient='records', lines=True)\n",
    "\n",
    "df[['Title', 'Debate', 'Date', 'Participants', 'Moderators', 'Speaker', 'Text']].to_csv(f'{debate_title}.tsv', sep='\\t', index=False, encoding='utf-8', lineterminator='\\n')"
   ]
  },
  {
   "cell_type": "markdown",
   "id": "7b9085d7-3be1-44e5-bdab-d59808c5b069",
   "metadata": {},
   "source": [
    "## Debate 20"
   ]
  },
  {
   "cell_type": "code",
   "execution_count": 293,
   "id": "1e9b5401-ff18-4a6c-9c04-5970c65ee699",
   "metadata": {},
   "outputs": [],
   "source": [
    "debate_title = debate_20\n",
    "url = debate_url_20\n",
    "response = requests.get(url)\n",
    "\n",
    "if response.status_code == 200:\n",
    "    page_content = response.content\n",
    "    # Step 2: Parse HTML content\n",
    "    soup = BeautifulSoup(page_content, 'lxml')\n",
    "\n",
    "    # Extract relevant tags (e.g., <h1>, <p>, etc.) and store them in a list\n",
    "    rows = []\n",
    "    for tag in soup.find_all(['h1', 'p']):\n",
    "        rows.append(tag.text.strip())  # Remove leading/trailing spaces\n",
    "    \n",
    "    # Create a DataFrame from the list of rows\n",
    "    df = pd.DataFrame(rows, columns=['Text'])\n",
    "\n",
    "else:\n",
    "    print(f'Failed to retrieve the page. Status code: {response.status_code}')"
   ]
  },
  {
   "cell_type": "code",
   "execution_count": 294,
   "id": "6a7716a2-000d-4eac-b42b-04a30e1c9ebd",
   "metadata": {},
   "outputs": [
    {
     "data": {
      "text/html": [
       "<div>\n",
       "<style scoped>\n",
       "    .dataframe tbody tr th:only-of-type {\n",
       "        vertical-align: middle;\n",
       "    }\n",
       "\n",
       "    .dataframe tbody tr th {\n",
       "        vertical-align: top;\n",
       "    }\n",
       "\n",
       "    .dataframe thead th {\n",
       "        text-align: right;\n",
       "    }\n",
       "</style>\n",
       "<table border=\"1\" class=\"dataframe\">\n",
       "  <thead>\n",
       "    <tr style=\"text-align: right;\">\n",
       "      <th></th>\n",
       "      <th>Text</th>\n",
       "    </tr>\n",
       "  </thead>\n",
       "  <tbody>\n",
       "    <tr>\n",
       "      <th>0</th>\n",
       "      <td>October 3, 2000 Transcript</td>\n",
       "    </tr>\n",
       "    <tr>\n",
       "      <th>1</th>\n",
       "      <td>October 3, 2000</td>\n",
       "    </tr>\n",
       "    <tr>\n",
       "      <th>2</th>\n",
       "      <td>The First Gore-Bush Presidential Debate</td>\n",
       "    </tr>\n",
       "    <tr>\n",
       "      <th>3</th>\n",
       "      <td>MODERATOR: Good evening from the Clark Athleti...</td>\n",
       "    </tr>\n",
       "    <tr>\n",
       "      <th>4</th>\n",
       "      <td>(Applause)</td>\n",
       "    </tr>\n",
       "    <tr>\n",
       "      <th>...</th>\n",
       "      <td>...</td>\n",
       "    </tr>\n",
       "    <tr>\n",
       "      <th>167</th>\n",
       "      <td>MODERATOR: Vice President Gore, two minutes.</td>\n",
       "    </tr>\n",
       "    <tr>\n",
       "      <th>168</th>\n",
       "      <td>GORE: I want to thank everybody who watched an...</td>\n",
       "    </tr>\n",
       "    <tr>\n",
       "      <th>169</th>\n",
       "      <td>MODERATOR: We will continue this dialogue next...</td>\n",
       "    </tr>\n",
       "    <tr>\n",
       "      <th>170</th>\n",
       "      <td>(APPLAUSE)</td>\n",
       "    </tr>\n",
       "    <tr>\n",
       "      <th>171</th>\n",
       "      <td>© COPYRIGHT 2020 THE COMMISSION ON PRESIDENTIA...</td>\n",
       "    </tr>\n",
       "  </tbody>\n",
       "</table>\n",
       "<p>172 rows × 1 columns</p>\n",
       "</div>"
      ],
      "text/plain": [
       "                                                  Text\n",
       "0                           October 3, 2000 Transcript\n",
       "1                                      October 3, 2000\n",
       "2              The First Gore-Bush Presidential Debate\n",
       "3    MODERATOR: Good evening from the Clark Athleti...\n",
       "4                                           (Applause)\n",
       "..                                                 ...\n",
       "167       MODERATOR: Vice President Gore, two minutes.\n",
       "168  GORE: I want to thank everybody who watched an...\n",
       "169  MODERATOR: We will continue this dialogue next...\n",
       "170                                         (APPLAUSE)\n",
       "171  © COPYRIGHT 2020 THE COMMISSION ON PRESIDENTIA...\n",
       "\n",
       "[172 rows x 1 columns]"
      ]
     },
     "execution_count": 294,
     "metadata": {},
     "output_type": "execute_result"
    }
   ],
   "source": [
    "df"
   ]
  },
  {
   "cell_type": "code",
   "execution_count": 295,
   "id": "d9c8a830-bb1a-40e5-be4f-a748f8fb83cb",
   "metadata": {},
   "outputs": [
    {
     "data": {
      "text/html": [
       "<div>\n",
       "<style scoped>\n",
       "    .dataframe tbody tr th:only-of-type {\n",
       "        vertical-align: middle;\n",
       "    }\n",
       "\n",
       "    .dataframe tbody tr th {\n",
       "        vertical-align: top;\n",
       "    }\n",
       "\n",
       "    .dataframe thead th {\n",
       "        text-align: right;\n",
       "    }\n",
       "</style>\n",
       "<table border=\"1\" class=\"dataframe\">\n",
       "  <thead>\n",
       "    <tr style=\"text-align: right;\">\n",
       "      <th></th>\n",
       "      <th>Text</th>\n",
       "    </tr>\n",
       "  </thead>\n",
       "  <tbody>\n",
       "    <tr>\n",
       "      <th>0</th>\n",
       "      <td>October 3, 2000 Transcript</td>\n",
       "    </tr>\n",
       "    <tr>\n",
       "      <th>1</th>\n",
       "      <td>October 3, 2000</td>\n",
       "    </tr>\n",
       "    <tr>\n",
       "      <th>2</th>\n",
       "      <td>The First Gore-Bush Presidential Debate</td>\n",
       "    </tr>\n",
       "    <tr>\n",
       "      <th>3</th>\n",
       "      <td>MODERATOR: Good evening from the Clark Athleti...</td>\n",
       "    </tr>\n",
       "    <tr>\n",
       "      <th>4</th>\n",
       "      <td>(Applause)</td>\n",
       "    </tr>\n",
       "    <tr>\n",
       "      <th>5</th>\n",
       "      <td>MODERATOR: And now the first question as deter...</td>\n",
       "    </tr>\n",
       "    <tr>\n",
       "      <th>6</th>\n",
       "      <td>GORE: Well, Jim, first of all, I would like to...</td>\n",
       "    </tr>\n",
       "    <tr>\n",
       "      <th>7</th>\n",
       "      <td>MODERATOR: Governor Bush, one minute rebuttal.</td>\n",
       "    </tr>\n",
       "    <tr>\n",
       "      <th>8</th>\n",
       "      <td>BUSH: Well, we do come from different places. ...</td>\n",
       "    </tr>\n",
       "    <tr>\n",
       "      <th>9</th>\n",
       "      <td>MODERATOR: So I take it by your answer, then, ...</td>\n",
       "    </tr>\n",
       "  </tbody>\n",
       "</table>\n",
       "</div>"
      ],
      "text/plain": [
       "                                                Text\n",
       "0                         October 3, 2000 Transcript\n",
       "1                                    October 3, 2000\n",
       "2            The First Gore-Bush Presidential Debate\n",
       "3  MODERATOR: Good evening from the Clark Athleti...\n",
       "4                                         (Applause)\n",
       "5  MODERATOR: And now the first question as deter...\n",
       "6  GORE: Well, Jim, first of all, I would like to...\n",
       "7     MODERATOR: Governor Bush, one minute rebuttal.\n",
       "8  BUSH: Well, we do come from different places. ...\n",
       "9  MODERATOR: So I take it by your answer, then, ..."
      ]
     },
     "execution_count": 295,
     "metadata": {},
     "output_type": "execute_result"
    }
   ],
   "source": [
    "df.head(10)"
   ]
  },
  {
   "cell_type": "code",
   "execution_count": 296,
   "id": "92952005-fa98-439e-948e-bdf977cd9003",
   "metadata": {},
   "outputs": [],
   "source": [
    "title = df.at[0, 'Text']\n",
    "df['Title'] = title\n",
    "\n",
    "debate = df.at[2, 'Text']\n",
    "df['Debate'] = debate\n",
    "\n",
    "date = df.at[1, 'Text']\n",
    "df['Date'] = date\n",
    "\n",
    "participants = df.at[2, 'Text']\n",
    "participants = re.match(r'^\\w+ \\w+ (\\w+-\\w+)', participants).group(1)\n",
    "#participants = re.sub(r'^\\w+:\\n', '', participants)\n",
    "#participants = re.sub(r'\\n', ' ', participants)\n",
    "df['Participants'] = participants\n",
    "\n",
    "moderators = df.at[5, 'Text']\n",
    "moderators = re.match(r'(^\\w+)', moderators).group(1)\n",
    "#moderators = re.sub(r'^\\w+:\\n', '', moderators)\n",
    "df['Moderators'] = moderators"
   ]
  },
  {
   "cell_type": "code",
   "execution_count": 297,
   "id": "d93cf0fe-e7c9-4b62-8adb-e29022a5aacb",
   "metadata": {},
   "outputs": [
    {
     "data": {
      "text/plain": [
       "'© COPYRIGHT 2020 THE COMMISSION ON PRESIDENTIAL DEBATES. ALL RIGHTS RESERVED.'"
      ]
     },
     "execution_count": 297,
     "metadata": {},
     "output_type": "execute_result"
    }
   ],
   "source": [
    "last_row = 171\n",
    "df.loc[last_row, 'Text']"
   ]
  },
  {
   "cell_type": "code",
   "execution_count": 298,
   "id": "6b2e9ff5-dfa9-422a-880c-b85425b3bee1",
   "metadata": {},
   "outputs": [],
   "source": [
    "df = df[~df['Text'].str.contains(df.loc[last_row, 'Text'])]"
   ]
  },
  {
   "cell_type": "code",
   "execution_count": 299,
   "id": "d4270d47-c23d-48b8-a764-f3384028b420",
   "metadata": {},
   "outputs": [],
   "source": [
    "df = df.loc[3:]\n",
    "df = df.reset_index(drop=True)"
   ]
  },
  {
   "cell_type": "code",
   "execution_count": 300,
   "id": "4efaa7cb-b119-40d7-a36e-34129b98b68c",
   "metadata": {},
   "outputs": [
    {
     "data": {
      "text/plain": [
       "Text\n",
       "False    167\n",
       "True       1\n",
       "Name: count, dtype: int64"
      ]
     },
     "execution_count": 300,
     "metadata": {},
     "output_type": "execute_result"
    }
   ],
   "source": [
    "# List of expressions whose rows in column 'Text' should be dropped\n",
    "expressions_to_drop = ['(APPLAUSE)', '(LAUGHTER)', '(CROSSTALK)']\n",
    "\n",
    "# Creating a boolean mask for rows starting with the specified expressions\n",
    "mask = df['Text'].str.startswith(tuple(expressions_to_drop))\n",
    "\n",
    "# Counting the number of rows for each expression\n",
    "counts = mask.value_counts()\n",
    "\n",
    "# Display the counts\n",
    "counts"
   ]
  },
  {
   "cell_type": "code",
   "execution_count": 301,
   "id": "79e39cba-76a8-4000-b022-fc57e82dd054",
   "metadata": {},
   "outputs": [],
   "source": [
    "# Dropping the rows that start with those expressions in column 'Text'\n",
    "df = df[~mask]\n",
    "df = df.reset_index(drop=True)"
   ]
  },
  {
   "cell_type": "code",
   "execution_count": 302,
   "id": "ad4f5be7-6d85-4482-8113-28156d867984",
   "metadata": {},
   "outputs": [
    {
     "data": {
      "text/html": [
       "<div>\n",
       "<style scoped>\n",
       "    .dataframe tbody tr th:only-of-type {\n",
       "        vertical-align: middle;\n",
       "    }\n",
       "\n",
       "    .dataframe tbody tr th {\n",
       "        vertical-align: top;\n",
       "    }\n",
       "\n",
       "    .dataframe thead th {\n",
       "        text-align: right;\n",
       "    }\n",
       "</style>\n",
       "<table border=\"1\" class=\"dataframe\">\n",
       "  <thead>\n",
       "    <tr style=\"text-align: right;\">\n",
       "      <th></th>\n",
       "      <th>Text</th>\n",
       "      <th>Title</th>\n",
       "      <th>Debate</th>\n",
       "      <th>Date</th>\n",
       "      <th>Participants</th>\n",
       "      <th>Moderators</th>\n",
       "    </tr>\n",
       "  </thead>\n",
       "  <tbody>\n",
       "    <tr>\n",
       "      <th>0</th>\n",
       "      <td>MODERATOR: Good evening from the Clark Athleti...</td>\n",
       "      <td>October 3, 2000 Transcript</td>\n",
       "      <td>The First Gore-Bush Presidential Debate</td>\n",
       "      <td>October 3, 2000</td>\n",
       "      <td>Gore-Bush</td>\n",
       "      <td>MODERATOR</td>\n",
       "    </tr>\n",
       "  </tbody>\n",
       "</table>\n",
       "</div>"
      ],
      "text/plain": [
       "                                                Text  \\\n",
       "0  MODERATOR: Good evening from the Clark Athleti...   \n",
       "\n",
       "                        Title                                   Debate  \\\n",
       "0  October 3, 2000 Transcript  The First Gore-Bush Presidential Debate   \n",
       "\n",
       "              Date Participants Moderators  \n",
       "0  October 3, 2000    Gore-Bush  MODERATOR  "
      ]
     },
     "execution_count": 302,
     "metadata": {},
     "output_type": "execute_result"
    }
   ],
   "source": [
    "df.head(1)"
   ]
  },
  {
   "cell_type": "code",
   "execution_count": 303,
   "id": "d158b25c-9236-480b-b24f-cfdd59555a69",
   "metadata": {},
   "outputs": [
    {
     "data": {
      "text/plain": [
       "'MODERATOR: Good evening from the Clark Athletic Center at the University of Massachusetts in Boston. I’m Jim Lehrer of the NewsHour on PBS, and I welcome you to the first of three 90-minute debates between the Democratic candidate for president, Vice President Al Gore and the Republican candidate, Governor George W. Bush of Texas. The debates are sponsored by the Commission on Presidential Debates and they will be conducted within formats and rules agreed to between the commission and the two campaigns. We’ll have the candidates at podiums. No answer to a question can exceed two minutes. Rebuttal is limited to one minute. But as moderator I have the option to follow up and to extend any particular give and take another three-and-a-half minutes. Even then, no single answer can exceed two minutes. The candidates under their rules may not question each other directly. There will be no opening statements, but each candidate may have up to two minutes for a closing statement. The questions and the subjects were chosen by me alone. I have told no one from the two campaigns, or the Commission, or anyone else involved what they are. There is a small audience in the hall tonight. They are not here to participate, only to listen. I have asked, and they have agreed, to remain silent for the next 90 minutes. Except for right now, when they will applaud as we welcome the two candidates, Governor Bush and Vice President Gore.'"
      ]
     },
     "execution_count": 303,
     "metadata": {},
     "output_type": "execute_result"
    }
   ],
   "source": [
    "df.loc[0, 'Text']"
   ]
  },
  {
   "cell_type": "code",
   "execution_count": 304,
   "id": "fdd4f05e-80b9-4759-96b1-e260cf61c96b",
   "metadata": {},
   "outputs": [
    {
     "name": "stdout",
     "output_type": "stream",
     "text": [
      "Number of turns: 167\n"
     ]
    }
   ],
   "source": [
    "df.at[0, 'Speaker'] = 1 # Adding column 'Speaker' by initialising it with a numeric value in order to avoid DtypeWarning\n",
    "df = df.astype('object') # Converting the column to the desired data type\n",
    "\n",
    "for index, row in df.iterrows():\n",
    "    match = re.match(r'^(\\w+): ', row['Text'])\n",
    "    if match:\n",
    "        speaker = match.group(1)\n",
    "        df.at[index, 'Speaker'] = speaker\n",
    "        text_without_speaker = row['Text'][len(match.group(0)):]\n",
    "        df.at[index, 'Text'] = text_without_speaker\n",
    "    else:\n",
    "        # Handle the case when no match is found (optional)\n",
    "        #df.at[index, 'Speaker'] = ''  # Set a default value\n",
    "        pass\n",
    "\n",
    "df['Speaker'].ffill(inplace=True)\n",
    "\n",
    "print('Number of turns:', df.shape[0])\n",
    "\n",
    "debate_list.append(title)\n",
    "turn_list.append(df.shape[0])\n",
    "\n",
    "df[['Title', 'Debate', 'Date', 'Participants', 'Moderators', 'Speaker', 'Text']].to_json(f'{debate_title}.jsonl', orient='records', lines=True)\n",
    "\n",
    "df[['Title', 'Debate', 'Date', 'Participants', 'Moderators', 'Speaker', 'Text']].to_csv(f'{debate_title}.tsv', sep='\\t', index=False, encoding='utf-8', lineterminator='\\n')"
   ]
  },
  {
   "cell_type": "markdown",
   "id": "c6d1dc59-f470-44c8-98e7-bf4cba0379de",
   "metadata": {},
   "source": [
    "## Debate 21"
   ]
  },
  {
   "cell_type": "code",
   "execution_count": 305,
   "id": "0b6e70c7-9e8a-4b0b-8a82-addd19bcddd1",
   "metadata": {},
   "outputs": [],
   "source": [
    "debate_title = debate_21\n",
    "url = debate_url_21\n",
    "response = requests.get(url)\n",
    "\n",
    "if response.status_code == 200:\n",
    "    page_content = response.content\n",
    "    # Step 2: Parse HTML content\n",
    "    soup = BeautifulSoup(page_content, 'lxml')\n",
    "\n",
    "    # Extract relevant tags (e.g., <h1>, <p>, etc.) and store them in a list\n",
    "    rows = []\n",
    "    for tag in soup.find_all(['h1', 'p']):\n",
    "        rows.append(tag.text.strip())  # Remove leading/trailing spaces\n",
    "    \n",
    "    # Create a DataFrame from the list of rows\n",
    "    df = pd.DataFrame(rows, columns=['Text'])\n",
    "\n",
    "else:\n",
    "    print(f'Failed to retrieve the page. Status code: {response.status_code}')"
   ]
  },
  {
   "cell_type": "code",
   "execution_count": 306,
   "id": "5bcea455-af53-4cef-8b56-7b3cd7b554e4",
   "metadata": {},
   "outputs": [
    {
     "data": {
      "text/html": [
       "<div>\n",
       "<style scoped>\n",
       "    .dataframe tbody tr th:only-of-type {\n",
       "        vertical-align: middle;\n",
       "    }\n",
       "\n",
       "    .dataframe tbody tr th {\n",
       "        vertical-align: top;\n",
       "    }\n",
       "\n",
       "    .dataframe thead th {\n",
       "        text-align: right;\n",
       "    }\n",
       "</style>\n",
       "<table border=\"1\" class=\"dataframe\">\n",
       "  <thead>\n",
       "    <tr style=\"text-align: right;\">\n",
       "      <th></th>\n",
       "      <th>Text</th>\n",
       "    </tr>\n",
       "  </thead>\n",
       "  <tbody>\n",
       "    <tr>\n",
       "      <th>0</th>\n",
       "      <td>October 5, 2000 Debate Transcript</td>\n",
       "    </tr>\n",
       "    <tr>\n",
       "      <th>1</th>\n",
       "      <td>October 5, 2000</td>\n",
       "    </tr>\n",
       "    <tr>\n",
       "      <th>2</th>\n",
       "      <td>The Lieberman-Cheney Vice Presidential Debate</td>\n",
       "    </tr>\n",
       "    <tr>\n",
       "      <th>3</th>\n",
       "      <td>MODERATOR: From historic Danville, Kentucky, g...</td>\n",
       "    </tr>\n",
       "    <tr>\n",
       "      <th>4</th>\n",
       "      <td>LIEBERMAN: Before I answer that very important...</td>\n",
       "    </tr>\n",
       "    <tr>\n",
       "      <th>...</th>\n",
       "      <td>...</td>\n",
       "    </tr>\n",
       "    <tr>\n",
       "      <th>107</th>\n",
       "      <td>MODERATOR: Senator Cheney and Senator Lieberma...</td>\n",
       "    </tr>\n",
       "    <tr>\n",
       "      <th>108</th>\n",
       "      <td>LIEBERMAN: Thank you, Bernie. It was a great e...</td>\n",
       "    </tr>\n",
       "    <tr>\n",
       "      <th>109</th>\n",
       "      <td>MODERATOR: Well, you hear the appreciation her...</td>\n",
       "    </tr>\n",
       "    <tr>\n",
       "      <th>110</th>\n",
       "      <td>(APPLAUSE)</td>\n",
       "    </tr>\n",
       "    <tr>\n",
       "      <th>111</th>\n",
       "      <td>© COPYRIGHT 2020 THE COMMISSION ON PRESIDENTIA...</td>\n",
       "    </tr>\n",
       "  </tbody>\n",
       "</table>\n",
       "<p>112 rows × 1 columns</p>\n",
       "</div>"
      ],
      "text/plain": [
       "                                                  Text\n",
       "0                    October 5, 2000 Debate Transcript\n",
       "1                                      October 5, 2000\n",
       "2        The Lieberman-Cheney Vice Presidential Debate\n",
       "3    MODERATOR: From historic Danville, Kentucky, g...\n",
       "4    LIEBERMAN: Before I answer that very important...\n",
       "..                                                 ...\n",
       "107  MODERATOR: Senator Cheney and Senator Lieberma...\n",
       "108  LIEBERMAN: Thank you, Bernie. It was a great e...\n",
       "109  MODERATOR: Well, you hear the appreciation her...\n",
       "110                                         (APPLAUSE)\n",
       "111  © COPYRIGHT 2020 THE COMMISSION ON PRESIDENTIA...\n",
       "\n",
       "[112 rows x 1 columns]"
      ]
     },
     "execution_count": 306,
     "metadata": {},
     "output_type": "execute_result"
    }
   ],
   "source": [
    "df"
   ]
  },
  {
   "cell_type": "code",
   "execution_count": 307,
   "id": "ba654ae2-177e-4502-930b-9b787778e47e",
   "metadata": {},
   "outputs": [
    {
     "data": {
      "text/html": [
       "<div>\n",
       "<style scoped>\n",
       "    .dataframe tbody tr th:only-of-type {\n",
       "        vertical-align: middle;\n",
       "    }\n",
       "\n",
       "    .dataframe tbody tr th {\n",
       "        vertical-align: top;\n",
       "    }\n",
       "\n",
       "    .dataframe thead th {\n",
       "        text-align: right;\n",
       "    }\n",
       "</style>\n",
       "<table border=\"1\" class=\"dataframe\">\n",
       "  <thead>\n",
       "    <tr style=\"text-align: right;\">\n",
       "      <th></th>\n",
       "      <th>Text</th>\n",
       "    </tr>\n",
       "  </thead>\n",
       "  <tbody>\n",
       "    <tr>\n",
       "      <th>0</th>\n",
       "      <td>October 5, 2000 Debate Transcript</td>\n",
       "    </tr>\n",
       "    <tr>\n",
       "      <th>1</th>\n",
       "      <td>October 5, 2000</td>\n",
       "    </tr>\n",
       "    <tr>\n",
       "      <th>2</th>\n",
       "      <td>The Lieberman-Cheney Vice Presidential Debate</td>\n",
       "    </tr>\n",
       "    <tr>\n",
       "      <th>3</th>\n",
       "      <td>MODERATOR: From historic Danville, Kentucky, g...</td>\n",
       "    </tr>\n",
       "    <tr>\n",
       "      <th>4</th>\n",
       "      <td>LIEBERMAN: Before I answer that very important...</td>\n",
       "    </tr>\n",
       "    <tr>\n",
       "      <th>5</th>\n",
       "      <td>MODERATOR: You have about ten seconds.</td>\n",
       "    </tr>\n",
       "    <tr>\n",
       "      <th>6</th>\n",
       "      <td>LIEBERMAN: We’re not spending any more than is...</td>\n",
       "    </tr>\n",
       "    <tr>\n",
       "      <th>7</th>\n",
       "      <td>MODERATOR: Secretary Cheney.</td>\n",
       "    </tr>\n",
       "    <tr>\n",
       "      <th>8</th>\n",
       "      <td>CHENEY: I want to thank the people here in Cen...</td>\n",
       "    </tr>\n",
       "    <tr>\n",
       "      <th>9</th>\n",
       "      <td>LIEBERMAN: I promise not to sing.</td>\n",
       "    </tr>\n",
       "  </tbody>\n",
       "</table>\n",
       "</div>"
      ],
      "text/plain": [
       "                                                Text\n",
       "0                  October 5, 2000 Debate Transcript\n",
       "1                                    October 5, 2000\n",
       "2      The Lieberman-Cheney Vice Presidential Debate\n",
       "3  MODERATOR: From historic Danville, Kentucky, g...\n",
       "4  LIEBERMAN: Before I answer that very important...\n",
       "5             MODERATOR: You have about ten seconds.\n",
       "6  LIEBERMAN: We’re not spending any more than is...\n",
       "7                       MODERATOR: Secretary Cheney.\n",
       "8  CHENEY: I want to thank the people here in Cen...\n",
       "9                  LIEBERMAN: I promise not to sing."
      ]
     },
     "execution_count": 307,
     "metadata": {},
     "output_type": "execute_result"
    }
   ],
   "source": [
    "df.head(10)"
   ]
  },
  {
   "cell_type": "code",
   "execution_count": 308,
   "id": "e9d8f971-4142-4598-bb09-4eaccb62bb35",
   "metadata": {},
   "outputs": [],
   "source": [
    "title = df.at[0, 'Text']\n",
    "df['Title'] = title\n",
    "\n",
    "debate = df.at[2, 'Text']\n",
    "df['Debate'] = debate\n",
    "\n",
    "date = df.at[1, 'Text']\n",
    "df['Date'] = date\n",
    "\n",
    "participants = df.at[2, 'Text']\n",
    "participants = re.match(r'^\\w+ (\\w+-\\w+)', participants).group(1)\n",
    "#participants = re.sub(r'^\\w+:\\n', '', participants)\n",
    "#participants = re.sub(r'\\n', ' ', participants)\n",
    "df['Participants'] = participants\n",
    "\n",
    "moderators = df.at[3, 'Text']\n",
    "moderators = re.match(r'(^\\w+)', moderators).group(1)\n",
    "#moderators = re.sub(r'^\\w+:\\n', '', moderators)\n",
    "df['Moderators'] = moderators"
   ]
  },
  {
   "cell_type": "code",
   "execution_count": 309,
   "id": "9ff2e102-0f16-4d80-ab73-f7ef77995583",
   "metadata": {},
   "outputs": [
    {
     "data": {
      "text/plain": [
       "'© COPYRIGHT 2020 THE COMMISSION ON PRESIDENTIAL DEBATES. ALL RIGHTS RESERVED.'"
      ]
     },
     "execution_count": 309,
     "metadata": {},
     "output_type": "execute_result"
    }
   ],
   "source": [
    "last_row = 111\n",
    "df.loc[last_row, 'Text']"
   ]
  },
  {
   "cell_type": "code",
   "execution_count": 310,
   "id": "88c5e214-f5b4-4361-a4dc-c05f6af01926",
   "metadata": {},
   "outputs": [],
   "source": [
    "df = df[~df['Text'].str.contains(df.loc[last_row, 'Text'])]"
   ]
  },
  {
   "cell_type": "code",
   "execution_count": 311,
   "id": "4edca69f-4955-4b93-9056-490d1ec7622c",
   "metadata": {},
   "outputs": [],
   "source": [
    "df = df.loc[3:]\n",
    "df = df.reset_index(drop=True)"
   ]
  },
  {
   "cell_type": "code",
   "execution_count": 312,
   "id": "272c19c5-621a-4285-b3c9-acdcfddb5d10",
   "metadata": {},
   "outputs": [
    {
     "data": {
      "text/plain": [
       "Text\n",
       "False    107\n",
       "True       1\n",
       "Name: count, dtype: int64"
      ]
     },
     "execution_count": 312,
     "metadata": {},
     "output_type": "execute_result"
    }
   ],
   "source": [
    "# List of expressions whose rows in column 'Text' should be dropped\n",
    "expressions_to_drop = ['(APPLAUSE)', '(LAUGHTER)', '(CROSSTALK)']\n",
    "\n",
    "# Creating a boolean mask for rows starting with the specified expressions\n",
    "mask = df['Text'].str.startswith(tuple(expressions_to_drop))\n",
    "\n",
    "# Counting the number of rows for each expression\n",
    "counts = mask.value_counts()\n",
    "\n",
    "# Display the counts\n",
    "counts"
   ]
  },
  {
   "cell_type": "code",
   "execution_count": 313,
   "id": "918b113a-4fde-49e7-b950-eabc5f408202",
   "metadata": {},
   "outputs": [],
   "source": [
    "# Dropping the rows that start with those expressions in column 'Text'\n",
    "df = df[~mask]\n",
    "df = df.reset_index(drop=True)"
   ]
  },
  {
   "cell_type": "code",
   "execution_count": 314,
   "id": "6a5b3396-08c7-4ccd-aa1d-1293c9fc5475",
   "metadata": {},
   "outputs": [
    {
     "data": {
      "text/html": [
       "<div>\n",
       "<style scoped>\n",
       "    .dataframe tbody tr th:only-of-type {\n",
       "        vertical-align: middle;\n",
       "    }\n",
       "\n",
       "    .dataframe tbody tr th {\n",
       "        vertical-align: top;\n",
       "    }\n",
       "\n",
       "    .dataframe thead th {\n",
       "        text-align: right;\n",
       "    }\n",
       "</style>\n",
       "<table border=\"1\" class=\"dataframe\">\n",
       "  <thead>\n",
       "    <tr style=\"text-align: right;\">\n",
       "      <th></th>\n",
       "      <th>Text</th>\n",
       "      <th>Title</th>\n",
       "      <th>Debate</th>\n",
       "      <th>Date</th>\n",
       "      <th>Participants</th>\n",
       "      <th>Moderators</th>\n",
       "    </tr>\n",
       "  </thead>\n",
       "  <tbody>\n",
       "    <tr>\n",
       "      <th>0</th>\n",
       "      <td>MODERATOR: From historic Danville, Kentucky, g...</td>\n",
       "      <td>October 5, 2000 Debate Transcript</td>\n",
       "      <td>The Lieberman-Cheney Vice Presidential Debate</td>\n",
       "      <td>October 5, 2000</td>\n",
       "      <td>Lieberman-Cheney</td>\n",
       "      <td>MODERATOR</td>\n",
       "    </tr>\n",
       "  </tbody>\n",
       "</table>\n",
       "</div>"
      ],
      "text/plain": [
       "                                                Text  \\\n",
       "0  MODERATOR: From historic Danville, Kentucky, g...   \n",
       "\n",
       "                               Title  \\\n",
       "0  October 5, 2000 Debate Transcript   \n",
       "\n",
       "                                          Debate             Date  \\\n",
       "0  The Lieberman-Cheney Vice Presidential Debate  October 5, 2000   \n",
       "\n",
       "       Participants Moderators  \n",
       "0  Lieberman-Cheney  MODERATOR  "
      ]
     },
     "execution_count": 314,
     "metadata": {},
     "output_type": "execute_result"
    }
   ],
   "source": [
    "df.head(1)"
   ]
  },
  {
   "cell_type": "code",
   "execution_count": 315,
   "id": "b0f51f9b-edad-4a94-8182-cb7c0ef2b46c",
   "metadata": {},
   "outputs": [
    {
     "data": {
      "text/plain": [
       "'MODERATOR: From historic Danville, Kentucky, good evening, and welcome to this year’s only vice presidential debate sponsored by the Commission on Presidential Debates. I’m Bernard Shaw of CNN, moderator. Tonight we come to you from Newlin hall in the Norton Center for the Arts on the campus of Centre College. To President John Rausch, the faculty, students and community leaders state-wide, we thank you for hosting this debate. The candidates are the Republican nominee, former Defense Secretary Dick Cheney of Wyoming, and the Democratic nominee, Senator Joseph Lieberman of Connecticut. The Commission, these candidates and their campaign staffs have agreed to the following rules. A candidate shall have two minutes to respond to the moderator’s question. The other candidate shall have two minutes to comment on the question or the first candidate’s answer. When I exercise the moderator’s discretion of extending discussion of a question, no candidate may speak for more than two minutes at one time. This audience has been told no disruptions will be tolerated. A prior coin toss has determined that the first question will go to the Democratic candidate. Senator, few hard working Americans would base their well-being on bonuses they hope to get five or ten years from now. Why do you, and you, Secretary Cheney, predict surpluses you cannot possibly guarantee to pay for your proposed programs?'"
      ]
     },
     "execution_count": 315,
     "metadata": {},
     "output_type": "execute_result"
    }
   ],
   "source": [
    "df.loc[0, 'Text']"
   ]
  },
  {
   "cell_type": "code",
   "execution_count": 316,
   "id": "a23d9941-7f21-47e4-b327-78d3429c39fb",
   "metadata": {},
   "outputs": [
    {
     "name": "stdout",
     "output_type": "stream",
     "text": [
      "Number of turns: 107\n"
     ]
    }
   ],
   "source": [
    "df.at[0, 'Speaker'] = 1 # Adding column 'Speaker' by initialising it with a numeric value in order to avoid DtypeWarning\n",
    "df = df.astype('object') # Converting the column to the desired data type\n",
    "\n",
    "for index, row in df.iterrows():\n",
    "    match = re.match(r'^(\\w+): ', row['Text'])\n",
    "    if match:\n",
    "        speaker = match.group(1)\n",
    "        df.at[index, 'Speaker'] = speaker\n",
    "        text_without_speaker = row['Text'][len(match.group(0)):]\n",
    "        df.at[index, 'Text'] = text_without_speaker\n",
    "    else:\n",
    "        # Handle the case when no match is found (optional)\n",
    "        #df.at[index, 'Speaker'] = ''  # Set a default value\n",
    "        pass\n",
    "\n",
    "df['Speaker'].ffill(inplace=True)\n",
    "\n",
    "print('Number of turns:', df.shape[0])\n",
    "\n",
    "debate_list.append(title)\n",
    "turn_list.append(df.shape[0])\n",
    "\n",
    "df[['Title', 'Debate', 'Date', 'Participants', 'Moderators', 'Speaker', 'Text']].to_json(f'{debate_title}.jsonl', orient='records', lines=True)\n",
    "\n",
    "df[['Title', 'Debate', 'Date', 'Participants', 'Moderators', 'Speaker', 'Text']].to_csv(f'{debate_title}.tsv', sep='\\t', index=False, encoding='utf-8', lineterminator='\\n')"
   ]
  },
  {
   "cell_type": "markdown",
   "id": "0e1d5f27-e472-4066-97a9-7ca0791244bc",
   "metadata": {},
   "source": [
    "## Debate 22"
   ]
  },
  {
   "cell_type": "code",
   "execution_count": 317,
   "id": "3ee917a9-ed28-4b74-9d01-e7f60e4c9b0d",
   "metadata": {},
   "outputs": [],
   "source": [
    "debate_title = debate_22\n",
    "url = debate_url_22\n",
    "response = requests.get(url)\n",
    "\n",
    "if response.status_code == 200:\n",
    "    page_content = response.content\n",
    "    # Step 2: Parse HTML content\n",
    "    soup = BeautifulSoup(page_content, 'lxml')\n",
    "\n",
    "    # Extract relevant tags (e.g., <h1>, <p>, etc.) and store them in a list\n",
    "    rows = []\n",
    "    for tag in soup.find_all(['h1', 'p']):\n",
    "        rows.append(tag.text.strip())  # Remove leading/trailing spaces\n",
    "    \n",
    "    # Create a DataFrame from the list of rows\n",
    "    df = pd.DataFrame(rows, columns=['Text'])\n",
    "\n",
    "else:\n",
    "    print(f'Failed to retrieve the page. Status code: {response.status_code}')"
   ]
  },
  {
   "cell_type": "code",
   "execution_count": 318,
   "id": "6c22c35c-fb66-4b29-ac47-0540c1652a1f",
   "metadata": {},
   "outputs": [
    {
     "data": {
      "text/html": [
       "<div>\n",
       "<style scoped>\n",
       "    .dataframe tbody tr th:only-of-type {\n",
       "        vertical-align: middle;\n",
       "    }\n",
       "\n",
       "    .dataframe tbody tr th {\n",
       "        vertical-align: top;\n",
       "    }\n",
       "\n",
       "    .dataframe thead th {\n",
       "        text-align: right;\n",
       "    }\n",
       "</style>\n",
       "<table border=\"1\" class=\"dataframe\">\n",
       "  <thead>\n",
       "    <tr style=\"text-align: right;\">\n",
       "      <th></th>\n",
       "      <th>Text</th>\n",
       "    </tr>\n",
       "  </thead>\n",
       "  <tbody>\n",
       "    <tr>\n",
       "      <th>0</th>\n",
       "      <td>October 11, 2000 Debate Transcript</td>\n",
       "    </tr>\n",
       "    <tr>\n",
       "      <th>1</th>\n",
       "      <td>October 11, 2000</td>\n",
       "    </tr>\n",
       "    <tr>\n",
       "      <th>2</th>\n",
       "      <td>The Second Gore-Bush Presidential Debate</td>\n",
       "    </tr>\n",
       "    <tr>\n",
       "      <th>3</th>\n",
       "      <td>MODERATOR: Good evening, from Wake Chapel at W...</td>\n",
       "    </tr>\n",
       "    <tr>\n",
       "      <th>4</th>\n",
       "      <td>BUSH: I have, I have. First question is what’s...</td>\n",
       "    </tr>\n",
       "    <tr>\n",
       "      <th>...</th>\n",
       "      <td>...</td>\n",
       "    </tr>\n",
       "    <tr>\n",
       "      <th>231</th>\n",
       "      <td>MODERATOR: Governor Bush, two minutes.</td>\n",
       "    </tr>\n",
       "    <tr>\n",
       "      <th>232</th>\n",
       "      <td>BUSH: Jim, thank you very much. Mr. Vice Presi...</td>\n",
       "    </tr>\n",
       "    <tr>\n",
       "      <th>233</th>\n",
       "      <td>MODERATOR: And we will return next Tuesday nig...</td>\n",
       "    </tr>\n",
       "    <tr>\n",
       "      <th>234</th>\n",
       "      <td>(APPLAUSE)</td>\n",
       "    </tr>\n",
       "    <tr>\n",
       "      <th>235</th>\n",
       "      <td>© COPYRIGHT 2020 THE COMMISSION ON PRESIDENTIA...</td>\n",
       "    </tr>\n",
       "  </tbody>\n",
       "</table>\n",
       "<p>236 rows × 1 columns</p>\n",
       "</div>"
      ],
      "text/plain": [
       "                                                  Text\n",
       "0                   October 11, 2000 Debate Transcript\n",
       "1                                     October 11, 2000\n",
       "2             The Second Gore-Bush Presidential Debate\n",
       "3    MODERATOR: Good evening, from Wake Chapel at W...\n",
       "4    BUSH: I have, I have. First question is what’s...\n",
       "..                                                 ...\n",
       "231             MODERATOR: Governor Bush, two minutes.\n",
       "232  BUSH: Jim, thank you very much. Mr. Vice Presi...\n",
       "233  MODERATOR: And we will return next Tuesday nig...\n",
       "234                                         (APPLAUSE)\n",
       "235  © COPYRIGHT 2020 THE COMMISSION ON PRESIDENTIA...\n",
       "\n",
       "[236 rows x 1 columns]"
      ]
     },
     "execution_count": 318,
     "metadata": {},
     "output_type": "execute_result"
    }
   ],
   "source": [
    "df"
   ]
  },
  {
   "cell_type": "code",
   "execution_count": 319,
   "id": "ec5174a5-0027-4c06-a44f-ff174513e70c",
   "metadata": {},
   "outputs": [
    {
     "data": {
      "text/html": [
       "<div>\n",
       "<style scoped>\n",
       "    .dataframe tbody tr th:only-of-type {\n",
       "        vertical-align: middle;\n",
       "    }\n",
       "\n",
       "    .dataframe tbody tr th {\n",
       "        vertical-align: top;\n",
       "    }\n",
       "\n",
       "    .dataframe thead th {\n",
       "        text-align: right;\n",
       "    }\n",
       "</style>\n",
       "<table border=\"1\" class=\"dataframe\">\n",
       "  <thead>\n",
       "    <tr style=\"text-align: right;\">\n",
       "      <th></th>\n",
       "      <th>Text</th>\n",
       "    </tr>\n",
       "  </thead>\n",
       "  <tbody>\n",
       "    <tr>\n",
       "      <th>0</th>\n",
       "      <td>October 11, 2000 Debate Transcript</td>\n",
       "    </tr>\n",
       "    <tr>\n",
       "      <th>1</th>\n",
       "      <td>October 11, 2000</td>\n",
       "    </tr>\n",
       "    <tr>\n",
       "      <th>2</th>\n",
       "      <td>The Second Gore-Bush Presidential Debate</td>\n",
       "    </tr>\n",
       "    <tr>\n",
       "      <th>3</th>\n",
       "      <td>MODERATOR: Good evening, from Wake Chapel at W...</td>\n",
       "    </tr>\n",
       "    <tr>\n",
       "      <th>4</th>\n",
       "      <td>BUSH: I have, I have. First question is what’s...</td>\n",
       "    </tr>\n",
       "    <tr>\n",
       "      <th>5</th>\n",
       "      <td>MODERATOR: Vice President Gore?</td>\n",
       "    </tr>\n",
       "    <tr>\n",
       "      <th>6</th>\n",
       "      <td>GORE: Yes, Jim. I’ve thought a lot about that ...</td>\n",
       "    </tr>\n",
       "    <tr>\n",
       "      <th>7</th>\n",
       "      <td>MODERATOR: Should the people of the world look...</td>\n",
       "    </tr>\n",
       "    <tr>\n",
       "      <th>8</th>\n",
       "      <td>BUSH: Well, I think they ought to look at us a...</td>\n",
       "    </tr>\n",
       "    <tr>\n",
       "      <th>9</th>\n",
       "      <td>MODERATOR: A humble nation.</td>\n",
       "    </tr>\n",
       "  </tbody>\n",
       "</table>\n",
       "</div>"
      ],
      "text/plain": [
       "                                                Text\n",
       "0                 October 11, 2000 Debate Transcript\n",
       "1                                   October 11, 2000\n",
       "2           The Second Gore-Bush Presidential Debate\n",
       "3  MODERATOR: Good evening, from Wake Chapel at W...\n",
       "4  BUSH: I have, I have. First question is what’s...\n",
       "5                    MODERATOR: Vice President Gore?\n",
       "6  GORE: Yes, Jim. I’ve thought a lot about that ...\n",
       "7  MODERATOR: Should the people of the world look...\n",
       "8  BUSH: Well, I think they ought to look at us a...\n",
       "9                        MODERATOR: A humble nation."
      ]
     },
     "execution_count": 319,
     "metadata": {},
     "output_type": "execute_result"
    }
   ],
   "source": [
    "df.head(10)"
   ]
  },
  {
   "cell_type": "code",
   "execution_count": 320,
   "id": "fd482638-f3b8-431c-965b-70cb38035b5c",
   "metadata": {},
   "outputs": [],
   "source": [
    "title = df.at[0, 'Text']\n",
    "df['Title'] = title\n",
    "\n",
    "debate = df.at[2, 'Text']\n",
    "df['Debate'] = debate\n",
    "\n",
    "date = df.at[1, 'Text']\n",
    "df['Date'] = date\n",
    "\n",
    "participants = df.at[2, 'Text']\n",
    "participants = re.match(r'^\\w+ \\w+ (\\w+-\\w+)', participants).group(1)\n",
    "#participants = re.sub(r'^\\w+:\\n', '', participants)\n",
    "#participants = re.sub(r'\\n', ' ', participants)\n",
    "df['Participants'] = participants\n",
    "\n",
    "moderators = df.at[3, 'Text']\n",
    "moderators = re.match(r'(^\\w+)', moderators).group(1)\n",
    "#moderators = re.sub(r'^\\w+:\\n', '', moderators)\n",
    "df['Moderators'] = moderators"
   ]
  },
  {
   "cell_type": "code",
   "execution_count": 321,
   "id": "a5fe7674-15fd-42f5-8c7b-4c75c94b81f7",
   "metadata": {},
   "outputs": [
    {
     "data": {
      "text/plain": [
       "'© COPYRIGHT 2020 THE COMMISSION ON PRESIDENTIAL DEBATES. ALL RIGHTS RESERVED.'"
      ]
     },
     "execution_count": 321,
     "metadata": {},
     "output_type": "execute_result"
    }
   ],
   "source": [
    "last_row = 235\n",
    "df.loc[last_row, 'Text']"
   ]
  },
  {
   "cell_type": "code",
   "execution_count": 322,
   "id": "ea8c0bf9-0b12-4c21-96f7-57d8f23def3a",
   "metadata": {},
   "outputs": [],
   "source": [
    "df = df[~df['Text'].str.contains(df.loc[last_row, 'Text'])]"
   ]
  },
  {
   "cell_type": "code",
   "execution_count": 323,
   "id": "0ec8dd64-9cd9-4453-8a59-34d11e8cb690",
   "metadata": {},
   "outputs": [],
   "source": [
    "df = df.loc[3:]\n",
    "df = df.reset_index(drop=True)"
   ]
  },
  {
   "cell_type": "code",
   "execution_count": 324,
   "id": "5a839f53-7bf9-4920-833e-d98fa74c7023",
   "metadata": {},
   "outputs": [
    {
     "data": {
      "text/plain": [
       "Text\n",
       "False    231\n",
       "True       1\n",
       "Name: count, dtype: int64"
      ]
     },
     "execution_count": 324,
     "metadata": {},
     "output_type": "execute_result"
    }
   ],
   "source": [
    "# List of expressions whose rows in column 'Text' should be dropped\n",
    "expressions_to_drop = ['(APPLAUSE)', '(LAUGHTER)', '(CROSSTALK)']\n",
    "\n",
    "# Creating a boolean mask for rows starting with the specified expressions\n",
    "mask = df['Text'].str.startswith(tuple(expressions_to_drop))\n",
    "\n",
    "# Counting the number of rows for each expression\n",
    "counts = mask.value_counts()\n",
    "\n",
    "# Display the counts\n",
    "counts"
   ]
  },
  {
   "cell_type": "code",
   "execution_count": 325,
   "id": "e7ab382d-3820-48b4-8e8a-417c32840212",
   "metadata": {},
   "outputs": [],
   "source": [
    "# Dropping the rows that start with those expressions in column 'Text'\n",
    "df = df[~mask]\n",
    "df = df.reset_index(drop=True)"
   ]
  },
  {
   "cell_type": "code",
   "execution_count": 326,
   "id": "a41ba0dc-abab-496a-92f8-cd8624f3a70d",
   "metadata": {},
   "outputs": [
    {
     "data": {
      "text/html": [
       "<div>\n",
       "<style scoped>\n",
       "    .dataframe tbody tr th:only-of-type {\n",
       "        vertical-align: middle;\n",
       "    }\n",
       "\n",
       "    .dataframe tbody tr th {\n",
       "        vertical-align: top;\n",
       "    }\n",
       "\n",
       "    .dataframe thead th {\n",
       "        text-align: right;\n",
       "    }\n",
       "</style>\n",
       "<table border=\"1\" class=\"dataframe\">\n",
       "  <thead>\n",
       "    <tr style=\"text-align: right;\">\n",
       "      <th></th>\n",
       "      <th>Text</th>\n",
       "      <th>Title</th>\n",
       "      <th>Debate</th>\n",
       "      <th>Date</th>\n",
       "      <th>Participants</th>\n",
       "      <th>Moderators</th>\n",
       "    </tr>\n",
       "  </thead>\n",
       "  <tbody>\n",
       "    <tr>\n",
       "      <th>0</th>\n",
       "      <td>MODERATOR: Good evening, from Wake Chapel at W...</td>\n",
       "      <td>October 11, 2000 Debate Transcript</td>\n",
       "      <td>The Second Gore-Bush Presidential Debate</td>\n",
       "      <td>October 11, 2000</td>\n",
       "      <td>Gore-Bush</td>\n",
       "      <td>MODERATOR</td>\n",
       "    </tr>\n",
       "  </tbody>\n",
       "</table>\n",
       "</div>"
      ],
      "text/plain": [
       "                                                Text  \\\n",
       "0  MODERATOR: Good evening, from Wake Chapel at W...   \n",
       "\n",
       "                                Title  \\\n",
       "0  October 11, 2000 Debate Transcript   \n",
       "\n",
       "                                     Debate              Date Participants  \\\n",
       "0  The Second Gore-Bush Presidential Debate  October 11, 2000    Gore-Bush   \n",
       "\n",
       "  Moderators  \n",
       "0  MODERATOR  "
      ]
     },
     "execution_count": 326,
     "metadata": {},
     "output_type": "execute_result"
    }
   ],
   "source": [
    "df.head(1)"
   ]
  },
  {
   "cell_type": "code",
   "execution_count": 327,
   "id": "d3743165-0cb2-4fbd-83f2-e79d895d686f",
   "metadata": {},
   "outputs": [
    {
     "data": {
      "text/plain": [
       "'MODERATOR: Good evening, from Wake Chapel at Wake Forest University at Winston-Salem, North Carolina. I’m Jim Lehrer of the News Hour on PBS. Welcome to this second election 2000 debate between the Republican candidate for president, Gov. George W. Bush of Texas, and the Democratic candidate, Vice President Al Gore. These debates are sponsored by the Commission on Presidential Debates. The format and the rules are those negotiated by representatives of the two campaigns. Only the subjects tonight and the questions are mine. The format tonight is that of a conversation. The only prevailing rule is that no single response can ever, ever exceed two minutes. The prevailing rule for the audience here in the hall is as always, absolute quiet, please. Good evening, Governor Bush, Vice President Gore. The end of our 90 minutes last week in Boston, the total time each of you took was virtually the same. Let’s see if we can do the same tonight, or come close. Governor Bush, the first question goes to you. One of you is about to be elected the leader of the single-most powerful nation in the world, economically, financially, militarily, diplomatically, you name it. Have you formed any guiding principles for exercising this enormous power?'"
      ]
     },
     "execution_count": 327,
     "metadata": {},
     "output_type": "execute_result"
    }
   ],
   "source": [
    "df.loc[0, 'Text']"
   ]
  },
  {
   "cell_type": "code",
   "execution_count": 328,
   "id": "6cd160a1-a851-4465-b275-10d6642d0698",
   "metadata": {},
   "outputs": [
    {
     "name": "stdout",
     "output_type": "stream",
     "text": [
      "Number of turns: 231\n"
     ]
    }
   ],
   "source": [
    "df.at[0, 'Speaker'] = 1 # Adding column 'Speaker' by initialising it with a numeric value in order to avoid DtypeWarning\n",
    "df = df.astype('object') # Converting the column to the desired data type\n",
    "\n",
    "for index, row in df.iterrows():\n",
    "    match = re.match(r'^(\\w+): ', row['Text'])\n",
    "    if match:\n",
    "        speaker = match.group(1)\n",
    "        df.at[index, 'Speaker'] = speaker\n",
    "        text_without_speaker = row['Text'][len(match.group(0)):]\n",
    "        df.at[index, 'Text'] = text_without_speaker\n",
    "    else:\n",
    "        # Handle the case when no match is found (optional)\n",
    "        #df.at[index, 'Speaker'] = ''  # Set a default value\n",
    "        pass\n",
    "\n",
    "df['Speaker'].ffill(inplace=True)\n",
    "\n",
    "print('Number of turns:', df.shape[0])\n",
    "\n",
    "debate_list.append(title)\n",
    "turn_list.append(df.shape[0])\n",
    "\n",
    "df[['Title', 'Debate', 'Date', 'Participants', 'Moderators', 'Speaker', 'Text']].to_json(f'{debate_title}.jsonl', orient='records', lines=True)\n",
    "\n",
    "df[['Title', 'Debate', 'Date', 'Participants', 'Moderators', 'Speaker', 'Text']].to_csv(f'{debate_title}.tsv', sep='\\t', index=False, encoding='utf-8', lineterminator='\\n')"
   ]
  },
  {
   "cell_type": "markdown",
   "id": "a4139cf5-36ef-4f9e-86dd-a4bdeaa0a23f",
   "metadata": {},
   "source": [
    "## Debate 23"
   ]
  },
  {
   "cell_type": "code",
   "execution_count": null,
   "id": "00bdc957-4cd6-40bd-a007-96ac9ccec91c",
   "metadata": {},
   "outputs": [],
   "source": [
    "debate_title = debate_1\n",
    "url = debate_url_1\n",
    "response = requests.get(url)\n",
    "\n",
    "if response.status_code == 200:\n",
    "    page_content = response.content\n",
    "    # Step 2: Parse HTML content\n",
    "    soup = BeautifulSoup(page_content, 'lxml')\n",
    "\n",
    "    # Extract relevant tags (e.g., <h1>, <p>, etc.) and store them in a list\n",
    "    rows = []\n",
    "    for tag in soup.find_all(['h1', 'p']):\n",
    "        rows.append(tag.text.strip())  # Remove leading/trailing spaces\n",
    "    \n",
    "    # Create a DataFrame from the list of rows\n",
    "    df = pd.DataFrame(rows, columns=['Text'])\n",
    "\n",
    "else:\n",
    "    print(f'Failed to retrieve the page. Status code: {response.status_code}')"
   ]
  },
  {
   "cell_type": "code",
   "execution_count": null,
   "id": "b7166d7a-d882-4b22-9ec5-4bf3399b3c36",
   "metadata": {},
   "outputs": [],
   "source": [
    "df"
   ]
  },
  {
   "cell_type": "code",
   "execution_count": null,
   "id": "dec9a6c0-e0c6-4d8a-bda1-0ee709751d64",
   "metadata": {},
   "outputs": [],
   "source": [
    "df.head(10)"
   ]
  },
  {
   "cell_type": "code",
   "execution_count": null,
   "id": "3e54d00f-e9e2-494e-aba6-b51161927227",
   "metadata": {},
   "outputs": [],
   "source": [
    "title = df.at[0, 'Text']\n",
    "df['Title'] = title\n",
    "\n",
    "debate = df.at[1, 'Text']\n",
    "df['Debate'] = debate\n",
    "\n",
    "date = df.at[2, 'Text']\n",
    "df['Date'] = date\n",
    "\n",
    "participants = df.at[3, 'Text']\n",
    "participants = re.sub(r'^\\w+:\\n', '', participants)\n",
    "participants = re.sub(r'\\n', ' ', participants)\n",
    "df['Participants'] = participants\n",
    "\n",
    "moderators = df.at[4, 'Text']\n",
    "moderators = re.sub(r'^\\w+:\\n', '', moderators)\n",
    "df['Moderators'] = moderators"
   ]
  },
  {
   "cell_type": "code",
   "execution_count": null,
   "id": "edcca765-908a-46d0-9b2e-d3621c5a165b",
   "metadata": {},
   "outputs": [],
   "source": [
    "last_row = 250\n",
    "df.loc[last_row, 'Text']"
   ]
  },
  {
   "cell_type": "code",
   "execution_count": null,
   "id": "d191131e-1be3-42c9-94d7-51b19fd7f840",
   "metadata": {},
   "outputs": [],
   "source": [
    "df = df[~df['Text'].str.contains(df.loc[last_row, 'Text'])]"
   ]
  },
  {
   "cell_type": "code",
   "execution_count": null,
   "id": "969ce6b0-565d-4c9b-bfd4-8c4efdde1db1",
   "metadata": {},
   "outputs": [],
   "source": [
    "df = df.loc[5:]\n",
    "df = df.reset_index(drop=True)"
   ]
  },
  {
   "cell_type": "code",
   "execution_count": null,
   "id": "6fc100ed-db75-4773-9ed2-e2d4a1d35adb",
   "metadata": {},
   "outputs": [],
   "source": [
    "# List of expressions whose rows in column 'Text' should be dropped\n",
    "expressions_to_drop = ['(APPLAUSE)', '(LAUGHTER)', '(CROSSTALK)']\n",
    "\n",
    "# Creating a boolean mask for rows starting with the specified expressions\n",
    "mask = df['Text'].str.startswith(tuple(expressions_to_drop))\n",
    "\n",
    "# Counting the number of rows for each expression\n",
    "counts = mask.value_counts()\n",
    "\n",
    "# Display the counts\n",
    "counts"
   ]
  },
  {
   "cell_type": "code",
   "execution_count": null,
   "id": "39a3e1d6-a4cb-4f95-836d-1c9ed67040d9",
   "metadata": {},
   "outputs": [],
   "source": [
    "# Dropping the rows that start with those expressions in column 'Text'\n",
    "df = df[~mask]\n",
    "df = df.reset_index(drop=True)"
   ]
  },
  {
   "cell_type": "code",
   "execution_count": null,
   "id": "0b23f446-c2bd-476d-97a3-bd31f4a2c511",
   "metadata": {},
   "outputs": [],
   "source": [
    "df.head(1)"
   ]
  },
  {
   "cell_type": "code",
   "execution_count": null,
   "id": "086858c7-d45c-421f-925d-00097e5f4242",
   "metadata": {},
   "outputs": [],
   "source": [
    "df.loc[0, 'Text']"
   ]
  },
  {
   "cell_type": "code",
   "execution_count": null,
   "id": "96c852ae-2727-4675-89a6-51b8f7d43210",
   "metadata": {},
   "outputs": [],
   "source": [
    "df.at[0, 'Speaker'] = 1 # Adding column 'Speaker' by initialising it with a numeric value in order to avoid DtypeWarning\n",
    "df = df.astype('object') # Converting the column to the desired data type\n",
    "\n",
    "for index, row in df.iterrows():\n",
    "    match = re.match(r'^(\\w+):\\xa0', row['Text'])\n",
    "    if match:\n",
    "        speaker = match.group(1)\n",
    "        df.at[index, 'Speaker'] = speaker\n",
    "        text_without_speaker = row['Text'][len(match.group(0)):]\n",
    "        df.at[index, 'Text'] = text_without_speaker\n",
    "    else:\n",
    "        # Handle the case when no match is found (optional)\n",
    "        #df.at[index, 'Speaker'] = ''  # Set a default value\n",
    "        pass\n",
    "\n",
    "df['Speaker'].ffill(inplace=True)\n",
    "\n",
    "print('Number of turns:', df.shape[0])\n",
    "\n",
    "debate_list.append(title)\n",
    "turn_list.append(df.shape[0])\n",
    "\n",
    "df[['Title', 'Debate', 'Date', 'Participants', 'Moderators', 'Speaker', 'Text']].to_json(f'{debate_title}.jsonl', orient='records', lines=True)\n",
    "\n",
    "df[['Title', 'Debate', 'Date', 'Participants', 'Moderators', 'Speaker', 'Text']].to_csv(f'{debate_title}.tsv', sep='\\t', index=False, encoding='utf-8', lineterminator='\\n')"
   ]
  },
  {
   "cell_type": "markdown",
   "id": "326bc0cb-c100-4538-9a8a-633245d77846",
   "metadata": {},
   "source": [
    "## Debate 24"
   ]
  },
  {
   "cell_type": "code",
   "execution_count": null,
   "id": "94f7e502-019a-42f8-84fb-b473ce5b0649",
   "metadata": {},
   "outputs": [],
   "source": [
    "debate_title = debate_1\n",
    "url = debate_url_1\n",
    "response = requests.get(url)\n",
    "\n",
    "if response.status_code == 200:\n",
    "    page_content = response.content\n",
    "    # Step 2: Parse HTML content\n",
    "    soup = BeautifulSoup(page_content, 'lxml')\n",
    "\n",
    "    # Extract relevant tags (e.g., <h1>, <p>, etc.) and store them in a list\n",
    "    rows = []\n",
    "    for tag in soup.find_all(['h1', 'p']):\n",
    "        rows.append(tag.text.strip())  # Remove leading/trailing spaces\n",
    "    \n",
    "    # Create a DataFrame from the list of rows\n",
    "    df = pd.DataFrame(rows, columns=['Text'])\n",
    "\n",
    "else:\n",
    "    print(f'Failed to retrieve the page. Status code: {response.status_code}')"
   ]
  },
  {
   "cell_type": "code",
   "execution_count": null,
   "id": "ff88e0eb-bb1a-4c44-b590-9e52318fdf85",
   "metadata": {},
   "outputs": [],
   "source": [
    "df"
   ]
  },
  {
   "cell_type": "code",
   "execution_count": null,
   "id": "f1783889-bc01-4466-821c-985521127e18",
   "metadata": {},
   "outputs": [],
   "source": [
    "df.head(10)"
   ]
  },
  {
   "cell_type": "code",
   "execution_count": null,
   "id": "3ade98d5-bdb4-4b11-838c-f05ed0e02231",
   "metadata": {},
   "outputs": [],
   "source": [
    "title = df.at[0, 'Text']\n",
    "df['Title'] = title\n",
    "\n",
    "debate = df.at[1, 'Text']\n",
    "df['Debate'] = debate\n",
    "\n",
    "date = df.at[2, 'Text']\n",
    "df['Date'] = date\n",
    "\n",
    "participants = df.at[3, 'Text']\n",
    "participants = re.sub(r'^\\w+:\\n', '', participants)\n",
    "participants = re.sub(r'\\n', ' ', participants)\n",
    "df['Participants'] = participants\n",
    "\n",
    "moderators = df.at[4, 'Text']\n",
    "moderators = re.sub(r'^\\w+:\\n', '', moderators)\n",
    "df['Moderators'] = moderators"
   ]
  },
  {
   "cell_type": "code",
   "execution_count": null,
   "id": "a482d16f-4e86-43a7-b419-cfaa6636a46b",
   "metadata": {},
   "outputs": [],
   "source": [
    "last_row = 250\n",
    "df.loc[last_row, 'Text']"
   ]
  },
  {
   "cell_type": "code",
   "execution_count": null,
   "id": "b7344dd3-f2ba-416f-b34a-2cc254d93917",
   "metadata": {},
   "outputs": [],
   "source": [
    "df = df[~df['Text'].str.contains(df.loc[last_row, 'Text'])]"
   ]
  },
  {
   "cell_type": "code",
   "execution_count": null,
   "id": "936e6967-1117-4b29-8c6b-e12a2f65649d",
   "metadata": {},
   "outputs": [],
   "source": [
    "df = df.loc[5:]\n",
    "df = df.reset_index(drop=True)"
   ]
  },
  {
   "cell_type": "code",
   "execution_count": null,
   "id": "8aadb17e-4980-4131-9acd-f1ae79cfeb10",
   "metadata": {},
   "outputs": [],
   "source": [
    "# List of expressions whose rows in column 'Text' should be dropped\n",
    "expressions_to_drop = ['(APPLAUSE)', '(LAUGHTER)', '(CROSSTALK)']\n",
    "\n",
    "# Creating a boolean mask for rows starting with the specified expressions\n",
    "mask = df['Text'].str.startswith(tuple(expressions_to_drop))\n",
    "\n",
    "# Counting the number of rows for each expression\n",
    "counts = mask.value_counts()\n",
    "\n",
    "# Display the counts\n",
    "counts"
   ]
  },
  {
   "cell_type": "code",
   "execution_count": null,
   "id": "034f6c22-8462-4bb0-b7d8-f2f373d88375",
   "metadata": {},
   "outputs": [],
   "source": [
    "# Dropping the rows that start with those expressions in column 'Text'\n",
    "df = df[~mask]\n",
    "df = df.reset_index(drop=True)"
   ]
  },
  {
   "cell_type": "code",
   "execution_count": null,
   "id": "f957f702-a34a-4a64-a746-1757ebabb9a5",
   "metadata": {},
   "outputs": [],
   "source": [
    "df.head(1)"
   ]
  },
  {
   "cell_type": "code",
   "execution_count": null,
   "id": "ef47da94-eff3-4ab8-9d21-6716548ad595",
   "metadata": {},
   "outputs": [],
   "source": [
    "df.loc[0, 'Text']"
   ]
  },
  {
   "cell_type": "code",
   "execution_count": null,
   "id": "a07c1ce6-1852-4e53-9ea3-ad097cb936c0",
   "metadata": {},
   "outputs": [],
   "source": [
    "df.at[0, 'Speaker'] = 1 # Adding column 'Speaker' by initialising it with a numeric value in order to avoid DtypeWarning\n",
    "df = df.astype('object') # Converting the column to the desired data type\n",
    "\n",
    "for index, row in df.iterrows():\n",
    "    match = re.match(r'^(\\w+):\\xa0', row['Text'])\n",
    "    if match:\n",
    "        speaker = match.group(1)\n",
    "        df.at[index, 'Speaker'] = speaker\n",
    "        text_without_speaker = row['Text'][len(match.group(0)):]\n",
    "        df.at[index, 'Text'] = text_without_speaker\n",
    "    else:\n",
    "        # Handle the case when no match is found (optional)\n",
    "        #df.at[index, 'Speaker'] = ''  # Set a default value\n",
    "        pass\n",
    "\n",
    "df['Speaker'].ffill(inplace=True)\n",
    "\n",
    "print('Number of turns:', df.shape[0])\n",
    "\n",
    "debate_list.append(title)\n",
    "turn_list.append(df.shape[0])\n",
    "\n",
    "df[['Title', 'Debate', 'Date', 'Participants', 'Moderators', 'Speaker', 'Text']].to_json(f'{debate_title}.jsonl', orient='records', lines=True)\n",
    "\n",
    "df[['Title', 'Debate', 'Date', 'Participants', 'Moderators', 'Speaker', 'Text']].to_csv(f'{debate_title}.tsv', sep='\\t', index=False, encoding='utf-8', lineterminator='\\n')"
   ]
  },
  {
   "cell_type": "markdown",
   "id": "95d46d93-0186-4313-8f42-ba47890de51f",
   "metadata": {},
   "source": [
    "## Debate 25"
   ]
  },
  {
   "cell_type": "code",
   "execution_count": null,
   "id": "a18391da-4929-4aee-852d-32ad3df030c1",
   "metadata": {},
   "outputs": [],
   "source": [
    "debate_title = debate_1\n",
    "url = debate_url_1\n",
    "response = requests.get(url)\n",
    "\n",
    "if response.status_code == 200:\n",
    "    page_content = response.content\n",
    "    # Step 2: Parse HTML content\n",
    "    soup = BeautifulSoup(page_content, 'lxml')\n",
    "\n",
    "    # Extract relevant tags (e.g., <h1>, <p>, etc.) and store them in a list\n",
    "    rows = []\n",
    "    for tag in soup.find_all(['h1', 'p']):\n",
    "        rows.append(tag.text.strip())  # Remove leading/trailing spaces\n",
    "    \n",
    "    # Create a DataFrame from the list of rows\n",
    "    df = pd.DataFrame(rows, columns=['Text'])\n",
    "\n",
    "else:\n",
    "    print(f'Failed to retrieve the page. Status code: {response.status_code}')"
   ]
  },
  {
   "cell_type": "code",
   "execution_count": null,
   "id": "4f8bfefe-f8bd-45a9-9b26-7e13ff148386",
   "metadata": {},
   "outputs": [],
   "source": [
    "df"
   ]
  },
  {
   "cell_type": "code",
   "execution_count": null,
   "id": "aa59ba6b-7238-48b7-8fb7-ce568e4cb28e",
   "metadata": {},
   "outputs": [],
   "source": [
    "df.head(10)"
   ]
  },
  {
   "cell_type": "code",
   "execution_count": null,
   "id": "4ad4e4a5-27f2-4e11-afbf-3400eab7583a",
   "metadata": {},
   "outputs": [],
   "source": [
    "title = df.at[0, 'Text']\n",
    "df['Title'] = title\n",
    "\n",
    "debate = df.at[1, 'Text']\n",
    "df['Debate'] = debate\n",
    "\n",
    "date = df.at[2, 'Text']\n",
    "df['Date'] = date\n",
    "\n",
    "participants = df.at[3, 'Text']\n",
    "participants = re.sub(r'^\\w+:\\n', '', participants)\n",
    "participants = re.sub(r'\\n', ' ', participants)\n",
    "df['Participants'] = participants\n",
    "\n",
    "moderators = df.at[4, 'Text']\n",
    "moderators = re.sub(r'^\\w+:\\n', '', moderators)\n",
    "df['Moderators'] = moderators"
   ]
  },
  {
   "cell_type": "code",
   "execution_count": null,
   "id": "1e1d9a56-00ff-4b76-b5cd-b43729715785",
   "metadata": {},
   "outputs": [],
   "source": [
    "last_row = 250\n",
    "df.loc[last_row, 'Text']"
   ]
  },
  {
   "cell_type": "code",
   "execution_count": null,
   "id": "11c9c4b1-07ec-46b5-ae06-883b63cd7fa5",
   "metadata": {},
   "outputs": [],
   "source": [
    "df = df[~df['Text'].str.contains(df.loc[last_row, 'Text'])]"
   ]
  },
  {
   "cell_type": "code",
   "execution_count": null,
   "id": "2e33b157-254a-4e71-a364-1b187a632bf3",
   "metadata": {},
   "outputs": [],
   "source": [
    "df = df.loc[5:]\n",
    "df = df.reset_index(drop=True)"
   ]
  },
  {
   "cell_type": "code",
   "execution_count": null,
   "id": "84b94ceb-32f3-4659-8508-f33b2557db96",
   "metadata": {},
   "outputs": [],
   "source": [
    "# List of expressions whose rows in column 'Text' should be dropped\n",
    "expressions_to_drop = ['(APPLAUSE)', '(LAUGHTER)', '(CROSSTALK)']\n",
    "\n",
    "# Creating a boolean mask for rows starting with the specified expressions\n",
    "mask = df['Text'].str.startswith(tuple(expressions_to_drop))\n",
    "\n",
    "# Counting the number of rows for each expression\n",
    "counts = mask.value_counts()\n",
    "\n",
    "# Display the counts\n",
    "counts"
   ]
  },
  {
   "cell_type": "code",
   "execution_count": null,
   "id": "e5793c03-19a1-4ea0-8c04-bc406b98df6d",
   "metadata": {},
   "outputs": [],
   "source": [
    "# Dropping the rows that start with those expressions in column 'Text'\n",
    "df = df[~mask]\n",
    "df = df.reset_index(drop=True)"
   ]
  },
  {
   "cell_type": "code",
   "execution_count": null,
   "id": "9cb9b429-a8d6-478c-a3c4-b47c74e44f57",
   "metadata": {},
   "outputs": [],
   "source": [
    "df.head(1)"
   ]
  },
  {
   "cell_type": "code",
   "execution_count": null,
   "id": "ce2cb51d-3ef7-4196-aa4e-84b099419caf",
   "metadata": {},
   "outputs": [],
   "source": [
    "df.loc[0, 'Text']"
   ]
  },
  {
   "cell_type": "code",
   "execution_count": null,
   "id": "9263b819-87d2-4188-86bc-1ba991a208cd",
   "metadata": {},
   "outputs": [],
   "source": [
    "df.at[0, 'Speaker'] = 1 # Adding column 'Speaker' by initialising it with a numeric value in order to avoid DtypeWarning\n",
    "df = df.astype('object') # Converting the column to the desired data type\n",
    "\n",
    "for index, row in df.iterrows():\n",
    "    match = re.match(r'^(\\w+):\\xa0', row['Text'])\n",
    "    if match:\n",
    "        speaker = match.group(1)\n",
    "        df.at[index, 'Speaker'] = speaker\n",
    "        text_without_speaker = row['Text'][len(match.group(0)):]\n",
    "        df.at[index, 'Text'] = text_without_speaker\n",
    "    else:\n",
    "        # Handle the case when no match is found (optional)\n",
    "        #df.at[index, 'Speaker'] = ''  # Set a default value\n",
    "        pass\n",
    "\n",
    "df['Speaker'].ffill(inplace=True)\n",
    "\n",
    "print('Number of turns:', df.shape[0])\n",
    "\n",
    "debate_list.append(title)\n",
    "turn_list.append(df.shape[0])\n",
    "\n",
    "df[['Title', 'Debate', 'Date', 'Participants', 'Moderators', 'Speaker', 'Text']].to_json(f'{debate_title}.jsonl', orient='records', lines=True)\n",
    "\n",
    "df[['Title', 'Debate', 'Date', 'Participants', 'Moderators', 'Speaker', 'Text']].to_csv(f'{debate_title}.tsv', sep='\\t', index=False, encoding='utf-8', lineterminator='\\n')"
   ]
  },
  {
   "cell_type": "markdown",
   "id": "10ae30fa-0e24-4247-9296-9b61e22a1dba",
   "metadata": {},
   "source": [
    "## Debate 26"
   ]
  },
  {
   "cell_type": "code",
   "execution_count": null,
   "id": "ccdc8deb-d15e-433b-89d6-8e662e534a97",
   "metadata": {},
   "outputs": [],
   "source": [
    "debate_title = debate_1\n",
    "url = debate_url_1\n",
    "response = requests.get(url)\n",
    "\n",
    "if response.status_code == 200:\n",
    "    page_content = response.content\n",
    "    # Step 2: Parse HTML content\n",
    "    soup = BeautifulSoup(page_content, 'lxml')\n",
    "\n",
    "    # Extract relevant tags (e.g., <h1>, <p>, etc.) and store them in a list\n",
    "    rows = []\n",
    "    for tag in soup.find_all(['h1', 'p']):\n",
    "        rows.append(tag.text.strip())  # Remove leading/trailing spaces\n",
    "    \n",
    "    # Create a DataFrame from the list of rows\n",
    "    df = pd.DataFrame(rows, columns=['Text'])\n",
    "\n",
    "else:\n",
    "    print(f'Failed to retrieve the page. Status code: {response.status_code}')"
   ]
  },
  {
   "cell_type": "code",
   "execution_count": null,
   "id": "1fc206e1-fa63-4313-991a-8714ac365b6b",
   "metadata": {},
   "outputs": [],
   "source": [
    "df"
   ]
  },
  {
   "cell_type": "code",
   "execution_count": null,
   "id": "0e5496ee-da0d-42cb-b170-72e453c00f75",
   "metadata": {},
   "outputs": [],
   "source": [
    "df.head(10)"
   ]
  },
  {
   "cell_type": "code",
   "execution_count": null,
   "id": "eb8d6b43-6115-4db9-b43f-6c99d71e535b",
   "metadata": {},
   "outputs": [],
   "source": [
    "title = df.at[0, 'Text']\n",
    "df['Title'] = title\n",
    "\n",
    "debate = df.at[1, 'Text']\n",
    "df['Debate'] = debate\n",
    "\n",
    "date = df.at[2, 'Text']\n",
    "df['Date'] = date\n",
    "\n",
    "participants = df.at[3, 'Text']\n",
    "participants = re.sub(r'^\\w+:\\n', '', participants)\n",
    "participants = re.sub(r'\\n', ' ', participants)\n",
    "df['Participants'] = participants\n",
    "\n",
    "moderators = df.at[4, 'Text']\n",
    "moderators = re.sub(r'^\\w+:\\n', '', moderators)\n",
    "df['Moderators'] = moderators"
   ]
  },
  {
   "cell_type": "code",
   "execution_count": null,
   "id": "ae341845-b7a4-488a-8b93-2ea60e317c3f",
   "metadata": {},
   "outputs": [],
   "source": [
    "last_row = 250\n",
    "df.loc[last_row, 'Text']"
   ]
  },
  {
   "cell_type": "code",
   "execution_count": null,
   "id": "307f5642-76ae-4dcc-83c3-f07b6bbde332",
   "metadata": {},
   "outputs": [],
   "source": [
    "df = df[~df['Text'].str.contains(df.loc[last_row, 'Text'])]"
   ]
  },
  {
   "cell_type": "code",
   "execution_count": null,
   "id": "d53d32fe-e5b9-4073-8dc0-8a712bc26293",
   "metadata": {},
   "outputs": [],
   "source": [
    "df = df.loc[5:]\n",
    "df = df.reset_index(drop=True)"
   ]
  },
  {
   "cell_type": "code",
   "execution_count": null,
   "id": "3eb5bf0c-2817-499e-8c7f-912115b89fbd",
   "metadata": {},
   "outputs": [],
   "source": [
    "# List of expressions whose rows in column 'Text' should be dropped\n",
    "expressions_to_drop = ['(APPLAUSE)', '(LAUGHTER)', '(CROSSTALK)']\n",
    "\n",
    "# Creating a boolean mask for rows starting with the specified expressions\n",
    "mask = df['Text'].str.startswith(tuple(expressions_to_drop))\n",
    "\n",
    "# Counting the number of rows for each expression\n",
    "counts = mask.value_counts()\n",
    "\n",
    "# Display the counts\n",
    "counts"
   ]
  },
  {
   "cell_type": "code",
   "execution_count": null,
   "id": "ff521db2-f14d-439a-9e85-a64f8fbb6609",
   "metadata": {},
   "outputs": [],
   "source": [
    "# Dropping the rows that start with those expressions in column 'Text'\n",
    "df = df[~mask]\n",
    "df = df.reset_index(drop=True)"
   ]
  },
  {
   "cell_type": "code",
   "execution_count": null,
   "id": "d101dc7e-a65b-4dd0-be38-986bf667fb2c",
   "metadata": {},
   "outputs": [],
   "source": [
    "df.head(1)"
   ]
  },
  {
   "cell_type": "code",
   "execution_count": null,
   "id": "211f08a1-0431-44e3-a3c2-61a073a6533e",
   "metadata": {},
   "outputs": [],
   "source": [
    "df.loc[0, 'Text']"
   ]
  },
  {
   "cell_type": "code",
   "execution_count": null,
   "id": "68696692-eb2f-4e3e-bdef-baa88638defb",
   "metadata": {},
   "outputs": [],
   "source": [
    "df.at[0, 'Speaker'] = 1 # Adding column 'Speaker' by initialising it with a numeric value in order to avoid DtypeWarning\n",
    "df = df.astype('object') # Converting the column to the desired data type\n",
    "\n",
    "for index, row in df.iterrows():\n",
    "    match = re.match(r'^(\\w+):\\xa0', row['Text'])\n",
    "    if match:\n",
    "        speaker = match.group(1)\n",
    "        df.at[index, 'Speaker'] = speaker\n",
    "        text_without_speaker = row['Text'][len(match.group(0)):]\n",
    "        df.at[index, 'Text'] = text_without_speaker\n",
    "    else:\n",
    "        # Handle the case when no match is found (optional)\n",
    "        #df.at[index, 'Speaker'] = ''  # Set a default value\n",
    "        pass\n",
    "\n",
    "df['Speaker'].ffill(inplace=True)\n",
    "\n",
    "print('Number of turns:', df.shape[0])\n",
    "\n",
    "debate_list.append(title)\n",
    "turn_list.append(df.shape[0])\n",
    "\n",
    "df[['Title', 'Debate', 'Date', 'Participants', 'Moderators', 'Speaker', 'Text']].to_json(f'{debate_title}.jsonl', orient='records', lines=True)\n",
    "\n",
    "df[['Title', 'Debate', 'Date', 'Participants', 'Moderators', 'Speaker', 'Text']].to_csv(f'{debate_title}.tsv', sep='\\t', index=False, encoding='utf-8', lineterminator='\\n')"
   ]
  },
  {
   "cell_type": "markdown",
   "id": "f6e9cc7e-43d1-457a-a803-b0c643741ee2",
   "metadata": {},
   "source": [
    "## Debate 27"
   ]
  },
  {
   "cell_type": "code",
   "execution_count": null,
   "id": "920535cb-b0c2-4052-acfb-9485fac6cfd1",
   "metadata": {},
   "outputs": [],
   "source": [
    "debate_title = debate_1\n",
    "url = debate_url_1\n",
    "response = requests.get(url)\n",
    "\n",
    "if response.status_code == 200:\n",
    "    page_content = response.content\n",
    "    # Step 2: Parse HTML content\n",
    "    soup = BeautifulSoup(page_content, 'lxml')\n",
    "\n",
    "    # Extract relevant tags (e.g., <h1>, <p>, etc.) and store them in a list\n",
    "    rows = []\n",
    "    for tag in soup.find_all(['h1', 'p']):\n",
    "        rows.append(tag.text.strip())  # Remove leading/trailing spaces\n",
    "    \n",
    "    # Create a DataFrame from the list of rows\n",
    "    df = pd.DataFrame(rows, columns=['Text'])\n",
    "\n",
    "else:\n",
    "    print(f'Failed to retrieve the page. Status code: {response.status_code}')"
   ]
  },
  {
   "cell_type": "code",
   "execution_count": null,
   "id": "40158619-a5af-4bd2-b896-d8e9ca4ccb0f",
   "metadata": {},
   "outputs": [],
   "source": [
    "df"
   ]
  },
  {
   "cell_type": "code",
   "execution_count": null,
   "id": "2f0a76ef-de07-4956-a837-8f1748946dd6",
   "metadata": {},
   "outputs": [],
   "source": [
    "df.head(10)"
   ]
  },
  {
   "cell_type": "code",
   "execution_count": null,
   "id": "1a004e5d-3318-4d64-b0a9-07f96ecfe652",
   "metadata": {},
   "outputs": [],
   "source": [
    "title = df.at[0, 'Text']\n",
    "df['Title'] = title\n",
    "\n",
    "debate = df.at[1, 'Text']\n",
    "df['Debate'] = debate\n",
    "\n",
    "date = df.at[2, 'Text']\n",
    "df['Date'] = date\n",
    "\n",
    "participants = df.at[3, 'Text']\n",
    "participants = re.sub(r'^\\w+:\\n', '', participants)\n",
    "participants = re.sub(r'\\n', ' ', participants)\n",
    "df['Participants'] = participants\n",
    "\n",
    "moderators = df.at[4, 'Text']\n",
    "moderators = re.sub(r'^\\w+:\\n', '', moderators)\n",
    "df['Moderators'] = moderators"
   ]
  },
  {
   "cell_type": "code",
   "execution_count": null,
   "id": "c2190cf0-00d8-425a-bb51-b4d319830699",
   "metadata": {},
   "outputs": [],
   "source": [
    "last_row = 250\n",
    "df.loc[last_row, 'Text']"
   ]
  },
  {
   "cell_type": "code",
   "execution_count": null,
   "id": "f94724ed-e369-4a5c-ba13-23c3982aabfd",
   "metadata": {},
   "outputs": [],
   "source": [
    "df = df[~df['Text'].str.contains(df.loc[last_row, 'Text'])]"
   ]
  },
  {
   "cell_type": "code",
   "execution_count": null,
   "id": "1c22ca5f-9ab1-4881-b83c-de3f8c7b9d92",
   "metadata": {},
   "outputs": [],
   "source": [
    "df = df.loc[5:]\n",
    "df = df.reset_index(drop=True)"
   ]
  },
  {
   "cell_type": "code",
   "execution_count": null,
   "id": "2556b8e8-9f03-4f49-beff-6386bff0e577",
   "metadata": {},
   "outputs": [],
   "source": [
    "# List of expressions whose rows in column 'Text' should be dropped\n",
    "expressions_to_drop = ['(APPLAUSE)', '(LAUGHTER)', '(CROSSTALK)']\n",
    "\n",
    "# Creating a boolean mask for rows starting with the specified expressions\n",
    "mask = df['Text'].str.startswith(tuple(expressions_to_drop))\n",
    "\n",
    "# Counting the number of rows for each expression\n",
    "counts = mask.value_counts()\n",
    "\n",
    "# Display the counts\n",
    "counts"
   ]
  },
  {
   "cell_type": "code",
   "execution_count": null,
   "id": "69e38335-9ca0-4f1a-bf99-7b9dfa684145",
   "metadata": {},
   "outputs": [],
   "source": [
    "# Dropping the rows that start with those expressions in column 'Text'\n",
    "df = df[~mask]\n",
    "df = df.reset_index(drop=True)"
   ]
  },
  {
   "cell_type": "code",
   "execution_count": null,
   "id": "34928057-2ea6-4a8f-96e2-a9ba6407e734",
   "metadata": {},
   "outputs": [],
   "source": [
    "df.head(1)"
   ]
  },
  {
   "cell_type": "code",
   "execution_count": null,
   "id": "b99b28b1-2f15-4878-8479-6bb3ab3e0a68",
   "metadata": {},
   "outputs": [],
   "source": [
    "df.loc[0, 'Text']"
   ]
  },
  {
   "cell_type": "code",
   "execution_count": null,
   "id": "f27ff6f7-5378-4cae-a5fe-0b4af73dfae1",
   "metadata": {},
   "outputs": [],
   "source": [
    "df.at[0, 'Speaker'] = 1 # Adding column 'Speaker' by initialising it with a numeric value in order to avoid DtypeWarning\n",
    "df = df.astype('object') # Converting the column to the desired data type\n",
    "\n",
    "for index, row in df.iterrows():\n",
    "    match = re.match(r'^(\\w+):\\xa0', row['Text'])\n",
    "    if match:\n",
    "        speaker = match.group(1)\n",
    "        df.at[index, 'Speaker'] = speaker\n",
    "        text_without_speaker = row['Text'][len(match.group(0)):]\n",
    "        df.at[index, 'Text'] = text_without_speaker\n",
    "    else:\n",
    "        # Handle the case when no match is found (optional)\n",
    "        #df.at[index, 'Speaker'] = ''  # Set a default value\n",
    "        pass\n",
    "\n",
    "df['Speaker'].ffill(inplace=True)\n",
    "\n",
    "print('Number of turns:', df.shape[0])\n",
    "\n",
    "debate_list.append(title)\n",
    "turn_list.append(df.shape[0])\n",
    "\n",
    "df[['Title', 'Debate', 'Date', 'Participants', 'Moderators', 'Speaker', 'Text']].to_json(f'{debate_title}.jsonl', orient='records', lines=True)\n",
    "\n",
    "df[['Title', 'Debate', 'Date', 'Participants', 'Moderators', 'Speaker', 'Text']].to_csv(f'{debate_title}.tsv', sep='\\t', index=False, encoding='utf-8', lineterminator='\\n')"
   ]
  },
  {
   "cell_type": "markdown",
   "id": "44308425-fdf0-43d1-9bfb-1e5251f37fa8",
   "metadata": {},
   "source": [
    "## Debate 28"
   ]
  },
  {
   "cell_type": "code",
   "execution_count": null,
   "id": "a00a90cd-71ee-43fc-8186-9fccbed2c7ab",
   "metadata": {},
   "outputs": [],
   "source": [
    "debate_title = debate_1\n",
    "url = debate_url_1\n",
    "response = requests.get(url)\n",
    "\n",
    "if response.status_code == 200:\n",
    "    page_content = response.content\n",
    "    # Step 2: Parse HTML content\n",
    "    soup = BeautifulSoup(page_content, 'lxml')\n",
    "\n",
    "    # Extract relevant tags (e.g., <h1>, <p>, etc.) and store them in a list\n",
    "    rows = []\n",
    "    for tag in soup.find_all(['h1', 'p']):\n",
    "        rows.append(tag.text.strip())  # Remove leading/trailing spaces\n",
    "    \n",
    "    # Create a DataFrame from the list of rows\n",
    "    df = pd.DataFrame(rows, columns=['Text'])\n",
    "\n",
    "else:\n",
    "    print(f'Failed to retrieve the page. Status code: {response.status_code}')"
   ]
  },
  {
   "cell_type": "code",
   "execution_count": null,
   "id": "8b526998-2535-43c0-a162-6c2180020676",
   "metadata": {},
   "outputs": [],
   "source": [
    "df"
   ]
  },
  {
   "cell_type": "code",
   "execution_count": null,
   "id": "0512d2c7-df5a-4bc2-a84e-5e3844a0602e",
   "metadata": {},
   "outputs": [],
   "source": [
    "df.head(10)"
   ]
  },
  {
   "cell_type": "code",
   "execution_count": null,
   "id": "99a84c51-a26b-4228-bec2-16501ea46512",
   "metadata": {},
   "outputs": [],
   "source": [
    "title = df.at[0, 'Text']\n",
    "df['Title'] = title\n",
    "\n",
    "debate = df.at[1, 'Text']\n",
    "df['Debate'] = debate\n",
    "\n",
    "date = df.at[2, 'Text']\n",
    "df['Date'] = date\n",
    "\n",
    "participants = df.at[3, 'Text']\n",
    "participants = re.sub(r'^\\w+:\\n', '', participants)\n",
    "participants = re.sub(r'\\n', ' ', participants)\n",
    "df['Participants'] = participants\n",
    "\n",
    "moderators = df.at[4, 'Text']\n",
    "moderators = re.sub(r'^\\w+:\\n', '', moderators)\n",
    "df['Moderators'] = moderators"
   ]
  },
  {
   "cell_type": "code",
   "execution_count": null,
   "id": "f04e3169-bfc8-4d0e-9f2f-412450b20e64",
   "metadata": {},
   "outputs": [],
   "source": [
    "last_row = 250\n",
    "df.loc[last_row, 'Text']"
   ]
  },
  {
   "cell_type": "code",
   "execution_count": null,
   "id": "2d4b3a75-16bc-4702-aae9-f8ff4588a0a4",
   "metadata": {},
   "outputs": [],
   "source": [
    "df = df[~df['Text'].str.contains(df.loc[last_row, 'Text'])]"
   ]
  },
  {
   "cell_type": "code",
   "execution_count": null,
   "id": "7a803d3b-ba2e-4885-8e7d-6d3eb7c2b6e8",
   "metadata": {},
   "outputs": [],
   "source": [
    "df = df.loc[5:]\n",
    "df = df.reset_index(drop=True)"
   ]
  },
  {
   "cell_type": "code",
   "execution_count": null,
   "id": "310475c5-8755-4748-847f-b19a6a7fe0a6",
   "metadata": {},
   "outputs": [],
   "source": [
    "# List of expressions whose rows in column 'Text' should be dropped\n",
    "expressions_to_drop = ['(APPLAUSE)', '(LAUGHTER)', '(CROSSTALK)']\n",
    "\n",
    "# Creating a boolean mask for rows starting with the specified expressions\n",
    "mask = df['Text'].str.startswith(tuple(expressions_to_drop))\n",
    "\n",
    "# Counting the number of rows for each expression\n",
    "counts = mask.value_counts()\n",
    "\n",
    "# Display the counts\n",
    "counts"
   ]
  },
  {
   "cell_type": "code",
   "execution_count": null,
   "id": "dfff578d-d55c-4519-bc29-7309e5f19b63",
   "metadata": {},
   "outputs": [],
   "source": [
    "# Dropping the rows that start with those expressions in column 'Text'\n",
    "df = df[~mask]\n",
    "df = df.reset_index(drop=True)"
   ]
  },
  {
   "cell_type": "code",
   "execution_count": null,
   "id": "538c2eca-87d8-4f29-b1c3-30cfc1cde983",
   "metadata": {},
   "outputs": [],
   "source": [
    "df.head(1)"
   ]
  },
  {
   "cell_type": "code",
   "execution_count": null,
   "id": "c361fbbc-974a-499a-826f-e077fd192b3a",
   "metadata": {},
   "outputs": [],
   "source": [
    "df.loc[0, 'Text']"
   ]
  },
  {
   "cell_type": "code",
   "execution_count": null,
   "id": "562cfbd9-b9aa-46e1-aa91-7f48090fbf7f",
   "metadata": {},
   "outputs": [],
   "source": [
    "df.at[0, 'Speaker'] = 1 # Adding column 'Speaker' by initialising it with a numeric value in order to avoid DtypeWarning\n",
    "df = df.astype('object') # Converting the column to the desired data type\n",
    "\n",
    "for index, row in df.iterrows():\n",
    "    match = re.match(r'^(\\w+):\\xa0', row['Text'])\n",
    "    if match:\n",
    "        speaker = match.group(1)\n",
    "        df.at[index, 'Speaker'] = speaker\n",
    "        text_without_speaker = row['Text'][len(match.group(0)):]\n",
    "        df.at[index, 'Text'] = text_without_speaker\n",
    "    else:\n",
    "        # Handle the case when no match is found (optional)\n",
    "        #df.at[index, 'Speaker'] = ''  # Set a default value\n",
    "        pass\n",
    "\n",
    "df['Speaker'].ffill(inplace=True)\n",
    "\n",
    "print('Number of turns:', df.shape[0])\n",
    "\n",
    "debate_list.append(title)\n",
    "turn_list.append(df.shape[0])\n",
    "\n",
    "df[['Title', 'Debate', 'Date', 'Participants', 'Moderators', 'Speaker', 'Text']].to_json(f'{debate_title}.jsonl', orient='records', lines=True)\n",
    "\n",
    "df[['Title', 'Debate', 'Date', 'Participants', 'Moderators', 'Speaker', 'Text']].to_csv(f'{debate_title}.tsv', sep='\\t', index=False, encoding='utf-8', lineterminator='\\n')"
   ]
  },
  {
   "cell_type": "markdown",
   "id": "955ff5a1-d77f-4494-a1da-ffd70ac06e63",
   "metadata": {},
   "source": [
    "## Debate 29"
   ]
  },
  {
   "cell_type": "code",
   "execution_count": null,
   "id": "96a6766e-089b-47ef-8d29-e3d6ddfc0cc1",
   "metadata": {},
   "outputs": [],
   "source": [
    "debate_title = debate_1\n",
    "url = debate_url_1\n",
    "response = requests.get(url)\n",
    "\n",
    "if response.status_code == 200:\n",
    "    page_content = response.content\n",
    "    # Step 2: Parse HTML content\n",
    "    soup = BeautifulSoup(page_content, 'lxml')\n",
    "\n",
    "    # Extract relevant tags (e.g., <h1>, <p>, etc.) and store them in a list\n",
    "    rows = []\n",
    "    for tag in soup.find_all(['h1', 'p']):\n",
    "        rows.append(tag.text.strip())  # Remove leading/trailing spaces\n",
    "    \n",
    "    # Create a DataFrame from the list of rows\n",
    "    df = pd.DataFrame(rows, columns=['Text'])\n",
    "\n",
    "else:\n",
    "    print(f'Failed to retrieve the page. Status code: {response.status_code}')"
   ]
  },
  {
   "cell_type": "code",
   "execution_count": null,
   "id": "da976ab7-a8b5-4113-a41b-078eaecdb86c",
   "metadata": {},
   "outputs": [],
   "source": [
    "df"
   ]
  },
  {
   "cell_type": "code",
   "execution_count": null,
   "id": "0c0fffae-5426-4da2-bc6d-ca8d9e53fa28",
   "metadata": {},
   "outputs": [],
   "source": [
    "df.head(10)"
   ]
  },
  {
   "cell_type": "code",
   "execution_count": null,
   "id": "73920b0d-5e52-484e-bc27-bf0576cd356e",
   "metadata": {},
   "outputs": [],
   "source": [
    "title = df.at[0, 'Text']\n",
    "df['Title'] = title\n",
    "\n",
    "debate = df.at[1, 'Text']\n",
    "df['Debate'] = debate\n",
    "\n",
    "date = df.at[2, 'Text']\n",
    "df['Date'] = date\n",
    "\n",
    "participants = df.at[3, 'Text']\n",
    "participants = re.sub(r'^\\w+:\\n', '', participants)\n",
    "participants = re.sub(r'\\n', ' ', participants)\n",
    "df['Participants'] = participants\n",
    "\n",
    "moderators = df.at[4, 'Text']\n",
    "moderators = re.sub(r'^\\w+:\\n', '', moderators)\n",
    "df['Moderators'] = moderators"
   ]
  },
  {
   "cell_type": "code",
   "execution_count": null,
   "id": "f58ce6b0-b293-492b-8961-d2ca5877e2c2",
   "metadata": {},
   "outputs": [],
   "source": [
    "last_row = 250\n",
    "df.loc[last_row, 'Text']"
   ]
  },
  {
   "cell_type": "code",
   "execution_count": null,
   "id": "6672d256-cca8-431e-a3c5-33f957d8c063",
   "metadata": {},
   "outputs": [],
   "source": [
    "df = df[~df['Text'].str.contains(df.loc[last_row, 'Text'])]"
   ]
  },
  {
   "cell_type": "code",
   "execution_count": null,
   "id": "e5eaa44b-2701-46e7-bd70-0178da797bb1",
   "metadata": {},
   "outputs": [],
   "source": [
    "df = df.loc[5:]\n",
    "df = df.reset_index(drop=True)"
   ]
  },
  {
   "cell_type": "code",
   "execution_count": null,
   "id": "2bb33219-03cd-45ce-bdf4-732036c5fa92",
   "metadata": {},
   "outputs": [],
   "source": [
    "# List of expressions whose rows in column 'Text' should be dropped\n",
    "expressions_to_drop = ['(APPLAUSE)', '(LAUGHTER)', '(CROSSTALK)']\n",
    "\n",
    "# Creating a boolean mask for rows starting with the specified expressions\n",
    "mask = df['Text'].str.startswith(tuple(expressions_to_drop))\n",
    "\n",
    "# Counting the number of rows for each expression\n",
    "counts = mask.value_counts()\n",
    "\n",
    "# Display the counts\n",
    "counts"
   ]
  },
  {
   "cell_type": "code",
   "execution_count": null,
   "id": "cae28a16-28ac-4293-9687-deec5355b2d0",
   "metadata": {},
   "outputs": [],
   "source": [
    "# Dropping the rows that start with those expressions in column 'Text'\n",
    "df = df[~mask]\n",
    "df = df.reset_index(drop=True)"
   ]
  },
  {
   "cell_type": "code",
   "execution_count": null,
   "id": "1c20ba5b-3de7-4bd3-af31-1afc5e8f1540",
   "metadata": {},
   "outputs": [],
   "source": [
    "df.head(1)"
   ]
  },
  {
   "cell_type": "code",
   "execution_count": null,
   "id": "347565f7-ab57-4463-ab54-f82f97ca4047",
   "metadata": {},
   "outputs": [],
   "source": [
    "df.loc[0, 'Text']"
   ]
  },
  {
   "cell_type": "code",
   "execution_count": null,
   "id": "e722ac42-2854-4c73-852b-f779d47fe57e",
   "metadata": {},
   "outputs": [],
   "source": [
    "df.at[0, 'Speaker'] = 1 # Adding column 'Speaker' by initialising it with a numeric value in order to avoid DtypeWarning\n",
    "df = df.astype('object') # Converting the column to the desired data type\n",
    "\n",
    "for index, row in df.iterrows():\n",
    "    match = re.match(r'^(\\w+):\\xa0', row['Text'])\n",
    "    if match:\n",
    "        speaker = match.group(1)\n",
    "        df.at[index, 'Speaker'] = speaker\n",
    "        text_without_speaker = row['Text'][len(match.group(0)):]\n",
    "        df.at[index, 'Text'] = text_without_speaker\n",
    "    else:\n",
    "        # Handle the case when no match is found (optional)\n",
    "        #df.at[index, 'Speaker'] = ''  # Set a default value\n",
    "        pass\n",
    "\n",
    "df['Speaker'].ffill(inplace=True)\n",
    "\n",
    "print('Number of turns:', df.shape[0])\n",
    "\n",
    "debate_list.append(title)\n",
    "turn_list.append(df.shape[0])\n",
    "\n",
    "df[['Title', 'Debate', 'Date', 'Participants', 'Moderators', 'Speaker', 'Text']].to_json(f'{debate_title}.jsonl', orient='records', lines=True)\n",
    "\n",
    "df[['Title', 'Debate', 'Date', 'Participants', 'Moderators', 'Speaker', 'Text']].to_csv(f'{debate_title}.tsv', sep='\\t', index=False, encoding='utf-8', lineterminator='\\n')"
   ]
  },
  {
   "cell_type": "markdown",
   "id": "4911cef3-3007-4c14-8983-f669d2d61a86",
   "metadata": {},
   "source": [
    "## Debate 30"
   ]
  },
  {
   "cell_type": "code",
   "execution_count": null,
   "id": "1188e676-2a51-44e4-91f2-db7340309a1e",
   "metadata": {},
   "outputs": [],
   "source": [
    "debate_title = debate_1\n",
    "url = debate_url_1\n",
    "response = requests.get(url)\n",
    "\n",
    "if response.status_code == 200:\n",
    "    page_content = response.content\n",
    "    # Step 2: Parse HTML content\n",
    "    soup = BeautifulSoup(page_content, 'lxml')\n",
    "\n",
    "    # Extract relevant tags (e.g., <h1>, <p>, etc.) and store them in a list\n",
    "    rows = []\n",
    "    for tag in soup.find_all(['h1', 'p']):\n",
    "        rows.append(tag.text.strip())  # Remove leading/trailing spaces\n",
    "    \n",
    "    # Create a DataFrame from the list of rows\n",
    "    df = pd.DataFrame(rows, columns=['Text'])\n",
    "\n",
    "else:\n",
    "    print(f'Failed to retrieve the page. Status code: {response.status_code}')"
   ]
  },
  {
   "cell_type": "code",
   "execution_count": null,
   "id": "56b85b4a-f88d-46f8-8285-030ddeafd4d0",
   "metadata": {},
   "outputs": [],
   "source": [
    "df"
   ]
  },
  {
   "cell_type": "code",
   "execution_count": null,
   "id": "fd8c8b14-944f-4b9a-af2c-6e6a9f3e3392",
   "metadata": {},
   "outputs": [],
   "source": [
    "df.head(10)"
   ]
  },
  {
   "cell_type": "code",
   "execution_count": null,
   "id": "b13263fe-79ee-4636-b702-8cc92a802746",
   "metadata": {},
   "outputs": [],
   "source": [
    "title = df.at[0, 'Text']\n",
    "df['Title'] = title\n",
    "\n",
    "debate = df.at[1, 'Text']\n",
    "df['Debate'] = debate\n",
    "\n",
    "date = df.at[2, 'Text']\n",
    "df['Date'] = date\n",
    "\n",
    "participants = df.at[3, 'Text']\n",
    "participants = re.sub(r'^\\w+:\\n', '', participants)\n",
    "participants = re.sub(r'\\n', ' ', participants)\n",
    "df['Participants'] = participants\n",
    "\n",
    "moderators = df.at[4, 'Text']\n",
    "moderators = re.sub(r'^\\w+:\\n', '', moderators)\n",
    "df['Moderators'] = moderators"
   ]
  },
  {
   "cell_type": "code",
   "execution_count": null,
   "id": "7e8ba970-a7f6-456a-befa-54ec37de0762",
   "metadata": {},
   "outputs": [],
   "source": [
    "last_row = 250\n",
    "df.loc[last_row, 'Text']"
   ]
  },
  {
   "cell_type": "code",
   "execution_count": null,
   "id": "a2defeed-de92-4138-ae36-f028fe482dc4",
   "metadata": {},
   "outputs": [],
   "source": [
    "df = df[~df['Text'].str.contains(df.loc[last_row, 'Text'])]"
   ]
  },
  {
   "cell_type": "code",
   "execution_count": null,
   "id": "da8152c7-73dd-4d6a-8b73-23bda896c876",
   "metadata": {},
   "outputs": [],
   "source": [
    "df = df.loc[5:]\n",
    "df = df.reset_index(drop=True)"
   ]
  },
  {
   "cell_type": "code",
   "execution_count": null,
   "id": "bfabf97c-320a-4f7d-b9a2-1e654dbbd13b",
   "metadata": {},
   "outputs": [],
   "source": [
    "# List of expressions whose rows in column 'Text' should be dropped\n",
    "expressions_to_drop = ['(APPLAUSE)', '(LAUGHTER)', '(CROSSTALK)']\n",
    "\n",
    "# Creating a boolean mask for rows starting with the specified expressions\n",
    "mask = df['Text'].str.startswith(tuple(expressions_to_drop))\n",
    "\n",
    "# Counting the number of rows for each expression\n",
    "counts = mask.value_counts()\n",
    "\n",
    "# Display the counts\n",
    "counts"
   ]
  },
  {
   "cell_type": "code",
   "execution_count": null,
   "id": "fb670633-fd12-4791-80f5-cd30c74019b7",
   "metadata": {},
   "outputs": [],
   "source": [
    "# Dropping the rows that start with those expressions in column 'Text'\n",
    "df = df[~mask]\n",
    "df = df.reset_index(drop=True)"
   ]
  },
  {
   "cell_type": "code",
   "execution_count": null,
   "id": "07377bf7-fb9f-4cf2-8fc2-d7540a726593",
   "metadata": {},
   "outputs": [],
   "source": [
    "df.head(1)"
   ]
  },
  {
   "cell_type": "code",
   "execution_count": null,
   "id": "f2d71b5a-6279-439d-9f79-5270e61eda0b",
   "metadata": {},
   "outputs": [],
   "source": [
    "df.loc[0, 'Text']"
   ]
  },
  {
   "cell_type": "code",
   "execution_count": null,
   "id": "0f4acfd6-e25e-40d3-970a-ff5e1a3c7b25",
   "metadata": {},
   "outputs": [],
   "source": [
    "df.at[0, 'Speaker'] = 1 # Adding column 'Speaker' by initialising it with a numeric value in order to avoid DtypeWarning\n",
    "df = df.astype('object') # Converting the column to the desired data type\n",
    "\n",
    "for index, row in df.iterrows():\n",
    "    match = re.match(r'^(\\w+):\\xa0', row['Text'])\n",
    "    if match:\n",
    "        speaker = match.group(1)\n",
    "        df.at[index, 'Speaker'] = speaker\n",
    "        text_without_speaker = row['Text'][len(match.group(0)):]\n",
    "        df.at[index, 'Text'] = text_without_speaker\n",
    "    else:\n",
    "        # Handle the case when no match is found (optional)\n",
    "        #df.at[index, 'Speaker'] = ''  # Set a default value\n",
    "        pass\n",
    "\n",
    "df['Speaker'].ffill(inplace=True)\n",
    "\n",
    "print('Number of turns:', df.shape[0])\n",
    "\n",
    "debate_list.append(title)\n",
    "turn_list.append(df.shape[0])\n",
    "\n",
    "df[['Title', 'Debate', 'Date', 'Participants', 'Moderators', 'Speaker', 'Text']].to_json(f'{debate_title}.jsonl', orient='records', lines=True)\n",
    "\n",
    "df[['Title', 'Debate', 'Date', 'Participants', 'Moderators', 'Speaker', 'Text']].to_csv(f'{debate_title}.tsv', sep='\\t', index=False, encoding='utf-8', lineterminator='\\n')"
   ]
  },
  {
   "cell_type": "markdown",
   "id": "91fbd946-bcca-4075-a345-bc25bc0a82ce",
   "metadata": {},
   "source": [
    "## Debate 31"
   ]
  },
  {
   "cell_type": "code",
   "execution_count": null,
   "id": "e329cd1c-6167-476c-8422-d95d29ef657c",
   "metadata": {},
   "outputs": [],
   "source": [
    "debate_title = debate_1\n",
    "url = debate_url_1\n",
    "response = requests.get(url)\n",
    "\n",
    "if response.status_code == 200:\n",
    "    page_content = response.content\n",
    "    # Step 2: Parse HTML content\n",
    "    soup = BeautifulSoup(page_content, 'lxml')\n",
    "\n",
    "    # Extract relevant tags (e.g., <h1>, <p>, etc.) and store them in a list\n",
    "    rows = []\n",
    "    for tag in soup.find_all(['h1', 'p']):\n",
    "        rows.append(tag.text.strip())  # Remove leading/trailing spaces\n",
    "    \n",
    "    # Create a DataFrame from the list of rows\n",
    "    df = pd.DataFrame(rows, columns=['Text'])\n",
    "\n",
    "else:\n",
    "    print(f'Failed to retrieve the page. Status code: {response.status_code}')"
   ]
  },
  {
   "cell_type": "code",
   "execution_count": null,
   "id": "8b4fdb92-c71d-4e19-946f-da4dc8a99a37",
   "metadata": {},
   "outputs": [],
   "source": [
    "df"
   ]
  },
  {
   "cell_type": "code",
   "execution_count": null,
   "id": "2ba740f9-399c-4625-8acd-c0c0dfba7d19",
   "metadata": {},
   "outputs": [],
   "source": [
    "df.head(10)"
   ]
  },
  {
   "cell_type": "code",
   "execution_count": null,
   "id": "7d2841db-f216-455e-865c-5924c5b6bf4e",
   "metadata": {},
   "outputs": [],
   "source": [
    "title = df.at[0, 'Text']\n",
    "df['Title'] = title\n",
    "\n",
    "debate = df.at[1, 'Text']\n",
    "df['Debate'] = debate\n",
    "\n",
    "date = df.at[2, 'Text']\n",
    "df['Date'] = date\n",
    "\n",
    "participants = df.at[3, 'Text']\n",
    "participants = re.sub(r'^\\w+:\\n', '', participants)\n",
    "participants = re.sub(r'\\n', ' ', participants)\n",
    "df['Participants'] = participants\n",
    "\n",
    "moderators = df.at[4, 'Text']\n",
    "moderators = re.sub(r'^\\w+:\\n', '', moderators)\n",
    "df['Moderators'] = moderators"
   ]
  },
  {
   "cell_type": "code",
   "execution_count": null,
   "id": "ab8c52e3-530d-467a-a2f0-cb8bbde2fded",
   "metadata": {},
   "outputs": [],
   "source": [
    "last_row = 250\n",
    "df.loc[last_row, 'Text']"
   ]
  },
  {
   "cell_type": "code",
   "execution_count": null,
   "id": "979615a2-38b8-4e72-bad4-51e9a0075d2d",
   "metadata": {},
   "outputs": [],
   "source": [
    "df = df[~df['Text'].str.contains(df.loc[last_row, 'Text'])]"
   ]
  },
  {
   "cell_type": "code",
   "execution_count": null,
   "id": "b7fadf49-7c7e-41f9-82df-2a19455b40eb",
   "metadata": {},
   "outputs": [],
   "source": [
    "df = df.loc[5:]\n",
    "df = df.reset_index(drop=True)"
   ]
  },
  {
   "cell_type": "code",
   "execution_count": null,
   "id": "2254e56c-94bc-4e7a-a1e7-4263b0fe5ad9",
   "metadata": {},
   "outputs": [],
   "source": [
    "# List of expressions whose rows in column 'Text' should be dropped\n",
    "expressions_to_drop = ['(APPLAUSE)', '(LAUGHTER)', '(CROSSTALK)']\n",
    "\n",
    "# Creating a boolean mask for rows starting with the specified expressions\n",
    "mask = df['Text'].str.startswith(tuple(expressions_to_drop))\n",
    "\n",
    "# Counting the number of rows for each expression\n",
    "counts = mask.value_counts()\n",
    "\n",
    "# Display the counts\n",
    "counts"
   ]
  },
  {
   "cell_type": "code",
   "execution_count": null,
   "id": "a0fd9c72-f3a5-46a9-ac5d-182c7ab19573",
   "metadata": {},
   "outputs": [],
   "source": [
    "# Dropping the rows that start with those expressions in column 'Text'\n",
    "df = df[~mask]\n",
    "df = df.reset_index(drop=True)"
   ]
  },
  {
   "cell_type": "code",
   "execution_count": null,
   "id": "970b2a36-7607-4c13-ac90-c9e4713e2191",
   "metadata": {},
   "outputs": [],
   "source": [
    "df.head(1)"
   ]
  },
  {
   "cell_type": "code",
   "execution_count": null,
   "id": "0983f087-bbc0-422f-b12c-8c72c53b8d6a",
   "metadata": {},
   "outputs": [],
   "source": [
    "df.loc[0, 'Text']"
   ]
  },
  {
   "cell_type": "code",
   "execution_count": null,
   "id": "239a1277-fdc4-4867-bfe5-c4acb55d2875",
   "metadata": {},
   "outputs": [],
   "source": [
    "df.at[0, 'Speaker'] = 1 # Adding column 'Speaker' by initialising it with a numeric value in order to avoid DtypeWarning\n",
    "df = df.astype('object') # Converting the column to the desired data type\n",
    "\n",
    "for index, row in df.iterrows():\n",
    "    match = re.match(r'^(\\w+):\\xa0', row['Text'])\n",
    "    if match:\n",
    "        speaker = match.group(1)\n",
    "        df.at[index, 'Speaker'] = speaker\n",
    "        text_without_speaker = row['Text'][len(match.group(0)):]\n",
    "        df.at[index, 'Text'] = text_without_speaker\n",
    "    else:\n",
    "        # Handle the case when no match is found (optional)\n",
    "        #df.at[index, 'Speaker'] = ''  # Set a default value\n",
    "        pass\n",
    "\n",
    "df['Speaker'].ffill(inplace=True)\n",
    "\n",
    "print('Number of turns:', df.shape[0])\n",
    "\n",
    "debate_list.append(title)\n",
    "turn_list.append(df.shape[0])\n",
    "\n",
    "df[['Title', 'Debate', 'Date', 'Participants', 'Moderators', 'Speaker', 'Text']].to_json(f'{debate_title}.jsonl', orient='records', lines=True)\n",
    "\n",
    "df[['Title', 'Debate', 'Date', 'Participants', 'Moderators', 'Speaker', 'Text']].to_csv(f'{debate_title}.tsv', sep='\\t', index=False, encoding='utf-8', lineterminator='\\n')"
   ]
  },
  {
   "cell_type": "markdown",
   "id": "e0690072-4d65-47a7-9185-99c6e2cc010f",
   "metadata": {},
   "source": [
    "## Debate 32"
   ]
  },
  {
   "cell_type": "code",
   "execution_count": null,
   "id": "8e3d689d-b38d-4c66-b288-ab8c39ad0153",
   "metadata": {},
   "outputs": [],
   "source": [
    "debate_title = debate_1\n",
    "url = debate_url_1\n",
    "response = requests.get(url)\n",
    "\n",
    "if response.status_code == 200:\n",
    "    page_content = response.content\n",
    "    # Step 2: Parse HTML content\n",
    "    soup = BeautifulSoup(page_content, 'lxml')\n",
    "\n",
    "    # Extract relevant tags (e.g., <h1>, <p>, etc.) and store them in a list\n",
    "    rows = []\n",
    "    for tag in soup.find_all(['h1', 'p']):\n",
    "        rows.append(tag.text.strip())  # Remove leading/trailing spaces\n",
    "    \n",
    "    # Create a DataFrame from the list of rows\n",
    "    df = pd.DataFrame(rows, columns=['Text'])\n",
    "\n",
    "else:\n",
    "    print(f'Failed to retrieve the page. Status code: {response.status_code}')"
   ]
  },
  {
   "cell_type": "code",
   "execution_count": null,
   "id": "79dd1c48-e570-44a8-bf95-993e49d63906",
   "metadata": {},
   "outputs": [],
   "source": [
    "df"
   ]
  },
  {
   "cell_type": "code",
   "execution_count": null,
   "id": "165bd824-a7d7-4306-94e8-5ee8e6297b5a",
   "metadata": {},
   "outputs": [],
   "source": [
    "df.head(10)"
   ]
  },
  {
   "cell_type": "code",
   "execution_count": null,
   "id": "fda569c6-91c6-428f-a375-4856a8679968",
   "metadata": {},
   "outputs": [],
   "source": [
    "title = df.at[0, 'Text']\n",
    "df['Title'] = title\n",
    "\n",
    "debate = df.at[1, 'Text']\n",
    "df['Debate'] = debate\n",
    "\n",
    "date = df.at[2, 'Text']\n",
    "df['Date'] = date\n",
    "\n",
    "participants = df.at[3, 'Text']\n",
    "participants = re.sub(r'^\\w+:\\n', '', participants)\n",
    "participants = re.sub(r'\\n', ' ', participants)\n",
    "df['Participants'] = participants\n",
    "\n",
    "moderators = df.at[4, 'Text']\n",
    "moderators = re.sub(r'^\\w+:\\n', '', moderators)\n",
    "df['Moderators'] = moderators"
   ]
  },
  {
   "cell_type": "code",
   "execution_count": null,
   "id": "574bc863-7bbf-4a85-b52e-88b176e0c1f2",
   "metadata": {},
   "outputs": [],
   "source": [
    "last_row = 250\n",
    "df.loc[last_row, 'Text']"
   ]
  },
  {
   "cell_type": "code",
   "execution_count": null,
   "id": "5ef034e5-b7ce-4654-baa8-38e274aa9d56",
   "metadata": {},
   "outputs": [],
   "source": [
    "df = df[~df['Text'].str.contains(df.loc[last_row, 'Text'])]"
   ]
  },
  {
   "cell_type": "code",
   "execution_count": null,
   "id": "70aa1173-2526-43c0-8bc5-1ea41a343092",
   "metadata": {},
   "outputs": [],
   "source": [
    "df = df.loc[5:]\n",
    "df = df.reset_index(drop=True)"
   ]
  },
  {
   "cell_type": "code",
   "execution_count": null,
   "id": "b3afbcef-470b-43bc-b044-974682ab3d70",
   "metadata": {},
   "outputs": [],
   "source": [
    "# List of expressions whose rows in column 'Text' should be dropped\n",
    "expressions_to_drop = ['(APPLAUSE)', '(LAUGHTER)', '(CROSSTALK)']\n",
    "\n",
    "# Creating a boolean mask for rows starting with the specified expressions\n",
    "mask = df['Text'].str.startswith(tuple(expressions_to_drop))\n",
    "\n",
    "# Counting the number of rows for each expression\n",
    "counts = mask.value_counts()\n",
    "\n",
    "# Display the counts\n",
    "counts"
   ]
  },
  {
   "cell_type": "code",
   "execution_count": null,
   "id": "2ae0d998-10a1-471c-aa43-58347a72e00e",
   "metadata": {},
   "outputs": [],
   "source": [
    "# Dropping the rows that start with those expressions in column 'Text'\n",
    "df = df[~mask]\n",
    "df = df.reset_index(drop=True)"
   ]
  },
  {
   "cell_type": "code",
   "execution_count": null,
   "id": "4953ac29-1945-46b9-8b1f-d74036a92709",
   "metadata": {},
   "outputs": [],
   "source": [
    "df.head(1)"
   ]
  },
  {
   "cell_type": "code",
   "execution_count": null,
   "id": "2df84e8f-6726-42b7-a82f-77e5a99c6aae",
   "metadata": {},
   "outputs": [],
   "source": [
    "df.loc[0, 'Text']"
   ]
  },
  {
   "cell_type": "code",
   "execution_count": null,
   "id": "c843fdd2-2d03-4506-8d7c-16c3bab2ab55",
   "metadata": {},
   "outputs": [],
   "source": [
    "df.at[0, 'Speaker'] = 1 # Adding column 'Speaker' by initialising it with a numeric value in order to avoid DtypeWarning\n",
    "df = df.astype('object') # Converting the column to the desired data type\n",
    "\n",
    "for index, row in df.iterrows():\n",
    "    match = re.match(r'^(\\w+):\\xa0', row['Text'])\n",
    "    if match:\n",
    "        speaker = match.group(1)\n",
    "        df.at[index, 'Speaker'] = speaker\n",
    "        text_without_speaker = row['Text'][len(match.group(0)):]\n",
    "        df.at[index, 'Text'] = text_without_speaker\n",
    "    else:\n",
    "        # Handle the case when no match is found (optional)\n",
    "        #df.at[index, 'Speaker'] = ''  # Set a default value\n",
    "        pass\n",
    "\n",
    "df['Speaker'].ffill(inplace=True)\n",
    "\n",
    "print('Number of turns:', df.shape[0])\n",
    "\n",
    "debate_list.append(title)\n",
    "turn_list.append(df.shape[0])\n",
    "\n",
    "df[['Title', 'Debate', 'Date', 'Participants', 'Moderators', 'Speaker', 'Text']].to_json(f'{debate_title}.jsonl', orient='records', lines=True)\n",
    "\n",
    "df[['Title', 'Debate', 'Date', 'Participants', 'Moderators', 'Speaker', 'Text']].to_csv(f'{debate_title}.tsv', sep='\\t', index=False, encoding='utf-8', lineterminator='\\n')"
   ]
  },
  {
   "cell_type": "markdown",
   "id": "c3a87e02-25a3-43fe-8e51-d3a23b948527",
   "metadata": {},
   "source": [
    "## Debate 33"
   ]
  },
  {
   "cell_type": "code",
   "execution_count": null,
   "id": "14121271-317b-4a27-893c-a389e80a3544",
   "metadata": {},
   "outputs": [],
   "source": [
    "debate_title = debate_1\n",
    "url = debate_url_1\n",
    "response = requests.get(url)\n",
    "\n",
    "if response.status_code == 200:\n",
    "    page_content = response.content\n",
    "    # Step 2: Parse HTML content\n",
    "    soup = BeautifulSoup(page_content, 'lxml')\n",
    "\n",
    "    # Extract relevant tags (e.g., <h1>, <p>, etc.) and store them in a list\n",
    "    rows = []\n",
    "    for tag in soup.find_all(['h1', 'p']):\n",
    "        rows.append(tag.text.strip())  # Remove leading/trailing spaces\n",
    "    \n",
    "    # Create a DataFrame from the list of rows\n",
    "    df = pd.DataFrame(rows, columns=['Text'])\n",
    "\n",
    "else:\n",
    "    print(f'Failed to retrieve the page. Status code: {response.status_code}')"
   ]
  },
  {
   "cell_type": "code",
   "execution_count": null,
   "id": "c839b571-f1e1-4356-bbde-440dd06d8b4f",
   "metadata": {},
   "outputs": [],
   "source": [
    "df"
   ]
  },
  {
   "cell_type": "code",
   "execution_count": null,
   "id": "87fdfb42-086e-4cfd-b249-e6c0ad44a3e5",
   "metadata": {},
   "outputs": [],
   "source": [
    "df.head(10)"
   ]
  },
  {
   "cell_type": "code",
   "execution_count": null,
   "id": "df3953e9-cb09-4937-b32b-7c3ccb5a04c5",
   "metadata": {},
   "outputs": [],
   "source": [
    "title = df.at[0, 'Text']\n",
    "df['Title'] = title\n",
    "\n",
    "debate = df.at[1, 'Text']\n",
    "df['Debate'] = debate\n",
    "\n",
    "date = df.at[2, 'Text']\n",
    "df['Date'] = date\n",
    "\n",
    "participants = df.at[3, 'Text']\n",
    "participants = re.sub(r'^\\w+:\\n', '', participants)\n",
    "participants = re.sub(r'\\n', ' ', participants)\n",
    "df['Participants'] = participants\n",
    "\n",
    "moderators = df.at[4, 'Text']\n",
    "moderators = re.sub(r'^\\w+:\\n', '', moderators)\n",
    "df['Moderators'] = moderators"
   ]
  },
  {
   "cell_type": "code",
   "execution_count": null,
   "id": "7982e658-75d5-430d-b0be-6839fed317ff",
   "metadata": {},
   "outputs": [],
   "source": [
    "last_row = 250\n",
    "df.loc[last_row, 'Text']"
   ]
  },
  {
   "cell_type": "code",
   "execution_count": null,
   "id": "24c653d5-4b9b-41a4-af73-36d081e85832",
   "metadata": {},
   "outputs": [],
   "source": [
    "df = df[~df['Text'].str.contains(df.loc[last_row, 'Text'])]"
   ]
  },
  {
   "cell_type": "code",
   "execution_count": null,
   "id": "b0a9f3a1-2450-4232-b971-a2cf9a191e12",
   "metadata": {},
   "outputs": [],
   "source": [
    "df = df.loc[5:]\n",
    "df = df.reset_index(drop=True)"
   ]
  },
  {
   "cell_type": "code",
   "execution_count": null,
   "id": "b3f82078-46e7-4fbe-8cf7-911606630b8b",
   "metadata": {},
   "outputs": [],
   "source": [
    "# List of expressions whose rows in column 'Text' should be dropped\n",
    "expressions_to_drop = ['(APPLAUSE)', '(LAUGHTER)', '(CROSSTALK)']\n",
    "\n",
    "# Creating a boolean mask for rows starting with the specified expressions\n",
    "mask = df['Text'].str.startswith(tuple(expressions_to_drop))\n",
    "\n",
    "# Counting the number of rows for each expression\n",
    "counts = mask.value_counts()\n",
    "\n",
    "# Display the counts\n",
    "counts"
   ]
  },
  {
   "cell_type": "code",
   "execution_count": null,
   "id": "07bc8e27-3b16-4cc8-bd22-802e87a02cf1",
   "metadata": {},
   "outputs": [],
   "source": [
    "# Dropping the rows that start with those expressions in column 'Text'\n",
    "df = df[~mask]\n",
    "df = df.reset_index(drop=True)"
   ]
  },
  {
   "cell_type": "code",
   "execution_count": null,
   "id": "883c3d05-6e34-4183-9f23-8cfd08a2bfb5",
   "metadata": {},
   "outputs": [],
   "source": [
    "df.head(1)"
   ]
  },
  {
   "cell_type": "code",
   "execution_count": null,
   "id": "de0f0d51-de74-402e-9bcd-d1b5db2c9188",
   "metadata": {},
   "outputs": [],
   "source": [
    "df.loc[0, 'Text']"
   ]
  },
  {
   "cell_type": "code",
   "execution_count": null,
   "id": "870698e5-9690-489c-bc9d-99b95cd53f13",
   "metadata": {},
   "outputs": [],
   "source": [
    "df.at[0, 'Speaker'] = 1 # Adding column 'Speaker' by initialising it with a numeric value in order to avoid DtypeWarning\n",
    "df = df.astype('object') # Converting the column to the desired data type\n",
    "\n",
    "for index, row in df.iterrows():\n",
    "    match = re.match(r'^(\\w+):\\xa0', row['Text'])\n",
    "    if match:\n",
    "        speaker = match.group(1)\n",
    "        df.at[index, 'Speaker'] = speaker\n",
    "        text_without_speaker = row['Text'][len(match.group(0)):]\n",
    "        df.at[index, 'Text'] = text_without_speaker\n",
    "    else:\n",
    "        # Handle the case when no match is found (optional)\n",
    "        #df.at[index, 'Speaker'] = ''  # Set a default value\n",
    "        pass\n",
    "\n",
    "df['Speaker'].ffill(inplace=True)\n",
    "\n",
    "print('Number of turns:', df.shape[0])\n",
    "\n",
    "debate_list.append(title)\n",
    "turn_list.append(df.shape[0])\n",
    "\n",
    "df[['Title', 'Debate', 'Date', 'Participants', 'Moderators', 'Speaker', 'Text']].to_json(f'{debate_title}.jsonl', orient='records', lines=True)\n",
    "\n",
    "df[['Title', 'Debate', 'Date', 'Participants', 'Moderators', 'Speaker', 'Text']].to_csv(f'{debate_title}.tsv', sep='\\t', index=False, encoding='utf-8', lineterminator='\\n')"
   ]
  },
  {
   "cell_type": "markdown",
   "id": "ba1d7ec0-6a56-4499-9897-c13ce5fac6d7",
   "metadata": {},
   "source": [
    "## Debate 34"
   ]
  },
  {
   "cell_type": "code",
   "execution_count": null,
   "id": "a06805ea-e90c-4c3a-b497-daa516c76ef2",
   "metadata": {},
   "outputs": [],
   "source": [
    "debate_title = debate_1\n",
    "url = debate_url_1\n",
    "response = requests.get(url)\n",
    "\n",
    "if response.status_code == 200:\n",
    "    page_content = response.content\n",
    "    # Step 2: Parse HTML content\n",
    "    soup = BeautifulSoup(page_content, 'lxml')\n",
    "\n",
    "    # Extract relevant tags (e.g., <h1>, <p>, etc.) and store them in a list\n",
    "    rows = []\n",
    "    for tag in soup.find_all(['h1', 'p']):\n",
    "        rows.append(tag.text.strip())  # Remove leading/trailing spaces\n",
    "    \n",
    "    # Create a DataFrame from the list of rows\n",
    "    df = pd.DataFrame(rows, columns=['Text'])\n",
    "\n",
    "else:\n",
    "    print(f'Failed to retrieve the page. Status code: {response.status_code}')"
   ]
  },
  {
   "cell_type": "code",
   "execution_count": null,
   "id": "8009bd32-5e78-4638-8433-cf28c8f93f03",
   "metadata": {},
   "outputs": [],
   "source": [
    "df"
   ]
  },
  {
   "cell_type": "code",
   "execution_count": null,
   "id": "affb7d07-cdec-4493-af58-7d27ce5e80be",
   "metadata": {},
   "outputs": [],
   "source": [
    "df.head(10)"
   ]
  },
  {
   "cell_type": "code",
   "execution_count": null,
   "id": "794baf54-9bc7-4d9b-a3d5-f5c9d7e7dbf3",
   "metadata": {},
   "outputs": [],
   "source": [
    "title = df.at[0, 'Text']\n",
    "df['Title'] = title\n",
    "\n",
    "debate = df.at[1, 'Text']\n",
    "df['Debate'] = debate\n",
    "\n",
    "date = df.at[2, 'Text']\n",
    "df['Date'] = date\n",
    "\n",
    "participants = df.at[3, 'Text']\n",
    "participants = re.sub(r'^\\w+:\\n', '', participants)\n",
    "participants = re.sub(r'\\n', ' ', participants)\n",
    "df['Participants'] = participants\n",
    "\n",
    "moderators = df.at[4, 'Text']\n",
    "moderators = re.sub(r'^\\w+:\\n', '', moderators)\n",
    "df['Moderators'] = moderators"
   ]
  },
  {
   "cell_type": "code",
   "execution_count": null,
   "id": "11127c7e-fffb-4ace-928d-9055b120bc95",
   "metadata": {},
   "outputs": [],
   "source": [
    "last_row = 250\n",
    "df.loc[last_row, 'Text']"
   ]
  },
  {
   "cell_type": "code",
   "execution_count": null,
   "id": "3b063226-7eeb-4492-9f81-ea075ab3ca24",
   "metadata": {},
   "outputs": [],
   "source": [
    "df = df[~df['Text'].str.contains(df.loc[last_row, 'Text'])]"
   ]
  },
  {
   "cell_type": "code",
   "execution_count": null,
   "id": "1c4f4012-5e81-4595-b831-5216f9eea284",
   "metadata": {},
   "outputs": [],
   "source": [
    "df = df.loc[5:]\n",
    "df = df.reset_index(drop=True)"
   ]
  },
  {
   "cell_type": "code",
   "execution_count": null,
   "id": "817b8c85-a4c2-486f-bdbe-68bb4afb4387",
   "metadata": {},
   "outputs": [],
   "source": [
    "# List of expressions whose rows in column 'Text' should be dropped\n",
    "expressions_to_drop = ['(APPLAUSE)', '(LAUGHTER)', '(CROSSTALK)']\n",
    "\n",
    "# Creating a boolean mask for rows starting with the specified expressions\n",
    "mask = df['Text'].str.startswith(tuple(expressions_to_drop))\n",
    "\n",
    "# Counting the number of rows for each expression\n",
    "counts = mask.value_counts()\n",
    "\n",
    "# Display the counts\n",
    "counts"
   ]
  },
  {
   "cell_type": "code",
   "execution_count": null,
   "id": "ba69c937-be33-4b0f-a95b-e23cb45977e1",
   "metadata": {},
   "outputs": [],
   "source": [
    "# Dropping the rows that start with those expressions in column 'Text'\n",
    "df = df[~mask]\n",
    "df = df.reset_index(drop=True)"
   ]
  },
  {
   "cell_type": "code",
   "execution_count": null,
   "id": "415aebc3-a672-4337-b276-92d72d64a8f5",
   "metadata": {},
   "outputs": [],
   "source": [
    "df.head(1)"
   ]
  },
  {
   "cell_type": "code",
   "execution_count": null,
   "id": "6cc5c60f-d57f-4472-96cb-37d441cd9961",
   "metadata": {},
   "outputs": [],
   "source": [
    "df.loc[0, 'Text']"
   ]
  },
  {
   "cell_type": "code",
   "execution_count": null,
   "id": "2b9e9a5d-ac3d-4ec4-a994-44ada84af4fa",
   "metadata": {},
   "outputs": [],
   "source": [
    "df.at[0, 'Speaker'] = 1 # Adding column 'Speaker' by initialising it with a numeric value in order to avoid DtypeWarning\n",
    "df = df.astype('object') # Converting the column to the desired data type\n",
    "\n",
    "for index, row in df.iterrows():\n",
    "    match = re.match(r'^(\\w+):\\xa0', row['Text'])\n",
    "    if match:\n",
    "        speaker = match.group(1)\n",
    "        df.at[index, 'Speaker'] = speaker\n",
    "        text_without_speaker = row['Text'][len(match.group(0)):]\n",
    "        df.at[index, 'Text'] = text_without_speaker\n",
    "    else:\n",
    "        # Handle the case when no match is found (optional)\n",
    "        #df.at[index, 'Speaker'] = ''  # Set a default value\n",
    "        pass\n",
    "\n",
    "df['Speaker'].ffill(inplace=True)\n",
    "\n",
    "print('Number of turns:', df.shape[0])\n",
    "\n",
    "debate_list.append(title)\n",
    "turn_list.append(df.shape[0])\n",
    "\n",
    "df[['Title', 'Debate', 'Date', 'Participants', 'Moderators', 'Speaker', 'Text']].to_json(f'{debate_title}.jsonl', orient='records', lines=True)\n",
    "\n",
    "df[['Title', 'Debate', 'Date', 'Participants', 'Moderators', 'Speaker', 'Text']].to_csv(f'{debate_title}.tsv', sep='\\t', index=False, encoding='utf-8', lineterminator='\\n')"
   ]
  },
  {
   "cell_type": "markdown",
   "id": "652b550d-ede0-4a89-a537-094db163094f",
   "metadata": {},
   "source": [
    "## Debate 35"
   ]
  },
  {
   "cell_type": "code",
   "execution_count": null,
   "id": "5b77f2e7-7b6a-43ce-b082-4f199a213ecf",
   "metadata": {},
   "outputs": [],
   "source": [
    "debate_title = debate_1\n",
    "url = debate_url_1\n",
    "response = requests.get(url)\n",
    "\n",
    "if response.status_code == 200:\n",
    "    page_content = response.content\n",
    "    # Step 2: Parse HTML content\n",
    "    soup = BeautifulSoup(page_content, 'lxml')\n",
    "\n",
    "    # Extract relevant tags (e.g., <h1>, <p>, etc.) and store them in a list\n",
    "    rows = []\n",
    "    for tag in soup.find_all(['h1', 'p']):\n",
    "        rows.append(tag.text.strip())  # Remove leading/trailing spaces\n",
    "    \n",
    "    # Create a DataFrame from the list of rows\n",
    "    df = pd.DataFrame(rows, columns=['Text'])\n",
    "\n",
    "else:\n",
    "    print(f'Failed to retrieve the page. Status code: {response.status_code}')"
   ]
  },
  {
   "cell_type": "code",
   "execution_count": null,
   "id": "762a90fa-5a75-47c5-addc-e135a2b50adf",
   "metadata": {},
   "outputs": [],
   "source": [
    "df"
   ]
  },
  {
   "cell_type": "code",
   "execution_count": null,
   "id": "de796445-a9ce-48d6-8353-dd558e92d668",
   "metadata": {},
   "outputs": [],
   "source": [
    "df.head(10)"
   ]
  },
  {
   "cell_type": "code",
   "execution_count": null,
   "id": "edd6ce26-4523-445f-a490-34a774741d00",
   "metadata": {},
   "outputs": [],
   "source": [
    "title = df.at[0, 'Text']\n",
    "df['Title'] = title\n",
    "\n",
    "debate = df.at[1, 'Text']\n",
    "df['Debate'] = debate\n",
    "\n",
    "date = df.at[2, 'Text']\n",
    "df['Date'] = date\n",
    "\n",
    "participants = df.at[3, 'Text']\n",
    "participants = re.sub(r'^\\w+:\\n', '', participants)\n",
    "participants = re.sub(r'\\n', ' ', participants)\n",
    "df['Participants'] = participants\n",
    "\n",
    "moderators = df.at[4, 'Text']\n",
    "moderators = re.sub(r'^\\w+:\\n', '', moderators)\n",
    "df['Moderators'] = moderators"
   ]
  },
  {
   "cell_type": "code",
   "execution_count": null,
   "id": "e8ae6312-e87f-442c-849c-435162f7aade",
   "metadata": {},
   "outputs": [],
   "source": [
    "last_row = 250\n",
    "df.loc[last_row, 'Text']"
   ]
  },
  {
   "cell_type": "code",
   "execution_count": null,
   "id": "7269ffe4-996d-4083-b11e-782ea86d8dd3",
   "metadata": {},
   "outputs": [],
   "source": [
    "df = df[~df['Text'].str.contains(df.loc[last_row, 'Text'])]"
   ]
  },
  {
   "cell_type": "code",
   "execution_count": null,
   "id": "ddaeaa80-1b78-4d40-8096-d08995f33423",
   "metadata": {},
   "outputs": [],
   "source": [
    "df = df.loc[5:]\n",
    "df = df.reset_index(drop=True)"
   ]
  },
  {
   "cell_type": "code",
   "execution_count": null,
   "id": "21ff8bca-900e-4e52-b127-4324e496a75e",
   "metadata": {},
   "outputs": [],
   "source": [
    "# List of expressions whose rows in column 'Text' should be dropped\n",
    "expressions_to_drop = ['(APPLAUSE)', '(LAUGHTER)', '(CROSSTALK)']\n",
    "\n",
    "# Creating a boolean mask for rows starting with the specified expressions\n",
    "mask = df['Text'].str.startswith(tuple(expressions_to_drop))\n",
    "\n",
    "# Counting the number of rows for each expression\n",
    "counts = mask.value_counts()\n",
    "\n",
    "# Display the counts\n",
    "counts"
   ]
  },
  {
   "cell_type": "code",
   "execution_count": null,
   "id": "b6f00e09-094f-41c7-91fe-8385c1adc8ff",
   "metadata": {},
   "outputs": [],
   "source": [
    "# Dropping the rows that start with those expressions in column 'Text'\n",
    "df = df[~mask]\n",
    "df = df.reset_index(drop=True)"
   ]
  },
  {
   "cell_type": "code",
   "execution_count": null,
   "id": "1479ffa1-c950-4327-a899-4c3d2f7fb8bc",
   "metadata": {},
   "outputs": [],
   "source": [
    "df.head(1)"
   ]
  },
  {
   "cell_type": "code",
   "execution_count": null,
   "id": "d23d51a2-8605-4cb4-967c-c313ef227c3b",
   "metadata": {},
   "outputs": [],
   "source": [
    "df.loc[0, 'Text']"
   ]
  },
  {
   "cell_type": "code",
   "execution_count": null,
   "id": "459e8ede-7e97-40c2-be22-dfaec95f2def",
   "metadata": {},
   "outputs": [],
   "source": [
    "df.at[0, 'Speaker'] = 1 # Adding column 'Speaker' by initialising it with a numeric value in order to avoid DtypeWarning\n",
    "df = df.astype('object') # Converting the column to the desired data type\n",
    "\n",
    "for index, row in df.iterrows():\n",
    "    match = re.match(r'^(\\w+):\\xa0', row['Text'])\n",
    "    if match:\n",
    "        speaker = match.group(1)\n",
    "        df.at[index, 'Speaker'] = speaker\n",
    "        text_without_speaker = row['Text'][len(match.group(0)):]\n",
    "        df.at[index, 'Text'] = text_without_speaker\n",
    "    else:\n",
    "        # Handle the case when no match is found (optional)\n",
    "        #df.at[index, 'Speaker'] = ''  # Set a default value\n",
    "        pass\n",
    "\n",
    "df['Speaker'].ffill(inplace=True)\n",
    "\n",
    "print('Number of turns:', df.shape[0])\n",
    "\n",
    "debate_list.append(title)\n",
    "turn_list.append(df.shape[0])\n",
    "\n",
    "df[['Title', 'Debate', 'Date', 'Participants', 'Moderators', 'Speaker', 'Text']].to_json(f'{debate_title}.jsonl', orient='records', lines=True)\n",
    "\n",
    "df[['Title', 'Debate', 'Date', 'Participants', 'Moderators', 'Speaker', 'Text']].to_csv(f'{debate_title}.tsv', sep='\\t', index=False, encoding='utf-8', lineterminator='\\n')"
   ]
  },
  {
   "cell_type": "markdown",
   "id": "e94bcc98-fcc3-46f4-8bed-047752f2d40d",
   "metadata": {},
   "source": [
    "## Debate 36"
   ]
  },
  {
   "cell_type": "code",
   "execution_count": null,
   "id": "793a6e2e-4bba-47e1-aef4-3430a5365884",
   "metadata": {},
   "outputs": [],
   "source": [
    "debate_title = debate_1\n",
    "url = debate_url_1\n",
    "response = requests.get(url)\n",
    "\n",
    "if response.status_code == 200:\n",
    "    page_content = response.content\n",
    "    # Step 2: Parse HTML content\n",
    "    soup = BeautifulSoup(page_content, 'lxml')\n",
    "\n",
    "    # Extract relevant tags (e.g., <h1>, <p>, etc.) and store them in a list\n",
    "    rows = []\n",
    "    for tag in soup.find_all(['h1', 'p']):\n",
    "        rows.append(tag.text.strip())  # Remove leading/trailing spaces\n",
    "    \n",
    "    # Create a DataFrame from the list of rows\n",
    "    df = pd.DataFrame(rows, columns=['Text'])\n",
    "\n",
    "else:\n",
    "    print(f'Failed to retrieve the page. Status code: {response.status_code}')"
   ]
  },
  {
   "cell_type": "code",
   "execution_count": null,
   "id": "f4e9fe60-3b45-4ccb-a40d-b057bca1ba0d",
   "metadata": {},
   "outputs": [],
   "source": [
    "df"
   ]
  },
  {
   "cell_type": "code",
   "execution_count": null,
   "id": "59097f9e-0d37-48b1-b1f5-bc2c641f7a0b",
   "metadata": {},
   "outputs": [],
   "source": [
    "df.head(10)"
   ]
  },
  {
   "cell_type": "code",
   "execution_count": null,
   "id": "e736f02f-3b52-4042-b9d8-91c3174dafb4",
   "metadata": {},
   "outputs": [],
   "source": [
    "title = df.at[0, 'Text']\n",
    "df['Title'] = title\n",
    "\n",
    "debate = df.at[1, 'Text']\n",
    "df['Debate'] = debate\n",
    "\n",
    "date = df.at[2, 'Text']\n",
    "df['Date'] = date\n",
    "\n",
    "participants = df.at[3, 'Text']\n",
    "participants = re.sub(r'^\\w+:\\n', '', participants)\n",
    "participants = re.sub(r'\\n', ' ', participants)\n",
    "df['Participants'] = participants\n",
    "\n",
    "moderators = df.at[4, 'Text']\n",
    "moderators = re.sub(r'^\\w+:\\n', '', moderators)\n",
    "df['Moderators'] = moderators"
   ]
  },
  {
   "cell_type": "code",
   "execution_count": null,
   "id": "bd94def0-8064-4b29-b524-338dd9047452",
   "metadata": {},
   "outputs": [],
   "source": [
    "last_row = 250\n",
    "df.loc[last_row, 'Text']"
   ]
  },
  {
   "cell_type": "code",
   "execution_count": null,
   "id": "c0d9baa8-0953-48f9-99d0-d6a1686998b8",
   "metadata": {},
   "outputs": [],
   "source": [
    "df = df[~df['Text'].str.contains(df.loc[last_row, 'Text'])]"
   ]
  },
  {
   "cell_type": "code",
   "execution_count": null,
   "id": "07df4493-6055-4fd7-a862-da31bf299166",
   "metadata": {},
   "outputs": [],
   "source": [
    "df = df.loc[5:]\n",
    "df = df.reset_index(drop=True)"
   ]
  },
  {
   "cell_type": "code",
   "execution_count": null,
   "id": "fb0f4a92-c729-4bea-bac0-160d37fb070c",
   "metadata": {},
   "outputs": [],
   "source": [
    "# List of expressions whose rows in column 'Text' should be dropped\n",
    "expressions_to_drop = ['(APPLAUSE)', '(LAUGHTER)', '(CROSSTALK)']\n",
    "\n",
    "# Creating a boolean mask for rows starting with the specified expressions\n",
    "mask = df['Text'].str.startswith(tuple(expressions_to_drop))\n",
    "\n",
    "# Counting the number of rows for each expression\n",
    "counts = mask.value_counts()\n",
    "\n",
    "# Display the counts\n",
    "counts"
   ]
  },
  {
   "cell_type": "code",
   "execution_count": null,
   "id": "30d3fb6b-ad27-4869-a0b2-574097da503e",
   "metadata": {},
   "outputs": [],
   "source": [
    "# Dropping the rows that start with those expressions in column 'Text'\n",
    "df = df[~mask]\n",
    "df = df.reset_index(drop=True)"
   ]
  },
  {
   "cell_type": "code",
   "execution_count": null,
   "id": "889ed09d-2c72-457f-bf12-0137ccc69671",
   "metadata": {},
   "outputs": [],
   "source": [
    "df.head(1)"
   ]
  },
  {
   "cell_type": "code",
   "execution_count": null,
   "id": "ab7dea81-f3ce-41a5-a760-0334c35fb5aa",
   "metadata": {},
   "outputs": [],
   "source": [
    "df.loc[0, 'Text']"
   ]
  },
  {
   "cell_type": "code",
   "execution_count": null,
   "id": "e43d1fe8-c241-4f6a-bf4c-b351cd677a90",
   "metadata": {},
   "outputs": [],
   "source": [
    "df.at[0, 'Speaker'] = 1 # Adding column 'Speaker' by initialising it with a numeric value in order to avoid DtypeWarning\n",
    "df = df.astype('object') # Converting the column to the desired data type\n",
    "\n",
    "for index, row in df.iterrows():\n",
    "    match = re.match(r'^(\\w+):\\xa0', row['Text'])\n",
    "    if match:\n",
    "        speaker = match.group(1)\n",
    "        df.at[index, 'Speaker'] = speaker\n",
    "        text_without_speaker = row['Text'][len(match.group(0)):]\n",
    "        df.at[index, 'Text'] = text_without_speaker\n",
    "    else:\n",
    "        # Handle the case when no match is found (optional)\n",
    "        #df.at[index, 'Speaker'] = ''  # Set a default value\n",
    "        pass\n",
    "\n",
    "df['Speaker'].ffill(inplace=True)\n",
    "\n",
    "print('Number of turns:', df.shape[0])\n",
    "\n",
    "debate_list.append(title)\n",
    "turn_list.append(df.shape[0])\n",
    "\n",
    "df[['Title', 'Debate', 'Date', 'Participants', 'Moderators', 'Speaker', 'Text']].to_json(f'{debate_title}.jsonl', orient='records', lines=True)\n",
    "\n",
    "df[['Title', 'Debate', 'Date', 'Participants', 'Moderators', 'Speaker', 'Text']].to_csv(f'{debate_title}.tsv', sep='\\t', index=False, encoding='utf-8', lineterminator='\\n')"
   ]
  },
  {
   "cell_type": "markdown",
   "id": "3dff6fbd-70d9-44be-b866-26c4e3f38b26",
   "metadata": {},
   "source": [
    "## Debate 37"
   ]
  },
  {
   "cell_type": "code",
   "execution_count": null,
   "id": "ef816ee0-d0d4-4021-adc8-0e0cc128280e",
   "metadata": {},
   "outputs": [],
   "source": [
    "debate_title = debate_1\n",
    "url = debate_url_1\n",
    "response = requests.get(url)\n",
    "\n",
    "if response.status_code == 200:\n",
    "    page_content = response.content\n",
    "    # Step 2: Parse HTML content\n",
    "    soup = BeautifulSoup(page_content, 'lxml')\n",
    "\n",
    "    # Extract relevant tags (e.g., <h1>, <p>, etc.) and store them in a list\n",
    "    rows = []\n",
    "    for tag in soup.find_all(['h1', 'p']):\n",
    "        rows.append(tag.text.strip())  # Remove leading/trailing spaces\n",
    "    \n",
    "    # Create a DataFrame from the list of rows\n",
    "    df = pd.DataFrame(rows, columns=['Text'])\n",
    "\n",
    "else:\n",
    "    print(f'Failed to retrieve the page. Status code: {response.status_code}')"
   ]
  },
  {
   "cell_type": "code",
   "execution_count": null,
   "id": "ec1de70c-90b8-4faa-8490-db878e4ba072",
   "metadata": {},
   "outputs": [],
   "source": [
    "df"
   ]
  },
  {
   "cell_type": "code",
   "execution_count": null,
   "id": "f5398302-d928-463c-afca-8ab2467689de",
   "metadata": {},
   "outputs": [],
   "source": [
    "df.head(10)"
   ]
  },
  {
   "cell_type": "code",
   "execution_count": null,
   "id": "d7deda04-826d-4e25-af1d-9769d8932028",
   "metadata": {},
   "outputs": [],
   "source": [
    "title = df.at[0, 'Text']\n",
    "df['Title'] = title\n",
    "\n",
    "debate = df.at[1, 'Text']\n",
    "df['Debate'] = debate\n",
    "\n",
    "date = df.at[2, 'Text']\n",
    "df['Date'] = date\n",
    "\n",
    "participants = df.at[3, 'Text']\n",
    "participants = re.sub(r'^\\w+:\\n', '', participants)\n",
    "participants = re.sub(r'\\n', ' ', participants)\n",
    "df['Participants'] = participants\n",
    "\n",
    "moderators = df.at[4, 'Text']\n",
    "moderators = re.sub(r'^\\w+:\\n', '', moderators)\n",
    "df['Moderators'] = moderators"
   ]
  },
  {
   "cell_type": "code",
   "execution_count": null,
   "id": "409ec687-e6ec-4904-95ac-5246fe531046",
   "metadata": {},
   "outputs": [],
   "source": [
    "last_row = 250\n",
    "df.loc[last_row, 'Text']"
   ]
  },
  {
   "cell_type": "code",
   "execution_count": null,
   "id": "ddd047b2-e562-4df0-909b-054613106293",
   "metadata": {},
   "outputs": [],
   "source": [
    "df = df[~df['Text'].str.contains(df.loc[last_row, 'Text'])]"
   ]
  },
  {
   "cell_type": "code",
   "execution_count": null,
   "id": "cce6a957-8f91-4b84-b652-820d2b2dd864",
   "metadata": {},
   "outputs": [],
   "source": [
    "df = df.loc[5:]\n",
    "df = df.reset_index(drop=True)"
   ]
  },
  {
   "cell_type": "code",
   "execution_count": null,
   "id": "392e53b9-f63c-4a17-99f3-fb1d66e066de",
   "metadata": {},
   "outputs": [],
   "source": [
    "# List of expressions whose rows in column 'Text' should be dropped\n",
    "expressions_to_drop = ['(APPLAUSE)', '(LAUGHTER)', '(CROSSTALK)']\n",
    "\n",
    "# Creating a boolean mask for rows starting with the specified expressions\n",
    "mask = df['Text'].str.startswith(tuple(expressions_to_drop))\n",
    "\n",
    "# Counting the number of rows for each expression\n",
    "counts = mask.value_counts()\n",
    "\n",
    "# Display the counts\n",
    "counts"
   ]
  },
  {
   "cell_type": "code",
   "execution_count": null,
   "id": "62d9b16b-4f3b-451d-b9bb-de00956c5b69",
   "metadata": {},
   "outputs": [],
   "source": [
    "# Dropping the rows that start with those expressions in column 'Text'\n",
    "df = df[~mask]\n",
    "df = df.reset_index(drop=True)"
   ]
  },
  {
   "cell_type": "code",
   "execution_count": null,
   "id": "5de7645a-2697-4e7f-9bb1-8ba488b2d91b",
   "metadata": {},
   "outputs": [],
   "source": [
    "df.head(1)"
   ]
  },
  {
   "cell_type": "code",
   "execution_count": null,
   "id": "855e69b2-633e-4729-a2be-071341962545",
   "metadata": {},
   "outputs": [],
   "source": [
    "df.loc[0, 'Text']"
   ]
  },
  {
   "cell_type": "code",
   "execution_count": null,
   "id": "75edf870-bda7-4fc6-ae55-7eee9cca9650",
   "metadata": {},
   "outputs": [],
   "source": [
    "df.at[0, 'Speaker'] = 1 # Adding column 'Speaker' by initialising it with a numeric value in order to avoid DtypeWarning\n",
    "df = df.astype('object') # Converting the column to the desired data type\n",
    "\n",
    "for index, row in df.iterrows():\n",
    "    match = re.match(r'^(\\w+):\\xa0', row['Text'])\n",
    "    if match:\n",
    "        speaker = match.group(1)\n",
    "        df.at[index, 'Speaker'] = speaker\n",
    "        text_without_speaker = row['Text'][len(match.group(0)):]\n",
    "        df.at[index, 'Text'] = text_without_speaker\n",
    "    else:\n",
    "        # Handle the case when no match is found (optional)\n",
    "        #df.at[index, 'Speaker'] = ''  # Set a default value\n",
    "        pass\n",
    "\n",
    "df['Speaker'].ffill(inplace=True)\n",
    "\n",
    "print('Number of turns:', df.shape[0])\n",
    "\n",
    "debate_list.append(title)\n",
    "turn_list.append(df.shape[0])\n",
    "\n",
    "df[['Title', 'Debate', 'Date', 'Participants', 'Moderators', 'Speaker', 'Text']].to_json(f'{debate_title}.jsonl', orient='records', lines=True)\n",
    "\n",
    "df[['Title', 'Debate', 'Date', 'Participants', 'Moderators', 'Speaker', 'Text']].to_csv(f'{debate_title}.tsv', sep='\\t', index=False, encoding='utf-8', lineterminator='\\n')"
   ]
  },
  {
   "cell_type": "markdown",
   "id": "c4bdd829-304e-4b9a-82c4-089d3061903b",
   "metadata": {},
   "source": [
    "## Debate 38"
   ]
  },
  {
   "cell_type": "code",
   "execution_count": null,
   "id": "75e76009-c326-4aac-b7d8-c0a596be9d67",
   "metadata": {},
   "outputs": [],
   "source": [
    "debate_title = debate_1\n",
    "url = debate_url_1\n",
    "response = requests.get(url)\n",
    "\n",
    "if response.status_code == 200:\n",
    "    page_content = response.content\n",
    "    # Step 2: Parse HTML content\n",
    "    soup = BeautifulSoup(page_content, 'lxml')\n",
    "\n",
    "    # Extract relevant tags (e.g., <h1>, <p>, etc.) and store them in a list\n",
    "    rows = []\n",
    "    for tag in soup.find_all(['h1', 'p']):\n",
    "        rows.append(tag.text.strip())  # Remove leading/trailing spaces\n",
    "    \n",
    "    # Create a DataFrame from the list of rows\n",
    "    df = pd.DataFrame(rows, columns=['Text'])\n",
    "\n",
    "else:\n",
    "    print(f'Failed to retrieve the page. Status code: {response.status_code}')"
   ]
  },
  {
   "cell_type": "code",
   "execution_count": null,
   "id": "25aff281-2f79-4aeb-a303-413bd91e5db4",
   "metadata": {},
   "outputs": [],
   "source": [
    "df"
   ]
  },
  {
   "cell_type": "code",
   "execution_count": null,
   "id": "ea106e32-5740-44bc-ba3d-58bd25c97ef2",
   "metadata": {},
   "outputs": [],
   "source": [
    "df.head(10)"
   ]
  },
  {
   "cell_type": "code",
   "execution_count": null,
   "id": "6df828ba-1696-4748-bccb-9ce84f6b894a",
   "metadata": {},
   "outputs": [],
   "source": [
    "title = df.at[0, 'Text']\n",
    "df['Title'] = title\n",
    "\n",
    "debate = df.at[1, 'Text']\n",
    "df['Debate'] = debate\n",
    "\n",
    "date = df.at[2, 'Text']\n",
    "df['Date'] = date\n",
    "\n",
    "participants = df.at[3, 'Text']\n",
    "participants = re.sub(r'^\\w+:\\n', '', participants)\n",
    "participants = re.sub(r'\\n', ' ', participants)\n",
    "df['Participants'] = participants\n",
    "\n",
    "moderators = df.at[4, 'Text']\n",
    "moderators = re.sub(r'^\\w+:\\n', '', moderators)\n",
    "df['Moderators'] = moderators"
   ]
  },
  {
   "cell_type": "code",
   "execution_count": null,
   "id": "975973d6-5938-4fe7-98c6-cae854264f23",
   "metadata": {},
   "outputs": [],
   "source": [
    "last_row = 250\n",
    "df.loc[last_row, 'Text']"
   ]
  },
  {
   "cell_type": "code",
   "execution_count": null,
   "id": "988875aa-7717-4613-a2b1-53bddc4f3670",
   "metadata": {},
   "outputs": [],
   "source": [
    "df = df[~df['Text'].str.contains(df.loc[last_row, 'Text'])]"
   ]
  },
  {
   "cell_type": "code",
   "execution_count": null,
   "id": "9d76b67c-4760-42bc-83f0-2fddeee5eb60",
   "metadata": {},
   "outputs": [],
   "source": [
    "df = df.loc[5:]\n",
    "df = df.reset_index(drop=True)"
   ]
  },
  {
   "cell_type": "code",
   "execution_count": null,
   "id": "bbc0e2cc-9176-4f5a-a344-f192469c8bfe",
   "metadata": {},
   "outputs": [],
   "source": [
    "# List of expressions whose rows in column 'Text' should be dropped\n",
    "expressions_to_drop = ['(APPLAUSE)', '(LAUGHTER)', '(CROSSTALK)']\n",
    "\n",
    "# Creating a boolean mask for rows starting with the specified expressions\n",
    "mask = df['Text'].str.startswith(tuple(expressions_to_drop))\n",
    "\n",
    "# Counting the number of rows for each expression\n",
    "counts = mask.value_counts()\n",
    "\n",
    "# Display the counts\n",
    "counts"
   ]
  },
  {
   "cell_type": "code",
   "execution_count": null,
   "id": "4e7bef06-fe8b-4140-b017-57c7633ada34",
   "metadata": {},
   "outputs": [],
   "source": [
    "# Dropping the rows that start with those expressions in column 'Text'\n",
    "df = df[~mask]\n",
    "df = df.reset_index(drop=True)"
   ]
  },
  {
   "cell_type": "code",
   "execution_count": null,
   "id": "29a431d8-38a8-4c15-a4fe-18fbbc820490",
   "metadata": {},
   "outputs": [],
   "source": [
    "df.head(1)"
   ]
  },
  {
   "cell_type": "code",
   "execution_count": null,
   "id": "79dd26a9-9845-4989-a587-f384acd7087c",
   "metadata": {},
   "outputs": [],
   "source": [
    "df.loc[0, 'Text']"
   ]
  },
  {
   "cell_type": "code",
   "execution_count": null,
   "id": "3891745e-3aa6-4f4c-bd91-f29c99829fb2",
   "metadata": {},
   "outputs": [],
   "source": [
    "df.at[0, 'Speaker'] = 1 # Adding column 'Speaker' by initialising it with a numeric value in order to avoid DtypeWarning\n",
    "df = df.astype('object') # Converting the column to the desired data type\n",
    "\n",
    "for index, row in df.iterrows():\n",
    "    match = re.match(r'^(\\w+):\\xa0', row['Text'])\n",
    "    if match:\n",
    "        speaker = match.group(1)\n",
    "        df.at[index, 'Speaker'] = speaker\n",
    "        text_without_speaker = row['Text'][len(match.group(0)):]\n",
    "        df.at[index, 'Text'] = text_without_speaker\n",
    "    else:\n",
    "        # Handle the case when no match is found (optional)\n",
    "        #df.at[index, 'Speaker'] = ''  # Set a default value\n",
    "        pass\n",
    "\n",
    "df['Speaker'].ffill(inplace=True)\n",
    "\n",
    "print('Number of turns:', df.shape[0])\n",
    "\n",
    "debate_list.append(title)\n",
    "turn_list.append(df.shape[0])\n",
    "\n",
    "df[['Title', 'Debate', 'Date', 'Participants', 'Moderators', 'Speaker', 'Text']].to_json(f'{debate_title}.jsonl', orient='records', lines=True)\n",
    "\n",
    "df[['Title', 'Debate', 'Date', 'Participants', 'Moderators', 'Speaker', 'Text']].to_csv(f'{debate_title}.tsv', sep='\\t', index=False, encoding='utf-8', lineterminator='\\n')"
   ]
  },
  {
   "cell_type": "markdown",
   "id": "c5c553bf-29a3-4663-9676-8f78962b0ac1",
   "metadata": {},
   "source": [
    "## Debate 39"
   ]
  },
  {
   "cell_type": "code",
   "execution_count": null,
   "id": "a6086425-b846-4f3a-97c7-3a4252ecad32",
   "metadata": {},
   "outputs": [],
   "source": [
    "debate_title = debate_1\n",
    "url = debate_url_1\n",
    "response = requests.get(url)\n",
    "\n",
    "if response.status_code == 200:\n",
    "    page_content = response.content\n",
    "    # Step 2: Parse HTML content\n",
    "    soup = BeautifulSoup(page_content, 'lxml')\n",
    "\n",
    "    # Extract relevant tags (e.g., <h1>, <p>, etc.) and store them in a list\n",
    "    rows = []\n",
    "    for tag in soup.find_all(['h1', 'p']):\n",
    "        rows.append(tag.text.strip())  # Remove leading/trailing spaces\n",
    "    \n",
    "    # Create a DataFrame from the list of rows\n",
    "    df = pd.DataFrame(rows, columns=['Text'])\n",
    "\n",
    "else:\n",
    "    print(f'Failed to retrieve the page. Status code: {response.status_code}')"
   ]
  },
  {
   "cell_type": "code",
   "execution_count": null,
   "id": "ea4a747c-22dc-4fdb-bcb1-2273374604ea",
   "metadata": {},
   "outputs": [],
   "source": [
    "df"
   ]
  },
  {
   "cell_type": "code",
   "execution_count": null,
   "id": "6766b8a2-1ec7-4fba-bb6e-49096657e8d0",
   "metadata": {},
   "outputs": [],
   "source": [
    "df.head(10)"
   ]
  },
  {
   "cell_type": "code",
   "execution_count": null,
   "id": "4c6e2c43-cf6f-4ece-b620-a0744646dbd8",
   "metadata": {},
   "outputs": [],
   "source": [
    "title = df.at[0, 'Text']\n",
    "df['Title'] = title\n",
    "\n",
    "debate = df.at[1, 'Text']\n",
    "df['Debate'] = debate\n",
    "\n",
    "date = df.at[2, 'Text']\n",
    "df['Date'] = date\n",
    "\n",
    "participants = df.at[3, 'Text']\n",
    "participants = re.sub(r'^\\w+:\\n', '', participants)\n",
    "participants = re.sub(r'\\n', ' ', participants)\n",
    "df['Participants'] = participants\n",
    "\n",
    "moderators = df.at[4, 'Text']\n",
    "moderators = re.sub(r'^\\w+:\\n', '', moderators)\n",
    "df['Moderators'] = moderators"
   ]
  },
  {
   "cell_type": "code",
   "execution_count": null,
   "id": "426ad3f2-eff7-487c-be53-684415596ab8",
   "metadata": {},
   "outputs": [],
   "source": [
    "last_row = 250\n",
    "df.loc[last_row, 'Text']"
   ]
  },
  {
   "cell_type": "code",
   "execution_count": null,
   "id": "d8d703fc-ec01-4942-9082-38a09c1c847e",
   "metadata": {},
   "outputs": [],
   "source": [
    "df = df[~df['Text'].str.contains(df.loc[last_row, 'Text'])]"
   ]
  },
  {
   "cell_type": "code",
   "execution_count": null,
   "id": "1b865f6f-0664-49bc-995e-5b02d2ecfe71",
   "metadata": {},
   "outputs": [],
   "source": [
    "df = df.loc[5:]\n",
    "df = df.reset_index(drop=True)"
   ]
  },
  {
   "cell_type": "code",
   "execution_count": null,
   "id": "b3f78d02-1e5b-467f-9e2c-9dfacfe196fb",
   "metadata": {},
   "outputs": [],
   "source": [
    "# List of expressions whose rows in column 'Text' should be dropped\n",
    "expressions_to_drop = ['(APPLAUSE)', '(LAUGHTER)', '(CROSSTALK)']\n",
    "\n",
    "# Creating a boolean mask for rows starting with the specified expressions\n",
    "mask = df['Text'].str.startswith(tuple(expressions_to_drop))\n",
    "\n",
    "# Counting the number of rows for each expression\n",
    "counts = mask.value_counts()\n",
    "\n",
    "# Display the counts\n",
    "counts"
   ]
  },
  {
   "cell_type": "code",
   "execution_count": null,
   "id": "2c1d9131-a6f3-473b-9952-ddc2538caaaf",
   "metadata": {},
   "outputs": [],
   "source": [
    "# Dropping the rows that start with those expressions in column 'Text'\n",
    "df = df[~mask]\n",
    "df = df.reset_index(drop=True)"
   ]
  },
  {
   "cell_type": "code",
   "execution_count": null,
   "id": "4bbab059-3344-4cef-af92-8e9e94528a4b",
   "metadata": {},
   "outputs": [],
   "source": [
    "df.head(1)"
   ]
  },
  {
   "cell_type": "code",
   "execution_count": null,
   "id": "8c543d16-ecec-492e-aecd-f414ea12af08",
   "metadata": {},
   "outputs": [],
   "source": [
    "df.loc[0, 'Text']"
   ]
  },
  {
   "cell_type": "code",
   "execution_count": null,
   "id": "c0a54a44-1c19-4885-a496-c94801c49c6c",
   "metadata": {},
   "outputs": [],
   "source": [
    "df.at[0, 'Speaker'] = 1 # Adding column 'Speaker' by initialising it with a numeric value in order to avoid DtypeWarning\n",
    "df = df.astype('object') # Converting the column to the desired data type\n",
    "\n",
    "for index, row in df.iterrows():\n",
    "    match = re.match(r'^(\\w+):\\xa0', row['Text'])\n",
    "    if match:\n",
    "        speaker = match.group(1)\n",
    "        df.at[index, 'Speaker'] = speaker\n",
    "        text_without_speaker = row['Text'][len(match.group(0)):]\n",
    "        df.at[index, 'Text'] = text_without_speaker\n",
    "    else:\n",
    "        # Handle the case when no match is found (optional)\n",
    "        #df.at[index, 'Speaker'] = ''  # Set a default value\n",
    "        pass\n",
    "\n",
    "df['Speaker'].ffill(inplace=True)\n",
    "\n",
    "print('Number of turns:', df.shape[0])\n",
    "\n",
    "debate_list.append(title)\n",
    "turn_list.append(df.shape[0])\n",
    "\n",
    "df[['Title', 'Debate', 'Date', 'Participants', 'Moderators', 'Speaker', 'Text']].to_json(f'{debate_title}.jsonl', orient='records', lines=True)\n",
    "\n",
    "df[['Title', 'Debate', 'Date', 'Participants', 'Moderators', 'Speaker', 'Text']].to_csv(f'{debate_title}.tsv', sep='\\t', index=False, encoding='utf-8', lineterminator='\\n')"
   ]
  },
  {
   "cell_type": "markdown",
   "id": "3bb569c8-6211-4b2d-9056-3eb2d8cd4390",
   "metadata": {},
   "source": [
    "## Debate 40"
   ]
  },
  {
   "cell_type": "code",
   "execution_count": null,
   "id": "3b03b66a-e785-487f-b051-d6b0792353c9",
   "metadata": {},
   "outputs": [],
   "source": [
    "debate_title = debate_1\n",
    "url = debate_url_1\n",
    "response = requests.get(url)\n",
    "\n",
    "if response.status_code == 200:\n",
    "    page_content = response.content\n",
    "    # Step 2: Parse HTML content\n",
    "    soup = BeautifulSoup(page_content, 'lxml')\n",
    "\n",
    "    # Extract relevant tags (e.g., <h1>, <p>, etc.) and store them in a list\n",
    "    rows = []\n",
    "    for tag in soup.find_all(['h1', 'p']):\n",
    "        rows.append(tag.text.strip())  # Remove leading/trailing spaces\n",
    "    \n",
    "    # Create a DataFrame from the list of rows\n",
    "    df = pd.DataFrame(rows, columns=['Text'])\n",
    "\n",
    "else:\n",
    "    print(f'Failed to retrieve the page. Status code: {response.status_code}')"
   ]
  },
  {
   "cell_type": "code",
   "execution_count": null,
   "id": "47e93eaa-7a0e-48ab-84e6-71d962a504c3",
   "metadata": {},
   "outputs": [],
   "source": [
    "df"
   ]
  },
  {
   "cell_type": "code",
   "execution_count": null,
   "id": "086e476a-cefa-4da6-902c-d9ea08188b8a",
   "metadata": {},
   "outputs": [],
   "source": [
    "df.head(10)"
   ]
  },
  {
   "cell_type": "code",
   "execution_count": null,
   "id": "09144288-93ae-449c-a12a-8481438f78d8",
   "metadata": {},
   "outputs": [],
   "source": [
    "title = df.at[0, 'Text']\n",
    "df['Title'] = title\n",
    "\n",
    "debate = df.at[1, 'Text']\n",
    "df['Debate'] = debate\n",
    "\n",
    "date = df.at[2, 'Text']\n",
    "df['Date'] = date\n",
    "\n",
    "participants = df.at[3, 'Text']\n",
    "participants = re.sub(r'^\\w+:\\n', '', participants)\n",
    "participants = re.sub(r'\\n', ' ', participants)\n",
    "df['Participants'] = participants\n",
    "\n",
    "moderators = df.at[4, 'Text']\n",
    "moderators = re.sub(r'^\\w+:\\n', '', moderators)\n",
    "df['Moderators'] = moderators"
   ]
  },
  {
   "cell_type": "code",
   "execution_count": null,
   "id": "206017b7-8f65-4240-973f-08f164eb3c0f",
   "metadata": {},
   "outputs": [],
   "source": [
    "last_row = 250\n",
    "df.loc[last_row, 'Text']"
   ]
  },
  {
   "cell_type": "code",
   "execution_count": null,
   "id": "c4720e9d-99c2-4327-951f-8958114dced8",
   "metadata": {},
   "outputs": [],
   "source": [
    "df = df[~df['Text'].str.contains(df.loc[last_row, 'Text'])]"
   ]
  },
  {
   "cell_type": "code",
   "execution_count": null,
   "id": "aee642b2-95ba-422c-a7ce-f2958ac5ebba",
   "metadata": {},
   "outputs": [],
   "source": [
    "df = df.loc[5:]\n",
    "df = df.reset_index(drop=True)"
   ]
  },
  {
   "cell_type": "code",
   "execution_count": null,
   "id": "ff72b965-fb86-4f0a-8374-8ba507870d19",
   "metadata": {},
   "outputs": [],
   "source": [
    "# List of expressions whose rows in column 'Text' should be dropped\n",
    "expressions_to_drop = ['(APPLAUSE)', '(LAUGHTER)', '(CROSSTALK)']\n",
    "\n",
    "# Creating a boolean mask for rows starting with the specified expressions\n",
    "mask = df['Text'].str.startswith(tuple(expressions_to_drop))\n",
    "\n",
    "# Counting the number of rows for each expression\n",
    "counts = mask.value_counts()\n",
    "\n",
    "# Display the counts\n",
    "counts"
   ]
  },
  {
   "cell_type": "code",
   "execution_count": null,
   "id": "14df6963-6494-47d8-be1c-80b1c67c84a4",
   "metadata": {},
   "outputs": [],
   "source": [
    "# Dropping the rows that start with those expressions in column 'Text'\n",
    "df = df[~mask]\n",
    "df = df.reset_index(drop=True)"
   ]
  },
  {
   "cell_type": "code",
   "execution_count": null,
   "id": "24128738-3c24-4829-9022-ae39af3a2510",
   "metadata": {},
   "outputs": [],
   "source": [
    "df.head(1)"
   ]
  },
  {
   "cell_type": "code",
   "execution_count": null,
   "id": "cf1d5431-54b4-4da4-b65d-b8a59e2f2742",
   "metadata": {},
   "outputs": [],
   "source": [
    "df.loc[0, 'Text']"
   ]
  },
  {
   "cell_type": "code",
   "execution_count": null,
   "id": "303e6bfc-4352-44e2-9468-247e47a39909",
   "metadata": {},
   "outputs": [],
   "source": [
    "df.at[0, 'Speaker'] = 1 # Adding column 'Speaker' by initialising it with a numeric value in order to avoid DtypeWarning\n",
    "df = df.astype('object') # Converting the column to the desired data type\n",
    "\n",
    "for index, row in df.iterrows():\n",
    "    match = re.match(r'^(\\w+):\\xa0', row['Text'])\n",
    "    if match:\n",
    "        speaker = match.group(1)\n",
    "        df.at[index, 'Speaker'] = speaker\n",
    "        text_without_speaker = row['Text'][len(match.group(0)):]\n",
    "        df.at[index, 'Text'] = text_without_speaker\n",
    "    else:\n",
    "        # Handle the case when no match is found (optional)\n",
    "        #df.at[index, 'Speaker'] = ''  # Set a default value\n",
    "        pass\n",
    "\n",
    "df['Speaker'].ffill(inplace=True)\n",
    "\n",
    "print('Number of turns:', df.shape[0])\n",
    "\n",
    "debate_list.append(title)\n",
    "turn_list.append(df.shape[0])\n",
    "\n",
    "df[['Title', 'Debate', 'Date', 'Participants', 'Moderators', 'Speaker', 'Text']].to_json(f'{debate_title}.jsonl', orient='records', lines=True)\n",
    "\n",
    "df[['Title', 'Debate', 'Date', 'Participants', 'Moderators', 'Speaker', 'Text']].to_csv(f'{debate_title}.tsv', sep='\\t', index=False, encoding='utf-8', lineterminator='\\n')"
   ]
  },
  {
   "cell_type": "markdown",
   "id": "78a9aa70-05f4-4cee-a22e-6f7ecb7d4e04",
   "metadata": {},
   "source": [
    "## Debate 41"
   ]
  },
  {
   "cell_type": "code",
   "execution_count": null,
   "id": "b4d6dc48-e2d6-4237-8ad7-5e9ec8c94081",
   "metadata": {},
   "outputs": [],
   "source": [
    "debate_title = debate_1\n",
    "url = debate_url_1\n",
    "response = requests.get(url)\n",
    "\n",
    "if response.status_code == 200:\n",
    "    page_content = response.content\n",
    "    # Step 2: Parse HTML content\n",
    "    soup = BeautifulSoup(page_content, 'lxml')\n",
    "\n",
    "    # Extract relevant tags (e.g., <h1>, <p>, etc.) and store them in a list\n",
    "    rows = []\n",
    "    for tag in soup.find_all(['h1', 'p']):\n",
    "        rows.append(tag.text.strip())  # Remove leading/trailing spaces\n",
    "    \n",
    "    # Create a DataFrame from the list of rows\n",
    "    df = pd.DataFrame(rows, columns=['Text'])\n",
    "\n",
    "else:\n",
    "    print(f'Failed to retrieve the page. Status code: {response.status_code}')"
   ]
  },
  {
   "cell_type": "code",
   "execution_count": null,
   "id": "b7260101-274b-4968-833d-d67a2eb49e9d",
   "metadata": {},
   "outputs": [],
   "source": [
    "df"
   ]
  },
  {
   "cell_type": "code",
   "execution_count": null,
   "id": "436d5182-f957-4a21-a4c3-a3ce393b2d61",
   "metadata": {},
   "outputs": [],
   "source": [
    "df.head(10)"
   ]
  },
  {
   "cell_type": "code",
   "execution_count": null,
   "id": "46de9480-7326-4eed-a7e4-b3e0b422bee3",
   "metadata": {},
   "outputs": [],
   "source": [
    "title = df.at[0, 'Text']\n",
    "df['Title'] = title\n",
    "\n",
    "debate = df.at[1, 'Text']\n",
    "df['Debate'] = debate\n",
    "\n",
    "date = df.at[2, 'Text']\n",
    "df['Date'] = date\n",
    "\n",
    "participants = df.at[3, 'Text']\n",
    "participants = re.sub(r'^\\w+:\\n', '', participants)\n",
    "participants = re.sub(r'\\n', ' ', participants)\n",
    "df['Participants'] = participants\n",
    "\n",
    "moderators = df.at[4, 'Text']\n",
    "moderators = re.sub(r'^\\w+:\\n', '', moderators)\n",
    "df['Moderators'] = moderators"
   ]
  },
  {
   "cell_type": "code",
   "execution_count": null,
   "id": "37a7f1d2-d40d-4b81-b233-fb5a759eaf52",
   "metadata": {},
   "outputs": [],
   "source": [
    "last_row = 250\n",
    "df.loc[last_row, 'Text']"
   ]
  },
  {
   "cell_type": "code",
   "execution_count": null,
   "id": "6ddd3ed1-8fc3-482c-a7fe-0be249faef3b",
   "metadata": {},
   "outputs": [],
   "source": [
    "df = df[~df['Text'].str.contains(df.loc[last_row, 'Text'])]"
   ]
  },
  {
   "cell_type": "code",
   "execution_count": null,
   "id": "e30de71e-07a8-4296-834b-ecf05b754148",
   "metadata": {},
   "outputs": [],
   "source": [
    "df = df.loc[5:]\n",
    "df = df.reset_index(drop=True)"
   ]
  },
  {
   "cell_type": "code",
   "execution_count": null,
   "id": "7f2affd9-7d7b-4fd6-b40a-dc83bf325cb4",
   "metadata": {},
   "outputs": [],
   "source": [
    "# List of expressions whose rows in column 'Text' should be dropped\n",
    "expressions_to_drop = ['(APPLAUSE)', '(LAUGHTER)', '(CROSSTALK)']\n",
    "\n",
    "# Creating a boolean mask for rows starting with the specified expressions\n",
    "mask = df['Text'].str.startswith(tuple(expressions_to_drop))\n",
    "\n",
    "# Counting the number of rows for each expression\n",
    "counts = mask.value_counts()\n",
    "\n",
    "# Display the counts\n",
    "counts"
   ]
  },
  {
   "cell_type": "code",
   "execution_count": null,
   "id": "fcb66dbd-89f3-457e-a740-c95137c897bc",
   "metadata": {},
   "outputs": [],
   "source": [
    "# Dropping the rows that start with those expressions in column 'Text'\n",
    "df = df[~mask]\n",
    "df = df.reset_index(drop=True)"
   ]
  },
  {
   "cell_type": "code",
   "execution_count": null,
   "id": "b67e0382-f2ba-4317-a58b-6a1861271cb3",
   "metadata": {},
   "outputs": [],
   "source": [
    "df.head(1)"
   ]
  },
  {
   "cell_type": "code",
   "execution_count": null,
   "id": "07cd3fb2-6fd7-469d-a683-fa00cb13b8d0",
   "metadata": {},
   "outputs": [],
   "source": [
    "df.loc[0, 'Text']"
   ]
  },
  {
   "cell_type": "code",
   "execution_count": null,
   "id": "b544f468-a220-4427-aff0-84500917cbe9",
   "metadata": {},
   "outputs": [],
   "source": [
    "df.at[0, 'Speaker'] = 1 # Adding column 'Speaker' by initialising it with a numeric value in order to avoid DtypeWarning\n",
    "df = df.astype('object') # Converting the column to the desired data type\n",
    "\n",
    "for index, row in df.iterrows():\n",
    "    match = re.match(r'^(\\w+):\\xa0', row['Text'])\n",
    "    if match:\n",
    "        speaker = match.group(1)\n",
    "        df.at[index, 'Speaker'] = speaker\n",
    "        text_without_speaker = row['Text'][len(match.group(0)):]\n",
    "        df.at[index, 'Text'] = text_without_speaker\n",
    "    else:\n",
    "        # Handle the case when no match is found (optional)\n",
    "        #df.at[index, 'Speaker'] = ''  # Set a default value\n",
    "        pass\n",
    "\n",
    "df['Speaker'].ffill(inplace=True)\n",
    "\n",
    "print('Number of turns:', df.shape[0])\n",
    "\n",
    "debate_list.append(title)\n",
    "turn_list.append(df.shape[0])\n",
    "\n",
    "df[['Title', 'Debate', 'Date', 'Participants', 'Moderators', 'Speaker', 'Text']].to_json(f'{debate_title}.jsonl', orient='records', lines=True)\n",
    "\n",
    "df[['Title', 'Debate', 'Date', 'Participants', 'Moderators', 'Speaker', 'Text']].to_csv(f'{debate_title}.tsv', sep='\\t', index=False, encoding='utf-8', lineterminator='\\n')"
   ]
  },
  {
   "cell_type": "markdown",
   "id": "67636bd2-22b3-410a-b336-22356fcd9039",
   "metadata": {},
   "source": [
    "## Debate 42"
   ]
  },
  {
   "cell_type": "code",
   "execution_count": null,
   "id": "5f41fe78-1e3d-4791-881b-4045e515c03c",
   "metadata": {},
   "outputs": [],
   "source": [
    "debate_title = debate_1\n",
    "url = debate_url_1\n",
    "response = requests.get(url)\n",
    "\n",
    "if response.status_code == 200:\n",
    "    page_content = response.content\n",
    "    # Step 2: Parse HTML content\n",
    "    soup = BeautifulSoup(page_content, 'lxml')\n",
    "\n",
    "    # Extract relevant tags (e.g., <h1>, <p>, etc.) and store them in a list\n",
    "    rows = []\n",
    "    for tag in soup.find_all(['h1', 'p']):\n",
    "        rows.append(tag.text.strip())  # Remove leading/trailing spaces\n",
    "    \n",
    "    # Create a DataFrame from the list of rows\n",
    "    df = pd.DataFrame(rows, columns=['Text'])\n",
    "\n",
    "else:\n",
    "    print(f'Failed to retrieve the page. Status code: {response.status_code}')"
   ]
  },
  {
   "cell_type": "code",
   "execution_count": null,
   "id": "1f2c021f-4890-4263-a48d-980400a4d315",
   "metadata": {},
   "outputs": [],
   "source": [
    "df"
   ]
  },
  {
   "cell_type": "code",
   "execution_count": null,
   "id": "53f6a176-f2df-41b9-ae85-fc24e99b27fe",
   "metadata": {},
   "outputs": [],
   "source": [
    "df.head(10)"
   ]
  },
  {
   "cell_type": "code",
   "execution_count": null,
   "id": "4c4ad974-16ff-4c4b-a9aa-643221256be7",
   "metadata": {},
   "outputs": [],
   "source": [
    "title = df.at[0, 'Text']\n",
    "df['Title'] = title\n",
    "\n",
    "debate = df.at[1, 'Text']\n",
    "df['Debate'] = debate\n",
    "\n",
    "date = df.at[2, 'Text']\n",
    "df['Date'] = date\n",
    "\n",
    "participants = df.at[3, 'Text']\n",
    "participants = re.sub(r'^\\w+:\\n', '', participants)\n",
    "participants = re.sub(r'\\n', ' ', participants)\n",
    "df['Participants'] = participants\n",
    "\n",
    "moderators = df.at[4, 'Text']\n",
    "moderators = re.sub(r'^\\w+:\\n', '', moderators)\n",
    "df['Moderators'] = moderators"
   ]
  },
  {
   "cell_type": "code",
   "execution_count": null,
   "id": "45eed97c-1610-49cd-9129-5454c87c1ba9",
   "metadata": {},
   "outputs": [],
   "source": [
    "last_row = 250\n",
    "df.loc[last_row, 'Text']"
   ]
  },
  {
   "cell_type": "code",
   "execution_count": null,
   "id": "b66d6bff-b70e-4e58-8418-a4572f5e2a2f",
   "metadata": {},
   "outputs": [],
   "source": [
    "df = df[~df['Text'].str.contains(df.loc[last_row, 'Text'])]"
   ]
  },
  {
   "cell_type": "code",
   "execution_count": null,
   "id": "d4a7c50c-f9ef-4ccd-ac04-ad7f1ffcc35e",
   "metadata": {},
   "outputs": [],
   "source": [
    "df = df.loc[5:]\n",
    "df = df.reset_index(drop=True)"
   ]
  },
  {
   "cell_type": "code",
   "execution_count": null,
   "id": "7c4edc09-8deb-4a9e-9633-ead2da7cb24d",
   "metadata": {},
   "outputs": [],
   "source": [
    "# List of expressions whose rows in column 'Text' should be dropped\n",
    "expressions_to_drop = ['(APPLAUSE)', '(LAUGHTER)', '(CROSSTALK)']\n",
    "\n",
    "# Creating a boolean mask for rows starting with the specified expressions\n",
    "mask = df['Text'].str.startswith(tuple(expressions_to_drop))\n",
    "\n",
    "# Counting the number of rows for each expression\n",
    "counts = mask.value_counts()\n",
    "\n",
    "# Display the counts\n",
    "counts"
   ]
  },
  {
   "cell_type": "code",
   "execution_count": null,
   "id": "c5ad6c73-0556-4f81-82ba-b6765fb099c6",
   "metadata": {},
   "outputs": [],
   "source": [
    "# Dropping the rows that start with those expressions in column 'Text'\n",
    "df = df[~mask]\n",
    "df = df.reset_index(drop=True)"
   ]
  },
  {
   "cell_type": "code",
   "execution_count": null,
   "id": "91bba5be-247d-4454-a987-a2a538c57195",
   "metadata": {},
   "outputs": [],
   "source": [
    "df.head(1)"
   ]
  },
  {
   "cell_type": "code",
   "execution_count": null,
   "id": "8c4493ba-e7c9-4b55-b11e-871ea2761329",
   "metadata": {},
   "outputs": [],
   "source": [
    "df.loc[0, 'Text']"
   ]
  },
  {
   "cell_type": "code",
   "execution_count": null,
   "id": "9c45e4f8-a876-4d33-be8d-020bb8b9bfab",
   "metadata": {},
   "outputs": [],
   "source": [
    "df.at[0, 'Speaker'] = 1 # Adding column 'Speaker' by initialising it with a numeric value in order to avoid DtypeWarning\n",
    "df = df.astype('object') # Converting the column to the desired data type\n",
    "\n",
    "for index, row in df.iterrows():\n",
    "    match = re.match(r'^(\\w+):\\xa0', row['Text'])\n",
    "    if match:\n",
    "        speaker = match.group(1)\n",
    "        df.at[index, 'Speaker'] = speaker\n",
    "        text_without_speaker = row['Text'][len(match.group(0)):]\n",
    "        df.at[index, 'Text'] = text_without_speaker\n",
    "    else:\n",
    "        # Handle the case when no match is found (optional)\n",
    "        #df.at[index, 'Speaker'] = ''  # Set a default value\n",
    "        pass\n",
    "\n",
    "df['Speaker'].ffill(inplace=True)\n",
    "\n",
    "print('Number of turns:', df.shape[0])\n",
    "\n",
    "debate_list.append(title)\n",
    "turn_list.append(df.shape[0])\n",
    "\n",
    "df[['Title', 'Debate', 'Date', 'Participants', 'Moderators', 'Speaker', 'Text']].to_json(f'{debate_title}.jsonl', orient='records', lines=True)\n",
    "\n",
    "df[['Title', 'Debate', 'Date', 'Participants', 'Moderators', 'Speaker', 'Text']].to_csv(f'{debate_title}.tsv', sep='\\t', index=False, encoding='utf-8', lineterminator='\\n')"
   ]
  },
  {
   "cell_type": "markdown",
   "id": "40a4c661-24ee-4b21-9938-c072d9564aa7",
   "metadata": {},
   "source": [
    "## Debate 43"
   ]
  },
  {
   "cell_type": "code",
   "execution_count": null,
   "id": "b8fcb842-6115-4d52-99d3-736fd9681b76",
   "metadata": {},
   "outputs": [],
   "source": [
    "debate_title = debate_1\n",
    "url = debate_url_1\n",
    "response = requests.get(url)\n",
    "\n",
    "if response.status_code == 200:\n",
    "    page_content = response.content\n",
    "    # Step 2: Parse HTML content\n",
    "    soup = BeautifulSoup(page_content, 'lxml')\n",
    "\n",
    "    # Extract relevant tags (e.g., <h1>, <p>, etc.) and store them in a list\n",
    "    rows = []\n",
    "    for tag in soup.find_all(['h1', 'p']):\n",
    "        rows.append(tag.text.strip())  # Remove leading/trailing spaces\n",
    "    \n",
    "    # Create a DataFrame from the list of rows\n",
    "    df = pd.DataFrame(rows, columns=['Text'])\n",
    "\n",
    "else:\n",
    "    print(f'Failed to retrieve the page. Status code: {response.status_code}')"
   ]
  },
  {
   "cell_type": "code",
   "execution_count": null,
   "id": "6f8e79b9-3598-43b3-9486-9a32042b62c0",
   "metadata": {},
   "outputs": [],
   "source": [
    "df"
   ]
  },
  {
   "cell_type": "code",
   "execution_count": null,
   "id": "343def78-22a5-4d78-9833-7a8e45f805db",
   "metadata": {},
   "outputs": [],
   "source": [
    "df.head(10)"
   ]
  },
  {
   "cell_type": "code",
   "execution_count": null,
   "id": "ad2f2084-6be5-4b6f-9fa1-70798c00fb6c",
   "metadata": {},
   "outputs": [],
   "source": [
    "title = df.at[0, 'Text']\n",
    "df['Title'] = title\n",
    "\n",
    "debate = df.at[1, 'Text']\n",
    "df['Debate'] = debate\n",
    "\n",
    "date = df.at[2, 'Text']\n",
    "df['Date'] = date\n",
    "\n",
    "participants = df.at[3, 'Text']\n",
    "participants = re.sub(r'^\\w+:\\n', '', participants)\n",
    "participants = re.sub(r'\\n', ' ', participants)\n",
    "df['Participants'] = participants\n",
    "\n",
    "moderators = df.at[4, 'Text']\n",
    "moderators = re.sub(r'^\\w+:\\n', '', moderators)\n",
    "df['Moderators'] = moderators"
   ]
  },
  {
   "cell_type": "code",
   "execution_count": null,
   "id": "42bdcb96-73c8-478a-84fe-4a769ef2d101",
   "metadata": {},
   "outputs": [],
   "source": [
    "last_row = 250\n",
    "df.loc[last_row, 'Text']"
   ]
  },
  {
   "cell_type": "code",
   "execution_count": null,
   "id": "22373658-ccde-4644-ae76-40786f1cf1d2",
   "metadata": {},
   "outputs": [],
   "source": [
    "df = df[~df['Text'].str.contains(df.loc[last_row, 'Text'])]"
   ]
  },
  {
   "cell_type": "code",
   "execution_count": null,
   "id": "d8333d57-f863-47c6-b774-fff39b3245ae",
   "metadata": {},
   "outputs": [],
   "source": [
    "df = df.loc[5:]\n",
    "df = df.reset_index(drop=True)"
   ]
  },
  {
   "cell_type": "code",
   "execution_count": null,
   "id": "c3a5632e-8bdb-4dbe-8b62-a04579906db1",
   "metadata": {},
   "outputs": [],
   "source": [
    "# List of expressions whose rows in column 'Text' should be dropped\n",
    "expressions_to_drop = ['(APPLAUSE)', '(LAUGHTER)', '(CROSSTALK)']\n",
    "\n",
    "# Creating a boolean mask for rows starting with the specified expressions\n",
    "mask = df['Text'].str.startswith(tuple(expressions_to_drop))\n",
    "\n",
    "# Counting the number of rows for each expression\n",
    "counts = mask.value_counts()\n",
    "\n",
    "# Display the counts\n",
    "counts"
   ]
  },
  {
   "cell_type": "code",
   "execution_count": null,
   "id": "da82fd52-52d1-4d73-a0db-d9844ca838ee",
   "metadata": {},
   "outputs": [],
   "source": [
    "# Dropping the rows that start with those expressions in column 'Text'\n",
    "df = df[~mask]\n",
    "df = df.reset_index(drop=True)"
   ]
  },
  {
   "cell_type": "code",
   "execution_count": null,
   "id": "eb77dc64-ac98-446a-9d43-ec19b6d2a97c",
   "metadata": {},
   "outputs": [],
   "source": [
    "df.head(1)"
   ]
  },
  {
   "cell_type": "code",
   "execution_count": null,
   "id": "f3a08964-dc80-4057-b91a-37ba485ed30b",
   "metadata": {},
   "outputs": [],
   "source": [
    "df.loc[0, 'Text']"
   ]
  },
  {
   "cell_type": "code",
   "execution_count": null,
   "id": "baa61802-ce44-48cb-98aa-adbfef48bb99",
   "metadata": {},
   "outputs": [],
   "source": [
    "df.at[0, 'Speaker'] = 1 # Adding column 'Speaker' by initialising it with a numeric value in order to avoid DtypeWarning\n",
    "df = df.astype('object') # Converting the column to the desired data type\n",
    "\n",
    "for index, row in df.iterrows():\n",
    "    match = re.match(r'^(\\w+):\\xa0', row['Text'])\n",
    "    if match:\n",
    "        speaker = match.group(1)\n",
    "        df.at[index, 'Speaker'] = speaker\n",
    "        text_without_speaker = row['Text'][len(match.group(0)):]\n",
    "        df.at[index, 'Text'] = text_without_speaker\n",
    "    else:\n",
    "        # Handle the case when no match is found (optional)\n",
    "        #df.at[index, 'Speaker'] = ''  # Set a default value\n",
    "        pass\n",
    "\n",
    "df['Speaker'].ffill(inplace=True)\n",
    "\n",
    "print('Number of turns:', df.shape[0])\n",
    "\n",
    "debate_list.append(title)\n",
    "turn_list.append(df.shape[0])\n",
    "\n",
    "df[['Title', 'Debate', 'Date', 'Participants', 'Moderators', 'Speaker', 'Text']].to_json(f'{debate_title}.jsonl', orient='records', lines=True)\n",
    "\n",
    "df[['Title', 'Debate', 'Date', 'Participants', 'Moderators', 'Speaker', 'Text']].to_csv(f'{debate_title}.tsv', sep='\\t', index=False, encoding='utf-8', lineterminator='\\n')"
   ]
  },
  {
   "cell_type": "markdown",
   "id": "7b4ea704-5189-4fb3-892f-7e101747edb1",
   "metadata": {},
   "source": [
    "## Debate 44"
   ]
  },
  {
   "cell_type": "code",
   "execution_count": null,
   "id": "67832074-0065-4009-aa9c-9ae0ffc9a99c",
   "metadata": {},
   "outputs": [],
   "source": [
    "debate_title = debate_1\n",
    "url = debate_url_1\n",
    "response = requests.get(url)\n",
    "\n",
    "if response.status_code == 200:\n",
    "    page_content = response.content\n",
    "    # Step 2: Parse HTML content\n",
    "    soup = BeautifulSoup(page_content, 'lxml')\n",
    "\n",
    "    # Extract relevant tags (e.g., <h1>, <p>, etc.) and store them in a list\n",
    "    rows = []\n",
    "    for tag in soup.find_all(['h1', 'p']):\n",
    "        rows.append(tag.text.strip())  # Remove leading/trailing spaces\n",
    "    \n",
    "    # Create a DataFrame from the list of rows\n",
    "    df = pd.DataFrame(rows, columns=['Text'])\n",
    "\n",
    "else:\n",
    "    print(f'Failed to retrieve the page. Status code: {response.status_code}')"
   ]
  },
  {
   "cell_type": "code",
   "execution_count": null,
   "id": "aedb6189-5078-4ead-9cc1-c55538013728",
   "metadata": {},
   "outputs": [],
   "source": [
    "df"
   ]
  },
  {
   "cell_type": "code",
   "execution_count": null,
   "id": "6c4e8dc7-6772-4a0b-92c7-c2a085721ffe",
   "metadata": {},
   "outputs": [],
   "source": [
    "df.head(10)"
   ]
  },
  {
   "cell_type": "code",
   "execution_count": null,
   "id": "0e1af43f-5745-4e9e-b897-72edb62d58c2",
   "metadata": {},
   "outputs": [],
   "source": [
    "title = df.at[0, 'Text']\n",
    "df['Title'] = title\n",
    "\n",
    "debate = df.at[1, 'Text']\n",
    "df['Debate'] = debate\n",
    "\n",
    "date = df.at[2, 'Text']\n",
    "df['Date'] = date\n",
    "\n",
    "participants = df.at[3, 'Text']\n",
    "participants = re.sub(r'^\\w+:\\n', '', participants)\n",
    "participants = re.sub(r'\\n', ' ', participants)\n",
    "df['Participants'] = participants\n",
    "\n",
    "moderators = df.at[4, 'Text']\n",
    "moderators = re.sub(r'^\\w+:\\n', '', moderators)\n",
    "df['Moderators'] = moderators"
   ]
  },
  {
   "cell_type": "code",
   "execution_count": null,
   "id": "18d3bfde-435e-4a66-b979-806df327ea45",
   "metadata": {},
   "outputs": [],
   "source": [
    "last_row = 250\n",
    "df.loc[last_row, 'Text']"
   ]
  },
  {
   "cell_type": "code",
   "execution_count": null,
   "id": "326b62ac-ca7a-4013-beee-7534565cd704",
   "metadata": {},
   "outputs": [],
   "source": [
    "df = df[~df['Text'].str.contains(df.loc[last_row, 'Text'])]"
   ]
  },
  {
   "cell_type": "code",
   "execution_count": null,
   "id": "bf83174c-b261-418a-98a1-15ae7364d4aa",
   "metadata": {},
   "outputs": [],
   "source": [
    "df = df.loc[5:]\n",
    "df = df.reset_index(drop=True)"
   ]
  },
  {
   "cell_type": "code",
   "execution_count": null,
   "id": "9c45045e-672a-4096-add7-38633fab6cd6",
   "metadata": {},
   "outputs": [],
   "source": [
    "# List of expressions whose rows in column 'Text' should be dropped\n",
    "expressions_to_drop = ['(APPLAUSE)', '(LAUGHTER)', '(CROSSTALK)']\n",
    "\n",
    "# Creating a boolean mask for rows starting with the specified expressions\n",
    "mask = df['Text'].str.startswith(tuple(expressions_to_drop))\n",
    "\n",
    "# Counting the number of rows for each expression\n",
    "counts = mask.value_counts()\n",
    "\n",
    "# Display the counts\n",
    "counts"
   ]
  },
  {
   "cell_type": "code",
   "execution_count": null,
   "id": "77b2c3ab-84cc-454f-aa12-6a6e86e8d41b",
   "metadata": {},
   "outputs": [],
   "source": [
    "# Dropping the rows that start with those expressions in column 'Text'\n",
    "df = df[~mask]\n",
    "df = df.reset_index(drop=True)"
   ]
  },
  {
   "cell_type": "code",
   "execution_count": null,
   "id": "6f3a6070-58e1-404d-90be-c3e217bd397e",
   "metadata": {},
   "outputs": [],
   "source": [
    "df.head(1)"
   ]
  },
  {
   "cell_type": "code",
   "execution_count": null,
   "id": "cc944229-85f2-49d0-b43a-1f033d531bd8",
   "metadata": {},
   "outputs": [],
   "source": [
    "df.loc[0, 'Text']"
   ]
  },
  {
   "cell_type": "code",
   "execution_count": null,
   "id": "4b81fcb0-a32b-4b4b-acc7-e80187f8b0f5",
   "metadata": {},
   "outputs": [],
   "source": [
    "df.at[0, 'Speaker'] = 1 # Adding column 'Speaker' by initialising it with a numeric value in order to avoid DtypeWarning\n",
    "df = df.astype('object') # Converting the column to the desired data type\n",
    "\n",
    "for index, row in df.iterrows():\n",
    "    match = re.match(r'^(\\w+):\\xa0', row['Text'])\n",
    "    if match:\n",
    "        speaker = match.group(1)\n",
    "        df.at[index, 'Speaker'] = speaker\n",
    "        text_without_speaker = row['Text'][len(match.group(0)):]\n",
    "        df.at[index, 'Text'] = text_without_speaker\n",
    "    else:\n",
    "        # Handle the case when no match is found (optional)\n",
    "        #df.at[index, 'Speaker'] = ''  # Set a default value\n",
    "        pass\n",
    "\n",
    "df['Speaker'].ffill(inplace=True)\n",
    "\n",
    "print('Number of turns:', df.shape[0])\n",
    "\n",
    "debate_list.append(title)\n",
    "turn_list.append(df.shape[0])\n",
    "\n",
    "df[['Title', 'Debate', 'Date', 'Participants', 'Moderators', 'Speaker', 'Text']].to_json(f'{debate_title}.jsonl', orient='records', lines=True)\n",
    "\n",
    "df[['Title', 'Debate', 'Date', 'Participants', 'Moderators', 'Speaker', 'Text']].to_csv(f'{debate_title}.tsv', sep='\\t', index=False, encoding='utf-8', lineterminator='\\n')"
   ]
  },
  {
   "cell_type": "markdown",
   "id": "3423e90b-a020-4eba-b78c-95c020f39cc3",
   "metadata": {},
   "source": [
    "## Debate 45"
   ]
  },
  {
   "cell_type": "code",
   "execution_count": null,
   "id": "dbae5986-d9e6-431a-8796-4291abcb57b8",
   "metadata": {},
   "outputs": [],
   "source": [
    "debate_title = debate_1\n",
    "url = debate_url_1\n",
    "response = requests.get(url)\n",
    "\n",
    "if response.status_code == 200:\n",
    "    page_content = response.content\n",
    "    # Step 2: Parse HTML content\n",
    "    soup = BeautifulSoup(page_content, 'lxml')\n",
    "\n",
    "    # Extract relevant tags (e.g., <h1>, <p>, etc.) and store them in a list\n",
    "    rows = []\n",
    "    for tag in soup.find_all(['h1', 'p']):\n",
    "        rows.append(tag.text.strip())  # Remove leading/trailing spaces\n",
    "    \n",
    "    # Create a DataFrame from the list of rows\n",
    "    df = pd.DataFrame(rows, columns=['Text'])\n",
    "\n",
    "else:\n",
    "    print(f'Failed to retrieve the page. Status code: {response.status_code}')"
   ]
  },
  {
   "cell_type": "code",
   "execution_count": null,
   "id": "cab97df0-0506-4125-8ac7-6e92d9b26e4b",
   "metadata": {},
   "outputs": [],
   "source": [
    "df"
   ]
  },
  {
   "cell_type": "code",
   "execution_count": null,
   "id": "aa163999-b3a8-436d-835f-faefe4eea512",
   "metadata": {},
   "outputs": [],
   "source": [
    "df.head(10)"
   ]
  },
  {
   "cell_type": "code",
   "execution_count": null,
   "id": "1b1dab6b-3024-45a7-8b74-de8e4c61f89c",
   "metadata": {},
   "outputs": [],
   "source": [
    "title = df.at[0, 'Text']\n",
    "df['Title'] = title\n",
    "\n",
    "debate = df.at[1, 'Text']\n",
    "df['Debate'] = debate\n",
    "\n",
    "date = df.at[2, 'Text']\n",
    "df['Date'] = date\n",
    "\n",
    "participants = df.at[3, 'Text']\n",
    "participants = re.sub(r'^\\w+:\\n', '', participants)\n",
    "participants = re.sub(r'\\n', ' ', participants)\n",
    "df['Participants'] = participants\n",
    "\n",
    "moderators = df.at[4, 'Text']\n",
    "moderators = re.sub(r'^\\w+:\\n', '', moderators)\n",
    "df['Moderators'] = moderators"
   ]
  },
  {
   "cell_type": "code",
   "execution_count": null,
   "id": "4e37e2f3-0db9-4d33-b995-ab36f2e88a56",
   "metadata": {},
   "outputs": [],
   "source": [
    "last_row = 250\n",
    "df.loc[last_row, 'Text']"
   ]
  },
  {
   "cell_type": "code",
   "execution_count": null,
   "id": "9b51ea2c-9ae9-4471-a8d4-745945466c90",
   "metadata": {},
   "outputs": [],
   "source": [
    "df = df[~df['Text'].str.contains(df.loc[last_row, 'Text'])]"
   ]
  },
  {
   "cell_type": "code",
   "execution_count": null,
   "id": "bb30aa03-1478-4544-896a-24028a797137",
   "metadata": {},
   "outputs": [],
   "source": [
    "df = df.loc[5:]\n",
    "df = df.reset_index(drop=True)"
   ]
  },
  {
   "cell_type": "code",
   "execution_count": null,
   "id": "d8d033c9-59b0-4086-80e6-f8b71560edbe",
   "metadata": {},
   "outputs": [],
   "source": [
    "# List of expressions whose rows in column 'Text' should be dropped\n",
    "expressions_to_drop = ['(APPLAUSE)', '(LAUGHTER)', '(CROSSTALK)']\n",
    "\n",
    "# Creating a boolean mask for rows starting with the specified expressions\n",
    "mask = df['Text'].str.startswith(tuple(expressions_to_drop))\n",
    "\n",
    "# Counting the number of rows for each expression\n",
    "counts = mask.value_counts()\n",
    "\n",
    "# Display the counts\n",
    "counts"
   ]
  },
  {
   "cell_type": "code",
   "execution_count": null,
   "id": "f19ba483-718b-480c-87fa-ea65d8ff2e80",
   "metadata": {},
   "outputs": [],
   "source": [
    "# Dropping the rows that start with those expressions in column 'Text'\n",
    "df = df[~mask]\n",
    "df = df.reset_index(drop=True)"
   ]
  },
  {
   "cell_type": "code",
   "execution_count": null,
   "id": "c436b58d-a8d6-4c16-99e4-3423fdbd0283",
   "metadata": {},
   "outputs": [],
   "source": [
    "df.head(1)"
   ]
  },
  {
   "cell_type": "code",
   "execution_count": null,
   "id": "246500a5-15b2-4ecb-bfb2-1b16eacb558b",
   "metadata": {},
   "outputs": [],
   "source": [
    "df.loc[0, 'Text']"
   ]
  },
  {
   "cell_type": "code",
   "execution_count": null,
   "id": "9351fd6f-b232-4a37-afa7-9a5cfe835a87",
   "metadata": {},
   "outputs": [],
   "source": [
    "df.at[0, 'Speaker'] = 1 # Adding column 'Speaker' by initialising it with a numeric value in order to avoid DtypeWarning\n",
    "df = df.astype('object') # Converting the column to the desired data type\n",
    "\n",
    "for index, row in df.iterrows():\n",
    "    match = re.match(r'^(\\w+):\\xa0', row['Text'])\n",
    "    if match:\n",
    "        speaker = match.group(1)\n",
    "        df.at[index, 'Speaker'] = speaker\n",
    "        text_without_speaker = row['Text'][len(match.group(0)):]\n",
    "        df.at[index, 'Text'] = text_without_speaker\n",
    "    else:\n",
    "        # Handle the case when no match is found (optional)\n",
    "        #df.at[index, 'Speaker'] = ''  # Set a default value\n",
    "        pass\n",
    "\n",
    "df['Speaker'].ffill(inplace=True)\n",
    "\n",
    "print('Number of turns:', df.shape[0])\n",
    "\n",
    "debate_list.append(title)\n",
    "turn_list.append(df.shape[0])\n",
    "\n",
    "df[['Title', 'Debate', 'Date', 'Participants', 'Moderators', 'Speaker', 'Text']].to_json(f'{debate_title}.jsonl', orient='records', lines=True)\n",
    "\n",
    "df[['Title', 'Debate', 'Date', 'Participants', 'Moderators', 'Speaker', 'Text']].to_csv(f'{debate_title}.tsv', sep='\\t', index=False, encoding='utf-8', lineterminator='\\n')"
   ]
  },
  {
   "cell_type": "markdown",
   "id": "849b5e82-acc5-4e05-8a91-46955a7d80e1",
   "metadata": {},
   "source": [
    "## Debate 46"
   ]
  },
  {
   "cell_type": "code",
   "execution_count": null,
   "id": "bd8ff3c7-9992-45ca-8ed3-61b939582151",
   "metadata": {},
   "outputs": [],
   "source": [
    "debate_title = debate_1\n",
    "url = debate_url_1\n",
    "response = requests.get(url)\n",
    "\n",
    "if response.status_code == 200:\n",
    "    page_content = response.content\n",
    "    # Step 2: Parse HTML content\n",
    "    soup = BeautifulSoup(page_content, 'lxml')\n",
    "\n",
    "    # Extract relevant tags (e.g., <h1>, <p>, etc.) and store them in a list\n",
    "    rows = []\n",
    "    for tag in soup.find_all(['h1', 'p']):\n",
    "        rows.append(tag.text.strip())  # Remove leading/trailing spaces\n",
    "    \n",
    "    # Create a DataFrame from the list of rows\n",
    "    df = pd.DataFrame(rows, columns=['Text'])\n",
    "\n",
    "else:\n",
    "    print(f'Failed to retrieve the page. Status code: {response.status_code}')"
   ]
  },
  {
   "cell_type": "code",
   "execution_count": null,
   "id": "ffcfc6be-5c40-4e26-b3f0-e4fbb17d7936",
   "metadata": {},
   "outputs": [],
   "source": [
    "df"
   ]
  },
  {
   "cell_type": "code",
   "execution_count": null,
   "id": "5afef19b-4eb9-4984-8494-09274cf38d01",
   "metadata": {},
   "outputs": [],
   "source": [
    "df.head(10)"
   ]
  },
  {
   "cell_type": "code",
   "execution_count": null,
   "id": "48881ff0-0860-4526-84da-a5cef8b42598",
   "metadata": {},
   "outputs": [],
   "source": [
    "title = df.at[0, 'Text']\n",
    "df['Title'] = title\n",
    "\n",
    "debate = df.at[1, 'Text']\n",
    "df['Debate'] = debate\n",
    "\n",
    "date = df.at[2, 'Text']\n",
    "df['Date'] = date\n",
    "\n",
    "participants = df.at[3, 'Text']\n",
    "participants = re.sub(r'^\\w+:\\n', '', participants)\n",
    "participants = re.sub(r'\\n', ' ', participants)\n",
    "df['Participants'] = participants\n",
    "\n",
    "moderators = df.at[4, 'Text']\n",
    "moderators = re.sub(r'^\\w+:\\n', '', moderators)\n",
    "df['Moderators'] = moderators"
   ]
  },
  {
   "cell_type": "code",
   "execution_count": null,
   "id": "a4c324e0-e477-4421-a423-5dab772441c5",
   "metadata": {},
   "outputs": [],
   "source": [
    "last_row = 250\n",
    "df.loc[last_row, 'Text']"
   ]
  },
  {
   "cell_type": "code",
   "execution_count": null,
   "id": "8d16b996-1432-4d7e-8632-81f72f47953d",
   "metadata": {},
   "outputs": [],
   "source": [
    "df = df[~df['Text'].str.contains(df.loc[last_row, 'Text'])]"
   ]
  },
  {
   "cell_type": "code",
   "execution_count": null,
   "id": "cd007462-c1dc-4637-b54b-773f916f2864",
   "metadata": {},
   "outputs": [],
   "source": [
    "df = df.loc[5:]\n",
    "df = df.reset_index(drop=True)"
   ]
  },
  {
   "cell_type": "code",
   "execution_count": null,
   "id": "ac900de8-86bd-46aa-a70f-35cf76540430",
   "metadata": {},
   "outputs": [],
   "source": [
    "# List of expressions whose rows in column 'Text' should be dropped\n",
    "expressions_to_drop = ['(APPLAUSE)', '(LAUGHTER)', '(CROSSTALK)']\n",
    "\n",
    "# Creating a boolean mask for rows starting with the specified expressions\n",
    "mask = df['Text'].str.startswith(tuple(expressions_to_drop))\n",
    "\n",
    "# Counting the number of rows for each expression\n",
    "counts = mask.value_counts()\n",
    "\n",
    "# Display the counts\n",
    "counts"
   ]
  },
  {
   "cell_type": "code",
   "execution_count": null,
   "id": "41135637-751e-4774-9e9e-b4fbb6898601",
   "metadata": {},
   "outputs": [],
   "source": [
    "# Dropping the rows that start with those expressions in column 'Text'\n",
    "df = df[~mask]\n",
    "df = df.reset_index(drop=True)"
   ]
  },
  {
   "cell_type": "code",
   "execution_count": null,
   "id": "69b8a4d8-07b5-4a1d-be2b-44ddc611a80d",
   "metadata": {},
   "outputs": [],
   "source": [
    "df.head(1)"
   ]
  },
  {
   "cell_type": "code",
   "execution_count": null,
   "id": "1b05b804-213e-4a91-af71-706411c9792b",
   "metadata": {},
   "outputs": [],
   "source": [
    "df.loc[0, 'Text']"
   ]
  },
  {
   "cell_type": "code",
   "execution_count": null,
   "id": "42699d51-7a5e-4bd2-9e67-39adcaec9cfe",
   "metadata": {},
   "outputs": [],
   "source": [
    "df.at[0, 'Speaker'] = 1 # Adding column 'Speaker' by initialising it with a numeric value in order to avoid DtypeWarning\n",
    "df = df.astype('object') # Converting the column to the desired data type\n",
    "\n",
    "for index, row in df.iterrows():\n",
    "    match = re.match(r'^(\\w+):\\xa0', row['Text'])\n",
    "    if match:\n",
    "        speaker = match.group(1)\n",
    "        df.at[index, 'Speaker'] = speaker\n",
    "        text_without_speaker = row['Text'][len(match.group(0)):]\n",
    "        df.at[index, 'Text'] = text_without_speaker\n",
    "    else:\n",
    "        # Handle the case when no match is found (optional)\n",
    "        #df.at[index, 'Speaker'] = ''  # Set a default value\n",
    "        pass\n",
    "\n",
    "df['Speaker'].ffill(inplace=True)\n",
    "\n",
    "print('Number of turns:', df.shape[0])\n",
    "\n",
    "debate_list.append(title)\n",
    "turn_list.append(df.shape[0])\n",
    "\n",
    "df[['Title', 'Debate', 'Date', 'Participants', 'Moderators', 'Speaker', 'Text']].to_json(f'{debate_title}.jsonl', orient='records', lines=True)\n",
    "\n",
    "df[['Title', 'Debate', 'Date', 'Participants', 'Moderators', 'Speaker', 'Text']].to_csv(f'{debate_title}.tsv', sep='\\t', index=False, encoding='utf-8', lineterminator='\\n')"
   ]
  },
  {
   "cell_type": "markdown",
   "id": "280c6342-456c-47c9-919c-32e93bb1a0a8",
   "metadata": {},
   "source": [
    "## Debate 47"
   ]
  },
  {
   "cell_type": "code",
   "execution_count": null,
   "id": "158b3b67-6efe-4fce-9c0e-6e4c22c037d3",
   "metadata": {},
   "outputs": [],
   "source": [
    "debate_title = debate_1\n",
    "url = debate_url_1\n",
    "response = requests.get(url)\n",
    "\n",
    "if response.status_code == 200:\n",
    "    page_content = response.content\n",
    "    # Step 2: Parse HTML content\n",
    "    soup = BeautifulSoup(page_content, 'lxml')\n",
    "\n",
    "    # Extract relevant tags (e.g., <h1>, <p>, etc.) and store them in a list\n",
    "    rows = []\n",
    "    for tag in soup.find_all(['h1', 'p']):\n",
    "        rows.append(tag.text.strip())  # Remove leading/trailing spaces\n",
    "    \n",
    "    # Create a DataFrame from the list of rows\n",
    "    df = pd.DataFrame(rows, columns=['Text'])\n",
    "\n",
    "else:\n",
    "    print(f'Failed to retrieve the page. Status code: {response.status_code}')"
   ]
  },
  {
   "cell_type": "code",
   "execution_count": null,
   "id": "010fa813-b0ad-4bc5-86b3-26abb206ef3c",
   "metadata": {},
   "outputs": [],
   "source": [
    "df"
   ]
  },
  {
   "cell_type": "code",
   "execution_count": null,
   "id": "97b2363c-8373-4578-a442-1316a4952296",
   "metadata": {},
   "outputs": [],
   "source": [
    "df.head(10)"
   ]
  },
  {
   "cell_type": "code",
   "execution_count": null,
   "id": "c00018c3-5200-4185-931c-678e2d3ead48",
   "metadata": {},
   "outputs": [],
   "source": [
    "title = df.at[0, 'Text']\n",
    "df['Title'] = title\n",
    "\n",
    "debate = df.at[1, 'Text']\n",
    "df['Debate'] = debate\n",
    "\n",
    "date = df.at[2, 'Text']\n",
    "df['Date'] = date\n",
    "\n",
    "participants = df.at[3, 'Text']\n",
    "participants = re.sub(r'^\\w+:\\n', '', participants)\n",
    "participants = re.sub(r'\\n', ' ', participants)\n",
    "df['Participants'] = participants\n",
    "\n",
    "moderators = df.at[4, 'Text']\n",
    "moderators = re.sub(r'^\\w+:\\n', '', moderators)\n",
    "df['Moderators'] = moderators"
   ]
  },
  {
   "cell_type": "code",
   "execution_count": null,
   "id": "83cac29a-b655-4b5b-80d7-6e16a087381b",
   "metadata": {},
   "outputs": [],
   "source": [
    "last_row = 250\n",
    "df.loc[last_row, 'Text']"
   ]
  },
  {
   "cell_type": "code",
   "execution_count": null,
   "id": "346838f1-a046-4afb-ad61-ab6850eb55d8",
   "metadata": {},
   "outputs": [],
   "source": [
    "df = df[~df['Text'].str.contains(df.loc[last_row, 'Text'])]"
   ]
  },
  {
   "cell_type": "code",
   "execution_count": null,
   "id": "6144e589-e3f5-410c-a0f9-7764851924b0",
   "metadata": {},
   "outputs": [],
   "source": [
    "df = df.loc[5:]\n",
    "df = df.reset_index(drop=True)"
   ]
  },
  {
   "cell_type": "code",
   "execution_count": null,
   "id": "e63ce7e2-c64b-4363-b749-cc724510bfc5",
   "metadata": {},
   "outputs": [],
   "source": [
    "# List of expressions whose rows in column 'Text' should be dropped\n",
    "expressions_to_drop = ['(APPLAUSE)', '(LAUGHTER)', '(CROSSTALK)']\n",
    "\n",
    "# Creating a boolean mask for rows starting with the specified expressions\n",
    "mask = df['Text'].str.startswith(tuple(expressions_to_drop))\n",
    "\n",
    "# Counting the number of rows for each expression\n",
    "counts = mask.value_counts()\n",
    "\n",
    "# Display the counts\n",
    "counts"
   ]
  },
  {
   "cell_type": "code",
   "execution_count": null,
   "id": "3ef9cbcc-0569-4104-87cb-3fc8892c7ef7",
   "metadata": {},
   "outputs": [],
   "source": [
    "# Dropping the rows that start with those expressions in column 'Text'\n",
    "df = df[~mask]\n",
    "df = df.reset_index(drop=True)"
   ]
  },
  {
   "cell_type": "code",
   "execution_count": null,
   "id": "05def82d-dfd0-4879-b8bc-0160002b304b",
   "metadata": {},
   "outputs": [],
   "source": [
    "df.head(1)"
   ]
  },
  {
   "cell_type": "code",
   "execution_count": null,
   "id": "beb0fda5-c89e-4e97-b011-c4412c5e7c89",
   "metadata": {},
   "outputs": [],
   "source": [
    "df.loc[0, 'Text']"
   ]
  },
  {
   "cell_type": "code",
   "execution_count": null,
   "id": "3241beca-aa34-4842-8b9a-075dc21d5a93",
   "metadata": {},
   "outputs": [],
   "source": [
    "df.at[0, 'Speaker'] = 1 # Adding column 'Speaker' by initialising it with a numeric value in order to avoid DtypeWarning\n",
    "df = df.astype('object') # Converting the column to the desired data type\n",
    "\n",
    "for index, row in df.iterrows():\n",
    "    match = re.match(r'^(\\w+):\\xa0', row['Text'])\n",
    "    if match:\n",
    "        speaker = match.group(1)\n",
    "        df.at[index, 'Speaker'] = speaker\n",
    "        text_without_speaker = row['Text'][len(match.group(0)):]\n",
    "        df.at[index, 'Text'] = text_without_speaker\n",
    "    else:\n",
    "        # Handle the case when no match is found (optional)\n",
    "        #df.at[index, 'Speaker'] = ''  # Set a default value\n",
    "        pass\n",
    "\n",
    "df['Speaker'].ffill(inplace=True)\n",
    "\n",
    "print('Number of turns:', df.shape[0])\n",
    "\n",
    "debate_list.append(title)\n",
    "turn_list.append(df.shape[0])\n",
    "\n",
    "df[['Title', 'Debate', 'Date', 'Participants', 'Moderators', 'Speaker', 'Text']].to_json(f'{debate_title}.jsonl', orient='records', lines=True)\n",
    "\n",
    "df[['Title', 'Debate', 'Date', 'Participants', 'Moderators', 'Speaker', 'Text']].to_csv(f'{debate_title}.tsv', sep='\\t', index=False, encoding='utf-8', lineterminator='\\n')"
   ]
  },
  {
   "cell_type": "markdown",
   "id": "e164419e-9907-4b1d-8708-8ccac0aaf26e",
   "metadata": {},
   "source": [
    "## Number of turns per debate"
   ]
  },
  {
   "cell_type": "code",
   "execution_count": 213,
   "id": "24418c8c-c256-474a-b4d0-b1a0d6399cb0",
   "metadata": {},
   "outputs": [
    {
     "data": {
      "text/html": [
       "<div>\n",
       "<style scoped>\n",
       "    .dataframe tbody tr th:only-of-type {\n",
       "        vertical-align: middle;\n",
       "    }\n",
       "\n",
       "    .dataframe tbody tr th {\n",
       "        vertical-align: top;\n",
       "    }\n",
       "\n",
       "    .dataframe thead th {\n",
       "        text-align: right;\n",
       "    }\n",
       "</style>\n",
       "<table border=\"1\" class=\"dataframe\">\n",
       "  <thead>\n",
       "    <tr style=\"text-align: right;\">\n",
       "      <th></th>\n",
       "      <th>Debate</th>\n",
       "      <th>Turns</th>\n",
       "    </tr>\n",
       "  </thead>\n",
       "  <tbody>\n",
       "    <tr>\n",
       "      <th>0</th>\n",
       "      <td>September 29, 2020 Debate Transcript</td>\n",
       "      <td>873</td>\n",
       "    </tr>\n",
       "    <tr>\n",
       "      <th>1</th>\n",
       "      <td>October 07, 2020 Vice Presidential Debate Tran...</td>\n",
       "      <td>245</td>\n",
       "    </tr>\n",
       "    <tr>\n",
       "      <th>2</th>\n",
       "      <td>Presidential Debate at Belmont University in N...</td>\n",
       "      <td>354</td>\n",
       "    </tr>\n",
       "    <tr>\n",
       "      <th>3</th>\n",
       "      <td>September 26, 2016 Debate Transcript</td>\n",
       "      <td>523</td>\n",
       "    </tr>\n",
       "    <tr>\n",
       "      <th>4</th>\n",
       "      <td>October 4, 2016 Debate Transcript</td>\n",
       "      <td>657</td>\n",
       "    </tr>\n",
       "    <tr>\n",
       "      <th>5</th>\n",
       "      <td>October 9, 2016 Debate Transcript</td>\n",
       "      <td>451</td>\n",
       "    </tr>\n",
       "    <tr>\n",
       "      <th>6</th>\n",
       "      <td>October 19, 2016 Debate Transcript</td>\n",
       "      <td>513</td>\n",
       "    </tr>\n",
       "    <tr>\n",
       "      <th>7</th>\n",
       "      <td>October 3, 2012 Debate Transcript</td>\n",
       "      <td>441</td>\n",
       "    </tr>\n",
       "    <tr>\n",
       "      <th>8</th>\n",
       "      <td>October 11, 2012 Debate Transcript</td>\n",
       "      <td>610</td>\n",
       "    </tr>\n",
       "    <tr>\n",
       "      <th>9</th>\n",
       "      <td>October 16, 2012 Debate Transcript</td>\n",
       "      <td>515</td>\n",
       "    </tr>\n",
       "    <tr>\n",
       "      <th>10</th>\n",
       "      <td>October 22, 2012 Debate Transcript</td>\n",
       "      <td>436</td>\n",
       "    </tr>\n",
       "    <tr>\n",
       "      <th>11</th>\n",
       "      <td>September 26, 2008 Debate Transcript</td>\n",
       "      <td>979</td>\n",
       "    </tr>\n",
       "    <tr>\n",
       "      <th>12</th>\n",
       "      <td>October 2, 2008 Debate Transcript</td>\n",
       "      <td>405</td>\n",
       "    </tr>\n",
       "    <tr>\n",
       "      <th>13</th>\n",
       "      <td>October 7, 2008 Debate Transcript</td>\n",
       "      <td>475</td>\n",
       "    </tr>\n",
       "  </tbody>\n",
       "</table>\n",
       "</div>"
      ],
      "text/plain": [
       "                                               Debate  Turns\n",
       "0                September 29, 2020 Debate Transcript    873\n",
       "1   October 07, 2020 Vice Presidential Debate Tran...    245\n",
       "2   Presidential Debate at Belmont University in N...    354\n",
       "3                September 26, 2016 Debate Transcript    523\n",
       "4                   October 4, 2016 Debate Transcript    657\n",
       "5                   October 9, 2016 Debate Transcript    451\n",
       "6                  October 19, 2016 Debate Transcript    513\n",
       "7                   October 3, 2012 Debate Transcript    441\n",
       "8                  October 11, 2012 Debate Transcript    610\n",
       "9                  October 16, 2012 Debate Transcript    515\n",
       "10                 October 22, 2012 Debate Transcript    436\n",
       "11               September 26, 2008 Debate Transcript    979\n",
       "12                  October 2, 2008 Debate Transcript    405\n",
       "13                  October 7, 2008 Debate Transcript    475"
      ]
     },
     "execution_count": 213,
     "metadata": {},
     "output_type": "execute_result"
    }
   ],
   "source": [
    "debate_turn_dict = {'Debate': debate_list, 'Turns': turn_list}\n",
    "debate_turn_df = pd.DataFrame(debate_turn_dict)\n",
    "debate_turn_df"
   ]
  },
  {
   "cell_type": "code",
   "execution_count": 214,
   "id": "7c21145f-947c-410f-93ca-b0f5f4dbaa3e",
   "metadata": {},
   "outputs": [
    {
     "data": {
      "text/plain": [
       "Debate    object\n",
       "Turns      int64\n",
       "dtype: object"
      ]
     },
     "execution_count": 214,
     "metadata": {},
     "output_type": "execute_result"
    }
   ],
   "source": [
    "debate_turn_df.dtypes"
   ]
  },
  {
   "cell_type": "code",
   "execution_count": 215,
   "id": "81fd3e7a-b419-4285-a631-df2082247af5",
   "metadata": {},
   "outputs": [],
   "source": [
    "debate_turn_df_latex = debate_turn_df.to_latex(index=False, longtable=True, decimal=',', caption='Number of turns per debate', label='tab:turns_per_debate')"
   ]
  },
  {
   "cell_type": "code",
   "execution_count": 216,
   "id": "0c0dd9f4-6267-473e-b38b-1e6164766a73",
   "metadata": {},
   "outputs": [],
   "source": [
    "with open('Debate_Turn_Table.tex', 'w', encoding='utf8', newline='\\n') as file:\n",
    "    file.write(debate_turn_df_latex)"
   ]
  },
  {
   "cell_type": "code",
   "execution_count": null,
   "id": "342da433-f56c-45e4-924f-b0f31caec9e7",
   "metadata": {},
   "outputs": [],
   "source": []
  }
 ],
 "metadata": {
  "kernelspec": {
   "display_name": "Python 3 (ipykernel)",
   "language": "python",
   "name": "python3"
  },
  "language_info": {
   "codemirror_mode": {
    "name": "ipython",
    "version": 3
   },
   "file_extension": ".py",
   "mimetype": "text/x-python",
   "name": "python",
   "nbconvert_exporter": "python",
   "pygments_lexer": "ipython3",
   "version": "3.11.8"
  }
 },
 "nbformat": 4,
 "nbformat_minor": 5
}
