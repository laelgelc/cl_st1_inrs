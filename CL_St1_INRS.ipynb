{
 "cells": [
  {
   "cell_type": "markdown",
   "id": "810d9f10-ec19-4b09-8f90-e983e460b319",
   "metadata": {
    "jp-MarkdownHeadingCollapsed": true
   },
   "source": [
    "<center>\n",
    "<img src=\"https://laelgelcpublic.s3.sa-east-1.amazonaws.com/lael_50_years_narrow_white.png.no_years.400px_96dpi.png\" width=\"300\" alt=\"LAEL 50 years logo\">\n",
    "<h3>APPLIED LINGUISTICS GRADUATE PROGRAMME (LAEL)</h3>\n",
    "</center>\n",
    "<hr>"
   ]
  },
  {
   "cell_type": "markdown",
   "id": "888c2c96-2fc3-4a1a-995b-c388036a2a15",
   "metadata": {},
   "source": [
    "# Corpus Linguistics - Study 1 - INRS"
   ]
  },
  {
   "cell_type": "markdown",
   "id": "7a9c2af7-9fc1-4f51-a4f5-2ed915b93039",
   "metadata": {},
   "source": [
    "## Importing the required libraries"
   ]
  },
  {
   "cell_type": "code",
   "execution_count": null,
   "id": "e6689499-d19d-4b0c-befd-f88926b7105d",
   "metadata": {},
   "outputs": [],
   "source": [
    "import requests\n",
    "from bs4 import BeautifulSoup\n",
    "import re\n",
    "import pandas as pd"
   ]
  },
  {
   "cell_type": "markdown",
   "id": "55c6f018-cd90-44bf-904b-b4e4a4402031",
   "metadata": {},
   "source": [
    "## Capturing the debate transcript urls"
   ]
  },
  {
   "cell_type": "code",
   "execution_count": null,
   "id": "a710e042-7817-41d8-ae30-07ace114cff0",
   "metadata": {},
   "outputs": [],
   "source": [
    "url = 'https://www.debates.org/voter-education/debate-transcripts/'\n",
    "response = requests.get(url)\n",
    "\n",
    "if response.status_code == 200:\n",
    "    page_content = response.content\n",
    "    # Step 2: Parse HTML content\n",
    "    soup = BeautifulSoup(page_content, 'lxml')\n",
    "\n",
    "    # Find all anchor tags within the blockquote\n",
    "    for anchor in soup.find_all('a'):\n",
    "        print(f\"{anchor.text}: {anchor.get('href')}\")  # Print text content and href attribute\n",
    "\n",
    "else:\n",
    "    print(f'Failed to retrieve the page. Status code: {response.status_code}')"
   ]
  },
  {
   "cell_type": "markdown",
   "id": "90ba4016-90d3-4765-a438-7acbdc920713",
   "metadata": {},
   "source": [
    "### Defining input variables"
   ]
  },
  {
   "cell_type": "code",
   "execution_count": null,
   "id": "f4d1d470-238b-4301-8f04-7dce704f00bb",
   "metadata": {},
   "outputs": [],
   "source": [
    "# Debate Transcripts\n",
    "debate_1 = 'September 29, 2020 Debate Transcript'\n",
    "debate_url_1 = 'https://www.debates.org/voter-education/debate-transcripts/september-29-2020-debate-transcript/'\n",
    "\n",
    "debate_2 = 'October 07, 2020 Vice Presidential Debate Transcript'\n",
    "debate_url_2 = 'https://www.debates.org/voter-education/debate-transcripts/vice-presidential-debate-at-the-university-of-utah-in-salt-lake-city-utah/'\n",
    "\n",
    "debate_3 = 'October 22, 2020 Debate Transcript'\n",
    "debate_url_3 = 'https://www.debates.org/voter-education/debate-transcripts/october-22-2020-debate-transcript/'\n",
    "\n",
    "debate_4 = 'September 26, 2016 Debate Transcript'\n",
    "debate_url_4 = 'https://www.debates.org/voter-education/debate-transcripts/september-26-2016-debate-transcript/'\n",
    "\n",
    "debate_5 = 'October 4, 2016 Debate Transcript'\n",
    "debate_url_5 = 'https://www.debates.org/voter-education/debate-transcripts/october-4-2016-debate-transcript/'\n",
    "\n",
    "debate_6 = 'October 9, 2016 Debate Transcript'\n",
    "debate_url_6 = 'https://www.debates.org/voter-education/debate-transcripts/october-9-2016-debate-transcript/'\n",
    "\n",
    "debate_7 = 'October 19, 2016 Debate Transcript'\n",
    "debate_url_7 = 'https://www.debates.org/voter-education/debate-transcripts/october-19-2016-debate-transcript/'\n",
    "\n",
    "debate_8 = 'October 3, 2012 Debate Transcript'\n",
    "debate_url_8 = 'https://www.debates.org/voter-education/debate-transcripts/october-3-2012-debate-transcript/'\n",
    "\n",
    "debate_9 = 'October 11, 2012 Debate Transcript'\n",
    "debate_url_9 = 'https://www.debates.org/voter-education/debate-transcripts/october-11-2012-the-biden-romney-vice-presidential-debate/'\n",
    "\n",
    "debate_10 = 'October 16, 2012 Debate Transcript'\n",
    "debate_url_10 = 'https://www.debates.org/voter-education/debate-transcripts/october-16-2012-the-second-obama-romney-presidential-debate/'\n",
    "\n",
    "debate_11 = 'October 22, 2012 Debate Transcript'\n",
    "debate_url_11 = 'https://www.debates.org/voter-education/debate-transcripts/october-22-2012-the-third-obama-romney-presidential-debate/'\n",
    "\n",
    "debate_12 = 'September 26, 2008 Debate Transcript'\n",
    "debate_url_12 = 'https://www.debates.org/voter-education/debate-transcripts/2008-debate-transcript/'\n",
    "\n",
    "debate_13 = 'October 2, 2008 Debate Transcript'\n",
    "debate_url_13 = 'https://www.debates.org/voter-education/debate-transcripts/2008-debate-transcript-2/'\n",
    "\n",
    "debate_14 = 'October 7, 2008 Debate Transcript'\n",
    "debate_url_14 = 'https://www.debates.org/voter-education/debate-transcripts/october-7-2008-debate-transcrip/'\n",
    "\n",
    "debate_15 = 'October 15, 2008 Debate Transcript'\n",
    "debate_url_15 = 'https://www.debates.org/voter-education/debate-transcripts/october-15-2008-debate-transcript/'\n",
    "\n",
    "debate_16 = 'October 13, 2004 Debate Transcript'\n",
    "debate_url_16 = 'https://www.debates.org/voter-education/debate-transcripts/october-13-2004-debate-transcript/'\n",
    "\n",
    "debate_17 = 'October 8, 2004 Debate Transcript'\n",
    "debate_url_17 = 'https://www.debates.org/voter-education/debate-transcripts/october-8-2004-debate-transcript/'\n",
    "\n",
    "debate_18 = 'October 5, 2004 Transcript'\n",
    "debate_url_18 = 'https://www.debates.org/voter-education/debate-transcripts/october-5-2004-transcript/'\n",
    "\n",
    "debate_19 = 'September 30, 2004 Debate Transcript'\n",
    "debate_url_19 = 'https://www.debates.org/voter-education/debate-transcripts/september-30-2004-debate-transcript/'\n",
    "\n",
    "debate_20 = 'October 3, 2000 Transcript'\n",
    "debate_url_20 = 'https://www.debates.org/voter-education/debate-transcripts/october-3-2000-transcript/'\n",
    "\n",
    "debate_21 = 'October 5, 2000 Debate Transcript'\n",
    "debate_url_21 = 'https://www.debates.org/voter-education/debate-transcripts/october-5-2000-debate-transcript/'\n",
    "\n",
    "debate_22 = 'October 11, 2000 Debate Transcript'\n",
    "debate_url_22 = 'https://www.debates.org/voter-education/debate-transcripts/october-11-2000-debate-transcript/'\n",
    "\n",
    "debate_23 = 'October 17, 2000 Debate Transcript'\n",
    "debate_url_23 = 'https://www.debates.org/voter-education/debate-transcripts/october-17-2000-debate-transcript/'\n",
    "\n",
    "debate_24 = 'October 6, 1996 Debate Transcript'\n",
    "debate_url_24 = 'https://www.debates.org/voter-education/debate-transcripts/october-6-1996-debate-transcript/'\n",
    "\n",
    "debate_25 = 'October 9, 1996 Debate Transcript'\n",
    "debate_url_25 = 'https://www.debates.org/voter-education/debate-transcripts/october-9-1996-debate-transcript/'\n",
    "\n",
    "debate_26 = 'October 16, 1996 Debate Transcript'\n",
    "debate_url_26 = 'https://www.debates.org/voter-education/debate-transcripts/october-16-1996-debate-transcript/'\n",
    "\n",
    "debate_27 = 'October 11, 1992 First Half Debate Transcript'\n",
    "debate_url_27 = 'https://www.debates.org/voter-education/debate-transcripts/october-11-1992-first-half-debate-transcript/'\n",
    "\n",
    "debate_28 = 'October 11, 1992 Second Half Debate Transcript'\n",
    "debate_url_28 = 'https://www.debates.org/voter-education/debate-transcripts/october-11-1992-second-half-debate-transcript/'\n",
    "\n",
    "debate_29 = 'October 13, 1992 Debate Transcript'\n",
    "debate_url_29 = 'https://www.debates.org/voter-education/debate-transcripts/october-13-1992-debate-transcript/'\n",
    "\n",
    "debate_30 = 'October 15, 1992 First Half Debate Transcript'\n",
    "debate_url_30 = 'https://www.debates.org/voter-education/debate-transcripts/october-15-1992-first-half-debate-transcript/'\n",
    "\n",
    "debate_31 = 'October 15, 1992 Second Half Debate Transcript'\n",
    "debate_url_31 = 'https://www.debates.org/voter-education/debate-transcripts/october-15-1992-second-half-debate-transcript/'\n",
    "\n",
    "debate_32 = 'October 19, 1992 Debate Transcript'\n",
    "debate_url_32 = 'https://www.debates.org/voter-education/debate-transcripts/october-19-1992-debate-transcript/'\n",
    "\n",
    "debate_33 = 'September 25, 1988 Debate Transcript'\n",
    "debate_url_33 = 'https://www.debates.org/voter-education/debate-transcripts/september-25-1988-debate-transcript/'\n",
    "\n",
    "debate_34 = 'October 5, 1988 Debate Transcripts'\n",
    "debate_url_34 = 'https://www.debates.org/voter-education/debate-transcripts/october-5-1988-debate-transcripts/'\n",
    "\n",
    "debate_35 = 'October 13, 1988 Debate Transcript'\n",
    "debate_url_35 = 'https://www.debates.org/voter-education/debate-transcripts/october-13-1988-debate-transcript/'\n",
    "\n",
    "debate_36 = 'October 7, 1984 Debate Transcript'\n",
    "debate_url_36 = 'https://www.debates.org/voter-education/debate-transcripts/october-7-1984-debate-transcript/'\n",
    "\n",
    "debate_37 = 'October 11, 1984 Debate Transcript'\n",
    "debate_url_37 = 'https://www.debates.org/voter-education/debate-transcripts/october-11-1984-debate-transcript/'\n",
    "\n",
    "debate_38 = 'October 21, 1984 Debate Transcript'\n",
    "debate_url_38 = 'https://www.debates.org/voter-education/debate-transcripts/october-21-1984-debate-transcript/'\n",
    "\n",
    "debate_39 = 'September 21, 1980 Debate Transcript'\n",
    "debate_url_39 = 'https://www.debates.org/voter-education/debate-transcripts/september-21-1980-debate-transcript/'\n",
    "\n",
    "debate_40 = 'October 28, 1980 Debate Transcript'\n",
    "debate_url_40 = 'https://www.debates.org/voter-education/debate-transcripts/october-28-1980-debate-transcript/'\n",
    "\n",
    "debate_41 = 'September 23, 1976 Debate Transcript'\n",
    "debate_url_41 = 'https://www.debates.org/voter-education/debate-transcripts/september-23-1976-debate-transcript/'\n",
    "\n",
    "debate_42 = 'October 6, 1976 Debate Transcript'\n",
    "debate_url_42 = 'https://www.debates.org/voter-education/debate-transcripts/october-6-1976-debate-transcript/'\n",
    "\n",
    "debate_43 = 'October 22, 1976 Debate Transcript'\n",
    "debate_url_43 = 'https://www.debates.org/voter-education/debate-transcripts/october-22-1976-debate-transcript/'\n",
    "\n",
    "debate_44 = 'September 26, 1960 Debate Transcript'\n",
    "debate_url_44 = 'https://www.debates.org/voter-education/debate-transcripts/september-26-1960-debate-transcript/'\n",
    "\n",
    "debate_45 = 'October 7, 1960 Debate Transcript'\n",
    "debate_url_45 = 'https://www.debates.org/voter-education/debate-transcripts/october-7-1960-debate-transcript/'\n",
    "\n",
    "debate_46 = 'October 13, 1960 Debate Transcript'\n",
    "debate_url_46 = 'https://www.debates.org/voter-education/debate-transcripts/october-13-1960-debate-transcript/'\n",
    "\n",
    "debate_47 = 'October 21, 1960 Debate Transcript'\n",
    "debate_url_47 = 'https://www.debates.org/voter-education/debate-transcripts/october-21-1960-debate-transcript/'"
   ]
  },
  {
   "cell_type": "markdown",
   "id": "9a79a002-c182-4021-9b77-99ad470582af",
   "metadata": {},
   "source": [
    "## Debate 1"
   ]
  },
  {
   "cell_type": "markdown",
   "id": "c0d1ee95-44d8-4613-8e6e-efb4ca802da7",
   "metadata": {},
   "source": [
    "### Importing the text into a dataframe"
   ]
  },
  {
   "cell_type": "code",
   "execution_count": null,
   "id": "8e8bbe9d-22e5-4f0e-a669-45135fed38e6",
   "metadata": {},
   "outputs": [],
   "source": [
    "debate_title = debate_1\n",
    "url = debate_url_1\n",
    "response = requests.get(url)\n",
    "\n",
    "if response.status_code == 200:\n",
    "    page_content = response.content\n",
    "    # Step 2: Parse HTML content\n",
    "    soup = BeautifulSoup(page_content, 'lxml')\n",
    "\n",
    "    # Extract relevant tags (e.g., <h1>, <p>, etc.) and store them in a list\n",
    "    rows = []\n",
    "    for tag in soup.find_all(['h1', 'p']):\n",
    "        rows.append(tag.text.strip())  # Remove leading/trailing spaces\n",
    "    \n",
    "    # Create a DataFrame from the list of rows\n",
    "    df = pd.DataFrame(rows, columns=['Text'])\n",
    "\n",
    "else:\n",
    "    print(f'Failed to retrieve the page. Status code: {response.status_code}')"
   ]
  },
  {
   "cell_type": "code",
   "execution_count": null,
   "id": "7daecd7e-0a0f-499e-a0bd-7f5397478d3b",
   "metadata": {},
   "outputs": [],
   "source": [
    "df"
   ]
  },
  {
   "cell_type": "code",
   "execution_count": null,
   "id": "84d16ec4-8016-4e24-8ab7-301727062fc1",
   "metadata": {},
   "outputs": [],
   "source": [
    "df.head(10)"
   ]
  },
  {
   "cell_type": "markdown",
   "id": "873f029a-a7e9-4b18-bf80-6fc2f4b73ca4",
   "metadata": {},
   "source": [
    "### Creating the column `Title`"
   ]
  },
  {
   "cell_type": "code",
   "execution_count": null,
   "id": "fe75879c-f933-4ef5-9b6b-f4ced359e723",
   "metadata": {},
   "outputs": [],
   "source": [
    "title = df.at[0, 'Text']\n",
    "df['Title'] = title"
   ]
  },
  {
   "cell_type": "markdown",
   "id": "ff27619e-c5e1-4e4e-8786-9ab6db49210a",
   "metadata": {},
   "source": [
    "### Creating the column `Debate`"
   ]
  },
  {
   "cell_type": "code",
   "execution_count": null,
   "id": "bb225558-7a9b-41d4-9e0a-9bde77dd63c5",
   "metadata": {},
   "outputs": [],
   "source": [
    "debate = df.at[1, 'Text']\n",
    "df['Debate'] = debate"
   ]
  },
  {
   "cell_type": "markdown",
   "id": "e184eb1b-fd41-4b39-abc5-6f78ec436ed5",
   "metadata": {},
   "source": [
    "### Creating the column `Date`"
   ]
  },
  {
   "cell_type": "code",
   "execution_count": null,
   "id": "f0148426-8e5e-48ca-905c-0a19539ee89d",
   "metadata": {},
   "outputs": [],
   "source": [
    "date = df.at[2, 'Text']\n",
    "df['Date'] = date"
   ]
  },
  {
   "cell_type": "markdown",
   "id": "f13d918f-d7e2-40a3-8b63-b12b09c6db09",
   "metadata": {},
   "source": [
    "### Creating the column `Participants`"
   ]
  },
  {
   "cell_type": "code",
   "execution_count": null,
   "id": "cf9ca38f-cc60-4b3a-b3c5-59b80f45230b",
   "metadata": {},
   "outputs": [],
   "source": [
    "participants = df.at[3, 'Text']\n",
    "participants = re.sub(r'^\\w+:\\n', '', participants)\n",
    "participants = re.sub(r'\\n', ' ', participants)\n",
    "df['Participants'] = participants"
   ]
  },
  {
   "cell_type": "markdown",
   "id": "43732af7-a477-46f8-a27e-405fea0fe7c3",
   "metadata": {},
   "source": [
    "### Creating the column `Moderators`"
   ]
  },
  {
   "cell_type": "code",
   "execution_count": null,
   "id": "56eedc7d-625c-40d0-a0fd-4d50b32abe25",
   "metadata": {},
   "outputs": [],
   "source": [
    "moderators = df.at[4, 'Text']\n",
    "moderators = re.sub(r'^\\w+:\\n', '', moderators)\n",
    "df['Moderators'] = moderators"
   ]
  },
  {
   "cell_type": "markdown",
   "id": "6fed9cd4-ec7f-46c5-bee8-19c5584602dd",
   "metadata": {},
   "source": [
    "### Dropping the `COPYRIGHT` row"
   ]
  },
  {
   "cell_type": "code",
   "execution_count": null,
   "id": "e0b3a69e-7a8b-4b8a-bf61-8c749d007383",
   "metadata": {},
   "outputs": [],
   "source": [
    "last_row = 878\n",
    "df.loc[last_row, 'Text']"
   ]
  },
  {
   "cell_type": "code",
   "execution_count": null,
   "id": "55c706b6-7073-4e95-8325-d4ba48a4e666",
   "metadata": {},
   "outputs": [],
   "source": [
    "df = df[~df['Text'].str.contains(df.loc[last_row, 'Text'])]"
   ]
  },
  {
   "cell_type": "code",
   "execution_count": null,
   "id": "4dc85702-cdaf-437b-af69-cfbef05b1173",
   "metadata": {},
   "outputs": [],
   "source": [
    "df"
   ]
  },
  {
   "cell_type": "markdown",
   "id": "6a7432a0-c0ae-4505-9e40-8e10e648fa49",
   "metadata": {},
   "source": [
    "### Dropping the rows that were used to create the columns"
   ]
  },
  {
   "cell_type": "code",
   "execution_count": null,
   "id": "66feed5b-ec3f-4d2e-bada-975ff69f1ddc",
   "metadata": {},
   "outputs": [],
   "source": [
    "df = df.loc[5:]\n",
    "df = df.reset_index(drop=True)"
   ]
  },
  {
   "cell_type": "code",
   "execution_count": null,
   "id": "d02139a0-018f-46e6-a6bd-030afe683c2b",
   "metadata": {},
   "outputs": [],
   "source": [
    "df.head(1)"
   ]
  },
  {
   "cell_type": "markdown",
   "id": "4d68e288-3bb5-440f-aa3d-9ecf03d0e877",
   "metadata": {},
   "source": [
    "### Dropping the rows that start with a few selected expressions in the column 'Text'"
   ]
  },
  {
   "cell_type": "code",
   "execution_count": null,
   "id": "0bdc1ba9-1016-4800-9625-9ea3f7e149c6",
   "metadata": {},
   "outputs": [],
   "source": [
    "# List of expressions whose rows in the column 'Text' should be dropped\n",
    "expressions_to_drop = ['(APPLAUSE)', '(LAUGHTER)', '(CROSSTALK)']\n",
    "\n",
    "# Creating a boolean mask for rows starting with the specified expressions\n",
    "mask = df['Text'].str.startswith(tuple(expressions_to_drop))\n",
    "\n",
    "# Counting the number of rows for each expression\n",
    "counts = mask.value_counts()\n",
    "\n",
    "# Display the counts\n",
    "counts"
   ]
  },
  {
   "cell_type": "code",
   "execution_count": null,
   "id": "0ff2cc7c-f7e6-4b85-8fe0-b3555d690f6a",
   "metadata": {},
   "outputs": [],
   "source": [
    "# Dropping the rows that start with those expressions in the column 'Text'\n",
    "df = df[~mask]"
   ]
  },
  {
   "cell_type": "markdown",
   "id": "0bff832b-0ff0-4e6e-b191-4b10ae8badca",
   "metadata": {},
   "source": [
    "### Creating the column `Speaker`"
   ]
  },
  {
   "cell_type": "code",
   "execution_count": null,
   "id": "d3d3d024-e30b-4f1d-aec5-deb3e4e4aa4c",
   "metadata": {},
   "outputs": [],
   "source": [
    "df.loc[0, 'Text']"
   ]
  },
  {
   "cell_type": "code",
   "execution_count": null,
   "id": "41694893-2770-44c5-859e-280e143e67c3",
   "metadata": {},
   "outputs": [],
   "source": [
    "df.at[0, 'Speaker'] = 1 # Adding column 'Speaker' by initialising it with a numeric value in order to avoid DtypeWarning\n",
    "df = df.astype('object') # Converting the column to the desired data type\n",
    "\n",
    "for index, row in df.iterrows():\n",
    "    match = re.match(r'^(\\w+):\\xa0', row['Text'])\n",
    "    if match:\n",
    "        speaker = match.group(1)\n",
    "        df.at[index, 'Speaker'] = speaker\n",
    "        text_without_speaker = row['Text'][len(match.group(0)):]\n",
    "        df.at[index, 'Text'] = text_without_speaker\n",
    "    else:\n",
    "        # Handle the case when no match is found (optional)\n",
    "        #df.at[index, 'Speaker'] = ''  # Set a default value\n",
    "        pass"
   ]
  },
  {
   "cell_type": "code",
   "execution_count": null,
   "id": "7143f8ae-b9a7-4876-807c-72632ce16d07",
   "metadata": {},
   "outputs": [],
   "source": [
    "df"
   ]
  },
  {
   "cell_type": "markdown",
   "id": "c70dc620-6919-426b-b320-a2ed70e89e51",
   "metadata": {},
   "source": [
    "### Checking how many rows in column `Speaker` are empty (they are paragraphs of the speaker that is speaking - the latest previous speaker)"
   ]
  },
  {
   "cell_type": "code",
   "execution_count": null,
   "id": "e56ebe50-0ef4-4784-910d-eab0a8c26b6e",
   "metadata": {},
   "outputs": [],
   "source": [
    "print(df['Speaker'].isnull().sum())"
   ]
  },
  {
   "cell_type": "markdown",
   "id": "645e2754-fc04-4032-aa61-3d352be01686",
   "metadata": {},
   "source": [
    "### Replacing missing (NaN or empty) values with the last non-empty value in the column (assigning them to the speaker that is speaking)"
   ]
  },
  {
   "cell_type": "code",
   "execution_count": null,
   "id": "98f285a9-55c7-42b6-bcc0-31397573fd6e",
   "metadata": {},
   "outputs": [],
   "source": [
    "df['Speaker'].ffill(inplace=True)"
   ]
  },
  {
   "cell_type": "markdown",
   "id": "108df5f6-c88c-4db4-a4e2-84012895d12a",
   "metadata": {},
   "source": [
    "### Double checking"
   ]
  },
  {
   "cell_type": "code",
   "execution_count": null,
   "id": "09635ea2-e059-4c73-a934-e175cc0765b8",
   "metadata": {},
   "outputs": [],
   "source": [
    "print(df['Speaker'].isnull().sum())"
   ]
  },
  {
   "cell_type": "code",
   "execution_count": null,
   "id": "1dc164de-25bb-4fab-a9db-6fab96be3b6f",
   "metadata": {},
   "outputs": [],
   "source": [
    "df"
   ]
  },
  {
   "cell_type": "markdown",
   "id": "e7a7dda3-7857-49f1-96fc-9aa837ded790",
   "metadata": {},
   "source": [
    "### Number of turns"
   ]
  },
  {
   "cell_type": "code",
   "execution_count": null,
   "id": "8fc27476-c1f4-4b85-86a5-b6d4a03534bc",
   "metadata": {},
   "outputs": [],
   "source": [
    "print('Number of turns:', df.shape[0])"
   ]
  },
  {
   "cell_type": "markdown",
   "id": "4567fa35-8618-4d20-a522-5358d553a83f",
   "metadata": {},
   "source": [
    "### Exporting to a file"
   ]
  },
  {
   "cell_type": "markdown",
   "id": "3d668551-f93a-4cd7-afc6-38ee549aa059",
   "metadata": {},
   "source": [
    "#### JSONL format"
   ]
  },
  {
   "cell_type": "code",
   "execution_count": null,
   "id": "7e2917f3-f7e5-40d1-ac61-0593f82ef7a1",
   "metadata": {},
   "outputs": [],
   "source": [
    "df[['Title', 'Debate', 'Date', 'Participants', 'Moderators', 'Speaker', 'Text']].to_json(f'{debate_title}.jsonl', orient='records', lines=True)"
   ]
  },
  {
   "cell_type": "markdown",
   "id": "03827b99-7ba7-4ccb-9962-72240350e515",
   "metadata": {},
   "source": [
    "#### TSV format"
   ]
  },
  {
   "cell_type": "code",
   "execution_count": null,
   "id": "82186002-cd28-459c-a8f0-2e9513c54bd8",
   "metadata": {},
   "outputs": [],
   "source": [
    "df[['Title', 'Debate', 'Date', 'Participants', 'Moderators', 'Speaker', 'Text']].to_csv(f'{debate_title}.tsv', sep='\\t', index=False, encoding='utf-8', lineterminator='\\n')"
   ]
  },
  {
   "cell_type": "markdown",
   "id": "93889cc4-269f-44c3-bf0e-4715b2777876",
   "metadata": {},
   "source": [
    "## Debate 2"
   ]
  },
  {
   "cell_type": "code",
   "execution_count": null,
   "id": "1acbee25-f2a2-46e6-a453-eab3c51ff302",
   "metadata": {},
   "outputs": [],
   "source": [
    "debate_title = debate_2\n",
    "url = debate_url_2\n",
    "response = requests.get(url)\n",
    "\n",
    "if response.status_code == 200:\n",
    "    page_content = response.content\n",
    "    # Step 2: Parse HTML content\n",
    "    soup = BeautifulSoup(page_content, 'lxml')\n",
    "\n",
    "    # Extract relevant tags (e.g., <h1>, <p>, etc.) and store them in a list\n",
    "    rows = []\n",
    "    for tag in soup.find_all(['h1', 'p']):\n",
    "        rows.append(tag.text.strip())  # Remove leading/trailing spaces\n",
    "    \n",
    "    # Create a DataFrame from the list of rows\n",
    "    df = pd.DataFrame(rows, columns=['Text'])\n",
    "\n",
    "else:\n",
    "    print(f'Failed to retrieve the page. Status code: {response.status_code}')"
   ]
  },
  {
   "cell_type": "code",
   "execution_count": null,
   "id": "8aab4cb0-fbc1-4431-bbdc-2897aef58dfe",
   "metadata": {},
   "outputs": [],
   "source": [
    "df"
   ]
  },
  {
   "cell_type": "code",
   "execution_count": null,
   "id": "831853e2-5ce8-4000-91ff-a6ebdf23945f",
   "metadata": {},
   "outputs": [],
   "source": [
    "df.head(10)"
   ]
  },
  {
   "cell_type": "code",
   "execution_count": null,
   "id": "d7cd21fd-5a3b-41fd-8b2d-ff23f4a22152",
   "metadata": {},
   "outputs": [],
   "source": [
    "title = df.at[0, 'Text']\n",
    "df['Title'] = title\n",
    "\n",
    "debate = df.at[1, 'Text']\n",
    "df['Debate'] = debate\n",
    "\n",
    "date = df.at[2, 'Text']\n",
    "df['Date'] = date\n",
    "\n",
    "participants = df.at[3, 'Text']\n",
    "participants = re.sub(r'^\\w+:\\n', '', participants)\n",
    "participants = re.sub(r'\\n', ' ', participants)\n",
    "df['Participants'] = participants\n",
    "\n",
    "moderators = df.at[4, 'Text']\n",
    "moderators = re.sub(r'^\\w+:\\n', '', moderators)\n",
    "df['Moderators'] = moderators"
   ]
  },
  {
   "cell_type": "code",
   "execution_count": null,
   "id": "e6e9e414-152b-4869-9122-4767f8b4dba3",
   "metadata": {},
   "outputs": [],
   "source": [
    "last_row = 250\n",
    "df.loc[last_row, 'Text']"
   ]
  },
  {
   "cell_type": "code",
   "execution_count": null,
   "id": "8196b928-dae6-49cb-9d60-9bc55d372f46",
   "metadata": {},
   "outputs": [],
   "source": [
    "df = df[~df['Text'].str.contains(df.loc[last_row, 'Text'])]"
   ]
  },
  {
   "cell_type": "code",
   "execution_count": null,
   "id": "6364733b-4575-460b-b767-b1740e404473",
   "metadata": {},
   "outputs": [],
   "source": [
    "df = df.loc[5:]\n",
    "df = df.reset_index(drop=True)"
   ]
  },
  {
   "cell_type": "code",
   "execution_count": null,
   "id": "6e3443a1-b020-4ef7-a80b-31924fa02711",
   "metadata": {},
   "outputs": [],
   "source": [
    "# List of expressions whose rows in column 'Text' should be dropped\n",
    "expressions_to_drop = ['(APPLAUSE)', '(LAUGHTER)', '(CROSSTALK)']\n",
    "\n",
    "# Creating a boolean mask for rows starting with the specified expressions\n",
    "mask = df['Text'].str.startswith(tuple(expressions_to_drop))\n",
    "\n",
    "# Counting the number of rows for each expression\n",
    "counts = mask.value_counts()\n",
    "\n",
    "# Display the counts\n",
    "counts"
   ]
  },
  {
   "cell_type": "code",
   "execution_count": null,
   "id": "eab197cd-935f-49f8-92dc-2fff95229ef2",
   "metadata": {},
   "outputs": [],
   "source": [
    "# Dropping the rows that start with those expressions in column 'Text'\n",
    "df = df[~mask]"
   ]
  },
  {
   "cell_type": "code",
   "execution_count": null,
   "id": "6bfea278-aeec-451e-a0e7-43064768f764",
   "metadata": {},
   "outputs": [],
   "source": [
    "df.head(1)"
   ]
  },
  {
   "cell_type": "code",
   "execution_count": null,
   "id": "a719b0e9-2f1c-429a-a3de-8959e601eca4",
   "metadata": {},
   "outputs": [],
   "source": [
    "df.loc[0, 'Text']"
   ]
  },
  {
   "cell_type": "code",
   "execution_count": null,
   "id": "960b6212-000d-4a23-a489-6b6263ae53df",
   "metadata": {},
   "outputs": [],
   "source": [
    "df.at[0, 'Speaker'] = 1 # Adding column 'Speaker' by initialising it with a numeric value in order to avoid DtypeWarning\n",
    "df = df.astype('object') # Converting the column to the desired data type\n",
    "\n",
    "for index, row in df.iterrows():\n",
    "    match = re.match(r'^(\\w+):\\xa0', row['Text'])\n",
    "    if match:\n",
    "        speaker = match.group(1)\n",
    "        df.at[index, 'Speaker'] = speaker\n",
    "        text_without_speaker = row['Text'][len(match.group(0)):]\n",
    "        df.at[index, 'Text'] = text_without_speaker\n",
    "    else:\n",
    "        # Handle the case when no match is found (optional)\n",
    "        #df.at[index, 'Speaker'] = ''  # Set a default value\n",
    "        pass\n",
    "\n",
    "df['Speaker'].ffill(inplace=True)\n",
    "\n",
    "print('Number of turns:', df.shape[0])\n",
    "\n",
    "df[['Title', 'Debate', 'Date', 'Participants', 'Moderators', 'Speaker', 'Text']].to_json(f'{debate_title}.jsonl', orient='records', lines=True)\n",
    "\n",
    "df[['Title', 'Debate', 'Date', 'Participants', 'Moderators', 'Speaker', 'Text']].to_csv(f'{debate_title}.tsv', sep='\\t', index=False, encoding='utf-8', lineterminator='\\n')"
   ]
  },
  {
   "cell_type": "markdown",
   "id": "8140659a-6990-492a-907e-49f0a29b19bf",
   "metadata": {},
   "source": [
    "## Debate 3"
   ]
  },
  {
   "cell_type": "code",
   "execution_count": null,
   "id": "525a6a1f-4a17-4001-94ca-d9937d9943c5",
   "metadata": {},
   "outputs": [],
   "source": [
    "debate_title = debate_3\n",
    "url = debate_url_3\n",
    "response = requests.get(url)\n",
    "\n",
    "if response.status_code == 200:\n",
    "    page_content = response.content\n",
    "    # Step 2: Parse HTML content\n",
    "    soup = BeautifulSoup(page_content, 'lxml')\n",
    "\n",
    "    # Extract relevant tags (e.g., <h1>, <p>, etc.) and store them in a list\n",
    "    rows = []\n",
    "    for tag in soup.find_all(['h1', 'p']):\n",
    "        rows.append(tag.text.strip())  # Remove leading/trailing spaces\n",
    "    \n",
    "    # Create a DataFrame from the list of rows\n",
    "    df = pd.DataFrame(rows, columns=['Text'])\n",
    "\n",
    "else:\n",
    "    print(f'Failed to retrieve the page. Status code: {response.status_code}')"
   ]
  },
  {
   "cell_type": "code",
   "execution_count": null,
   "id": "ef18e027-1d3a-44f7-a52f-1cdab73b5245",
   "metadata": {},
   "outputs": [],
   "source": [
    "df"
   ]
  },
  {
   "cell_type": "code",
   "execution_count": null,
   "id": "1d36b3bb-ccc5-4121-9d49-384455695eae",
   "metadata": {},
   "outputs": [],
   "source": [
    "df.head(10)"
   ]
  },
  {
   "cell_type": "code",
   "execution_count": null,
   "id": "a888d828-c172-4a6a-af79-009fd2f3c1c6",
   "metadata": {},
   "outputs": [],
   "source": [
    "title = df.at[0, 'Text']\n",
    "df['Title'] = title\n",
    "\n",
    "debate = title\n",
    "df['Debate'] = debate\n",
    "\n",
    "date = df.at[1, 'Text']\n",
    "df['Date'] = date\n",
    "\n",
    "participants = df.at[2, 'Text']\n",
    "participants = re.sub(r'^\\w+:\\n', '', participants)\n",
    "participants = re.sub(r'\\n', ' ', participants)\n",
    "df['Participants'] = participants\n",
    "\n",
    "moderators = df.at[3, 'Text']\n",
    "moderators = re.sub(r'^\\w+:\\n', '', moderators)\n",
    "df['Moderators'] = moderators"
   ]
  },
  {
   "cell_type": "code",
   "execution_count": null,
   "id": "5c2f77ca-1697-474a-b890-926e66c6ee8c",
   "metadata": {},
   "outputs": [],
   "source": [
    "last_row = 358\n",
    "df.loc[last_row, 'Text']"
   ]
  },
  {
   "cell_type": "code",
   "execution_count": null,
   "id": "98be2343-96a2-4ac0-97fb-137424875e6c",
   "metadata": {},
   "outputs": [],
   "source": [
    "df = df[~df['Text'].str.contains(df.loc[last_row, 'Text'])]"
   ]
  },
  {
   "cell_type": "code",
   "execution_count": null,
   "id": "541947a3-7a4a-4b29-9055-a7268d9633da",
   "metadata": {},
   "outputs": [],
   "source": [
    "df = df.loc[4:]\n",
    "df = df.reset_index(drop=True)"
   ]
  },
  {
   "cell_type": "code",
   "execution_count": null,
   "id": "e81fc4b0-7d13-4395-9947-a845f2a669e7",
   "metadata": {},
   "outputs": [],
   "source": [
    "# List of expressions whose rows in column 'Text' should be dropped\n",
    "expressions_to_drop = ['(APPLAUSE)', '(LAUGHTER)', '(CROSSTALK)']\n",
    "\n",
    "# Creating a boolean mask for rows starting with the specified expressions\n",
    "mask = df['Text'].str.startswith(tuple(expressions_to_drop))\n",
    "\n",
    "# Counting the number of rows for each expression\n",
    "counts = mask.value_counts()\n",
    "\n",
    "# Display the counts\n",
    "counts"
   ]
  },
  {
   "cell_type": "code",
   "execution_count": null,
   "id": "22ce80d1-9a94-4f26-a88b-9fbc305d42bf",
   "metadata": {},
   "outputs": [],
   "source": [
    "# Dropping the rows that start with those expressions in column 'Text'\n",
    "df = df[~mask]"
   ]
  },
  {
   "cell_type": "code",
   "execution_count": null,
   "id": "b0f8b18b-ff62-4e68-91b4-69bf58770b92",
   "metadata": {},
   "outputs": [],
   "source": [
    "df.head(1)"
   ]
  },
  {
   "cell_type": "code",
   "execution_count": null,
   "id": "3586a60e-eb4a-4f54-a23b-a61df82c76fa",
   "metadata": {},
   "outputs": [],
   "source": [
    "df.loc[0, 'Text']"
   ]
  },
  {
   "cell_type": "code",
   "execution_count": null,
   "id": "d382ffcf-309c-436a-88e4-ed9af10d044a",
   "metadata": {},
   "outputs": [],
   "source": [
    "df.at[0, 'Speaker'] = 1 # Adding column 'Speaker' by initialising it with a numeric value in order to avoid DtypeWarning\n",
    "df = df.astype('object') # Converting the column to the desired data type\n",
    "\n",
    "for index, row in df.iterrows():\n",
    "    match = re.match(r'^(\\w+):\\xa0', row['Text'])\n",
    "    if match:\n",
    "        speaker = match.group(1)\n",
    "        df.at[index, 'Speaker'] = speaker\n",
    "        text_without_speaker = row['Text'][len(match.group(0)):]\n",
    "        df.at[index, 'Text'] = text_without_speaker\n",
    "    else:\n",
    "        # Handle the case when no match is found (optional)\n",
    "        #df.at[index, 'Speaker'] = ''  # Set a default value\n",
    "        pass\n",
    "\n",
    "df['Speaker'].ffill(inplace=True)\n",
    "\n",
    "print('Number of turns:', df.shape[0])\n",
    "\n",
    "df[['Title', 'Debate', 'Date', 'Participants', 'Moderators', 'Speaker', 'Text']].to_json(f'{debate_title}.jsonl', orient='records', lines=True)\n",
    "\n",
    "df[['Title', 'Debate', 'Date', 'Participants', 'Moderators', 'Speaker', 'Text']].to_csv(f'{debate_title}.tsv', sep='\\t', index=False, encoding='utf-8', lineterminator='\\n')"
   ]
  },
  {
   "cell_type": "markdown",
   "id": "f1e86cba-b9fb-4021-a885-677d42293c08",
   "metadata": {},
   "source": [
    "## Debate 4"
   ]
  },
  {
   "cell_type": "code",
   "execution_count": null,
   "id": "832a0fee-380c-409e-b0b9-7ecbb222bd3f",
   "metadata": {},
   "outputs": [],
   "source": [
    "debate_title = debate_4\n",
    "url = debate_url_4\n",
    "response = requests.get(url)\n",
    "\n",
    "if response.status_code == 200:\n",
    "    page_content = response.content\n",
    "    # Step 2: Parse HTML content\n",
    "    soup = BeautifulSoup(page_content, 'lxml')\n",
    "\n",
    "    # Extract relevant tags (e.g., <h1>, <p>, etc.) and store them in a list\n",
    "    rows = []\n",
    "    for tag in soup.find_all(['h1', 'p']):\n",
    "        rows.append(tag.text.strip())  # Remove leading/trailing spaces\n",
    "    \n",
    "    # Create a DataFrame from the list of rows\n",
    "    df = pd.DataFrame(rows, columns=['Text'])\n",
    "\n",
    "else:\n",
    "    print(f'Failed to retrieve the page. Status code: {response.status_code}')"
   ]
  },
  {
   "cell_type": "code",
   "execution_count": null,
   "id": "0c5827d8-0eab-45e0-bd03-c235ee317dfc",
   "metadata": {},
   "outputs": [],
   "source": [
    "df"
   ]
  },
  {
   "cell_type": "code",
   "execution_count": null,
   "id": "3401608d-85a6-493c-9a3a-436746a90969",
   "metadata": {},
   "outputs": [],
   "source": [
    "df.head(10)"
   ]
  },
  {
   "cell_type": "code",
   "execution_count": null,
   "id": "cbd09287-5c89-4e8d-9b73-63f84bd9cc16",
   "metadata": {},
   "outputs": [],
   "source": [
    "title = df.at[0, 'Text']\n",
    "df['Title'] = title\n",
    "\n",
    "debate = df.at[1, 'Text']\n",
    "df['Debate'] = debate\n",
    "\n",
    "date = df.at[2, 'Text']\n",
    "df['Date'] = date\n",
    "\n",
    "participants = df.at[4, 'Text'] + ' ' + df.at[5, 'Text']\n",
    "#participants = re.sub(r'^\\w+:\\n', '', participants)\n",
    "#participants = re.sub(r'\\n', ' ', participants)\n",
    "df['Participants'] = participants\n",
    "\n",
    "moderators = df.at[7, 'Text']\n",
    "#moderators = re.sub(r'^\\w+:\\n', '', moderators)\n",
    "df['Moderators'] = moderators"
   ]
  },
  {
   "cell_type": "code",
   "execution_count": null,
   "id": "c4ca877e-45cf-4561-ba3b-70b2f317191d",
   "metadata": {},
   "outputs": [],
   "source": [
    "last_row = 531\n",
    "df.loc[last_row, 'Text']"
   ]
  },
  {
   "cell_type": "code",
   "execution_count": null,
   "id": "246fe940-e11a-44ec-b51d-8e3ba006ca73",
   "metadata": {},
   "outputs": [],
   "source": [
    "df = df[~df['Text'].str.contains(df.loc[last_row, 'Text'])]"
   ]
  },
  {
   "cell_type": "code",
   "execution_count": null,
   "id": "fd557c8b-0077-415d-bcc9-e8cdee2c42b2",
   "metadata": {},
   "outputs": [],
   "source": [
    "df = df.loc[8:]\n",
    "df = df.reset_index(drop=True)"
   ]
  },
  {
   "cell_type": "code",
   "execution_count": null,
   "id": "d0b1128b-c43b-4c97-87cf-331ab985ae4a",
   "metadata": {},
   "outputs": [],
   "source": [
    "# List of expressions whose rows in column 'Text' should be dropped\n",
    "expressions_to_drop = ['(APPLAUSE)', '(LAUGHTER)', '(CROSSTALK)']\n",
    "\n",
    "# Creating a boolean mask for rows starting with the specified expressions\n",
    "mask = df['Text'].str.startswith(tuple(expressions_to_drop))\n",
    "\n",
    "# Counting the number of rows for each expression\n",
    "counts = mask.value_counts()\n",
    "\n",
    "# Display the counts\n",
    "counts"
   ]
  },
  {
   "cell_type": "code",
   "execution_count": null,
   "id": "b8ec6763-a5ff-4be7-8d8e-2dc4f6e404d6",
   "metadata": {},
   "outputs": [],
   "source": [
    "# Dropping the rows that start with those expressions in column 'Text'\n",
    "df = df[~mask]"
   ]
  },
  {
   "cell_type": "code",
   "execution_count": null,
   "id": "476a3e32-b798-4869-938e-745e40a8747c",
   "metadata": {},
   "outputs": [],
   "source": [
    "df.head(1)"
   ]
  },
  {
   "cell_type": "code",
   "execution_count": null,
   "id": "f76c0a3c-2b3c-4553-91cc-8837e0becd37",
   "metadata": {},
   "outputs": [],
   "source": [
    "df.loc[0, 'Text']"
   ]
  },
  {
   "cell_type": "code",
   "execution_count": null,
   "id": "127401e6-fa33-4b4e-bd83-ec8644c38e7c",
   "metadata": {},
   "outputs": [],
   "source": [
    "df.at[0, 'Speaker'] = 1 # Adding column 'Speaker' by initialising it with a numeric value in order to avoid DtypeWarning\n",
    "df = df.astype('object') # Converting the column to the desired data type\n",
    "\n",
    "for index, row in df.iterrows():\n",
    "    match = re.match(r'^(\\w+): ', row['Text'])\n",
    "    if match:\n",
    "        speaker = match.group(1)\n",
    "        df.at[index, 'Speaker'] = speaker\n",
    "        text_without_speaker = row['Text'][len(match.group(0)):]\n",
    "        df.at[index, 'Text'] = text_without_speaker\n",
    "    else:\n",
    "        # Handle the case when no match is found (optional)\n",
    "        #df.at[index, 'Speaker'] = ''  # Set a default value\n",
    "        pass\n",
    "\n",
    "df['Speaker'].ffill(inplace=True)\n",
    "\n",
    "print('Number of turns:', df.shape[0])\n",
    "\n",
    "df[['Title', 'Debate', 'Date', 'Participants', 'Moderators', 'Speaker', 'Text']].to_json(f'{debate_title}.jsonl', orient='records', lines=True)\n",
    "\n",
    "df[['Title', 'Debate', 'Date', 'Participants', 'Moderators', 'Speaker', 'Text']].to_csv(f'{debate_title}.tsv', sep='\\t', index=False, encoding='utf-8', lineterminator='\\n')"
   ]
  },
  {
   "cell_type": "markdown",
   "id": "fa966e81-00b9-4c23-b14c-d1b1553f54fd",
   "metadata": {},
   "source": [
    "## Debate 5"
   ]
  },
  {
   "cell_type": "code",
   "execution_count": null,
   "id": "db9428ca-5b66-443f-9611-167f5b546839",
   "metadata": {},
   "outputs": [],
   "source": [
    "debate_title = debate_5\n",
    "url = debate_url_5\n",
    "response = requests.get(url)\n",
    "\n",
    "if response.status_code == 200:\n",
    "    page_content = response.content\n",
    "    # Step 2: Parse HTML content\n",
    "    soup = BeautifulSoup(page_content, 'lxml')\n",
    "\n",
    "    # Extract relevant tags (e.g., <h1>, <p>, etc.) and store them in a list\n",
    "    rows = []\n",
    "    for tag in soup.find_all(['h1', 'p']):\n",
    "        rows.append(tag.text.strip())  # Remove leading/trailing spaces\n",
    "    \n",
    "    # Create a DataFrame from the list of rows\n",
    "    df = pd.DataFrame(rows, columns=['Text'])\n",
    "\n",
    "else:\n",
    "    print(f'Failed to retrieve the page. Status code: {response.status_code}')"
   ]
  },
  {
   "cell_type": "code",
   "execution_count": null,
   "id": "cf55176d-9d98-4237-b263-4b1ccfb5c44d",
   "metadata": {},
   "outputs": [],
   "source": [
    "df"
   ]
  },
  {
   "cell_type": "code",
   "execution_count": null,
   "id": "a8b8a976-3839-4ac4-901d-6102ca8a71b4",
   "metadata": {},
   "outputs": [],
   "source": [
    "df.head(10)"
   ]
  },
  {
   "cell_type": "code",
   "execution_count": null,
   "id": "8ce52ae0-eebc-4155-9634-d76c3696fa2f",
   "metadata": {},
   "outputs": [],
   "source": [
    "title = df.at[0, 'Text']\n",
    "df['Title'] = title\n",
    "\n",
    "debate = df.at[1, 'Text']\n",
    "df['Debate'] = debate\n",
    "\n",
    "date = df.at[2, 'Text']\n",
    "df['Date'] = date\n",
    "\n",
    "participants = df.at[4, 'Text'] + ' ' + df.at[5, 'Text']\n",
    "#participants = re.sub(r'^\\w+:\\n', '', participants)\n",
    "#participants = re.sub(r'\\n', ' ', participants)\n",
    "df['Participants'] = participants\n",
    "\n",
    "moderators = df.at[7, 'Text']\n",
    "#moderators = re.sub(r'^\\w+:\\n', '', moderators)\n",
    "df['Moderators'] = moderators"
   ]
  },
  {
   "cell_type": "code",
   "execution_count": null,
   "id": "45eb8414-5a34-4554-a28a-0e7f6d35278c",
   "metadata": {},
   "outputs": [],
   "source": [
    "last_row = 665\n",
    "df.loc[last_row, 'Text']"
   ]
  },
  {
   "cell_type": "code",
   "execution_count": null,
   "id": "44c61626-41d5-4b1a-98eb-29cc9256816b",
   "metadata": {},
   "outputs": [],
   "source": [
    "df = df[~df['Text'].str.contains(df.loc[last_row, 'Text'])]"
   ]
  },
  {
   "cell_type": "code",
   "execution_count": null,
   "id": "c30098ad-cb2c-474d-966b-1ee09f345b3e",
   "metadata": {},
   "outputs": [],
   "source": [
    "df = df.loc[8:]\n",
    "df = df.reset_index(drop=True)"
   ]
  },
  {
   "cell_type": "code",
   "execution_count": null,
   "id": "90f5957d-3f27-4bb0-97bf-2dde89f0c30e",
   "metadata": {},
   "outputs": [],
   "source": [
    "# List of expressions whose rows in column 'Text' should be dropped\n",
    "expressions_to_drop = ['(APPLAUSE)', '(LAUGHTER)', '(CROSSTALK)']\n",
    "\n",
    "# Creating a boolean mask for rows starting with the specified expressions\n",
    "mask = df['Text'].str.startswith(tuple(expressions_to_drop))\n",
    "\n",
    "# Counting the number of rows for each expression\n",
    "counts = mask.value_counts()\n",
    "\n",
    "# Display the counts\n",
    "counts"
   ]
  },
  {
   "cell_type": "code",
   "execution_count": null,
   "id": "6fcfd2e7-c96d-4365-8eba-9efb96cb1d03",
   "metadata": {},
   "outputs": [],
   "source": [
    "# Dropping the rows that start with those expressions in column 'Text'\n",
    "df = df[~mask]"
   ]
  },
  {
   "cell_type": "code",
   "execution_count": null,
   "id": "1b1ac792-f255-4fe6-abee-53cf12e1907d",
   "metadata": {},
   "outputs": [],
   "source": [
    "df.head(1)"
   ]
  },
  {
   "cell_type": "code",
   "execution_count": null,
   "id": "7dc05347-28f0-4be7-be9c-28a31526916a",
   "metadata": {},
   "outputs": [],
   "source": [
    "df.loc[0, 'Text']"
   ]
  },
  {
   "cell_type": "code",
   "execution_count": null,
   "id": "e89dc440-a2a3-425f-b425-e41e1b1d02c9",
   "metadata": {},
   "outputs": [],
   "source": [
    "df.at[0, 'Speaker'] = 1 # Adding column 'Speaker' by initialising it with a numeric value in order to avoid DtypeWarning\n",
    "df = df.astype('object') # Converting the column to the desired data type\n",
    "\n",
    "for index, row in df.iterrows():\n",
    "    match = re.match(r'^(\\w+): ', row['Text'])\n",
    "    if match:\n",
    "        speaker = match.group(1)\n",
    "        df.at[index, 'Speaker'] = speaker\n",
    "        text_without_speaker = row['Text'][len(match.group(0)):]\n",
    "        df.at[index, 'Text'] = text_without_speaker\n",
    "    else:\n",
    "        # Handle the case when no match is found (optional)\n",
    "        #df.at[index, 'Speaker'] = ''  # Set a default value\n",
    "        pass\n",
    "\n",
    "df['Speaker'].ffill(inplace=True)\n",
    "\n",
    "print('Number of turns:', df.shape[0])\n",
    "\n",
    "df[['Title', 'Debate', 'Date', 'Participants', 'Moderators', 'Speaker', 'Text']].to_json(f'{debate_title}.jsonl', orient='records', lines=True)\n",
    "\n",
    "df[['Title', 'Debate', 'Date', 'Participants', 'Moderators', 'Speaker', 'Text']].to_csv(f'{debate_title}.tsv', sep='\\t', index=False, encoding='utf-8', lineterminator='\\n')"
   ]
  },
  {
   "cell_type": "markdown",
   "id": "c0002372-5cbf-45d1-9589-5162bd1a8b59",
   "metadata": {},
   "source": [
    "## Debate 6"
   ]
  },
  {
   "cell_type": "code",
   "execution_count": null,
   "id": "0d2d3df8-36df-45a3-837a-39e63a44b67f",
   "metadata": {},
   "outputs": [],
   "source": [
    "debate_title = debate_6\n",
    "url = debate_url_6\n",
    "response = requests.get(url)\n",
    "\n",
    "if response.status_code == 200:\n",
    "    page_content = response.content\n",
    "    # Step 2: Parse HTML content\n",
    "    soup = BeautifulSoup(page_content, 'lxml')\n",
    "\n",
    "    # Extract relevant tags (e.g., <h1>, <p>, etc.) and store them in a list\n",
    "    rows = []\n",
    "    for tag in soup.find_all(['h1', 'p']):\n",
    "        rows.append(tag.text.strip())  # Remove leading/trailing spaces\n",
    "    \n",
    "    # Create a DataFrame from the list of rows\n",
    "    df = pd.DataFrame(rows, columns=['Text'])\n",
    "\n",
    "else:\n",
    "    print(f'Failed to retrieve the page. Status code: {response.status_code}')"
   ]
  },
  {
   "cell_type": "code",
   "execution_count": null,
   "id": "b3b41993-6cbd-4fad-8dbf-832b1be6c44f",
   "metadata": {},
   "outputs": [],
   "source": [
    "df"
   ]
  },
  {
   "cell_type": "code",
   "execution_count": null,
   "id": "540f45cd-476d-48cb-93ef-3ba502fb1285",
   "metadata": {},
   "outputs": [],
   "source": [
    "df.drop(460, inplace=True)\n",
    "df = df.reset_index(drop=True)"
   ]
  },
  {
   "cell_type": "code",
   "execution_count": null,
   "id": "513c8a52-d008-4700-a031-df843b534023",
   "metadata": {},
   "outputs": [],
   "source": [
    "df"
   ]
  },
  {
   "cell_type": "code",
   "execution_count": null,
   "id": "1ce93239-73a8-41bf-bd73-ea082e273d54",
   "metadata": {},
   "outputs": [],
   "source": [
    "df.head(10)"
   ]
  },
  {
   "cell_type": "code",
   "execution_count": null,
   "id": "bfc57e07-a7fb-4610-abbb-c9508643572c",
   "metadata": {},
   "outputs": [],
   "source": [
    "title = df.at[0, 'Text']\n",
    "df['Title'] = title\n",
    "\n",
    "debate = df.at[1, 'Text']\n",
    "df['Debate'] = debate\n",
    "\n",
    "date = df.at[2, 'Text']\n",
    "df['Date'] = date\n",
    "\n",
    "participants = df.at[4, 'Text'] + ' ' + df.at[5, 'Text']\n",
    "#participants = re.sub(r'^\\w+:\\n', '', participants)\n",
    "#participants = re.sub(r'\\n', ' ', participants)\n",
    "df['Participants'] = participants\n",
    "\n",
    "moderators = df.at[7, 'Text'] + ' ' + df.at[8, 'Text']\n",
    "#moderators = re.sub(r'^\\w+:\\n', '', moderators)\n",
    "df['Moderators'] = moderators"
   ]
  },
  {
   "cell_type": "code",
   "execution_count": null,
   "id": "1d49a97c-ce05-4b8e-b4c9-c11034e880f8",
   "metadata": {},
   "outputs": [],
   "source": [
    "last_row = 460\n",
    "df.loc[last_row, 'Text']"
   ]
  },
  {
   "cell_type": "code",
   "execution_count": null,
   "id": "2583548a-32a7-4e6d-9ed3-adffb31a87e4",
   "metadata": {},
   "outputs": [],
   "source": [
    "df = df[~df['Text'].str.contains(df.loc[last_row, 'Text'])]"
   ]
  },
  {
   "cell_type": "code",
   "execution_count": null,
   "id": "64cbd0b7-8f09-491d-8f5a-23ec577076d5",
   "metadata": {},
   "outputs": [],
   "source": [
    "df = df.loc[9:]\n",
    "df = df.reset_index(drop=True)"
   ]
  },
  {
   "cell_type": "code",
   "execution_count": null,
   "id": "75398f96-07d0-407f-83d6-a84fb4fcffad",
   "metadata": {},
   "outputs": [],
   "source": [
    "# List of expressions whose rows in column 'Text' should be dropped\n",
    "expressions_to_drop = ['(APPLAUSE)', '(LAUGHTER)', '(CROSSTALK)']\n",
    "\n",
    "# Creating a boolean mask for rows starting with the specified expressions\n",
    "mask = df['Text'].str.startswith(tuple(expressions_to_drop))\n",
    "\n",
    "# Counting the number of rows for each expression\n",
    "counts = mask.value_counts()\n",
    "\n",
    "# Display the counts\n",
    "counts"
   ]
  },
  {
   "cell_type": "code",
   "execution_count": null,
   "id": "dc2ee1ab-e51a-4bf6-89f4-656ded3f628a",
   "metadata": {},
   "outputs": [],
   "source": [
    "# Dropping the rows that start with those expressions in column 'Text'\n",
    "df = df[~mask]"
   ]
  },
  {
   "cell_type": "code",
   "execution_count": null,
   "id": "328c8306-ca5e-4deb-be97-9ab90276c9a7",
   "metadata": {},
   "outputs": [],
   "source": [
    "df.head(1)"
   ]
  },
  {
   "cell_type": "code",
   "execution_count": null,
   "id": "0aad5878-ed43-4707-afa2-2c7cc6be22ff",
   "metadata": {},
   "outputs": [],
   "source": [
    "df.loc[0, 'Text']"
   ]
  },
  {
   "cell_type": "code",
   "execution_count": null,
   "id": "09acab6a-71f7-43ae-a2ea-a59cee717d70",
   "metadata": {},
   "outputs": [],
   "source": [
    "df.at[0, 'Speaker'] = 1 # Adding column 'Speaker' by initialising it with a numeric value in order to avoid DtypeWarning\n",
    "df = df.astype('object') # Converting the column to the desired data type\n",
    "\n",
    "for index, row in df.iterrows():\n",
    "    match = re.match(r'^(\\w+): ', row['Text'])\n",
    "    if match:\n",
    "        speaker = match.group(1)\n",
    "        df.at[index, 'Speaker'] = speaker\n",
    "        text_without_speaker = row['Text'][len(match.group(0)):]\n",
    "        df.at[index, 'Text'] = text_without_speaker\n",
    "    else:\n",
    "        # Handle the case when no match is found (optional)\n",
    "        #df.at[index, 'Speaker'] = ''  # Set a default value\n",
    "        pass\n",
    "\n",
    "df['Speaker'].ffill(inplace=True)\n",
    "\n",
    "print('Number of turns:', df.shape[0])\n",
    "\n",
    "df[['Title', 'Debate', 'Date', 'Participants', 'Moderators', 'Speaker', 'Text']].to_json(f'{debate_title}.jsonl', orient='records', lines=True)\n",
    "\n",
    "df[['Title', 'Debate', 'Date', 'Participants', 'Moderators', 'Speaker', 'Text']].to_csv(f'{debate_title}.tsv', sep='\\t', index=False, encoding='utf-8', lineterminator='\\n')"
   ]
  },
  {
   "cell_type": "markdown",
   "id": "d1c7a48c-9001-444e-8fe4-1d624f6a76cb",
   "metadata": {},
   "source": [
    "## Debate 7"
   ]
  },
  {
   "cell_type": "code",
   "execution_count": null,
   "id": "9ba6bade-a420-435e-94bf-dd843fc9d11b",
   "metadata": {},
   "outputs": [],
   "source": [
    "debate_title = debate_7\n",
    "url = debate_url_7\n",
    "response = requests.get(url)\n",
    "\n",
    "if response.status_code == 200:\n",
    "    page_content = response.content\n",
    "    # Step 2: Parse HTML content\n",
    "    soup = BeautifulSoup(page_content, 'lxml')\n",
    "\n",
    "    # Extract relevant tags (e.g., <h1>, <p>, etc.) and store them in a list\n",
    "    rows = []\n",
    "    for tag in soup.find_all(['h1', 'p']):\n",
    "        rows.append(tag.text.strip())  # Remove leading/trailing spaces\n",
    "    \n",
    "    # Create a DataFrame from the list of rows\n",
    "    df = pd.DataFrame(rows, columns=['Text'])\n",
    "\n",
    "else:\n",
    "    print(f'Failed to retrieve the page. Status code: {response.status_code}')"
   ]
  },
  {
   "cell_type": "code",
   "execution_count": null,
   "id": "5a7a4fad-1147-44c6-8528-0a2045da8c14",
   "metadata": {},
   "outputs": [],
   "source": [
    "df"
   ]
  },
  {
   "cell_type": "code",
   "execution_count": null,
   "id": "9571375f-2522-4673-bad5-999c6fb6f079",
   "metadata": {},
   "outputs": [],
   "source": [
    "df.drop(521, inplace=True)\n",
    "df = df.reset_index(drop=True)"
   ]
  },
  {
   "cell_type": "code",
   "execution_count": null,
   "id": "1fefdcab-beed-4962-93c9-cab7752d36d6",
   "metadata": {},
   "outputs": [],
   "source": [
    "df"
   ]
  },
  {
   "cell_type": "code",
   "execution_count": null,
   "id": "7bca0d56-6851-405e-9b22-3d03ff8d5aa9",
   "metadata": {},
   "outputs": [],
   "source": [
    "df.head(10)"
   ]
  },
  {
   "cell_type": "code",
   "execution_count": null,
   "id": "db980860-5175-4c24-a8bf-7eef1f5aebfb",
   "metadata": {},
   "outputs": [],
   "source": [
    "title = df.at[0, 'Text']\n",
    "df['Title'] = title\n",
    "\n",
    "debate = df.at[1, 'Text']\n",
    "df['Debate'] = debate\n",
    "\n",
    "date = df.at[2, 'Text']\n",
    "df['Date'] = date\n",
    "\n",
    "participants = df.at[4, 'Text'] + ' ' + df.at[5, 'Text']\n",
    "#participants = re.sub(r'^\\w+:\\n', '', participants)\n",
    "#participants = re.sub(r'\\n', ' ', participants)\n",
    "df['Participants'] = participants\n",
    "\n",
    "moderators = df.at[7, 'Text']\n",
    "#moderators = re.sub(r'^\\w+:\\n', '', moderators)\n",
    "df['Moderators'] = moderators"
   ]
  },
  {
   "cell_type": "code",
   "execution_count": null,
   "id": "d065f280-9628-4f62-807c-478284df6c4d",
   "metadata": {},
   "outputs": [],
   "source": [
    "last_row = 521\n",
    "df.loc[last_row, 'Text']"
   ]
  },
  {
   "cell_type": "code",
   "execution_count": null,
   "id": "f1ac7a01-bad6-42eb-b173-49e52a393308",
   "metadata": {},
   "outputs": [],
   "source": [
    "df = df[~df['Text'].str.contains(df.loc[last_row, 'Text'])]"
   ]
  },
  {
   "cell_type": "code",
   "execution_count": null,
   "id": "84648e40-da9a-4b3e-bbee-ff1487b4229a",
   "metadata": {},
   "outputs": [],
   "source": [
    "df = df.loc[8:]\n",
    "df = df.reset_index(drop=True)"
   ]
  },
  {
   "cell_type": "code",
   "execution_count": null,
   "id": "e84389b5-0036-4b3a-be6b-cde0c2ebfef9",
   "metadata": {},
   "outputs": [],
   "source": [
    "# List of expressions whose rows in column 'Text' should be dropped\n",
    "expressions_to_drop = ['(APPLAUSE)', '(LAUGHTER)', '(CROSSTALK)']\n",
    "\n",
    "# Creating a boolean mask for rows starting with the specified expressions\n",
    "mask = df['Text'].str.startswith(tuple(expressions_to_drop))\n",
    "\n",
    "# Counting the number of rows for each expression\n",
    "counts = mask.value_counts()\n",
    "\n",
    "# Display the counts\n",
    "counts"
   ]
  },
  {
   "cell_type": "code",
   "execution_count": null,
   "id": "f1564a41-b362-42f1-8234-397522ae9b6e",
   "metadata": {},
   "outputs": [],
   "source": [
    "# Dropping the rows that start with those expressions in column 'Text'\n",
    "df = df[~mask]"
   ]
  },
  {
   "cell_type": "code",
   "execution_count": null,
   "id": "c2fe7d65-d739-4f7d-9d8d-fdd1c85992a5",
   "metadata": {},
   "outputs": [],
   "source": [
    "df.head(1)"
   ]
  },
  {
   "cell_type": "code",
   "execution_count": null,
   "id": "6deb8d91-a52c-47ad-9a73-4532d71012e4",
   "metadata": {},
   "outputs": [],
   "source": [
    "df.loc[0, 'Text']"
   ]
  },
  {
   "cell_type": "code",
   "execution_count": null,
   "id": "0c601581-b202-4841-9080-2f9c1d677d4b",
   "metadata": {},
   "outputs": [],
   "source": [
    "df.at[0, 'Speaker'] = 1 # Adding column 'Speaker' by initialising it with a numeric value in order to avoid DtypeWarning\n",
    "df = df.astype('object') # Converting the column to the desired data type\n",
    "\n",
    "for index, row in df.iterrows():\n",
    "    match = re.match(r'^(\\w+): ', row['Text'])\n",
    "    if match:\n",
    "        speaker = match.group(1)\n",
    "        df.at[index, 'Speaker'] = speaker\n",
    "        text_without_speaker = row['Text'][len(match.group(0)):]\n",
    "        df.at[index, 'Text'] = text_without_speaker\n",
    "    else:\n",
    "        # Handle the case when no match is found (optional)\n",
    "        #df.at[index, 'Speaker'] = ''  # Set a default value\n",
    "        pass\n",
    "\n",
    "df['Speaker'].ffill(inplace=True)\n",
    "\n",
    "print('Number of turns:', df.shape[0])\n",
    "\n",
    "df[['Title', 'Debate', 'Date', 'Participants', 'Moderators', 'Speaker', 'Text']].to_json(f'{debate_title}.jsonl', orient='records', lines=True)\n",
    "\n",
    "df[['Title', 'Debate', 'Date', 'Participants', 'Moderators', 'Speaker', 'Text']].to_csv(f'{debate_title}.tsv', sep='\\t', index=False, encoding='utf-8', lineterminator='\\n')"
   ]
  },
  {
   "cell_type": "markdown",
   "id": "8df7fe23-93e1-4453-ba71-9aaa7146496e",
   "metadata": {},
   "source": [
    "## Debate 8"
   ]
  },
  {
   "cell_type": "code",
   "execution_count": null,
   "id": "7d8f3003-5f56-4309-a77c-34d2d12c6bae",
   "metadata": {},
   "outputs": [],
   "source": [
    "debate_title = debate_8\n",
    "url = debate_url_8\n",
    "response = requests.get(url)\n",
    "\n",
    "if response.status_code == 200:\n",
    "    page_content = response.content\n",
    "    # Step 2: Parse HTML content\n",
    "    soup = BeautifulSoup(page_content, 'lxml')\n",
    "\n",
    "    # Extract relevant tags (e.g., <h1>, <p>, etc.) and store them in a list\n",
    "    rows = []\n",
    "    for tag in soup.find_all(['h1', 'p']):\n",
    "        rows.append(tag.text.strip())  # Remove leading/trailing spaces\n",
    "    \n",
    "    # Create a DataFrame from the list of rows\n",
    "    df = pd.DataFrame(rows, columns=['Text'])\n",
    "\n",
    "else:\n",
    "    print(f'Failed to retrieve the page. Status code: {response.status_code}')"
   ]
  },
  {
   "cell_type": "code",
   "execution_count": null,
   "id": "4c078069-fea1-46f9-8e7e-91e4fd11537d",
   "metadata": {},
   "outputs": [],
   "source": [
    "df"
   ]
  },
  {
   "cell_type": "code",
   "execution_count": null,
   "id": "e094dec3-5a1d-472e-a5de-efed57e00c89",
   "metadata": {},
   "outputs": [],
   "source": [
    "df.drop(477, inplace=True)\n",
    "df = df.reset_index(drop=True)"
   ]
  },
  {
   "cell_type": "code",
   "execution_count": null,
   "id": "2aebcc60-d849-4635-a16b-d5e8be827973",
   "metadata": {},
   "outputs": [],
   "source": [
    "df"
   ]
  },
  {
   "cell_type": "code",
   "execution_count": null,
   "id": "d073b97f-47e3-4a43-997e-3d370fbda8d5",
   "metadata": {},
   "outputs": [],
   "source": [
    "df.head(10)"
   ]
  },
  {
   "cell_type": "code",
   "execution_count": null,
   "id": "cbfa267f-215d-491f-9516-3468f0ee5cdd",
   "metadata": {},
   "outputs": [],
   "source": [
    "title = df.at[0, 'Text']\n",
    "df['Title'] = title\n",
    "\n",
    "debate = df.at[1, 'Text']\n",
    "df['Debate'] = debate\n",
    "\n",
    "date = df.at[2, 'Text']\n",
    "df['Date'] = date\n",
    "\n",
    "participants = df.at[3, 'Text']\n",
    "participants = re.sub(r'^\\w+: ', '', participants)\n",
    "participants = participants + ' ' + df.at[4, 'Text']\n",
    "df['Participants'] = participants\n",
    "\n",
    "moderators = df.at[5, 'Text']\n",
    "moderators = re.sub(r', \\w+$', '', moderators)\n",
    "df['Moderators'] = moderators"
   ]
  },
  {
   "cell_type": "code",
   "execution_count": null,
   "id": "63145593-c792-4be4-bd6d-494318e8a997",
   "metadata": {},
   "outputs": [],
   "source": [
    "last_row = 477\n",
    "df.loc[last_row, 'Text']"
   ]
  },
  {
   "cell_type": "code",
   "execution_count": null,
   "id": "b5de3983-d9b2-44e6-8302-1b8d7ebe3eba",
   "metadata": {},
   "outputs": [],
   "source": [
    "df = df[~df['Text'].str.contains(df.loc[last_row, 'Text'])]"
   ]
  },
  {
   "cell_type": "code",
   "execution_count": null,
   "id": "c5348dbb-62ab-4956-8881-631422d908f5",
   "metadata": {},
   "outputs": [],
   "source": [
    "df = df.loc[6:]\n",
    "df = df.reset_index(drop=True)"
   ]
  },
  {
   "cell_type": "code",
   "execution_count": null,
   "id": "1d4c8af8-4347-48a1-a40c-061df971516c",
   "metadata": {},
   "outputs": [],
   "source": [
    "# List of expressions whose rows in column 'Text' should be dropped\n",
    "expressions_to_drop = ['(APPLAUSE)', '(LAUGHTER)', '(CROSSTALK)']\n",
    "\n",
    "# Creating a boolean mask for rows starting with the specified expressions\n",
    "mask = df['Text'].str.startswith(tuple(expressions_to_drop))\n",
    "\n",
    "# Counting the number of rows for each expression\n",
    "counts = mask.value_counts()\n",
    "\n",
    "# Display the counts\n",
    "counts"
   ]
  },
  {
   "cell_type": "code",
   "execution_count": null,
   "id": "f65a925e-dcbe-425c-a390-957e343b1506",
   "metadata": {},
   "outputs": [],
   "source": [
    "# Dropping the rows that start with those expressions in column 'Text'\n",
    "df = df[~mask]"
   ]
  },
  {
   "cell_type": "code",
   "execution_count": null,
   "id": "6663637d-4035-4bfa-bcdb-13a325369b89",
   "metadata": {},
   "outputs": [],
   "source": [
    "df.head(1)"
   ]
  },
  {
   "cell_type": "code",
   "execution_count": null,
   "id": "0816d516-7fac-4fc9-9393-52d9ec6cc109",
   "metadata": {},
   "outputs": [],
   "source": [
    "df.loc[0, 'Text']"
   ]
  },
  {
   "cell_type": "code",
   "execution_count": null,
   "id": "1fb792f8-ecd5-4fd5-9a5a-6747fb6c2069",
   "metadata": {},
   "outputs": [],
   "source": [
    "df.at[0, 'Speaker'] = 1 # Adding column 'Speaker' by initialising it with a numeric value in order to avoid DtypeWarning\n",
    "df = df.astype('object') # Converting the column to the desired data type\n",
    "\n",
    "for index, row in df.iterrows():\n",
    "    match = re.match(r'^(\\w+): ', row['Text'])\n",
    "    if match:\n",
    "        speaker = match.group(1)\n",
    "        df.at[index, 'Speaker'] = speaker\n",
    "        text_without_speaker = row['Text'][len(match.group(0)):]\n",
    "        df.at[index, 'Text'] = text_without_speaker\n",
    "    else:\n",
    "        # Handle the case when no match is found (optional)\n",
    "        #df.at[index, 'Speaker'] = ''  # Set a default value\n",
    "        pass\n",
    "\n",
    "df['Speaker'].ffill(inplace=True)\n",
    "\n",
    "print('Number of turns:', df.shape[0])\n",
    "\n",
    "df[['Title', 'Debate', 'Date', 'Participants', 'Moderators', 'Speaker', 'Text']].to_json(f'{debate_title}.jsonl', orient='records', lines=True)\n",
    "\n",
    "df[['Title', 'Debate', 'Date', 'Participants', 'Moderators', 'Speaker', 'Text']].to_csv(f'{debate_title}.tsv', sep='\\t', index=False, encoding='utf-8', lineterminator='\\n')"
   ]
  },
  {
   "cell_type": "markdown",
   "id": "6abddc74-8acd-4474-a20f-c4bdcc4d7e14",
   "metadata": {},
   "source": [
    "## Debate 9"
   ]
  },
  {
   "cell_type": "code",
   "execution_count": null,
   "id": "1b15e3f6-e367-4f96-94a2-26a862aafe86",
   "metadata": {},
   "outputs": [],
   "source": [
    "debate_title = debate_9\n",
    "url = debate_url_9\n",
    "response = requests.get(url)\n",
    "\n",
    "if response.status_code == 200:\n",
    "    page_content = response.content\n",
    "    # Step 2: Parse HTML content\n",
    "    soup = BeautifulSoup(page_content, 'lxml')\n",
    "\n",
    "    # Extract relevant tags (e.g., <h1>, <p>, etc.) and store them in a list\n",
    "    rows = []\n",
    "    for tag in soup.find_all(['h1', 'p']):\n",
    "        rows.append(tag.text.strip())  # Remove leading/trailing spaces\n",
    "    \n",
    "    # Create a DataFrame from the list of rows\n",
    "    df = pd.DataFrame(rows, columns=['Text'])\n",
    "\n",
    "else:\n",
    "    print(f'Failed to retrieve the page. Status code: {response.status_code}')"
   ]
  },
  {
   "cell_type": "code",
   "execution_count": null,
   "id": "8e7094a1-f072-4f66-a85a-26124a5ed7f8",
   "metadata": {},
   "outputs": [],
   "source": [
    "df"
   ]
  },
  {
   "cell_type": "code",
   "execution_count": null,
   "id": "dc0e2a77-668b-4f21-853b-4fad1ab1edd8",
   "metadata": {},
   "outputs": [],
   "source": [
    "df.drop(673, inplace=True)\n",
    "df = df.reset_index(drop=True)"
   ]
  },
  {
   "cell_type": "code",
   "execution_count": null,
   "id": "e04504d3-498d-4da5-9d65-a38a610120a8",
   "metadata": {},
   "outputs": [],
   "source": [
    "df"
   ]
  },
  {
   "cell_type": "code",
   "execution_count": null,
   "id": "690db684-b569-459c-aab9-fd37ffe8c1fb",
   "metadata": {},
   "outputs": [],
   "source": [
    "df.head(10)"
   ]
  },
  {
   "cell_type": "code",
   "execution_count": null,
   "id": "01ffba3e-ddbc-4550-a1fb-b5742fc3e9a6",
   "metadata": {},
   "outputs": [],
   "source": [
    "title = df.at[0, 'Text']\n",
    "df['Title'] = title\n",
    "\n",
    "debate = df.at[1, 'Text']\n",
    "df['Debate'] = debate\n",
    "\n",
    "date = df.at[2, 'Text']\n",
    "df['Date'] = date\n",
    "\n",
    "participants = df.at[3, 'Text']\n",
    "participants = re.sub(r'^\\w+: ', '', participants)\n",
    "participants = participants + ' ' + df.at[4, 'Text']\n",
    "df['Participants'] = participants\n",
    "\n",
    "moderators = df.at[5, 'Text']\n",
    "moderators = re.match(r'^(\\w+ \\w+)', moderators).group(1)\n",
    "df['Moderators'] = moderators"
   ]
  },
  {
   "cell_type": "code",
   "execution_count": null,
   "id": "58c5cc76-4506-49a9-94ee-7e1ab44ce811",
   "metadata": {},
   "outputs": [],
   "source": [
    "last_row = 673\n",
    "df.loc[last_row, 'Text']"
   ]
  },
  {
   "cell_type": "code",
   "execution_count": null,
   "id": "224feb3e-8fd6-4281-8e62-0fa3bc1bd964",
   "metadata": {},
   "outputs": [],
   "source": [
    "df = df[~df['Text'].str.contains(df.loc[last_row, 'Text'])]"
   ]
  },
  {
   "cell_type": "code",
   "execution_count": null,
   "id": "d849f641-06b9-4713-a015-7f8d233f9aa1",
   "metadata": {},
   "outputs": [],
   "source": [
    "df.head(10)"
   ]
  },
  {
   "cell_type": "code",
   "execution_count": null,
   "id": "2857a22e-d25e-4aa4-8673-34db13d6ccd0",
   "metadata": {},
   "outputs": [],
   "source": [
    "df.loc[5, 'Text'] = re.sub(r'^\\w+ \\w+, \\w+\\[\\*\\]', '', df.loc[5, 'Text'])"
   ]
  },
  {
   "cell_type": "code",
   "execution_count": null,
   "id": "389b5b25-4914-4713-93c2-2ed1343e0513",
   "metadata": {},
   "outputs": [],
   "source": [
    "df.head(10)"
   ]
  },
  {
   "cell_type": "code",
   "execution_count": null,
   "id": "ba289309-ce2c-489d-9e5d-f28e06d9c689",
   "metadata": {},
   "outputs": [],
   "source": [
    "df = df.loc[5:]\n",
    "df = df.reset_index(drop=True)"
   ]
  },
  {
   "cell_type": "code",
   "execution_count": null,
   "id": "f21b81f0-7295-4758-b21a-c7d9689d2f9d",
   "metadata": {},
   "outputs": [],
   "source": [
    "# List of expressions whose rows in column 'Text' should be dropped\n",
    "expressions_to_drop = ['(APPLAUSE)', '(LAUGHTER)', '(CROSSTALK)']\n",
    "\n",
    "# Creating a boolean mask for rows starting with the specified expressions\n",
    "mask = df['Text'].str.startswith(tuple(expressions_to_drop))\n",
    "\n",
    "# Counting the number of rows for each expression\n",
    "counts = mask.value_counts()\n",
    "\n",
    "# Display the counts\n",
    "counts"
   ]
  },
  {
   "cell_type": "code",
   "execution_count": null,
   "id": "a800f265-98bf-42fc-97eb-0b6b35b89570",
   "metadata": {},
   "outputs": [],
   "source": [
    "# Dropping the rows that start with those expressions in column 'Text'\n",
    "df = df[~mask]"
   ]
  },
  {
   "cell_type": "code",
   "execution_count": null,
   "id": "90ef598f-5457-4672-8ded-6e3dd204709d",
   "metadata": {},
   "outputs": [],
   "source": [
    "df.head(1)"
   ]
  },
  {
   "cell_type": "code",
   "execution_count": null,
   "id": "314c1b1b-62e3-44ff-9bf2-40f2ddd8ac31",
   "metadata": {},
   "outputs": [],
   "source": [
    "df.loc[0, 'Text']"
   ]
  },
  {
   "cell_type": "code",
   "execution_count": null,
   "id": "b5f9698c-c4eb-4a50-b4d3-af203a0b0216",
   "metadata": {},
   "outputs": [],
   "source": [
    "df.at[0, 'Speaker'] = 1 # Adding column 'Speaker' by initialising it with a numeric value in order to avoid DtypeWarning\n",
    "df = df.astype('object') # Converting the column to the desired data type\n",
    "\n",
    "for index, row in df.iterrows():\n",
    "    match = re.match(r'^(\\w+): ', row['Text'])\n",
    "    if match:\n",
    "        speaker = match.group(1)\n",
    "        df.at[index, 'Speaker'] = speaker\n",
    "        text_without_speaker = row['Text'][len(match.group(0)):]\n",
    "        df.at[index, 'Text'] = text_without_speaker\n",
    "    else:\n",
    "        # Handle the case when no match is found (optional)\n",
    "        #df.at[index, 'Speaker'] = ''  # Set a default value\n",
    "        pass\n",
    "\n",
    "df['Speaker'].ffill(inplace=True)\n",
    "\n",
    "print('Number of turns:', df.shape[0])\n",
    "\n",
    "df[['Title', 'Debate', 'Date', 'Participants', 'Moderators', 'Speaker', 'Text']].to_json(f'{debate_title}.jsonl', orient='records', lines=True)\n",
    "\n",
    "df[['Title', 'Debate', 'Date', 'Participants', 'Moderators', 'Speaker', 'Text']].to_csv(f'{debate_title}.tsv', sep='\\t', index=False, encoding='utf-8', lineterminator='\\n')"
   ]
  },
  {
   "cell_type": "markdown",
   "id": "781fdfc4-05fe-4693-aa54-953cccc774b1",
   "metadata": {},
   "source": [
    "## Debate 10"
   ]
  },
  {
   "cell_type": "code",
   "execution_count": null,
   "id": "3e870c88-0862-4c6c-9022-df84530b3337",
   "metadata": {},
   "outputs": [],
   "source": [
    "debate_title = debate_10\n",
    "url = debate_url_10\n",
    "response = requests.get(url)\n",
    "\n",
    "if response.status_code == 200:\n",
    "    page_content = response.content\n",
    "    # Step 2: Parse HTML content\n",
    "    soup = BeautifulSoup(page_content, 'lxml')\n",
    "\n",
    "    # Extract relevant tags (e.g., <h1>, <p>, etc.) and store them in a list\n",
    "    rows = []\n",
    "    for tag in soup.find_all(['h1', 'p']):\n",
    "        rows.append(tag.text.strip())  # Remove leading/trailing spaces\n",
    "    \n",
    "    # Create a DataFrame from the list of rows\n",
    "    df = pd.DataFrame(rows, columns=['Text'])\n",
    "\n",
    "else:\n",
    "    print(f'Failed to retrieve the page. Status code: {response.status_code}')"
   ]
  },
  {
   "cell_type": "code",
   "execution_count": null,
   "id": "3b8900d3-170d-4a60-a83e-b9026ebe748a",
   "metadata": {},
   "outputs": [],
   "source": [
    "df"
   ]
  },
  {
   "cell_type": "code",
   "execution_count": null,
   "id": "08069615-7d34-4a6a-9b97-0a3d3cc9848d",
   "metadata": {},
   "outputs": [],
   "source": [
    "df.head(10)"
   ]
  },
  {
   "cell_type": "code",
   "execution_count": null,
   "id": "0cddd15f-2d74-4b97-99f0-44605a9d8ad1",
   "metadata": {},
   "outputs": [],
   "source": [
    "df.at[6, 'Text'] = re.sub(r'^\\[\\*\\]', '', df.at[6, 'Text'])"
   ]
  },
  {
   "cell_type": "code",
   "execution_count": null,
   "id": "f71d8d64-7bb2-4b77-a8c7-c9d2758afd4a",
   "metadata": {},
   "outputs": [],
   "source": [
    "df.head(10)"
   ]
  },
  {
   "cell_type": "code",
   "execution_count": null,
   "id": "e2ce6fff-ec3a-437a-b513-48f408d9b4fc",
   "metadata": {},
   "outputs": [],
   "source": [
    "title = df.at[0, 'Text']\n",
    "df['Title'] = title\n",
    "\n",
    "debate = df.at[1, 'Text']\n",
    "df['Debate'] = debate\n",
    "\n",
    "date = df.at[2, 'Text']\n",
    "df['Date'] = date\n",
    "\n",
    "participants = df.at[3, 'Text']\n",
    "participants = re.sub(r'^\\w+: ', '', participants)\n",
    "participants = participants + ' ' + df.at[4, 'Text']\n",
    "df['Participants'] = participants\n",
    "\n",
    "moderators = df.at[5, 'Text']\n",
    "moderators = re.sub(r', \\w+$', '', moderators)\n",
    "df['Moderators'] = moderators"
   ]
  },
  {
   "cell_type": "code",
   "execution_count": null,
   "id": "e776c703-60d5-45bb-b0ff-1fe112d14ed7",
   "metadata": {},
   "outputs": [],
   "source": [
    "last_row = 544\n",
    "df.loc[last_row, 'Text']"
   ]
  },
  {
   "cell_type": "code",
   "execution_count": null,
   "id": "4ec92a93-97bf-446e-bcb3-0b68fc2f0026",
   "metadata": {},
   "outputs": [],
   "source": [
    "df = df[~df['Text'].str.contains(df.loc[last_row, 'Text'])]"
   ]
  },
  {
   "cell_type": "code",
   "execution_count": null,
   "id": "4b02907b-cac4-493f-96ec-cc0409df67a8",
   "metadata": {},
   "outputs": [],
   "source": [
    "df = df.loc[6:]\n",
    "df = df.reset_index(drop=True)"
   ]
  },
  {
   "cell_type": "code",
   "execution_count": null,
   "id": "57cefaea-d4ba-4254-924b-d710e97e97b6",
   "metadata": {},
   "outputs": [],
   "source": [
    "# List of expressions whose rows in column 'Text' should be dropped\n",
    "expressions_to_drop = ['(APPLAUSE)', '(LAUGHTER)', '(CROSSTALK)']\n",
    "\n",
    "# Creating a boolean mask for rows starting with the specified expressions\n",
    "mask = df['Text'].str.startswith(tuple(expressions_to_drop))\n",
    "\n",
    "# Counting the number of rows for each expression\n",
    "counts = mask.value_counts()\n",
    "\n",
    "# Display the counts\n",
    "counts"
   ]
  },
  {
   "cell_type": "code",
   "execution_count": null,
   "id": "f7fa461a-d5dc-4876-9698-d68835612c9f",
   "metadata": {},
   "outputs": [],
   "source": [
    "# Dropping the rows that start with those expressions in column 'Text'\n",
    "df = df[~mask]"
   ]
  },
  {
   "cell_type": "code",
   "execution_count": null,
   "id": "3c9f4c53-5a4a-4eaf-bd2e-3b81973b26ec",
   "metadata": {},
   "outputs": [],
   "source": [
    "df.head(1)"
   ]
  },
  {
   "cell_type": "code",
   "execution_count": null,
   "id": "01eed238-dbfa-4527-9f4b-b608a1173ba4",
   "metadata": {},
   "outputs": [],
   "source": [
    "df.loc[0, 'Text']"
   ]
  },
  {
   "cell_type": "code",
   "execution_count": null,
   "id": "901dc851-5f96-4e17-a088-65b2ba4fe8f9",
   "metadata": {},
   "outputs": [],
   "source": [
    "df.at[0, 'Speaker'] = 1 # Adding column 'Speaker' by initialising it with a numeric value in order to avoid DtypeWarning\n",
    "df = df.astype('object') # Converting the column to the desired data type\n",
    "\n",
    "for index, row in df.iterrows():\n",
    "    match = re.match(r'^(\\w+): ', row['Text'])\n",
    "    if match:\n",
    "        speaker = match.group(1)\n",
    "        df.at[index, 'Speaker'] = speaker\n",
    "        text_without_speaker = row['Text'][len(match.group(0)):]\n",
    "        df.at[index, 'Text'] = text_without_speaker\n",
    "    else:\n",
    "        # Handle the case when no match is found (optional)\n",
    "        #df.at[index, 'Speaker'] = ''  # Set a default value\n",
    "        pass\n",
    "\n",
    "df['Speaker'].ffill(inplace=True)\n",
    "\n",
    "print('Number of turns:', df.shape[0])\n",
    "\n",
    "df[['Title', 'Debate', 'Date', 'Participants', 'Moderators', 'Speaker', 'Text']].to_json(f'{debate_title}.jsonl', orient='records', lines=True)\n",
    "\n",
    "df[['Title', 'Debate', 'Date', 'Participants', 'Moderators', 'Speaker', 'Text']].to_csv(f'{debate_title}.tsv', sep='\\t', index=False, encoding='utf-8', lineterminator='\\n')"
   ]
  },
  {
   "cell_type": "markdown",
   "id": "2871765d-2923-469e-acd0-27dbbeee9cf4",
   "metadata": {},
   "source": [
    "## Debate 11"
   ]
  },
  {
   "cell_type": "code",
   "execution_count": null,
   "id": "37792fee-3926-4620-afe3-dee56368edb2",
   "metadata": {},
   "outputs": [],
   "source": [
    "debate_title = debate_11\n",
    "url = debate_url_11\n",
    "response = requests.get(url)\n",
    "\n",
    "if response.status_code == 200:\n",
    "    page_content = response.content\n",
    "    # Step 2: Parse HTML content\n",
    "    soup = BeautifulSoup(page_content, 'lxml')\n",
    "\n",
    "    # Extract relevant tags (e.g., <h1>, <p>, etc.) and store them in a list\n",
    "    rows = []\n",
    "    for tag in soup.find_all(['h1', 'p']):\n",
    "        rows.append(tag.text.strip())  # Remove leading/trailing spaces\n",
    "    \n",
    "    # Create a DataFrame from the list of rows\n",
    "    df = pd.DataFrame(rows, columns=['Text'])\n",
    "\n",
    "else:\n",
    "    print(f'Failed to retrieve the page. Status code: {response.status_code}')"
   ]
  },
  {
   "cell_type": "code",
   "execution_count": null,
   "id": "b1f337f4-5013-4abb-a626-f1f49e6531ad",
   "metadata": {},
   "outputs": [],
   "source": [
    "df"
   ]
  },
  {
   "cell_type": "code",
   "execution_count": null,
   "id": "390fe33f-271a-4c04-aed5-0575cc959b0f",
   "metadata": {},
   "outputs": [],
   "source": [
    "df.head(10)"
   ]
  },
  {
   "cell_type": "code",
   "execution_count": null,
   "id": "9086ab64-4988-4230-b5b3-66f40e944826",
   "metadata": {},
   "outputs": [],
   "source": [
    "df.at[6, 'Text'] = re.sub(r'^\\[\\*\\]', '', df.at[6, 'Text'])"
   ]
  },
  {
   "cell_type": "code",
   "execution_count": null,
   "id": "9477b458-637c-46f6-8ff7-ffd596ca8d91",
   "metadata": {},
   "outputs": [],
   "source": [
    "df.head(10)"
   ]
  },
  {
   "cell_type": "code",
   "execution_count": null,
   "id": "812cf3b3-109c-4d57-abe1-3e699a1f2698",
   "metadata": {},
   "outputs": [],
   "source": [
    "title = df.at[0, 'Text']\n",
    "df['Title'] = title\n",
    "\n",
    "debate = df.at[1, 'Text']\n",
    "df['Debate'] = debate\n",
    "\n",
    "date = df.at[2, 'Text']\n",
    "df['Date'] = date\n",
    "\n",
    "participants = df.at[3, 'Text']\n",
    "participants = re.sub(r'^\\w+: ', '', participants)\n",
    "participants = participants + ' ' + df.at[4, 'Text']\n",
    "df['Participants'] = participants\n",
    "\n",
    "moderators = df.at[5, 'Text']\n",
    "moderators = re.sub(r', \\w+$', '', moderators)\n",
    "df['Moderators'] = moderators"
   ]
  },
  {
   "cell_type": "code",
   "execution_count": null,
   "id": "e4a8b3cf-1788-4838-9d99-b6e730303279",
   "metadata": {},
   "outputs": [],
   "source": [
    "last_row = 493\n",
    "df.loc[last_row, 'Text']"
   ]
  },
  {
   "cell_type": "code",
   "execution_count": null,
   "id": "26faac82-8581-462a-bfa3-5b58d6d7998d",
   "metadata": {},
   "outputs": [],
   "source": [
    "df = df[~df['Text'].str.contains(df.loc[last_row, 'Text'])]"
   ]
  },
  {
   "cell_type": "code",
   "execution_count": null,
   "id": "38663981-7d61-4f64-a0fd-5ce9e1b2538a",
   "metadata": {},
   "outputs": [],
   "source": [
    "df = df.loc[6:]\n",
    "df = df.reset_index(drop=True)"
   ]
  },
  {
   "cell_type": "code",
   "execution_count": null,
   "id": "045e67c1-01d3-4fc9-8986-bca1f02f923d",
   "metadata": {},
   "outputs": [],
   "source": [
    "# List of expressions whose rows in column 'Text' should be dropped\n",
    "expressions_to_drop = ['(APPLAUSE)', '(LAUGHTER)', '(CROSSTALK)']\n",
    "\n",
    "# Creating a boolean mask for rows starting with the specified expressions\n",
    "mask = df['Text'].str.startswith(tuple(expressions_to_drop))\n",
    "\n",
    "# Counting the number of rows for each expression\n",
    "counts = mask.value_counts()\n",
    "\n",
    "# Display the counts\n",
    "counts"
   ]
  },
  {
   "cell_type": "code",
   "execution_count": null,
   "id": "0bb3b870-af00-467c-8796-8dc9a14b049c",
   "metadata": {},
   "outputs": [],
   "source": [
    "# Dropping the rows that start with those expressions in column 'Text'\n",
    "df = df[~mask]"
   ]
  },
  {
   "cell_type": "code",
   "execution_count": null,
   "id": "b235f1b7-80ac-46c3-9ffa-fe0ba426e7bd",
   "metadata": {},
   "outputs": [],
   "source": [
    "df.head(1)"
   ]
  },
  {
   "cell_type": "code",
   "execution_count": null,
   "id": "1eb65255-9a3c-431b-a5a4-1496adde47e3",
   "metadata": {},
   "outputs": [],
   "source": [
    "df.loc[0, 'Text']"
   ]
  },
  {
   "cell_type": "code",
   "execution_count": null,
   "id": "69c7915d-e179-4655-b8f3-2359889b5138",
   "metadata": {},
   "outputs": [],
   "source": [
    "df.at[0, 'Speaker'] = 1 # Adding column 'Speaker' by initialising it with a numeric value in order to avoid DtypeWarning\n",
    "df = df.astype('object') # Converting the column to the desired data type\n",
    "\n",
    "for index, row in df.iterrows():\n",
    "    match = re.match(r'^(\\w+): ', row['Text'])\n",
    "    if match:\n",
    "        speaker = match.group(1)\n",
    "        df.at[index, 'Speaker'] = speaker\n",
    "        text_without_speaker = row['Text'][len(match.group(0)):]\n",
    "        df.at[index, 'Text'] = text_without_speaker\n",
    "    else:\n",
    "        # Handle the case when no match is found (optional)\n",
    "        #df.at[index, 'Speaker'] = ''  # Set a default value\n",
    "        pass\n",
    "\n",
    "df['Speaker'].ffill(inplace=True)\n",
    "\n",
    "print('Number of turns:', df.shape[0])\n",
    "\n",
    "df[['Title', 'Debate', 'Date', 'Participants', 'Moderators', 'Speaker', 'Text']].to_json(f'{debate_title}.jsonl', orient='records', lines=True)\n",
    "\n",
    "df[['Title', 'Debate', 'Date', 'Participants', 'Moderators', 'Speaker', 'Text']].to_csv(f'{debate_title}.tsv', sep='\\t', index=False, encoding='utf-8', lineterminator='\\n')"
   ]
  },
  {
   "cell_type": "markdown",
   "id": "66737f51-6051-4169-9b87-5620f9182c92",
   "metadata": {},
   "source": [
    "## Debate 12"
   ]
  },
  {
   "cell_type": "code",
   "execution_count": null,
   "id": "d1b3dd4c-29c9-4f2b-89e0-f60f0d3cb36b",
   "metadata": {},
   "outputs": [],
   "source": [
    "debate_title = debate_12\n",
    "url = debate_url_12\n",
    "response = requests.get(url)\n",
    "\n",
    "if response.status_code == 200:\n",
    "    page_content = response.content\n",
    "    # Step 2: Parse HTML content\n",
    "    soup = BeautifulSoup(page_content, 'lxml')\n",
    "\n",
    "    # Extract relevant tags (e.g., <h1>, <p>, etc.) and store them in a list\n",
    "    rows = []\n",
    "    for tag in soup.find_all(['h1', 'p']):\n",
    "        rows.append(tag.text.strip())  # Remove leading/trailing spaces\n",
    "    \n",
    "    # Create a DataFrame from the list of rows\n",
    "    df = pd.DataFrame(rows, columns=['Text'])\n",
    "\n",
    "else:\n",
    "    print(f'Failed to retrieve the page. Status code: {response.status_code}')"
   ]
  },
  {
   "cell_type": "code",
   "execution_count": null,
   "id": "8680cc49-aa2f-4970-ab78-eac152ce2f1d",
   "metadata": {},
   "outputs": [],
   "source": [
    "df"
   ]
  },
  {
   "cell_type": "code",
   "execution_count": null,
   "id": "de1474d1-9357-497f-9e90-22a43f2586bf",
   "metadata": {},
   "outputs": [],
   "source": [
    "df.drop([1011, 1012, 1013], inplace=True)\n",
    "df = df.reset_index(drop=True)"
   ]
  },
  {
   "cell_type": "code",
   "execution_count": null,
   "id": "38b51939-eea6-471f-bf4d-8d7168714ee4",
   "metadata": {},
   "outputs": [],
   "source": [
    "df"
   ]
  },
  {
   "cell_type": "code",
   "execution_count": null,
   "id": "505281ae-0a30-4b89-a5e5-c024f1b65d33",
   "metadata": {},
   "outputs": [],
   "source": [
    "df.head(10)"
   ]
  },
  {
   "cell_type": "code",
   "execution_count": null,
   "id": "2048d4b0-acc5-4051-9f8a-ffedd974f160",
   "metadata": {},
   "outputs": [],
   "source": [
    "df.loc[8, 'Text']"
   ]
  },
  {
   "cell_type": "code",
   "execution_count": null,
   "id": "a6fc9f60-fbca-48b6-aa20-6df49c5dd810",
   "metadata": {},
   "outputs": [],
   "source": [
    "df.loc[8, 'Text'] = re.sub(r'^\\[\\*\\] ', '', df.loc[8, 'Text'])"
   ]
  },
  {
   "cell_type": "code",
   "execution_count": null,
   "id": "23d2930a-cce4-46a2-9422-72142417bc51",
   "metadata": {},
   "outputs": [],
   "source": [
    "df.loc[8, 'Text']"
   ]
  },
  {
   "cell_type": "code",
   "execution_count": null,
   "id": "23b95e15-5329-41ef-bca9-626e4bb70e67",
   "metadata": {},
   "outputs": [],
   "source": [
    "title = df.at[0, 'Text']\n",
    "df['Title'] = title\n",
    "\n",
    "debate = df.at[2, 'Text']\n",
    "df['Debate'] = debate\n",
    "\n",
    "date = df.at[1, 'Text']\n",
    "df['Date'] = date\n",
    "\n",
    "participants = df.at[5, 'Text'] + ' ' + df.at[6, 'Text']\n",
    "#participants = re.sub(r'^\\w+:\\n', '', participants)\n",
    "#participants = re.sub(r'\\n', ' ', participants)\n",
    "df['Participants'] = participants\n",
    "\n",
    "moderators = df.at[7, 'Text']\n",
    "moderators = re.match(r'^(\\w+ \\w{6})', moderators).group(1)\n",
    "df['Moderators'] = moderators"
   ]
  },
  {
   "cell_type": "code",
   "execution_count": null,
   "id": "4bf1fffb-fa05-4c3c-97c6-56d8c1d502e7",
   "metadata": {},
   "outputs": [],
   "source": [
    "last_row = 1011\n",
    "df.loc[last_row, 'Text']"
   ]
  },
  {
   "cell_type": "code",
   "execution_count": null,
   "id": "fbc9089b-6114-43a4-ab1e-b527758c9203",
   "metadata": {},
   "outputs": [],
   "source": [
    "df = df[~df['Text'].str.contains(df.loc[last_row, 'Text'])]"
   ]
  },
  {
   "cell_type": "code",
   "execution_count": null,
   "id": "bb17938f-f20d-4d69-af7b-8e4d5d01c11d",
   "metadata": {},
   "outputs": [],
   "source": [
    "df = df.loc[8:]\n",
    "df = df.reset_index(drop=True)"
   ]
  },
  {
   "cell_type": "code",
   "execution_count": null,
   "id": "94b3cab9-9f33-4dee-b524-7cb802d56a15",
   "metadata": {},
   "outputs": [],
   "source": [
    "# List of expressions whose rows in column 'Text' should be dropped\n",
    "expressions_to_drop = ['(APPLAUSE)', '(LAUGHTER)', '(CROSSTALK)']\n",
    "\n",
    "# Creating a boolean mask for rows starting with the specified expressions\n",
    "mask = df['Text'].str.startswith(tuple(expressions_to_drop))\n",
    "\n",
    "# Counting the number of rows for each expression\n",
    "counts = mask.value_counts()\n",
    "\n",
    "# Display the counts\n",
    "counts"
   ]
  },
  {
   "cell_type": "code",
   "execution_count": null,
   "id": "ffbb281d-0570-41d4-bc1b-948b42014e28",
   "metadata": {},
   "outputs": [],
   "source": [
    "# Dropping the rows that start with those expressions in column 'Text'\n",
    "df = df[~mask]"
   ]
  },
  {
   "cell_type": "code",
   "execution_count": null,
   "id": "ae9f1352-01b2-4f3e-9528-fcbc18af2eb4",
   "metadata": {},
   "outputs": [],
   "source": [
    "df.head(1)"
   ]
  },
  {
   "cell_type": "code",
   "execution_count": null,
   "id": "8fde1716-61a2-461b-9e8e-4dcf70e535e5",
   "metadata": {},
   "outputs": [],
   "source": [
    "df.loc[0, 'Text']"
   ]
  },
  {
   "cell_type": "code",
   "execution_count": null,
   "id": "6c77383c-ca37-4706-9910-1d91dffce8fa",
   "metadata": {},
   "outputs": [],
   "source": [
    "df.at[0, 'Speaker'] = 1 # Adding column 'Speaker' by initialising it with a numeric value in order to avoid DtypeWarning\n",
    "df = df.astype('object') # Converting the column to the desired data type\n",
    "\n",
    "for index, row in df.iterrows():\n",
    "    match = re.match(r'^(\\w+): ', row['Text'])\n",
    "    if match:\n",
    "        speaker = match.group(1)\n",
    "        df.at[index, 'Speaker'] = speaker\n",
    "        text_without_speaker = row['Text'][len(match.group(0)):]\n",
    "        df.at[index, 'Text'] = text_without_speaker\n",
    "    else:\n",
    "        # Handle the case when no match is found (optional)\n",
    "        #df.at[index, 'Speaker'] = ''  # Set a default value\n",
    "        pass\n",
    "\n",
    "df['Speaker'].ffill(inplace=True)\n",
    "\n",
    "print('Number of turns:', df.shape[0])\n",
    "\n",
    "df[['Title', 'Debate', 'Date', 'Participants', 'Moderators', 'Speaker', 'Text']].to_json(f'{debate_title}.jsonl', orient='records', lines=True)\n",
    "\n",
    "df[['Title', 'Debate', 'Date', 'Participants', 'Moderators', 'Speaker', 'Text']].to_csv(f'{debate_title}.tsv', sep='\\t', index=False, encoding='utf-8', lineterminator='\\n')"
   ]
  },
  {
   "cell_type": "markdown",
   "id": "7a38ba31-8cd3-4a41-a78c-58ce54bac047",
   "metadata": {},
   "source": [
    "## Debate 13"
   ]
  },
  {
   "cell_type": "code",
   "execution_count": null,
   "id": "6786a948-f78b-425d-b541-9acefcf283c9",
   "metadata": {},
   "outputs": [],
   "source": [
    "debate_title = debate_1\n",
    "url = debate_url_1\n",
    "response = requests.get(url)\n",
    "\n",
    "if response.status_code == 200:\n",
    "    page_content = response.content\n",
    "    # Step 2: Parse HTML content\n",
    "    soup = BeautifulSoup(page_content, 'lxml')\n",
    "\n",
    "    # Extract relevant tags (e.g., <h1>, <p>, etc.) and store them in a list\n",
    "    rows = []\n",
    "    for tag in soup.find_all(['h1', 'p']):\n",
    "        rows.append(tag.text.strip())  # Remove leading/trailing spaces\n",
    "    \n",
    "    # Create a DataFrame from the list of rows\n",
    "    df = pd.DataFrame(rows, columns=['Text'])\n",
    "\n",
    "else:\n",
    "    print(f'Failed to retrieve the page. Status code: {response.status_code}')"
   ]
  },
  {
   "cell_type": "code",
   "execution_count": null,
   "id": "d4adc4b4-fab3-4581-86fd-3f124ee48d29",
   "metadata": {},
   "outputs": [],
   "source": [
    "df"
   ]
  },
  {
   "cell_type": "code",
   "execution_count": null,
   "id": "4fc8c354-2cf0-45a6-aa96-d5156976e58c",
   "metadata": {},
   "outputs": [],
   "source": [
    "df.head(10)"
   ]
  },
  {
   "cell_type": "code",
   "execution_count": null,
   "id": "a5962901-9867-4109-b5d2-f8079a81fe90",
   "metadata": {},
   "outputs": [],
   "source": [
    "title = df.at[0, 'Text']\n",
    "df['Title'] = title\n",
    "\n",
    "debate = df.at[1, 'Text']\n",
    "df['Debate'] = debate\n",
    "\n",
    "date = df.at[2, 'Text']\n",
    "df['Date'] = date\n",
    "\n",
    "participants = df.at[3, 'Text']\n",
    "participants = re.sub(r'^\\w+:\\n', '', participants)\n",
    "participants = re.sub(r'\\n', ' ', participants)\n",
    "df['Participants'] = participants\n",
    "\n",
    "moderators = df.at[4, 'Text']\n",
    "moderators = re.sub(r'^\\w+:\\n', '', moderators)\n",
    "df['Moderators'] = moderators"
   ]
  },
  {
   "cell_type": "code",
   "execution_count": null,
   "id": "6de91e67-e84d-4a90-9b8a-1a3c389c8355",
   "metadata": {},
   "outputs": [],
   "source": [
    "last_row = 250\n",
    "df.loc[last_row, 'Text']"
   ]
  },
  {
   "cell_type": "code",
   "execution_count": null,
   "id": "fb1f84a8-9094-4bec-b264-90afda0391eb",
   "metadata": {},
   "outputs": [],
   "source": [
    "df = df[~df['Text'].str.contains(df.loc[last_row, 'Text'])]"
   ]
  },
  {
   "cell_type": "code",
   "execution_count": null,
   "id": "df1390c1-d752-4e1d-94e3-b9b4895f3a0e",
   "metadata": {},
   "outputs": [],
   "source": [
    "df = df.loc[5:]\n",
    "df = df.reset_index(drop=True)"
   ]
  },
  {
   "cell_type": "code",
   "execution_count": null,
   "id": "bf12ef8c-89fa-4b02-b1ec-56d7f9664501",
   "metadata": {},
   "outputs": [],
   "source": [
    "# List of expressions whose rows in column 'Text' should be dropped\n",
    "expressions_to_drop = ['(APPLAUSE)', '(LAUGHTER)', '(CROSSTALK)']\n",
    "\n",
    "# Creating a boolean mask for rows starting with the specified expressions\n",
    "mask = df['Text'].str.startswith(tuple(expressions_to_drop))\n",
    "\n",
    "# Counting the number of rows for each expression\n",
    "counts = mask.value_counts()\n",
    "\n",
    "# Display the counts\n",
    "counts"
   ]
  },
  {
   "cell_type": "code",
   "execution_count": null,
   "id": "bdb74752-4591-495b-9e47-83f1f05ce81f",
   "metadata": {},
   "outputs": [],
   "source": [
    "# Dropping the rows that start with those expressions in column 'Text'\n",
    "df = df[~mask]"
   ]
  },
  {
   "cell_type": "code",
   "execution_count": null,
   "id": "9f7283bf-3cf0-431d-8cfb-3d9696425bc4",
   "metadata": {},
   "outputs": [],
   "source": [
    "df.head(1)"
   ]
  },
  {
   "cell_type": "code",
   "execution_count": null,
   "id": "73adffa3-bc42-46b6-a22f-ddff7dd024ab",
   "metadata": {},
   "outputs": [],
   "source": [
    "df.loc[0, 'Text']"
   ]
  },
  {
   "cell_type": "code",
   "execution_count": null,
   "id": "7d9da13c-16d1-46ce-87ee-7eb32aacb4d7",
   "metadata": {},
   "outputs": [],
   "source": [
    "df.at[0, 'Speaker'] = 1 # Adding column 'Speaker' by initialising it with a numeric value in order to avoid DtypeWarning\n",
    "df = df.astype('object') # Converting the column to the desired data type\n",
    "\n",
    "for index, row in df.iterrows():\n",
    "    match = re.match(r'^(\\w+):\\xa0', row['Text'])\n",
    "    if match:\n",
    "        speaker = match.group(1)\n",
    "        df.at[index, 'Speaker'] = speaker\n",
    "        text_without_speaker = row['Text'][len(match.group(0)):]\n",
    "        df.at[index, 'Text'] = text_without_speaker\n",
    "    else:\n",
    "        # Handle the case when no match is found (optional)\n",
    "        #df.at[index, 'Speaker'] = ''  # Set a default value\n",
    "        pass\n",
    "\n",
    "df['Speaker'].ffill(inplace=True)\n",
    "\n",
    "print('Number of turns:', df.shape[0])\n",
    "\n",
    "df[['Title', 'Debate', 'Date', 'Participants', 'Moderators', 'Speaker', 'Text']].to_json(f'{debate_title}.jsonl', orient='records', lines=True)\n",
    "\n",
    "df[['Title', 'Debate', 'Date', 'Participants', 'Moderators', 'Speaker', 'Text']].to_csv(f'{debate_title}.tsv', sep='\\t', index=False, encoding='utf-8', lineterminator='\\n')"
   ]
  },
  {
   "cell_type": "markdown",
   "id": "cb33261b-d38a-4ab1-989c-c7f8aaa43116",
   "metadata": {},
   "source": [
    "## Debate 14"
   ]
  },
  {
   "cell_type": "code",
   "execution_count": null,
   "id": "57743947-cb38-4395-8fcf-39d89f60854e",
   "metadata": {},
   "outputs": [],
   "source": [
    "debate_title = debate_1\n",
    "url = debate_url_1\n",
    "response = requests.get(url)\n",
    "\n",
    "if response.status_code == 200:\n",
    "    page_content = response.content\n",
    "    # Step 2: Parse HTML content\n",
    "    soup = BeautifulSoup(page_content, 'lxml')\n",
    "\n",
    "    # Extract relevant tags (e.g., <h1>, <p>, etc.) and store them in a list\n",
    "    rows = []\n",
    "    for tag in soup.find_all(['h1', 'p']):\n",
    "        rows.append(tag.text.strip())  # Remove leading/trailing spaces\n",
    "    \n",
    "    # Create a DataFrame from the list of rows\n",
    "    df = pd.DataFrame(rows, columns=['Text'])\n",
    "\n",
    "else:\n",
    "    print(f'Failed to retrieve the page. Status code: {response.status_code}')"
   ]
  },
  {
   "cell_type": "code",
   "execution_count": null,
   "id": "0e11cdc2-5f74-487f-83c8-8342e3503736",
   "metadata": {},
   "outputs": [],
   "source": [
    "df"
   ]
  },
  {
   "cell_type": "code",
   "execution_count": null,
   "id": "7599fc2a-a269-402e-9f5e-73f96f7e4659",
   "metadata": {},
   "outputs": [],
   "source": [
    "df.head(10)"
   ]
  },
  {
   "cell_type": "code",
   "execution_count": null,
   "id": "00663de9-01b3-46a9-9f95-bb99b16ad81a",
   "metadata": {},
   "outputs": [],
   "source": [
    "title = df.at[0, 'Text']\n",
    "df['Title'] = title\n",
    "\n",
    "debate = df.at[1, 'Text']\n",
    "df['Debate'] = debate\n",
    "\n",
    "date = df.at[2, 'Text']\n",
    "df['Date'] = date\n",
    "\n",
    "participants = df.at[3, 'Text']\n",
    "participants = re.sub(r'^\\w+:\\n', '', participants)\n",
    "participants = re.sub(r'\\n', ' ', participants)\n",
    "df['Participants'] = participants\n",
    "\n",
    "moderators = df.at[4, 'Text']\n",
    "moderators = re.sub(r'^\\w+:\\n', '', moderators)\n",
    "df['Moderators'] = moderators"
   ]
  },
  {
   "cell_type": "code",
   "execution_count": null,
   "id": "8ddff5f6-a5e6-4971-a585-efeb53a18f06",
   "metadata": {},
   "outputs": [],
   "source": [
    "last_row = 250\n",
    "df.loc[last_row, 'Text']"
   ]
  },
  {
   "cell_type": "code",
   "execution_count": null,
   "id": "811912f9-f91a-411e-a93a-f7d5a913cf91",
   "metadata": {},
   "outputs": [],
   "source": [
    "df = df[~df['Text'].str.contains(df.loc[last_row, 'Text'])]"
   ]
  },
  {
   "cell_type": "code",
   "execution_count": null,
   "id": "fdf31884-2133-4d5f-9e78-97a6f55cb99b",
   "metadata": {},
   "outputs": [],
   "source": [
    "df = df.loc[5:]\n",
    "df = df.reset_index(drop=True)"
   ]
  },
  {
   "cell_type": "code",
   "execution_count": null,
   "id": "112b60b7-c7f9-42aa-a5f5-67e1295d593c",
   "metadata": {},
   "outputs": [],
   "source": [
    "# List of expressions whose rows in column 'Text' should be dropped\n",
    "expressions_to_drop = ['(APPLAUSE)', '(LAUGHTER)', '(CROSSTALK)']\n",
    "\n",
    "# Creating a boolean mask for rows starting with the specified expressions\n",
    "mask = df['Text'].str.startswith(tuple(expressions_to_drop))\n",
    "\n",
    "# Counting the number of rows for each expression\n",
    "counts = mask.value_counts()\n",
    "\n",
    "# Display the counts\n",
    "counts"
   ]
  },
  {
   "cell_type": "code",
   "execution_count": null,
   "id": "302094e9-77cf-4bdd-8566-1043ec506e38",
   "metadata": {},
   "outputs": [],
   "source": [
    "# Dropping the rows that start with those expressions in column 'Text'\n",
    "df = df[~mask]"
   ]
  },
  {
   "cell_type": "code",
   "execution_count": null,
   "id": "07fe352b-fb02-49ed-820e-b799ca4b2c43",
   "metadata": {},
   "outputs": [],
   "source": [
    "df.head(1)"
   ]
  },
  {
   "cell_type": "code",
   "execution_count": null,
   "id": "83483c97-07d8-4eb9-948a-31e6e06b89bb",
   "metadata": {},
   "outputs": [],
   "source": [
    "df.loc[0, 'Text']"
   ]
  },
  {
   "cell_type": "code",
   "execution_count": null,
   "id": "84d39cdf-4732-4b55-a100-5b0e97ece8b3",
   "metadata": {},
   "outputs": [],
   "source": [
    "df.at[0, 'Speaker'] = 1 # Adding column 'Speaker' by initialising it with a numeric value in order to avoid DtypeWarning\n",
    "df = df.astype('object') # Converting the column to the desired data type\n",
    "\n",
    "for index, row in df.iterrows():\n",
    "    match = re.match(r'^(\\w+):\\xa0', row['Text'])\n",
    "    if match:\n",
    "        speaker = match.group(1)\n",
    "        df.at[index, 'Speaker'] = speaker\n",
    "        text_without_speaker = row['Text'][len(match.group(0)):]\n",
    "        df.at[index, 'Text'] = text_without_speaker\n",
    "    else:\n",
    "        # Handle the case when no match is found (optional)\n",
    "        #df.at[index, 'Speaker'] = ''  # Set a default value\n",
    "        pass\n",
    "\n",
    "df['Speaker'].ffill(inplace=True)\n",
    "\n",
    "print('Number of turns:', df.shape[0])\n",
    "\n",
    "df[['Title', 'Debate', 'Date', 'Participants', 'Moderators', 'Speaker', 'Text']].to_json(f'{debate_title}.jsonl', orient='records', lines=True)\n",
    "\n",
    "df[['Title', 'Debate', 'Date', 'Participants', 'Moderators', 'Speaker', 'Text']].to_csv(f'{debate_title}.tsv', sep='\\t', index=False, encoding='utf-8', lineterminator='\\n')"
   ]
  },
  {
   "cell_type": "markdown",
   "id": "53d9a50e-7736-443f-a14a-28f427ec1c13",
   "metadata": {},
   "source": [
    "## Debate 15"
   ]
  },
  {
   "cell_type": "code",
   "execution_count": null,
   "id": "4f34711c-1da4-4622-91f7-759d7be5054d",
   "metadata": {},
   "outputs": [],
   "source": [
    "debate_title = debate_1\n",
    "url = debate_url_1\n",
    "response = requests.get(url)\n",
    "\n",
    "if response.status_code == 200:\n",
    "    page_content = response.content\n",
    "    # Step 2: Parse HTML content\n",
    "    soup = BeautifulSoup(page_content, 'lxml')\n",
    "\n",
    "    # Extract relevant tags (e.g., <h1>, <p>, etc.) and store them in a list\n",
    "    rows = []\n",
    "    for tag in soup.find_all(['h1', 'p']):\n",
    "        rows.append(tag.text.strip())  # Remove leading/trailing spaces\n",
    "    \n",
    "    # Create a DataFrame from the list of rows\n",
    "    df = pd.DataFrame(rows, columns=['Text'])\n",
    "\n",
    "else:\n",
    "    print(f'Failed to retrieve the page. Status code: {response.status_code}')"
   ]
  },
  {
   "cell_type": "code",
   "execution_count": null,
   "id": "2251899b-e3b1-4be5-a7cd-893167b483c8",
   "metadata": {},
   "outputs": [],
   "source": [
    "df"
   ]
  },
  {
   "cell_type": "code",
   "execution_count": null,
   "id": "d5786d4f-0184-4c3a-82e9-9997b3776d4f",
   "metadata": {},
   "outputs": [],
   "source": [
    "df.head(10)"
   ]
  },
  {
   "cell_type": "code",
   "execution_count": null,
   "id": "c78abbc7-ef46-47ea-ba87-407ec2d238d0",
   "metadata": {},
   "outputs": [],
   "source": [
    "title = df.at[0, 'Text']\n",
    "df['Title'] = title\n",
    "\n",
    "debate = df.at[1, 'Text']\n",
    "df['Debate'] = debate\n",
    "\n",
    "date = df.at[2, 'Text']\n",
    "df['Date'] = date\n",
    "\n",
    "participants = df.at[3, 'Text']\n",
    "participants = re.sub(r'^\\w+:\\n', '', participants)\n",
    "participants = re.sub(r'\\n', ' ', participants)\n",
    "df['Participants'] = participants\n",
    "\n",
    "moderators = df.at[4, 'Text']\n",
    "moderators = re.sub(r'^\\w+:\\n', '', moderators)\n",
    "df['Moderators'] = moderators"
   ]
  },
  {
   "cell_type": "code",
   "execution_count": null,
   "id": "6ace5a9f-d427-4232-a6db-19f137aa2009",
   "metadata": {},
   "outputs": [],
   "source": [
    "last_row = 250\n",
    "df.loc[last_row, 'Text']"
   ]
  },
  {
   "cell_type": "code",
   "execution_count": null,
   "id": "fd005369-8eb3-4e92-9986-e0f776ed85d0",
   "metadata": {},
   "outputs": [],
   "source": [
    "df = df[~df['Text'].str.contains(df.loc[last_row, 'Text'])]"
   ]
  },
  {
   "cell_type": "code",
   "execution_count": null,
   "id": "1c8334c6-f7cc-4bbe-a8d3-7be98441b9dc",
   "metadata": {},
   "outputs": [],
   "source": [
    "df = df.loc[5:]\n",
    "df = df.reset_index(drop=True)"
   ]
  },
  {
   "cell_type": "code",
   "execution_count": null,
   "id": "3660abd5-8745-4e90-82a8-1266a9f93bd1",
   "metadata": {},
   "outputs": [],
   "source": [
    "# List of expressions whose rows in column 'Text' should be dropped\n",
    "expressions_to_drop = ['(APPLAUSE)', '(LAUGHTER)', '(CROSSTALK)']\n",
    "\n",
    "# Creating a boolean mask for rows starting with the specified expressions\n",
    "mask = df['Text'].str.startswith(tuple(expressions_to_drop))\n",
    "\n",
    "# Counting the number of rows for each expression\n",
    "counts = mask.value_counts()\n",
    "\n",
    "# Display the counts\n",
    "counts"
   ]
  },
  {
   "cell_type": "code",
   "execution_count": null,
   "id": "cc3acc67-de6a-4941-97b5-7a318e24cea2",
   "metadata": {},
   "outputs": [],
   "source": [
    "# Dropping the rows that start with those expressions in column 'Text'\n",
    "df = df[~mask]"
   ]
  },
  {
   "cell_type": "code",
   "execution_count": null,
   "id": "91115274-cb63-4d96-8828-3d02d95c0f7e",
   "metadata": {},
   "outputs": [],
   "source": [
    "df.head(1)"
   ]
  },
  {
   "cell_type": "code",
   "execution_count": null,
   "id": "3532cd18-59c0-408f-993c-93839f4d240d",
   "metadata": {},
   "outputs": [],
   "source": [
    "df.loc[0, 'Text']"
   ]
  },
  {
   "cell_type": "code",
   "execution_count": null,
   "id": "4c1aa7de-ddf8-4e68-8061-ee2b799dc00a",
   "metadata": {},
   "outputs": [],
   "source": [
    "df.at[0, 'Speaker'] = 1 # Adding column 'Speaker' by initialising it with a numeric value in order to avoid DtypeWarning\n",
    "df = df.astype('object') # Converting the column to the desired data type\n",
    "\n",
    "for index, row in df.iterrows():\n",
    "    match = re.match(r'^(\\w+):\\xa0', row['Text'])\n",
    "    if match:\n",
    "        speaker = match.group(1)\n",
    "        df.at[index, 'Speaker'] = speaker\n",
    "        text_without_speaker = row['Text'][len(match.group(0)):]\n",
    "        df.at[index, 'Text'] = text_without_speaker\n",
    "    else:\n",
    "        # Handle the case when no match is found (optional)\n",
    "        #df.at[index, 'Speaker'] = ''  # Set a default value\n",
    "        pass\n",
    "\n",
    "df['Speaker'].ffill(inplace=True)\n",
    "\n",
    "print('Number of turns:', df.shape[0])\n",
    "\n",
    "df[['Title', 'Debate', 'Date', 'Participants', 'Moderators', 'Speaker', 'Text']].to_json(f'{debate_title}.jsonl', orient='records', lines=True)\n",
    "\n",
    "df[['Title', 'Debate', 'Date', 'Participants', 'Moderators', 'Speaker', 'Text']].to_csv(f'{debate_title}.tsv', sep='\\t', index=False, encoding='utf-8', lineterminator='\\n')"
   ]
  },
  {
   "cell_type": "markdown",
   "id": "97b054ef-3422-4cd0-bdc1-957eae66d7ce",
   "metadata": {},
   "source": [
    "## Debate 16"
   ]
  },
  {
   "cell_type": "code",
   "execution_count": null,
   "id": "dc7ae5ae-3000-44ea-9036-6a6074608f47",
   "metadata": {},
   "outputs": [],
   "source": [
    "debate_title = debate_1\n",
    "url = debate_url_1\n",
    "response = requests.get(url)\n",
    "\n",
    "if response.status_code == 200:\n",
    "    page_content = response.content\n",
    "    # Step 2: Parse HTML content\n",
    "    soup = BeautifulSoup(page_content, 'lxml')\n",
    "\n",
    "    # Extract relevant tags (e.g., <h1>, <p>, etc.) and store them in a list\n",
    "    rows = []\n",
    "    for tag in soup.find_all(['h1', 'p']):\n",
    "        rows.append(tag.text.strip())  # Remove leading/trailing spaces\n",
    "    \n",
    "    # Create a DataFrame from the list of rows\n",
    "    df = pd.DataFrame(rows, columns=['Text'])\n",
    "\n",
    "else:\n",
    "    print(f'Failed to retrieve the page. Status code: {response.status_code}')"
   ]
  },
  {
   "cell_type": "code",
   "execution_count": null,
   "id": "c47f3935-465a-4c32-baa4-d908054ba608",
   "metadata": {},
   "outputs": [],
   "source": [
    "df"
   ]
  },
  {
   "cell_type": "code",
   "execution_count": null,
   "id": "04de09e9-4d1f-4221-a167-8b037ffdf7dd",
   "metadata": {},
   "outputs": [],
   "source": [
    "df.head(10)"
   ]
  },
  {
   "cell_type": "code",
   "execution_count": null,
   "id": "ef8c34a9-9670-4e4c-a582-420d648d3f44",
   "metadata": {},
   "outputs": [],
   "source": [
    "title = df.at[0, 'Text']\n",
    "df['Title'] = title\n",
    "\n",
    "debate = df.at[1, 'Text']\n",
    "df['Debate'] = debate\n",
    "\n",
    "date = df.at[2, 'Text']\n",
    "df['Date'] = date\n",
    "\n",
    "participants = df.at[3, 'Text']\n",
    "participants = re.sub(r'^\\w+:\\n', '', participants)\n",
    "participants = re.sub(r'\\n', ' ', participants)\n",
    "df['Participants'] = participants\n",
    "\n",
    "moderators = df.at[4, 'Text']\n",
    "moderators = re.sub(r'^\\w+:\\n', '', moderators)\n",
    "df['Moderators'] = moderators"
   ]
  },
  {
   "cell_type": "code",
   "execution_count": null,
   "id": "f59ac2fd-77ce-4cd4-85f4-03cee3ae9c0f",
   "metadata": {},
   "outputs": [],
   "source": [
    "last_row = 250\n",
    "df.loc[last_row, 'Text']"
   ]
  },
  {
   "cell_type": "code",
   "execution_count": null,
   "id": "5e1e6e7f-19ff-46ce-9817-92ead33b46bf",
   "metadata": {},
   "outputs": [],
   "source": [
    "df = df[~df['Text'].str.contains(df.loc[last_row, 'Text'])]"
   ]
  },
  {
   "cell_type": "code",
   "execution_count": null,
   "id": "33e9292c-7f0a-42af-a765-7dfe2a0a2758",
   "metadata": {},
   "outputs": [],
   "source": [
    "df = df.loc[5:]\n",
    "df = df.reset_index(drop=True)"
   ]
  },
  {
   "cell_type": "code",
   "execution_count": null,
   "id": "cd8dea35-d8cf-4c81-a720-aa72c155b09b",
   "metadata": {},
   "outputs": [],
   "source": [
    "# List of expressions whose rows in column 'Text' should be dropped\n",
    "expressions_to_drop = ['(APPLAUSE)', '(LAUGHTER)', '(CROSSTALK)']\n",
    "\n",
    "# Creating a boolean mask for rows starting with the specified expressions\n",
    "mask = df['Text'].str.startswith(tuple(expressions_to_drop))\n",
    "\n",
    "# Counting the number of rows for each expression\n",
    "counts = mask.value_counts()\n",
    "\n",
    "# Display the counts\n",
    "counts"
   ]
  },
  {
   "cell_type": "code",
   "execution_count": null,
   "id": "d1036f23-4af1-4bef-a065-cbc06c1bfe5e",
   "metadata": {},
   "outputs": [],
   "source": [
    "# Dropping the rows that start with those expressions in column 'Text'\n",
    "df = df[~mask]"
   ]
  },
  {
   "cell_type": "code",
   "execution_count": null,
   "id": "089a3ad4-38e9-4330-8bb8-a1c580170161",
   "metadata": {},
   "outputs": [],
   "source": [
    "df.head(1)"
   ]
  },
  {
   "cell_type": "code",
   "execution_count": null,
   "id": "2e28f004-e70b-4605-b423-b91c2c8da1b6",
   "metadata": {},
   "outputs": [],
   "source": [
    "df.loc[0, 'Text']"
   ]
  },
  {
   "cell_type": "code",
   "execution_count": null,
   "id": "9a496246-ce8d-44ed-b459-a0f87675a28a",
   "metadata": {},
   "outputs": [],
   "source": [
    "df.at[0, 'Speaker'] = 1 # Adding column 'Speaker' by initialising it with a numeric value in order to avoid DtypeWarning\n",
    "df = df.astype('object') # Converting the column to the desired data type\n",
    "\n",
    "for index, row in df.iterrows():\n",
    "    match = re.match(r'^(\\w+):\\xa0', row['Text'])\n",
    "    if match:\n",
    "        speaker = match.group(1)\n",
    "        df.at[index, 'Speaker'] = speaker\n",
    "        text_without_speaker = row['Text'][len(match.group(0)):]\n",
    "        df.at[index, 'Text'] = text_without_speaker\n",
    "    else:\n",
    "        # Handle the case when no match is found (optional)\n",
    "        #df.at[index, 'Speaker'] = ''  # Set a default value\n",
    "        pass\n",
    "\n",
    "df['Speaker'].ffill(inplace=True)\n",
    "\n",
    "print('Number of turns:', df.shape[0])\n",
    "\n",
    "df[['Title', 'Debate', 'Date', 'Participants', 'Moderators', 'Speaker', 'Text']].to_json(f'{debate_title}.jsonl', orient='records', lines=True)\n",
    "\n",
    "df[['Title', 'Debate', 'Date', 'Participants', 'Moderators', 'Speaker', 'Text']].to_csv(f'{debate_title}.tsv', sep='\\t', index=False, encoding='utf-8', lineterminator='\\n')"
   ]
  },
  {
   "cell_type": "markdown",
   "id": "cbf06aaf-affd-494f-8bb5-a55e2e24f376",
   "metadata": {},
   "source": [
    "## Debate 17"
   ]
  },
  {
   "cell_type": "code",
   "execution_count": null,
   "id": "aeb97ac9-ec91-4deb-9e78-818238f24586",
   "metadata": {},
   "outputs": [],
   "source": [
    "debate_title = debate_1\n",
    "url = debate_url_1\n",
    "response = requests.get(url)\n",
    "\n",
    "if response.status_code == 200:\n",
    "    page_content = response.content\n",
    "    # Step 2: Parse HTML content\n",
    "    soup = BeautifulSoup(page_content, 'lxml')\n",
    "\n",
    "    # Extract relevant tags (e.g., <h1>, <p>, etc.) and store them in a list\n",
    "    rows = []\n",
    "    for tag in soup.find_all(['h1', 'p']):\n",
    "        rows.append(tag.text.strip())  # Remove leading/trailing spaces\n",
    "    \n",
    "    # Create a DataFrame from the list of rows\n",
    "    df = pd.DataFrame(rows, columns=['Text'])\n",
    "\n",
    "else:\n",
    "    print(f'Failed to retrieve the page. Status code: {response.status_code}')"
   ]
  },
  {
   "cell_type": "code",
   "execution_count": null,
   "id": "64594062-f733-4068-b595-d0442af99929",
   "metadata": {},
   "outputs": [],
   "source": [
    "df"
   ]
  },
  {
   "cell_type": "code",
   "execution_count": null,
   "id": "08ac0713-fd0c-4185-9df9-71cb3f2ddabe",
   "metadata": {},
   "outputs": [],
   "source": [
    "df.head(10)"
   ]
  },
  {
   "cell_type": "code",
   "execution_count": null,
   "id": "5bd65219-b7df-4f2c-92b8-d4a8320b07ac",
   "metadata": {},
   "outputs": [],
   "source": [
    "title = df.at[0, 'Text']\n",
    "df['Title'] = title\n",
    "\n",
    "debate = df.at[1, 'Text']\n",
    "df['Debate'] = debate\n",
    "\n",
    "date = df.at[2, 'Text']\n",
    "df['Date'] = date\n",
    "\n",
    "participants = df.at[3, 'Text']\n",
    "participants = re.sub(r'^\\w+:\\n', '', participants)\n",
    "participants = re.sub(r'\\n', ' ', participants)\n",
    "df['Participants'] = participants\n",
    "\n",
    "moderators = df.at[4, 'Text']\n",
    "moderators = re.sub(r'^\\w+:\\n', '', moderators)\n",
    "df['Moderators'] = moderators"
   ]
  },
  {
   "cell_type": "code",
   "execution_count": null,
   "id": "7054319f-be3b-4159-bd2f-f8019e64addd",
   "metadata": {},
   "outputs": [],
   "source": [
    "last_row = 250\n",
    "df.loc[last_row, 'Text']"
   ]
  },
  {
   "cell_type": "code",
   "execution_count": null,
   "id": "9836f86b-d428-4550-8ce5-f0bf24df3b74",
   "metadata": {},
   "outputs": [],
   "source": [
    "df = df[~df['Text'].str.contains(df.loc[last_row, 'Text'])]"
   ]
  },
  {
   "cell_type": "code",
   "execution_count": null,
   "id": "b757664b-d989-4145-b01c-4d25bc39d874",
   "metadata": {},
   "outputs": [],
   "source": [
    "df = df.loc[5:]\n",
    "df = df.reset_index(drop=True)"
   ]
  },
  {
   "cell_type": "code",
   "execution_count": null,
   "id": "2478ddad-ebf8-43b3-92ee-ce730942c99d",
   "metadata": {},
   "outputs": [],
   "source": [
    "# List of expressions whose rows in column 'Text' should be dropped\n",
    "expressions_to_drop = ['(APPLAUSE)', '(LAUGHTER)', '(CROSSTALK)']\n",
    "\n",
    "# Creating a boolean mask for rows starting with the specified expressions\n",
    "mask = df['Text'].str.startswith(tuple(expressions_to_drop))\n",
    "\n",
    "# Counting the number of rows for each expression\n",
    "counts = mask.value_counts()\n",
    "\n",
    "# Display the counts\n",
    "counts"
   ]
  },
  {
   "cell_type": "code",
   "execution_count": null,
   "id": "2fb8ac78-0304-4302-a933-22b65fa038c2",
   "metadata": {},
   "outputs": [],
   "source": [
    "# Dropping the rows that start with those expressions in column 'Text'\n",
    "df = df[~mask]"
   ]
  },
  {
   "cell_type": "code",
   "execution_count": null,
   "id": "9edca2bd-a3b2-4c15-bce3-fdf3b1e5ced1",
   "metadata": {},
   "outputs": [],
   "source": [
    "df.head(1)"
   ]
  },
  {
   "cell_type": "code",
   "execution_count": null,
   "id": "7d4c6010-5627-4a8b-a6ab-762f29fda333",
   "metadata": {},
   "outputs": [],
   "source": [
    "df.loc[0, 'Text']"
   ]
  },
  {
   "cell_type": "code",
   "execution_count": null,
   "id": "101aa43a-a8e0-472c-a8d8-5d6bf028c068",
   "metadata": {},
   "outputs": [],
   "source": [
    "df.at[0, 'Speaker'] = 1 # Adding column 'Speaker' by initialising it with a numeric value in order to avoid DtypeWarning\n",
    "df = df.astype('object') # Converting the column to the desired data type\n",
    "\n",
    "for index, row in df.iterrows():\n",
    "    match = re.match(r'^(\\w+):\\xa0', row['Text'])\n",
    "    if match:\n",
    "        speaker = match.group(1)\n",
    "        df.at[index, 'Speaker'] = speaker\n",
    "        text_without_speaker = row['Text'][len(match.group(0)):]\n",
    "        df.at[index, 'Text'] = text_without_speaker\n",
    "    else:\n",
    "        # Handle the case when no match is found (optional)\n",
    "        #df.at[index, 'Speaker'] = ''  # Set a default value\n",
    "        pass\n",
    "\n",
    "df['Speaker'].ffill(inplace=True)\n",
    "\n",
    "print('Number of turns:', df.shape[0])\n",
    "\n",
    "df[['Title', 'Debate', 'Date', 'Participants', 'Moderators', 'Speaker', 'Text']].to_json(f'{debate_title}.jsonl', orient='records', lines=True)\n",
    "\n",
    "df[['Title', 'Debate', 'Date', 'Participants', 'Moderators', 'Speaker', 'Text']].to_csv(f'{debate_title}.tsv', sep='\\t', index=False, encoding='utf-8', lineterminator='\\n')"
   ]
  },
  {
   "cell_type": "markdown",
   "id": "94b26b70-be3c-4e14-9b99-845b98aaec88",
   "metadata": {},
   "source": [
    "## Debate 18"
   ]
  },
  {
   "cell_type": "code",
   "execution_count": null,
   "id": "e7177544-8dae-4ae6-92af-3e4dafe534f5",
   "metadata": {},
   "outputs": [],
   "source": [
    "debate_title = debate_1\n",
    "url = debate_url_1\n",
    "response = requests.get(url)\n",
    "\n",
    "if response.status_code == 200:\n",
    "    page_content = response.content\n",
    "    # Step 2: Parse HTML content\n",
    "    soup = BeautifulSoup(page_content, 'lxml')\n",
    "\n",
    "    # Extract relevant tags (e.g., <h1>, <p>, etc.) and store them in a list\n",
    "    rows = []\n",
    "    for tag in soup.find_all(['h1', 'p']):\n",
    "        rows.append(tag.text.strip())  # Remove leading/trailing spaces\n",
    "    \n",
    "    # Create a DataFrame from the list of rows\n",
    "    df = pd.DataFrame(rows, columns=['Text'])\n",
    "\n",
    "else:\n",
    "    print(f'Failed to retrieve the page. Status code: {response.status_code}')"
   ]
  },
  {
   "cell_type": "code",
   "execution_count": null,
   "id": "2a3b24e5-2b10-4fa2-bc50-35a2bd652b0e",
   "metadata": {},
   "outputs": [],
   "source": [
    "df"
   ]
  },
  {
   "cell_type": "code",
   "execution_count": null,
   "id": "b5c04b9e-626e-4fd8-8f85-4cfb4495f67c",
   "metadata": {},
   "outputs": [],
   "source": [
    "df.head(10)"
   ]
  },
  {
   "cell_type": "code",
   "execution_count": null,
   "id": "fc04b206-4f66-46d8-a85e-dfddb9074ebb",
   "metadata": {},
   "outputs": [],
   "source": [
    "title = df.at[0, 'Text']\n",
    "df['Title'] = title\n",
    "\n",
    "debate = df.at[1, 'Text']\n",
    "df['Debate'] = debate\n",
    "\n",
    "date = df.at[2, 'Text']\n",
    "df['Date'] = date\n",
    "\n",
    "participants = df.at[3, 'Text']\n",
    "participants = re.sub(r'^\\w+:\\n', '', participants)\n",
    "participants = re.sub(r'\\n', ' ', participants)\n",
    "df['Participants'] = participants\n",
    "\n",
    "moderators = df.at[4, 'Text']\n",
    "moderators = re.sub(r'^\\w+:\\n', '', moderators)\n",
    "df['Moderators'] = moderators"
   ]
  },
  {
   "cell_type": "code",
   "execution_count": null,
   "id": "91b38570-bb1e-4511-9778-06ed7c1babc8",
   "metadata": {},
   "outputs": [],
   "source": [
    "last_row = 250\n",
    "df.loc[last_row, 'Text']"
   ]
  },
  {
   "cell_type": "code",
   "execution_count": null,
   "id": "f413a1f8-afc5-4cfc-ae01-d0867d02f139",
   "metadata": {},
   "outputs": [],
   "source": [
    "df = df[~df['Text'].str.contains(df.loc[last_row, 'Text'])]"
   ]
  },
  {
   "cell_type": "code",
   "execution_count": null,
   "id": "3aab5034-3954-4a47-8600-bce254054ff6",
   "metadata": {},
   "outputs": [],
   "source": [
    "df = df.loc[5:]\n",
    "df = df.reset_index(drop=True)"
   ]
  },
  {
   "cell_type": "code",
   "execution_count": null,
   "id": "550cbb1d-7653-4ebf-bbd4-f5ad48f0b993",
   "metadata": {},
   "outputs": [],
   "source": [
    "# List of expressions whose rows in column 'Text' should be dropped\n",
    "expressions_to_drop = ['(APPLAUSE)', '(LAUGHTER)', '(CROSSTALK)']\n",
    "\n",
    "# Creating a boolean mask for rows starting with the specified expressions\n",
    "mask = df['Text'].str.startswith(tuple(expressions_to_drop))\n",
    "\n",
    "# Counting the number of rows for each expression\n",
    "counts = mask.value_counts()\n",
    "\n",
    "# Display the counts\n",
    "counts"
   ]
  },
  {
   "cell_type": "code",
   "execution_count": null,
   "id": "ce3b2136-483d-4d31-ac28-ba77e0ff9731",
   "metadata": {},
   "outputs": [],
   "source": [
    "# Dropping the rows that start with those expressions in column 'Text'\n",
    "df = df[~mask]"
   ]
  },
  {
   "cell_type": "code",
   "execution_count": null,
   "id": "c85c1616-de1d-4090-904d-520ff47349fa",
   "metadata": {},
   "outputs": [],
   "source": [
    "df.head(1)"
   ]
  },
  {
   "cell_type": "code",
   "execution_count": null,
   "id": "5cbc859e-5e21-43b9-a643-700340d95ff4",
   "metadata": {},
   "outputs": [],
   "source": [
    "df.loc[0, 'Text']"
   ]
  },
  {
   "cell_type": "code",
   "execution_count": null,
   "id": "7ccbd60b-1adf-49f6-bee8-c6792aaf741c",
   "metadata": {},
   "outputs": [],
   "source": [
    "df.at[0, 'Speaker'] = 1 # Adding column 'Speaker' by initialising it with a numeric value in order to avoid DtypeWarning\n",
    "df = df.astype('object') # Converting the column to the desired data type\n",
    "\n",
    "for index, row in df.iterrows():\n",
    "    match = re.match(r'^(\\w+):\\xa0', row['Text'])\n",
    "    if match:\n",
    "        speaker = match.group(1)\n",
    "        df.at[index, 'Speaker'] = speaker\n",
    "        text_without_speaker = row['Text'][len(match.group(0)):]\n",
    "        df.at[index, 'Text'] = text_without_speaker\n",
    "    else:\n",
    "        # Handle the case when no match is found (optional)\n",
    "        #df.at[index, 'Speaker'] = ''  # Set a default value\n",
    "        pass\n",
    "\n",
    "df['Speaker'].ffill(inplace=True)\n",
    "\n",
    "print('Number of turns:', df.shape[0])\n",
    "\n",
    "df[['Title', 'Debate', 'Date', 'Participants', 'Moderators', 'Speaker', 'Text']].to_json(f'{debate_title}.jsonl', orient='records', lines=True)\n",
    "\n",
    "df[['Title', 'Debate', 'Date', 'Participants', 'Moderators', 'Speaker', 'Text']].to_csv(f'{debate_title}.tsv', sep='\\t', index=False, encoding='utf-8', lineterminator='\\n')"
   ]
  },
  {
   "cell_type": "markdown",
   "id": "01e33a7f-220c-48c1-9f08-3bb928d01b1d",
   "metadata": {},
   "source": [
    "## Debate 19"
   ]
  },
  {
   "cell_type": "code",
   "execution_count": null,
   "id": "afb1edd0-9157-45aa-8b7c-528cbaf62595",
   "metadata": {},
   "outputs": [],
   "source": [
    "debate_title = debate_1\n",
    "url = debate_url_1\n",
    "response = requests.get(url)\n",
    "\n",
    "if response.status_code == 200:\n",
    "    page_content = response.content\n",
    "    # Step 2: Parse HTML content\n",
    "    soup = BeautifulSoup(page_content, 'lxml')\n",
    "\n",
    "    # Extract relevant tags (e.g., <h1>, <p>, etc.) and store them in a list\n",
    "    rows = []\n",
    "    for tag in soup.find_all(['h1', 'p']):\n",
    "        rows.append(tag.text.strip())  # Remove leading/trailing spaces\n",
    "    \n",
    "    # Create a DataFrame from the list of rows\n",
    "    df = pd.DataFrame(rows, columns=['Text'])\n",
    "\n",
    "else:\n",
    "    print(f'Failed to retrieve the page. Status code: {response.status_code}')"
   ]
  },
  {
   "cell_type": "code",
   "execution_count": null,
   "id": "9f3d59ef-c693-4c80-afc5-e5c1a2023689",
   "metadata": {},
   "outputs": [],
   "source": [
    "df"
   ]
  },
  {
   "cell_type": "code",
   "execution_count": null,
   "id": "e843222c-1b07-47e5-a2f3-4f29cd773ca9",
   "metadata": {},
   "outputs": [],
   "source": [
    "df.head(10)"
   ]
  },
  {
   "cell_type": "code",
   "execution_count": null,
   "id": "b2832a22-0c1e-41e7-baf2-7ced8cfdc296",
   "metadata": {},
   "outputs": [],
   "source": [
    "title = df.at[0, 'Text']\n",
    "df['Title'] = title\n",
    "\n",
    "debate = df.at[1, 'Text']\n",
    "df['Debate'] = debate\n",
    "\n",
    "date = df.at[2, 'Text']\n",
    "df['Date'] = date\n",
    "\n",
    "participants = df.at[3, 'Text']\n",
    "participants = re.sub(r'^\\w+:\\n', '', participants)\n",
    "participants = re.sub(r'\\n', ' ', participants)\n",
    "df['Participants'] = participants\n",
    "\n",
    "moderators = df.at[4, 'Text']\n",
    "moderators = re.sub(r'^\\w+:\\n', '', moderators)\n",
    "df['Moderators'] = moderators"
   ]
  },
  {
   "cell_type": "code",
   "execution_count": null,
   "id": "3982e9cb-9352-44da-9377-31baf0f411e5",
   "metadata": {},
   "outputs": [],
   "source": [
    "last_row = 250\n",
    "df.loc[last_row, 'Text']"
   ]
  },
  {
   "cell_type": "code",
   "execution_count": null,
   "id": "f3823339-b0e1-47da-9920-001a73aac362",
   "metadata": {},
   "outputs": [],
   "source": [
    "df = df[~df['Text'].str.contains(df.loc[last_row, 'Text'])]"
   ]
  },
  {
   "cell_type": "code",
   "execution_count": null,
   "id": "9a8d287d-c493-42f2-8f78-9425e7c63965",
   "metadata": {},
   "outputs": [],
   "source": [
    "df = df.loc[5:]\n",
    "df = df.reset_index(drop=True)"
   ]
  },
  {
   "cell_type": "code",
   "execution_count": null,
   "id": "dbad0607-a5e5-4dd4-976f-97fc541d00bf",
   "metadata": {},
   "outputs": [],
   "source": [
    "# List of expressions whose rows in column 'Text' should be dropped\n",
    "expressions_to_drop = ['(APPLAUSE)', '(LAUGHTER)', '(CROSSTALK)']\n",
    "\n",
    "# Creating a boolean mask for rows starting with the specified expressions\n",
    "mask = df['Text'].str.startswith(tuple(expressions_to_drop))\n",
    "\n",
    "# Counting the number of rows for each expression\n",
    "counts = mask.value_counts()\n",
    "\n",
    "# Display the counts\n",
    "counts"
   ]
  },
  {
   "cell_type": "code",
   "execution_count": null,
   "id": "8d5e8dfd-b900-4b13-a9ff-aa711a1b07f1",
   "metadata": {},
   "outputs": [],
   "source": [
    "# Dropping the rows that start with those expressions in column 'Text'\n",
    "df = df[~mask]"
   ]
  },
  {
   "cell_type": "code",
   "execution_count": null,
   "id": "2148068f-12f4-4f51-b140-e7e129c249e4",
   "metadata": {},
   "outputs": [],
   "source": [
    "df.head(1)"
   ]
  },
  {
   "cell_type": "code",
   "execution_count": null,
   "id": "f18cf1ae-9bd6-4988-b5dc-75da83581f3b",
   "metadata": {},
   "outputs": [],
   "source": [
    "df.loc[0, 'Text']"
   ]
  },
  {
   "cell_type": "code",
   "execution_count": null,
   "id": "a16febc3-55a0-4992-813c-e09a470ed135",
   "metadata": {},
   "outputs": [],
   "source": [
    "df.at[0, 'Speaker'] = 1 # Adding column 'Speaker' by initialising it with a numeric value in order to avoid DtypeWarning\n",
    "df = df.astype('object') # Converting the column to the desired data type\n",
    "\n",
    "for index, row in df.iterrows():\n",
    "    match = re.match(r'^(\\w+):\\xa0', row['Text'])\n",
    "    if match:\n",
    "        speaker = match.group(1)\n",
    "        df.at[index, 'Speaker'] = speaker\n",
    "        text_without_speaker = row['Text'][len(match.group(0)):]\n",
    "        df.at[index, 'Text'] = text_without_speaker\n",
    "    else:\n",
    "        # Handle the case when no match is found (optional)\n",
    "        #df.at[index, 'Speaker'] = ''  # Set a default value\n",
    "        pass\n",
    "\n",
    "df['Speaker'].ffill(inplace=True)\n",
    "\n",
    "print('Number of turns:', df.shape[0])\n",
    "\n",
    "df[['Title', 'Debate', 'Date', 'Participants', 'Moderators', 'Speaker', 'Text']].to_json(f'{debate_title}.jsonl', orient='records', lines=True)\n",
    "\n",
    "df[['Title', 'Debate', 'Date', 'Participants', 'Moderators', 'Speaker', 'Text']].to_csv(f'{debate_title}.tsv', sep='\\t', index=False, encoding='utf-8', lineterminator='\\n')"
   ]
  },
  {
   "cell_type": "markdown",
   "id": "7b9085d7-3be1-44e5-bdab-d59808c5b069",
   "metadata": {},
   "source": [
    "## Debate 20"
   ]
  },
  {
   "cell_type": "code",
   "execution_count": null,
   "id": "1e9b5401-ff18-4a6c-9c04-5970c65ee699",
   "metadata": {},
   "outputs": [],
   "source": [
    "debate_title = debate_1\n",
    "url = debate_url_1\n",
    "response = requests.get(url)\n",
    "\n",
    "if response.status_code == 200:\n",
    "    page_content = response.content\n",
    "    # Step 2: Parse HTML content\n",
    "    soup = BeautifulSoup(page_content, 'lxml')\n",
    "\n",
    "    # Extract relevant tags (e.g., <h1>, <p>, etc.) and store them in a list\n",
    "    rows = []\n",
    "    for tag in soup.find_all(['h1', 'p']):\n",
    "        rows.append(tag.text.strip())  # Remove leading/trailing spaces\n",
    "    \n",
    "    # Create a DataFrame from the list of rows\n",
    "    df = pd.DataFrame(rows, columns=['Text'])\n",
    "\n",
    "else:\n",
    "    print(f'Failed to retrieve the page. Status code: {response.status_code}')"
   ]
  },
  {
   "cell_type": "code",
   "execution_count": null,
   "id": "6a7716a2-000d-4eac-b42b-04a30e1c9ebd",
   "metadata": {},
   "outputs": [],
   "source": [
    "df"
   ]
  },
  {
   "cell_type": "code",
   "execution_count": null,
   "id": "d9c8a830-bb1a-40e5-be4f-a748f8fb83cb",
   "metadata": {},
   "outputs": [],
   "source": [
    "df.head(10)"
   ]
  },
  {
   "cell_type": "code",
   "execution_count": null,
   "id": "92952005-fa98-439e-948e-bdf977cd9003",
   "metadata": {},
   "outputs": [],
   "source": [
    "title = df.at[0, 'Text']\n",
    "df['Title'] = title\n",
    "\n",
    "debate = df.at[1, 'Text']\n",
    "df['Debate'] = debate\n",
    "\n",
    "date = df.at[2, 'Text']\n",
    "df['Date'] = date\n",
    "\n",
    "participants = df.at[3, 'Text']\n",
    "participants = re.sub(r'^\\w+:\\n', '', participants)\n",
    "participants = re.sub(r'\\n', ' ', participants)\n",
    "df['Participants'] = participants\n",
    "\n",
    "moderators = df.at[4, 'Text']\n",
    "moderators = re.sub(r'^\\w+:\\n', '', moderators)\n",
    "df['Moderators'] = moderators"
   ]
  },
  {
   "cell_type": "code",
   "execution_count": null,
   "id": "d93cf0fe-e7c9-4b62-8adb-e29022a5aacb",
   "metadata": {},
   "outputs": [],
   "source": [
    "last_row = 250\n",
    "df.loc[last_row, 'Text']"
   ]
  },
  {
   "cell_type": "code",
   "execution_count": null,
   "id": "6b2e9ff5-dfa9-422a-880c-b85425b3bee1",
   "metadata": {},
   "outputs": [],
   "source": [
    "df = df[~df['Text'].str.contains(df.loc[last_row, 'Text'])]"
   ]
  },
  {
   "cell_type": "code",
   "execution_count": null,
   "id": "d4270d47-c23d-48b8-a764-f3384028b420",
   "metadata": {},
   "outputs": [],
   "source": [
    "df = df.loc[5:]\n",
    "df = df.reset_index(drop=True)"
   ]
  },
  {
   "cell_type": "code",
   "execution_count": null,
   "id": "4efaa7cb-b119-40d7-a36e-34129b98b68c",
   "metadata": {},
   "outputs": [],
   "source": [
    "# List of expressions whose rows in column 'Text' should be dropped\n",
    "expressions_to_drop = ['(APPLAUSE)', '(LAUGHTER)', '(CROSSTALK)']\n",
    "\n",
    "# Creating a boolean mask for rows starting with the specified expressions\n",
    "mask = df['Text'].str.startswith(tuple(expressions_to_drop))\n",
    "\n",
    "# Counting the number of rows for each expression\n",
    "counts = mask.value_counts()\n",
    "\n",
    "# Display the counts\n",
    "counts"
   ]
  },
  {
   "cell_type": "code",
   "execution_count": null,
   "id": "79e39cba-76a8-4000-b022-fc57e82dd054",
   "metadata": {},
   "outputs": [],
   "source": [
    "# Dropping the rows that start with those expressions in column 'Text'\n",
    "df = df[~mask]"
   ]
  },
  {
   "cell_type": "code",
   "execution_count": null,
   "id": "ad4f5be7-6d85-4482-8113-28156d867984",
   "metadata": {},
   "outputs": [],
   "source": [
    "df.head(1)"
   ]
  },
  {
   "cell_type": "code",
   "execution_count": null,
   "id": "d158b25c-9236-480b-b24f-cfdd59555a69",
   "metadata": {},
   "outputs": [],
   "source": [
    "df.loc[0, 'Text']"
   ]
  },
  {
   "cell_type": "code",
   "execution_count": null,
   "id": "fdd4f05e-80b9-4759-96b1-e260cf61c96b",
   "metadata": {},
   "outputs": [],
   "source": [
    "df.at[0, 'Speaker'] = 1 # Adding column 'Speaker' by initialising it with a numeric value in order to avoid DtypeWarning\n",
    "df = df.astype('object') # Converting the column to the desired data type\n",
    "\n",
    "for index, row in df.iterrows():\n",
    "    match = re.match(r'^(\\w+):\\xa0', row['Text'])\n",
    "    if match:\n",
    "        speaker = match.group(1)\n",
    "        df.at[index, 'Speaker'] = speaker\n",
    "        text_without_speaker = row['Text'][len(match.group(0)):]\n",
    "        df.at[index, 'Text'] = text_without_speaker\n",
    "    else:\n",
    "        # Handle the case when no match is found (optional)\n",
    "        #df.at[index, 'Speaker'] = ''  # Set a default value\n",
    "        pass\n",
    "\n",
    "df['Speaker'].ffill(inplace=True)\n",
    "\n",
    "print('Number of turns:', df.shape[0])\n",
    "\n",
    "df[['Title', 'Debate', 'Date', 'Participants', 'Moderators', 'Speaker', 'Text']].to_json(f'{debate_title}.jsonl', orient='records', lines=True)\n",
    "\n",
    "df[['Title', 'Debate', 'Date', 'Participants', 'Moderators', 'Speaker', 'Text']].to_csv(f'{debate_title}.tsv', sep='\\t', index=False, encoding='utf-8', lineterminator='\\n')"
   ]
  },
  {
   "cell_type": "markdown",
   "id": "c6d1dc59-f470-44c8-98e7-bf4cba0379de",
   "metadata": {},
   "source": [
    "## Debate 21"
   ]
  },
  {
   "cell_type": "code",
   "execution_count": null,
   "id": "0b6e70c7-9e8a-4b0b-8a82-addd19bcddd1",
   "metadata": {},
   "outputs": [],
   "source": [
    "debate_title = debate_1\n",
    "url = debate_url_1\n",
    "response = requests.get(url)\n",
    "\n",
    "if response.status_code == 200:\n",
    "    page_content = response.content\n",
    "    # Step 2: Parse HTML content\n",
    "    soup = BeautifulSoup(page_content, 'lxml')\n",
    "\n",
    "    # Extract relevant tags (e.g., <h1>, <p>, etc.) and store them in a list\n",
    "    rows = []\n",
    "    for tag in soup.find_all(['h1', 'p']):\n",
    "        rows.append(tag.text.strip())  # Remove leading/trailing spaces\n",
    "    \n",
    "    # Create a DataFrame from the list of rows\n",
    "    df = pd.DataFrame(rows, columns=['Text'])\n",
    "\n",
    "else:\n",
    "    print(f'Failed to retrieve the page. Status code: {response.status_code}')"
   ]
  },
  {
   "cell_type": "code",
   "execution_count": null,
   "id": "5bcea455-af53-4cef-8b56-7b3cd7b554e4",
   "metadata": {},
   "outputs": [],
   "source": [
    "df"
   ]
  },
  {
   "cell_type": "code",
   "execution_count": null,
   "id": "ba654ae2-177e-4502-930b-9b787778e47e",
   "metadata": {},
   "outputs": [],
   "source": [
    "df.head(10)"
   ]
  },
  {
   "cell_type": "code",
   "execution_count": null,
   "id": "e9d8f971-4142-4598-bb09-4eaccb62bb35",
   "metadata": {},
   "outputs": [],
   "source": [
    "title = df.at[0, 'Text']\n",
    "df['Title'] = title\n",
    "\n",
    "debate = df.at[1, 'Text']\n",
    "df['Debate'] = debate\n",
    "\n",
    "date = df.at[2, 'Text']\n",
    "df['Date'] = date\n",
    "\n",
    "participants = df.at[3, 'Text']\n",
    "participants = re.sub(r'^\\w+:\\n', '', participants)\n",
    "participants = re.sub(r'\\n', ' ', participants)\n",
    "df['Participants'] = participants\n",
    "\n",
    "moderators = df.at[4, 'Text']\n",
    "moderators = re.sub(r'^\\w+:\\n', '', moderators)\n",
    "df['Moderators'] = moderators"
   ]
  },
  {
   "cell_type": "code",
   "execution_count": null,
   "id": "9ff2e102-0f16-4d80-ab73-f7ef77995583",
   "metadata": {},
   "outputs": [],
   "source": [
    "last_row = 250\n",
    "df.loc[last_row, 'Text']"
   ]
  },
  {
   "cell_type": "code",
   "execution_count": null,
   "id": "88c5e214-f5b4-4361-a4dc-c05f6af01926",
   "metadata": {},
   "outputs": [],
   "source": [
    "df = df[~df['Text'].str.contains(df.loc[last_row, 'Text'])]"
   ]
  },
  {
   "cell_type": "code",
   "execution_count": null,
   "id": "4edca69f-4955-4b93-9056-490d1ec7622c",
   "metadata": {},
   "outputs": [],
   "source": [
    "df = df.loc[5:]\n",
    "df = df.reset_index(drop=True)"
   ]
  },
  {
   "cell_type": "code",
   "execution_count": null,
   "id": "272c19c5-621a-4285-b3c9-acdcfddb5d10",
   "metadata": {},
   "outputs": [],
   "source": [
    "# List of expressions whose rows in column 'Text' should be dropped\n",
    "expressions_to_drop = ['(APPLAUSE)', '(LAUGHTER)', '(CROSSTALK)']\n",
    "\n",
    "# Creating a boolean mask for rows starting with the specified expressions\n",
    "mask = df['Text'].str.startswith(tuple(expressions_to_drop))\n",
    "\n",
    "# Counting the number of rows for each expression\n",
    "counts = mask.value_counts()\n",
    "\n",
    "# Display the counts\n",
    "counts"
   ]
  },
  {
   "cell_type": "code",
   "execution_count": null,
   "id": "918b113a-4fde-49e7-b950-eabc5f408202",
   "metadata": {},
   "outputs": [],
   "source": [
    "# Dropping the rows that start with those expressions in column 'Text'\n",
    "df = df[~mask]"
   ]
  },
  {
   "cell_type": "code",
   "execution_count": null,
   "id": "6a5b3396-08c7-4ccd-aa1d-1293c9fc5475",
   "metadata": {},
   "outputs": [],
   "source": [
    "df.head(1)"
   ]
  },
  {
   "cell_type": "code",
   "execution_count": null,
   "id": "b0f51f9b-edad-4a94-8182-cb7c0ef2b46c",
   "metadata": {},
   "outputs": [],
   "source": [
    "df.loc[0, 'Text']"
   ]
  },
  {
   "cell_type": "code",
   "execution_count": null,
   "id": "a23d9941-7f21-47e4-b327-78d3429c39fb",
   "metadata": {},
   "outputs": [],
   "source": [
    "df.at[0, 'Speaker'] = 1 # Adding column 'Speaker' by initialising it with a numeric value in order to avoid DtypeWarning\n",
    "df = df.astype('object') # Converting the column to the desired data type\n",
    "\n",
    "for index, row in df.iterrows():\n",
    "    match = re.match(r'^(\\w+):\\xa0', row['Text'])\n",
    "    if match:\n",
    "        speaker = match.group(1)\n",
    "        df.at[index, 'Speaker'] = speaker\n",
    "        text_without_speaker = row['Text'][len(match.group(0)):]\n",
    "        df.at[index, 'Text'] = text_without_speaker\n",
    "    else:\n",
    "        # Handle the case when no match is found (optional)\n",
    "        #df.at[index, 'Speaker'] = ''  # Set a default value\n",
    "        pass\n",
    "\n",
    "df['Speaker'].ffill(inplace=True)\n",
    "\n",
    "print('Number of turns:', df.shape[0])\n",
    "\n",
    "df[['Title', 'Debate', 'Date', 'Participants', 'Moderators', 'Speaker', 'Text']].to_json(f'{debate_title}.jsonl', orient='records', lines=True)\n",
    "\n",
    "df[['Title', 'Debate', 'Date', 'Participants', 'Moderators', 'Speaker', 'Text']].to_csv(f'{debate_title}.tsv', sep='\\t', index=False, encoding='utf-8', lineterminator='\\n')"
   ]
  },
  {
   "cell_type": "markdown",
   "id": "0e1d5f27-e472-4066-97a9-7ca0791244bc",
   "metadata": {},
   "source": [
    "## Debate 22"
   ]
  },
  {
   "cell_type": "code",
   "execution_count": null,
   "id": "3ee917a9-ed28-4b74-9d01-e7f60e4c9b0d",
   "metadata": {},
   "outputs": [],
   "source": [
    "debate_title = debate_1\n",
    "url = debate_url_1\n",
    "response = requests.get(url)\n",
    "\n",
    "if response.status_code == 200:\n",
    "    page_content = response.content\n",
    "    # Step 2: Parse HTML content\n",
    "    soup = BeautifulSoup(page_content, 'lxml')\n",
    "\n",
    "    # Extract relevant tags (e.g., <h1>, <p>, etc.) and store them in a list\n",
    "    rows = []\n",
    "    for tag in soup.find_all(['h1', 'p']):\n",
    "        rows.append(tag.text.strip())  # Remove leading/trailing spaces\n",
    "    \n",
    "    # Create a DataFrame from the list of rows\n",
    "    df = pd.DataFrame(rows, columns=['Text'])\n",
    "\n",
    "else:\n",
    "    print(f'Failed to retrieve the page. Status code: {response.status_code}')"
   ]
  },
  {
   "cell_type": "code",
   "execution_count": null,
   "id": "6c22c35c-fb66-4b29-ac47-0540c1652a1f",
   "metadata": {},
   "outputs": [],
   "source": [
    "df"
   ]
  },
  {
   "cell_type": "code",
   "execution_count": null,
   "id": "ec5174a5-0027-4c06-a44f-ff174513e70c",
   "metadata": {},
   "outputs": [],
   "source": [
    "df.head(10)"
   ]
  },
  {
   "cell_type": "code",
   "execution_count": null,
   "id": "fd482638-f3b8-431c-965b-70cb38035b5c",
   "metadata": {},
   "outputs": [],
   "source": [
    "title = df.at[0, 'Text']\n",
    "df['Title'] = title\n",
    "\n",
    "debate = df.at[1, 'Text']\n",
    "df['Debate'] = debate\n",
    "\n",
    "date = df.at[2, 'Text']\n",
    "df['Date'] = date\n",
    "\n",
    "participants = df.at[3, 'Text']\n",
    "participants = re.sub(r'^\\w+:\\n', '', participants)\n",
    "participants = re.sub(r'\\n', ' ', participants)\n",
    "df['Participants'] = participants\n",
    "\n",
    "moderators = df.at[4, 'Text']\n",
    "moderators = re.sub(r'^\\w+:\\n', '', moderators)\n",
    "df['Moderators'] = moderators"
   ]
  },
  {
   "cell_type": "code",
   "execution_count": null,
   "id": "a5fe7674-15fd-42f5-8c7b-4c75c94b81f7",
   "metadata": {},
   "outputs": [],
   "source": [
    "last_row = 250\n",
    "df.loc[last_row, 'Text']"
   ]
  },
  {
   "cell_type": "code",
   "execution_count": null,
   "id": "ea8c0bf9-0b12-4c21-96f7-57d8f23def3a",
   "metadata": {},
   "outputs": [],
   "source": [
    "df = df[~df['Text'].str.contains(df.loc[last_row, 'Text'])]"
   ]
  },
  {
   "cell_type": "code",
   "execution_count": null,
   "id": "0ec8dd64-9cd9-4453-8a59-34d11e8cb690",
   "metadata": {},
   "outputs": [],
   "source": [
    "df = df.loc[5:]\n",
    "df = df.reset_index(drop=True)"
   ]
  },
  {
   "cell_type": "code",
   "execution_count": null,
   "id": "5a839f53-7bf9-4920-833e-d98fa74c7023",
   "metadata": {},
   "outputs": [],
   "source": [
    "# List of expressions whose rows in column 'Text' should be dropped\n",
    "expressions_to_drop = ['(APPLAUSE)', '(LAUGHTER)', '(CROSSTALK)']\n",
    "\n",
    "# Creating a boolean mask for rows starting with the specified expressions\n",
    "mask = df['Text'].str.startswith(tuple(expressions_to_drop))\n",
    "\n",
    "# Counting the number of rows for each expression\n",
    "counts = mask.value_counts()\n",
    "\n",
    "# Display the counts\n",
    "counts"
   ]
  },
  {
   "cell_type": "code",
   "execution_count": null,
   "id": "e7ab382d-3820-48b4-8e8a-417c32840212",
   "metadata": {},
   "outputs": [],
   "source": [
    "# Dropping the rows that start with those expressions in column 'Text'\n",
    "df = df[~mask]"
   ]
  },
  {
   "cell_type": "code",
   "execution_count": null,
   "id": "a41ba0dc-abab-496a-92f8-cd8624f3a70d",
   "metadata": {},
   "outputs": [],
   "source": [
    "df.head(1)"
   ]
  },
  {
   "cell_type": "code",
   "execution_count": null,
   "id": "d3743165-0cb2-4fbd-83f2-e79d895d686f",
   "metadata": {},
   "outputs": [],
   "source": [
    "df.loc[0, 'Text']"
   ]
  },
  {
   "cell_type": "code",
   "execution_count": null,
   "id": "6cd160a1-a851-4465-b275-10d6642d0698",
   "metadata": {},
   "outputs": [],
   "source": [
    "df.at[0, 'Speaker'] = 1 # Adding column 'Speaker' by initialising it with a numeric value in order to avoid DtypeWarning\n",
    "df = df.astype('object') # Converting the column to the desired data type\n",
    "\n",
    "for index, row in df.iterrows():\n",
    "    match = re.match(r'^(\\w+):\\xa0', row['Text'])\n",
    "    if match:\n",
    "        speaker = match.group(1)\n",
    "        df.at[index, 'Speaker'] = speaker\n",
    "        text_without_speaker = row['Text'][len(match.group(0)):]\n",
    "        df.at[index, 'Text'] = text_without_speaker\n",
    "    else:\n",
    "        # Handle the case when no match is found (optional)\n",
    "        #df.at[index, 'Speaker'] = ''  # Set a default value\n",
    "        pass\n",
    "\n",
    "df['Speaker'].ffill(inplace=True)\n",
    "\n",
    "print('Number of turns:', df.shape[0])\n",
    "\n",
    "df[['Title', 'Debate', 'Date', 'Participants', 'Moderators', 'Speaker', 'Text']].to_json(f'{debate_title}.jsonl', orient='records', lines=True)\n",
    "\n",
    "df[['Title', 'Debate', 'Date', 'Participants', 'Moderators', 'Speaker', 'Text']].to_csv(f'{debate_title}.tsv', sep='\\t', index=False, encoding='utf-8', lineterminator='\\n')"
   ]
  },
  {
   "cell_type": "markdown",
   "id": "a4139cf5-36ef-4f9e-86dd-a4bdeaa0a23f",
   "metadata": {},
   "source": [
    "## Debate 23"
   ]
  },
  {
   "cell_type": "code",
   "execution_count": null,
   "id": "00bdc957-4cd6-40bd-a007-96ac9ccec91c",
   "metadata": {},
   "outputs": [],
   "source": [
    "debate_title = debate_1\n",
    "url = debate_url_1\n",
    "response = requests.get(url)\n",
    "\n",
    "if response.status_code == 200:\n",
    "    page_content = response.content\n",
    "    # Step 2: Parse HTML content\n",
    "    soup = BeautifulSoup(page_content, 'lxml')\n",
    "\n",
    "    # Extract relevant tags (e.g., <h1>, <p>, etc.) and store them in a list\n",
    "    rows = []\n",
    "    for tag in soup.find_all(['h1', 'p']):\n",
    "        rows.append(tag.text.strip())  # Remove leading/trailing spaces\n",
    "    \n",
    "    # Create a DataFrame from the list of rows\n",
    "    df = pd.DataFrame(rows, columns=['Text'])\n",
    "\n",
    "else:\n",
    "    print(f'Failed to retrieve the page. Status code: {response.status_code}')"
   ]
  },
  {
   "cell_type": "code",
   "execution_count": null,
   "id": "b7166d7a-d882-4b22-9ec5-4bf3399b3c36",
   "metadata": {},
   "outputs": [],
   "source": [
    "df"
   ]
  },
  {
   "cell_type": "code",
   "execution_count": null,
   "id": "dec9a6c0-e0c6-4d8a-bda1-0ee709751d64",
   "metadata": {},
   "outputs": [],
   "source": [
    "df.head(10)"
   ]
  },
  {
   "cell_type": "code",
   "execution_count": null,
   "id": "3e54d00f-e9e2-494e-aba6-b51161927227",
   "metadata": {},
   "outputs": [],
   "source": [
    "title = df.at[0, 'Text']\n",
    "df['Title'] = title\n",
    "\n",
    "debate = df.at[1, 'Text']\n",
    "df['Debate'] = debate\n",
    "\n",
    "date = df.at[2, 'Text']\n",
    "df['Date'] = date\n",
    "\n",
    "participants = df.at[3, 'Text']\n",
    "participants = re.sub(r'^\\w+:\\n', '', participants)\n",
    "participants = re.sub(r'\\n', ' ', participants)\n",
    "df['Participants'] = participants\n",
    "\n",
    "moderators = df.at[4, 'Text']\n",
    "moderators = re.sub(r'^\\w+:\\n', '', moderators)\n",
    "df['Moderators'] = moderators"
   ]
  },
  {
   "cell_type": "code",
   "execution_count": null,
   "id": "edcca765-908a-46d0-9b2e-d3621c5a165b",
   "metadata": {},
   "outputs": [],
   "source": [
    "last_row = 250\n",
    "df.loc[last_row, 'Text']"
   ]
  },
  {
   "cell_type": "code",
   "execution_count": null,
   "id": "d191131e-1be3-42c9-94d7-51b19fd7f840",
   "metadata": {},
   "outputs": [],
   "source": [
    "df = df[~df['Text'].str.contains(df.loc[last_row, 'Text'])]"
   ]
  },
  {
   "cell_type": "code",
   "execution_count": null,
   "id": "969ce6b0-565d-4c9b-bfd4-8c4efdde1db1",
   "metadata": {},
   "outputs": [],
   "source": [
    "df = df.loc[5:]\n",
    "df = df.reset_index(drop=True)"
   ]
  },
  {
   "cell_type": "code",
   "execution_count": null,
   "id": "6fc100ed-db75-4773-9ed2-e2d4a1d35adb",
   "metadata": {},
   "outputs": [],
   "source": [
    "# List of expressions whose rows in column 'Text' should be dropped\n",
    "expressions_to_drop = ['(APPLAUSE)', '(LAUGHTER)', '(CROSSTALK)']\n",
    "\n",
    "# Creating a boolean mask for rows starting with the specified expressions\n",
    "mask = df['Text'].str.startswith(tuple(expressions_to_drop))\n",
    "\n",
    "# Counting the number of rows for each expression\n",
    "counts = mask.value_counts()\n",
    "\n",
    "# Display the counts\n",
    "counts"
   ]
  },
  {
   "cell_type": "code",
   "execution_count": null,
   "id": "39a3e1d6-a4cb-4f95-836d-1c9ed67040d9",
   "metadata": {},
   "outputs": [],
   "source": [
    "# Dropping the rows that start with those expressions in column 'Text'\n",
    "df = df[~mask]"
   ]
  },
  {
   "cell_type": "code",
   "execution_count": null,
   "id": "0b23f446-c2bd-476d-97a3-bd31f4a2c511",
   "metadata": {},
   "outputs": [],
   "source": [
    "df.head(1)"
   ]
  },
  {
   "cell_type": "code",
   "execution_count": null,
   "id": "086858c7-d45c-421f-925d-00097e5f4242",
   "metadata": {},
   "outputs": [],
   "source": [
    "df.loc[0, 'Text']"
   ]
  },
  {
   "cell_type": "code",
   "execution_count": null,
   "id": "96c852ae-2727-4675-89a6-51b8f7d43210",
   "metadata": {},
   "outputs": [],
   "source": [
    "df.at[0, 'Speaker'] = 1 # Adding column 'Speaker' by initialising it with a numeric value in order to avoid DtypeWarning\n",
    "df = df.astype('object') # Converting the column to the desired data type\n",
    "\n",
    "for index, row in df.iterrows():\n",
    "    match = re.match(r'^(\\w+):\\xa0', row['Text'])\n",
    "    if match:\n",
    "        speaker = match.group(1)\n",
    "        df.at[index, 'Speaker'] = speaker\n",
    "        text_without_speaker = row['Text'][len(match.group(0)):]\n",
    "        df.at[index, 'Text'] = text_without_speaker\n",
    "    else:\n",
    "        # Handle the case when no match is found (optional)\n",
    "        #df.at[index, 'Speaker'] = ''  # Set a default value\n",
    "        pass\n",
    "\n",
    "df['Speaker'].ffill(inplace=True)\n",
    "\n",
    "print('Number of turns:', df.shape[0])\n",
    "\n",
    "df[['Title', 'Debate', 'Date', 'Participants', 'Moderators', 'Speaker', 'Text']].to_json(f'{debate_title}.jsonl', orient='records', lines=True)\n",
    "\n",
    "df[['Title', 'Debate', 'Date', 'Participants', 'Moderators', 'Speaker', 'Text']].to_csv(f'{debate_title}.tsv', sep='\\t', index=False, encoding='utf-8', lineterminator='\\n')"
   ]
  },
  {
   "cell_type": "markdown",
   "id": "326bc0cb-c100-4538-9a8a-633245d77846",
   "metadata": {},
   "source": [
    "## Debate 24"
   ]
  },
  {
   "cell_type": "code",
   "execution_count": null,
   "id": "94f7e502-019a-42f8-84fb-b473ce5b0649",
   "metadata": {},
   "outputs": [],
   "source": [
    "debate_title = debate_1\n",
    "url = debate_url_1\n",
    "response = requests.get(url)\n",
    "\n",
    "if response.status_code == 200:\n",
    "    page_content = response.content\n",
    "    # Step 2: Parse HTML content\n",
    "    soup = BeautifulSoup(page_content, 'lxml')\n",
    "\n",
    "    # Extract relevant tags (e.g., <h1>, <p>, etc.) and store them in a list\n",
    "    rows = []\n",
    "    for tag in soup.find_all(['h1', 'p']):\n",
    "        rows.append(tag.text.strip())  # Remove leading/trailing spaces\n",
    "    \n",
    "    # Create a DataFrame from the list of rows\n",
    "    df = pd.DataFrame(rows, columns=['Text'])\n",
    "\n",
    "else:\n",
    "    print(f'Failed to retrieve the page. Status code: {response.status_code}')"
   ]
  },
  {
   "cell_type": "code",
   "execution_count": null,
   "id": "ff88e0eb-bb1a-4c44-b590-9e52318fdf85",
   "metadata": {},
   "outputs": [],
   "source": [
    "df"
   ]
  },
  {
   "cell_type": "code",
   "execution_count": null,
   "id": "f1783889-bc01-4466-821c-985521127e18",
   "metadata": {},
   "outputs": [],
   "source": [
    "df.head(10)"
   ]
  },
  {
   "cell_type": "code",
   "execution_count": null,
   "id": "3ade98d5-bdb4-4b11-838c-f05ed0e02231",
   "metadata": {},
   "outputs": [],
   "source": [
    "title = df.at[0, 'Text']\n",
    "df['Title'] = title\n",
    "\n",
    "debate = df.at[1, 'Text']\n",
    "df['Debate'] = debate\n",
    "\n",
    "date = df.at[2, 'Text']\n",
    "df['Date'] = date\n",
    "\n",
    "participants = df.at[3, 'Text']\n",
    "participants = re.sub(r'^\\w+:\\n', '', participants)\n",
    "participants = re.sub(r'\\n', ' ', participants)\n",
    "df['Participants'] = participants\n",
    "\n",
    "moderators = df.at[4, 'Text']\n",
    "moderators = re.sub(r'^\\w+:\\n', '', moderators)\n",
    "df['Moderators'] = moderators"
   ]
  },
  {
   "cell_type": "code",
   "execution_count": null,
   "id": "a482d16f-4e86-43a7-b419-cfaa6636a46b",
   "metadata": {},
   "outputs": [],
   "source": [
    "last_row = 250\n",
    "df.loc[last_row, 'Text']"
   ]
  },
  {
   "cell_type": "code",
   "execution_count": null,
   "id": "b7344dd3-f2ba-416f-b34a-2cc254d93917",
   "metadata": {},
   "outputs": [],
   "source": [
    "df = df[~df['Text'].str.contains(df.loc[last_row, 'Text'])]"
   ]
  },
  {
   "cell_type": "code",
   "execution_count": null,
   "id": "936e6967-1117-4b29-8c6b-e12a2f65649d",
   "metadata": {},
   "outputs": [],
   "source": [
    "df = df.loc[5:]\n",
    "df = df.reset_index(drop=True)"
   ]
  },
  {
   "cell_type": "code",
   "execution_count": null,
   "id": "8aadb17e-4980-4131-9acd-f1ae79cfeb10",
   "metadata": {},
   "outputs": [],
   "source": [
    "# List of expressions whose rows in column 'Text' should be dropped\n",
    "expressions_to_drop = ['(APPLAUSE)', '(LAUGHTER)', '(CROSSTALK)']\n",
    "\n",
    "# Creating a boolean mask for rows starting with the specified expressions\n",
    "mask = df['Text'].str.startswith(tuple(expressions_to_drop))\n",
    "\n",
    "# Counting the number of rows for each expression\n",
    "counts = mask.value_counts()\n",
    "\n",
    "# Display the counts\n",
    "counts"
   ]
  },
  {
   "cell_type": "code",
   "execution_count": null,
   "id": "034f6c22-8462-4bb0-b7d8-f2f373d88375",
   "metadata": {},
   "outputs": [],
   "source": [
    "# Dropping the rows that start with those expressions in column 'Text'\n",
    "df = df[~mask]"
   ]
  },
  {
   "cell_type": "code",
   "execution_count": null,
   "id": "f957f702-a34a-4a64-a746-1757ebabb9a5",
   "metadata": {},
   "outputs": [],
   "source": [
    "df.head(1)"
   ]
  },
  {
   "cell_type": "code",
   "execution_count": null,
   "id": "ef47da94-eff3-4ab8-9d21-6716548ad595",
   "metadata": {},
   "outputs": [],
   "source": [
    "df.loc[0, 'Text']"
   ]
  },
  {
   "cell_type": "code",
   "execution_count": null,
   "id": "a07c1ce6-1852-4e53-9ea3-ad097cb936c0",
   "metadata": {},
   "outputs": [],
   "source": [
    "df.at[0, 'Speaker'] = 1 # Adding column 'Speaker' by initialising it with a numeric value in order to avoid DtypeWarning\n",
    "df = df.astype('object') # Converting the column to the desired data type\n",
    "\n",
    "for index, row in df.iterrows():\n",
    "    match = re.match(r'^(\\w+):\\xa0', row['Text'])\n",
    "    if match:\n",
    "        speaker = match.group(1)\n",
    "        df.at[index, 'Speaker'] = speaker\n",
    "        text_without_speaker = row['Text'][len(match.group(0)):]\n",
    "        df.at[index, 'Text'] = text_without_speaker\n",
    "    else:\n",
    "        # Handle the case when no match is found (optional)\n",
    "        #df.at[index, 'Speaker'] = ''  # Set a default value\n",
    "        pass\n",
    "\n",
    "df['Speaker'].ffill(inplace=True)\n",
    "\n",
    "print('Number of turns:', df.shape[0])\n",
    "\n",
    "df[['Title', 'Debate', 'Date', 'Participants', 'Moderators', 'Speaker', 'Text']].to_json(f'{debate_title}.jsonl', orient='records', lines=True)\n",
    "\n",
    "df[['Title', 'Debate', 'Date', 'Participants', 'Moderators', 'Speaker', 'Text']].to_csv(f'{debate_title}.tsv', sep='\\t', index=False, encoding='utf-8', lineterminator='\\n')"
   ]
  },
  {
   "cell_type": "markdown",
   "id": "95d46d93-0186-4313-8f42-ba47890de51f",
   "metadata": {},
   "source": [
    "## Debate 25"
   ]
  },
  {
   "cell_type": "code",
   "execution_count": null,
   "id": "a18391da-4929-4aee-852d-32ad3df030c1",
   "metadata": {},
   "outputs": [],
   "source": [
    "debate_title = debate_1\n",
    "url = debate_url_1\n",
    "response = requests.get(url)\n",
    "\n",
    "if response.status_code == 200:\n",
    "    page_content = response.content\n",
    "    # Step 2: Parse HTML content\n",
    "    soup = BeautifulSoup(page_content, 'lxml')\n",
    "\n",
    "    # Extract relevant tags (e.g., <h1>, <p>, etc.) and store them in a list\n",
    "    rows = []\n",
    "    for tag in soup.find_all(['h1', 'p']):\n",
    "        rows.append(tag.text.strip())  # Remove leading/trailing spaces\n",
    "    \n",
    "    # Create a DataFrame from the list of rows\n",
    "    df = pd.DataFrame(rows, columns=['Text'])\n",
    "\n",
    "else:\n",
    "    print(f'Failed to retrieve the page. Status code: {response.status_code}')"
   ]
  },
  {
   "cell_type": "code",
   "execution_count": null,
   "id": "4f8bfefe-f8bd-45a9-9b26-7e13ff148386",
   "metadata": {},
   "outputs": [],
   "source": [
    "df"
   ]
  },
  {
   "cell_type": "code",
   "execution_count": null,
   "id": "aa59ba6b-7238-48b7-8fb7-ce568e4cb28e",
   "metadata": {},
   "outputs": [],
   "source": [
    "df.head(10)"
   ]
  },
  {
   "cell_type": "code",
   "execution_count": null,
   "id": "4ad4e4a5-27f2-4e11-afbf-3400eab7583a",
   "metadata": {},
   "outputs": [],
   "source": [
    "title = df.at[0, 'Text']\n",
    "df['Title'] = title\n",
    "\n",
    "debate = df.at[1, 'Text']\n",
    "df['Debate'] = debate\n",
    "\n",
    "date = df.at[2, 'Text']\n",
    "df['Date'] = date\n",
    "\n",
    "participants = df.at[3, 'Text']\n",
    "participants = re.sub(r'^\\w+:\\n', '', participants)\n",
    "participants = re.sub(r'\\n', ' ', participants)\n",
    "df['Participants'] = participants\n",
    "\n",
    "moderators = df.at[4, 'Text']\n",
    "moderators = re.sub(r'^\\w+:\\n', '', moderators)\n",
    "df['Moderators'] = moderators"
   ]
  },
  {
   "cell_type": "code",
   "execution_count": null,
   "id": "1e1d9a56-00ff-4b76-b5cd-b43729715785",
   "metadata": {},
   "outputs": [],
   "source": [
    "last_row = 250\n",
    "df.loc[last_row, 'Text']"
   ]
  },
  {
   "cell_type": "code",
   "execution_count": null,
   "id": "11c9c4b1-07ec-46b5-ae06-883b63cd7fa5",
   "metadata": {},
   "outputs": [],
   "source": [
    "df = df[~df['Text'].str.contains(df.loc[last_row, 'Text'])]"
   ]
  },
  {
   "cell_type": "code",
   "execution_count": null,
   "id": "2e33b157-254a-4e71-a364-1b187a632bf3",
   "metadata": {},
   "outputs": [],
   "source": [
    "df = df.loc[5:]\n",
    "df = df.reset_index(drop=True)"
   ]
  },
  {
   "cell_type": "code",
   "execution_count": null,
   "id": "84b94ceb-32f3-4659-8508-f33b2557db96",
   "metadata": {},
   "outputs": [],
   "source": [
    "# List of expressions whose rows in column 'Text' should be dropped\n",
    "expressions_to_drop = ['(APPLAUSE)', '(LAUGHTER)', '(CROSSTALK)']\n",
    "\n",
    "# Creating a boolean mask for rows starting with the specified expressions\n",
    "mask = df['Text'].str.startswith(tuple(expressions_to_drop))\n",
    "\n",
    "# Counting the number of rows for each expression\n",
    "counts = mask.value_counts()\n",
    "\n",
    "# Display the counts\n",
    "counts"
   ]
  },
  {
   "cell_type": "code",
   "execution_count": null,
   "id": "e5793c03-19a1-4ea0-8c04-bc406b98df6d",
   "metadata": {},
   "outputs": [],
   "source": [
    "# Dropping the rows that start with those expressions in column 'Text'\n",
    "df = df[~mask]"
   ]
  },
  {
   "cell_type": "code",
   "execution_count": null,
   "id": "9cb9b429-a8d6-478c-a3c4-b47c74e44f57",
   "metadata": {},
   "outputs": [],
   "source": [
    "df.head(1)"
   ]
  },
  {
   "cell_type": "code",
   "execution_count": null,
   "id": "ce2cb51d-3ef7-4196-aa4e-84b099419caf",
   "metadata": {},
   "outputs": [],
   "source": [
    "df.loc[0, 'Text']"
   ]
  },
  {
   "cell_type": "code",
   "execution_count": null,
   "id": "9263b819-87d2-4188-86bc-1ba991a208cd",
   "metadata": {},
   "outputs": [],
   "source": [
    "df.at[0, 'Speaker'] = 1 # Adding column 'Speaker' by initialising it with a numeric value in order to avoid DtypeWarning\n",
    "df = df.astype('object') # Converting the column to the desired data type\n",
    "\n",
    "for index, row in df.iterrows():\n",
    "    match = re.match(r'^(\\w+):\\xa0', row['Text'])\n",
    "    if match:\n",
    "        speaker = match.group(1)\n",
    "        df.at[index, 'Speaker'] = speaker\n",
    "        text_without_speaker = row['Text'][len(match.group(0)):]\n",
    "        df.at[index, 'Text'] = text_without_speaker\n",
    "    else:\n",
    "        # Handle the case when no match is found (optional)\n",
    "        #df.at[index, 'Speaker'] = ''  # Set a default value\n",
    "        pass\n",
    "\n",
    "df['Speaker'].ffill(inplace=True)\n",
    "\n",
    "print('Number of turns:', df.shape[0])\n",
    "\n",
    "df[['Title', 'Debate', 'Date', 'Participants', 'Moderators', 'Speaker', 'Text']].to_json(f'{debate_title}.jsonl', orient='records', lines=True)\n",
    "\n",
    "df[['Title', 'Debate', 'Date', 'Participants', 'Moderators', 'Speaker', 'Text']].to_csv(f'{debate_title}.tsv', sep='\\t', index=False, encoding='utf-8', lineterminator='\\n')"
   ]
  },
  {
   "cell_type": "markdown",
   "id": "10ae30fa-0e24-4247-9296-9b61e22a1dba",
   "metadata": {},
   "source": [
    "## Debate 26"
   ]
  },
  {
   "cell_type": "code",
   "execution_count": null,
   "id": "ccdc8deb-d15e-433b-89d6-8e662e534a97",
   "metadata": {},
   "outputs": [],
   "source": [
    "debate_title = debate_1\n",
    "url = debate_url_1\n",
    "response = requests.get(url)\n",
    "\n",
    "if response.status_code == 200:\n",
    "    page_content = response.content\n",
    "    # Step 2: Parse HTML content\n",
    "    soup = BeautifulSoup(page_content, 'lxml')\n",
    "\n",
    "    # Extract relevant tags (e.g., <h1>, <p>, etc.) and store them in a list\n",
    "    rows = []\n",
    "    for tag in soup.find_all(['h1', 'p']):\n",
    "        rows.append(tag.text.strip())  # Remove leading/trailing spaces\n",
    "    \n",
    "    # Create a DataFrame from the list of rows\n",
    "    df = pd.DataFrame(rows, columns=['Text'])\n",
    "\n",
    "else:\n",
    "    print(f'Failed to retrieve the page. Status code: {response.status_code}')"
   ]
  },
  {
   "cell_type": "code",
   "execution_count": null,
   "id": "1fc206e1-fa63-4313-991a-8714ac365b6b",
   "metadata": {},
   "outputs": [],
   "source": [
    "df"
   ]
  },
  {
   "cell_type": "code",
   "execution_count": null,
   "id": "0e5496ee-da0d-42cb-b170-72e453c00f75",
   "metadata": {},
   "outputs": [],
   "source": [
    "df.head(10)"
   ]
  },
  {
   "cell_type": "code",
   "execution_count": null,
   "id": "eb8d6b43-6115-4db9-b43f-6c99d71e535b",
   "metadata": {},
   "outputs": [],
   "source": [
    "title = df.at[0, 'Text']\n",
    "df['Title'] = title\n",
    "\n",
    "debate = df.at[1, 'Text']\n",
    "df['Debate'] = debate\n",
    "\n",
    "date = df.at[2, 'Text']\n",
    "df['Date'] = date\n",
    "\n",
    "participants = df.at[3, 'Text']\n",
    "participants = re.sub(r'^\\w+:\\n', '', participants)\n",
    "participants = re.sub(r'\\n', ' ', participants)\n",
    "df['Participants'] = participants\n",
    "\n",
    "moderators = df.at[4, 'Text']\n",
    "moderators = re.sub(r'^\\w+:\\n', '', moderators)\n",
    "df['Moderators'] = moderators"
   ]
  },
  {
   "cell_type": "code",
   "execution_count": null,
   "id": "ae341845-b7a4-488a-8b93-2ea60e317c3f",
   "metadata": {},
   "outputs": [],
   "source": [
    "last_row = 250\n",
    "df.loc[last_row, 'Text']"
   ]
  },
  {
   "cell_type": "code",
   "execution_count": null,
   "id": "307f5642-76ae-4dcc-83c3-f07b6bbde332",
   "metadata": {},
   "outputs": [],
   "source": [
    "df = df[~df['Text'].str.contains(df.loc[last_row, 'Text'])]"
   ]
  },
  {
   "cell_type": "code",
   "execution_count": null,
   "id": "d53d32fe-e5b9-4073-8dc0-8a712bc26293",
   "metadata": {},
   "outputs": [],
   "source": [
    "df = df.loc[5:]\n",
    "df = df.reset_index(drop=True)"
   ]
  },
  {
   "cell_type": "code",
   "execution_count": null,
   "id": "3eb5bf0c-2817-499e-8c7f-912115b89fbd",
   "metadata": {},
   "outputs": [],
   "source": [
    "# List of expressions whose rows in column 'Text' should be dropped\n",
    "expressions_to_drop = ['(APPLAUSE)', '(LAUGHTER)', '(CROSSTALK)']\n",
    "\n",
    "# Creating a boolean mask for rows starting with the specified expressions\n",
    "mask = df['Text'].str.startswith(tuple(expressions_to_drop))\n",
    "\n",
    "# Counting the number of rows for each expression\n",
    "counts = mask.value_counts()\n",
    "\n",
    "# Display the counts\n",
    "counts"
   ]
  },
  {
   "cell_type": "code",
   "execution_count": null,
   "id": "ff521db2-f14d-439a-9e85-a64f8fbb6609",
   "metadata": {},
   "outputs": [],
   "source": [
    "# Dropping the rows that start with those expressions in column 'Text'\n",
    "df = df[~mask]"
   ]
  },
  {
   "cell_type": "code",
   "execution_count": null,
   "id": "d101dc7e-a65b-4dd0-be38-986bf667fb2c",
   "metadata": {},
   "outputs": [],
   "source": [
    "df.head(1)"
   ]
  },
  {
   "cell_type": "code",
   "execution_count": null,
   "id": "211f08a1-0431-44e3-a3c2-61a073a6533e",
   "metadata": {},
   "outputs": [],
   "source": [
    "df.loc[0, 'Text']"
   ]
  },
  {
   "cell_type": "code",
   "execution_count": null,
   "id": "68696692-eb2f-4e3e-bdef-baa88638defb",
   "metadata": {},
   "outputs": [],
   "source": [
    "df.at[0, 'Speaker'] = 1 # Adding column 'Speaker' by initialising it with a numeric value in order to avoid DtypeWarning\n",
    "df = df.astype('object') # Converting the column to the desired data type\n",
    "\n",
    "for index, row in df.iterrows():\n",
    "    match = re.match(r'^(\\w+):\\xa0', row['Text'])\n",
    "    if match:\n",
    "        speaker = match.group(1)\n",
    "        df.at[index, 'Speaker'] = speaker\n",
    "        text_without_speaker = row['Text'][len(match.group(0)):]\n",
    "        df.at[index, 'Text'] = text_without_speaker\n",
    "    else:\n",
    "        # Handle the case when no match is found (optional)\n",
    "        #df.at[index, 'Speaker'] = ''  # Set a default value\n",
    "        pass\n",
    "\n",
    "df['Speaker'].ffill(inplace=True)\n",
    "\n",
    "print('Number of turns:', df.shape[0])\n",
    "\n",
    "df[['Title', 'Debate', 'Date', 'Participants', 'Moderators', 'Speaker', 'Text']].to_json(f'{debate_title}.jsonl', orient='records', lines=True)\n",
    "\n",
    "df[['Title', 'Debate', 'Date', 'Participants', 'Moderators', 'Speaker', 'Text']].to_csv(f'{debate_title}.tsv', sep='\\t', index=False, encoding='utf-8', lineterminator='\\n')"
   ]
  },
  {
   "cell_type": "markdown",
   "id": "f6e9cc7e-43d1-457a-a803-b0c643741ee2",
   "metadata": {},
   "source": [
    "## Debate 27"
   ]
  },
  {
   "cell_type": "code",
   "execution_count": null,
   "id": "920535cb-b0c2-4052-acfb-9485fac6cfd1",
   "metadata": {},
   "outputs": [],
   "source": [
    "debate_title = debate_1\n",
    "url = debate_url_1\n",
    "response = requests.get(url)\n",
    "\n",
    "if response.status_code == 200:\n",
    "    page_content = response.content\n",
    "    # Step 2: Parse HTML content\n",
    "    soup = BeautifulSoup(page_content, 'lxml')\n",
    "\n",
    "    # Extract relevant tags (e.g., <h1>, <p>, etc.) and store them in a list\n",
    "    rows = []\n",
    "    for tag in soup.find_all(['h1', 'p']):\n",
    "        rows.append(tag.text.strip())  # Remove leading/trailing spaces\n",
    "    \n",
    "    # Create a DataFrame from the list of rows\n",
    "    df = pd.DataFrame(rows, columns=['Text'])\n",
    "\n",
    "else:\n",
    "    print(f'Failed to retrieve the page. Status code: {response.status_code}')"
   ]
  },
  {
   "cell_type": "code",
   "execution_count": null,
   "id": "40158619-a5af-4bd2-b896-d8e9ca4ccb0f",
   "metadata": {},
   "outputs": [],
   "source": [
    "df"
   ]
  },
  {
   "cell_type": "code",
   "execution_count": null,
   "id": "2f0a76ef-de07-4956-a837-8f1748946dd6",
   "metadata": {},
   "outputs": [],
   "source": [
    "df.head(10)"
   ]
  },
  {
   "cell_type": "code",
   "execution_count": null,
   "id": "1a004e5d-3318-4d64-b0a9-07f96ecfe652",
   "metadata": {},
   "outputs": [],
   "source": [
    "title = df.at[0, 'Text']\n",
    "df['Title'] = title\n",
    "\n",
    "debate = df.at[1, 'Text']\n",
    "df['Debate'] = debate\n",
    "\n",
    "date = df.at[2, 'Text']\n",
    "df['Date'] = date\n",
    "\n",
    "participants = df.at[3, 'Text']\n",
    "participants = re.sub(r'^\\w+:\\n', '', participants)\n",
    "participants = re.sub(r'\\n', ' ', participants)\n",
    "df['Participants'] = participants\n",
    "\n",
    "moderators = df.at[4, 'Text']\n",
    "moderators = re.sub(r'^\\w+:\\n', '', moderators)\n",
    "df['Moderators'] = moderators"
   ]
  },
  {
   "cell_type": "code",
   "execution_count": null,
   "id": "c2190cf0-00d8-425a-bb51-b4d319830699",
   "metadata": {},
   "outputs": [],
   "source": [
    "last_row = 250\n",
    "df.loc[last_row, 'Text']"
   ]
  },
  {
   "cell_type": "code",
   "execution_count": null,
   "id": "f94724ed-e369-4a5c-ba13-23c3982aabfd",
   "metadata": {},
   "outputs": [],
   "source": [
    "df = df[~df['Text'].str.contains(df.loc[last_row, 'Text'])]"
   ]
  },
  {
   "cell_type": "code",
   "execution_count": null,
   "id": "1c22ca5f-9ab1-4881-b83c-de3f8c7b9d92",
   "metadata": {},
   "outputs": [],
   "source": [
    "df = df.loc[5:]\n",
    "df = df.reset_index(drop=True)"
   ]
  },
  {
   "cell_type": "code",
   "execution_count": null,
   "id": "2556b8e8-9f03-4f49-beff-6386bff0e577",
   "metadata": {},
   "outputs": [],
   "source": [
    "# List of expressions whose rows in column 'Text' should be dropped\n",
    "expressions_to_drop = ['(APPLAUSE)', '(LAUGHTER)', '(CROSSTALK)']\n",
    "\n",
    "# Creating a boolean mask for rows starting with the specified expressions\n",
    "mask = df['Text'].str.startswith(tuple(expressions_to_drop))\n",
    "\n",
    "# Counting the number of rows for each expression\n",
    "counts = mask.value_counts()\n",
    "\n",
    "# Display the counts\n",
    "counts"
   ]
  },
  {
   "cell_type": "code",
   "execution_count": null,
   "id": "69e38335-9ca0-4f1a-bf99-7b9dfa684145",
   "metadata": {},
   "outputs": [],
   "source": [
    "# Dropping the rows that start with those expressions in column 'Text'\n",
    "df = df[~mask]"
   ]
  },
  {
   "cell_type": "code",
   "execution_count": null,
   "id": "34928057-2ea6-4a8f-96e2-a9ba6407e734",
   "metadata": {},
   "outputs": [],
   "source": [
    "df.head(1)"
   ]
  },
  {
   "cell_type": "code",
   "execution_count": null,
   "id": "b99b28b1-2f15-4878-8479-6bb3ab3e0a68",
   "metadata": {},
   "outputs": [],
   "source": [
    "df.loc[0, 'Text']"
   ]
  },
  {
   "cell_type": "code",
   "execution_count": null,
   "id": "f27ff6f7-5378-4cae-a5fe-0b4af73dfae1",
   "metadata": {},
   "outputs": [],
   "source": [
    "df.at[0, 'Speaker'] = 1 # Adding column 'Speaker' by initialising it with a numeric value in order to avoid DtypeWarning\n",
    "df = df.astype('object') # Converting the column to the desired data type\n",
    "\n",
    "for index, row in df.iterrows():\n",
    "    match = re.match(r'^(\\w+):\\xa0', row['Text'])\n",
    "    if match:\n",
    "        speaker = match.group(1)\n",
    "        df.at[index, 'Speaker'] = speaker\n",
    "        text_without_speaker = row['Text'][len(match.group(0)):]\n",
    "        df.at[index, 'Text'] = text_without_speaker\n",
    "    else:\n",
    "        # Handle the case when no match is found (optional)\n",
    "        #df.at[index, 'Speaker'] = ''  # Set a default value\n",
    "        pass\n",
    "\n",
    "df['Speaker'].ffill(inplace=True)\n",
    "\n",
    "print('Number of turns:', df.shape[0])\n",
    "\n",
    "df[['Title', 'Debate', 'Date', 'Participants', 'Moderators', 'Speaker', 'Text']].to_json(f'{debate_title}.jsonl', orient='records', lines=True)\n",
    "\n",
    "df[['Title', 'Debate', 'Date', 'Participants', 'Moderators', 'Speaker', 'Text']].to_csv(f'{debate_title}.tsv', sep='\\t', index=False, encoding='utf-8', lineterminator='\\n')"
   ]
  },
  {
   "cell_type": "markdown",
   "id": "44308425-fdf0-43d1-9bfb-1e5251f37fa8",
   "metadata": {},
   "source": [
    "## Debate 28"
   ]
  },
  {
   "cell_type": "code",
   "execution_count": null,
   "id": "a00a90cd-71ee-43fc-8186-9fccbed2c7ab",
   "metadata": {},
   "outputs": [],
   "source": [
    "debate_title = debate_1\n",
    "url = debate_url_1\n",
    "response = requests.get(url)\n",
    "\n",
    "if response.status_code == 200:\n",
    "    page_content = response.content\n",
    "    # Step 2: Parse HTML content\n",
    "    soup = BeautifulSoup(page_content, 'lxml')\n",
    "\n",
    "    # Extract relevant tags (e.g., <h1>, <p>, etc.) and store them in a list\n",
    "    rows = []\n",
    "    for tag in soup.find_all(['h1', 'p']):\n",
    "        rows.append(tag.text.strip())  # Remove leading/trailing spaces\n",
    "    \n",
    "    # Create a DataFrame from the list of rows\n",
    "    df = pd.DataFrame(rows, columns=['Text'])\n",
    "\n",
    "else:\n",
    "    print(f'Failed to retrieve the page. Status code: {response.status_code}')"
   ]
  },
  {
   "cell_type": "code",
   "execution_count": null,
   "id": "8b526998-2535-43c0-a162-6c2180020676",
   "metadata": {},
   "outputs": [],
   "source": [
    "df"
   ]
  },
  {
   "cell_type": "code",
   "execution_count": null,
   "id": "0512d2c7-df5a-4bc2-a84e-5e3844a0602e",
   "metadata": {},
   "outputs": [],
   "source": [
    "df.head(10)"
   ]
  },
  {
   "cell_type": "code",
   "execution_count": null,
   "id": "99a84c51-a26b-4228-bec2-16501ea46512",
   "metadata": {},
   "outputs": [],
   "source": [
    "title = df.at[0, 'Text']\n",
    "df['Title'] = title\n",
    "\n",
    "debate = df.at[1, 'Text']\n",
    "df['Debate'] = debate\n",
    "\n",
    "date = df.at[2, 'Text']\n",
    "df['Date'] = date\n",
    "\n",
    "participants = df.at[3, 'Text']\n",
    "participants = re.sub(r'^\\w+:\\n', '', participants)\n",
    "participants = re.sub(r'\\n', ' ', participants)\n",
    "df['Participants'] = participants\n",
    "\n",
    "moderators = df.at[4, 'Text']\n",
    "moderators = re.sub(r'^\\w+:\\n', '', moderators)\n",
    "df['Moderators'] = moderators"
   ]
  },
  {
   "cell_type": "code",
   "execution_count": null,
   "id": "f04e3169-bfc8-4d0e-9f2f-412450b20e64",
   "metadata": {},
   "outputs": [],
   "source": [
    "last_row = 250\n",
    "df.loc[last_row, 'Text']"
   ]
  },
  {
   "cell_type": "code",
   "execution_count": null,
   "id": "2d4b3a75-16bc-4702-aae9-f8ff4588a0a4",
   "metadata": {},
   "outputs": [],
   "source": [
    "df = df[~df['Text'].str.contains(df.loc[last_row, 'Text'])]"
   ]
  },
  {
   "cell_type": "code",
   "execution_count": null,
   "id": "7a803d3b-ba2e-4885-8e7d-6d3eb7c2b6e8",
   "metadata": {},
   "outputs": [],
   "source": [
    "df = df.loc[5:]\n",
    "df = df.reset_index(drop=True)"
   ]
  },
  {
   "cell_type": "code",
   "execution_count": null,
   "id": "310475c5-8755-4748-847f-b19a6a7fe0a6",
   "metadata": {},
   "outputs": [],
   "source": [
    "# List of expressions whose rows in column 'Text' should be dropped\n",
    "expressions_to_drop = ['(APPLAUSE)', '(LAUGHTER)', '(CROSSTALK)']\n",
    "\n",
    "# Creating a boolean mask for rows starting with the specified expressions\n",
    "mask = df['Text'].str.startswith(tuple(expressions_to_drop))\n",
    "\n",
    "# Counting the number of rows for each expression\n",
    "counts = mask.value_counts()\n",
    "\n",
    "# Display the counts\n",
    "counts"
   ]
  },
  {
   "cell_type": "code",
   "execution_count": null,
   "id": "dfff578d-d55c-4519-bc29-7309e5f19b63",
   "metadata": {},
   "outputs": [],
   "source": [
    "# Dropping the rows that start with those expressions in column 'Text'\n",
    "df = df[~mask]"
   ]
  },
  {
   "cell_type": "code",
   "execution_count": null,
   "id": "538c2eca-87d8-4f29-b1c3-30cfc1cde983",
   "metadata": {},
   "outputs": [],
   "source": [
    "df.head(1)"
   ]
  },
  {
   "cell_type": "code",
   "execution_count": null,
   "id": "c361fbbc-974a-499a-826f-e077fd192b3a",
   "metadata": {},
   "outputs": [],
   "source": [
    "df.loc[0, 'Text']"
   ]
  },
  {
   "cell_type": "code",
   "execution_count": null,
   "id": "562cfbd9-b9aa-46e1-aa91-7f48090fbf7f",
   "metadata": {},
   "outputs": [],
   "source": [
    "df.at[0, 'Speaker'] = 1 # Adding column 'Speaker' by initialising it with a numeric value in order to avoid DtypeWarning\n",
    "df = df.astype('object') # Converting the column to the desired data type\n",
    "\n",
    "for index, row in df.iterrows():\n",
    "    match = re.match(r'^(\\w+):\\xa0', row['Text'])\n",
    "    if match:\n",
    "        speaker = match.group(1)\n",
    "        df.at[index, 'Speaker'] = speaker\n",
    "        text_without_speaker = row['Text'][len(match.group(0)):]\n",
    "        df.at[index, 'Text'] = text_without_speaker\n",
    "    else:\n",
    "        # Handle the case when no match is found (optional)\n",
    "        #df.at[index, 'Speaker'] = ''  # Set a default value\n",
    "        pass\n",
    "\n",
    "df['Speaker'].ffill(inplace=True)\n",
    "\n",
    "print('Number of turns:', df.shape[0])\n",
    "\n",
    "df[['Title', 'Debate', 'Date', 'Participants', 'Moderators', 'Speaker', 'Text']].to_json(f'{debate_title}.jsonl', orient='records', lines=True)\n",
    "\n",
    "df[['Title', 'Debate', 'Date', 'Participants', 'Moderators', 'Speaker', 'Text']].to_csv(f'{debate_title}.tsv', sep='\\t', index=False, encoding='utf-8', lineterminator='\\n')"
   ]
  },
  {
   "cell_type": "markdown",
   "id": "955ff5a1-d77f-4494-a1da-ffd70ac06e63",
   "metadata": {},
   "source": [
    "## Debate 29"
   ]
  },
  {
   "cell_type": "code",
   "execution_count": null,
   "id": "96a6766e-089b-47ef-8d29-e3d6ddfc0cc1",
   "metadata": {},
   "outputs": [],
   "source": [
    "debate_title = debate_1\n",
    "url = debate_url_1\n",
    "response = requests.get(url)\n",
    "\n",
    "if response.status_code == 200:\n",
    "    page_content = response.content\n",
    "    # Step 2: Parse HTML content\n",
    "    soup = BeautifulSoup(page_content, 'lxml')\n",
    "\n",
    "    # Extract relevant tags (e.g., <h1>, <p>, etc.) and store them in a list\n",
    "    rows = []\n",
    "    for tag in soup.find_all(['h1', 'p']):\n",
    "        rows.append(tag.text.strip())  # Remove leading/trailing spaces\n",
    "    \n",
    "    # Create a DataFrame from the list of rows\n",
    "    df = pd.DataFrame(rows, columns=['Text'])\n",
    "\n",
    "else:\n",
    "    print(f'Failed to retrieve the page. Status code: {response.status_code}')"
   ]
  },
  {
   "cell_type": "code",
   "execution_count": null,
   "id": "da976ab7-a8b5-4113-a41b-078eaecdb86c",
   "metadata": {},
   "outputs": [],
   "source": [
    "df"
   ]
  },
  {
   "cell_type": "code",
   "execution_count": null,
   "id": "0c0fffae-5426-4da2-bc6d-ca8d9e53fa28",
   "metadata": {},
   "outputs": [],
   "source": [
    "df.head(10)"
   ]
  },
  {
   "cell_type": "code",
   "execution_count": null,
   "id": "73920b0d-5e52-484e-bc27-bf0576cd356e",
   "metadata": {},
   "outputs": [],
   "source": [
    "title = df.at[0, 'Text']\n",
    "df['Title'] = title\n",
    "\n",
    "debate = df.at[1, 'Text']\n",
    "df['Debate'] = debate\n",
    "\n",
    "date = df.at[2, 'Text']\n",
    "df['Date'] = date\n",
    "\n",
    "participants = df.at[3, 'Text']\n",
    "participants = re.sub(r'^\\w+:\\n', '', participants)\n",
    "participants = re.sub(r'\\n', ' ', participants)\n",
    "df['Participants'] = participants\n",
    "\n",
    "moderators = df.at[4, 'Text']\n",
    "moderators = re.sub(r'^\\w+:\\n', '', moderators)\n",
    "df['Moderators'] = moderators"
   ]
  },
  {
   "cell_type": "code",
   "execution_count": null,
   "id": "f58ce6b0-b293-492b-8961-d2ca5877e2c2",
   "metadata": {},
   "outputs": [],
   "source": [
    "last_row = 250\n",
    "df.loc[last_row, 'Text']"
   ]
  },
  {
   "cell_type": "code",
   "execution_count": null,
   "id": "6672d256-cca8-431e-a3c5-33f957d8c063",
   "metadata": {},
   "outputs": [],
   "source": [
    "df = df[~df['Text'].str.contains(df.loc[last_row, 'Text'])]"
   ]
  },
  {
   "cell_type": "code",
   "execution_count": null,
   "id": "e5eaa44b-2701-46e7-bd70-0178da797bb1",
   "metadata": {},
   "outputs": [],
   "source": [
    "df = df.loc[5:]\n",
    "df = df.reset_index(drop=True)"
   ]
  },
  {
   "cell_type": "code",
   "execution_count": null,
   "id": "2bb33219-03cd-45ce-bdf4-732036c5fa92",
   "metadata": {},
   "outputs": [],
   "source": [
    "# List of expressions whose rows in column 'Text' should be dropped\n",
    "expressions_to_drop = ['(APPLAUSE)', '(LAUGHTER)', '(CROSSTALK)']\n",
    "\n",
    "# Creating a boolean mask for rows starting with the specified expressions\n",
    "mask = df['Text'].str.startswith(tuple(expressions_to_drop))\n",
    "\n",
    "# Counting the number of rows for each expression\n",
    "counts = mask.value_counts()\n",
    "\n",
    "# Display the counts\n",
    "counts"
   ]
  },
  {
   "cell_type": "code",
   "execution_count": null,
   "id": "cae28a16-28ac-4293-9687-deec5355b2d0",
   "metadata": {},
   "outputs": [],
   "source": [
    "# Dropping the rows that start with those expressions in column 'Text'\n",
    "df = df[~mask]"
   ]
  },
  {
   "cell_type": "code",
   "execution_count": null,
   "id": "1c20ba5b-3de7-4bd3-af31-1afc5e8f1540",
   "metadata": {},
   "outputs": [],
   "source": [
    "df.head(1)"
   ]
  },
  {
   "cell_type": "code",
   "execution_count": null,
   "id": "347565f7-ab57-4463-ab54-f82f97ca4047",
   "metadata": {},
   "outputs": [],
   "source": [
    "df.loc[0, 'Text']"
   ]
  },
  {
   "cell_type": "code",
   "execution_count": null,
   "id": "e722ac42-2854-4c73-852b-f779d47fe57e",
   "metadata": {},
   "outputs": [],
   "source": [
    "df.at[0, 'Speaker'] = 1 # Adding column 'Speaker' by initialising it with a numeric value in order to avoid DtypeWarning\n",
    "df = df.astype('object') # Converting the column to the desired data type\n",
    "\n",
    "for index, row in df.iterrows():\n",
    "    match = re.match(r'^(\\w+):\\xa0', row['Text'])\n",
    "    if match:\n",
    "        speaker = match.group(1)\n",
    "        df.at[index, 'Speaker'] = speaker\n",
    "        text_without_speaker = row['Text'][len(match.group(0)):]\n",
    "        df.at[index, 'Text'] = text_without_speaker\n",
    "    else:\n",
    "        # Handle the case when no match is found (optional)\n",
    "        #df.at[index, 'Speaker'] = ''  # Set a default value\n",
    "        pass\n",
    "\n",
    "df['Speaker'].ffill(inplace=True)\n",
    "\n",
    "print('Number of turns:', df.shape[0])\n",
    "\n",
    "df[['Title', 'Debate', 'Date', 'Participants', 'Moderators', 'Speaker', 'Text']].to_json(f'{debate_title}.jsonl', orient='records', lines=True)\n",
    "\n",
    "df[['Title', 'Debate', 'Date', 'Participants', 'Moderators', 'Speaker', 'Text']].to_csv(f'{debate_title}.tsv', sep='\\t', index=False, encoding='utf-8', lineterminator='\\n')"
   ]
  },
  {
   "cell_type": "markdown",
   "id": "4911cef3-3007-4c14-8983-f669d2d61a86",
   "metadata": {},
   "source": [
    "## Debate 30"
   ]
  },
  {
   "cell_type": "code",
   "execution_count": null,
   "id": "1188e676-2a51-44e4-91f2-db7340309a1e",
   "metadata": {},
   "outputs": [],
   "source": [
    "debate_title = debate_1\n",
    "url = debate_url_1\n",
    "response = requests.get(url)\n",
    "\n",
    "if response.status_code == 200:\n",
    "    page_content = response.content\n",
    "    # Step 2: Parse HTML content\n",
    "    soup = BeautifulSoup(page_content, 'lxml')\n",
    "\n",
    "    # Extract relevant tags (e.g., <h1>, <p>, etc.) and store them in a list\n",
    "    rows = []\n",
    "    for tag in soup.find_all(['h1', 'p']):\n",
    "        rows.append(tag.text.strip())  # Remove leading/trailing spaces\n",
    "    \n",
    "    # Create a DataFrame from the list of rows\n",
    "    df = pd.DataFrame(rows, columns=['Text'])\n",
    "\n",
    "else:\n",
    "    print(f'Failed to retrieve the page. Status code: {response.status_code}')"
   ]
  },
  {
   "cell_type": "code",
   "execution_count": null,
   "id": "56b85b4a-f88d-46f8-8285-030ddeafd4d0",
   "metadata": {},
   "outputs": [],
   "source": [
    "df"
   ]
  },
  {
   "cell_type": "code",
   "execution_count": null,
   "id": "fd8c8b14-944f-4b9a-af2c-6e6a9f3e3392",
   "metadata": {},
   "outputs": [],
   "source": [
    "df.head(10)"
   ]
  },
  {
   "cell_type": "code",
   "execution_count": null,
   "id": "b13263fe-79ee-4636-b702-8cc92a802746",
   "metadata": {},
   "outputs": [],
   "source": [
    "title = df.at[0, 'Text']\n",
    "df['Title'] = title\n",
    "\n",
    "debate = df.at[1, 'Text']\n",
    "df['Debate'] = debate\n",
    "\n",
    "date = df.at[2, 'Text']\n",
    "df['Date'] = date\n",
    "\n",
    "participants = df.at[3, 'Text']\n",
    "participants = re.sub(r'^\\w+:\\n', '', participants)\n",
    "participants = re.sub(r'\\n', ' ', participants)\n",
    "df['Participants'] = participants\n",
    "\n",
    "moderators = df.at[4, 'Text']\n",
    "moderators = re.sub(r'^\\w+:\\n', '', moderators)\n",
    "df['Moderators'] = moderators"
   ]
  },
  {
   "cell_type": "code",
   "execution_count": null,
   "id": "7e8ba970-a7f6-456a-befa-54ec37de0762",
   "metadata": {},
   "outputs": [],
   "source": [
    "last_row = 250\n",
    "df.loc[last_row, 'Text']"
   ]
  },
  {
   "cell_type": "code",
   "execution_count": null,
   "id": "a2defeed-de92-4138-ae36-f028fe482dc4",
   "metadata": {},
   "outputs": [],
   "source": [
    "df = df[~df['Text'].str.contains(df.loc[last_row, 'Text'])]"
   ]
  },
  {
   "cell_type": "code",
   "execution_count": null,
   "id": "da8152c7-73dd-4d6a-8b73-23bda896c876",
   "metadata": {},
   "outputs": [],
   "source": [
    "df = df.loc[5:]\n",
    "df = df.reset_index(drop=True)"
   ]
  },
  {
   "cell_type": "code",
   "execution_count": null,
   "id": "bfabf97c-320a-4f7d-b9a2-1e654dbbd13b",
   "metadata": {},
   "outputs": [],
   "source": [
    "# List of expressions whose rows in column 'Text' should be dropped\n",
    "expressions_to_drop = ['(APPLAUSE)', '(LAUGHTER)', '(CROSSTALK)']\n",
    "\n",
    "# Creating a boolean mask for rows starting with the specified expressions\n",
    "mask = df['Text'].str.startswith(tuple(expressions_to_drop))\n",
    "\n",
    "# Counting the number of rows for each expression\n",
    "counts = mask.value_counts()\n",
    "\n",
    "# Display the counts\n",
    "counts"
   ]
  },
  {
   "cell_type": "code",
   "execution_count": null,
   "id": "fb670633-fd12-4791-80f5-cd30c74019b7",
   "metadata": {},
   "outputs": [],
   "source": [
    "# Dropping the rows that start with those expressions in column 'Text'\n",
    "df = df[~mask]"
   ]
  },
  {
   "cell_type": "code",
   "execution_count": null,
   "id": "07377bf7-fb9f-4cf2-8fc2-d7540a726593",
   "metadata": {},
   "outputs": [],
   "source": [
    "df.head(1)"
   ]
  },
  {
   "cell_type": "code",
   "execution_count": null,
   "id": "f2d71b5a-6279-439d-9f79-5270e61eda0b",
   "metadata": {},
   "outputs": [],
   "source": [
    "df.loc[0, 'Text']"
   ]
  },
  {
   "cell_type": "code",
   "execution_count": null,
   "id": "0f4acfd6-e25e-40d3-970a-ff5e1a3c7b25",
   "metadata": {},
   "outputs": [],
   "source": [
    "df.at[0, 'Speaker'] = 1 # Adding column 'Speaker' by initialising it with a numeric value in order to avoid DtypeWarning\n",
    "df = df.astype('object') # Converting the column to the desired data type\n",
    "\n",
    "for index, row in df.iterrows():\n",
    "    match = re.match(r'^(\\w+):\\xa0', row['Text'])\n",
    "    if match:\n",
    "        speaker = match.group(1)\n",
    "        df.at[index, 'Speaker'] = speaker\n",
    "        text_without_speaker = row['Text'][len(match.group(0)):]\n",
    "        df.at[index, 'Text'] = text_without_speaker\n",
    "    else:\n",
    "        # Handle the case when no match is found (optional)\n",
    "        #df.at[index, 'Speaker'] = ''  # Set a default value\n",
    "        pass\n",
    "\n",
    "df['Speaker'].ffill(inplace=True)\n",
    "\n",
    "print('Number of turns:', df.shape[0])\n",
    "\n",
    "df[['Title', 'Debate', 'Date', 'Participants', 'Moderators', 'Speaker', 'Text']].to_json(f'{debate_title}.jsonl', orient='records', lines=True)\n",
    "\n",
    "df[['Title', 'Debate', 'Date', 'Participants', 'Moderators', 'Speaker', 'Text']].to_csv(f'{debate_title}.tsv', sep='\\t', index=False, encoding='utf-8', lineterminator='\\n')"
   ]
  },
  {
   "cell_type": "markdown",
   "id": "91fbd946-bcca-4075-a345-bc25bc0a82ce",
   "metadata": {},
   "source": [
    "## Debate 31"
   ]
  },
  {
   "cell_type": "code",
   "execution_count": null,
   "id": "e329cd1c-6167-476c-8422-d95d29ef657c",
   "metadata": {},
   "outputs": [],
   "source": [
    "debate_title = debate_1\n",
    "url = debate_url_1\n",
    "response = requests.get(url)\n",
    "\n",
    "if response.status_code == 200:\n",
    "    page_content = response.content\n",
    "    # Step 2: Parse HTML content\n",
    "    soup = BeautifulSoup(page_content, 'lxml')\n",
    "\n",
    "    # Extract relevant tags (e.g., <h1>, <p>, etc.) and store them in a list\n",
    "    rows = []\n",
    "    for tag in soup.find_all(['h1', 'p']):\n",
    "        rows.append(tag.text.strip())  # Remove leading/trailing spaces\n",
    "    \n",
    "    # Create a DataFrame from the list of rows\n",
    "    df = pd.DataFrame(rows, columns=['Text'])\n",
    "\n",
    "else:\n",
    "    print(f'Failed to retrieve the page. Status code: {response.status_code}')"
   ]
  },
  {
   "cell_type": "code",
   "execution_count": null,
   "id": "8b4fdb92-c71d-4e19-946f-da4dc8a99a37",
   "metadata": {},
   "outputs": [],
   "source": [
    "df"
   ]
  },
  {
   "cell_type": "code",
   "execution_count": null,
   "id": "2ba740f9-399c-4625-8acd-c0c0dfba7d19",
   "metadata": {},
   "outputs": [],
   "source": [
    "df.head(10)"
   ]
  },
  {
   "cell_type": "code",
   "execution_count": null,
   "id": "7d2841db-f216-455e-865c-5924c5b6bf4e",
   "metadata": {},
   "outputs": [],
   "source": [
    "title = df.at[0, 'Text']\n",
    "df['Title'] = title\n",
    "\n",
    "debate = df.at[1, 'Text']\n",
    "df['Debate'] = debate\n",
    "\n",
    "date = df.at[2, 'Text']\n",
    "df['Date'] = date\n",
    "\n",
    "participants = df.at[3, 'Text']\n",
    "participants = re.sub(r'^\\w+:\\n', '', participants)\n",
    "participants = re.sub(r'\\n', ' ', participants)\n",
    "df['Participants'] = participants\n",
    "\n",
    "moderators = df.at[4, 'Text']\n",
    "moderators = re.sub(r'^\\w+:\\n', '', moderators)\n",
    "df['Moderators'] = moderators"
   ]
  },
  {
   "cell_type": "code",
   "execution_count": null,
   "id": "ab8c52e3-530d-467a-a2f0-cb8bbde2fded",
   "metadata": {},
   "outputs": [],
   "source": [
    "last_row = 250\n",
    "df.loc[last_row, 'Text']"
   ]
  },
  {
   "cell_type": "code",
   "execution_count": null,
   "id": "979615a2-38b8-4e72-bad4-51e9a0075d2d",
   "metadata": {},
   "outputs": [],
   "source": [
    "df = df[~df['Text'].str.contains(df.loc[last_row, 'Text'])]"
   ]
  },
  {
   "cell_type": "code",
   "execution_count": null,
   "id": "b7fadf49-7c7e-41f9-82df-2a19455b40eb",
   "metadata": {},
   "outputs": [],
   "source": [
    "df = df.loc[5:]\n",
    "df = df.reset_index(drop=True)"
   ]
  },
  {
   "cell_type": "code",
   "execution_count": null,
   "id": "2254e56c-94bc-4e7a-a1e7-4263b0fe5ad9",
   "metadata": {},
   "outputs": [],
   "source": [
    "# List of expressions whose rows in column 'Text' should be dropped\n",
    "expressions_to_drop = ['(APPLAUSE)', '(LAUGHTER)', '(CROSSTALK)']\n",
    "\n",
    "# Creating a boolean mask for rows starting with the specified expressions\n",
    "mask = df['Text'].str.startswith(tuple(expressions_to_drop))\n",
    "\n",
    "# Counting the number of rows for each expression\n",
    "counts = mask.value_counts()\n",
    "\n",
    "# Display the counts\n",
    "counts"
   ]
  },
  {
   "cell_type": "code",
   "execution_count": null,
   "id": "a0fd9c72-f3a5-46a9-ac5d-182c7ab19573",
   "metadata": {},
   "outputs": [],
   "source": [
    "# Dropping the rows that start with those expressions in column 'Text'\n",
    "df = df[~mask]"
   ]
  },
  {
   "cell_type": "code",
   "execution_count": null,
   "id": "970b2a36-7607-4c13-ac90-c9e4713e2191",
   "metadata": {},
   "outputs": [],
   "source": [
    "df.head(1)"
   ]
  },
  {
   "cell_type": "code",
   "execution_count": null,
   "id": "0983f087-bbc0-422f-b12c-8c72c53b8d6a",
   "metadata": {},
   "outputs": [],
   "source": [
    "df.loc[0, 'Text']"
   ]
  },
  {
   "cell_type": "code",
   "execution_count": null,
   "id": "239a1277-fdc4-4867-bfe5-c4acb55d2875",
   "metadata": {},
   "outputs": [],
   "source": [
    "df.at[0, 'Speaker'] = 1 # Adding column 'Speaker' by initialising it with a numeric value in order to avoid DtypeWarning\n",
    "df = df.astype('object') # Converting the column to the desired data type\n",
    "\n",
    "for index, row in df.iterrows():\n",
    "    match = re.match(r'^(\\w+):\\xa0', row['Text'])\n",
    "    if match:\n",
    "        speaker = match.group(1)\n",
    "        df.at[index, 'Speaker'] = speaker\n",
    "        text_without_speaker = row['Text'][len(match.group(0)):]\n",
    "        df.at[index, 'Text'] = text_without_speaker\n",
    "    else:\n",
    "        # Handle the case when no match is found (optional)\n",
    "        #df.at[index, 'Speaker'] = ''  # Set a default value\n",
    "        pass\n",
    "\n",
    "df['Speaker'].ffill(inplace=True)\n",
    "\n",
    "print('Number of turns:', df.shape[0])\n",
    "\n",
    "df[['Title', 'Debate', 'Date', 'Participants', 'Moderators', 'Speaker', 'Text']].to_json(f'{debate_title}.jsonl', orient='records', lines=True)\n",
    "\n",
    "df[['Title', 'Debate', 'Date', 'Participants', 'Moderators', 'Speaker', 'Text']].to_csv(f'{debate_title}.tsv', sep='\\t', index=False, encoding='utf-8', lineterminator='\\n')"
   ]
  },
  {
   "cell_type": "markdown",
   "id": "e0690072-4d65-47a7-9185-99c6e2cc010f",
   "metadata": {},
   "source": [
    "## Debate 32"
   ]
  },
  {
   "cell_type": "code",
   "execution_count": null,
   "id": "8e3d689d-b38d-4c66-b288-ab8c39ad0153",
   "metadata": {},
   "outputs": [],
   "source": [
    "debate_title = debate_1\n",
    "url = debate_url_1\n",
    "response = requests.get(url)\n",
    "\n",
    "if response.status_code == 200:\n",
    "    page_content = response.content\n",
    "    # Step 2: Parse HTML content\n",
    "    soup = BeautifulSoup(page_content, 'lxml')\n",
    "\n",
    "    # Extract relevant tags (e.g., <h1>, <p>, etc.) and store them in a list\n",
    "    rows = []\n",
    "    for tag in soup.find_all(['h1', 'p']):\n",
    "        rows.append(tag.text.strip())  # Remove leading/trailing spaces\n",
    "    \n",
    "    # Create a DataFrame from the list of rows\n",
    "    df = pd.DataFrame(rows, columns=['Text'])\n",
    "\n",
    "else:\n",
    "    print(f'Failed to retrieve the page. Status code: {response.status_code}')"
   ]
  },
  {
   "cell_type": "code",
   "execution_count": null,
   "id": "79dd1c48-e570-44a8-bf95-993e49d63906",
   "metadata": {},
   "outputs": [],
   "source": [
    "df"
   ]
  },
  {
   "cell_type": "code",
   "execution_count": null,
   "id": "165bd824-a7d7-4306-94e8-5ee8e6297b5a",
   "metadata": {},
   "outputs": [],
   "source": [
    "df.head(10)"
   ]
  },
  {
   "cell_type": "code",
   "execution_count": null,
   "id": "fda569c6-91c6-428f-a375-4856a8679968",
   "metadata": {},
   "outputs": [],
   "source": [
    "title = df.at[0, 'Text']\n",
    "df['Title'] = title\n",
    "\n",
    "debate = df.at[1, 'Text']\n",
    "df['Debate'] = debate\n",
    "\n",
    "date = df.at[2, 'Text']\n",
    "df['Date'] = date\n",
    "\n",
    "participants = df.at[3, 'Text']\n",
    "participants = re.sub(r'^\\w+:\\n', '', participants)\n",
    "participants = re.sub(r'\\n', ' ', participants)\n",
    "df['Participants'] = participants\n",
    "\n",
    "moderators = df.at[4, 'Text']\n",
    "moderators = re.sub(r'^\\w+:\\n', '', moderators)\n",
    "df['Moderators'] = moderators"
   ]
  },
  {
   "cell_type": "code",
   "execution_count": null,
   "id": "574bc863-7bbf-4a85-b52e-88b176e0c1f2",
   "metadata": {},
   "outputs": [],
   "source": [
    "last_row = 250\n",
    "df.loc[last_row, 'Text']"
   ]
  },
  {
   "cell_type": "code",
   "execution_count": null,
   "id": "5ef034e5-b7ce-4654-baa8-38e274aa9d56",
   "metadata": {},
   "outputs": [],
   "source": [
    "df = df[~df['Text'].str.contains(df.loc[last_row, 'Text'])]"
   ]
  },
  {
   "cell_type": "code",
   "execution_count": null,
   "id": "70aa1173-2526-43c0-8bc5-1ea41a343092",
   "metadata": {},
   "outputs": [],
   "source": [
    "df = df.loc[5:]\n",
    "df = df.reset_index(drop=True)"
   ]
  },
  {
   "cell_type": "code",
   "execution_count": null,
   "id": "b3afbcef-470b-43bc-b044-974682ab3d70",
   "metadata": {},
   "outputs": [],
   "source": [
    "# List of expressions whose rows in column 'Text' should be dropped\n",
    "expressions_to_drop = ['(APPLAUSE)', '(LAUGHTER)', '(CROSSTALK)']\n",
    "\n",
    "# Creating a boolean mask for rows starting with the specified expressions\n",
    "mask = df['Text'].str.startswith(tuple(expressions_to_drop))\n",
    "\n",
    "# Counting the number of rows for each expression\n",
    "counts = mask.value_counts()\n",
    "\n",
    "# Display the counts\n",
    "counts"
   ]
  },
  {
   "cell_type": "code",
   "execution_count": null,
   "id": "2ae0d998-10a1-471c-aa43-58347a72e00e",
   "metadata": {},
   "outputs": [],
   "source": [
    "# Dropping the rows that start with those expressions in column 'Text'\n",
    "df = df[~mask]"
   ]
  },
  {
   "cell_type": "code",
   "execution_count": null,
   "id": "4953ac29-1945-46b9-8b1f-d74036a92709",
   "metadata": {},
   "outputs": [],
   "source": [
    "df.head(1)"
   ]
  },
  {
   "cell_type": "code",
   "execution_count": null,
   "id": "2df84e8f-6726-42b7-a82f-77e5a99c6aae",
   "metadata": {},
   "outputs": [],
   "source": [
    "df.loc[0, 'Text']"
   ]
  },
  {
   "cell_type": "code",
   "execution_count": null,
   "id": "c843fdd2-2d03-4506-8d7c-16c3bab2ab55",
   "metadata": {},
   "outputs": [],
   "source": [
    "df.at[0, 'Speaker'] = 1 # Adding column 'Speaker' by initialising it with a numeric value in order to avoid DtypeWarning\n",
    "df = df.astype('object') # Converting the column to the desired data type\n",
    "\n",
    "for index, row in df.iterrows():\n",
    "    match = re.match(r'^(\\w+):\\xa0', row['Text'])\n",
    "    if match:\n",
    "        speaker = match.group(1)\n",
    "        df.at[index, 'Speaker'] = speaker\n",
    "        text_without_speaker = row['Text'][len(match.group(0)):]\n",
    "        df.at[index, 'Text'] = text_without_speaker\n",
    "    else:\n",
    "        # Handle the case when no match is found (optional)\n",
    "        #df.at[index, 'Speaker'] = ''  # Set a default value\n",
    "        pass\n",
    "\n",
    "df['Speaker'].ffill(inplace=True)\n",
    "\n",
    "print('Number of turns:', df.shape[0])\n",
    "\n",
    "df[['Title', 'Debate', 'Date', 'Participants', 'Moderators', 'Speaker', 'Text']].to_json(f'{debate_title}.jsonl', orient='records', lines=True)\n",
    "\n",
    "df[['Title', 'Debate', 'Date', 'Participants', 'Moderators', 'Speaker', 'Text']].to_csv(f'{debate_title}.tsv', sep='\\t', index=False, encoding='utf-8', lineterminator='\\n')"
   ]
  },
  {
   "cell_type": "markdown",
   "id": "c3a87e02-25a3-43fe-8e51-d3a23b948527",
   "metadata": {},
   "source": [
    "## Debate 33"
   ]
  },
  {
   "cell_type": "code",
   "execution_count": null,
   "id": "14121271-317b-4a27-893c-a389e80a3544",
   "metadata": {},
   "outputs": [],
   "source": [
    "debate_title = debate_1\n",
    "url = debate_url_1\n",
    "response = requests.get(url)\n",
    "\n",
    "if response.status_code == 200:\n",
    "    page_content = response.content\n",
    "    # Step 2: Parse HTML content\n",
    "    soup = BeautifulSoup(page_content, 'lxml')\n",
    "\n",
    "    # Extract relevant tags (e.g., <h1>, <p>, etc.) and store them in a list\n",
    "    rows = []\n",
    "    for tag in soup.find_all(['h1', 'p']):\n",
    "        rows.append(tag.text.strip())  # Remove leading/trailing spaces\n",
    "    \n",
    "    # Create a DataFrame from the list of rows\n",
    "    df = pd.DataFrame(rows, columns=['Text'])\n",
    "\n",
    "else:\n",
    "    print(f'Failed to retrieve the page. Status code: {response.status_code}')"
   ]
  },
  {
   "cell_type": "code",
   "execution_count": null,
   "id": "c839b571-f1e1-4356-bbde-440dd06d8b4f",
   "metadata": {},
   "outputs": [],
   "source": [
    "df"
   ]
  },
  {
   "cell_type": "code",
   "execution_count": null,
   "id": "87fdfb42-086e-4cfd-b249-e6c0ad44a3e5",
   "metadata": {},
   "outputs": [],
   "source": [
    "df.head(10)"
   ]
  },
  {
   "cell_type": "code",
   "execution_count": null,
   "id": "df3953e9-cb09-4937-b32b-7c3ccb5a04c5",
   "metadata": {},
   "outputs": [],
   "source": [
    "title = df.at[0, 'Text']\n",
    "df['Title'] = title\n",
    "\n",
    "debate = df.at[1, 'Text']\n",
    "df['Debate'] = debate\n",
    "\n",
    "date = df.at[2, 'Text']\n",
    "df['Date'] = date\n",
    "\n",
    "participants = df.at[3, 'Text']\n",
    "participants = re.sub(r'^\\w+:\\n', '', participants)\n",
    "participants = re.sub(r'\\n', ' ', participants)\n",
    "df['Participants'] = participants\n",
    "\n",
    "moderators = df.at[4, 'Text']\n",
    "moderators = re.sub(r'^\\w+:\\n', '', moderators)\n",
    "df['Moderators'] = moderators"
   ]
  },
  {
   "cell_type": "code",
   "execution_count": null,
   "id": "7982e658-75d5-430d-b0be-6839fed317ff",
   "metadata": {},
   "outputs": [],
   "source": [
    "last_row = 250\n",
    "df.loc[last_row, 'Text']"
   ]
  },
  {
   "cell_type": "code",
   "execution_count": null,
   "id": "24c653d5-4b9b-41a4-af73-36d081e85832",
   "metadata": {},
   "outputs": [],
   "source": [
    "df = df[~df['Text'].str.contains(df.loc[last_row, 'Text'])]"
   ]
  },
  {
   "cell_type": "code",
   "execution_count": null,
   "id": "b0a9f3a1-2450-4232-b971-a2cf9a191e12",
   "metadata": {},
   "outputs": [],
   "source": [
    "df = df.loc[5:]\n",
    "df = df.reset_index(drop=True)"
   ]
  },
  {
   "cell_type": "code",
   "execution_count": null,
   "id": "b3f82078-46e7-4fbe-8cf7-911606630b8b",
   "metadata": {},
   "outputs": [],
   "source": [
    "# List of expressions whose rows in column 'Text' should be dropped\n",
    "expressions_to_drop = ['(APPLAUSE)', '(LAUGHTER)', '(CROSSTALK)']\n",
    "\n",
    "# Creating a boolean mask for rows starting with the specified expressions\n",
    "mask = df['Text'].str.startswith(tuple(expressions_to_drop))\n",
    "\n",
    "# Counting the number of rows for each expression\n",
    "counts = mask.value_counts()\n",
    "\n",
    "# Display the counts\n",
    "counts"
   ]
  },
  {
   "cell_type": "code",
   "execution_count": null,
   "id": "07bc8e27-3b16-4cc8-bd22-802e87a02cf1",
   "metadata": {},
   "outputs": [],
   "source": [
    "# Dropping the rows that start with those expressions in column 'Text'\n",
    "df = df[~mask]"
   ]
  },
  {
   "cell_type": "code",
   "execution_count": null,
   "id": "883c3d05-6e34-4183-9f23-8cfd08a2bfb5",
   "metadata": {},
   "outputs": [],
   "source": [
    "df.head(1)"
   ]
  },
  {
   "cell_type": "code",
   "execution_count": null,
   "id": "de0f0d51-de74-402e-9bcd-d1b5db2c9188",
   "metadata": {},
   "outputs": [],
   "source": [
    "df.loc[0, 'Text']"
   ]
  },
  {
   "cell_type": "code",
   "execution_count": null,
   "id": "870698e5-9690-489c-bc9d-99b95cd53f13",
   "metadata": {},
   "outputs": [],
   "source": [
    "df.at[0, 'Speaker'] = 1 # Adding column 'Speaker' by initialising it with a numeric value in order to avoid DtypeWarning\n",
    "df = df.astype('object') # Converting the column to the desired data type\n",
    "\n",
    "for index, row in df.iterrows():\n",
    "    match = re.match(r'^(\\w+):\\xa0', row['Text'])\n",
    "    if match:\n",
    "        speaker = match.group(1)\n",
    "        df.at[index, 'Speaker'] = speaker\n",
    "        text_without_speaker = row['Text'][len(match.group(0)):]\n",
    "        df.at[index, 'Text'] = text_without_speaker\n",
    "    else:\n",
    "        # Handle the case when no match is found (optional)\n",
    "        #df.at[index, 'Speaker'] = ''  # Set a default value\n",
    "        pass\n",
    "\n",
    "df['Speaker'].ffill(inplace=True)\n",
    "\n",
    "print('Number of turns:', df.shape[0])\n",
    "\n",
    "df[['Title', 'Debate', 'Date', 'Participants', 'Moderators', 'Speaker', 'Text']].to_json(f'{debate_title}.jsonl', orient='records', lines=True)\n",
    "\n",
    "df[['Title', 'Debate', 'Date', 'Participants', 'Moderators', 'Speaker', 'Text']].to_csv(f'{debate_title}.tsv', sep='\\t', index=False, encoding='utf-8', lineterminator='\\n')"
   ]
  },
  {
   "cell_type": "markdown",
   "id": "ba1d7ec0-6a56-4499-9897-c13ce5fac6d7",
   "metadata": {},
   "source": [
    "## Debate 34"
   ]
  },
  {
   "cell_type": "code",
   "execution_count": null,
   "id": "a06805ea-e90c-4c3a-b497-daa516c76ef2",
   "metadata": {},
   "outputs": [],
   "source": [
    "debate_title = debate_1\n",
    "url = debate_url_1\n",
    "response = requests.get(url)\n",
    "\n",
    "if response.status_code == 200:\n",
    "    page_content = response.content\n",
    "    # Step 2: Parse HTML content\n",
    "    soup = BeautifulSoup(page_content, 'lxml')\n",
    "\n",
    "    # Extract relevant tags (e.g., <h1>, <p>, etc.) and store them in a list\n",
    "    rows = []\n",
    "    for tag in soup.find_all(['h1', 'p']):\n",
    "        rows.append(tag.text.strip())  # Remove leading/trailing spaces\n",
    "    \n",
    "    # Create a DataFrame from the list of rows\n",
    "    df = pd.DataFrame(rows, columns=['Text'])\n",
    "\n",
    "else:\n",
    "    print(f'Failed to retrieve the page. Status code: {response.status_code}')"
   ]
  },
  {
   "cell_type": "code",
   "execution_count": null,
   "id": "8009bd32-5e78-4638-8433-cf28c8f93f03",
   "metadata": {},
   "outputs": [],
   "source": [
    "df"
   ]
  },
  {
   "cell_type": "code",
   "execution_count": null,
   "id": "affb7d07-cdec-4493-af58-7d27ce5e80be",
   "metadata": {},
   "outputs": [],
   "source": [
    "df.head(10)"
   ]
  },
  {
   "cell_type": "code",
   "execution_count": null,
   "id": "794baf54-9bc7-4d9b-a3d5-f5c9d7e7dbf3",
   "metadata": {},
   "outputs": [],
   "source": [
    "title = df.at[0, 'Text']\n",
    "df['Title'] = title\n",
    "\n",
    "debate = df.at[1, 'Text']\n",
    "df['Debate'] = debate\n",
    "\n",
    "date = df.at[2, 'Text']\n",
    "df['Date'] = date\n",
    "\n",
    "participants = df.at[3, 'Text']\n",
    "participants = re.sub(r'^\\w+:\\n', '', participants)\n",
    "participants = re.sub(r'\\n', ' ', participants)\n",
    "df['Participants'] = participants\n",
    "\n",
    "moderators = df.at[4, 'Text']\n",
    "moderators = re.sub(r'^\\w+:\\n', '', moderators)\n",
    "df['Moderators'] = moderators"
   ]
  },
  {
   "cell_type": "code",
   "execution_count": null,
   "id": "11127c7e-fffb-4ace-928d-9055b120bc95",
   "metadata": {},
   "outputs": [],
   "source": [
    "last_row = 250\n",
    "df.loc[last_row, 'Text']"
   ]
  },
  {
   "cell_type": "code",
   "execution_count": null,
   "id": "3b063226-7eeb-4492-9f81-ea075ab3ca24",
   "metadata": {},
   "outputs": [],
   "source": [
    "df = df[~df['Text'].str.contains(df.loc[last_row, 'Text'])]"
   ]
  },
  {
   "cell_type": "code",
   "execution_count": null,
   "id": "1c4f4012-5e81-4595-b831-5216f9eea284",
   "metadata": {},
   "outputs": [],
   "source": [
    "df = df.loc[5:]\n",
    "df = df.reset_index(drop=True)"
   ]
  },
  {
   "cell_type": "code",
   "execution_count": null,
   "id": "817b8c85-a4c2-486f-bdbe-68bb4afb4387",
   "metadata": {},
   "outputs": [],
   "source": [
    "# List of expressions whose rows in column 'Text' should be dropped\n",
    "expressions_to_drop = ['(APPLAUSE)', '(LAUGHTER)', '(CROSSTALK)']\n",
    "\n",
    "# Creating a boolean mask for rows starting with the specified expressions\n",
    "mask = df['Text'].str.startswith(tuple(expressions_to_drop))\n",
    "\n",
    "# Counting the number of rows for each expression\n",
    "counts = mask.value_counts()\n",
    "\n",
    "# Display the counts\n",
    "counts"
   ]
  },
  {
   "cell_type": "code",
   "execution_count": null,
   "id": "ba69c937-be33-4b0f-a95b-e23cb45977e1",
   "metadata": {},
   "outputs": [],
   "source": [
    "# Dropping the rows that start with those expressions in column 'Text'\n",
    "df = df[~mask]"
   ]
  },
  {
   "cell_type": "code",
   "execution_count": null,
   "id": "415aebc3-a672-4337-b276-92d72d64a8f5",
   "metadata": {},
   "outputs": [],
   "source": [
    "df.head(1)"
   ]
  },
  {
   "cell_type": "code",
   "execution_count": null,
   "id": "6cc5c60f-d57f-4472-96cb-37d441cd9961",
   "metadata": {},
   "outputs": [],
   "source": [
    "df.loc[0, 'Text']"
   ]
  },
  {
   "cell_type": "code",
   "execution_count": null,
   "id": "2b9e9a5d-ac3d-4ec4-a994-44ada84af4fa",
   "metadata": {},
   "outputs": [],
   "source": [
    "df.at[0, 'Speaker'] = 1 # Adding column 'Speaker' by initialising it with a numeric value in order to avoid DtypeWarning\n",
    "df = df.astype('object') # Converting the column to the desired data type\n",
    "\n",
    "for index, row in df.iterrows():\n",
    "    match = re.match(r'^(\\w+):\\xa0', row['Text'])\n",
    "    if match:\n",
    "        speaker = match.group(1)\n",
    "        df.at[index, 'Speaker'] = speaker\n",
    "        text_without_speaker = row['Text'][len(match.group(0)):]\n",
    "        df.at[index, 'Text'] = text_without_speaker\n",
    "    else:\n",
    "        # Handle the case when no match is found (optional)\n",
    "        #df.at[index, 'Speaker'] = ''  # Set a default value\n",
    "        pass\n",
    "\n",
    "df['Speaker'].ffill(inplace=True)\n",
    "\n",
    "print('Number of turns:', df.shape[0])\n",
    "\n",
    "df[['Title', 'Debate', 'Date', 'Participants', 'Moderators', 'Speaker', 'Text']].to_json(f'{debate_title}.jsonl', orient='records', lines=True)\n",
    "\n",
    "df[['Title', 'Debate', 'Date', 'Participants', 'Moderators', 'Speaker', 'Text']].to_csv(f'{debate_title}.tsv', sep='\\t', index=False, encoding='utf-8', lineterminator='\\n')"
   ]
  },
  {
   "cell_type": "markdown",
   "id": "652b550d-ede0-4a89-a537-094db163094f",
   "metadata": {},
   "source": [
    "## Debate 35"
   ]
  },
  {
   "cell_type": "code",
   "execution_count": null,
   "id": "5b77f2e7-7b6a-43ce-b082-4f199a213ecf",
   "metadata": {},
   "outputs": [],
   "source": [
    "debate_title = debate_1\n",
    "url = debate_url_1\n",
    "response = requests.get(url)\n",
    "\n",
    "if response.status_code == 200:\n",
    "    page_content = response.content\n",
    "    # Step 2: Parse HTML content\n",
    "    soup = BeautifulSoup(page_content, 'lxml')\n",
    "\n",
    "    # Extract relevant tags (e.g., <h1>, <p>, etc.) and store them in a list\n",
    "    rows = []\n",
    "    for tag in soup.find_all(['h1', 'p']):\n",
    "        rows.append(tag.text.strip())  # Remove leading/trailing spaces\n",
    "    \n",
    "    # Create a DataFrame from the list of rows\n",
    "    df = pd.DataFrame(rows, columns=['Text'])\n",
    "\n",
    "else:\n",
    "    print(f'Failed to retrieve the page. Status code: {response.status_code}')"
   ]
  },
  {
   "cell_type": "code",
   "execution_count": null,
   "id": "762a90fa-5a75-47c5-addc-e135a2b50adf",
   "metadata": {},
   "outputs": [],
   "source": [
    "df"
   ]
  },
  {
   "cell_type": "code",
   "execution_count": null,
   "id": "de796445-a9ce-48d6-8353-dd558e92d668",
   "metadata": {},
   "outputs": [],
   "source": [
    "df.head(10)"
   ]
  },
  {
   "cell_type": "code",
   "execution_count": null,
   "id": "edd6ce26-4523-445f-a490-34a774741d00",
   "metadata": {},
   "outputs": [],
   "source": [
    "title = df.at[0, 'Text']\n",
    "df['Title'] = title\n",
    "\n",
    "debate = df.at[1, 'Text']\n",
    "df['Debate'] = debate\n",
    "\n",
    "date = df.at[2, 'Text']\n",
    "df['Date'] = date\n",
    "\n",
    "participants = df.at[3, 'Text']\n",
    "participants = re.sub(r'^\\w+:\\n', '', participants)\n",
    "participants = re.sub(r'\\n', ' ', participants)\n",
    "df['Participants'] = participants\n",
    "\n",
    "moderators = df.at[4, 'Text']\n",
    "moderators = re.sub(r'^\\w+:\\n', '', moderators)\n",
    "df['Moderators'] = moderators"
   ]
  },
  {
   "cell_type": "code",
   "execution_count": null,
   "id": "e8ae6312-e87f-442c-849c-435162f7aade",
   "metadata": {},
   "outputs": [],
   "source": [
    "last_row = 250\n",
    "df.loc[last_row, 'Text']"
   ]
  },
  {
   "cell_type": "code",
   "execution_count": null,
   "id": "7269ffe4-996d-4083-b11e-782ea86d8dd3",
   "metadata": {},
   "outputs": [],
   "source": [
    "df = df[~df['Text'].str.contains(df.loc[last_row, 'Text'])]"
   ]
  },
  {
   "cell_type": "code",
   "execution_count": null,
   "id": "ddaeaa80-1b78-4d40-8096-d08995f33423",
   "metadata": {},
   "outputs": [],
   "source": [
    "df = df.loc[5:]\n",
    "df = df.reset_index(drop=True)"
   ]
  },
  {
   "cell_type": "code",
   "execution_count": null,
   "id": "21ff8bca-900e-4e52-b127-4324e496a75e",
   "metadata": {},
   "outputs": [],
   "source": [
    "# List of expressions whose rows in column 'Text' should be dropped\n",
    "expressions_to_drop = ['(APPLAUSE)', '(LAUGHTER)', '(CROSSTALK)']\n",
    "\n",
    "# Creating a boolean mask for rows starting with the specified expressions\n",
    "mask = df['Text'].str.startswith(tuple(expressions_to_drop))\n",
    "\n",
    "# Counting the number of rows for each expression\n",
    "counts = mask.value_counts()\n",
    "\n",
    "# Display the counts\n",
    "counts"
   ]
  },
  {
   "cell_type": "code",
   "execution_count": null,
   "id": "b6f00e09-094f-41c7-91fe-8385c1adc8ff",
   "metadata": {},
   "outputs": [],
   "source": [
    "# Dropping the rows that start with those expressions in column 'Text'\n",
    "df = df[~mask]"
   ]
  },
  {
   "cell_type": "code",
   "execution_count": null,
   "id": "1479ffa1-c950-4327-a899-4c3d2f7fb8bc",
   "metadata": {},
   "outputs": [],
   "source": [
    "df.head(1)"
   ]
  },
  {
   "cell_type": "code",
   "execution_count": null,
   "id": "d23d51a2-8605-4cb4-967c-c313ef227c3b",
   "metadata": {},
   "outputs": [],
   "source": [
    "df.loc[0, 'Text']"
   ]
  },
  {
   "cell_type": "code",
   "execution_count": null,
   "id": "459e8ede-7e97-40c2-be22-dfaec95f2def",
   "metadata": {},
   "outputs": [],
   "source": [
    "df.at[0, 'Speaker'] = 1 # Adding column 'Speaker' by initialising it with a numeric value in order to avoid DtypeWarning\n",
    "df = df.astype('object') # Converting the column to the desired data type\n",
    "\n",
    "for index, row in df.iterrows():\n",
    "    match = re.match(r'^(\\w+):\\xa0', row['Text'])\n",
    "    if match:\n",
    "        speaker = match.group(1)\n",
    "        df.at[index, 'Speaker'] = speaker\n",
    "        text_without_speaker = row['Text'][len(match.group(0)):]\n",
    "        df.at[index, 'Text'] = text_without_speaker\n",
    "    else:\n",
    "        # Handle the case when no match is found (optional)\n",
    "        #df.at[index, 'Speaker'] = ''  # Set a default value\n",
    "        pass\n",
    "\n",
    "df['Speaker'].ffill(inplace=True)\n",
    "\n",
    "print('Number of turns:', df.shape[0])\n",
    "\n",
    "df[['Title', 'Debate', 'Date', 'Participants', 'Moderators', 'Speaker', 'Text']].to_json(f'{debate_title}.jsonl', orient='records', lines=True)\n",
    "\n",
    "df[['Title', 'Debate', 'Date', 'Participants', 'Moderators', 'Speaker', 'Text']].to_csv(f'{debate_title}.tsv', sep='\\t', index=False, encoding='utf-8', lineterminator='\\n')"
   ]
  },
  {
   "cell_type": "markdown",
   "id": "e94bcc98-fcc3-46f4-8bed-047752f2d40d",
   "metadata": {},
   "source": [
    "## Debate 36"
   ]
  },
  {
   "cell_type": "code",
   "execution_count": null,
   "id": "793a6e2e-4bba-47e1-aef4-3430a5365884",
   "metadata": {},
   "outputs": [],
   "source": [
    "debate_title = debate_1\n",
    "url = debate_url_1\n",
    "response = requests.get(url)\n",
    "\n",
    "if response.status_code == 200:\n",
    "    page_content = response.content\n",
    "    # Step 2: Parse HTML content\n",
    "    soup = BeautifulSoup(page_content, 'lxml')\n",
    "\n",
    "    # Extract relevant tags (e.g., <h1>, <p>, etc.) and store them in a list\n",
    "    rows = []\n",
    "    for tag in soup.find_all(['h1', 'p']):\n",
    "        rows.append(tag.text.strip())  # Remove leading/trailing spaces\n",
    "    \n",
    "    # Create a DataFrame from the list of rows\n",
    "    df = pd.DataFrame(rows, columns=['Text'])\n",
    "\n",
    "else:\n",
    "    print(f'Failed to retrieve the page. Status code: {response.status_code}')"
   ]
  },
  {
   "cell_type": "code",
   "execution_count": null,
   "id": "f4e9fe60-3b45-4ccb-a40d-b057bca1ba0d",
   "metadata": {},
   "outputs": [],
   "source": [
    "df"
   ]
  },
  {
   "cell_type": "code",
   "execution_count": null,
   "id": "59097f9e-0d37-48b1-b1f5-bc2c641f7a0b",
   "metadata": {},
   "outputs": [],
   "source": [
    "df.head(10)"
   ]
  },
  {
   "cell_type": "code",
   "execution_count": null,
   "id": "e736f02f-3b52-4042-b9d8-91c3174dafb4",
   "metadata": {},
   "outputs": [],
   "source": [
    "title = df.at[0, 'Text']\n",
    "df['Title'] = title\n",
    "\n",
    "debate = df.at[1, 'Text']\n",
    "df['Debate'] = debate\n",
    "\n",
    "date = df.at[2, 'Text']\n",
    "df['Date'] = date\n",
    "\n",
    "participants = df.at[3, 'Text']\n",
    "participants = re.sub(r'^\\w+:\\n', '', participants)\n",
    "participants = re.sub(r'\\n', ' ', participants)\n",
    "df['Participants'] = participants\n",
    "\n",
    "moderators = df.at[4, 'Text']\n",
    "moderators = re.sub(r'^\\w+:\\n', '', moderators)\n",
    "df['Moderators'] = moderators"
   ]
  },
  {
   "cell_type": "code",
   "execution_count": null,
   "id": "bd94def0-8064-4b29-b524-338dd9047452",
   "metadata": {},
   "outputs": [],
   "source": [
    "last_row = 250\n",
    "df.loc[last_row, 'Text']"
   ]
  },
  {
   "cell_type": "code",
   "execution_count": null,
   "id": "c0d9baa8-0953-48f9-99d0-d6a1686998b8",
   "metadata": {},
   "outputs": [],
   "source": [
    "df = df[~df['Text'].str.contains(df.loc[last_row, 'Text'])]"
   ]
  },
  {
   "cell_type": "code",
   "execution_count": null,
   "id": "07df4493-6055-4fd7-a862-da31bf299166",
   "metadata": {},
   "outputs": [],
   "source": [
    "df = df.loc[5:]\n",
    "df = df.reset_index(drop=True)"
   ]
  },
  {
   "cell_type": "code",
   "execution_count": null,
   "id": "fb0f4a92-c729-4bea-bac0-160d37fb070c",
   "metadata": {},
   "outputs": [],
   "source": [
    "# List of expressions whose rows in column 'Text' should be dropped\n",
    "expressions_to_drop = ['(APPLAUSE)', '(LAUGHTER)', '(CROSSTALK)']\n",
    "\n",
    "# Creating a boolean mask for rows starting with the specified expressions\n",
    "mask = df['Text'].str.startswith(tuple(expressions_to_drop))\n",
    "\n",
    "# Counting the number of rows for each expression\n",
    "counts = mask.value_counts()\n",
    "\n",
    "# Display the counts\n",
    "counts"
   ]
  },
  {
   "cell_type": "code",
   "execution_count": null,
   "id": "30d3fb6b-ad27-4869-a0b2-574097da503e",
   "metadata": {},
   "outputs": [],
   "source": [
    "# Dropping the rows that start with those expressions in column 'Text'\n",
    "df = df[~mask]"
   ]
  },
  {
   "cell_type": "code",
   "execution_count": null,
   "id": "889ed09d-2c72-457f-bf12-0137ccc69671",
   "metadata": {},
   "outputs": [],
   "source": [
    "df.head(1)"
   ]
  },
  {
   "cell_type": "code",
   "execution_count": null,
   "id": "ab7dea81-f3ce-41a5-a760-0334c35fb5aa",
   "metadata": {},
   "outputs": [],
   "source": [
    "df.loc[0, 'Text']"
   ]
  },
  {
   "cell_type": "code",
   "execution_count": null,
   "id": "e43d1fe8-c241-4f6a-bf4c-b351cd677a90",
   "metadata": {},
   "outputs": [],
   "source": [
    "df.at[0, 'Speaker'] = 1 # Adding column 'Speaker' by initialising it with a numeric value in order to avoid DtypeWarning\n",
    "df = df.astype('object') # Converting the column to the desired data type\n",
    "\n",
    "for index, row in df.iterrows():\n",
    "    match = re.match(r'^(\\w+):\\xa0', row['Text'])\n",
    "    if match:\n",
    "        speaker = match.group(1)\n",
    "        df.at[index, 'Speaker'] = speaker\n",
    "        text_without_speaker = row['Text'][len(match.group(0)):]\n",
    "        df.at[index, 'Text'] = text_without_speaker\n",
    "    else:\n",
    "        # Handle the case when no match is found (optional)\n",
    "        #df.at[index, 'Speaker'] = ''  # Set a default value\n",
    "        pass\n",
    "\n",
    "df['Speaker'].ffill(inplace=True)\n",
    "\n",
    "print('Number of turns:', df.shape[0])\n",
    "\n",
    "df[['Title', 'Debate', 'Date', 'Participants', 'Moderators', 'Speaker', 'Text']].to_json(f'{debate_title}.jsonl', orient='records', lines=True)\n",
    "\n",
    "df[['Title', 'Debate', 'Date', 'Participants', 'Moderators', 'Speaker', 'Text']].to_csv(f'{debate_title}.tsv', sep='\\t', index=False, encoding='utf-8', lineterminator='\\n')"
   ]
  },
  {
   "cell_type": "markdown",
   "id": "3dff6fbd-70d9-44be-b866-26c4e3f38b26",
   "metadata": {},
   "source": [
    "## Debate 37"
   ]
  },
  {
   "cell_type": "code",
   "execution_count": null,
   "id": "ef816ee0-d0d4-4021-adc8-0e0cc128280e",
   "metadata": {},
   "outputs": [],
   "source": [
    "debate_title = debate_1\n",
    "url = debate_url_1\n",
    "response = requests.get(url)\n",
    "\n",
    "if response.status_code == 200:\n",
    "    page_content = response.content\n",
    "    # Step 2: Parse HTML content\n",
    "    soup = BeautifulSoup(page_content, 'lxml')\n",
    "\n",
    "    # Extract relevant tags (e.g., <h1>, <p>, etc.) and store them in a list\n",
    "    rows = []\n",
    "    for tag in soup.find_all(['h1', 'p']):\n",
    "        rows.append(tag.text.strip())  # Remove leading/trailing spaces\n",
    "    \n",
    "    # Create a DataFrame from the list of rows\n",
    "    df = pd.DataFrame(rows, columns=['Text'])\n",
    "\n",
    "else:\n",
    "    print(f'Failed to retrieve the page. Status code: {response.status_code}')"
   ]
  },
  {
   "cell_type": "code",
   "execution_count": null,
   "id": "ec1de70c-90b8-4faa-8490-db878e4ba072",
   "metadata": {},
   "outputs": [],
   "source": [
    "df"
   ]
  },
  {
   "cell_type": "code",
   "execution_count": null,
   "id": "f5398302-d928-463c-afca-8ab2467689de",
   "metadata": {},
   "outputs": [],
   "source": [
    "df.head(10)"
   ]
  },
  {
   "cell_type": "code",
   "execution_count": null,
   "id": "d7deda04-826d-4e25-af1d-9769d8932028",
   "metadata": {},
   "outputs": [],
   "source": [
    "title = df.at[0, 'Text']\n",
    "df['Title'] = title\n",
    "\n",
    "debate = df.at[1, 'Text']\n",
    "df['Debate'] = debate\n",
    "\n",
    "date = df.at[2, 'Text']\n",
    "df['Date'] = date\n",
    "\n",
    "participants = df.at[3, 'Text']\n",
    "participants = re.sub(r'^\\w+:\\n', '', participants)\n",
    "participants = re.sub(r'\\n', ' ', participants)\n",
    "df['Participants'] = participants\n",
    "\n",
    "moderators = df.at[4, 'Text']\n",
    "moderators = re.sub(r'^\\w+:\\n', '', moderators)\n",
    "df['Moderators'] = moderators"
   ]
  },
  {
   "cell_type": "code",
   "execution_count": null,
   "id": "409ec687-e6ec-4904-95ac-5246fe531046",
   "metadata": {},
   "outputs": [],
   "source": [
    "last_row = 250\n",
    "df.loc[last_row, 'Text']"
   ]
  },
  {
   "cell_type": "code",
   "execution_count": null,
   "id": "ddd047b2-e562-4df0-909b-054613106293",
   "metadata": {},
   "outputs": [],
   "source": [
    "df = df[~df['Text'].str.contains(df.loc[last_row, 'Text'])]"
   ]
  },
  {
   "cell_type": "code",
   "execution_count": null,
   "id": "cce6a957-8f91-4b84-b652-820d2b2dd864",
   "metadata": {},
   "outputs": [],
   "source": [
    "df = df.loc[5:]\n",
    "df = df.reset_index(drop=True)"
   ]
  },
  {
   "cell_type": "code",
   "execution_count": null,
   "id": "392e53b9-f63c-4a17-99f3-fb1d66e066de",
   "metadata": {},
   "outputs": [],
   "source": [
    "# List of expressions whose rows in column 'Text' should be dropped\n",
    "expressions_to_drop = ['(APPLAUSE)', '(LAUGHTER)', '(CROSSTALK)']\n",
    "\n",
    "# Creating a boolean mask for rows starting with the specified expressions\n",
    "mask = df['Text'].str.startswith(tuple(expressions_to_drop))\n",
    "\n",
    "# Counting the number of rows for each expression\n",
    "counts = mask.value_counts()\n",
    "\n",
    "# Display the counts\n",
    "counts"
   ]
  },
  {
   "cell_type": "code",
   "execution_count": null,
   "id": "62d9b16b-4f3b-451d-b9bb-de00956c5b69",
   "metadata": {},
   "outputs": [],
   "source": [
    "# Dropping the rows that start with those expressions in column 'Text'\n",
    "df = df[~mask]"
   ]
  },
  {
   "cell_type": "code",
   "execution_count": null,
   "id": "5de7645a-2697-4e7f-9bb1-8ba488b2d91b",
   "metadata": {},
   "outputs": [],
   "source": [
    "df.head(1)"
   ]
  },
  {
   "cell_type": "code",
   "execution_count": null,
   "id": "855e69b2-633e-4729-a2be-071341962545",
   "metadata": {},
   "outputs": [],
   "source": [
    "df.loc[0, 'Text']"
   ]
  },
  {
   "cell_type": "code",
   "execution_count": null,
   "id": "75edf870-bda7-4fc6-ae55-7eee9cca9650",
   "metadata": {},
   "outputs": [],
   "source": [
    "df.at[0, 'Speaker'] = 1 # Adding column 'Speaker' by initialising it with a numeric value in order to avoid DtypeWarning\n",
    "df = df.astype('object') # Converting the column to the desired data type\n",
    "\n",
    "for index, row in df.iterrows():\n",
    "    match = re.match(r'^(\\w+):\\xa0', row['Text'])\n",
    "    if match:\n",
    "        speaker = match.group(1)\n",
    "        df.at[index, 'Speaker'] = speaker\n",
    "        text_without_speaker = row['Text'][len(match.group(0)):]\n",
    "        df.at[index, 'Text'] = text_without_speaker\n",
    "    else:\n",
    "        # Handle the case when no match is found (optional)\n",
    "        #df.at[index, 'Speaker'] = ''  # Set a default value\n",
    "        pass\n",
    "\n",
    "df['Speaker'].ffill(inplace=True)\n",
    "\n",
    "print('Number of turns:', df.shape[0])\n",
    "\n",
    "df[['Title', 'Debate', 'Date', 'Participants', 'Moderators', 'Speaker', 'Text']].to_json(f'{debate_title}.jsonl', orient='records', lines=True)\n",
    "\n",
    "df[['Title', 'Debate', 'Date', 'Participants', 'Moderators', 'Speaker', 'Text']].to_csv(f'{debate_title}.tsv', sep='\\t', index=False, encoding='utf-8', lineterminator='\\n')"
   ]
  },
  {
   "cell_type": "markdown",
   "id": "c4bdd829-304e-4b9a-82c4-089d3061903b",
   "metadata": {},
   "source": [
    "## Debate 38"
   ]
  },
  {
   "cell_type": "code",
   "execution_count": null,
   "id": "75e76009-c326-4aac-b7d8-c0a596be9d67",
   "metadata": {},
   "outputs": [],
   "source": [
    "debate_title = debate_1\n",
    "url = debate_url_1\n",
    "response = requests.get(url)\n",
    "\n",
    "if response.status_code == 200:\n",
    "    page_content = response.content\n",
    "    # Step 2: Parse HTML content\n",
    "    soup = BeautifulSoup(page_content, 'lxml')\n",
    "\n",
    "    # Extract relevant tags (e.g., <h1>, <p>, etc.) and store them in a list\n",
    "    rows = []\n",
    "    for tag in soup.find_all(['h1', 'p']):\n",
    "        rows.append(tag.text.strip())  # Remove leading/trailing spaces\n",
    "    \n",
    "    # Create a DataFrame from the list of rows\n",
    "    df = pd.DataFrame(rows, columns=['Text'])\n",
    "\n",
    "else:\n",
    "    print(f'Failed to retrieve the page. Status code: {response.status_code}')"
   ]
  },
  {
   "cell_type": "code",
   "execution_count": null,
   "id": "25aff281-2f79-4aeb-a303-413bd91e5db4",
   "metadata": {},
   "outputs": [],
   "source": [
    "df"
   ]
  },
  {
   "cell_type": "code",
   "execution_count": null,
   "id": "ea106e32-5740-44bc-ba3d-58bd25c97ef2",
   "metadata": {},
   "outputs": [],
   "source": [
    "df.head(10)"
   ]
  },
  {
   "cell_type": "code",
   "execution_count": null,
   "id": "6df828ba-1696-4748-bccb-9ce84f6b894a",
   "metadata": {},
   "outputs": [],
   "source": [
    "title = df.at[0, 'Text']\n",
    "df['Title'] = title\n",
    "\n",
    "debate = df.at[1, 'Text']\n",
    "df['Debate'] = debate\n",
    "\n",
    "date = df.at[2, 'Text']\n",
    "df['Date'] = date\n",
    "\n",
    "participants = df.at[3, 'Text']\n",
    "participants = re.sub(r'^\\w+:\\n', '', participants)\n",
    "participants = re.sub(r'\\n', ' ', participants)\n",
    "df['Participants'] = participants\n",
    "\n",
    "moderators = df.at[4, 'Text']\n",
    "moderators = re.sub(r'^\\w+:\\n', '', moderators)\n",
    "df['Moderators'] = moderators"
   ]
  },
  {
   "cell_type": "code",
   "execution_count": null,
   "id": "975973d6-5938-4fe7-98c6-cae854264f23",
   "metadata": {},
   "outputs": [],
   "source": [
    "last_row = 250\n",
    "df.loc[last_row, 'Text']"
   ]
  },
  {
   "cell_type": "code",
   "execution_count": null,
   "id": "988875aa-7717-4613-a2b1-53bddc4f3670",
   "metadata": {},
   "outputs": [],
   "source": [
    "df = df[~df['Text'].str.contains(df.loc[last_row, 'Text'])]"
   ]
  },
  {
   "cell_type": "code",
   "execution_count": null,
   "id": "9d76b67c-4760-42bc-83f0-2fddeee5eb60",
   "metadata": {},
   "outputs": [],
   "source": [
    "df = df.loc[5:]\n",
    "df = df.reset_index(drop=True)"
   ]
  },
  {
   "cell_type": "code",
   "execution_count": null,
   "id": "bbc0e2cc-9176-4f5a-a344-f192469c8bfe",
   "metadata": {},
   "outputs": [],
   "source": [
    "# List of expressions whose rows in column 'Text' should be dropped\n",
    "expressions_to_drop = ['(APPLAUSE)', '(LAUGHTER)', '(CROSSTALK)']\n",
    "\n",
    "# Creating a boolean mask for rows starting with the specified expressions\n",
    "mask = df['Text'].str.startswith(tuple(expressions_to_drop))\n",
    "\n",
    "# Counting the number of rows for each expression\n",
    "counts = mask.value_counts()\n",
    "\n",
    "# Display the counts\n",
    "counts"
   ]
  },
  {
   "cell_type": "code",
   "execution_count": null,
   "id": "4e7bef06-fe8b-4140-b017-57c7633ada34",
   "metadata": {},
   "outputs": [],
   "source": [
    "# Dropping the rows that start with those expressions in column 'Text'\n",
    "df = df[~mask]"
   ]
  },
  {
   "cell_type": "code",
   "execution_count": null,
   "id": "29a431d8-38a8-4c15-a4fe-18fbbc820490",
   "metadata": {},
   "outputs": [],
   "source": [
    "df.head(1)"
   ]
  },
  {
   "cell_type": "code",
   "execution_count": null,
   "id": "79dd26a9-9845-4989-a587-f384acd7087c",
   "metadata": {},
   "outputs": [],
   "source": [
    "df.loc[0, 'Text']"
   ]
  },
  {
   "cell_type": "code",
   "execution_count": null,
   "id": "3891745e-3aa6-4f4c-bd91-f29c99829fb2",
   "metadata": {},
   "outputs": [],
   "source": [
    "df.at[0, 'Speaker'] = 1 # Adding column 'Speaker' by initialising it with a numeric value in order to avoid DtypeWarning\n",
    "df = df.astype('object') # Converting the column to the desired data type\n",
    "\n",
    "for index, row in df.iterrows():\n",
    "    match = re.match(r'^(\\w+):\\xa0', row['Text'])\n",
    "    if match:\n",
    "        speaker = match.group(1)\n",
    "        df.at[index, 'Speaker'] = speaker\n",
    "        text_without_speaker = row['Text'][len(match.group(0)):]\n",
    "        df.at[index, 'Text'] = text_without_speaker\n",
    "    else:\n",
    "        # Handle the case when no match is found (optional)\n",
    "        #df.at[index, 'Speaker'] = ''  # Set a default value\n",
    "        pass\n",
    "\n",
    "df['Speaker'].ffill(inplace=True)\n",
    "\n",
    "print('Number of turns:', df.shape[0])\n",
    "\n",
    "df[['Title', 'Debate', 'Date', 'Participants', 'Moderators', 'Speaker', 'Text']].to_json(f'{debate_title}.jsonl', orient='records', lines=True)\n",
    "\n",
    "df[['Title', 'Debate', 'Date', 'Participants', 'Moderators', 'Speaker', 'Text']].to_csv(f'{debate_title}.tsv', sep='\\t', index=False, encoding='utf-8', lineterminator='\\n')"
   ]
  },
  {
   "cell_type": "markdown",
   "id": "c5c553bf-29a3-4663-9676-8f78962b0ac1",
   "metadata": {},
   "source": [
    "## Debate 39"
   ]
  },
  {
   "cell_type": "code",
   "execution_count": null,
   "id": "a6086425-b846-4f3a-97c7-3a4252ecad32",
   "metadata": {},
   "outputs": [],
   "source": [
    "debate_title = debate_1\n",
    "url = debate_url_1\n",
    "response = requests.get(url)\n",
    "\n",
    "if response.status_code == 200:\n",
    "    page_content = response.content\n",
    "    # Step 2: Parse HTML content\n",
    "    soup = BeautifulSoup(page_content, 'lxml')\n",
    "\n",
    "    # Extract relevant tags (e.g., <h1>, <p>, etc.) and store them in a list\n",
    "    rows = []\n",
    "    for tag in soup.find_all(['h1', 'p']):\n",
    "        rows.append(tag.text.strip())  # Remove leading/trailing spaces\n",
    "    \n",
    "    # Create a DataFrame from the list of rows\n",
    "    df = pd.DataFrame(rows, columns=['Text'])\n",
    "\n",
    "else:\n",
    "    print(f'Failed to retrieve the page. Status code: {response.status_code}')"
   ]
  },
  {
   "cell_type": "code",
   "execution_count": null,
   "id": "ea4a747c-22dc-4fdb-bcb1-2273374604ea",
   "metadata": {},
   "outputs": [],
   "source": [
    "df"
   ]
  },
  {
   "cell_type": "code",
   "execution_count": null,
   "id": "6766b8a2-1ec7-4fba-bb6e-49096657e8d0",
   "metadata": {},
   "outputs": [],
   "source": [
    "df.head(10)"
   ]
  },
  {
   "cell_type": "code",
   "execution_count": null,
   "id": "4c6e2c43-cf6f-4ece-b620-a0744646dbd8",
   "metadata": {},
   "outputs": [],
   "source": [
    "title = df.at[0, 'Text']\n",
    "df['Title'] = title\n",
    "\n",
    "debate = df.at[1, 'Text']\n",
    "df['Debate'] = debate\n",
    "\n",
    "date = df.at[2, 'Text']\n",
    "df['Date'] = date\n",
    "\n",
    "participants = df.at[3, 'Text']\n",
    "participants = re.sub(r'^\\w+:\\n', '', participants)\n",
    "participants = re.sub(r'\\n', ' ', participants)\n",
    "df['Participants'] = participants\n",
    "\n",
    "moderators = df.at[4, 'Text']\n",
    "moderators = re.sub(r'^\\w+:\\n', '', moderators)\n",
    "df['Moderators'] = moderators"
   ]
  },
  {
   "cell_type": "code",
   "execution_count": null,
   "id": "426ad3f2-eff7-487c-be53-684415596ab8",
   "metadata": {},
   "outputs": [],
   "source": [
    "last_row = 250\n",
    "df.loc[last_row, 'Text']"
   ]
  },
  {
   "cell_type": "code",
   "execution_count": null,
   "id": "d8d703fc-ec01-4942-9082-38a09c1c847e",
   "metadata": {},
   "outputs": [],
   "source": [
    "df = df[~df['Text'].str.contains(df.loc[last_row, 'Text'])]"
   ]
  },
  {
   "cell_type": "code",
   "execution_count": null,
   "id": "1b865f6f-0664-49bc-995e-5b02d2ecfe71",
   "metadata": {},
   "outputs": [],
   "source": [
    "df = df.loc[5:]\n",
    "df = df.reset_index(drop=True)"
   ]
  },
  {
   "cell_type": "code",
   "execution_count": null,
   "id": "b3f78d02-1e5b-467f-9e2c-9dfacfe196fb",
   "metadata": {},
   "outputs": [],
   "source": [
    "# List of expressions whose rows in column 'Text' should be dropped\n",
    "expressions_to_drop = ['(APPLAUSE)', '(LAUGHTER)', '(CROSSTALK)']\n",
    "\n",
    "# Creating a boolean mask for rows starting with the specified expressions\n",
    "mask = df['Text'].str.startswith(tuple(expressions_to_drop))\n",
    "\n",
    "# Counting the number of rows for each expression\n",
    "counts = mask.value_counts()\n",
    "\n",
    "# Display the counts\n",
    "counts"
   ]
  },
  {
   "cell_type": "code",
   "execution_count": null,
   "id": "2c1d9131-a6f3-473b-9952-ddc2538caaaf",
   "metadata": {},
   "outputs": [],
   "source": [
    "# Dropping the rows that start with those expressions in column 'Text'\n",
    "df = df[~mask]"
   ]
  },
  {
   "cell_type": "code",
   "execution_count": null,
   "id": "4bbab059-3344-4cef-af92-8e9e94528a4b",
   "metadata": {},
   "outputs": [],
   "source": [
    "df.head(1)"
   ]
  },
  {
   "cell_type": "code",
   "execution_count": null,
   "id": "8c543d16-ecec-492e-aecd-f414ea12af08",
   "metadata": {},
   "outputs": [],
   "source": [
    "df.loc[0, 'Text']"
   ]
  },
  {
   "cell_type": "code",
   "execution_count": null,
   "id": "c0a54a44-1c19-4885-a496-c94801c49c6c",
   "metadata": {},
   "outputs": [],
   "source": [
    "df.at[0, 'Speaker'] = 1 # Adding column 'Speaker' by initialising it with a numeric value in order to avoid DtypeWarning\n",
    "df = df.astype('object') # Converting the column to the desired data type\n",
    "\n",
    "for index, row in df.iterrows():\n",
    "    match = re.match(r'^(\\w+):\\xa0', row['Text'])\n",
    "    if match:\n",
    "        speaker = match.group(1)\n",
    "        df.at[index, 'Speaker'] = speaker\n",
    "        text_without_speaker = row['Text'][len(match.group(0)):]\n",
    "        df.at[index, 'Text'] = text_without_speaker\n",
    "    else:\n",
    "        # Handle the case when no match is found (optional)\n",
    "        #df.at[index, 'Speaker'] = ''  # Set a default value\n",
    "        pass\n",
    "\n",
    "df['Speaker'].ffill(inplace=True)\n",
    "\n",
    "print('Number of turns:', df.shape[0])\n",
    "\n",
    "df[['Title', 'Debate', 'Date', 'Participants', 'Moderators', 'Speaker', 'Text']].to_json(f'{debate_title}.jsonl', orient='records', lines=True)\n",
    "\n",
    "df[['Title', 'Debate', 'Date', 'Participants', 'Moderators', 'Speaker', 'Text']].to_csv(f'{debate_title}.tsv', sep='\\t', index=False, encoding='utf-8', lineterminator='\\n')"
   ]
  },
  {
   "cell_type": "markdown",
   "id": "3bb569c8-6211-4b2d-9056-3eb2d8cd4390",
   "metadata": {},
   "source": [
    "## Debate 40"
   ]
  },
  {
   "cell_type": "code",
   "execution_count": null,
   "id": "3b03b66a-e785-487f-b051-d6b0792353c9",
   "metadata": {},
   "outputs": [],
   "source": [
    "debate_title = debate_1\n",
    "url = debate_url_1\n",
    "response = requests.get(url)\n",
    "\n",
    "if response.status_code == 200:\n",
    "    page_content = response.content\n",
    "    # Step 2: Parse HTML content\n",
    "    soup = BeautifulSoup(page_content, 'lxml')\n",
    "\n",
    "    # Extract relevant tags (e.g., <h1>, <p>, etc.) and store them in a list\n",
    "    rows = []\n",
    "    for tag in soup.find_all(['h1', 'p']):\n",
    "        rows.append(tag.text.strip())  # Remove leading/trailing spaces\n",
    "    \n",
    "    # Create a DataFrame from the list of rows\n",
    "    df = pd.DataFrame(rows, columns=['Text'])\n",
    "\n",
    "else:\n",
    "    print(f'Failed to retrieve the page. Status code: {response.status_code}')"
   ]
  },
  {
   "cell_type": "code",
   "execution_count": null,
   "id": "47e93eaa-7a0e-48ab-84e6-71d962a504c3",
   "metadata": {},
   "outputs": [],
   "source": [
    "df"
   ]
  },
  {
   "cell_type": "code",
   "execution_count": null,
   "id": "086e476a-cefa-4da6-902c-d9ea08188b8a",
   "metadata": {},
   "outputs": [],
   "source": [
    "df.head(10)"
   ]
  },
  {
   "cell_type": "code",
   "execution_count": null,
   "id": "09144288-93ae-449c-a12a-8481438f78d8",
   "metadata": {},
   "outputs": [],
   "source": [
    "title = df.at[0, 'Text']\n",
    "df['Title'] = title\n",
    "\n",
    "debate = df.at[1, 'Text']\n",
    "df['Debate'] = debate\n",
    "\n",
    "date = df.at[2, 'Text']\n",
    "df['Date'] = date\n",
    "\n",
    "participants = df.at[3, 'Text']\n",
    "participants = re.sub(r'^\\w+:\\n', '', participants)\n",
    "participants = re.sub(r'\\n', ' ', participants)\n",
    "df['Participants'] = participants\n",
    "\n",
    "moderators = df.at[4, 'Text']\n",
    "moderators = re.sub(r'^\\w+:\\n', '', moderators)\n",
    "df['Moderators'] = moderators"
   ]
  },
  {
   "cell_type": "code",
   "execution_count": null,
   "id": "206017b7-8f65-4240-973f-08f164eb3c0f",
   "metadata": {},
   "outputs": [],
   "source": [
    "last_row = 250\n",
    "df.loc[last_row, 'Text']"
   ]
  },
  {
   "cell_type": "code",
   "execution_count": null,
   "id": "c4720e9d-99c2-4327-951f-8958114dced8",
   "metadata": {},
   "outputs": [],
   "source": [
    "df = df[~df['Text'].str.contains(df.loc[last_row, 'Text'])]"
   ]
  },
  {
   "cell_type": "code",
   "execution_count": null,
   "id": "aee642b2-95ba-422c-a7ce-f2958ac5ebba",
   "metadata": {},
   "outputs": [],
   "source": [
    "df = df.loc[5:]\n",
    "df = df.reset_index(drop=True)"
   ]
  },
  {
   "cell_type": "code",
   "execution_count": null,
   "id": "ff72b965-fb86-4f0a-8374-8ba507870d19",
   "metadata": {},
   "outputs": [],
   "source": [
    "# List of expressions whose rows in column 'Text' should be dropped\n",
    "expressions_to_drop = ['(APPLAUSE)', '(LAUGHTER)', '(CROSSTALK)']\n",
    "\n",
    "# Creating a boolean mask for rows starting with the specified expressions\n",
    "mask = df['Text'].str.startswith(tuple(expressions_to_drop))\n",
    "\n",
    "# Counting the number of rows for each expression\n",
    "counts = mask.value_counts()\n",
    "\n",
    "# Display the counts\n",
    "counts"
   ]
  },
  {
   "cell_type": "code",
   "execution_count": null,
   "id": "14df6963-6494-47d8-be1c-80b1c67c84a4",
   "metadata": {},
   "outputs": [],
   "source": [
    "# Dropping the rows that start with those expressions in column 'Text'\n",
    "df = df[~mask]"
   ]
  },
  {
   "cell_type": "code",
   "execution_count": null,
   "id": "24128738-3c24-4829-9022-ae39af3a2510",
   "metadata": {},
   "outputs": [],
   "source": [
    "df.head(1)"
   ]
  },
  {
   "cell_type": "code",
   "execution_count": null,
   "id": "cf1d5431-54b4-4da4-b65d-b8a59e2f2742",
   "metadata": {},
   "outputs": [],
   "source": [
    "df.loc[0, 'Text']"
   ]
  },
  {
   "cell_type": "code",
   "execution_count": null,
   "id": "303e6bfc-4352-44e2-9468-247e47a39909",
   "metadata": {},
   "outputs": [],
   "source": [
    "df.at[0, 'Speaker'] = 1 # Adding column 'Speaker' by initialising it with a numeric value in order to avoid DtypeWarning\n",
    "df = df.astype('object') # Converting the column to the desired data type\n",
    "\n",
    "for index, row in df.iterrows():\n",
    "    match = re.match(r'^(\\w+):\\xa0', row['Text'])\n",
    "    if match:\n",
    "        speaker = match.group(1)\n",
    "        df.at[index, 'Speaker'] = speaker\n",
    "        text_without_speaker = row['Text'][len(match.group(0)):]\n",
    "        df.at[index, 'Text'] = text_without_speaker\n",
    "    else:\n",
    "        # Handle the case when no match is found (optional)\n",
    "        #df.at[index, 'Speaker'] = ''  # Set a default value\n",
    "        pass\n",
    "\n",
    "df['Speaker'].ffill(inplace=True)\n",
    "\n",
    "print('Number of turns:', df.shape[0])\n",
    "\n",
    "df[['Title', 'Debate', 'Date', 'Participants', 'Moderators', 'Speaker', 'Text']].to_json(f'{debate_title}.jsonl', orient='records', lines=True)\n",
    "\n",
    "df[['Title', 'Debate', 'Date', 'Participants', 'Moderators', 'Speaker', 'Text']].to_csv(f'{debate_title}.tsv', sep='\\t', index=False, encoding='utf-8', lineterminator='\\n')"
   ]
  },
  {
   "cell_type": "markdown",
   "id": "78a9aa70-05f4-4cee-a22e-6f7ecb7d4e04",
   "metadata": {},
   "source": [
    "## Debate 41"
   ]
  },
  {
   "cell_type": "code",
   "execution_count": null,
   "id": "b4d6dc48-e2d6-4237-8ad7-5e9ec8c94081",
   "metadata": {},
   "outputs": [],
   "source": [
    "debate_title = debate_1\n",
    "url = debate_url_1\n",
    "response = requests.get(url)\n",
    "\n",
    "if response.status_code == 200:\n",
    "    page_content = response.content\n",
    "    # Step 2: Parse HTML content\n",
    "    soup = BeautifulSoup(page_content, 'lxml')\n",
    "\n",
    "    # Extract relevant tags (e.g., <h1>, <p>, etc.) and store them in a list\n",
    "    rows = []\n",
    "    for tag in soup.find_all(['h1', 'p']):\n",
    "        rows.append(tag.text.strip())  # Remove leading/trailing spaces\n",
    "    \n",
    "    # Create a DataFrame from the list of rows\n",
    "    df = pd.DataFrame(rows, columns=['Text'])\n",
    "\n",
    "else:\n",
    "    print(f'Failed to retrieve the page. Status code: {response.status_code}')"
   ]
  },
  {
   "cell_type": "code",
   "execution_count": null,
   "id": "b7260101-274b-4968-833d-d67a2eb49e9d",
   "metadata": {},
   "outputs": [],
   "source": [
    "df"
   ]
  },
  {
   "cell_type": "code",
   "execution_count": null,
   "id": "436d5182-f957-4a21-a4c3-a3ce393b2d61",
   "metadata": {},
   "outputs": [],
   "source": [
    "df.head(10)"
   ]
  },
  {
   "cell_type": "code",
   "execution_count": null,
   "id": "46de9480-7326-4eed-a7e4-b3e0b422bee3",
   "metadata": {},
   "outputs": [],
   "source": [
    "title = df.at[0, 'Text']\n",
    "df['Title'] = title\n",
    "\n",
    "debate = df.at[1, 'Text']\n",
    "df['Debate'] = debate\n",
    "\n",
    "date = df.at[2, 'Text']\n",
    "df['Date'] = date\n",
    "\n",
    "participants = df.at[3, 'Text']\n",
    "participants = re.sub(r'^\\w+:\\n', '', participants)\n",
    "participants = re.sub(r'\\n', ' ', participants)\n",
    "df['Participants'] = participants\n",
    "\n",
    "moderators = df.at[4, 'Text']\n",
    "moderators = re.sub(r'^\\w+:\\n', '', moderators)\n",
    "df['Moderators'] = moderators"
   ]
  },
  {
   "cell_type": "code",
   "execution_count": null,
   "id": "37a7f1d2-d40d-4b81-b233-fb5a759eaf52",
   "metadata": {},
   "outputs": [],
   "source": [
    "last_row = 250\n",
    "df.loc[last_row, 'Text']"
   ]
  },
  {
   "cell_type": "code",
   "execution_count": null,
   "id": "6ddd3ed1-8fc3-482c-a7fe-0be249faef3b",
   "metadata": {},
   "outputs": [],
   "source": [
    "df = df[~df['Text'].str.contains(df.loc[last_row, 'Text'])]"
   ]
  },
  {
   "cell_type": "code",
   "execution_count": null,
   "id": "e30de71e-07a8-4296-834b-ecf05b754148",
   "metadata": {},
   "outputs": [],
   "source": [
    "df = df.loc[5:]\n",
    "df = df.reset_index(drop=True)"
   ]
  },
  {
   "cell_type": "code",
   "execution_count": null,
   "id": "7f2affd9-7d7b-4fd6-b40a-dc83bf325cb4",
   "metadata": {},
   "outputs": [],
   "source": [
    "# List of expressions whose rows in column 'Text' should be dropped\n",
    "expressions_to_drop = ['(APPLAUSE)', '(LAUGHTER)', '(CROSSTALK)']\n",
    "\n",
    "# Creating a boolean mask for rows starting with the specified expressions\n",
    "mask = df['Text'].str.startswith(tuple(expressions_to_drop))\n",
    "\n",
    "# Counting the number of rows for each expression\n",
    "counts = mask.value_counts()\n",
    "\n",
    "# Display the counts\n",
    "counts"
   ]
  },
  {
   "cell_type": "code",
   "execution_count": null,
   "id": "fcb66dbd-89f3-457e-a740-c95137c897bc",
   "metadata": {},
   "outputs": [],
   "source": [
    "# Dropping the rows that start with those expressions in column 'Text'\n",
    "df = df[~mask]"
   ]
  },
  {
   "cell_type": "code",
   "execution_count": null,
   "id": "b67e0382-f2ba-4317-a58b-6a1861271cb3",
   "metadata": {},
   "outputs": [],
   "source": [
    "df.head(1)"
   ]
  },
  {
   "cell_type": "code",
   "execution_count": null,
   "id": "07cd3fb2-6fd7-469d-a683-fa00cb13b8d0",
   "metadata": {},
   "outputs": [],
   "source": [
    "df.loc[0, 'Text']"
   ]
  },
  {
   "cell_type": "code",
   "execution_count": null,
   "id": "b544f468-a220-4427-aff0-84500917cbe9",
   "metadata": {},
   "outputs": [],
   "source": [
    "df.at[0, 'Speaker'] = 1 # Adding column 'Speaker' by initialising it with a numeric value in order to avoid DtypeWarning\n",
    "df = df.astype('object') # Converting the column to the desired data type\n",
    "\n",
    "for index, row in df.iterrows():\n",
    "    match = re.match(r'^(\\w+):\\xa0', row['Text'])\n",
    "    if match:\n",
    "        speaker = match.group(1)\n",
    "        df.at[index, 'Speaker'] = speaker\n",
    "        text_without_speaker = row['Text'][len(match.group(0)):]\n",
    "        df.at[index, 'Text'] = text_without_speaker\n",
    "    else:\n",
    "        # Handle the case when no match is found (optional)\n",
    "        #df.at[index, 'Speaker'] = ''  # Set a default value\n",
    "        pass\n",
    "\n",
    "df['Speaker'].ffill(inplace=True)\n",
    "\n",
    "print('Number of turns:', df.shape[0])\n",
    "\n",
    "df[['Title', 'Debate', 'Date', 'Participants', 'Moderators', 'Speaker', 'Text']].to_json(f'{debate_title}.jsonl', orient='records', lines=True)\n",
    "\n",
    "df[['Title', 'Debate', 'Date', 'Participants', 'Moderators', 'Speaker', 'Text']].to_csv(f'{debate_title}.tsv', sep='\\t', index=False, encoding='utf-8', lineterminator='\\n')"
   ]
  },
  {
   "cell_type": "markdown",
   "id": "67636bd2-22b3-410a-b336-22356fcd9039",
   "metadata": {},
   "source": [
    "## Debate 42"
   ]
  },
  {
   "cell_type": "code",
   "execution_count": null,
   "id": "5f41fe78-1e3d-4791-881b-4045e515c03c",
   "metadata": {},
   "outputs": [],
   "source": [
    "debate_title = debate_1\n",
    "url = debate_url_1\n",
    "response = requests.get(url)\n",
    "\n",
    "if response.status_code == 200:\n",
    "    page_content = response.content\n",
    "    # Step 2: Parse HTML content\n",
    "    soup = BeautifulSoup(page_content, 'lxml')\n",
    "\n",
    "    # Extract relevant tags (e.g., <h1>, <p>, etc.) and store them in a list\n",
    "    rows = []\n",
    "    for tag in soup.find_all(['h1', 'p']):\n",
    "        rows.append(tag.text.strip())  # Remove leading/trailing spaces\n",
    "    \n",
    "    # Create a DataFrame from the list of rows\n",
    "    df = pd.DataFrame(rows, columns=['Text'])\n",
    "\n",
    "else:\n",
    "    print(f'Failed to retrieve the page. Status code: {response.status_code}')"
   ]
  },
  {
   "cell_type": "code",
   "execution_count": null,
   "id": "1f2c021f-4890-4263-a48d-980400a4d315",
   "metadata": {},
   "outputs": [],
   "source": [
    "df"
   ]
  },
  {
   "cell_type": "code",
   "execution_count": null,
   "id": "53f6a176-f2df-41b9-ae85-fc24e99b27fe",
   "metadata": {},
   "outputs": [],
   "source": [
    "df.head(10)"
   ]
  },
  {
   "cell_type": "code",
   "execution_count": null,
   "id": "4c4ad974-16ff-4c4b-a9aa-643221256be7",
   "metadata": {},
   "outputs": [],
   "source": [
    "title = df.at[0, 'Text']\n",
    "df['Title'] = title\n",
    "\n",
    "debate = df.at[1, 'Text']\n",
    "df['Debate'] = debate\n",
    "\n",
    "date = df.at[2, 'Text']\n",
    "df['Date'] = date\n",
    "\n",
    "participants = df.at[3, 'Text']\n",
    "participants = re.sub(r'^\\w+:\\n', '', participants)\n",
    "participants = re.sub(r'\\n', ' ', participants)\n",
    "df['Participants'] = participants\n",
    "\n",
    "moderators = df.at[4, 'Text']\n",
    "moderators = re.sub(r'^\\w+:\\n', '', moderators)\n",
    "df['Moderators'] = moderators"
   ]
  },
  {
   "cell_type": "code",
   "execution_count": null,
   "id": "45eed97c-1610-49cd-9129-5454c87c1ba9",
   "metadata": {},
   "outputs": [],
   "source": [
    "last_row = 250\n",
    "df.loc[last_row, 'Text']"
   ]
  },
  {
   "cell_type": "code",
   "execution_count": null,
   "id": "b66d6bff-b70e-4e58-8418-a4572f5e2a2f",
   "metadata": {},
   "outputs": [],
   "source": [
    "df = df[~df['Text'].str.contains(df.loc[last_row, 'Text'])]"
   ]
  },
  {
   "cell_type": "code",
   "execution_count": null,
   "id": "d4a7c50c-f9ef-4ccd-ac04-ad7f1ffcc35e",
   "metadata": {},
   "outputs": [],
   "source": [
    "df = df.loc[5:]\n",
    "df = df.reset_index(drop=True)"
   ]
  },
  {
   "cell_type": "code",
   "execution_count": null,
   "id": "7c4edc09-8deb-4a9e-9633-ead2da7cb24d",
   "metadata": {},
   "outputs": [],
   "source": [
    "# List of expressions whose rows in column 'Text' should be dropped\n",
    "expressions_to_drop = ['(APPLAUSE)', '(LAUGHTER)', '(CROSSTALK)']\n",
    "\n",
    "# Creating a boolean mask for rows starting with the specified expressions\n",
    "mask = df['Text'].str.startswith(tuple(expressions_to_drop))\n",
    "\n",
    "# Counting the number of rows for each expression\n",
    "counts = mask.value_counts()\n",
    "\n",
    "# Display the counts\n",
    "counts"
   ]
  },
  {
   "cell_type": "code",
   "execution_count": null,
   "id": "c5ad6c73-0556-4f81-82ba-b6765fb099c6",
   "metadata": {},
   "outputs": [],
   "source": [
    "# Dropping the rows that start with those expressions in column 'Text'\n",
    "df = df[~mask]"
   ]
  },
  {
   "cell_type": "code",
   "execution_count": null,
   "id": "91bba5be-247d-4454-a987-a2a538c57195",
   "metadata": {},
   "outputs": [],
   "source": [
    "df.head(1)"
   ]
  },
  {
   "cell_type": "code",
   "execution_count": null,
   "id": "8c4493ba-e7c9-4b55-b11e-871ea2761329",
   "metadata": {},
   "outputs": [],
   "source": [
    "df.loc[0, 'Text']"
   ]
  },
  {
   "cell_type": "code",
   "execution_count": null,
   "id": "9c45e4f8-a876-4d33-be8d-020bb8b9bfab",
   "metadata": {},
   "outputs": [],
   "source": [
    "df.at[0, 'Speaker'] = 1 # Adding column 'Speaker' by initialising it with a numeric value in order to avoid DtypeWarning\n",
    "df = df.astype('object') # Converting the column to the desired data type\n",
    "\n",
    "for index, row in df.iterrows():\n",
    "    match = re.match(r'^(\\w+):\\xa0', row['Text'])\n",
    "    if match:\n",
    "        speaker = match.group(1)\n",
    "        df.at[index, 'Speaker'] = speaker\n",
    "        text_without_speaker = row['Text'][len(match.group(0)):]\n",
    "        df.at[index, 'Text'] = text_without_speaker\n",
    "    else:\n",
    "        # Handle the case when no match is found (optional)\n",
    "        #df.at[index, 'Speaker'] = ''  # Set a default value\n",
    "        pass\n",
    "\n",
    "df['Speaker'].ffill(inplace=True)\n",
    "\n",
    "print('Number of turns:', df.shape[0])\n",
    "\n",
    "df[['Title', 'Debate', 'Date', 'Participants', 'Moderators', 'Speaker', 'Text']].to_json(f'{debate_title}.jsonl', orient='records', lines=True)\n",
    "\n",
    "df[['Title', 'Debate', 'Date', 'Participants', 'Moderators', 'Speaker', 'Text']].to_csv(f'{debate_title}.tsv', sep='\\t', index=False, encoding='utf-8', lineterminator='\\n')"
   ]
  },
  {
   "cell_type": "markdown",
   "id": "40a4c661-24ee-4b21-9938-c072d9564aa7",
   "metadata": {},
   "source": [
    "## Debate 43"
   ]
  },
  {
   "cell_type": "code",
   "execution_count": null,
   "id": "b8fcb842-6115-4d52-99d3-736fd9681b76",
   "metadata": {},
   "outputs": [],
   "source": [
    "debate_title = debate_1\n",
    "url = debate_url_1\n",
    "response = requests.get(url)\n",
    "\n",
    "if response.status_code == 200:\n",
    "    page_content = response.content\n",
    "    # Step 2: Parse HTML content\n",
    "    soup = BeautifulSoup(page_content, 'lxml')\n",
    "\n",
    "    # Extract relevant tags (e.g., <h1>, <p>, etc.) and store them in a list\n",
    "    rows = []\n",
    "    for tag in soup.find_all(['h1', 'p']):\n",
    "        rows.append(tag.text.strip())  # Remove leading/trailing spaces\n",
    "    \n",
    "    # Create a DataFrame from the list of rows\n",
    "    df = pd.DataFrame(rows, columns=['Text'])\n",
    "\n",
    "else:\n",
    "    print(f'Failed to retrieve the page. Status code: {response.status_code}')"
   ]
  },
  {
   "cell_type": "code",
   "execution_count": null,
   "id": "6f8e79b9-3598-43b3-9486-9a32042b62c0",
   "metadata": {},
   "outputs": [],
   "source": [
    "df"
   ]
  },
  {
   "cell_type": "code",
   "execution_count": null,
   "id": "343def78-22a5-4d78-9833-7a8e45f805db",
   "metadata": {},
   "outputs": [],
   "source": [
    "df.head(10)"
   ]
  },
  {
   "cell_type": "code",
   "execution_count": null,
   "id": "ad2f2084-6be5-4b6f-9fa1-70798c00fb6c",
   "metadata": {},
   "outputs": [],
   "source": [
    "title = df.at[0, 'Text']\n",
    "df['Title'] = title\n",
    "\n",
    "debate = df.at[1, 'Text']\n",
    "df['Debate'] = debate\n",
    "\n",
    "date = df.at[2, 'Text']\n",
    "df['Date'] = date\n",
    "\n",
    "participants = df.at[3, 'Text']\n",
    "participants = re.sub(r'^\\w+:\\n', '', participants)\n",
    "participants = re.sub(r'\\n', ' ', participants)\n",
    "df['Participants'] = participants\n",
    "\n",
    "moderators = df.at[4, 'Text']\n",
    "moderators = re.sub(r'^\\w+:\\n', '', moderators)\n",
    "df['Moderators'] = moderators"
   ]
  },
  {
   "cell_type": "code",
   "execution_count": null,
   "id": "42bdcb96-73c8-478a-84fe-4a769ef2d101",
   "metadata": {},
   "outputs": [],
   "source": [
    "last_row = 250\n",
    "df.loc[last_row, 'Text']"
   ]
  },
  {
   "cell_type": "code",
   "execution_count": null,
   "id": "22373658-ccde-4644-ae76-40786f1cf1d2",
   "metadata": {},
   "outputs": [],
   "source": [
    "df = df[~df['Text'].str.contains(df.loc[last_row, 'Text'])]"
   ]
  },
  {
   "cell_type": "code",
   "execution_count": null,
   "id": "d8333d57-f863-47c6-b774-fff39b3245ae",
   "metadata": {},
   "outputs": [],
   "source": [
    "df = df.loc[5:]\n",
    "df = df.reset_index(drop=True)"
   ]
  },
  {
   "cell_type": "code",
   "execution_count": null,
   "id": "c3a5632e-8bdb-4dbe-8b62-a04579906db1",
   "metadata": {},
   "outputs": [],
   "source": [
    "# List of expressions whose rows in column 'Text' should be dropped\n",
    "expressions_to_drop = ['(APPLAUSE)', '(LAUGHTER)', '(CROSSTALK)']\n",
    "\n",
    "# Creating a boolean mask for rows starting with the specified expressions\n",
    "mask = df['Text'].str.startswith(tuple(expressions_to_drop))\n",
    "\n",
    "# Counting the number of rows for each expression\n",
    "counts = mask.value_counts()\n",
    "\n",
    "# Display the counts\n",
    "counts"
   ]
  },
  {
   "cell_type": "code",
   "execution_count": null,
   "id": "da82fd52-52d1-4d73-a0db-d9844ca838ee",
   "metadata": {},
   "outputs": [],
   "source": [
    "# Dropping the rows that start with those expressions in column 'Text'\n",
    "df = df[~mask]"
   ]
  },
  {
   "cell_type": "code",
   "execution_count": null,
   "id": "eb77dc64-ac98-446a-9d43-ec19b6d2a97c",
   "metadata": {},
   "outputs": [],
   "source": [
    "df.head(1)"
   ]
  },
  {
   "cell_type": "code",
   "execution_count": null,
   "id": "f3a08964-dc80-4057-b91a-37ba485ed30b",
   "metadata": {},
   "outputs": [],
   "source": [
    "df.loc[0, 'Text']"
   ]
  },
  {
   "cell_type": "code",
   "execution_count": null,
   "id": "baa61802-ce44-48cb-98aa-adbfef48bb99",
   "metadata": {},
   "outputs": [],
   "source": [
    "df.at[0, 'Speaker'] = 1 # Adding column 'Speaker' by initialising it with a numeric value in order to avoid DtypeWarning\n",
    "df = df.astype('object') # Converting the column to the desired data type\n",
    "\n",
    "for index, row in df.iterrows():\n",
    "    match = re.match(r'^(\\w+):\\xa0', row['Text'])\n",
    "    if match:\n",
    "        speaker = match.group(1)\n",
    "        df.at[index, 'Speaker'] = speaker\n",
    "        text_without_speaker = row['Text'][len(match.group(0)):]\n",
    "        df.at[index, 'Text'] = text_without_speaker\n",
    "    else:\n",
    "        # Handle the case when no match is found (optional)\n",
    "        #df.at[index, 'Speaker'] = ''  # Set a default value\n",
    "        pass\n",
    "\n",
    "df['Speaker'].ffill(inplace=True)\n",
    "\n",
    "print('Number of turns:', df.shape[0])\n",
    "\n",
    "df[['Title', 'Debate', 'Date', 'Participants', 'Moderators', 'Speaker', 'Text']].to_json(f'{debate_title}.jsonl', orient='records', lines=True)\n",
    "\n",
    "df[['Title', 'Debate', 'Date', 'Participants', 'Moderators', 'Speaker', 'Text']].to_csv(f'{debate_title}.tsv', sep='\\t', index=False, encoding='utf-8', lineterminator='\\n')"
   ]
  },
  {
   "cell_type": "markdown",
   "id": "7b4ea704-5189-4fb3-892f-7e101747edb1",
   "metadata": {},
   "source": [
    "## Debate 44"
   ]
  },
  {
   "cell_type": "code",
   "execution_count": null,
   "id": "67832074-0065-4009-aa9c-9ae0ffc9a99c",
   "metadata": {},
   "outputs": [],
   "source": [
    "debate_title = debate_1\n",
    "url = debate_url_1\n",
    "response = requests.get(url)\n",
    "\n",
    "if response.status_code == 200:\n",
    "    page_content = response.content\n",
    "    # Step 2: Parse HTML content\n",
    "    soup = BeautifulSoup(page_content, 'lxml')\n",
    "\n",
    "    # Extract relevant tags (e.g., <h1>, <p>, etc.) and store them in a list\n",
    "    rows = []\n",
    "    for tag in soup.find_all(['h1', 'p']):\n",
    "        rows.append(tag.text.strip())  # Remove leading/trailing spaces\n",
    "    \n",
    "    # Create a DataFrame from the list of rows\n",
    "    df = pd.DataFrame(rows, columns=['Text'])\n",
    "\n",
    "else:\n",
    "    print(f'Failed to retrieve the page. Status code: {response.status_code}')"
   ]
  },
  {
   "cell_type": "code",
   "execution_count": null,
   "id": "aedb6189-5078-4ead-9cc1-c55538013728",
   "metadata": {},
   "outputs": [],
   "source": [
    "df"
   ]
  },
  {
   "cell_type": "code",
   "execution_count": null,
   "id": "6c4e8dc7-6772-4a0b-92c7-c2a085721ffe",
   "metadata": {},
   "outputs": [],
   "source": [
    "df.head(10)"
   ]
  },
  {
   "cell_type": "code",
   "execution_count": null,
   "id": "0e1af43f-5745-4e9e-b897-72edb62d58c2",
   "metadata": {},
   "outputs": [],
   "source": [
    "title = df.at[0, 'Text']\n",
    "df['Title'] = title\n",
    "\n",
    "debate = df.at[1, 'Text']\n",
    "df['Debate'] = debate\n",
    "\n",
    "date = df.at[2, 'Text']\n",
    "df['Date'] = date\n",
    "\n",
    "participants = df.at[3, 'Text']\n",
    "participants = re.sub(r'^\\w+:\\n', '', participants)\n",
    "participants = re.sub(r'\\n', ' ', participants)\n",
    "df['Participants'] = participants\n",
    "\n",
    "moderators = df.at[4, 'Text']\n",
    "moderators = re.sub(r'^\\w+:\\n', '', moderators)\n",
    "df['Moderators'] = moderators"
   ]
  },
  {
   "cell_type": "code",
   "execution_count": null,
   "id": "18d3bfde-435e-4a66-b979-806df327ea45",
   "metadata": {},
   "outputs": [],
   "source": [
    "last_row = 250\n",
    "df.loc[last_row, 'Text']"
   ]
  },
  {
   "cell_type": "code",
   "execution_count": null,
   "id": "326b62ac-ca7a-4013-beee-7534565cd704",
   "metadata": {},
   "outputs": [],
   "source": [
    "df = df[~df['Text'].str.contains(df.loc[last_row, 'Text'])]"
   ]
  },
  {
   "cell_type": "code",
   "execution_count": null,
   "id": "bf83174c-b261-418a-98a1-15ae7364d4aa",
   "metadata": {},
   "outputs": [],
   "source": [
    "df = df.loc[5:]\n",
    "df = df.reset_index(drop=True)"
   ]
  },
  {
   "cell_type": "code",
   "execution_count": null,
   "id": "9c45045e-672a-4096-add7-38633fab6cd6",
   "metadata": {},
   "outputs": [],
   "source": [
    "# List of expressions whose rows in column 'Text' should be dropped\n",
    "expressions_to_drop = ['(APPLAUSE)', '(LAUGHTER)', '(CROSSTALK)']\n",
    "\n",
    "# Creating a boolean mask for rows starting with the specified expressions\n",
    "mask = df['Text'].str.startswith(tuple(expressions_to_drop))\n",
    "\n",
    "# Counting the number of rows for each expression\n",
    "counts = mask.value_counts()\n",
    "\n",
    "# Display the counts\n",
    "counts"
   ]
  },
  {
   "cell_type": "code",
   "execution_count": null,
   "id": "77b2c3ab-84cc-454f-aa12-6a6e86e8d41b",
   "metadata": {},
   "outputs": [],
   "source": [
    "# Dropping the rows that start with those expressions in column 'Text'\n",
    "df = df[~mask]"
   ]
  },
  {
   "cell_type": "code",
   "execution_count": null,
   "id": "6f3a6070-58e1-404d-90be-c3e217bd397e",
   "metadata": {},
   "outputs": [],
   "source": [
    "df.head(1)"
   ]
  },
  {
   "cell_type": "code",
   "execution_count": null,
   "id": "cc944229-85f2-49d0-b43a-1f033d531bd8",
   "metadata": {},
   "outputs": [],
   "source": [
    "df.loc[0, 'Text']"
   ]
  },
  {
   "cell_type": "code",
   "execution_count": null,
   "id": "4b81fcb0-a32b-4b4b-acc7-e80187f8b0f5",
   "metadata": {},
   "outputs": [],
   "source": [
    "df.at[0, 'Speaker'] = 1 # Adding column 'Speaker' by initialising it with a numeric value in order to avoid DtypeWarning\n",
    "df = df.astype('object') # Converting the column to the desired data type\n",
    "\n",
    "for index, row in df.iterrows():\n",
    "    match = re.match(r'^(\\w+):\\xa0', row['Text'])\n",
    "    if match:\n",
    "        speaker = match.group(1)\n",
    "        df.at[index, 'Speaker'] = speaker\n",
    "        text_without_speaker = row['Text'][len(match.group(0)):]\n",
    "        df.at[index, 'Text'] = text_without_speaker\n",
    "    else:\n",
    "        # Handle the case when no match is found (optional)\n",
    "        #df.at[index, 'Speaker'] = ''  # Set a default value\n",
    "        pass\n",
    "\n",
    "df['Speaker'].ffill(inplace=True)\n",
    "\n",
    "print('Number of turns:', df.shape[0])\n",
    "\n",
    "df[['Title', 'Debate', 'Date', 'Participants', 'Moderators', 'Speaker', 'Text']].to_json(f'{debate_title}.jsonl', orient='records', lines=True)\n",
    "\n",
    "df[['Title', 'Debate', 'Date', 'Participants', 'Moderators', 'Speaker', 'Text']].to_csv(f'{debate_title}.tsv', sep='\\t', index=False, encoding='utf-8', lineterminator='\\n')"
   ]
  },
  {
   "cell_type": "markdown",
   "id": "3423e90b-a020-4eba-b78c-95c020f39cc3",
   "metadata": {},
   "source": [
    "## Debate 45"
   ]
  },
  {
   "cell_type": "code",
   "execution_count": null,
   "id": "dbae5986-d9e6-431a-8796-4291abcb57b8",
   "metadata": {},
   "outputs": [],
   "source": [
    "debate_title = debate_1\n",
    "url = debate_url_1\n",
    "response = requests.get(url)\n",
    "\n",
    "if response.status_code == 200:\n",
    "    page_content = response.content\n",
    "    # Step 2: Parse HTML content\n",
    "    soup = BeautifulSoup(page_content, 'lxml')\n",
    "\n",
    "    # Extract relevant tags (e.g., <h1>, <p>, etc.) and store them in a list\n",
    "    rows = []\n",
    "    for tag in soup.find_all(['h1', 'p']):\n",
    "        rows.append(tag.text.strip())  # Remove leading/trailing spaces\n",
    "    \n",
    "    # Create a DataFrame from the list of rows\n",
    "    df = pd.DataFrame(rows, columns=['Text'])\n",
    "\n",
    "else:\n",
    "    print(f'Failed to retrieve the page. Status code: {response.status_code}')"
   ]
  },
  {
   "cell_type": "code",
   "execution_count": null,
   "id": "cab97df0-0506-4125-8ac7-6e92d9b26e4b",
   "metadata": {},
   "outputs": [],
   "source": [
    "df"
   ]
  },
  {
   "cell_type": "code",
   "execution_count": null,
   "id": "aa163999-b3a8-436d-835f-faefe4eea512",
   "metadata": {},
   "outputs": [],
   "source": [
    "df.head(10)"
   ]
  },
  {
   "cell_type": "code",
   "execution_count": null,
   "id": "1b1dab6b-3024-45a7-8b74-de8e4c61f89c",
   "metadata": {},
   "outputs": [],
   "source": [
    "title = df.at[0, 'Text']\n",
    "df['Title'] = title\n",
    "\n",
    "debate = df.at[1, 'Text']\n",
    "df['Debate'] = debate\n",
    "\n",
    "date = df.at[2, 'Text']\n",
    "df['Date'] = date\n",
    "\n",
    "participants = df.at[3, 'Text']\n",
    "participants = re.sub(r'^\\w+:\\n', '', participants)\n",
    "participants = re.sub(r'\\n', ' ', participants)\n",
    "df['Participants'] = participants\n",
    "\n",
    "moderators = df.at[4, 'Text']\n",
    "moderators = re.sub(r'^\\w+:\\n', '', moderators)\n",
    "df['Moderators'] = moderators"
   ]
  },
  {
   "cell_type": "code",
   "execution_count": null,
   "id": "4e37e2f3-0db9-4d33-b995-ab36f2e88a56",
   "metadata": {},
   "outputs": [],
   "source": [
    "last_row = 250\n",
    "df.loc[last_row, 'Text']"
   ]
  },
  {
   "cell_type": "code",
   "execution_count": null,
   "id": "9b51ea2c-9ae9-4471-a8d4-745945466c90",
   "metadata": {},
   "outputs": [],
   "source": [
    "df = df[~df['Text'].str.contains(df.loc[last_row, 'Text'])]"
   ]
  },
  {
   "cell_type": "code",
   "execution_count": null,
   "id": "bb30aa03-1478-4544-896a-24028a797137",
   "metadata": {},
   "outputs": [],
   "source": [
    "df = df.loc[5:]\n",
    "df = df.reset_index(drop=True)"
   ]
  },
  {
   "cell_type": "code",
   "execution_count": null,
   "id": "d8d033c9-59b0-4086-80e6-f8b71560edbe",
   "metadata": {},
   "outputs": [],
   "source": [
    "# List of expressions whose rows in column 'Text' should be dropped\n",
    "expressions_to_drop = ['(APPLAUSE)', '(LAUGHTER)', '(CROSSTALK)']\n",
    "\n",
    "# Creating a boolean mask for rows starting with the specified expressions\n",
    "mask = df['Text'].str.startswith(tuple(expressions_to_drop))\n",
    "\n",
    "# Counting the number of rows for each expression\n",
    "counts = mask.value_counts()\n",
    "\n",
    "# Display the counts\n",
    "counts"
   ]
  },
  {
   "cell_type": "code",
   "execution_count": null,
   "id": "f19ba483-718b-480c-87fa-ea65d8ff2e80",
   "metadata": {},
   "outputs": [],
   "source": [
    "# Dropping the rows that start with those expressions in column 'Text'\n",
    "df = df[~mask]"
   ]
  },
  {
   "cell_type": "code",
   "execution_count": null,
   "id": "c436b58d-a8d6-4c16-99e4-3423fdbd0283",
   "metadata": {},
   "outputs": [],
   "source": [
    "df.head(1)"
   ]
  },
  {
   "cell_type": "code",
   "execution_count": null,
   "id": "246500a5-15b2-4ecb-bfb2-1b16eacb558b",
   "metadata": {},
   "outputs": [],
   "source": [
    "df.loc[0, 'Text']"
   ]
  },
  {
   "cell_type": "code",
   "execution_count": null,
   "id": "9351fd6f-b232-4a37-afa7-9a5cfe835a87",
   "metadata": {},
   "outputs": [],
   "source": [
    "df.at[0, 'Speaker'] = 1 # Adding column 'Speaker' by initialising it with a numeric value in order to avoid DtypeWarning\n",
    "df = df.astype('object') # Converting the column to the desired data type\n",
    "\n",
    "for index, row in df.iterrows():\n",
    "    match = re.match(r'^(\\w+):\\xa0', row['Text'])\n",
    "    if match:\n",
    "        speaker = match.group(1)\n",
    "        df.at[index, 'Speaker'] = speaker\n",
    "        text_without_speaker = row['Text'][len(match.group(0)):]\n",
    "        df.at[index, 'Text'] = text_without_speaker\n",
    "    else:\n",
    "        # Handle the case when no match is found (optional)\n",
    "        #df.at[index, 'Speaker'] = ''  # Set a default value\n",
    "        pass\n",
    "\n",
    "df['Speaker'].ffill(inplace=True)\n",
    "\n",
    "print('Number of turns:', df.shape[0])\n",
    "\n",
    "df[['Title', 'Debate', 'Date', 'Participants', 'Moderators', 'Speaker', 'Text']].to_json(f'{debate_title}.jsonl', orient='records', lines=True)\n",
    "\n",
    "df[['Title', 'Debate', 'Date', 'Participants', 'Moderators', 'Speaker', 'Text']].to_csv(f'{debate_title}.tsv', sep='\\t', index=False, encoding='utf-8', lineterminator='\\n')"
   ]
  },
  {
   "cell_type": "markdown",
   "id": "849b5e82-acc5-4e05-8a91-46955a7d80e1",
   "metadata": {},
   "source": [
    "## Debate 46"
   ]
  },
  {
   "cell_type": "code",
   "execution_count": null,
   "id": "bd8ff3c7-9992-45ca-8ed3-61b939582151",
   "metadata": {},
   "outputs": [],
   "source": [
    "debate_title = debate_1\n",
    "url = debate_url_1\n",
    "response = requests.get(url)\n",
    "\n",
    "if response.status_code == 200:\n",
    "    page_content = response.content\n",
    "    # Step 2: Parse HTML content\n",
    "    soup = BeautifulSoup(page_content, 'lxml')\n",
    "\n",
    "    # Extract relevant tags (e.g., <h1>, <p>, etc.) and store them in a list\n",
    "    rows = []\n",
    "    for tag in soup.find_all(['h1', 'p']):\n",
    "        rows.append(tag.text.strip())  # Remove leading/trailing spaces\n",
    "    \n",
    "    # Create a DataFrame from the list of rows\n",
    "    df = pd.DataFrame(rows, columns=['Text'])\n",
    "\n",
    "else:\n",
    "    print(f'Failed to retrieve the page. Status code: {response.status_code}')"
   ]
  },
  {
   "cell_type": "code",
   "execution_count": null,
   "id": "ffcfc6be-5c40-4e26-b3f0-e4fbb17d7936",
   "metadata": {},
   "outputs": [],
   "source": [
    "df"
   ]
  },
  {
   "cell_type": "code",
   "execution_count": null,
   "id": "5afef19b-4eb9-4984-8494-09274cf38d01",
   "metadata": {},
   "outputs": [],
   "source": [
    "df.head(10)"
   ]
  },
  {
   "cell_type": "code",
   "execution_count": null,
   "id": "48881ff0-0860-4526-84da-a5cef8b42598",
   "metadata": {},
   "outputs": [],
   "source": [
    "title = df.at[0, 'Text']\n",
    "df['Title'] = title\n",
    "\n",
    "debate = df.at[1, 'Text']\n",
    "df['Debate'] = debate\n",
    "\n",
    "date = df.at[2, 'Text']\n",
    "df['Date'] = date\n",
    "\n",
    "participants = df.at[3, 'Text']\n",
    "participants = re.sub(r'^\\w+:\\n', '', participants)\n",
    "participants = re.sub(r'\\n', ' ', participants)\n",
    "df['Participants'] = participants\n",
    "\n",
    "moderators = df.at[4, 'Text']\n",
    "moderators = re.sub(r'^\\w+:\\n', '', moderators)\n",
    "df['Moderators'] = moderators"
   ]
  },
  {
   "cell_type": "code",
   "execution_count": null,
   "id": "a4c324e0-e477-4421-a423-5dab772441c5",
   "metadata": {},
   "outputs": [],
   "source": [
    "last_row = 250\n",
    "df.loc[last_row, 'Text']"
   ]
  },
  {
   "cell_type": "code",
   "execution_count": null,
   "id": "8d16b996-1432-4d7e-8632-81f72f47953d",
   "metadata": {},
   "outputs": [],
   "source": [
    "df = df[~df['Text'].str.contains(df.loc[last_row, 'Text'])]"
   ]
  },
  {
   "cell_type": "code",
   "execution_count": null,
   "id": "cd007462-c1dc-4637-b54b-773f916f2864",
   "metadata": {},
   "outputs": [],
   "source": [
    "df = df.loc[5:]\n",
    "df = df.reset_index(drop=True)"
   ]
  },
  {
   "cell_type": "code",
   "execution_count": null,
   "id": "ac900de8-86bd-46aa-a70f-35cf76540430",
   "metadata": {},
   "outputs": [],
   "source": [
    "# List of expressions whose rows in column 'Text' should be dropped\n",
    "expressions_to_drop = ['(APPLAUSE)', '(LAUGHTER)', '(CROSSTALK)']\n",
    "\n",
    "# Creating a boolean mask for rows starting with the specified expressions\n",
    "mask = df['Text'].str.startswith(tuple(expressions_to_drop))\n",
    "\n",
    "# Counting the number of rows for each expression\n",
    "counts = mask.value_counts()\n",
    "\n",
    "# Display the counts\n",
    "counts"
   ]
  },
  {
   "cell_type": "code",
   "execution_count": null,
   "id": "41135637-751e-4774-9e9e-b4fbb6898601",
   "metadata": {},
   "outputs": [],
   "source": [
    "# Dropping the rows that start with those expressions in column 'Text'\n",
    "df = df[~mask]"
   ]
  },
  {
   "cell_type": "code",
   "execution_count": null,
   "id": "69b8a4d8-07b5-4a1d-be2b-44ddc611a80d",
   "metadata": {},
   "outputs": [],
   "source": [
    "df.head(1)"
   ]
  },
  {
   "cell_type": "code",
   "execution_count": null,
   "id": "1b05b804-213e-4a91-af71-706411c9792b",
   "metadata": {},
   "outputs": [],
   "source": [
    "df.loc[0, 'Text']"
   ]
  },
  {
   "cell_type": "code",
   "execution_count": null,
   "id": "42699d51-7a5e-4bd2-9e67-39adcaec9cfe",
   "metadata": {},
   "outputs": [],
   "source": [
    "df.at[0, 'Speaker'] = 1 # Adding column 'Speaker' by initialising it with a numeric value in order to avoid DtypeWarning\n",
    "df = df.astype('object') # Converting the column to the desired data type\n",
    "\n",
    "for index, row in df.iterrows():\n",
    "    match = re.match(r'^(\\w+):\\xa0', row['Text'])\n",
    "    if match:\n",
    "        speaker = match.group(1)\n",
    "        df.at[index, 'Speaker'] = speaker\n",
    "        text_without_speaker = row['Text'][len(match.group(0)):]\n",
    "        df.at[index, 'Text'] = text_without_speaker\n",
    "    else:\n",
    "        # Handle the case when no match is found (optional)\n",
    "        #df.at[index, 'Speaker'] = ''  # Set a default value\n",
    "        pass\n",
    "\n",
    "df['Speaker'].ffill(inplace=True)\n",
    "\n",
    "print('Number of turns:', df.shape[0])\n",
    "\n",
    "df[['Title', 'Debate', 'Date', 'Participants', 'Moderators', 'Speaker', 'Text']].to_json(f'{debate_title}.jsonl', orient='records', lines=True)\n",
    "\n",
    "df[['Title', 'Debate', 'Date', 'Participants', 'Moderators', 'Speaker', 'Text']].to_csv(f'{debate_title}.tsv', sep='\\t', index=False, encoding='utf-8', lineterminator='\\n')"
   ]
  },
  {
   "cell_type": "markdown",
   "id": "280c6342-456c-47c9-919c-32e93bb1a0a8",
   "metadata": {},
   "source": [
    "## Debate 47"
   ]
  },
  {
   "cell_type": "code",
   "execution_count": null,
   "id": "158b3b67-6efe-4fce-9c0e-6e4c22c037d3",
   "metadata": {},
   "outputs": [],
   "source": [
    "debate_title = debate_1\n",
    "url = debate_url_1\n",
    "response = requests.get(url)\n",
    "\n",
    "if response.status_code == 200:\n",
    "    page_content = response.content\n",
    "    # Step 2: Parse HTML content\n",
    "    soup = BeautifulSoup(page_content, 'lxml')\n",
    "\n",
    "    # Extract relevant tags (e.g., <h1>, <p>, etc.) and store them in a list\n",
    "    rows = []\n",
    "    for tag in soup.find_all(['h1', 'p']):\n",
    "        rows.append(tag.text.strip())  # Remove leading/trailing spaces\n",
    "    \n",
    "    # Create a DataFrame from the list of rows\n",
    "    df = pd.DataFrame(rows, columns=['Text'])\n",
    "\n",
    "else:\n",
    "    print(f'Failed to retrieve the page. Status code: {response.status_code}')"
   ]
  },
  {
   "cell_type": "code",
   "execution_count": null,
   "id": "010fa813-b0ad-4bc5-86b3-26abb206ef3c",
   "metadata": {},
   "outputs": [],
   "source": [
    "df"
   ]
  },
  {
   "cell_type": "code",
   "execution_count": null,
   "id": "97b2363c-8373-4578-a442-1316a4952296",
   "metadata": {},
   "outputs": [],
   "source": [
    "df.head(10)"
   ]
  },
  {
   "cell_type": "code",
   "execution_count": null,
   "id": "c00018c3-5200-4185-931c-678e2d3ead48",
   "metadata": {},
   "outputs": [],
   "source": [
    "title = df.at[0, 'Text']\n",
    "df['Title'] = title\n",
    "\n",
    "debate = df.at[1, 'Text']\n",
    "df['Debate'] = debate\n",
    "\n",
    "date = df.at[2, 'Text']\n",
    "df['Date'] = date\n",
    "\n",
    "participants = df.at[3, 'Text']\n",
    "participants = re.sub(r'^\\w+:\\n', '', participants)\n",
    "participants = re.sub(r'\\n', ' ', participants)\n",
    "df['Participants'] = participants\n",
    "\n",
    "moderators = df.at[4, 'Text']\n",
    "moderators = re.sub(r'^\\w+:\\n', '', moderators)\n",
    "df['Moderators'] = moderators"
   ]
  },
  {
   "cell_type": "code",
   "execution_count": null,
   "id": "83cac29a-b655-4b5b-80d7-6e16a087381b",
   "metadata": {},
   "outputs": [],
   "source": [
    "last_row = 250\n",
    "df.loc[last_row, 'Text']"
   ]
  },
  {
   "cell_type": "code",
   "execution_count": null,
   "id": "346838f1-a046-4afb-ad61-ab6850eb55d8",
   "metadata": {},
   "outputs": [],
   "source": [
    "df = df[~df['Text'].str.contains(df.loc[last_row, 'Text'])]"
   ]
  },
  {
   "cell_type": "code",
   "execution_count": null,
   "id": "6144e589-e3f5-410c-a0f9-7764851924b0",
   "metadata": {},
   "outputs": [],
   "source": [
    "df = df.loc[5:]\n",
    "df = df.reset_index(drop=True)"
   ]
  },
  {
   "cell_type": "code",
   "execution_count": null,
   "id": "e63ce7e2-c64b-4363-b749-cc724510bfc5",
   "metadata": {},
   "outputs": [],
   "source": [
    "# List of expressions whose rows in column 'Text' should be dropped\n",
    "expressions_to_drop = ['(APPLAUSE)', '(LAUGHTER)', '(CROSSTALK)']\n",
    "\n",
    "# Creating a boolean mask for rows starting with the specified expressions\n",
    "mask = df['Text'].str.startswith(tuple(expressions_to_drop))\n",
    "\n",
    "# Counting the number of rows for each expression\n",
    "counts = mask.value_counts()\n",
    "\n",
    "# Display the counts\n",
    "counts"
   ]
  },
  {
   "cell_type": "code",
   "execution_count": null,
   "id": "3ef9cbcc-0569-4104-87cb-3fc8892c7ef7",
   "metadata": {},
   "outputs": [],
   "source": [
    "# Dropping the rows that start with those expressions in column 'Text'\n",
    "df = df[~mask]"
   ]
  },
  {
   "cell_type": "code",
   "execution_count": null,
   "id": "05def82d-dfd0-4879-b8bc-0160002b304b",
   "metadata": {},
   "outputs": [],
   "source": [
    "df.head(1)"
   ]
  },
  {
   "cell_type": "code",
   "execution_count": null,
   "id": "beb0fda5-c89e-4e97-b011-c4412c5e7c89",
   "metadata": {},
   "outputs": [],
   "source": [
    "df.loc[0, 'Text']"
   ]
  },
  {
   "cell_type": "code",
   "execution_count": null,
   "id": "3241beca-aa34-4842-8b9a-075dc21d5a93",
   "metadata": {},
   "outputs": [],
   "source": [
    "df.at[0, 'Speaker'] = 1 # Adding column 'Speaker' by initialising it with a numeric value in order to avoid DtypeWarning\n",
    "df = df.astype('object') # Converting the column to the desired data type\n",
    "\n",
    "for index, row in df.iterrows():\n",
    "    match = re.match(r'^(\\w+):\\xa0', row['Text'])\n",
    "    if match:\n",
    "        speaker = match.group(1)\n",
    "        df.at[index, 'Speaker'] = speaker\n",
    "        text_without_speaker = row['Text'][len(match.group(0)):]\n",
    "        df.at[index, 'Text'] = text_without_speaker\n",
    "    else:\n",
    "        # Handle the case when no match is found (optional)\n",
    "        #df.at[index, 'Speaker'] = ''  # Set a default value\n",
    "        pass\n",
    "\n",
    "df['Speaker'].ffill(inplace=True)\n",
    "\n",
    "print('Number of turns:', df.shape[0])\n",
    "\n",
    "df[['Title', 'Debate', 'Date', 'Participants', 'Moderators', 'Speaker', 'Text']].to_json(f'{debate_title}.jsonl', orient='records', lines=True)\n",
    "\n",
    "df[['Title', 'Debate', 'Date', 'Participants', 'Moderators', 'Speaker', 'Text']].to_csv(f'{debate_title}.tsv', sep='\\t', index=False, encoding='utf-8', lineterminator='\\n')"
   ]
  },
  {
   "cell_type": "code",
   "execution_count": null,
   "id": "c6f83b38-c88e-4991-abed-04e5cbbe764d",
   "metadata": {},
   "outputs": [],
   "source": []
  }
 ],
 "metadata": {
  "kernelspec": {
   "display_name": "Python 3 (ipykernel)",
   "language": "python",
   "name": "python3"
  },
  "language_info": {
   "codemirror_mode": {
    "name": "ipython",
    "version": 3
   },
   "file_extension": ".py",
   "mimetype": "text/x-python",
   "name": "python",
   "nbconvert_exporter": "python",
   "pygments_lexer": "ipython3",
   "version": "3.11.8"
  }
 },
 "nbformat": 4,
 "nbformat_minor": 5
}
