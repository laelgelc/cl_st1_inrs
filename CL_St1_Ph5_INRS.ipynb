{
 "cells": [
  {
   "cell_type": "markdown",
   "id": "810d9f10-ec19-4b09-8f90-e983e460b319",
   "metadata": {
    "jp-MarkdownHeadingCollapsed": true
   },
   "source": [
    "<center>\n",
    "<img src=\"https://laelgelcpublic.s3.sa-east-1.amazonaws.com/lael_50_years_narrow_white.png.no_years.400px_96dpi.png\" width=\"300\" alt=\"LAEL 50 years logo\">\n",
    "<h3>APPLIED LINGUISTICS GRADUATE PROGRAMME (LAEL)</h3>\n",
    "</center>\n",
    "<hr>"
   ]
  },
  {
   "cell_type": "markdown",
   "id": "888c2c96-2fc3-4a1a-995b-c388036a2a15",
   "metadata": {},
   "source": [
    "# Corpus Linguistics - Study 1 - Phase 5 - INRS"
   ]
  },
  {
   "cell_type": "markdown",
   "id": "5ff101b7-5558-4b33-813d-d3ca596c9171",
   "metadata": {},
   "source": []
  },
  {
   "cell_type": "markdown",
   "id": "837cd68f-abfc-4fdf-96d0-fe141c0934a0",
   "metadata": {},
   "source": [
    "## Required Python packages"
   ]
  },
  {
   "cell_type": "markdown",
   "id": "cb056e63-003d-4871-8781-188cf403aab3",
   "metadata": {},
   "source": [
    "- pandas"
   ]
  },
  {
   "cell_type": "markdown",
   "id": "89b448c2-5f48-4798-8e55-11722d78310e",
   "metadata": {},
   "source": [
    "## Importing the required libraries"
   ]
  },
  {
   "cell_type": "code",
   "execution_count": 1,
   "id": "a5cc12e9-ea5d-4315-9e7e-fafc77c36a07",
   "metadata": {},
   "outputs": [],
   "source": [
    "import re\n",
    "import pandas as pd\n",
    "import os\n",
    "import sys\n",
    "import json"
   ]
  },
  {
   "cell_type": "markdown",
   "id": "ea49af4f-41a1-40a0-a36b-756eb4739ef7",
   "metadata": {},
   "source": [
    "## Defining input variables"
   ]
  },
  {
   "cell_type": "code",
   "execution_count": 2,
   "id": "5ff500a9-3d66-4161-abc7-c04344d33e9f",
   "metadata": {},
   "outputs": [],
   "source": [
    "input_directory = 'cl_st1_ph4_examples'\n",
    "output_directory = 'cl_st1_ph5_inrs'"
   ]
  },
  {
   "cell_type": "markdown",
   "id": "901e1dde-e4b8-4f43-bfe9-3b869b7a7998",
   "metadata": {},
   "source": [
    "## Creating output directory"
   ]
  },
  {
   "cell_type": "code",
   "execution_count": 3,
   "id": "2ae6ff80-5906-4fe4-8342-11b8944a8b8a",
   "metadata": {},
   "outputs": [
    {
     "name": "stdout",
     "output_type": "stream",
     "text": [
      "Output directory successfully created.\n"
     ]
    }
   ],
   "source": [
    "# Check if the output directory already exists. If it does, do nothing. If it doesn't exist, create it.\n",
    "if os.path.exists(output_directory):\n",
    "    print('Output directory already exists.')\n",
    "else:\n",
    "    try:\n",
    "        os.makedirs(output_directory)\n",
    "        print('Output directory successfully created.')\n",
    "    except OSError as e:\n",
    "        print('Failed to create the directory:', e)\n",
    "        sys.exit(1)"
   ]
  },
  {
   "cell_type": "markdown",
   "id": "c56702cf-71f0-4fcc-89f8-d2942e846269",
   "metadata": {},
   "source": [
    "## Creating a dictionary that relate the `Dimension-Pole` pair with the `Text ID`s of the respective examples"
   ]
  },
  {
   "cell_type": "code",
   "execution_count": 4,
   "id": "f3a91752-9e2a-463f-906e-5b1ded95a74a",
   "metadata": {},
   "outputs": [],
   "source": [
    "# Dictionary to store the parsed data with string keys\n",
    "dimension_examples = {}\n",
    "\n",
    "# RegEx pattern to extract Text ID\n",
    "text_id_pattern = re.compile(r'file = (t\\d{6})')\n",
    "\n",
    "# Mappings for 'Dimension' and 'Pole'\n",
    "dimension_mapping = {\n",
    "    'f1': 'Dimension 1',\n",
    "    'f2': 'Dimension 2',\n",
    "    'f3': 'Dimension 3',\n",
    "    'f4': 'Dimension 4',\n",
    "    'f5': 'Dimension 5',\n",
    "    'f6': 'Dimension 6'\n",
    "}\n",
    "\n",
    "pole_mapping = {\n",
    "    'neg': 'Negative Pole',\n",
    "    'pos': 'Positive Pole'\n",
    "}\n",
    "\n",
    "# Getting the list of files and sorting them\n",
    "files = sorted([f for f in os.listdir(input_directory) if f.endswith('.txt')])\n",
    "\n",
    "# Iterating over each sorted file in the directory\n",
    "for filename in files:\n",
    "    # Extracting 'Dimension' and 'Pole' from the filename\n",
    "    parts = filename.split('_')\n",
    "    dimension = dimension_mapping.get(parts[1], parts[1])\n",
    "    pole = pole_mapping.get(parts[2], parts[2])\n",
    "\n",
    "    # Opening and reading the file\n",
    "    with open(os.path.join(input_directory, filename), 'r', encoding='utf-8') as file:\n",
    "        content = file.read()\n",
    "        # Find all Text IDs in the file\n",
    "        text_ids = text_id_pattern.findall(content)\n",
    "    \n",
    "    # Construct the dictionary key\n",
    "    key = f\"{dimension} - {pole}\"\n",
    "    \n",
    "    if key not in dimension_examples:\n",
    "        dimension_examples[key] = {\n",
    "            'Dimension': dimension,\n",
    "            'Pole': pole,\n",
    "            'Label': f\"{key} - Label: <Placeholder for Label>\",  # Placeholder for the Label\n",
    "            'Description': f\"{key} - Description: <Placeholder for Description>\",  # Placeholder for the Description\n",
    "            'Text IDs': []\n",
    "        }\n",
    "\n",
    "    # Append the Text IDs to the list in the dictionary\n",
    "    dimension_examples[key]['Text IDs'].extend(text_ids)"
   ]
  },
  {
   "cell_type": "code",
   "execution_count": 5,
   "id": "ecd81079-b306-48bc-b52b-7daff1cf0598",
   "metadata": {},
   "outputs": [
    {
     "data": {
      "text/plain": [
       "dict"
      ]
     },
     "execution_count": 5,
     "metadata": {},
     "output_type": "execute_result"
    }
   ],
   "source": [
    "type(dimension_examples)"
   ]
  },
  {
   "cell_type": "markdown",
   "id": "adcdba80-bc35-4013-8450-d1c63f4da45a",
   "metadata": {},
   "source": [
    "### Exporting to a file"
   ]
  },
  {
   "cell_type": "code",
   "execution_count": 6,
   "id": "7031e30a-fd0e-4dc6-b50d-592e0a29118e",
   "metadata": {},
   "outputs": [],
   "source": [
    "# Writing the dictionary with string keys to a JSON file\n",
    "with open(f\"{output_directory}/dimension_examples_template.json\", 'w') as json_file:\n",
    "    json.dump(dimension_examples, json_file, indent=4)"
   ]
  },
  {
   "cell_type": "code",
   "execution_count": null,
   "id": "2c9bc427-296c-465e-b168-80e4d1ff03fc",
   "metadata": {},
   "outputs": [],
   "source": []
  }
 ],
 "metadata": {
  "kernelspec": {
   "display_name": "my_env",
   "language": "python",
   "name": "my_env"
  },
  "language_info": {
   "codemirror_mode": {
    "name": "ipython",
    "version": 3
   },
   "file_extension": ".py",
   "mimetype": "text/x-python",
   "name": "python",
   "nbconvert_exporter": "python",
   "pygments_lexer": "ipython3",
   "version": "3.10.12"
  }
 },
 "nbformat": 4,
 "nbformat_minor": 5
}
