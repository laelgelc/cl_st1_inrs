{
 "cells": [
  {
   "cell_type": "markdown",
   "id": "810d9f10-ec19-4b09-8f90-e983e460b319",
   "metadata": {
    "jp-MarkdownHeadingCollapsed": true
   },
   "source": [
    "<center>\n",
    "<img src=\"https://laelgelcpublic.s3.sa-east-1.amazonaws.com/lael_50_years_narrow_white.png.no_years.400px_96dpi.png\" width=\"300\" alt=\"LAEL 50 years logo\">\n",
    "<h3>APPLIED LINGUISTICS GRADUATE PROGRAMME (LAEL)</h3>\n",
    "</center>\n",
    "<hr>"
   ]
  },
  {
   "cell_type": "markdown",
   "id": "888c2c96-2fc3-4a1a-995b-c388036a2a15",
   "metadata": {},
   "source": [
    "# Corpus Linguistics - Study 1 - ANOVA Preparation - INRS"
   ]
  },
  {
   "cell_type": "markdown",
   "id": "e33f6dbb-dd98-4e39-becf-9b13b7866c03",
   "metadata": {},
   "source": [
    "## What is `ANOVA`?"
   ]
  },
  {
   "cell_type": "markdown",
   "id": "f8e575e2-313d-4fb5-a8a8-6207cfd2daca",
   "metadata": {},
   "source": [
    "ANOVA, which stands for Analysis of Variance, is a statistical method used to compare the means of three or more groups to determine if there are any statistically significant differences between them. It helps in understanding whether the variation in data is due to the differences between the groups or just random chance.\n",
    "\n",
    "Please refer to:\n",
    "- [Analysis of Variance](https://en.wikipedia.org/wiki/Analysis_of_variance)"
   ]
  },
  {
   "cell_type": "markdown",
   "id": "3ec296e2-599f-4fd5-b9ee-f5e5a4474762",
   "metadata": {},
   "source": [
    "## Required Python packages"
   ]
  },
  {
   "cell_type": "markdown",
   "id": "7cd8e0f9-f484-49c6-b287-bd74bbee4b98",
   "metadata": {},
   "source": [
    "- pandas"
   ]
  },
  {
   "cell_type": "markdown",
   "id": "7a9c2af7-9fc1-4f51-a4f5-2ed915b93039",
   "metadata": {},
   "source": [
    "## Importing the required libraries"
   ]
  },
  {
   "cell_type": "code",
   "execution_count": 1,
   "id": "e6689499-d19d-4b0c-befd-f88926b7105d",
   "metadata": {},
   "outputs": [],
   "source": [
    "import pandas as pd"
   ]
  },
  {
   "cell_type": "markdown",
   "id": "f1e45679-d3a6-4af7-8c4b-6017c3c7a1d7",
   "metadata": {},
   "source": [
    "## Defining input variables"
   ]
  },
  {
   "cell_type": "code",
   "execution_count": 2,
   "id": "87d6db7a-b7a1-46a7-a119-0ed4aa3c20d1",
   "metadata": {},
   "outputs": [],
   "source": [
    "input_directory = 'cl_st1_inrs_tc'\n",
    "output_directory = 'cl_st1_ph4_inrs'"
   ]
  },
  {
   "cell_type": "markdown",
   "id": "2a5a1b61-b7af-4bee-89aa-a8f1d2af2f89",
   "metadata": {},
   "source": [
    "## Preparing data for ANOVA"
   ]
  },
  {
   "cell_type": "markdown",
   "id": "9a79a002-c182-4021-9b77-99ad470582af",
   "metadata": {},
   "source": [
    "### Importing the raw data into a DataFrame"
   ]
  },
  {
   "cell_type": "markdown",
   "id": "53d61014-7ade-437b-86fd-ee3dd1c0b1c2",
   "metadata": {},
   "source": [
    "#### `Republican + Democratic + Independent` data set"
   ]
  },
  {
   "cell_type": "code",
   "execution_count": 3,
   "id": "82eab174-e617-4c7d-8564-61ad93854132",
   "metadata": {},
   "outputs": [],
   "source": [
    "df_debates_turns = pd.read_json(f\"{input_directory}/debates_turns.jsonl\", lines=True)"
   ]
  },
  {
   "cell_type": "code",
   "execution_count": 4,
   "id": "e8677bae-66d5-44ec-b281-7c2adfc2edf8",
   "metadata": {},
   "outputs": [],
   "source": [
    "df_debates_turns['Date'] = pd.to_datetime(df_debates_turns['Date'], unit='ms')"
   ]
  },
  {
   "cell_type": "code",
   "execution_count": 5,
   "id": "3fc0ad6f-7fbe-4d8a-8ef7-0aaa390b923d",
   "metadata": {},
   "outputs": [
    {
     "data": {
      "text/plain": [
       "Title                   object\n",
       "Debate                  object\n",
       "Date            datetime64[ns]\n",
       "Participants            object\n",
       "Moderators              object\n",
       "Speaker                 object\n",
       "Text                    object\n",
       "dtype: object"
      ]
     },
     "execution_count": 5,
     "metadata": {},
     "output_type": "execute_result"
    }
   ],
   "source": [
    "df_debates_turns.dtypes"
   ]
  },
  {
   "cell_type": "code",
   "execution_count": 6,
   "id": "31a6fbd7-2a96-4482-a50a-9abbce66e264",
   "metadata": {},
   "outputs": [
    {
     "data": {
      "text/html": [
       "<div>\n",
       "<style scoped>\n",
       "    .dataframe tbody tr th:only-of-type {\n",
       "        vertical-align: middle;\n",
       "    }\n",
       "\n",
       "    .dataframe tbody tr th {\n",
       "        vertical-align: top;\n",
       "    }\n",
       "\n",
       "    .dataframe thead th {\n",
       "        text-align: right;\n",
       "    }\n",
       "</style>\n",
       "<table border=\"1\" class=\"dataframe\">\n",
       "  <thead>\n",
       "    <tr style=\"text-align: right;\">\n",
       "      <th></th>\n",
       "      <th>Title</th>\n",
       "      <th>Debate</th>\n",
       "      <th>Date</th>\n",
       "      <th>Participants</th>\n",
       "      <th>Moderators</th>\n",
       "      <th>Speaker</th>\n",
       "      <th>Text</th>\n",
       "    </tr>\n",
       "  </thead>\n",
       "  <tbody>\n",
       "    <tr>\n",
       "      <th>0</th>\n",
       "      <td>September 29, 2020 Debate Transcript</td>\n",
       "      <td>Presidential Debate at Case Western Reserve Un...</td>\n",
       "      <td>2020-09-29</td>\n",
       "      <td>Former Vice President Joe Biden (D) and Presid...</td>\n",
       "      <td>Chris Wallace (Fox News)</td>\n",
       "      <td>TRUMP</td>\n",
       "      <td>Thank you very much, Chris. I will tell you ve...</td>\n",
       "    </tr>\n",
       "    <tr>\n",
       "      <th>1</th>\n",
       "      <td>September 29, 2020 Debate Transcript</td>\n",
       "      <td>Presidential Debate at Case Western Reserve Un...</td>\n",
       "      <td>2020-09-29</td>\n",
       "      <td>Former Vice President Joe Biden (D) and Presid...</td>\n",
       "      <td>Chris Wallace (Fox News)</td>\n",
       "      <td>BIDEN</td>\n",
       "      <td>Well, first of all, thank you for doing this a...</td>\n",
       "    </tr>\n",
       "    <tr>\n",
       "      <th>2</th>\n",
       "      <td>September 29, 2020 Debate Transcript</td>\n",
       "      <td>Presidential Debate at Case Western Reserve Un...</td>\n",
       "      <td>2020-09-29</td>\n",
       "      <td>Former Vice President Joe Biden (D) and Presid...</td>\n",
       "      <td>Chris Wallace (Fox News)</td>\n",
       "      <td>BIDEN</td>\n",
       "      <td>The American people have a right to have a say...</td>\n",
       "    </tr>\n",
       "    <tr>\n",
       "      <th>3</th>\n",
       "      <td>September 29, 2020 Debate Transcript</td>\n",
       "      <td>Presidential Debate at Case Western Reserve Un...</td>\n",
       "      <td>2020-09-29</td>\n",
       "      <td>Former Vice President Joe Biden (D) and Presid...</td>\n",
       "      <td>Chris Wallace (Fox News)</td>\n",
       "      <td>TRUMP</td>\n",
       "      <td>There aren’t a hundred million people with pre...</td>\n",
       "    </tr>\n",
       "    <tr>\n",
       "      <th>4</th>\n",
       "      <td>September 29, 2020 Debate Transcript</td>\n",
       "      <td>Presidential Debate at Case Western Reserve Un...</td>\n",
       "      <td>2020-09-29</td>\n",
       "      <td>Former Vice President Joe Biden (D) and Presid...</td>\n",
       "      <td>Chris Wallace (Fox News)</td>\n",
       "      <td>TRUMP</td>\n",
       "      <td>During that period of time, during that period...</td>\n",
       "    </tr>\n",
       "  </tbody>\n",
       "</table>\n",
       "</div>"
      ],
      "text/plain": [
       "                                  Title  \\\n",
       "0  September 29, 2020 Debate Transcript   \n",
       "1  September 29, 2020 Debate Transcript   \n",
       "2  September 29, 2020 Debate Transcript   \n",
       "3  September 29, 2020 Debate Transcript   \n",
       "4  September 29, 2020 Debate Transcript   \n",
       "\n",
       "                                              Debate       Date  \\\n",
       "0  Presidential Debate at Case Western Reserve Un... 2020-09-29   \n",
       "1  Presidential Debate at Case Western Reserve Un... 2020-09-29   \n",
       "2  Presidential Debate at Case Western Reserve Un... 2020-09-29   \n",
       "3  Presidential Debate at Case Western Reserve Un... 2020-09-29   \n",
       "4  Presidential Debate at Case Western Reserve Un... 2020-09-29   \n",
       "\n",
       "                                        Participants  \\\n",
       "0  Former Vice President Joe Biden (D) and Presid...   \n",
       "1  Former Vice President Joe Biden (D) and Presid...   \n",
       "2  Former Vice President Joe Biden (D) and Presid...   \n",
       "3  Former Vice President Joe Biden (D) and Presid...   \n",
       "4  Former Vice President Joe Biden (D) and Presid...   \n",
       "\n",
       "                 Moderators Speaker  \\\n",
       "0  Chris Wallace (Fox News)   TRUMP   \n",
       "1  Chris Wallace (Fox News)   BIDEN   \n",
       "2  Chris Wallace (Fox News)   BIDEN   \n",
       "3  Chris Wallace (Fox News)   TRUMP   \n",
       "4  Chris Wallace (Fox News)   TRUMP   \n",
       "\n",
       "                                                Text  \n",
       "0  Thank you very much, Chris. I will tell you ve...  \n",
       "1  Well, first of all, thank you for doing this a...  \n",
       "2  The American people have a right to have a say...  \n",
       "3  There aren’t a hundred million people with pre...  \n",
       "4  During that period of time, during that period...  "
      ]
     },
     "execution_count": 6,
     "metadata": {},
     "output_type": "execute_result"
    }
   ],
   "source": [
    "df_debates_turns.head(5)"
   ]
  },
  {
   "cell_type": "markdown",
   "id": "d19713dc-b254-4f80-8e1f-c12f884d6096",
   "metadata": {},
   "source": [
    "##### Checking the number of texts"
   ]
  },
  {
   "cell_type": "code",
   "execution_count": 7,
   "id": "5ff51e89-954d-422e-a0ac-dd5d2867bc48",
   "metadata": {},
   "outputs": [
    {
     "data": {
      "text/plain": [
       "(3478, 7)"
      ]
     },
     "execution_count": 7,
     "metadata": {},
     "output_type": "execute_result"
    }
   ],
   "source": [
    "df_debates_turns.shape"
   ]
  },
  {
   "cell_type": "markdown",
   "id": "e13c1955-99d5-419f-ac5f-6a6a979d5b42",
   "metadata": {},
   "source": [
    "## Adding the column `Decade` from the column `Date`"
   ]
  },
  {
   "cell_type": "markdown",
   "id": "7637c198-bb46-4933-9f3c-e0b8605766c8",
   "metadata": {},
   "source": [
    "The formula extracts the year from each date, then divides the year by 10, discards the remainder (using integer division), and finally multiplies the result back by 10 to get the start year of the decade."
   ]
  },
  {
   "cell_type": "code",
   "execution_count": 8,
   "id": "64402656-5a2d-4353-b9b5-a8a576625533",
   "metadata": {},
   "outputs": [],
   "source": [
    "df_debates_turns['Decade'] = (df_debates_turns['Date'].dt.year // 10) * 10"
   ]
  },
  {
   "cell_type": "code",
   "execution_count": 9,
   "id": "5d18152f-581f-452f-9a6b-2a04c836b2f4",
   "metadata": {},
   "outputs": [
    {
     "data": {
      "text/html": [
       "<div>\n",
       "<style scoped>\n",
       "    .dataframe tbody tr th:only-of-type {\n",
       "        vertical-align: middle;\n",
       "    }\n",
       "\n",
       "    .dataframe tbody tr th {\n",
       "        vertical-align: top;\n",
       "    }\n",
       "\n",
       "    .dataframe thead th {\n",
       "        text-align: right;\n",
       "    }\n",
       "</style>\n",
       "<table border=\"1\" class=\"dataframe\">\n",
       "  <thead>\n",
       "    <tr style=\"text-align: right;\">\n",
       "      <th></th>\n",
       "      <th>Title</th>\n",
       "      <th>Debate</th>\n",
       "      <th>Date</th>\n",
       "      <th>Participants</th>\n",
       "      <th>Moderators</th>\n",
       "      <th>Speaker</th>\n",
       "      <th>Text</th>\n",
       "      <th>Decade</th>\n",
       "    </tr>\n",
       "  </thead>\n",
       "  <tbody>\n",
       "    <tr>\n",
       "      <th>0</th>\n",
       "      <td>September 29, 2020 Debate Transcript</td>\n",
       "      <td>Presidential Debate at Case Western Reserve Un...</td>\n",
       "      <td>2020-09-29</td>\n",
       "      <td>Former Vice President Joe Biden (D) and Presid...</td>\n",
       "      <td>Chris Wallace (Fox News)</td>\n",
       "      <td>TRUMP</td>\n",
       "      <td>Thank you very much, Chris. I will tell you ve...</td>\n",
       "      <td>2020</td>\n",
       "    </tr>\n",
       "    <tr>\n",
       "      <th>1</th>\n",
       "      <td>September 29, 2020 Debate Transcript</td>\n",
       "      <td>Presidential Debate at Case Western Reserve Un...</td>\n",
       "      <td>2020-09-29</td>\n",
       "      <td>Former Vice President Joe Biden (D) and Presid...</td>\n",
       "      <td>Chris Wallace (Fox News)</td>\n",
       "      <td>BIDEN</td>\n",
       "      <td>Well, first of all, thank you for doing this a...</td>\n",
       "      <td>2020</td>\n",
       "    </tr>\n",
       "    <tr>\n",
       "      <th>2</th>\n",
       "      <td>September 29, 2020 Debate Transcript</td>\n",
       "      <td>Presidential Debate at Case Western Reserve Un...</td>\n",
       "      <td>2020-09-29</td>\n",
       "      <td>Former Vice President Joe Biden (D) and Presid...</td>\n",
       "      <td>Chris Wallace (Fox News)</td>\n",
       "      <td>BIDEN</td>\n",
       "      <td>The American people have a right to have a say...</td>\n",
       "      <td>2020</td>\n",
       "    </tr>\n",
       "    <tr>\n",
       "      <th>3</th>\n",
       "      <td>September 29, 2020 Debate Transcript</td>\n",
       "      <td>Presidential Debate at Case Western Reserve Un...</td>\n",
       "      <td>2020-09-29</td>\n",
       "      <td>Former Vice President Joe Biden (D) and Presid...</td>\n",
       "      <td>Chris Wallace (Fox News)</td>\n",
       "      <td>TRUMP</td>\n",
       "      <td>There aren’t a hundred million people with pre...</td>\n",
       "      <td>2020</td>\n",
       "    </tr>\n",
       "    <tr>\n",
       "      <th>4</th>\n",
       "      <td>September 29, 2020 Debate Transcript</td>\n",
       "      <td>Presidential Debate at Case Western Reserve Un...</td>\n",
       "      <td>2020-09-29</td>\n",
       "      <td>Former Vice President Joe Biden (D) and Presid...</td>\n",
       "      <td>Chris Wallace (Fox News)</td>\n",
       "      <td>TRUMP</td>\n",
       "      <td>During that period of time, during that period...</td>\n",
       "      <td>2020</td>\n",
       "    </tr>\n",
       "    <tr>\n",
       "      <th>...</th>\n",
       "      <td>...</td>\n",
       "      <td>...</td>\n",
       "      <td>...</td>\n",
       "      <td>...</td>\n",
       "      <td>...</td>\n",
       "      <td>...</td>\n",
       "      <td>...</td>\n",
       "      <td>...</td>\n",
       "    </tr>\n",
       "    <tr>\n",
       "      <th>3473</th>\n",
       "      <td>October 21, 1960 Debate Transcript</td>\n",
       "      <td>The Fourth Kennedy-Nixon Presidential Debate</td>\n",
       "      <td>1960-10-21</td>\n",
       "      <td>Kennedy-Nixon</td>\n",
       "      <td>QUINCY HOWE</td>\n",
       "      <td>MR. NIXON</td>\n",
       "      <td>I would say that the issue will stay with us a...</td>\n",
       "      <td>1960</td>\n",
       "    </tr>\n",
       "    <tr>\n",
       "      <th>3474</th>\n",
       "      <td>October 21, 1960 Debate Transcript</td>\n",
       "      <td>The Fourth Kennedy-Nixon Presidential Debate</td>\n",
       "      <td>1960-10-21</td>\n",
       "      <td>Kennedy-Nixon</td>\n",
       "      <td>QUINCY HOWE</td>\n",
       "      <td>MR. KENNEDY</td>\n",
       "      <td>Well, Mr. Nixon, to go back to 1955. The resol...</td>\n",
       "      <td>1960</td>\n",
       "    </tr>\n",
       "    <tr>\n",
       "      <th>3475</th>\n",
       "      <td>October 21, 1960 Debate Transcript</td>\n",
       "      <td>The Fourth Kennedy-Nixon Presidential Debate</td>\n",
       "      <td>1960-10-21</td>\n",
       "      <td>Kennedy-Nixon</td>\n",
       "      <td>QUINCY HOWE</td>\n",
       "      <td>MR. KENNEDY</td>\n",
       "      <td>And that’s the testimony of uh – General Twini...</td>\n",
       "      <td>1960</td>\n",
       "    </tr>\n",
       "    <tr>\n",
       "      <th>3476</th>\n",
       "      <td>October 21, 1960 Debate Transcript</td>\n",
       "      <td>The Fourth Kennedy-Nixon Presidential Debate</td>\n",
       "      <td>1960-10-21</td>\n",
       "      <td>Kennedy-Nixon</td>\n",
       "      <td>QUINCY HOWE</td>\n",
       "      <td>MR. KENNEDY</td>\n",
       "      <td>I uh – said that I’ve served this country for ...</td>\n",
       "      <td>1960</td>\n",
       "    </tr>\n",
       "    <tr>\n",
       "      <th>3477</th>\n",
       "      <td>October 21, 1960 Debate Transcript</td>\n",
       "      <td>The Fourth Kennedy-Nixon Presidential Debate</td>\n",
       "      <td>1960-10-21</td>\n",
       "      <td>Kennedy-Nixon</td>\n",
       "      <td>QUINCY HOWE</td>\n",
       "      <td>MR. NIXON</td>\n",
       "      <td>Senator Kennedy has said tonight again what he...</td>\n",
       "      <td>1960</td>\n",
       "    </tr>\n",
       "  </tbody>\n",
       "</table>\n",
       "<p>3478 rows × 8 columns</p>\n",
       "</div>"
      ],
      "text/plain": [
       "                                     Title  \\\n",
       "0     September 29, 2020 Debate Transcript   \n",
       "1     September 29, 2020 Debate Transcript   \n",
       "2     September 29, 2020 Debate Transcript   \n",
       "3     September 29, 2020 Debate Transcript   \n",
       "4     September 29, 2020 Debate Transcript   \n",
       "...                                    ...   \n",
       "3473    October 21, 1960 Debate Transcript   \n",
       "3474    October 21, 1960 Debate Transcript   \n",
       "3475    October 21, 1960 Debate Transcript   \n",
       "3476    October 21, 1960 Debate Transcript   \n",
       "3477    October 21, 1960 Debate Transcript   \n",
       "\n",
       "                                                 Debate       Date  \\\n",
       "0     Presidential Debate at Case Western Reserve Un... 2020-09-29   \n",
       "1     Presidential Debate at Case Western Reserve Un... 2020-09-29   \n",
       "2     Presidential Debate at Case Western Reserve Un... 2020-09-29   \n",
       "3     Presidential Debate at Case Western Reserve Un... 2020-09-29   \n",
       "4     Presidential Debate at Case Western Reserve Un... 2020-09-29   \n",
       "...                                                 ...        ...   \n",
       "3473       The Fourth Kennedy-Nixon Presidential Debate 1960-10-21   \n",
       "3474       The Fourth Kennedy-Nixon Presidential Debate 1960-10-21   \n",
       "3475       The Fourth Kennedy-Nixon Presidential Debate 1960-10-21   \n",
       "3476       The Fourth Kennedy-Nixon Presidential Debate 1960-10-21   \n",
       "3477       The Fourth Kennedy-Nixon Presidential Debate 1960-10-21   \n",
       "\n",
       "                                           Participants  \\\n",
       "0     Former Vice President Joe Biden (D) and Presid...   \n",
       "1     Former Vice President Joe Biden (D) and Presid...   \n",
       "2     Former Vice President Joe Biden (D) and Presid...   \n",
       "3     Former Vice President Joe Biden (D) and Presid...   \n",
       "4     Former Vice President Joe Biden (D) and Presid...   \n",
       "...                                                 ...   \n",
       "3473                                      Kennedy-Nixon   \n",
       "3474                                      Kennedy-Nixon   \n",
       "3475                                      Kennedy-Nixon   \n",
       "3476                                      Kennedy-Nixon   \n",
       "3477                                      Kennedy-Nixon   \n",
       "\n",
       "                    Moderators      Speaker  \\\n",
       "0     Chris Wallace (Fox News)        TRUMP   \n",
       "1     Chris Wallace (Fox News)        BIDEN   \n",
       "2     Chris Wallace (Fox News)        BIDEN   \n",
       "3     Chris Wallace (Fox News)        TRUMP   \n",
       "4     Chris Wallace (Fox News)        TRUMP   \n",
       "...                        ...          ...   \n",
       "3473               QUINCY HOWE    MR. NIXON   \n",
       "3474               QUINCY HOWE  MR. KENNEDY   \n",
       "3475               QUINCY HOWE  MR. KENNEDY   \n",
       "3476               QUINCY HOWE  MR. KENNEDY   \n",
       "3477               QUINCY HOWE    MR. NIXON   \n",
       "\n",
       "                                                   Text  Decade  \n",
       "0     Thank you very much, Chris. I will tell you ve...    2020  \n",
       "1     Well, first of all, thank you for doing this a...    2020  \n",
       "2     The American people have a right to have a say...    2020  \n",
       "3     There aren’t a hundred million people with pre...    2020  \n",
       "4     During that period of time, during that period...    2020  \n",
       "...                                                 ...     ...  \n",
       "3473  I would say that the issue will stay with us a...    1960  \n",
       "3474  Well, Mr. Nixon, to go back to 1955. The resol...    1960  \n",
       "3475  And that’s the testimony of uh – General Twini...    1960  \n",
       "3476  I uh – said that I’ve served this country for ...    1960  \n",
       "3477  Senator Kennedy has said tonight again what he...    1960  \n",
       "\n",
       "[3478 rows x 8 columns]"
      ]
     },
     "execution_count": 9,
     "metadata": {},
     "output_type": "execute_result"
    }
   ],
   "source": [
    "df_debates_turns"
   ]
  },
  {
   "cell_type": "markdown",
   "id": "e79aaf97-2a4e-4a22-9f45-3c9d98b4e15f",
   "metadata": {},
   "source": [
    "## Retrieving the dictionary of speakers' respective political party"
   ]
  },
  {
   "cell_type": "code",
   "execution_count": 10,
   "id": "9c368c13-2788-4a29-a093-d6ed4656a085",
   "metadata": {},
   "outputs": [],
   "source": [
    "candidates_parties = {\n",
    "    'ADMIRAL STOCKDALE': 'independent', \n",
    "    'ANDERSON': 'independent', \n",
    "    'BENTSEN': 'Democratic', \n",
    "    'BIDEN': 'Democratic', \n",
    "    'BUSH': 'Republican', \n",
    "    'CHENEY': 'Republican', \n",
    "    'CLINTON': 'Democratic', \n",
    "    'DOLE': 'Republican', \n",
    "    'DUKAKIS': 'Democratic', \n",
    "    'EDWARDS': 'Democratic', \n",
    "    'FERRARO': 'Democratic', \n",
    "    'GORE': 'Democratic', \n",
    "    'GOV. RONALD REAGAN': 'Republican', \n",
    "    'GOVERNOR CLINTON': 'Democratic', \n",
    "    'HARRIS': 'Democratic', \n",
    "    'KAINE': 'Democratic', \n",
    "    'KEMP': 'Republican', \n",
    "    'KERRY': 'Democratic', \n",
    "    'LIEBERMAN': 'Democratic', \n",
    "    'MCCAIN': 'Republican', \n",
    "    'MR. CARTER': 'Democratic', \n",
    "    'MR. FORD': 'Republican', \n",
    "    'Mr. KENNEDY': 'Democratic', \n",
    "    'MR. KENNEDY': 'Democratic', \n",
    "    'MR. MONDALE': 'Democratic', \n",
    "    'Mr. NIXON': 'Republican', \n",
    "    'MR. NIXON': 'Republican', \n",
    "    'MR. REAGAN': 'Republican', \n",
    "    'MR.FORD': 'Republican', \n",
    "    'OBAMA': 'Democratic', \n",
    "    'PALIN': 'Republican', \n",
    "    'PENCE': 'Republican', \n",
    "    'PEROT': 'independent', \n",
    "    'PRESIDENT BUSH': 'Republican', \n",
    "    'PRESIDENT GEORGE BUSH': '', \n",
    "    'QUAYLE': 'Republican', \n",
    "    'REAGAN': 'Republican', \n",
    "    'REP. JOHN B. ANDERSON': 'independent', \n",
    "    'RYAN': 'Republican', \n",
    "    'ROMNEHY': 'Republican', \n",
    "    'ROMNEY': 'Republican', \n",
    "    'ROSS PEROT': 'independent', \n",
    "    'SENATOR GORE': 'Democratic', \n",
    "    'SENATOR KENNEDY': 'Democratic', \n",
    "    'STOCKDALE': 'independent', \n",
    "    'THE PRESIDENT': 'Republican', \n",
    "    'The President': 'Republican', \n",
    "    'TRUMP': 'Republican', \n",
    "    'VICE PRESIDENT QUAYLE': 'Republican'\n",
    "}"
   ]
  },
  {
   "cell_type": "markdown",
   "id": "d1a9105e-5fab-4b83-aab2-4e6e7b1cd861",
   "metadata": {},
   "source": [
    "## Creating the column `Party` based on the dictionary `candidates_parties`"
   ]
  },
  {
   "cell_type": "code",
   "execution_count": 11,
   "id": "d1684e19-8f01-44ba-8cc9-d22e252a2a72",
   "metadata": {},
   "outputs": [],
   "source": [
    "df_debates_turns['Party'] = df_debates_turns['Speaker'].map(candidates_parties)"
   ]
  },
  {
   "cell_type": "code",
   "execution_count": 12,
   "id": "0dc39513-bc62-4386-8e0d-ce69d49cd103",
   "metadata": {},
   "outputs": [
    {
     "data": {
      "text/html": [
       "<div>\n",
       "<style scoped>\n",
       "    .dataframe tbody tr th:only-of-type {\n",
       "        vertical-align: middle;\n",
       "    }\n",
       "\n",
       "    .dataframe tbody tr th {\n",
       "        vertical-align: top;\n",
       "    }\n",
       "\n",
       "    .dataframe thead th {\n",
       "        text-align: right;\n",
       "    }\n",
       "</style>\n",
       "<table border=\"1\" class=\"dataframe\">\n",
       "  <thead>\n",
       "    <tr style=\"text-align: right;\">\n",
       "      <th></th>\n",
       "      <th>Title</th>\n",
       "      <th>Debate</th>\n",
       "      <th>Date</th>\n",
       "      <th>Participants</th>\n",
       "      <th>Moderators</th>\n",
       "      <th>Speaker</th>\n",
       "      <th>Text</th>\n",
       "      <th>Decade</th>\n",
       "      <th>Party</th>\n",
       "    </tr>\n",
       "  </thead>\n",
       "  <tbody>\n",
       "    <tr>\n",
       "      <th>0</th>\n",
       "      <td>September 29, 2020 Debate Transcript</td>\n",
       "      <td>Presidential Debate at Case Western Reserve Un...</td>\n",
       "      <td>2020-09-29</td>\n",
       "      <td>Former Vice President Joe Biden (D) and Presid...</td>\n",
       "      <td>Chris Wallace (Fox News)</td>\n",
       "      <td>TRUMP</td>\n",
       "      <td>Thank you very much, Chris. I will tell you ve...</td>\n",
       "      <td>2020</td>\n",
       "      <td>Republican</td>\n",
       "    </tr>\n",
       "    <tr>\n",
       "      <th>1</th>\n",
       "      <td>September 29, 2020 Debate Transcript</td>\n",
       "      <td>Presidential Debate at Case Western Reserve Un...</td>\n",
       "      <td>2020-09-29</td>\n",
       "      <td>Former Vice President Joe Biden (D) and Presid...</td>\n",
       "      <td>Chris Wallace (Fox News)</td>\n",
       "      <td>BIDEN</td>\n",
       "      <td>Well, first of all, thank you for doing this a...</td>\n",
       "      <td>2020</td>\n",
       "      <td>Democratic</td>\n",
       "    </tr>\n",
       "    <tr>\n",
       "      <th>2</th>\n",
       "      <td>September 29, 2020 Debate Transcript</td>\n",
       "      <td>Presidential Debate at Case Western Reserve Un...</td>\n",
       "      <td>2020-09-29</td>\n",
       "      <td>Former Vice President Joe Biden (D) and Presid...</td>\n",
       "      <td>Chris Wallace (Fox News)</td>\n",
       "      <td>BIDEN</td>\n",
       "      <td>The American people have a right to have a say...</td>\n",
       "      <td>2020</td>\n",
       "      <td>Democratic</td>\n",
       "    </tr>\n",
       "    <tr>\n",
       "      <th>3</th>\n",
       "      <td>September 29, 2020 Debate Transcript</td>\n",
       "      <td>Presidential Debate at Case Western Reserve Un...</td>\n",
       "      <td>2020-09-29</td>\n",
       "      <td>Former Vice President Joe Biden (D) and Presid...</td>\n",
       "      <td>Chris Wallace (Fox News)</td>\n",
       "      <td>TRUMP</td>\n",
       "      <td>There aren’t a hundred million people with pre...</td>\n",
       "      <td>2020</td>\n",
       "      <td>Republican</td>\n",
       "    </tr>\n",
       "    <tr>\n",
       "      <th>4</th>\n",
       "      <td>September 29, 2020 Debate Transcript</td>\n",
       "      <td>Presidential Debate at Case Western Reserve Un...</td>\n",
       "      <td>2020-09-29</td>\n",
       "      <td>Former Vice President Joe Biden (D) and Presid...</td>\n",
       "      <td>Chris Wallace (Fox News)</td>\n",
       "      <td>TRUMP</td>\n",
       "      <td>During that period of time, during that period...</td>\n",
       "      <td>2020</td>\n",
       "      <td>Republican</td>\n",
       "    </tr>\n",
       "    <tr>\n",
       "      <th>...</th>\n",
       "      <td>...</td>\n",
       "      <td>...</td>\n",
       "      <td>...</td>\n",
       "      <td>...</td>\n",
       "      <td>...</td>\n",
       "      <td>...</td>\n",
       "      <td>...</td>\n",
       "      <td>...</td>\n",
       "      <td>...</td>\n",
       "    </tr>\n",
       "    <tr>\n",
       "      <th>3473</th>\n",
       "      <td>October 21, 1960 Debate Transcript</td>\n",
       "      <td>The Fourth Kennedy-Nixon Presidential Debate</td>\n",
       "      <td>1960-10-21</td>\n",
       "      <td>Kennedy-Nixon</td>\n",
       "      <td>QUINCY HOWE</td>\n",
       "      <td>MR. NIXON</td>\n",
       "      <td>I would say that the issue will stay with us a...</td>\n",
       "      <td>1960</td>\n",
       "      <td>Republican</td>\n",
       "    </tr>\n",
       "    <tr>\n",
       "      <th>3474</th>\n",
       "      <td>October 21, 1960 Debate Transcript</td>\n",
       "      <td>The Fourth Kennedy-Nixon Presidential Debate</td>\n",
       "      <td>1960-10-21</td>\n",
       "      <td>Kennedy-Nixon</td>\n",
       "      <td>QUINCY HOWE</td>\n",
       "      <td>MR. KENNEDY</td>\n",
       "      <td>Well, Mr. Nixon, to go back to 1955. The resol...</td>\n",
       "      <td>1960</td>\n",
       "      <td>Democratic</td>\n",
       "    </tr>\n",
       "    <tr>\n",
       "      <th>3475</th>\n",
       "      <td>October 21, 1960 Debate Transcript</td>\n",
       "      <td>The Fourth Kennedy-Nixon Presidential Debate</td>\n",
       "      <td>1960-10-21</td>\n",
       "      <td>Kennedy-Nixon</td>\n",
       "      <td>QUINCY HOWE</td>\n",
       "      <td>MR. KENNEDY</td>\n",
       "      <td>And that’s the testimony of uh – General Twini...</td>\n",
       "      <td>1960</td>\n",
       "      <td>Democratic</td>\n",
       "    </tr>\n",
       "    <tr>\n",
       "      <th>3476</th>\n",
       "      <td>October 21, 1960 Debate Transcript</td>\n",
       "      <td>The Fourth Kennedy-Nixon Presidential Debate</td>\n",
       "      <td>1960-10-21</td>\n",
       "      <td>Kennedy-Nixon</td>\n",
       "      <td>QUINCY HOWE</td>\n",
       "      <td>MR. KENNEDY</td>\n",
       "      <td>I uh – said that I’ve served this country for ...</td>\n",
       "      <td>1960</td>\n",
       "      <td>Democratic</td>\n",
       "    </tr>\n",
       "    <tr>\n",
       "      <th>3477</th>\n",
       "      <td>October 21, 1960 Debate Transcript</td>\n",
       "      <td>The Fourth Kennedy-Nixon Presidential Debate</td>\n",
       "      <td>1960-10-21</td>\n",
       "      <td>Kennedy-Nixon</td>\n",
       "      <td>QUINCY HOWE</td>\n",
       "      <td>MR. NIXON</td>\n",
       "      <td>Senator Kennedy has said tonight again what he...</td>\n",
       "      <td>1960</td>\n",
       "      <td>Republican</td>\n",
       "    </tr>\n",
       "  </tbody>\n",
       "</table>\n",
       "<p>3478 rows × 9 columns</p>\n",
       "</div>"
      ],
      "text/plain": [
       "                                     Title  \\\n",
       "0     September 29, 2020 Debate Transcript   \n",
       "1     September 29, 2020 Debate Transcript   \n",
       "2     September 29, 2020 Debate Transcript   \n",
       "3     September 29, 2020 Debate Transcript   \n",
       "4     September 29, 2020 Debate Transcript   \n",
       "...                                    ...   \n",
       "3473    October 21, 1960 Debate Transcript   \n",
       "3474    October 21, 1960 Debate Transcript   \n",
       "3475    October 21, 1960 Debate Transcript   \n",
       "3476    October 21, 1960 Debate Transcript   \n",
       "3477    October 21, 1960 Debate Transcript   \n",
       "\n",
       "                                                 Debate       Date  \\\n",
       "0     Presidential Debate at Case Western Reserve Un... 2020-09-29   \n",
       "1     Presidential Debate at Case Western Reserve Un... 2020-09-29   \n",
       "2     Presidential Debate at Case Western Reserve Un... 2020-09-29   \n",
       "3     Presidential Debate at Case Western Reserve Un... 2020-09-29   \n",
       "4     Presidential Debate at Case Western Reserve Un... 2020-09-29   \n",
       "...                                                 ...        ...   \n",
       "3473       The Fourth Kennedy-Nixon Presidential Debate 1960-10-21   \n",
       "3474       The Fourth Kennedy-Nixon Presidential Debate 1960-10-21   \n",
       "3475       The Fourth Kennedy-Nixon Presidential Debate 1960-10-21   \n",
       "3476       The Fourth Kennedy-Nixon Presidential Debate 1960-10-21   \n",
       "3477       The Fourth Kennedy-Nixon Presidential Debate 1960-10-21   \n",
       "\n",
       "                                           Participants  \\\n",
       "0     Former Vice President Joe Biden (D) and Presid...   \n",
       "1     Former Vice President Joe Biden (D) and Presid...   \n",
       "2     Former Vice President Joe Biden (D) and Presid...   \n",
       "3     Former Vice President Joe Biden (D) and Presid...   \n",
       "4     Former Vice President Joe Biden (D) and Presid...   \n",
       "...                                                 ...   \n",
       "3473                                      Kennedy-Nixon   \n",
       "3474                                      Kennedy-Nixon   \n",
       "3475                                      Kennedy-Nixon   \n",
       "3476                                      Kennedy-Nixon   \n",
       "3477                                      Kennedy-Nixon   \n",
       "\n",
       "                    Moderators      Speaker  \\\n",
       "0     Chris Wallace (Fox News)        TRUMP   \n",
       "1     Chris Wallace (Fox News)        BIDEN   \n",
       "2     Chris Wallace (Fox News)        BIDEN   \n",
       "3     Chris Wallace (Fox News)        TRUMP   \n",
       "4     Chris Wallace (Fox News)        TRUMP   \n",
       "...                        ...          ...   \n",
       "3473               QUINCY HOWE    MR. NIXON   \n",
       "3474               QUINCY HOWE  MR. KENNEDY   \n",
       "3475               QUINCY HOWE  MR. KENNEDY   \n",
       "3476               QUINCY HOWE  MR. KENNEDY   \n",
       "3477               QUINCY HOWE    MR. NIXON   \n",
       "\n",
       "                                                   Text  Decade       Party  \n",
       "0     Thank you very much, Chris. I will tell you ve...    2020  Republican  \n",
       "1     Well, first of all, thank you for doing this a...    2020  Democratic  \n",
       "2     The American people have a right to have a say...    2020  Democratic  \n",
       "3     There aren’t a hundred million people with pre...    2020  Republican  \n",
       "4     During that period of time, during that period...    2020  Republican  \n",
       "...                                                 ...     ...         ...  \n",
       "3473  I would say that the issue will stay with us a...    1960  Republican  \n",
       "3474  Well, Mr. Nixon, to go back to 1955. The resol...    1960  Democratic  \n",
       "3475  And that’s the testimony of uh – General Twini...    1960  Democratic  \n",
       "3476  I uh – said that I’ve served this country for ...    1960  Democratic  \n",
       "3477  Senator Kennedy has said tonight again what he...    1960  Republican  \n",
       "\n",
       "[3478 rows x 9 columns]"
      ]
     },
     "execution_count": 12,
     "metadata": {},
     "output_type": "execute_result"
    }
   ],
   "source": [
    "df_debates_turns"
   ]
  },
  {
   "cell_type": "code",
   "execution_count": 13,
   "id": "dd7eb15f-b35a-4284-a375-dc947977858d",
   "metadata": {},
   "outputs": [
    {
     "data": {
      "text/plain": [
       "Title                   object\n",
       "Debate                  object\n",
       "Date            datetime64[ns]\n",
       "Participants            object\n",
       "Moderators              object\n",
       "Speaker                 object\n",
       "Text                    object\n",
       "Decade                   int32\n",
       "Party                   object\n",
       "dtype: object"
      ]
     },
     "execution_count": 13,
     "metadata": {},
     "output_type": "execute_result"
    }
   ],
   "source": [
    "df_debates_turns.dtypes"
   ]
  },
  {
   "cell_type": "markdown",
   "id": "56cb4972-68a4-4ade-9b93-75d894983c83",
   "metadata": {},
   "source": [
    "### Checking if there are any missing values in the column `Party`"
   ]
  },
  {
   "cell_type": "code",
   "execution_count": 14,
   "id": "ae537d64-3616-4aee-be7e-3962e72641f4",
   "metadata": {},
   "outputs": [
    {
     "name": "stdout",
     "output_type": "stream",
     "text": [
      "0\n"
     ]
    }
   ],
   "source": [
    "print(df_debates_turns['Party'].isnull().sum())"
   ]
  },
  {
   "cell_type": "markdown",
   "id": "1b647668-3dfa-4043-b818-92bc83af1965",
   "metadata": {},
   "source": [
    "## Exporting to a file"
   ]
  },
  {
   "cell_type": "code",
   "execution_count": null,
   "id": "ad2a16e2-984a-4f1d-b1a3-183f5a58e0a5",
   "metadata": {},
   "outputs": [],
   "source": [
    "df_debates_turns[['Title', 'Debate', 'Date', 'Decade', 'Participants', 'Moderators', 'Speaker', 'Party', 'Text']].to_json(f'{output_directory}/debates_turns_republican.jsonl', orient='records', lines=True)"
   ]
  },
  {
   "cell_type": "code",
   "execution_count": null,
   "id": "891639bb-8b7a-4e59-b9ba-fb85a0cb0196",
   "metadata": {},
   "outputs": [],
   "source": []
  }
 ],
 "metadata": {
  "kernelspec": {
   "display_name": "my_env",
   "language": "python",
   "name": "my_env"
  },
  "language_info": {
   "codemirror_mode": {
    "name": "ipython",
    "version": 3
   },
   "file_extension": ".py",
   "mimetype": "text/x-python",
   "name": "python",
   "nbconvert_exporter": "python",
   "pygments_lexer": "ipython3",
   "version": "3.10.12"
  }
 },
 "nbformat": 4,
 "nbformat_minor": 5
}
