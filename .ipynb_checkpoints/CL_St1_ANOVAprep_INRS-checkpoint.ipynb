{
 "cells": [
  {
   "cell_type": "markdown",
   "id": "810d9f10-ec19-4b09-8f90-e983e460b319",
   "metadata": {
    "jp-MarkdownHeadingCollapsed": true
   },
   "source": [
    "<center>\n",
    "<img src=\"https://laelgelcpublic.s3.sa-east-1.amazonaws.com/lael_50_years_narrow_white.png.no_years.400px_96dpi.png\" width=\"300\" alt=\"LAEL 50 years logo\">\n",
    "<h3>APPLIED LINGUISTICS GRADUATE PROGRAMME (LAEL)</h3>\n",
    "</center>\n",
    "<hr>"
   ]
  },
  {
   "cell_type": "markdown",
   "id": "888c2c96-2fc3-4a1a-995b-c388036a2a15",
   "metadata": {},
   "source": [
    "# Corpus Linguistics - Study 1 - ANOVA Preparation - INRS"
   ]
  },
  {
   "cell_type": "markdown",
   "id": "e33f6dbb-dd98-4e39-becf-9b13b7866c03",
   "metadata": {},
   "source": [
    "## What is `ANOVA`?"
   ]
  },
  {
   "cell_type": "markdown",
   "id": "f8e575e2-313d-4fb5-a8a8-6207cfd2daca",
   "metadata": {},
   "source": [
    "ANOVA, which stands for Analysis of Variance, is a statistical method used to compare the means of three or more groups to determine if there are any statistically significant differences between them. It helps in understanding whether the variation in data is due to the differences between the groups or just random chance.\n",
    "\n",
    "Please refer to:\n",
    "- [Analysis of Variance](https://en.wikipedia.org/wiki/Analysis_of_variance)"
   ]
  },
  {
   "cell_type": "markdown",
   "id": "3ec296e2-599f-4fd5-b9ee-f5e5a4474762",
   "metadata": {},
   "source": [
    "## Required Python packages"
   ]
  },
  {
   "cell_type": "markdown",
   "id": "7cd8e0f9-f484-49c6-b287-bd74bbee4b98",
   "metadata": {},
   "source": [
    "- pandas\n",
    "- yake"
   ]
  },
  {
   "cell_type": "markdown",
   "id": "7a9c2af7-9fc1-4f51-a4f5-2ed915b93039",
   "metadata": {},
   "source": [
    "## Importing the required libraries"
   ]
  },
  {
   "cell_type": "code",
   "execution_count": 1,
   "id": "e6689499-d19d-4b0c-befd-f88926b7105d",
   "metadata": {},
   "outputs": [],
   "source": [
    "import pandas as pd\n",
    "import re\n",
    "import shutil\n",
    "import yake"
   ]
  },
  {
   "cell_type": "markdown",
   "id": "2a5a1b61-b7af-4bee-89aa-a8f1d2af2f89",
   "metadata": {},
   "source": [
    "## Extracting key words from non-lemmatised text"
   ]
  },
  {
   "cell_type": "markdown",
   "id": "9a79a002-c182-4021-9b77-99ad470582af",
   "metadata": {},
   "source": [
    "### Importing the raw data into a DataFrame"
   ]
  },
  {
   "cell_type": "markdown",
   "id": "53d61014-7ade-437b-86fd-ee3dd1c0b1c2",
   "metadata": {},
   "source": [
    "#### `Republican + Democratic + Independent` data set"
   ]
  },
  {
   "cell_type": "code",
   "execution_count": 2,
   "id": "82eab174-e617-4c7d-8564-61ad93854132",
   "metadata": {},
   "outputs": [],
   "source": [
    "df_debates_turns = pd.read_json('cl_st1_inrs_tc/debates_turns.jsonl', lines=True)"
   ]
  },
  {
   "cell_type": "code",
   "execution_count": 3,
   "id": "acc14dcd-c413-4aa8-baca-c2774287cada",
   "metadata": {},
   "outputs": [
    {
     "data": {
      "text/plain": [
       "Title           object\n",
       "Debate          object\n",
       "Date             int64\n",
       "Participants    object\n",
       "Moderators      object\n",
       "Speaker         object\n",
       "Text            object\n",
       "dtype: object"
      ]
     },
     "execution_count": 3,
     "metadata": {},
     "output_type": "execute_result"
    }
   ],
   "source": [
    "df_debates_turns.dtypes"
   ]
  },
  {
   "cell_type": "markdown",
   "id": "110fc4c7-fc92-4300-abb1-c6fea2a812c7",
   "metadata": {},
   "source": [
    "When a DataFrame with a `datetime64[ns]` column is exported to `JSONL`, the dates are converted to UNIX timestamps (milliseconds since the epoch). When you import the JSONL file back into a DataFrame, these timestamps are read as integers. To convert these integers back to `datetime64[ns]` format, you can use the `pd.to_datetime()` function with the `unit` parameter set to 'ms' (milliseconds)."
   ]
  },
  {
   "cell_type": "code",
   "execution_count": 4,
   "id": "e8677bae-66d5-44ec-b281-7c2adfc2edf8",
   "metadata": {},
   "outputs": [],
   "source": [
    "df_debates_turns['Date'] = pd.to_datetime(df_debates_turns['Date'], unit='ms')"
   ]
  },
  {
   "cell_type": "code",
   "execution_count": 5,
   "id": "3fc0ad6f-7fbe-4d8a-8ef7-0aaa390b923d",
   "metadata": {},
   "outputs": [
    {
     "data": {
      "text/plain": [
       "Title                   object\n",
       "Debate                  object\n",
       "Date            datetime64[ns]\n",
       "Participants            object\n",
       "Moderators              object\n",
       "Speaker                 object\n",
       "Text                    object\n",
       "dtype: object"
      ]
     },
     "execution_count": 5,
     "metadata": {},
     "output_type": "execute_result"
    }
   ],
   "source": [
    "df_debates_turns.dtypes"
   ]
  },
  {
   "cell_type": "code",
   "execution_count": 6,
   "id": "31a6fbd7-2a96-4482-a50a-9abbce66e264",
   "metadata": {},
   "outputs": [
    {
     "data": {
      "text/html": [
       "<div>\n",
       "<style scoped>\n",
       "    .dataframe tbody tr th:only-of-type {\n",
       "        vertical-align: middle;\n",
       "    }\n",
       "\n",
       "    .dataframe tbody tr th {\n",
       "        vertical-align: top;\n",
       "    }\n",
       "\n",
       "    .dataframe thead th {\n",
       "        text-align: right;\n",
       "    }\n",
       "</style>\n",
       "<table border=\"1\" class=\"dataframe\">\n",
       "  <thead>\n",
       "    <tr style=\"text-align: right;\">\n",
       "      <th></th>\n",
       "      <th>Title</th>\n",
       "      <th>Debate</th>\n",
       "      <th>Date</th>\n",
       "      <th>Participants</th>\n",
       "      <th>Moderators</th>\n",
       "      <th>Speaker</th>\n",
       "      <th>Text</th>\n",
       "    </tr>\n",
       "  </thead>\n",
       "  <tbody>\n",
       "    <tr>\n",
       "      <th>0</th>\n",
       "      <td>September 29, 2020 Debate Transcript</td>\n",
       "      <td>Presidential Debate at Case Western Reserve Un...</td>\n",
       "      <td>2020-09-29</td>\n",
       "      <td>Former Vice President Joe Biden (D) and Presid...</td>\n",
       "      <td>Chris Wallace (Fox News)</td>\n",
       "      <td>TRUMP</td>\n",
       "      <td>Thank you very much, Chris. I will tell you ve...</td>\n",
       "    </tr>\n",
       "    <tr>\n",
       "      <th>1</th>\n",
       "      <td>September 29, 2020 Debate Transcript</td>\n",
       "      <td>Presidential Debate at Case Western Reserve Un...</td>\n",
       "      <td>2020-09-29</td>\n",
       "      <td>Former Vice President Joe Biden (D) and Presid...</td>\n",
       "      <td>Chris Wallace (Fox News)</td>\n",
       "      <td>BIDEN</td>\n",
       "      <td>Well, first of all, thank you for doing this a...</td>\n",
       "    </tr>\n",
       "    <tr>\n",
       "      <th>2</th>\n",
       "      <td>September 29, 2020 Debate Transcript</td>\n",
       "      <td>Presidential Debate at Case Western Reserve Un...</td>\n",
       "      <td>2020-09-29</td>\n",
       "      <td>Former Vice President Joe Biden (D) and Presid...</td>\n",
       "      <td>Chris Wallace (Fox News)</td>\n",
       "      <td>BIDEN</td>\n",
       "      <td>The American people have a right to have a say...</td>\n",
       "    </tr>\n",
       "    <tr>\n",
       "      <th>3</th>\n",
       "      <td>September 29, 2020 Debate Transcript</td>\n",
       "      <td>Presidential Debate at Case Western Reserve Un...</td>\n",
       "      <td>2020-09-29</td>\n",
       "      <td>Former Vice President Joe Biden (D) and Presid...</td>\n",
       "      <td>Chris Wallace (Fox News)</td>\n",
       "      <td>TRUMP</td>\n",
       "      <td>There aren’t a hundred million people with pre...</td>\n",
       "    </tr>\n",
       "    <tr>\n",
       "      <th>4</th>\n",
       "      <td>September 29, 2020 Debate Transcript</td>\n",
       "      <td>Presidential Debate at Case Western Reserve Un...</td>\n",
       "      <td>2020-09-29</td>\n",
       "      <td>Former Vice President Joe Biden (D) and Presid...</td>\n",
       "      <td>Chris Wallace (Fox News)</td>\n",
       "      <td>TRUMP</td>\n",
       "      <td>During that period of time, during that period...</td>\n",
       "    </tr>\n",
       "  </tbody>\n",
       "</table>\n",
       "</div>"
      ],
      "text/plain": [
       "                                  Title  \\\n",
       "0  September 29, 2020 Debate Transcript   \n",
       "1  September 29, 2020 Debate Transcript   \n",
       "2  September 29, 2020 Debate Transcript   \n",
       "3  September 29, 2020 Debate Transcript   \n",
       "4  September 29, 2020 Debate Transcript   \n",
       "\n",
       "                                              Debate       Date  \\\n",
       "0  Presidential Debate at Case Western Reserve Un... 2020-09-29   \n",
       "1  Presidential Debate at Case Western Reserve Un... 2020-09-29   \n",
       "2  Presidential Debate at Case Western Reserve Un... 2020-09-29   \n",
       "3  Presidential Debate at Case Western Reserve Un... 2020-09-29   \n",
       "4  Presidential Debate at Case Western Reserve Un... 2020-09-29   \n",
       "\n",
       "                                        Participants  \\\n",
       "0  Former Vice President Joe Biden (D) and Presid...   \n",
       "1  Former Vice President Joe Biden (D) and Presid...   \n",
       "2  Former Vice President Joe Biden (D) and Presid...   \n",
       "3  Former Vice President Joe Biden (D) and Presid...   \n",
       "4  Former Vice President Joe Biden (D) and Presid...   \n",
       "\n",
       "                 Moderators Speaker  \\\n",
       "0  Chris Wallace (Fox News)   TRUMP   \n",
       "1  Chris Wallace (Fox News)   BIDEN   \n",
       "2  Chris Wallace (Fox News)   BIDEN   \n",
       "3  Chris Wallace (Fox News)   TRUMP   \n",
       "4  Chris Wallace (Fox News)   TRUMP   \n",
       "\n",
       "                                                Text  \n",
       "0  Thank you very much, Chris. I will tell you ve...  \n",
       "1  Well, first of all, thank you for doing this a...  \n",
       "2  The American people have a right to have a say...  \n",
       "3  There aren’t a hundred million people with pre...  \n",
       "4  During that period of time, during that period...  "
      ]
     },
     "execution_count": 6,
     "metadata": {},
     "output_type": "execute_result"
    }
   ],
   "source": [
    "df_debates_turns.head(5)"
   ]
  },
  {
   "cell_type": "markdown",
   "id": "d19713dc-b254-4f80-8e1f-c12f884d6096",
   "metadata": {},
   "source": [
    "##### Checking the number of texts"
   ]
  },
  {
   "cell_type": "code",
   "execution_count": 7,
   "id": "5ff51e89-954d-422e-a0ac-dd5d2867bc48",
   "metadata": {},
   "outputs": [
    {
     "data": {
      "text/plain": [
       "(3478, 7)"
      ]
     },
     "execution_count": 7,
     "metadata": {},
     "output_type": "execute_result"
    }
   ],
   "source": [
    "df_debates_turns.shape"
   ]
  },
  {
   "cell_type": "markdown",
   "id": "03bd2975-f291-4fdb-9c2f-51dd6b8c269d",
   "metadata": {},
   "source": [
    "##### Inspecting a few texts"
   ]
  },
  {
   "cell_type": "code",
   "execution_count": 8,
   "id": "6109d2f2-4cd1-43ce-86fe-7fb7f1ff8910",
   "metadata": {},
   "outputs": [
    {
     "name": "stdout",
     "output_type": "stream",
     "text": [
      "Speaker:TRUMP\n",
      "Text:Thank you very much, Chris. I will tell you very simply. We won the election. Elections have consequences. We have the Senate, we have the White House, and we have a phenomenal nominee respected by all. Top, top academic, good in every way. Good in every way. In fact, some of her biggest endorsers are very liberal people from Notre Dame and other places. So I think she’s going to be fantastic. We have plenty of time. Even if we did it after the election itself. I have a lot of time after the election, as you know. So I think that she will be outstanding. She’s going to be as good as anybody that has served on that court. We really feel that. We have a professor at Notre Dame, highly respected by all, said she’s the single greatest student he’s ever had. He’s been a professor for a long time at a great school. And we won the election and therefore we have the right to choose her, and very few people knowingly would say otherwise. And by the way, the Democrats, they wouldn’t even think about not doing it. The only difference is they’d try and do it faster. There’s no way they would give it up. They had Merrick Garland, but the problem is they didn’t have the election so they were stopped. And probably that would happen in reverse, also. Definitely would happen in reverse. So we won the election and we have the right to do it, Chris.\n"
     ]
    }
   ],
   "source": [
    "inspected_row = 0\n",
    "print('Speaker:' + df_debates_turns.loc[inspected_row, 'Speaker'])\n",
    "print('Text:' + df_debates_turns.loc[inspected_row, 'Text'])"
   ]
  },
  {
   "cell_type": "markdown",
   "id": "c0db3847-c807-4504-9324-b114074300f8",
   "metadata": {},
   "source": [
    "### Creating a test data set"
   ]
  },
  {
   "cell_type": "code",
   "execution_count": 9,
   "id": "232e0d4b-7dec-424b-8f05-94f1cbf255d5",
   "metadata": {},
   "outputs": [],
   "source": [
    "df_debates_turns_test = df_debates_turns.head(10)"
   ]
  },
  {
   "cell_type": "code",
   "execution_count": 10,
   "id": "10777bda-ed10-4cdb-8541-54e3006d197c",
   "metadata": {},
   "outputs": [
    {
     "data": {
      "text/html": [
       "<div>\n",
       "<style scoped>\n",
       "    .dataframe tbody tr th:only-of-type {\n",
       "        vertical-align: middle;\n",
       "    }\n",
       "\n",
       "    .dataframe tbody tr th {\n",
       "        vertical-align: top;\n",
       "    }\n",
       "\n",
       "    .dataframe thead th {\n",
       "        text-align: right;\n",
       "    }\n",
       "</style>\n",
       "<table border=\"1\" class=\"dataframe\">\n",
       "  <thead>\n",
       "    <tr style=\"text-align: right;\">\n",
       "      <th></th>\n",
       "      <th>Title</th>\n",
       "      <th>Debate</th>\n",
       "      <th>Date</th>\n",
       "      <th>Participants</th>\n",
       "      <th>Moderators</th>\n",
       "      <th>Speaker</th>\n",
       "      <th>Text</th>\n",
       "    </tr>\n",
       "  </thead>\n",
       "  <tbody>\n",
       "    <tr>\n",
       "      <th>0</th>\n",
       "      <td>September 29, 2020 Debate Transcript</td>\n",
       "      <td>Presidential Debate at Case Western Reserve Un...</td>\n",
       "      <td>2020-09-29</td>\n",
       "      <td>Former Vice President Joe Biden (D) and Presid...</td>\n",
       "      <td>Chris Wallace (Fox News)</td>\n",
       "      <td>TRUMP</td>\n",
       "      <td>Thank you very much, Chris. I will tell you ve...</td>\n",
       "    </tr>\n",
       "    <tr>\n",
       "      <th>1</th>\n",
       "      <td>September 29, 2020 Debate Transcript</td>\n",
       "      <td>Presidential Debate at Case Western Reserve Un...</td>\n",
       "      <td>2020-09-29</td>\n",
       "      <td>Former Vice President Joe Biden (D) and Presid...</td>\n",
       "      <td>Chris Wallace (Fox News)</td>\n",
       "      <td>BIDEN</td>\n",
       "      <td>Well, first of all, thank you for doing this a...</td>\n",
       "    </tr>\n",
       "    <tr>\n",
       "      <th>2</th>\n",
       "      <td>September 29, 2020 Debate Transcript</td>\n",
       "      <td>Presidential Debate at Case Western Reserve Un...</td>\n",
       "      <td>2020-09-29</td>\n",
       "      <td>Former Vice President Joe Biden (D) and Presid...</td>\n",
       "      <td>Chris Wallace (Fox News)</td>\n",
       "      <td>BIDEN</td>\n",
       "      <td>The American people have a right to have a say...</td>\n",
       "    </tr>\n",
       "    <tr>\n",
       "      <th>3</th>\n",
       "      <td>September 29, 2020 Debate Transcript</td>\n",
       "      <td>Presidential Debate at Case Western Reserve Un...</td>\n",
       "      <td>2020-09-29</td>\n",
       "      <td>Former Vice President Joe Biden (D) and Presid...</td>\n",
       "      <td>Chris Wallace (Fox News)</td>\n",
       "      <td>TRUMP</td>\n",
       "      <td>There aren’t a hundred million people with pre...</td>\n",
       "    </tr>\n",
       "    <tr>\n",
       "      <th>4</th>\n",
       "      <td>September 29, 2020 Debate Transcript</td>\n",
       "      <td>Presidential Debate at Case Western Reserve Un...</td>\n",
       "      <td>2020-09-29</td>\n",
       "      <td>Former Vice President Joe Biden (D) and Presid...</td>\n",
       "      <td>Chris Wallace (Fox News)</td>\n",
       "      <td>TRUMP</td>\n",
       "      <td>During that period of time, during that period...</td>\n",
       "    </tr>\n",
       "    <tr>\n",
       "      <th>5</th>\n",
       "      <td>September 29, 2020 Debate Transcript</td>\n",
       "      <td>Presidential Debate at Case Western Reserve Un...</td>\n",
       "      <td>2020-09-29</td>\n",
       "      <td>Former Vice President Joe Biden (D) and Presid...</td>\n",
       "      <td>Chris Wallace (Fox News)</td>\n",
       "      <td>TRUMP</td>\n",
       "      <td>Well, you’re certainly going to socialist. You...</td>\n",
       "    </tr>\n",
       "    <tr>\n",
       "      <th>6</th>\n",
       "      <td>September 29, 2020 Debate Transcript</td>\n",
       "      <td>Presidential Debate at Case Western Reserve Un...</td>\n",
       "      <td>2020-09-29</td>\n",
       "      <td>Former Vice President Joe Biden (D) and Presid...</td>\n",
       "      <td>Chris Wallace (Fox News)</td>\n",
       "      <td>BIDEN</td>\n",
       "      <td>Number one, he knows what I proposed. What I p...</td>\n",
       "    </tr>\n",
       "    <tr>\n",
       "      <th>7</th>\n",
       "      <td>September 29, 2020 Debate Transcript</td>\n",
       "      <td>Presidential Debate at Case Western Reserve Un...</td>\n",
       "      <td>2020-09-29</td>\n",
       "      <td>Former Vice President Joe Biden (D) and Presid...</td>\n",
       "      <td>Chris Wallace (Fox News)</td>\n",
       "      <td>TRUMP</td>\n",
       "      <td>That’s not what you’ve said and it’s not what ...</td>\n",
       "    </tr>\n",
       "    <tr>\n",
       "      <th>8</th>\n",
       "      <td>September 29, 2020 Debate Transcript</td>\n",
       "      <td>Presidential Debate at Case Western Reserve Un...</td>\n",
       "      <td>2020-09-29</td>\n",
       "      <td>Former Vice President Joe Biden (D) and Presid...</td>\n",
       "      <td>Chris Wallace (Fox News)</td>\n",
       "      <td>TRUMP</td>\n",
       "      <td>Your party doesn’t say it. Your party wants to...</td>\n",
       "    </tr>\n",
       "    <tr>\n",
       "      <th>9</th>\n",
       "      <td>September 29, 2020 Debate Transcript</td>\n",
       "      <td>Presidential Debate at Case Western Reserve Un...</td>\n",
       "      <td>2020-09-29</td>\n",
       "      <td>Former Vice President Joe Biden (D) and Presid...</td>\n",
       "      <td>Chris Wallace (Fox News)</td>\n",
       "      <td>BIDEN</td>\n",
       "      <td>The party is me. Right now, I am the Democrati...</td>\n",
       "    </tr>\n",
       "  </tbody>\n",
       "</table>\n",
       "</div>"
      ],
      "text/plain": [
       "                                  Title  \\\n",
       "0  September 29, 2020 Debate Transcript   \n",
       "1  September 29, 2020 Debate Transcript   \n",
       "2  September 29, 2020 Debate Transcript   \n",
       "3  September 29, 2020 Debate Transcript   \n",
       "4  September 29, 2020 Debate Transcript   \n",
       "5  September 29, 2020 Debate Transcript   \n",
       "6  September 29, 2020 Debate Transcript   \n",
       "7  September 29, 2020 Debate Transcript   \n",
       "8  September 29, 2020 Debate Transcript   \n",
       "9  September 29, 2020 Debate Transcript   \n",
       "\n",
       "                                              Debate       Date  \\\n",
       "0  Presidential Debate at Case Western Reserve Un... 2020-09-29   \n",
       "1  Presidential Debate at Case Western Reserve Un... 2020-09-29   \n",
       "2  Presidential Debate at Case Western Reserve Un... 2020-09-29   \n",
       "3  Presidential Debate at Case Western Reserve Un... 2020-09-29   \n",
       "4  Presidential Debate at Case Western Reserve Un... 2020-09-29   \n",
       "5  Presidential Debate at Case Western Reserve Un... 2020-09-29   \n",
       "6  Presidential Debate at Case Western Reserve Un... 2020-09-29   \n",
       "7  Presidential Debate at Case Western Reserve Un... 2020-09-29   \n",
       "8  Presidential Debate at Case Western Reserve Un... 2020-09-29   \n",
       "9  Presidential Debate at Case Western Reserve Un... 2020-09-29   \n",
       "\n",
       "                                        Participants  \\\n",
       "0  Former Vice President Joe Biden (D) and Presid...   \n",
       "1  Former Vice President Joe Biden (D) and Presid...   \n",
       "2  Former Vice President Joe Biden (D) and Presid...   \n",
       "3  Former Vice President Joe Biden (D) and Presid...   \n",
       "4  Former Vice President Joe Biden (D) and Presid...   \n",
       "5  Former Vice President Joe Biden (D) and Presid...   \n",
       "6  Former Vice President Joe Biden (D) and Presid...   \n",
       "7  Former Vice President Joe Biden (D) and Presid...   \n",
       "8  Former Vice President Joe Biden (D) and Presid...   \n",
       "9  Former Vice President Joe Biden (D) and Presid...   \n",
       "\n",
       "                 Moderators Speaker  \\\n",
       "0  Chris Wallace (Fox News)   TRUMP   \n",
       "1  Chris Wallace (Fox News)   BIDEN   \n",
       "2  Chris Wallace (Fox News)   BIDEN   \n",
       "3  Chris Wallace (Fox News)   TRUMP   \n",
       "4  Chris Wallace (Fox News)   TRUMP   \n",
       "5  Chris Wallace (Fox News)   TRUMP   \n",
       "6  Chris Wallace (Fox News)   BIDEN   \n",
       "7  Chris Wallace (Fox News)   TRUMP   \n",
       "8  Chris Wallace (Fox News)   TRUMP   \n",
       "9  Chris Wallace (Fox News)   BIDEN   \n",
       "\n",
       "                                                Text  \n",
       "0  Thank you very much, Chris. I will tell you ve...  \n",
       "1  Well, first of all, thank you for doing this a...  \n",
       "2  The American people have a right to have a say...  \n",
       "3  There aren’t a hundred million people with pre...  \n",
       "4  During that period of time, during that period...  \n",
       "5  Well, you’re certainly going to socialist. You...  \n",
       "6  Number one, he knows what I proposed. What I p...  \n",
       "7  That’s not what you’ve said and it’s not what ...  \n",
       "8  Your party doesn’t say it. Your party wants to...  \n",
       "9  The party is me. Right now, I am the Democrati...  "
      ]
     },
     "execution_count": 10,
     "metadata": {},
     "output_type": "execute_result"
    }
   ],
   "source": [
    "df_debates_turns_test"
   ]
  },
  {
   "cell_type": "markdown",
   "id": "bc097b64-2952-4d5e-9c7d-fd100d9edeeb",
   "metadata": {},
   "source": [
    "### Combining all texts into a single text"
   ]
  },
  {
   "cell_type": "code",
   "execution_count": 11,
   "id": "c05819ca-5d87-47ab-8064-cd8f55f51c50",
   "metadata": {},
   "outputs": [],
   "source": [
    "corpus_test = ' '.join(df_debates_turns_test['Text'].tolist())"
   ]
  },
  {
   "cell_type": "code",
   "execution_count": 12,
   "id": "522d5c04-d7b7-40b4-b27d-6f30cd0f9af4",
   "metadata": {},
   "outputs": [
    {
     "data": {
      "text/plain": [
       "str"
      ]
     },
     "execution_count": 12,
     "metadata": {},
     "output_type": "execute_result"
    }
   ],
   "source": [
    "type(corpus_test)"
   ]
  },
  {
   "cell_type": "code",
   "execution_count": 13,
   "id": "8d5496e3-6a7d-4e4b-bb88-69a51fabe6d8",
   "metadata": {},
   "outputs": [
    {
     "data": {
      "text/plain": [
       "'Thank you very much, Chris. I will tell you very simply. We won the election. Elections have consequences. We have the Senate, we have the White House, and we have a phenomenal nominee respected by all. Top, top academic, good in every way. Good in every way. In fact, some of her biggest endorsers are very liberal people from Notre Dame and other places. So I think she’s going to be fantastic. We have plenty of time. Even if we did it after the election itself. I have a lot of time after the election, as you know. So I think that she will be outstanding. She’s going to be as good as anybody that has served on that court. We really feel that. We have a professor at Notre Dame, highly respected by all, said she’s the single greatest student he’s ever had. He’s been a professor for a long time at a great school. And we won the election and therefore we have the right to choose her, and very few people knowingly would say otherwise. And by the way, the Democrats, they wouldn’t even think about not doing it. The only difference is they’d try and do it faster. There’s no way they would give it up. They had Merrick Garland, but the problem is they didn’t have the election so they were stopped. And probably that would happen in reverse, also. Definitely would happen in reverse. So we won the election and we have the right to do it, Chris. Well, first of all, thank you for doing this and looking forward to this, Mr. President. The American people have a right to have a say in who the Supreme Court nominee is and that say occurs when they vote for United States Senators and when they vote for the President of United States. They’re not going to get that chance now because we’re in the middle of an election already. The election has already started. Tens of thousands of people already voted and so the thing that should happen is we should wait. We should wait and see what the outcome of this election is because that’s the only way the American people get to express their view is by who they elect as President and who they elect as Vice President. Now, what’s at stake here is the President’s made it clear, he wants to get rid of the Affordable Care Act. He’s been running on that, he ran on that and he’s been governing on that. He’s in the Supreme Court right now trying to get rid of the Affordable Care Act, which will strip 20 million people from having health insurance now, if it goes into court. And the justice, I’m not opposed to the justice, she seems like a very fine person. But she’s written, before she went in the bench, which is her right, that she thinks that the Affordable Care Act is not Constitutional. The other thing that’s on the court, and if it’s struck down, what happens? Women’s rights are fundamentally changed. Once again, a woman could pay more money because she has a pre-existing condition of pregnancy. They’re able to charge women more for the same exact procedure a man gets. And that ended when we, in fact, passed the Affordable Care Act, and there’s a hundred million people who have pre-existing conditions and they’ll be taken away as well. Those pre-existing conditions, insurance companies are going to love this. And so it’s just not appropriate to do this before this election. If he wins the election and the Senate is Republican, then he goes forward. If not, we should wait until February. There aren’t a hundred million people with pre-existing conditions. As far as a say is concerned, the people already had their say. Okay, Justice Ginsburg said very powerfully, very strongly, at some point 10 years ago or so, she said a President and the Senate is elected for a period of time, but a President is elected for four years. We’re not elected for three years. I’m not elected for three years. So we have the Senate, we have a President- During that period of time, during that period of time, we have an opening. I’m not elected for three years. I’m elected for four years. Joe, the hundred million people is totally wrong. I don’t know where you got that number. The bigger problem that you have is that you’re going to extinguish 180 million people with their private health care, that they’re very happy with. Well, you’re certainly going to socialist. You’re going to socialist medicine- Number one, he knows what I proposed. What I proposed is that we expand Obamacare and we increase it. We do not wipe any. And one of the big debates we had with 23 of my colleagues trying to win the nomination that I won, were saying that Biden wanted to allow people to have private insurance still. They can. They do. They will under my proposal. That’s not what you’ve said and it’s not what your party is saying. Your party doesn’t say it. Your party wants to go socialist medicine and socialist healthcare. The party is me. Right now, I am the Democratic Party.'"
      ]
     },
     "execution_count": 13,
     "metadata": {},
     "output_type": "execute_result"
    }
   ],
   "source": [
    "corpus_test"
   ]
  },
  {
   "cell_type": "markdown",
   "id": "594297d5-94d0-401b-8e02-ee282cd19ccf",
   "metadata": {},
   "source": [
    "### Initialising the `YAKE!` extractor"
   ]
  },
  {
   "cell_type": "code",
   "execution_count": 14,
   "id": "80b75c2f-76f4-4eec-9996-dee829bf83ff",
   "metadata": {},
   "outputs": [],
   "source": [
    "language = 'en'\n",
    "max_ngram_size = 1\n",
    "deduplication_threshold = 0.9\n",
    "deduplication_algo = 'seqm' # for 'Sequence Matcher', the default\n",
    "#deduplication_algo = 'levs' # for Levenshtein algorith\n",
    "#deduplication_algo = 'jaccard' # for Jaccard algorith\n",
    "#windowSize = 2 # the number of words to the left and right of a given word that are considered when calculating the word’s context - the default is 2\n",
    "windowSize = 1\n",
    "numOfKeywords = 20"
   ]
  },
  {
   "cell_type": "code",
   "execution_count": 15,
   "id": "caa8fc56-8d31-4904-a176-c30b702ed36f",
   "metadata": {},
   "outputs": [],
   "source": [
    "custom_kw_extractor = yake.KeywordExtractor(lan=language, n=max_ngram_size, dedupLim=deduplication_threshold, dedupFunc=deduplication_algo, windowsSize=windowSize, top=numOfKeywords, features=None)"
   ]
  },
  {
   "cell_type": "markdown",
   "id": "59086134-bb62-4930-8612-acb1de32d67d",
   "metadata": {},
   "source": [
    "### Extracting key words"
   ]
  },
  {
   "cell_type": "code",
   "execution_count": 16,
   "id": "17b67c81-5cfa-4de2-9a1c-f4a4d0ac4b8c",
   "metadata": {},
   "outputs": [],
   "source": [
    "key_words = custom_kw_extractor.extract_keywords(corpus_test)"
   ]
  },
  {
   "cell_type": "code",
   "execution_count": 17,
   "id": "65bae763-d9b5-4d4c-ad32-576a6ae8fc45",
   "metadata": {},
   "outputs": [
    {
     "data": {
      "text/plain": [
       "list"
      ]
     },
     "execution_count": 17,
     "metadata": {},
     "output_type": "execute_result"
    }
   ],
   "source": [
    "type(key_words)"
   ]
  },
  {
   "cell_type": "markdown",
   "id": "8e09b5b1-8f27-4f7a-9ef3-0274ad1b853a",
   "metadata": {},
   "source": [
    "### Displaying the key words"
   ]
  },
  {
   "cell_type": "code",
   "execution_count": 18,
   "id": "98b3bd1c-fb07-4ae9-ae7c-d36f5d21375f",
   "metadata": {},
   "outputs": [],
   "source": [
    "df_key_words = pd.DataFrame(key_words)\n",
    "df_key_words.columns = ['Key Word', 'Score']"
   ]
  },
  {
   "cell_type": "code",
   "execution_count": 19,
   "id": "4a05fa1e-8829-4598-901a-7b419de69037",
   "metadata": {},
   "outputs": [
    {
     "data": {
      "text/html": [
       "<div>\n",
       "<style scoped>\n",
       "    .dataframe tbody tr th:only-of-type {\n",
       "        vertical-align: middle;\n",
       "    }\n",
       "\n",
       "    .dataframe tbody tr th {\n",
       "        vertical-align: top;\n",
       "    }\n",
       "\n",
       "    .dataframe thead th {\n",
       "        text-align: right;\n",
       "    }\n",
       "</style>\n",
       "<table border=\"1\" class=\"dataframe\">\n",
       "  <thead>\n",
       "    <tr style=\"text-align: right;\">\n",
       "      <th></th>\n",
       "      <th>Key Word</th>\n",
       "      <th>Score</th>\n",
       "    </tr>\n",
       "  </thead>\n",
       "  <tbody>\n",
       "    <tr>\n",
       "      <th>0</th>\n",
       "      <td>election</td>\n",
       "      <td>0.032157</td>\n",
       "    </tr>\n",
       "    <tr>\n",
       "      <th>1</th>\n",
       "      <td>President</td>\n",
       "      <td>0.032580</td>\n",
       "    </tr>\n",
       "    <tr>\n",
       "      <th>2</th>\n",
       "      <td>people</td>\n",
       "      <td>0.033653</td>\n",
       "    </tr>\n",
       "    <tr>\n",
       "      <th>3</th>\n",
       "      <td>’re</td>\n",
       "      <td>0.057993</td>\n",
       "    </tr>\n",
       "    <tr>\n",
       "      <th>4</th>\n",
       "      <td>Care</td>\n",
       "      <td>0.064828</td>\n",
       "    </tr>\n",
       "    <tr>\n",
       "      <th>5</th>\n",
       "      <td>time</td>\n",
       "      <td>0.077241</td>\n",
       "    </tr>\n",
       "    <tr>\n",
       "      <th>6</th>\n",
       "      <td>elected</td>\n",
       "      <td>0.080974</td>\n",
       "    </tr>\n",
       "    <tr>\n",
       "      <th>7</th>\n",
       "      <td>Affordable</td>\n",
       "      <td>0.081247</td>\n",
       "    </tr>\n",
       "    <tr>\n",
       "      <th>8</th>\n",
       "      <td>Senate</td>\n",
       "      <td>0.085748</td>\n",
       "    </tr>\n",
       "    <tr>\n",
       "      <th>9</th>\n",
       "      <td>Act</td>\n",
       "      <td>0.085840</td>\n",
       "    </tr>\n",
       "    <tr>\n",
       "      <th>10</th>\n",
       "      <td>court</td>\n",
       "      <td>0.086206</td>\n",
       "    </tr>\n",
       "    <tr>\n",
       "      <th>11</th>\n",
       "      <td>years</td>\n",
       "      <td>0.087865</td>\n",
       "    </tr>\n",
       "    <tr>\n",
       "      <th>12</th>\n",
       "      <td>party</td>\n",
       "      <td>0.100275</td>\n",
       "    </tr>\n",
       "    <tr>\n",
       "      <th>13</th>\n",
       "      <td>million</td>\n",
       "      <td>0.102463</td>\n",
       "    </tr>\n",
       "    <tr>\n",
       "      <th>14</th>\n",
       "      <td>n’t</td>\n",
       "      <td>0.116094</td>\n",
       "    </tr>\n",
       "    <tr>\n",
       "      <th>15</th>\n",
       "      <td>won</td>\n",
       "      <td>0.133473</td>\n",
       "    </tr>\n",
       "    <tr>\n",
       "      <th>16</th>\n",
       "      <td>pre-existing</td>\n",
       "      <td>0.146352</td>\n",
       "    </tr>\n",
       "    <tr>\n",
       "      <th>17</th>\n",
       "      <td>socialist</td>\n",
       "      <td>0.152240</td>\n",
       "    </tr>\n",
       "    <tr>\n",
       "      <th>18</th>\n",
       "      <td>good</td>\n",
       "      <td>0.175815</td>\n",
       "    </tr>\n",
       "    <tr>\n",
       "      <th>19</th>\n",
       "      <td>justice</td>\n",
       "      <td>0.179217</td>\n",
       "    </tr>\n",
       "  </tbody>\n",
       "</table>\n",
       "</div>"
      ],
      "text/plain": [
       "        Key Word     Score\n",
       "0       election  0.032157\n",
       "1      President  0.032580\n",
       "2         people  0.033653\n",
       "3            ’re  0.057993\n",
       "4           Care  0.064828\n",
       "5           time  0.077241\n",
       "6        elected  0.080974\n",
       "7     Affordable  0.081247\n",
       "8         Senate  0.085748\n",
       "9            Act  0.085840\n",
       "10         court  0.086206\n",
       "11         years  0.087865\n",
       "12         party  0.100275\n",
       "13       million  0.102463\n",
       "14           n’t  0.116094\n",
       "15           won  0.133473\n",
       "16  pre-existing  0.146352\n",
       "17     socialist  0.152240\n",
       "18          good  0.175815\n",
       "19       justice  0.179217"
      ]
     },
     "execution_count": 19,
     "metadata": {},
     "output_type": "execute_result"
    }
   ],
   "source": [
    "df_key_words"
   ]
  },
  {
   "cell_type": "markdown",
   "id": "f937b4c2-f355-409e-89d9-1d4949842175",
   "metadata": {},
   "source": [
    "### Excluding words that are of no consequence to the analysis"
   ]
  },
  {
   "cell_type": "code",
   "execution_count": 20,
   "id": "922af624-09f0-45f0-9ab4-ec746f6655a2",
   "metadata": {},
   "outputs": [],
   "source": [
    "df_key_words = df_key_words.drop(index=3)\n",
    "df_key_words = df_key_words.drop(index=14)\n",
    "df_key_words = df_key_words.reset_index(drop=True)"
   ]
  },
  {
   "cell_type": "code",
   "execution_count": 21,
   "id": "72a4e020-cee1-41c6-a5ea-26561778777e",
   "metadata": {},
   "outputs": [
    {
     "data": {
      "text/html": [
       "<div>\n",
       "<style scoped>\n",
       "    .dataframe tbody tr th:only-of-type {\n",
       "        vertical-align: middle;\n",
       "    }\n",
       "\n",
       "    .dataframe tbody tr th {\n",
       "        vertical-align: top;\n",
       "    }\n",
       "\n",
       "    .dataframe thead th {\n",
       "        text-align: right;\n",
       "    }\n",
       "</style>\n",
       "<table border=\"1\" class=\"dataframe\">\n",
       "  <thead>\n",
       "    <tr style=\"text-align: right;\">\n",
       "      <th></th>\n",
       "      <th>Key Word</th>\n",
       "      <th>Score</th>\n",
       "    </tr>\n",
       "  </thead>\n",
       "  <tbody>\n",
       "    <tr>\n",
       "      <th>0</th>\n",
       "      <td>election</td>\n",
       "      <td>0.032157</td>\n",
       "    </tr>\n",
       "    <tr>\n",
       "      <th>1</th>\n",
       "      <td>President</td>\n",
       "      <td>0.032580</td>\n",
       "    </tr>\n",
       "    <tr>\n",
       "      <th>2</th>\n",
       "      <td>people</td>\n",
       "      <td>0.033653</td>\n",
       "    </tr>\n",
       "    <tr>\n",
       "      <th>3</th>\n",
       "      <td>Care</td>\n",
       "      <td>0.064828</td>\n",
       "    </tr>\n",
       "    <tr>\n",
       "      <th>4</th>\n",
       "      <td>time</td>\n",
       "      <td>0.077241</td>\n",
       "    </tr>\n",
       "    <tr>\n",
       "      <th>5</th>\n",
       "      <td>elected</td>\n",
       "      <td>0.080974</td>\n",
       "    </tr>\n",
       "    <tr>\n",
       "      <th>6</th>\n",
       "      <td>Affordable</td>\n",
       "      <td>0.081247</td>\n",
       "    </tr>\n",
       "    <tr>\n",
       "      <th>7</th>\n",
       "      <td>Senate</td>\n",
       "      <td>0.085748</td>\n",
       "    </tr>\n",
       "    <tr>\n",
       "      <th>8</th>\n",
       "      <td>Act</td>\n",
       "      <td>0.085840</td>\n",
       "    </tr>\n",
       "    <tr>\n",
       "      <th>9</th>\n",
       "      <td>court</td>\n",
       "      <td>0.086206</td>\n",
       "    </tr>\n",
       "    <tr>\n",
       "      <th>10</th>\n",
       "      <td>years</td>\n",
       "      <td>0.087865</td>\n",
       "    </tr>\n",
       "    <tr>\n",
       "      <th>11</th>\n",
       "      <td>party</td>\n",
       "      <td>0.100275</td>\n",
       "    </tr>\n",
       "    <tr>\n",
       "      <th>12</th>\n",
       "      <td>million</td>\n",
       "      <td>0.102463</td>\n",
       "    </tr>\n",
       "    <tr>\n",
       "      <th>13</th>\n",
       "      <td>won</td>\n",
       "      <td>0.133473</td>\n",
       "    </tr>\n",
       "    <tr>\n",
       "      <th>14</th>\n",
       "      <td>pre-existing</td>\n",
       "      <td>0.146352</td>\n",
       "    </tr>\n",
       "    <tr>\n",
       "      <th>15</th>\n",
       "      <td>socialist</td>\n",
       "      <td>0.152240</td>\n",
       "    </tr>\n",
       "    <tr>\n",
       "      <th>16</th>\n",
       "      <td>good</td>\n",
       "      <td>0.175815</td>\n",
       "    </tr>\n",
       "    <tr>\n",
       "      <th>17</th>\n",
       "      <td>justice</td>\n",
       "      <td>0.179217</td>\n",
       "    </tr>\n",
       "  </tbody>\n",
       "</table>\n",
       "</div>"
      ],
      "text/plain": [
       "        Key Word     Score\n",
       "0       election  0.032157\n",
       "1      President  0.032580\n",
       "2         people  0.033653\n",
       "3           Care  0.064828\n",
       "4           time  0.077241\n",
       "5        elected  0.080974\n",
       "6     Affordable  0.081247\n",
       "7         Senate  0.085748\n",
       "8            Act  0.085840\n",
       "9          court  0.086206\n",
       "10         years  0.087865\n",
       "11         party  0.100275\n",
       "12       million  0.102463\n",
       "13           won  0.133473\n",
       "14  pre-existing  0.146352\n",
       "15     socialist  0.152240\n",
       "16          good  0.175815\n",
       "17       justice  0.179217"
      ]
     },
     "execution_count": 21,
     "metadata": {},
     "output_type": "execute_result"
    }
   ],
   "source": [
    "df_key_words"
   ]
  },
  {
   "cell_type": "code",
   "execution_count": 22,
   "id": "d7685384-f1d0-42f6-9466-361300d961b2",
   "metadata": {},
   "outputs": [],
   "source": [
    "df_key_words.index = df_key_words.index + 1\n",
    "df_key_words['Variable ID'] = 'v' + df_key_words.index.astype(str).str.zfill(6)"
   ]
  },
  {
   "cell_type": "code",
   "execution_count": 23,
   "id": "5ee7a661-6ee1-4c78-9f8c-b97a6af18b26",
   "metadata": {},
   "outputs": [
    {
     "data": {
      "text/html": [
       "<div>\n",
       "<style scoped>\n",
       "    .dataframe tbody tr th:only-of-type {\n",
       "        vertical-align: middle;\n",
       "    }\n",
       "\n",
       "    .dataframe tbody tr th {\n",
       "        vertical-align: top;\n",
       "    }\n",
       "\n",
       "    .dataframe thead th {\n",
       "        text-align: right;\n",
       "    }\n",
       "</style>\n",
       "<table border=\"1\" class=\"dataframe\">\n",
       "  <thead>\n",
       "    <tr style=\"text-align: right;\">\n",
       "      <th></th>\n",
       "      <th>Key Word</th>\n",
       "      <th>Score</th>\n",
       "      <th>Variable ID</th>\n",
       "    </tr>\n",
       "  </thead>\n",
       "  <tbody>\n",
       "    <tr>\n",
       "      <th>1</th>\n",
       "      <td>election</td>\n",
       "      <td>0.032157</td>\n",
       "      <td>v000001</td>\n",
       "    </tr>\n",
       "    <tr>\n",
       "      <th>2</th>\n",
       "      <td>President</td>\n",
       "      <td>0.032580</td>\n",
       "      <td>v000002</td>\n",
       "    </tr>\n",
       "    <tr>\n",
       "      <th>3</th>\n",
       "      <td>people</td>\n",
       "      <td>0.033653</td>\n",
       "      <td>v000003</td>\n",
       "    </tr>\n",
       "    <tr>\n",
       "      <th>4</th>\n",
       "      <td>Care</td>\n",
       "      <td>0.064828</td>\n",
       "      <td>v000004</td>\n",
       "    </tr>\n",
       "    <tr>\n",
       "      <th>5</th>\n",
       "      <td>time</td>\n",
       "      <td>0.077241</td>\n",
       "      <td>v000005</td>\n",
       "    </tr>\n",
       "    <tr>\n",
       "      <th>6</th>\n",
       "      <td>elected</td>\n",
       "      <td>0.080974</td>\n",
       "      <td>v000006</td>\n",
       "    </tr>\n",
       "    <tr>\n",
       "      <th>7</th>\n",
       "      <td>Affordable</td>\n",
       "      <td>0.081247</td>\n",
       "      <td>v000007</td>\n",
       "    </tr>\n",
       "    <tr>\n",
       "      <th>8</th>\n",
       "      <td>Senate</td>\n",
       "      <td>0.085748</td>\n",
       "      <td>v000008</td>\n",
       "    </tr>\n",
       "    <tr>\n",
       "      <th>9</th>\n",
       "      <td>Act</td>\n",
       "      <td>0.085840</td>\n",
       "      <td>v000009</td>\n",
       "    </tr>\n",
       "    <tr>\n",
       "      <th>10</th>\n",
       "      <td>court</td>\n",
       "      <td>0.086206</td>\n",
       "      <td>v000010</td>\n",
       "    </tr>\n",
       "    <tr>\n",
       "      <th>11</th>\n",
       "      <td>years</td>\n",
       "      <td>0.087865</td>\n",
       "      <td>v000011</td>\n",
       "    </tr>\n",
       "    <tr>\n",
       "      <th>12</th>\n",
       "      <td>party</td>\n",
       "      <td>0.100275</td>\n",
       "      <td>v000012</td>\n",
       "    </tr>\n",
       "    <tr>\n",
       "      <th>13</th>\n",
       "      <td>million</td>\n",
       "      <td>0.102463</td>\n",
       "      <td>v000013</td>\n",
       "    </tr>\n",
       "    <tr>\n",
       "      <th>14</th>\n",
       "      <td>won</td>\n",
       "      <td>0.133473</td>\n",
       "      <td>v000014</td>\n",
       "    </tr>\n",
       "    <tr>\n",
       "      <th>15</th>\n",
       "      <td>pre-existing</td>\n",
       "      <td>0.146352</td>\n",
       "      <td>v000015</td>\n",
       "    </tr>\n",
       "    <tr>\n",
       "      <th>16</th>\n",
       "      <td>socialist</td>\n",
       "      <td>0.152240</td>\n",
       "      <td>v000016</td>\n",
       "    </tr>\n",
       "    <tr>\n",
       "      <th>17</th>\n",
       "      <td>good</td>\n",
       "      <td>0.175815</td>\n",
       "      <td>v000017</td>\n",
       "    </tr>\n",
       "    <tr>\n",
       "      <th>18</th>\n",
       "      <td>justice</td>\n",
       "      <td>0.179217</td>\n",
       "      <td>v000018</td>\n",
       "    </tr>\n",
       "  </tbody>\n",
       "</table>\n",
       "</div>"
      ],
      "text/plain": [
       "        Key Word     Score Variable ID\n",
       "1       election  0.032157     v000001\n",
       "2      President  0.032580     v000002\n",
       "3         people  0.033653     v000003\n",
       "4           Care  0.064828     v000004\n",
       "5           time  0.077241     v000005\n",
       "6        elected  0.080974     v000006\n",
       "7     Affordable  0.081247     v000007\n",
       "8         Senate  0.085748     v000008\n",
       "9            Act  0.085840     v000009\n",
       "10         court  0.086206     v000010\n",
       "11         years  0.087865     v000011\n",
       "12         party  0.100275     v000012\n",
       "13       million  0.102463     v000013\n",
       "14           won  0.133473     v000014\n",
       "15  pre-existing  0.146352     v000015\n",
       "16     socialist  0.152240     v000016\n",
       "17          good  0.175815     v000017\n",
       "18       justice  0.179217     v000018"
      ]
     },
     "execution_count": 23,
     "metadata": {},
     "output_type": "execute_result"
    }
   ],
   "source": [
    "df_key_words"
   ]
  },
  {
   "cell_type": "markdown",
   "id": "9707fe75-229d-413f-9660-f7d20d83e7b8",
   "metadata": {},
   "source": [
    "### Exporting to a file"
   ]
  },
  {
   "cell_type": "code",
   "execution_count": 24,
   "id": "66b50ff8-8bc4-4fa8-acd4-a88544a4426a",
   "metadata": {},
   "outputs": [],
   "source": [
    "df_key_words[['Variable ID', 'Key Word']].to_csv('selectedwords_nolem', sep=' ', index=False, header=False, encoding='utf-8', lineterminator='\\n')"
   ]
  },
  {
   "cell_type": "code",
   "execution_count": 25,
   "id": "5adc378b-a568-4ba7-bb90-61d34f030b42",
   "metadata": {},
   "outputs": [
    {
     "data": {
      "text/plain": [
       "'var_index_nolem.txt'"
      ]
     },
     "execution_count": 25,
     "metadata": {},
     "output_type": "execute_result"
    }
   ],
   "source": [
    "shutil.copy('selectedwords_nolem', 'var_index_nolem.txt')"
   ]
  },
  {
   "cell_type": "markdown",
   "id": "22a6a649-e270-4093-b4b7-79afb766e554",
   "metadata": {},
   "source": [
    "## Extracting key words from lemmatised text"
   ]
  },
  {
   "cell_type": "markdown",
   "id": "2d6e2052-4234-48ae-9cc9-46e374281dcf",
   "metadata": {},
   "source": [
    "### Importing the raw data into a DataFrame"
   ]
  },
  {
   "cell_type": "markdown",
   "id": "62187bd3-ce73-4f73-8e88-a681b5232f06",
   "metadata": {},
   "source": [
    "#### `Republican + Democratic + Independent` data set"
   ]
  },
  {
   "cell_type": "code",
   "execution_count": 26,
   "id": "9151b412-c976-44c4-a8ff-370f8f26821a",
   "metadata": {},
   "outputs": [],
   "source": [
    "df_debates_turns_lem = pd.read_csv('tweets/tokens.txt', sep='|', header=None)\n",
    "df_debates_turns_lem.columns = ['Text ID', 'Text']"
   ]
  },
  {
   "cell_type": "code",
   "execution_count": 27,
   "id": "9f7e932d-1b53-4417-a6c5-2ed452a3822a",
   "metadata": {},
   "outputs": [
    {
     "data": {
      "text/html": [
       "<div>\n",
       "<style scoped>\n",
       "    .dataframe tbody tr th:only-of-type {\n",
       "        vertical-align: middle;\n",
       "    }\n",
       "\n",
       "    .dataframe tbody tr th {\n",
       "        vertical-align: top;\n",
       "    }\n",
       "\n",
       "    .dataframe thead th {\n",
       "        text-align: right;\n",
       "    }\n",
       "</style>\n",
       "<table border=\"1\" class=\"dataframe\">\n",
       "  <thead>\n",
       "    <tr style=\"text-align: right;\">\n",
       "      <th></th>\n",
       "      <th>Text ID</th>\n",
       "      <th>Text</th>\n",
       "    </tr>\n",
       "  </thead>\n",
       "  <tbody>\n",
       "    <tr>\n",
       "      <th>0</th>\n",
       "      <td>t000000</td>\n",
       "      <td>c:thank tell win election election consequence...</td>\n",
       "    </tr>\n",
       "    <tr>\n",
       "      <th>1</th>\n",
       "      <td>t000001</td>\n",
       "      <td>c:first thank do look president</td>\n",
       "    </tr>\n",
       "    <tr>\n",
       "      <th>2</th>\n",
       "      <td>t000002</td>\n",
       "      <td>c:american people right say nominee say occur ...</td>\n",
       "    </tr>\n",
       "    <tr>\n",
       "      <th>3</th>\n",
       "      <td>t000003</td>\n",
       "      <td>c:aren people pre exist condition say concern ...</td>\n",
       "    </tr>\n",
       "    <tr>\n",
       "      <th>4</th>\n",
       "      <td>t000004</td>\n",
       "      <td>c:period time period time opening elect year e...</td>\n",
       "    </tr>\n",
       "    <tr>\n",
       "      <th>...</th>\n",
       "      <td>...</td>\n",
       "      <td>...</td>\n",
       "    </tr>\n",
       "    <tr>\n",
       "      <th>3472</th>\n",
       "      <td>t003473</td>\n",
       "      <td>c:say issue stay campaign issue long persist t...</td>\n",
       "    </tr>\n",
       "    <tr>\n",
       "      <th>3473</th>\n",
       "      <td>t003474</td>\n",
       "      <td>c:go resolution commit president states suppor...</td>\n",
       "    </tr>\n",
       "    <tr>\n",
       "      <th>3474</th>\n",
       "      <td>t003475</td>\n",
       "      <td>c:testimony fifty eight</td>\n",
       "    </tr>\n",
       "    <tr>\n",
       "      <th>3475</th>\n",
       "      <td>t003476</td>\n",
       "      <td>c:say ve serve country fourteen year serve war...</td>\n",
       "    </tr>\n",
       "    <tr>\n",
       "      <th>3476</th>\n",
       "      <td>t003477</td>\n",
       "      <td>c:say say several time course debate campaign ...</td>\n",
       "    </tr>\n",
       "  </tbody>\n",
       "</table>\n",
       "<p>3477 rows × 2 columns</p>\n",
       "</div>"
      ],
      "text/plain": [
       "      Text ID                                               Text\n",
       "0     t000000  c:thank tell win election election consequence...\n",
       "1     t000001                   c:first thank do look president \n",
       "2     t000002  c:american people right say nominee say occur ...\n",
       "3     t000003  c:aren people pre exist condition say concern ...\n",
       "4     t000004  c:period time period time opening elect year e...\n",
       "...       ...                                                ...\n",
       "3472  t003473  c:say issue stay campaign issue long persist t...\n",
       "3473  t003474  c:go resolution commit president states suppor...\n",
       "3474  t003475                           c:testimony fifty eight \n",
       "3475  t003476  c:say ve serve country fourteen year serve war...\n",
       "3476  t003477  c:say say several time course debate campaign ...\n",
       "\n",
       "[3477 rows x 2 columns]"
      ]
     },
     "execution_count": 27,
     "metadata": {},
     "output_type": "execute_result"
    }
   ],
   "source": [
    "df_debates_turns_lem"
   ]
  },
  {
   "cell_type": "code",
   "execution_count": 28,
   "id": "51dd481c-a174-4c52-bdf9-db2e27115b2a",
   "metadata": {},
   "outputs": [],
   "source": [
    "# Remove 'c:' prefix\n",
    "def remove_c_prefix(input_line):\n",
    "    processed_line = re.sub(r'^c:', '', input_line)\n",
    "    return processed_line\n",
    "\n",
    "df_debates_turns_lem['Text'] = df_debates_turns_lem['Text'].apply(remove_c_prefix)"
   ]
  },
  {
   "cell_type": "code",
   "execution_count": 29,
   "id": "e97dd71d-ede6-400b-954e-25d54fd6fd88",
   "metadata": {},
   "outputs": [
    {
     "data": {
      "text/plain": [
       "Text ID    object\n",
       "Text       object\n",
       "dtype: object"
      ]
     },
     "execution_count": 29,
     "metadata": {},
     "output_type": "execute_result"
    }
   ],
   "source": [
    "df_debates_turns_lem.dtypes"
   ]
  },
  {
   "cell_type": "code",
   "execution_count": 30,
   "id": "9a676771-29f6-4dcd-958d-6eba8dc2327c",
   "metadata": {},
   "outputs": [
    {
     "data": {
      "text/html": [
       "<div>\n",
       "<style scoped>\n",
       "    .dataframe tbody tr th:only-of-type {\n",
       "        vertical-align: middle;\n",
       "    }\n",
       "\n",
       "    .dataframe tbody tr th {\n",
       "        vertical-align: top;\n",
       "    }\n",
       "\n",
       "    .dataframe thead th {\n",
       "        text-align: right;\n",
       "    }\n",
       "</style>\n",
       "<table border=\"1\" class=\"dataframe\">\n",
       "  <thead>\n",
       "    <tr style=\"text-align: right;\">\n",
       "      <th></th>\n",
       "      <th>Text ID</th>\n",
       "      <th>Text</th>\n",
       "    </tr>\n",
       "  </thead>\n",
       "  <tbody>\n",
       "    <tr>\n",
       "      <th>0</th>\n",
       "      <td>t000000</td>\n",
       "      <td>thank tell win election election consequence p...</td>\n",
       "    </tr>\n",
       "    <tr>\n",
       "      <th>1</th>\n",
       "      <td>t000001</td>\n",
       "      <td>first thank do look president</td>\n",
       "    </tr>\n",
       "    <tr>\n",
       "      <th>2</th>\n",
       "      <td>t000002</td>\n",
       "      <td>american people right say nominee say occur vo...</td>\n",
       "    </tr>\n",
       "    <tr>\n",
       "      <th>3</th>\n",
       "      <td>t000003</td>\n",
       "      <td>aren people pre exist condition say concern pe...</td>\n",
       "    </tr>\n",
       "    <tr>\n",
       "      <th>4</th>\n",
       "      <td>t000004</td>\n",
       "      <td>period time period time opening elect year ele...</td>\n",
       "    </tr>\n",
       "  </tbody>\n",
       "</table>\n",
       "</div>"
      ],
      "text/plain": [
       "   Text ID                                               Text\n",
       "0  t000000  thank tell win election election consequence p...\n",
       "1  t000001                     first thank do look president \n",
       "2  t000002  american people right say nominee say occur vo...\n",
       "3  t000003  aren people pre exist condition say concern pe...\n",
       "4  t000004  period time period time opening elect year ele..."
      ]
     },
     "execution_count": 30,
     "metadata": {},
     "output_type": "execute_result"
    }
   ],
   "source": [
    "df_debates_turns_lem.head(5)"
   ]
  },
  {
   "cell_type": "markdown",
   "id": "0302171a-a4d8-4516-997f-39016fff6c46",
   "metadata": {},
   "source": [
    "##### Checking the number of texts"
   ]
  },
  {
   "cell_type": "code",
   "execution_count": 31,
   "id": "bd4cdfec-7315-47cb-91d6-3fa382c75fff",
   "metadata": {},
   "outputs": [
    {
     "data": {
      "text/plain": [
       "(3477, 2)"
      ]
     },
     "execution_count": 31,
     "metadata": {},
     "output_type": "execute_result"
    }
   ],
   "source": [
    "df_debates_turns_lem.shape"
   ]
  },
  {
   "cell_type": "markdown",
   "id": "37c2c2f8-d1d5-4602-bdff-15b4a9d893cc",
   "metadata": {},
   "source": [
    "##### Inspecting a few texts"
   ]
  },
  {
   "cell_type": "code",
   "execution_count": 32,
   "id": "df9ad348-e6c5-40e2-9f08-241c59d62592",
   "metadata": {},
   "outputs": [
    {
     "name": "stdout",
     "output_type": "stream",
     "text": [
      "Text:thank tell win election election consequence phenomenal nominee respect top top academic good way good way fact big endorser liberal people other place think go fantastic plenty time do election lot time election know think outstanding she go good anybody serve court feel professor respect say single great student professor long time great school win election right choose few people say way democrats wouldn think do only difference try do way give problem didn election stop happen reverse happen reverse win election right do \n"
     ]
    }
   ],
   "source": [
    "inspected_row = 0\n",
    "print('Text:' + df_debates_turns_lem.loc[inspected_row, 'Text'])"
   ]
  },
  {
   "cell_type": "markdown",
   "id": "b97a4291-5ad8-4163-9cc7-23497be371b8",
   "metadata": {},
   "source": [
    "### Creating a test data set"
   ]
  },
  {
   "cell_type": "code",
   "execution_count": 33,
   "id": "074a4634-4247-4724-8e23-a21b622303d7",
   "metadata": {},
   "outputs": [],
   "source": [
    "df_debates_turns_lem_test = df_debates_turns_lem.head(10)"
   ]
  },
  {
   "cell_type": "code",
   "execution_count": 34,
   "id": "14d3ceb8-9beb-4b8b-908c-a2e83795a4d4",
   "metadata": {},
   "outputs": [
    {
     "data": {
      "text/html": [
       "<div>\n",
       "<style scoped>\n",
       "    .dataframe tbody tr th:only-of-type {\n",
       "        vertical-align: middle;\n",
       "    }\n",
       "\n",
       "    .dataframe tbody tr th {\n",
       "        vertical-align: top;\n",
       "    }\n",
       "\n",
       "    .dataframe thead th {\n",
       "        text-align: right;\n",
       "    }\n",
       "</style>\n",
       "<table border=\"1\" class=\"dataframe\">\n",
       "  <thead>\n",
       "    <tr style=\"text-align: right;\">\n",
       "      <th></th>\n",
       "      <th>Text ID</th>\n",
       "      <th>Text</th>\n",
       "    </tr>\n",
       "  </thead>\n",
       "  <tbody>\n",
       "    <tr>\n",
       "      <th>0</th>\n",
       "      <td>t000000</td>\n",
       "      <td>thank tell win election election consequence p...</td>\n",
       "    </tr>\n",
       "    <tr>\n",
       "      <th>1</th>\n",
       "      <td>t000001</td>\n",
       "      <td>first thank do look president</td>\n",
       "    </tr>\n",
       "    <tr>\n",
       "      <th>2</th>\n",
       "      <td>t000002</td>\n",
       "      <td>american people right say nominee say occur vo...</td>\n",
       "    </tr>\n",
       "    <tr>\n",
       "      <th>3</th>\n",
       "      <td>t000003</td>\n",
       "      <td>aren people pre exist condition say concern pe...</td>\n",
       "    </tr>\n",
       "    <tr>\n",
       "      <th>4</th>\n",
       "      <td>t000004</td>\n",
       "      <td>period time period time opening elect year ele...</td>\n",
       "    </tr>\n",
       "    <tr>\n",
       "      <th>5</th>\n",
       "      <td>t000005</td>\n",
       "      <td>re go socialist re go socialist medicine</td>\n",
       "    </tr>\n",
       "    <tr>\n",
       "      <th>6</th>\n",
       "      <td>t000006</td>\n",
       "      <td>number know propose propose expand increase do...</td>\n",
       "    </tr>\n",
       "    <tr>\n",
       "      <th>7</th>\n",
       "      <td>t000007</td>\n",
       "      <td>ve say party say</td>\n",
       "    </tr>\n",
       "    <tr>\n",
       "      <th>8</th>\n",
       "      <td>t000008</td>\n",
       "      <td>party doesn say party want go socialist medici...</td>\n",
       "    </tr>\n",
       "    <tr>\n",
       "      <th>9</th>\n",
       "      <td>t000009</td>\n",
       "      <td>party democratic</td>\n",
       "    </tr>\n",
       "  </tbody>\n",
       "</table>\n",
       "</div>"
      ],
      "text/plain": [
       "   Text ID                                               Text\n",
       "0  t000000  thank tell win election election consequence p...\n",
       "1  t000001                     first thank do look president \n",
       "2  t000002  american people right say nominee say occur vo...\n",
       "3  t000003  aren people pre exist condition say concern pe...\n",
       "4  t000004  period time period time opening elect year ele...\n",
       "5  t000005          re go socialist re go socialist medicine \n",
       "6  t000006  number know propose propose expand increase do...\n",
       "7  t000007                                  ve say party say \n",
       "8  t000008  party doesn say party want go socialist medici...\n",
       "9  t000009                                  party democratic "
      ]
     },
     "execution_count": 34,
     "metadata": {},
     "output_type": "execute_result"
    }
   ],
   "source": [
    "df_debates_turns_lem_test"
   ]
  },
  {
   "cell_type": "markdown",
   "id": "4d1cfb3c-7a83-4362-a997-21135c940b5b",
   "metadata": {},
   "source": [
    "### Combining all texts into a single text"
   ]
  },
  {
   "cell_type": "code",
   "execution_count": 35,
   "id": "e59b979f-96a1-47c6-abbc-12f987654fbf",
   "metadata": {},
   "outputs": [],
   "source": [
    "corpus_lem_test = ' '.join(df_debates_turns_lem_test['Text'].tolist())"
   ]
  },
  {
   "cell_type": "code",
   "execution_count": 36,
   "id": "49e9887c-2bec-4ec0-b28a-006c5563dad4",
   "metadata": {},
   "outputs": [
    {
     "data": {
      "text/plain": [
       "str"
      ]
     },
     "execution_count": 36,
     "metadata": {},
     "output_type": "execute_result"
    }
   ],
   "source": [
    "type(corpus_lem_test)"
   ]
  },
  {
   "cell_type": "code",
   "execution_count": 37,
   "id": "d5a80ee8-f8cc-48bb-9608-9bddaac8c9af",
   "metadata": {},
   "outputs": [
    {
     "data": {
      "text/plain": [
       "'thank tell win election election consequence phenomenal nominee respect top top academic good way good way fact big endorser liberal people other place think go fantastic plenty time do election lot time election know think outstanding she go good anybody serve court feel professor respect say single great student professor long time great school win election right choose few people say way democrats wouldn think do only difference try do way give problem didn election stop happen reverse happen reverse win election right do  first thank do look president  american people right say nominee say occur vote states vote states re go get chance re middle election election start ten thousand people vote thing happen wait wait see outcome election only way american people get express view elect elect stake make clear want get rid run run govern try get rid strip people health insurance go court justice oppose justice seem fine person write go bench right think constitutional other thing court strike happen right change woman pay more money pre exist condition pregnancy re able charge woman more same exact procedure man get end fact pass people pre exist condition ll take pre exist condition insurance company go love appropriate do election win election republican go wait  aren people pre exist condition say concern people say say point year say elect period time elect year re elect year elect year  period time period time opening elect year elect year people wrong don know get number big problem re go extinguish people private health care re happy  re go socialist re go socialist medicine  number know propose propose expand increase do wipe big debate colleague try win nomination win say want allow people private insurance do proposal  ve say party say  party doesn say party want go socialist medicine socialist healthcare  party democratic '"
      ]
     },
     "execution_count": 37,
     "metadata": {},
     "output_type": "execute_result"
    }
   ],
   "source": [
    "corpus_lem_test"
   ]
  },
  {
   "cell_type": "markdown",
   "id": "bfdc6ae1-6290-4b91-b786-3d8e59becf0c",
   "metadata": {},
   "source": [
    "### Initialising the `YAKE!` extractor"
   ]
  },
  {
   "cell_type": "code",
   "execution_count": 38,
   "id": "188278f0-0650-4b81-abb2-181deb4b6615",
   "metadata": {},
   "outputs": [],
   "source": [
    "language = 'en'\n",
    "max_ngram_size = 1\n",
    "deduplication_threshold = 0.9\n",
    "deduplication_algo = 'seqm' # for 'Sequence Matcher', the default\n",
    "#deduplication_algo = 'levs' # for Levenshtein algorith\n",
    "#deduplication_algo = 'jaccard' # for Jaccard algorith\n",
    "#windowSize = 2 # the number of words to the left and right of a given word that are considered when calculating the word’s context - the default is 2\n",
    "windowSize = 1\n",
    "numOfKeywords = 20"
   ]
  },
  {
   "cell_type": "code",
   "execution_count": 39,
   "id": "82a4dca4-6163-4bd4-8178-27c1646a12a9",
   "metadata": {},
   "outputs": [],
   "source": [
    "custom_kw_extractor = yake.KeywordExtractor(lan=language, n=max_ngram_size, dedupLim=deduplication_threshold, dedupFunc=deduplication_algo, windowsSize=windowSize, top=numOfKeywords, features=None)"
   ]
  },
  {
   "cell_type": "markdown",
   "id": "d05bbd9e-06b0-4126-97f6-cd994c1d10c4",
   "metadata": {},
   "source": [
    "### Extracting key words"
   ]
  },
  {
   "cell_type": "code",
   "execution_count": 40,
   "id": "e1ed7e9c-a38c-4ab5-a987-e7d8faddf35b",
   "metadata": {},
   "outputs": [],
   "source": [
    "key_words_lem = custom_kw_extractor.extract_keywords(corpus_lem_test)"
   ]
  },
  {
   "cell_type": "code",
   "execution_count": 41,
   "id": "9c8fcaa7-f99a-470b-bae2-4ebe16a2ef41",
   "metadata": {},
   "outputs": [
    {
     "data": {
      "text/plain": [
       "list"
      ]
     },
     "execution_count": 41,
     "metadata": {},
     "output_type": "execute_result"
    }
   ],
   "source": [
    "type(key_words_lem)"
   ]
  },
  {
   "cell_type": "markdown",
   "id": "5f0604df-2632-4202-a0d9-da90f6ccfe59",
   "metadata": {},
   "source": [
    "### Displaying the key words"
   ]
  },
  {
   "cell_type": "code",
   "execution_count": 42,
   "id": "ce83f10d-8da4-4b20-8e22-c7ae23ac470f",
   "metadata": {},
   "outputs": [],
   "source": [
    "df_key_words_lem = pd.DataFrame(key_words_lem)\n",
    "df_key_words_lem.columns = ['Key Word', 'Score']"
   ]
  },
  {
   "cell_type": "code",
   "execution_count": 43,
   "id": "2115586d-5da5-4930-8b48-fcb5615e53aa",
   "metadata": {},
   "outputs": [
    {
     "data": {
      "text/html": [
       "<div>\n",
       "<style scoped>\n",
       "    .dataframe tbody tr th:only-of-type {\n",
       "        vertical-align: middle;\n",
       "    }\n",
       "\n",
       "    .dataframe tbody tr th {\n",
       "        vertical-align: top;\n",
       "    }\n",
       "\n",
       "    .dataframe thead th {\n",
       "        text-align: right;\n",
       "    }\n",
       "</style>\n",
       "<table border=\"1\" class=\"dataframe\">\n",
       "  <thead>\n",
       "    <tr style=\"text-align: right;\">\n",
       "      <th></th>\n",
       "      <th>Key Word</th>\n",
       "      <th>Score</th>\n",
       "    </tr>\n",
       "  </thead>\n",
       "  <tbody>\n",
       "    <tr>\n",
       "      <th>0</th>\n",
       "      <td>election</td>\n",
       "      <td>0.009477</td>\n",
       "    </tr>\n",
       "    <tr>\n",
       "      <th>1</th>\n",
       "      <td>people</td>\n",
       "      <td>0.011260</td>\n",
       "    </tr>\n",
       "    <tr>\n",
       "      <th>2</th>\n",
       "      <td>elect</td>\n",
       "      <td>0.012225</td>\n",
       "    </tr>\n",
       "    <tr>\n",
       "      <th>3</th>\n",
       "      <td>year</td>\n",
       "      <td>0.013663</td>\n",
       "    </tr>\n",
       "    <tr>\n",
       "      <th>4</th>\n",
       "      <td>exist</td>\n",
       "      <td>0.014405</td>\n",
       "    </tr>\n",
       "    <tr>\n",
       "      <th>5</th>\n",
       "      <td>win</td>\n",
       "      <td>0.016393</td>\n",
       "    </tr>\n",
       "    <tr>\n",
       "      <th>6</th>\n",
       "      <td>time</td>\n",
       "      <td>0.017820</td>\n",
       "    </tr>\n",
       "    <tr>\n",
       "      <th>7</th>\n",
       "      <td>pre</td>\n",
       "      <td>0.018489</td>\n",
       "    </tr>\n",
       "    <tr>\n",
       "      <th>8</th>\n",
       "      <td>condition</td>\n",
       "      <td>0.020675</td>\n",
       "    </tr>\n",
       "    <tr>\n",
       "      <th>9</th>\n",
       "      <td>socialist</td>\n",
       "      <td>0.020675</td>\n",
       "    </tr>\n",
       "    <tr>\n",
       "      <th>10</th>\n",
       "      <td>party</td>\n",
       "      <td>0.022949</td>\n",
       "    </tr>\n",
       "    <tr>\n",
       "      <th>11</th>\n",
       "      <td>happen</td>\n",
       "      <td>0.025305</td>\n",
       "    </tr>\n",
       "    <tr>\n",
       "      <th>12</th>\n",
       "      <td>period</td>\n",
       "      <td>0.028043</td>\n",
       "    </tr>\n",
       "    <tr>\n",
       "      <th>13</th>\n",
       "      <td>good</td>\n",
       "      <td>0.031318</td>\n",
       "    </tr>\n",
       "    <tr>\n",
       "      <th>14</th>\n",
       "      <td>vote</td>\n",
       "      <td>0.031318</td>\n",
       "    </tr>\n",
       "    <tr>\n",
       "      <th>15</th>\n",
       "      <td>big</td>\n",
       "      <td>0.034716</td>\n",
       "    </tr>\n",
       "    <tr>\n",
       "      <th>16</th>\n",
       "      <td>court</td>\n",
       "      <td>0.034716</td>\n",
       "    </tr>\n",
       "    <tr>\n",
       "      <th>17</th>\n",
       "      <td>wait</td>\n",
       "      <td>0.034716</td>\n",
       "    </tr>\n",
       "    <tr>\n",
       "      <th>18</th>\n",
       "      <td>insurance</td>\n",
       "      <td>0.034716</td>\n",
       "    </tr>\n",
       "    <tr>\n",
       "      <th>19</th>\n",
       "      <td>reverse</td>\n",
       "      <td>0.043380</td>\n",
       "    </tr>\n",
       "  </tbody>\n",
       "</table>\n",
       "</div>"
      ],
      "text/plain": [
       "     Key Word     Score\n",
       "0    election  0.009477\n",
       "1      people  0.011260\n",
       "2       elect  0.012225\n",
       "3        year  0.013663\n",
       "4       exist  0.014405\n",
       "5         win  0.016393\n",
       "6        time  0.017820\n",
       "7         pre  0.018489\n",
       "8   condition  0.020675\n",
       "9   socialist  0.020675\n",
       "10      party  0.022949\n",
       "11     happen  0.025305\n",
       "12     period  0.028043\n",
       "13       good  0.031318\n",
       "14       vote  0.031318\n",
       "15        big  0.034716\n",
       "16      court  0.034716\n",
       "17       wait  0.034716\n",
       "18  insurance  0.034716\n",
       "19    reverse  0.043380"
      ]
     },
     "execution_count": 43,
     "metadata": {},
     "output_type": "execute_result"
    }
   ],
   "source": [
    "df_key_words_lem"
   ]
  },
  {
   "cell_type": "code",
   "execution_count": 44,
   "id": "cda18f70-5c1c-4ec7-aa35-bd23e01990f4",
   "metadata": {},
   "outputs": [],
   "source": [
    "df_key_words_lem.index = df_key_words_lem.index + 1\n",
    "df_key_words_lem['Variable ID'] = 'v' + df_key_words_lem.index.astype(str).str.zfill(6)"
   ]
  },
  {
   "cell_type": "markdown",
   "id": "a88d30e6-0353-4f48-974d-a99ede8947c0",
   "metadata": {},
   "source": [
    "### Exporting to a file"
   ]
  },
  {
   "cell_type": "code",
   "execution_count": 45,
   "id": "ea2f5f99-4be0-48a5-8f8c-ae3c8e748a8a",
   "metadata": {},
   "outputs": [],
   "source": [
    "df_key_words_lem[['Variable ID', 'Key Word']].to_csv('selectedwords_lem', sep=' ', index=False, header=False, encoding='utf-8', lineterminator='\\n')"
   ]
  },
  {
   "cell_type": "code",
   "execution_count": 46,
   "id": "987ae05c-a35b-40fe-95d0-aeaad54d41bf",
   "metadata": {},
   "outputs": [
    {
     "data": {
      "text/plain": [
       "'var_index_lem.txt'"
      ]
     },
     "execution_count": 46,
     "metadata": {},
     "output_type": "execute_result"
    }
   ],
   "source": [
    "shutil.copy('selectedwords_lem', 'var_index_lem.txt')"
   ]
  }
 ],
 "metadata": {
  "kernelspec": {
   "display_name": "my_env",
   "language": "python",
   "name": "my_env"
  },
  "language_info": {
   "codemirror_mode": {
    "name": "ipython",
    "version": 3
   },
   "file_extension": ".py",
   "mimetype": "text/x-python",
   "name": "python",
   "nbconvert_exporter": "python",
   "pygments_lexer": "ipython3",
   "version": "3.10.12"
  }
 },
 "nbformat": 4,
 "nbformat_minor": 5
}
