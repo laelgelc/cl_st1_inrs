{
 "cells": [
  {
   "cell_type": "markdown",
   "id": "810d9f10-ec19-4b09-8f90-e983e460b319",
   "metadata": {
    "jp-MarkdownHeadingCollapsed": true
   },
   "source": [
    "<center>\n",
    "<img src=\"https://laelgelcpublic.s3.sa-east-1.amazonaws.com/lael_50_years_narrow_white.png.no_years.400px_96dpi.png\" width=\"300\" alt=\"LAEL 50 years logo\">\n",
    "<h3>APPLIED LINGUISTICS GRADUATE PROGRAMME (LAEL)</h3>\n",
    "</center>\n",
    "<hr>"
   ]
  },
  {
   "cell_type": "markdown",
   "id": "888c2c96-2fc3-4a1a-995b-c388036a2a15",
   "metadata": {},
   "source": [
    "# Corpus Linguistics - Study 1 - INRS - Dataset preparation 2"
   ]
  },
  {
   "cell_type": "markdown",
   "id": "7a9c2af7-9fc1-4f51-a4f5-2ed915b93039",
   "metadata": {},
   "source": [
    "## Importing the required libraries"
   ]
  },
  {
   "cell_type": "code",
   "execution_count": 1,
   "id": "e6689499-d19d-4b0c-befd-f88926b7105d",
   "metadata": {},
   "outputs": [],
   "source": [
    "import re\n",
    "import pandas as pd"
   ]
  },
  {
   "cell_type": "markdown",
   "id": "73050066-64bd-42cb-ac9d-9840a07c8d7a",
   "metadata": {},
   "source": [
    "## Setting input and output filenames"
   ]
  },
  {
   "cell_type": "markdown",
   "id": "3328eee4-c0e2-4463-b06d-5a45a67e0835",
   "metadata": {},
   "source": [
    "Set the `input_filename` with the filename of the file to be processed."
   ]
  },
  {
   "cell_type": "code",
   "execution_count": 2,
   "id": "376b4b00-86c3-4778-8e57-e5ce47886e91",
   "metadata": {},
   "outputs": [],
   "source": [
    "input_filename = 'news_cleaned_fake.jsonl'\n",
    "suffix = '_prep'\n",
    "\n",
    "def add_suffix(filename):\n",
    "    # Extract the base filename without the extension\n",
    "    base_filename = re.match(r'^([A-Za-z0-9-_,\\s]+)\\.[A-Za-z]{1,5}$', filename).group(1)\n",
    "    \n",
    "    # Append suffix to the base filename\n",
    "    new_filename = f'{base_filename}{suffix}'\n",
    "    \n",
    "    # Add the original file extension back\n",
    "    new_filename += re.search(r'\\.[A-Za-z]{1,5}$', filename).group()\n",
    "    \n",
    "    return new_filename\n",
    "\n",
    "output_filename = add_suffix(input_filename)"
   ]
  },
  {
   "cell_type": "markdown",
   "id": "9a79a002-c182-4021-9b77-99ad470582af",
   "metadata": {},
   "source": [
    "## Data wrangling"
   ]
  },
  {
   "cell_type": "markdown",
   "id": "66e37aae-8cee-42ca-91ff-10f882fc45c6",
   "metadata": {},
   "source": [
    "### Importing the tweet raw data into a dataframe"
   ]
  },
  {
   "cell_type": "code",
   "execution_count": 3,
   "id": "8a762708-07e4-472d-b3e9-bb0cea14438c",
   "metadata": {},
   "outputs": [],
   "source": [
    "df_tweets_raw_data = pd.read_json(input_filename, lines=True)"
   ]
  },
  {
   "cell_type": "code",
   "execution_count": 4,
   "id": "623ddacd-5a20-4d89-a48e-98849a0644e9",
   "metadata": {},
   "outputs": [
    {
     "data": {
      "text/html": [
       "<div>\n",
       "<style scoped>\n",
       "    .dataframe tbody tr th:only-of-type {\n",
       "        vertical-align: middle;\n",
       "    }\n",
       "\n",
       "    .dataframe tbody tr th {\n",
       "        vertical-align: top;\n",
       "    }\n",
       "\n",
       "    .dataframe thead th {\n",
       "        text-align: right;\n",
       "    }\n",
       "</style>\n",
       "<table border=\"1\" class=\"dataframe\">\n",
       "  <thead>\n",
       "    <tr style=\"text-align: right;\">\n",
       "      <th></th>\n",
       "      <th>Unnamed: 0</th>\n",
       "      <th>id</th>\n",
       "      <th>domain</th>\n",
       "      <th>type</th>\n",
       "      <th>url</th>\n",
       "      <th>content</th>\n",
       "      <th>scraped_at</th>\n",
       "      <th>inserted_at</th>\n",
       "      <th>updated_at</th>\n",
       "      <th>title</th>\n",
       "      <th>authors</th>\n",
       "      <th>keywords</th>\n",
       "      <th>meta_keywords</th>\n",
       "      <th>meta_description</th>\n",
       "      <th>tags</th>\n",
       "      <th>summary</th>\n",
       "      <th>source</th>\n",
       "    </tr>\n",
       "  </thead>\n",
       "  <tbody>\n",
       "    <tr>\n",
       "      <th>0</th>\n",
       "      <td>27</td>\n",
       "      <td>34</td>\n",
       "      <td>beforeitsnews.com</td>\n",
       "      <td>fake</td>\n",
       "      <td>http://beforeitsnews.com/opinion-conservative/...</td>\n",
       "      <td>Headline: Bitcoin &amp; Blockchain Searches Exceed...</td>\n",
       "      <td>2018-01-25 16:17:44.789555</td>\n",
       "      <td>2018-02-02 01:19:41.756632</td>\n",
       "      <td>2018-02-02 01:19:41.756664</td>\n",
       "      <td>Surprise: Socialist Hotbed Of Venezuela Has Lo...</td>\n",
       "      <td>The Pirate'S Cove</td>\n",
       "      <td>NaN</td>\n",
       "      <td>['']</td>\n",
       "      <td>None</td>\n",
       "      <td>None</td>\n",
       "      <td>NaN</td>\n",
       "      <td>NaN</td>\n",
       "    </tr>\n",
       "    <tr>\n",
       "      <th>1</th>\n",
       "      <td>28</td>\n",
       "      <td>35</td>\n",
       "      <td>beforeitsnews.com</td>\n",
       "      <td>fake</td>\n",
       "      <td>http://beforeitsnews.com/politics/2018/01/wate...</td>\n",
       "      <td>Water Cooler 1/25/18 Open Thread; Fake News ? ...</td>\n",
       "      <td>2018-01-25 16:17:44.789555</td>\n",
       "      <td>2018-02-02 01:19:41.756632</td>\n",
       "      <td>2018-02-02 01:19:41.756664</td>\n",
       "      <td>Water Cooler 1/25/18 Open Thread; Fake News ? ...</td>\n",
       "      <td>None</td>\n",
       "      <td>NaN</td>\n",
       "      <td>['']</td>\n",
       "      <td>None</td>\n",
       "      <td>None</td>\n",
       "      <td>NaN</td>\n",
       "      <td>NaN</td>\n",
       "    </tr>\n",
       "    <tr>\n",
       "      <th>2</th>\n",
       "      <td>29</td>\n",
       "      <td>36</td>\n",
       "      <td>beforeitsnews.com</td>\n",
       "      <td>fake</td>\n",
       "      <td>http://beforeitsnews.com/politics/2018/01/vete...</td>\n",
       "      <td>Veteran Commentator Calls Out the Growing “Eth...</td>\n",
       "      <td>2018-01-25 16:17:44.789555</td>\n",
       "      <td>2018-02-02 01:19:41.756632</td>\n",
       "      <td>2018-02-02 01:19:41.756664</td>\n",
       "      <td>Veteran Commentator Calls Out the Growing “Eth...</td>\n",
       "      <td>None</td>\n",
       "      <td>NaN</td>\n",
       "      <td>['']</td>\n",
       "      <td>None</td>\n",
       "      <td>None</td>\n",
       "      <td>NaN</td>\n",
       "      <td>NaN</td>\n",
       "    </tr>\n",
       "    <tr>\n",
       "      <th>3</th>\n",
       "      <td>30</td>\n",
       "      <td>37</td>\n",
       "      <td>beforeitsnews.com</td>\n",
       "      <td>fake</td>\n",
       "      <td>http://beforeitsnews.com/arts/2018/01/lost-wor...</td>\n",
       "      <td>Lost Words, Hidden Words, Otters, Banks and Bo...</td>\n",
       "      <td>2018-01-25 16:17:44.789555</td>\n",
       "      <td>2018-02-02 01:19:41.756632</td>\n",
       "      <td>2018-02-02 01:19:41.756664</td>\n",
       "      <td>Lost Words, Hidden Words, Otters, Banks and Books</td>\n",
       "      <td>Jackie Morris Artist</td>\n",
       "      <td>NaN</td>\n",
       "      <td>['']</td>\n",
       "      <td>None</td>\n",
       "      <td>None</td>\n",
       "      <td>NaN</td>\n",
       "      <td>NaN</td>\n",
       "    </tr>\n",
       "    <tr>\n",
       "      <th>4</th>\n",
       "      <td>31</td>\n",
       "      <td>38</td>\n",
       "      <td>beforeitsnews.com</td>\n",
       "      <td>fake</td>\n",
       "      <td>http://beforeitsnews.com/financial-markets/201...</td>\n",
       "      <td>Red Alert: Bond Yields Are SCREAMING “Inflatio...</td>\n",
       "      <td>2018-01-25 16:17:44.789555</td>\n",
       "      <td>2018-02-02 01:19:41.756632</td>\n",
       "      <td>2018-02-02 01:19:41.756664</td>\n",
       "      <td>Red Alert: Bond Yields Are SCREAMING “Inflatio...</td>\n",
       "      <td>Phoenix Capital Research</td>\n",
       "      <td>NaN</td>\n",
       "      <td>['']</td>\n",
       "      <td>None</td>\n",
       "      <td>None</td>\n",
       "      <td>NaN</td>\n",
       "      <td>NaN</td>\n",
       "    </tr>\n",
       "  </tbody>\n",
       "</table>\n",
       "</div>"
      ],
      "text/plain": [
       "   Unnamed: 0  id             domain  type  \\\n",
       "0          27  34  beforeitsnews.com  fake   \n",
       "1          28  35  beforeitsnews.com  fake   \n",
       "2          29  36  beforeitsnews.com  fake   \n",
       "3          30  37  beforeitsnews.com  fake   \n",
       "4          31  38  beforeitsnews.com  fake   \n",
       "\n",
       "                                                 url  \\\n",
       "0  http://beforeitsnews.com/opinion-conservative/...   \n",
       "1  http://beforeitsnews.com/politics/2018/01/wate...   \n",
       "2  http://beforeitsnews.com/politics/2018/01/vete...   \n",
       "3  http://beforeitsnews.com/arts/2018/01/lost-wor...   \n",
       "4  http://beforeitsnews.com/financial-markets/201...   \n",
       "\n",
       "                                             content  \\\n",
       "0  Headline: Bitcoin & Blockchain Searches Exceed...   \n",
       "1  Water Cooler 1/25/18 Open Thread; Fake News ? ...   \n",
       "2  Veteran Commentator Calls Out the Growing “Eth...   \n",
       "3  Lost Words, Hidden Words, Otters, Banks and Bo...   \n",
       "4  Red Alert: Bond Yields Are SCREAMING “Inflatio...   \n",
       "\n",
       "                  scraped_at                inserted_at  \\\n",
       "0 2018-01-25 16:17:44.789555 2018-02-02 01:19:41.756632   \n",
       "1 2018-01-25 16:17:44.789555 2018-02-02 01:19:41.756632   \n",
       "2 2018-01-25 16:17:44.789555 2018-02-02 01:19:41.756632   \n",
       "3 2018-01-25 16:17:44.789555 2018-02-02 01:19:41.756632   \n",
       "4 2018-01-25 16:17:44.789555 2018-02-02 01:19:41.756632   \n",
       "\n",
       "                  updated_at  \\\n",
       "0 2018-02-02 01:19:41.756664   \n",
       "1 2018-02-02 01:19:41.756664   \n",
       "2 2018-02-02 01:19:41.756664   \n",
       "3 2018-02-02 01:19:41.756664   \n",
       "4 2018-02-02 01:19:41.756664   \n",
       "\n",
       "                                               title  \\\n",
       "0  Surprise: Socialist Hotbed Of Venezuela Has Lo...   \n",
       "1  Water Cooler 1/25/18 Open Thread; Fake News ? ...   \n",
       "2  Veteran Commentator Calls Out the Growing “Eth...   \n",
       "3  Lost Words, Hidden Words, Otters, Banks and Books   \n",
       "4  Red Alert: Bond Yields Are SCREAMING “Inflatio...   \n",
       "\n",
       "                    authors  keywords meta_keywords meta_description  tags  \\\n",
       "0         The Pirate'S Cove       NaN          ['']             None  None   \n",
       "1                      None       NaN          ['']             None  None   \n",
       "2                      None       NaN          ['']             None  None   \n",
       "3      Jackie Morris Artist       NaN          ['']             None  None   \n",
       "4  Phoenix Capital Research       NaN          ['']             None  None   \n",
       "\n",
       "   summary  source  \n",
       "0      NaN     NaN  \n",
       "1      NaN     NaN  \n",
       "2      NaN     NaN  \n",
       "3      NaN     NaN  \n",
       "4      NaN     NaN  "
      ]
     },
     "execution_count": 4,
     "metadata": {},
     "output_type": "execute_result"
    }
   ],
   "source": [
    "df_tweets_raw_data.head(5)"
   ]
  },
  {
   "cell_type": "code",
   "execution_count": 5,
   "id": "1651fe57",
   "metadata": {},
   "outputs": [
    {
     "data": {
      "text/plain": [
       "(894746, 17)"
      ]
     },
     "execution_count": 5,
     "metadata": {},
     "output_type": "execute_result"
    }
   ],
   "source": [
    "df_tweets_raw_data.shape"
   ]
  },
  {
   "cell_type": "markdown",
   "id": "a7ef5290-f5bf-44ae-8f40-5d1274b8318a",
   "metadata": {},
   "source": [
    "### Checking if data types are consistent"
   ]
  },
  {
   "cell_type": "code",
   "execution_count": 6,
   "id": "6795c314-cc1f-4acd-86a1-a4eada8a9bcb",
   "metadata": {},
   "outputs": [
    {
     "data": {
      "text/plain": [
       "Unnamed: 0                   int64\n",
       "id                           int64\n",
       "domain                      object\n",
       "type                        object\n",
       "url                         object\n",
       "content                     object\n",
       "scraped_at          datetime64[ns]\n",
       "inserted_at         datetime64[ns]\n",
       "updated_at          datetime64[ns]\n",
       "title                       object\n",
       "authors                     object\n",
       "keywords                   float64\n",
       "meta_keywords               object\n",
       "meta_description            object\n",
       "tags                        object\n",
       "summary                    float64\n",
       "source                     float64\n",
       "dtype: object"
      ]
     },
     "execution_count": 6,
     "metadata": {},
     "output_type": "execute_result"
    }
   ],
   "source": [
    "df_tweets_raw_data.dtypes"
   ]
  },
  {
   "cell_type": "markdown",
   "id": "1a5f52ac-c869-45c0-885e-65ec0b04d4e9",
   "metadata": {},
   "source": [
    "#### Converting `id` column's data type to `str` for future use"
   ]
  },
  {
   "cell_type": "code",
   "execution_count": 7,
   "id": "fbd7544b-6bce-4276-bde0-457e6c378d80",
   "metadata": {},
   "outputs": [],
   "source": [
    "df_tweets_raw_data['id'] = df_tweets_raw_data['id'].astype(str)"
   ]
  },
  {
   "cell_type": "markdown",
   "id": "26ff2a3f-1c43-4a31-b876-ff6de54714e6",
   "metadata": {},
   "source": [
    "### Fixing missing values in the column `authors`"
   ]
  },
  {
   "cell_type": "code",
   "execution_count": 8,
   "id": "5c47cc4c-3f2a-4524-8dd6-61b5ae94150a",
   "metadata": {},
   "outputs": [
    {
     "name": "stdout",
     "output_type": "stream",
     "text": [
      "349528\n"
     ]
    }
   ],
   "source": [
    "print(df_tweets_raw_data['authors'].isnull().sum())"
   ]
  },
  {
   "cell_type": "code",
   "execution_count": 9,
   "id": "3db8bc9e-271b-4702-851e-6d23aa3c5d33",
   "metadata": {},
   "outputs": [
    {
     "data": {
      "text/plain": [
       "array([\"The Pirate'S Cove\", None, 'Jackie Morris Artist', ...,\n",
       "       'Tracy Mitchell, Jim Asherman, Lillian Geiger Smith, Anthony Melé',\n",
       "       'Joe W., Cm Sackett, David Robertson, Cathleen James, Sam R, Jason Rennie, Larry Gibby',\n",
       "       'Robert Rivera, Michael Rodriguez, Haha, Rock Hillbilly, Patriot, Bill Mcmicheals, Press Watchusa, Marlene Hessler, John Bohler, A. P.'],\n",
       "      dtype=object)"
      ]
     },
     "execution_count": 9,
     "metadata": {},
     "output_type": "execute_result"
    }
   ],
   "source": [
    "df_tweets_raw_data['authors'].unique()"
   ]
  },
  {
   "cell_type": "code",
   "execution_count": 10,
   "id": "77040568-636b-40d9-8fa9-be94d2f8c555",
   "metadata": {},
   "outputs": [],
   "source": [
    "df_tweets_raw_data['authors'].fillna('None', inplace=True)"
   ]
  },
  {
   "cell_type": "code",
   "execution_count": 11,
   "id": "1ea88e28-d8d4-4dbf-b6ba-41e633dfeb4c",
   "metadata": {},
   "outputs": [
    {
     "name": "stdout",
     "output_type": "stream",
     "text": [
      "0\n"
     ]
    }
   ],
   "source": [
    "print(df_tweets_raw_data['authors'].isnull().sum())"
   ]
  },
  {
   "cell_type": "markdown",
   "id": "35542ef9-17d5-4d4c-8e2b-89c4b3dfb2df",
   "metadata": {},
   "source": [
    "### Checking the columns `id`, `url` and `scraped_at` for missing values"
   ]
  },
  {
   "cell_type": "code",
   "execution_count": 12,
   "id": "ee84ec09-dbd4-483b-b08b-292dfca1e796",
   "metadata": {},
   "outputs": [
    {
     "name": "stdout",
     "output_type": "stream",
     "text": [
      "0\n"
     ]
    }
   ],
   "source": [
    "print(df_tweets_raw_data['id'].isnull().sum())"
   ]
  },
  {
   "cell_type": "code",
   "execution_count": 13,
   "id": "bc275faa-2d37-4364-92e9-0ca46a3fe762",
   "metadata": {},
   "outputs": [
    {
     "name": "stdout",
     "output_type": "stream",
     "text": [
      "0\n"
     ]
    }
   ],
   "source": [
    "print(df_tweets_raw_data['url'].isnull().sum())"
   ]
  },
  {
   "cell_type": "code",
   "execution_count": 14,
   "id": "704c293a-86ef-43cd-83c1-875cdf424ccd",
   "metadata": {},
   "outputs": [
    {
     "name": "stdout",
     "output_type": "stream",
     "text": [
      "0\n"
     ]
    }
   ],
   "source": [
    "print(df_tweets_raw_data['scraped_at'].isnull().sum())"
   ]
  },
  {
   "cell_type": "markdown",
   "id": "cd9f7146-5f3d-4060-9870-176d5ea5cb79",
   "metadata": {},
   "source": [
    "### Extracting the column `created_at`"
   ]
  },
  {
   "cell_type": "code",
   "execution_count": 15,
   "id": "82d3b8ea-2b18-432d-a3e1-a6b30a15128c",
   "metadata": {},
   "outputs": [],
   "source": [
    "# Extract the 'scraped_at' attribute\n",
    "created_at = df_tweets_raw_data['scraped_at']\n",
    "\n",
    "# Create a new column 'created_at'\n",
    "df_tweets_raw_data['created_at'] = created_at"
   ]
  },
  {
   "cell_type": "markdown",
   "id": "30a58b8b-f17a-432f-866b-559fcdbfa61c",
   "metadata": {},
   "source": [
    "### Extracting the column `author_id`"
   ]
  },
  {
   "cell_type": "code",
   "execution_count": 16,
   "id": "0b3b0049-4e58-4a80-96c6-199b851d0c1b",
   "metadata": {},
   "outputs": [],
   "source": [
    "# Extract the 'id' attribute\n",
    "author_id = df_tweets_raw_data['id']\n",
    "\n",
    "# Create a new column 'author_id'\n",
    "df_tweets_raw_data['author_id'] = author_id"
   ]
  },
  {
   "cell_type": "markdown",
   "id": "406c9ba9-73ad-42a3-bfdb-f64cc36c96a9",
   "metadata": {},
   "source": [
    "### Extracting the column `username`"
   ]
  },
  {
   "cell_type": "code",
   "execution_count": 17,
   "id": "0079390d-6438-4d72-bf6e-0cf2278898ad",
   "metadata": {},
   "outputs": [],
   "source": [
    "# Extract the 'authors' attribute\n",
    "username = df_tweets_raw_data['authors']\n",
    "\n",
    "# Create a new column 'username'\n",
    "df_tweets_raw_data['username'] = username"
   ]
  },
  {
   "cell_type": "markdown",
   "id": "7a0e98ef-4398-4d56-8af8-35eb031d0155",
   "metadata": {},
   "source": [
    "### Extracting the column `tweet_url`"
   ]
  },
  {
   "cell_type": "code",
   "execution_count": 18,
   "id": "04d1211f-1cca-4e9c-8041-0d6579ab32a0",
   "metadata": {},
   "outputs": [],
   "source": [
    "# Extract the 'url' attribute\n",
    "tweet_url = df_tweets_raw_data['url']\n",
    "\n",
    "# Create a new column 'tweet_url'\n",
    "df_tweets_raw_data['tweet_url'] = tweet_url"
   ]
  },
  {
   "cell_type": "markdown",
   "id": "4aa75bb0-d66c-4976-a290-8ed293c7f67d",
   "metadata": {},
   "source": [
    "### Extracting the column `text`"
   ]
  },
  {
   "cell_type": "code",
   "execution_count": 19,
   "id": "93369abf-20ae-49ee-aac6-029fa5241821",
   "metadata": {},
   "outputs": [],
   "source": [
    "# Extract the 'content' attribute\n",
    "text = df_tweets_raw_data['content']\n",
    "\n",
    "# Create a new column 'text'\n",
    "df_tweets_raw_data['text'] = text"
   ]
  },
  {
   "cell_type": "code",
   "execution_count": 20,
   "id": "b6037461-b4d4-461d-bbaf-a5c6d8f6ee1d",
   "metadata": {},
   "outputs": [
    {
     "data": {
      "text/html": [
       "<div>\n",
       "<style scoped>\n",
       "    .dataframe tbody tr th:only-of-type {\n",
       "        vertical-align: middle;\n",
       "    }\n",
       "\n",
       "    .dataframe tbody tr th {\n",
       "        vertical-align: top;\n",
       "    }\n",
       "\n",
       "    .dataframe thead th {\n",
       "        text-align: right;\n",
       "    }\n",
       "</style>\n",
       "<table border=\"1\" class=\"dataframe\">\n",
       "  <thead>\n",
       "    <tr style=\"text-align: right;\">\n",
       "      <th></th>\n",
       "      <th>Unnamed: 0</th>\n",
       "      <th>id</th>\n",
       "      <th>domain</th>\n",
       "      <th>type</th>\n",
       "      <th>url</th>\n",
       "      <th>content</th>\n",
       "      <th>scraped_at</th>\n",
       "      <th>inserted_at</th>\n",
       "      <th>updated_at</th>\n",
       "      <th>title</th>\n",
       "      <th>...</th>\n",
       "      <th>meta_keywords</th>\n",
       "      <th>meta_description</th>\n",
       "      <th>tags</th>\n",
       "      <th>summary</th>\n",
       "      <th>source</th>\n",
       "      <th>created_at</th>\n",
       "      <th>author_id</th>\n",
       "      <th>username</th>\n",
       "      <th>tweet_url</th>\n",
       "      <th>text</th>\n",
       "    </tr>\n",
       "  </thead>\n",
       "  <tbody>\n",
       "    <tr>\n",
       "      <th>0</th>\n",
       "      <td>27</td>\n",
       "      <td>34</td>\n",
       "      <td>beforeitsnews.com</td>\n",
       "      <td>fake</td>\n",
       "      <td>http://beforeitsnews.com/opinion-conservative/...</td>\n",
       "      <td>Headline: Bitcoin &amp; Blockchain Searches Exceed...</td>\n",
       "      <td>2018-01-25 16:17:44.789555</td>\n",
       "      <td>2018-02-02 01:19:41.756632</td>\n",
       "      <td>2018-02-02 01:19:41.756664</td>\n",
       "      <td>Surprise: Socialist Hotbed Of Venezuela Has Lo...</td>\n",
       "      <td>...</td>\n",
       "      <td>['']</td>\n",
       "      <td>None</td>\n",
       "      <td>None</td>\n",
       "      <td>NaN</td>\n",
       "      <td>NaN</td>\n",
       "      <td>2018-01-25 16:17:44.789555</td>\n",
       "      <td>34</td>\n",
       "      <td>The Pirate'S Cove</td>\n",
       "      <td>http://beforeitsnews.com/opinion-conservative/...</td>\n",
       "      <td>Headline: Bitcoin &amp; Blockchain Searches Exceed...</td>\n",
       "    </tr>\n",
       "    <tr>\n",
       "      <th>1</th>\n",
       "      <td>28</td>\n",
       "      <td>35</td>\n",
       "      <td>beforeitsnews.com</td>\n",
       "      <td>fake</td>\n",
       "      <td>http://beforeitsnews.com/politics/2018/01/wate...</td>\n",
       "      <td>Water Cooler 1/25/18 Open Thread; Fake News ? ...</td>\n",
       "      <td>2018-01-25 16:17:44.789555</td>\n",
       "      <td>2018-02-02 01:19:41.756632</td>\n",
       "      <td>2018-02-02 01:19:41.756664</td>\n",
       "      <td>Water Cooler 1/25/18 Open Thread; Fake News ? ...</td>\n",
       "      <td>...</td>\n",
       "      <td>['']</td>\n",
       "      <td>None</td>\n",
       "      <td>None</td>\n",
       "      <td>NaN</td>\n",
       "      <td>NaN</td>\n",
       "      <td>2018-01-25 16:17:44.789555</td>\n",
       "      <td>35</td>\n",
       "      <td>None</td>\n",
       "      <td>http://beforeitsnews.com/politics/2018/01/wate...</td>\n",
       "      <td>Water Cooler 1/25/18 Open Thread; Fake News ? ...</td>\n",
       "    </tr>\n",
       "    <tr>\n",
       "      <th>2</th>\n",
       "      <td>29</td>\n",
       "      <td>36</td>\n",
       "      <td>beforeitsnews.com</td>\n",
       "      <td>fake</td>\n",
       "      <td>http://beforeitsnews.com/politics/2018/01/vete...</td>\n",
       "      <td>Veteran Commentator Calls Out the Growing “Eth...</td>\n",
       "      <td>2018-01-25 16:17:44.789555</td>\n",
       "      <td>2018-02-02 01:19:41.756632</td>\n",
       "      <td>2018-02-02 01:19:41.756664</td>\n",
       "      <td>Veteran Commentator Calls Out the Growing “Eth...</td>\n",
       "      <td>...</td>\n",
       "      <td>['']</td>\n",
       "      <td>None</td>\n",
       "      <td>None</td>\n",
       "      <td>NaN</td>\n",
       "      <td>NaN</td>\n",
       "      <td>2018-01-25 16:17:44.789555</td>\n",
       "      <td>36</td>\n",
       "      <td>None</td>\n",
       "      <td>http://beforeitsnews.com/politics/2018/01/vete...</td>\n",
       "      <td>Veteran Commentator Calls Out the Growing “Eth...</td>\n",
       "    </tr>\n",
       "    <tr>\n",
       "      <th>3</th>\n",
       "      <td>30</td>\n",
       "      <td>37</td>\n",
       "      <td>beforeitsnews.com</td>\n",
       "      <td>fake</td>\n",
       "      <td>http://beforeitsnews.com/arts/2018/01/lost-wor...</td>\n",
       "      <td>Lost Words, Hidden Words, Otters, Banks and Bo...</td>\n",
       "      <td>2018-01-25 16:17:44.789555</td>\n",
       "      <td>2018-02-02 01:19:41.756632</td>\n",
       "      <td>2018-02-02 01:19:41.756664</td>\n",
       "      <td>Lost Words, Hidden Words, Otters, Banks and Books</td>\n",
       "      <td>...</td>\n",
       "      <td>['']</td>\n",
       "      <td>None</td>\n",
       "      <td>None</td>\n",
       "      <td>NaN</td>\n",
       "      <td>NaN</td>\n",
       "      <td>2018-01-25 16:17:44.789555</td>\n",
       "      <td>37</td>\n",
       "      <td>Jackie Morris Artist</td>\n",
       "      <td>http://beforeitsnews.com/arts/2018/01/lost-wor...</td>\n",
       "      <td>Lost Words, Hidden Words, Otters, Banks and Bo...</td>\n",
       "    </tr>\n",
       "    <tr>\n",
       "      <th>4</th>\n",
       "      <td>31</td>\n",
       "      <td>38</td>\n",
       "      <td>beforeitsnews.com</td>\n",
       "      <td>fake</td>\n",
       "      <td>http://beforeitsnews.com/financial-markets/201...</td>\n",
       "      <td>Red Alert: Bond Yields Are SCREAMING “Inflatio...</td>\n",
       "      <td>2018-01-25 16:17:44.789555</td>\n",
       "      <td>2018-02-02 01:19:41.756632</td>\n",
       "      <td>2018-02-02 01:19:41.756664</td>\n",
       "      <td>Red Alert: Bond Yields Are SCREAMING “Inflatio...</td>\n",
       "      <td>...</td>\n",
       "      <td>['']</td>\n",
       "      <td>None</td>\n",
       "      <td>None</td>\n",
       "      <td>NaN</td>\n",
       "      <td>NaN</td>\n",
       "      <td>2018-01-25 16:17:44.789555</td>\n",
       "      <td>38</td>\n",
       "      <td>Phoenix Capital Research</td>\n",
       "      <td>http://beforeitsnews.com/financial-markets/201...</td>\n",
       "      <td>Red Alert: Bond Yields Are SCREAMING “Inflatio...</td>\n",
       "    </tr>\n",
       "    <tr>\n",
       "      <th>...</th>\n",
       "      <td>...</td>\n",
       "      <td>...</td>\n",
       "      <td>...</td>\n",
       "      <td>...</td>\n",
       "      <td>...</td>\n",
       "      <td>...</td>\n",
       "      <td>...</td>\n",
       "      <td>...</td>\n",
       "      <td>...</td>\n",
       "      <td>...</td>\n",
       "      <td>...</td>\n",
       "      <td>...</td>\n",
       "      <td>...</td>\n",
       "      <td>...</td>\n",
       "      <td>...</td>\n",
       "      <td>...</td>\n",
       "      <td>...</td>\n",
       "      <td>...</td>\n",
       "      <td>...</td>\n",
       "      <td>...</td>\n",
       "      <td>...</td>\n",
       "    </tr>\n",
       "    <tr>\n",
       "      <th>894741</th>\n",
       "      <td>9045</td>\n",
       "      <td>7981331</td>\n",
       "      <td>theinternetpost.net</td>\n",
       "      <td>fake</td>\n",
       "      <td>https://theinternetpost.net/2017/12/13/nra-sil...</td>\n",
       "      <td>The National Rifle Association (NRA), which fa...</td>\n",
       "      <td>2018-01-01 15:13:06.815222</td>\n",
       "      <td>2018-02-08 19:18:34.468038</td>\n",
       "      <td>2018-02-08 19:18:34.468066</td>\n",
       "      <td>NRA Silent as States, Feds Ban Gun Sales to Me...</td>\n",
       "      <td>...</td>\n",
       "      <td>['']</td>\n",
       "      <td>The National Rifle Association (NRA), which fa...</td>\n",
       "      <td>NRA, gun sales, Medical Marijuana Patients</td>\n",
       "      <td>NaN</td>\n",
       "      <td>NaN</td>\n",
       "      <td>2018-01-01 15:13:06.815222</td>\n",
       "      <td>7981331</td>\n",
       "      <td>None</td>\n",
       "      <td>https://theinternetpost.net/2017/12/13/nra-sil...</td>\n",
       "      <td>The National Rifle Association (NRA), which fa...</td>\n",
       "    </tr>\n",
       "    <tr>\n",
       "      <th>894742</th>\n",
       "      <td>9053</td>\n",
       "      <td>7981340</td>\n",
       "      <td>theinternetpost.net</td>\n",
       "      <td>fake</td>\n",
       "      <td>https://theinternetpost.net/category/economics/</td>\n",
       "      <td>‘Florida’s 3rd District Court of Appeal just c...</td>\n",
       "      <td>2018-01-01 15:13:06.815222</td>\n",
       "      <td>2018-02-08 19:18:34.468038</td>\n",
       "      <td>2018-02-08 19:18:34.468066</td>\n",
       "      <td>THE INTERNET POST</td>\n",
       "      <td>...</td>\n",
       "      <td>['']</td>\n",
       "      <td>Posts about economics written by ajfloyd, bjja...</td>\n",
       "      <td>US, XtendiMax, Opium poppy, national debt, Hom...</td>\n",
       "      <td>NaN</td>\n",
       "      <td>NaN</td>\n",
       "      <td>2018-01-01 15:13:06.815222</td>\n",
       "      <td>7981340</td>\n",
       "      <td>None</td>\n",
       "      <td>https://theinternetpost.net/category/economics/</td>\n",
       "      <td>‘Florida’s 3rd District Court of Appeal just c...</td>\n",
       "    </tr>\n",
       "    <tr>\n",
       "      <th>894743</th>\n",
       "      <td>9062</td>\n",
       "      <td>7981349</td>\n",
       "      <td>theinternetpost.net</td>\n",
       "      <td>fake</td>\n",
       "      <td>https://theinternetpost.net/tag/vaccines/</td>\n",
       "      <td>The Institute for Justice estimates one out of...</td>\n",
       "      <td>2018-01-01 15:13:06.815222</td>\n",
       "      <td>2018-02-08 19:18:34.468038</td>\n",
       "      <td>2018-02-08 19:18:34.468066</td>\n",
       "      <td>THE INTERNET POST</td>\n",
       "      <td>...</td>\n",
       "      <td>['']</td>\n",
       "      <td>Posts about vaccines written by kristalklear, ...</td>\n",
       "      <td>Meningitis, Michigan appeals court, Michigan, ...</td>\n",
       "      <td>NaN</td>\n",
       "      <td>NaN</td>\n",
       "      <td>2018-01-01 15:13:06.815222</td>\n",
       "      <td>7981349</td>\n",
       "      <td>None</td>\n",
       "      <td>https://theinternetpost.net/tag/vaccines/</td>\n",
       "      <td>The Institute for Justice estimates one out of...</td>\n",
       "    </tr>\n",
       "    <tr>\n",
       "      <th>894744</th>\n",
       "      <td>9937</td>\n",
       "      <td>7982299</td>\n",
       "      <td>therightscoop.com</td>\n",
       "      <td>fake</td>\n",
       "      <td>http://therightscoop.com/rush-reads-the-obama-...</td>\n",
       "      <td>This is an instant classic. I call it the “Oba...</td>\n",
       "      <td>2018-01-01 15:13:06.815222</td>\n",
       "      <td>2018-02-08 19:18:34.468038</td>\n",
       "      <td>2018-02-08 19:18:34.468066</td>\n",
       "      <td>Rush reads the “Obama Blames…” diaries</td>\n",
       "      <td>...</td>\n",
       "      <td>['']</td>\n",
       "      <td>None</td>\n",
       "      <td>None</td>\n",
       "      <td>NaN</td>\n",
       "      <td>NaN</td>\n",
       "      <td>2018-01-01 15:13:06.815222</td>\n",
       "      <td>7982299</td>\n",
       "      <td>Joe W., Cm Sackett, David Robertson, Cathleen ...</td>\n",
       "      <td>http://therightscoop.com/rush-reads-the-obama-...</td>\n",
       "      <td>This is an instant classic. I call it the “Oba...</td>\n",
       "    </tr>\n",
       "    <tr>\n",
       "      <th>894745</th>\n",
       "      <td>6120</td>\n",
       "      <td>7990100</td>\n",
       "      <td>therightscoop.com</td>\n",
       "      <td>fake</td>\n",
       "      <td>http://therightscoop.com/obama-plays-politics-...</td>\n",
       "      <td>This is unbelievable. The Obama administration...</td>\n",
       "      <td>2018-01-01 15:13:06.815222</td>\n",
       "      <td>2018-02-08 19:18:34.468038</td>\n",
       "      <td>2018-02-08 19:18:34.468066</td>\n",
       "      <td>UPDATE: AMBER WEBSITE NOW WORKING – Obama play...</td>\n",
       "      <td>...</td>\n",
       "      <td>['']</td>\n",
       "      <td>None</td>\n",
       "      <td>None</td>\n",
       "      <td>NaN</td>\n",
       "      <td>NaN</td>\n",
       "      <td>2018-01-01 15:13:06.815222</td>\n",
       "      <td>7990100</td>\n",
       "      <td>Robert Rivera, Michael Rodriguez, Haha, Rock H...</td>\n",
       "      <td>http://therightscoop.com/obama-plays-politics-...</td>\n",
       "      <td>This is unbelievable. The Obama administration...</td>\n",
       "    </tr>\n",
       "  </tbody>\n",
       "</table>\n",
       "<p>894746 rows × 22 columns</p>\n",
       "</div>"
      ],
      "text/plain": [
       "        Unnamed: 0       id               domain  type  \\\n",
       "0               27       34    beforeitsnews.com  fake   \n",
       "1               28       35    beforeitsnews.com  fake   \n",
       "2               29       36    beforeitsnews.com  fake   \n",
       "3               30       37    beforeitsnews.com  fake   \n",
       "4               31       38    beforeitsnews.com  fake   \n",
       "...            ...      ...                  ...   ...   \n",
       "894741        9045  7981331  theinternetpost.net  fake   \n",
       "894742        9053  7981340  theinternetpost.net  fake   \n",
       "894743        9062  7981349  theinternetpost.net  fake   \n",
       "894744        9937  7982299    therightscoop.com  fake   \n",
       "894745        6120  7990100    therightscoop.com  fake   \n",
       "\n",
       "                                                      url  \\\n",
       "0       http://beforeitsnews.com/opinion-conservative/...   \n",
       "1       http://beforeitsnews.com/politics/2018/01/wate...   \n",
       "2       http://beforeitsnews.com/politics/2018/01/vete...   \n",
       "3       http://beforeitsnews.com/arts/2018/01/lost-wor...   \n",
       "4       http://beforeitsnews.com/financial-markets/201...   \n",
       "...                                                   ...   \n",
       "894741  https://theinternetpost.net/2017/12/13/nra-sil...   \n",
       "894742    https://theinternetpost.net/category/economics/   \n",
       "894743          https://theinternetpost.net/tag/vaccines/   \n",
       "894744  http://therightscoop.com/rush-reads-the-obama-...   \n",
       "894745  http://therightscoop.com/obama-plays-politics-...   \n",
       "\n",
       "                                                  content  \\\n",
       "0       Headline: Bitcoin & Blockchain Searches Exceed...   \n",
       "1       Water Cooler 1/25/18 Open Thread; Fake News ? ...   \n",
       "2       Veteran Commentator Calls Out the Growing “Eth...   \n",
       "3       Lost Words, Hidden Words, Otters, Banks and Bo...   \n",
       "4       Red Alert: Bond Yields Are SCREAMING “Inflatio...   \n",
       "...                                                   ...   \n",
       "894741  The National Rifle Association (NRA), which fa...   \n",
       "894742  ‘Florida’s 3rd District Court of Appeal just c...   \n",
       "894743  The Institute for Justice estimates one out of...   \n",
       "894744  This is an instant classic. I call it the “Oba...   \n",
       "894745  This is unbelievable. The Obama administration...   \n",
       "\n",
       "                       scraped_at                inserted_at  \\\n",
       "0      2018-01-25 16:17:44.789555 2018-02-02 01:19:41.756632   \n",
       "1      2018-01-25 16:17:44.789555 2018-02-02 01:19:41.756632   \n",
       "2      2018-01-25 16:17:44.789555 2018-02-02 01:19:41.756632   \n",
       "3      2018-01-25 16:17:44.789555 2018-02-02 01:19:41.756632   \n",
       "4      2018-01-25 16:17:44.789555 2018-02-02 01:19:41.756632   \n",
       "...                           ...                        ...   \n",
       "894741 2018-01-01 15:13:06.815222 2018-02-08 19:18:34.468038   \n",
       "894742 2018-01-01 15:13:06.815222 2018-02-08 19:18:34.468038   \n",
       "894743 2018-01-01 15:13:06.815222 2018-02-08 19:18:34.468038   \n",
       "894744 2018-01-01 15:13:06.815222 2018-02-08 19:18:34.468038   \n",
       "894745 2018-01-01 15:13:06.815222 2018-02-08 19:18:34.468038   \n",
       "\n",
       "                       updated_at  \\\n",
       "0      2018-02-02 01:19:41.756664   \n",
       "1      2018-02-02 01:19:41.756664   \n",
       "2      2018-02-02 01:19:41.756664   \n",
       "3      2018-02-02 01:19:41.756664   \n",
       "4      2018-02-02 01:19:41.756664   \n",
       "...                           ...   \n",
       "894741 2018-02-08 19:18:34.468066   \n",
       "894742 2018-02-08 19:18:34.468066   \n",
       "894743 2018-02-08 19:18:34.468066   \n",
       "894744 2018-02-08 19:18:34.468066   \n",
       "894745 2018-02-08 19:18:34.468066   \n",
       "\n",
       "                                                    title  ... meta_keywords  \\\n",
       "0       Surprise: Socialist Hotbed Of Venezuela Has Lo...  ...          ['']   \n",
       "1       Water Cooler 1/25/18 Open Thread; Fake News ? ...  ...          ['']   \n",
       "2       Veteran Commentator Calls Out the Growing “Eth...  ...          ['']   \n",
       "3       Lost Words, Hidden Words, Otters, Banks and Books  ...          ['']   \n",
       "4       Red Alert: Bond Yields Are SCREAMING “Inflatio...  ...          ['']   \n",
       "...                                                   ...  ...           ...   \n",
       "894741  NRA Silent as States, Feds Ban Gun Sales to Me...  ...          ['']   \n",
       "894742                                  THE INTERNET POST  ...          ['']   \n",
       "894743                                  THE INTERNET POST  ...          ['']   \n",
       "894744             Rush reads the “Obama Blames…” diaries  ...          ['']   \n",
       "894745  UPDATE: AMBER WEBSITE NOW WORKING – Obama play...  ...          ['']   \n",
       "\n",
       "                                         meta_description  \\\n",
       "0                                                    None   \n",
       "1                                                    None   \n",
       "2                                                    None   \n",
       "3                                                    None   \n",
       "4                                                    None   \n",
       "...                                                   ...   \n",
       "894741  The National Rifle Association (NRA), which fa...   \n",
       "894742  Posts about economics written by ajfloyd, bjja...   \n",
       "894743  Posts about vaccines written by kristalklear, ...   \n",
       "894744                                               None   \n",
       "894745                                               None   \n",
       "\n",
       "                                                     tags summary source  \\\n",
       "0                                                    None     NaN    NaN   \n",
       "1                                                    None     NaN    NaN   \n",
       "2                                                    None     NaN    NaN   \n",
       "3                                                    None     NaN    NaN   \n",
       "4                                                    None     NaN    NaN   \n",
       "...                                                   ...     ...    ...   \n",
       "894741         NRA, gun sales, Medical Marijuana Patients     NaN    NaN   \n",
       "894742  US, XtendiMax, Opium poppy, national debt, Hom...     NaN    NaN   \n",
       "894743  Meningitis, Michigan appeals court, Michigan, ...     NaN    NaN   \n",
       "894744                                               None     NaN    NaN   \n",
       "894745                                               None     NaN    NaN   \n",
       "\n",
       "                       created_at  author_id  \\\n",
       "0      2018-01-25 16:17:44.789555         34   \n",
       "1      2018-01-25 16:17:44.789555         35   \n",
       "2      2018-01-25 16:17:44.789555         36   \n",
       "3      2018-01-25 16:17:44.789555         37   \n",
       "4      2018-01-25 16:17:44.789555         38   \n",
       "...                           ...        ...   \n",
       "894741 2018-01-01 15:13:06.815222    7981331   \n",
       "894742 2018-01-01 15:13:06.815222    7981340   \n",
       "894743 2018-01-01 15:13:06.815222    7981349   \n",
       "894744 2018-01-01 15:13:06.815222    7982299   \n",
       "894745 2018-01-01 15:13:06.815222    7990100   \n",
       "\n",
       "                                                 username  \\\n",
       "0                                       The Pirate'S Cove   \n",
       "1                                                    None   \n",
       "2                                                    None   \n",
       "3                                    Jackie Morris Artist   \n",
       "4                                Phoenix Capital Research   \n",
       "...                                                   ...   \n",
       "894741                                               None   \n",
       "894742                                               None   \n",
       "894743                                               None   \n",
       "894744  Joe W., Cm Sackett, David Robertson, Cathleen ...   \n",
       "894745  Robert Rivera, Michael Rodriguez, Haha, Rock H...   \n",
       "\n",
       "                                                tweet_url  \\\n",
       "0       http://beforeitsnews.com/opinion-conservative/...   \n",
       "1       http://beforeitsnews.com/politics/2018/01/wate...   \n",
       "2       http://beforeitsnews.com/politics/2018/01/vete...   \n",
       "3       http://beforeitsnews.com/arts/2018/01/lost-wor...   \n",
       "4       http://beforeitsnews.com/financial-markets/201...   \n",
       "...                                                   ...   \n",
       "894741  https://theinternetpost.net/2017/12/13/nra-sil...   \n",
       "894742    https://theinternetpost.net/category/economics/   \n",
       "894743          https://theinternetpost.net/tag/vaccines/   \n",
       "894744  http://therightscoop.com/rush-reads-the-obama-...   \n",
       "894745  http://therightscoop.com/obama-plays-politics-...   \n",
       "\n",
       "                                                     text  \n",
       "0       Headline: Bitcoin & Blockchain Searches Exceed...  \n",
       "1       Water Cooler 1/25/18 Open Thread; Fake News ? ...  \n",
       "2       Veteran Commentator Calls Out the Growing “Eth...  \n",
       "3       Lost Words, Hidden Words, Otters, Banks and Bo...  \n",
       "4       Red Alert: Bond Yields Are SCREAMING “Inflatio...  \n",
       "...                                                   ...  \n",
       "894741  The National Rifle Association (NRA), which fa...  \n",
       "894742  ‘Florida’s 3rd District Court of Appeal just c...  \n",
       "894743  The Institute for Justice estimates one out of...  \n",
       "894744  This is an instant classic. I call it the “Oba...  \n",
       "894745  This is unbelievable. The Obama administration...  \n",
       "\n",
       "[894746 rows x 22 columns]"
      ]
     },
     "execution_count": 20,
     "metadata": {},
     "output_type": "execute_result"
    }
   ],
   "source": [
    "df_tweets_raw_data"
   ]
  },
  {
   "cell_type": "markdown",
   "id": "6eeab83e-9443-4346-a0ac-9f8f2b77c299",
   "metadata": {},
   "source": [
    "### Inspecting the data"
   ]
  },
  {
   "cell_type": "code",
   "execution_count": 21,
   "id": "eaf8f810-5396-41cd-b6c2-56110362bea0",
   "metadata": {},
   "outputs": [
    {
     "name": "stdout",
     "output_type": "stream",
     "text": [
      "username:Jackie Morris Artist\n",
      "content:Lost Words, Hidden Words, Otters, Banks and Books\n",
      "\n",
      "% of readers think this story is Fact. Add your two cents.\n",
      "\n",
      "Headline: Bitcoin & Blockchain Searches Exceed Trump! Blockchain Stocks Are Next!\n",
      "\n",
      "Let me tell you something, about otters and money, books and banks.\n",
      "\n",
      "Wonderful news today as Jane Beaton’s crowd funding initiative gets an extra couple of weeks to raise it’s target. And because in the process of this learning curve Penguin Books came on board in a massive way that target has been massively reduced. Half way there. Hoping to push through to funding to see a copy of The Lost Words brought to every school in Scotland.\n",
      "\n",
      "To celebrate I want to auction this absolutely unique proof of the silk otter scarf, produced by Beckford Silk for Compton Verney. (It’s printed on paper, not silk. There may still be scarves for sale at Compton Verney. You could wrap yourself in otters.)\n",
      "\n",
      "A post shared by Jackie Morris (@jackiemorrisartist) on Jan 25, 2018 at 6:45am PST\n",
      "\n",
      "Anyway, this is a big piece of work that repeats three times the double page spread of tumbling otters from The Lost Words.\n",
      "\n",
      "The image is 33 cms high, so you can imagine how long it is. Colours are not true to the original, but it’s a curious and unusual thing. If the price gets high enough I will doodle a pencil otter or two in, and of course, sign it. It would look wonderful framed, although it is big.\n",
      "\n",
      "To bid, please place a comment on this posting. I will close the auction on 5th Feb, not sure what time. Sorry if the process is a bit ramshackled. I have to action the comments, so it takes time, and I’ve so much t do at the moment. Bids should be in £ sterling, but I am happy to post anywhere in this world and you can donate from overseas. You just have to do that before 8th Feb.\n",
      "\n",
      "If you win the auction I will ask you to donate the money directly to Jane’s amazing initiative to place a copy of The Lost Words in every primary school in Scotland.\n",
      "\n",
      "Here are some more images of the piece.\n",
      "\n",
      "Now, the initiative is for schools in Scotland, but there are some who would like to roll this out into the whole country. In Scotland, by coincidence, there are otters on the ten pound note. Two otters curling in play. I tried to find the name of the artist who drew the otters and found a whole back story about what is the most beautiful bank note I have seen. So many artists and crafts people worked on these notes, under the leadership of The Nile Team. Such attention to detail, even the tweed pattern is called the Dog Otter Tooth. Wild money. Why not use it to rewild the language of children.\n",
      "\n",
      "And the Scottish note has poetry and hidden lost words that are only visible under uv light. The first lines are clear,\n",
      "\n",
      "The cork that can’t be travels –\n",
      "\n",
      "Nose of a dog otter.\n",
      "\n",
      "The second two become visible only under uv light.\n",
      "\n",
      "It’s piped at, screamed at, sworn at\n",
      "\n",
      "By an elegant oystercatcher.\n",
      "\n",
      "Poetry against forgery.\n",
      "\n",
      "So please, bid generously. Leave your bid in the comments below, but be sure to read first. All bids have to be actioned by me, so sometimes there are cross overs.\n",
      "\n",
      "Otters are amongst my favourite animals, and both Robert and I were delighted to find ourselves on the shortlist for the Nations favourite Nature Book. I was especially pleased to be there alongside Tarka.\n",
      "\n",
      "Please share. And do have a look at the links to the otter’s story on the notes. It’s fascinating.\n",
      "\n",
      "Bidding starts at £100.\n",
      "\n",
      "The post Lost Words, Hidden Words, Otters, Banks and Books appeared first on Jackie Morris Artist.\n",
      "\n",
      "Source: http://www.jackiemorris.co.uk/blog/lost-words-hidden-words-otters-banks-books/\n",
      "tweet_url:http://beforeitsnews.com/arts/2018/01/lost-words-hidden-words-otters-banks-and-books-2507447.html\n"
     ]
    }
   ],
   "source": [
    "inspected_row = 3\n",
    "print('username:' + df_tweets_raw_data.loc[inspected_row, 'username'])\n",
    "print('content:' + df_tweets_raw_data.loc[inspected_row, 'content'])\n",
    "print('tweet_url:' + df_tweets_raw_data.loc[inspected_row, 'tweet_url'])"
   ]
  },
  {
   "cell_type": "markdown",
   "id": "8d53ac4d-1f9f-4004-9ba6-26a7025f2cb9",
   "metadata": {},
   "source": [
    "### Creating the output file"
   ]
  },
  {
   "cell_type": "code",
   "execution_count": 22,
   "id": "b36d7e86-60f5-4efc-a78e-97f9b31b56f5",
   "metadata": {},
   "outputs": [],
   "source": [
    "df_tweets_raw_data[['created_at', 'author_id', 'username', 'tweet_url', 'text']].to_json(output_filename, orient='records', lines=True)"
   ]
  },
  {
   "cell_type": "code",
   "execution_count": null,
   "id": "0e95caa5-00aa-4bc6-bbc1-4386daadd806",
   "metadata": {},
   "outputs": [],
   "source": []
  }
 ],
 "metadata": {
  "kernelspec": {
   "display_name": "Python 3 (ipykernel)",
   "language": "python",
   "name": "python3"
  },
  "language_info": {
   "codemirror_mode": {
    "name": "ipython",
    "version": 3
   },
   "file_extension": ".py",
   "mimetype": "text/x-python",
   "name": "python",
   "nbconvert_exporter": "python",
   "pygments_lexer": "ipython3",
   "version": "3.11.8"
  }
 },
 "nbformat": 4,
 "nbformat_minor": 5
}
